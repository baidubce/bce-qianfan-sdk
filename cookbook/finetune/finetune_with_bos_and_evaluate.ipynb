{
 "cells": [
  {
   "attachments": {},
   "cell_type": "markdown",
   "metadata": {},
   "source": [
    "# 直接使用bos进行sft并进行评估\n",
    "\n",
    "<span style=\"font-size: 20px; font-weight: bold;\">注意：您使用该案例默认的数据和模型训练时，会产生一定费用。计费方式参考：https://cloud.baidu.com/doc/WENXINWORKSHOP/s/6lrk4bgxb</span>\n",
    "\n",
    "千帆Python SDK 现已支持直接使用bos进行训练，无需通过千帆平台中转。\n",
    "\n",
    "本文将基于qianfan==0.3.0展示通过bos进行sft训练，并使用微调后的模型进行评估。"
   ]
  },
  {
   "cell_type": "code",
   "execution_count": null,
   "metadata": {
    "tags": [
     "cell_skip"
    ]
   },
   "outputs": [],
   "source": [
    "! pip install \"qianfan>=0.3.0\" -U"
   ]
  },
  {
   "attachments": {},
   "cell_type": "markdown",
   "metadata": {},
   "source": [
    "## 前置准备\n",
    "- 初始化千帆安全认证AK、SK"
   ]
  },
  {
   "cell_type": "code",
   "execution_count": 13,
   "metadata": {},
   "outputs": [],
   "source": [
    "import os \n",
    "\n",
    "os.environ[\"QIANFAN_ACCESS_KEY\"] = \"your_ak\"\n",
    "os.environ[\"QIANFAN_SECRET_KEY\"] = \"your_sk\""
   ]
  },
  {
   "cell_type": "markdown",
   "metadata": {},
   "source": [
    "## 数据集加载\n",
    "\n",
    "千帆SDK提供了数据集实现帮助我们可以快速的加载本地的数据集到内存，并通过设定DataSource数据源以保存至本地\\千帆平台\\bos。"
   ]
  },
  {
   "attachments": {},
   "cell_type": "markdown",
   "metadata": {},
   "source": [
    "从本地数据集上传到BOS"
   ]
  },
  {
   "cell_type": "code",
   "execution_count": null,
   "metadata": {
    "tags": [
     "parameter_bos_bucket_name",
     "parameter_bos_bucket_file_path"
    ]
   },
   "outputs": [],
   "source": [
    "from qianfan.dataset import Dataset\n",
    "from qianfan.dataset.data_source import BosDataSource\n",
    "from qianfan.dataset.data_source.base import FormatType\n",
    "\n",
    "bos_bucket_name = \"your_bucket_name\"\n",
    "bos_bucket_file_path = \"test\"\n",
    "\n",
    "bds = BosDataSource(region=\"bj\", bucket=bos_bucket_name, bos_file_path=f\"/{bos_bucket_file_path}/train_data.jsonl\")\n",
    "\n",
    "ds = Dataset.load(data_file=\"./data/fin_cqa_train.jsonl\")\n",
    "ds.save(bds, should_overwrite_existed_file=True)"
   ]
  },
  {
   "attachments": {},
   "cell_type": "markdown",
   "metadata": {},
   "source": [
    "### LLMFinetune 训练\n",
    "`LLMFinetune` 实现了SFT逻辑的trainer，它内部组装了SFT所需要的基本`Pipeline`, 用于串联数据->训练->模型发布->服务调用等步骤"
   ]
  },
  {
   "cell_type": "markdown",
   "metadata": {},
   "source": [
    "目前Dataset支持从bos读取数据，因此可以很方便的进行finetune。"
   ]
  },
  {
   "cell_type": "code",
   "execution_count": 21,
   "metadata": {},
   "outputs": [
    {
     "name": "stderr",
     "output_type": "stream",
     "text": [
      "[INFO] [02-01 17:59:41] bos.py:229 [t:139840090355520]: cache was outdated, start to update bos cache\n",
      "[INFO] [02-01 17:59:42] bos.py:243 [t:139840090355520]: ready to fetch a file from bos path: /data/train_data.jsonl in bucket sdk-test\n"
     ]
    }
   ],
   "source": [
    "from qianfan.trainer import LLMFinetune\n",
    "\n",
    "# 首先需要先加载测试数据集，这里以加载bos上的数据集为例子：\n",
    "# 使用bos训练有两种方法，一种是传入bos数据集，一种是直接传入bos路径，这里我们使用bos数据集为例\n",
    "\n",
    "bos_ds = Dataset.load(bds,file_format=FormatType.Jsonl)\n",
    "\n",
    "trainer = LLMFinetune(\n",
    "    train_type=\"ERNIE-Speed-8K\",\n",
    "    # dataset_bos_path=f\"bos:/{bos_bucket_name}/{bos_bucket_file_path}\",\n",
    "    dataset=bos_ds\n",
    ")"
   ]
  },
  {
   "attachments": {},
   "cell_type": "markdown",
   "metadata": {},
   "source": [
    "### 运行任务\n",
    "同步运行trainer，训练直到模型发布完成"
   ]
  },
  {
   "cell_type": "code",
   "execution_count": 23,
   "metadata": {},
   "outputs": [
    {
     "name": "stderr",
     "output_type": "stream",
     "text": [
      "[INFO] [02-01 17:59:51] actions.py:468 [t:139840090355520]: [train_action] fine-tune running... task_name:turbo_0725_S3GYG current status: RUNNING, 1% check train task log in https://console.bce.baidu.com/qianfan/train/sft/job-cyihskbbi7kg/task-qq8pj4txzjvq/detail/traininglog\n",
      "[INFO] [02-01 18:00:22] actions.py:468 [t:139840090355520]: [train_action] fine-tune running... task_name:turbo_0725_S3GYG current status: RUNNING, 1% check train task log in https://console.bce.baidu.com/qianfan/train/sft/job-cyihskbbi7kg/task-qq8pj4txzjvq/detail/traininglog\n",
      "[INFO] [02-01 18:00:52] actions.py:468 [t:139840090355520]: [train_action] fine-tune running... task_name:turbo_0725_S3GYG current status: RUNNING, 3% check train task log in https://console.bce.baidu.com/qianfan/train/sft/job-cyihskbbi7kg/task-qq8pj4txzjvq/detail/traininglog\n",
      "[INFO] [02-01 18:01:23] actions.py:468 [t:139840090355520]: [train_action] fine-tune running... task_name:turbo_0725_S3GYG current status: RUNNING, 3% check train task log in https://console.bce.baidu.com/qianfan/train/sft/job-cyihskbbi7kg/task-qq8pj4txzjvq/detail/traininglog\n"
     ]
    }
   ],
   "source": [
    "trainer.run()\n",
    "print(trainer.result)"
   ]
  },
  {
   "attachments": {},
   "cell_type": "markdown",
   "metadata": {},
   "source": [
    "获取finetune任务输出："
   ]
  },
  {
   "cell_type": "code",
   "execution_count": 18,
   "metadata": {},
   "outputs": [
    {
     "data": {
      "text/plain": [
       "[{'task_id': 19061,\n",
       "  'job_id': 11630,\n",
       "  'model_id': 'am-p02p43it6pqt',\n",
       "  'model_version_id': 'amv-vge90genq6ed',\n",
       "  'model': <qianfan.model.model.Model at 0x7fe0ea0f95e0>}]"
      ]
     },
     "execution_count": 18,
     "metadata": {},
     "output_type": "execute_result"
    }
   ],
   "source": [
    "trainer.result"
   ]
  },
  {
   "cell_type": "markdown",
   "metadata": {},
   "source": [
    "从训练结果中获取模型对象"
   ]
  },
  {
   "cell_type": "code",
   "execution_count": 2,
   "metadata": {},
   "outputs": [],
   "source": [
    "from qianfan.model import Model\n",
    "\n",
    "m = trainer.result[0]['model']\n",
    "m.auto_complete_info()"
   ]
  },
  {
   "cell_type": "markdown",
   "metadata": {},
   "source": [
    "在完成模型的微调后，我们可以使用它来实现千帆平台评估任务：\n",
    "\n",
    "首先获取/创建千帆平台待评估的测试集："
   ]
  },
  {
   "cell_type": "code",
   "execution_count": null,
   "metadata": {
    "tags": [
     "random_qianfan_dataset_name"
    ]
   },
   "outputs": [
    {
     "data": {
      "text/plain": [
       "True"
      ]
     },
     "execution_count": 3,
     "metadata": {},
     "output_type": "execute_result"
    }
   ],
   "source": [
    "import os\n",
    "from qianfan.dataset import Dataset\n",
    "from qianfan.resources.console.consts import V2\n",
    "\n",
    "qianfan_dataset_name = \"random_fin_cqa_test\"\n",
    "\n",
    "qianfan_ds = Dataset.load(data_file=\"./data/fin_cqa_test.jsonl\")\n",
    "\n",
    "qianfan_ds = qianfan_ds.save(\n",
    "    qianfan_dataset_create_args={\n",
    "        \"name\": qianfan_dataset_name,\n",
    "        \"dataset_format\": V2.DatasetFormat.PromptResponse,\n",
    "        \"storage_type\": V2.StorageType.Bos,\n",
    "        \"storage_path\": f'bos://{bos_bucket_name}/{bos_bucket_file_path}',\n",
    "    },\n",
    "    does_release=True,\n",
    ")"
   ]
  },
  {
   "cell_type": "markdown",
   "metadata": {},
   "source": [
    "接着实例化评估器，分别是\n",
    "+ `QianfanRefereeEvaluator`: 千帆平台的裁判员评估器，使用大模型对被评估大模型的回答打分，可以自定打分 prompt，打分步骤等信息，需要app_id\n",
    "+ `QianfanRuleEvaluator`: 千帆平台的规则评估器，会根据评估结果计算出一系列统计指标\n"
   ]
  },
  {
   "cell_type": "code",
   "execution_count": null,
   "metadata": {
    "tags": [
     "parameter_user_app_id"
    ]
   },
   "outputs": [],
   "source": [
    "from qianfan.evaluation.evaluator import QianfanRefereeEvaluator, QianfanRuleEvaluator\n",
    "from qianfan.evaluation.consts import QianfanRefereeEvaluatorDefaultMetrics, QianfanRefereeEvaluatorDefaultSteps, QianfanRefereeEvaluatorDefaultMaxScore\n",
    "\n",
    "\n",
    "qianfan_evaluators = [\n",
    "    QianfanRefereeEvaluator(\n",
    "        prompt_metrics=QianfanRefereeEvaluatorDefaultMetrics,\n",
    "        prompt_steps=QianfanRefereeEvaluatorDefaultSteps,\n",
    "        prompt_max_score=QianfanRefereeEvaluatorDefaultMaxScore,\n",
    "    ),\n",
    "    QianfanRuleEvaluator(using_accuracy=True, using_similarity=True),\n",
    "]"
   ]
  },
  {
   "cell_type": "markdown",
   "metadata": {},
   "source": [
    "通过`EvaluationManager.eval`方法，我们可以将需要评估的`Model`以及`Dataset`传入，即可发起评估："
   ]
  },
  {
   "cell_type": "code",
   "execution_count": 6,
   "metadata": {},
   "outputs": [],
   "source": [
    "from qianfan.evaluation import EvaluationManager\n",
    "\n",
    "em = EvaluationManager(qianfan_evaluators=qianfan_evaluators)\n",
    "result = em.eval([m], qianfan_ds)"
   ]
  }
 ],
 "metadata": {
  "kernelspec": {
   "display_name": "base",
   "language": "python",
   "name": "python3"
  },
  "language_info": {
   "codemirror_mode": {
    "name": "ipython",
    "version": 3
   },
   "file_extension": ".py",
   "mimetype": "text/x-python",
   "name": "python",
   "nbconvert_exporter": "python",
   "pygments_lexer": "ipython3",
   "version": "3.9.13"
  },
  "orig_nbformat": 4,
  "vscode": {
   "interpreter": {
    "hash": "58f7cb64c3a06383b7f18d2a11305edccbad427293a2b4afa7abe8bfc810d4bb"
   }
  }
 },
 "nbformat": 4,
 "nbformat_minor": 2
}
