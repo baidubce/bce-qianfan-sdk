{
 "cells": [
  {
   "attachments": {},
   "cell_type": "markdown",
   "metadata": {},
   "source": [
    "# Trainer\n",
    "千帆Python SDK 在使用[resource API实现发起训练微调](./console-finetune.ipynb)之外，还提供了Trainer API，可以更方便地实现一体化的训练微调pipeline。同时提供了状态事件回调函数的注册，通过事件分发实现训练流程状态事件的监控。\n",
    "\n",
    "\n",
    "本例将基于qianfan==0.2.1展示通过Dataset加载本地数据集，并上传到千帆平台，基于ERNIE-Bot-turbo进行fine-tune，直到最终完成服务发布，并最终实现服务调用的完整过程。"
   ]
  },
  {
   "attachments": {},
   "cell_type": "markdown",
   "metadata": {},
   "source": [
    "## 前置准备\n",
    "- 初始化千帆安全认证AK、SK"
   ]
  },
  {
   "cell_type": "code",
   "execution_count": 19,
   "metadata": {},
   "outputs": [],
   "source": [
    "import os \n",
    "\n",
    "os.environ[\"QIANFAN_ACCESS_KEY\"] = \"your_ak\"\n",
    "os.environ[\"QIANFAN_SECRET_KEY\"] = \"your_sk\""
   ]
  },
  {
   "cell_type": "markdown",
   "metadata": {},
   "source": [
    "## 数据集加载\n",
    "\n",
    "千帆SDK提供了数据集实现帮助我们可以快速的加载本地的数据集到内存，并通过设定DataSource数据源以保存至本地和千帆平台。"
   ]
  },
  {
   "cell_type": "code",
   "execution_count": null,
   "metadata": {},
   "outputs": [],
   "source": [
    "from qianfan.dataset import Dataset\n",
    "from qianfan.trainer import LLMFinetune\n",
    "\n",
    "# 加载本地数据集\n",
    "ds: Dataset = Dataset.load(data_file=\"./data/fin_cqa_train.jsonl\")\n",
    "ds.list()"
   ]
  },
  {
   "cell_type": "code",
   "execution_count": 22,
   "metadata": {},
   "outputs": [
    {
     "data": {
      "text/plain": [
       "True"
      ]
     },
     "execution_count": 22,
     "metadata": {},
     "output_type": "execute_result"
    }
   ],
   "source": [
    "# 保存到千帆平台\n",
    "from qianfan.dataset import QianfanDataSource\n",
    "from qianfan.resources.console import consts as console_consts\n",
    "\n",
    "bos_bucket_name = \"qianfanhj\"\n",
    "bos_bucket_file_path = \"/aaa/\"\n",
    "\n",
    "\n",
    "# 创建千帆数据集，并上传保存\n",
    "qianfan_data_source = QianfanDataSource.create_bare_dataset(\n",
    "    name=\"sdk_trainer_ds_10\",\n",
    "    template_type=console_consts.DataTemplateType.NonSortedConversation,\n",
    "    storage_type=console_consts.DataStorageType.PrivateBos,\n",
    "    storage_id=bos_bucket_name,\n",
    "    storage_path=bos_bucket_file_path,\n",
    ")\n",
    "\n",
    "ds.save(qianfan_data_source, replace_source=True)"
   ]
  },
  {
   "cell_type": "code",
   "execution_count": 24,
   "metadata": {},
   "outputs": [],
   "source": [
    "# 对于需要在训练过程中监控每个阶段的各个节点的用户，可以通过事件回调函数来实现\n",
    "from qianfan.trainer.consts import ActionState, ServiceType\n",
    "from qianfan.resources.console import consts as console_consts\n",
    "from qianfan.trainer.configs import TrainConfig\n",
    "from qianfan.trainer.base import Pipeline\n",
    "from qianfan.trainer.model import Service, DeployConfig\n",
    "from qianfan.resources import QfMessages\n",
    "from qianfan.trainer import LLMFinetune\n",
    "from typing import cast"
   ]
  },
  {
   "attachments": {},
   "cell_type": "markdown",
   "metadata": {},
   "source": [
    "### LLMFinetune 训练\n",
    "`LLMFinetune` 实现了SFT逻辑的trainer，它内部组装了SFT所需要的基本`Pipeline`, 用于串联数据->训练->模型发布->服务调用等步骤"
   ]
  },
  {
   "cell_type": "code",
   "execution_count": 26,
   "metadata": {},
   "outputs": [],
   "source": [
    "trainer = LLMFinetune(\n",
    "    train_type=\"ERNIE-Bot-turbo-0516\",\n",
    "    dataset=ds,\n",
    "    deploy_config=DeployConfig(\n",
    "        name=\"fin_eb_04\",\n",
    "        replicas=1,\n",
    "        pool_type=console_consts.DeployPoolType.PrivateResource,\n",
    "        service_type=ServiceType.Chat,\n",
    "    ),\n",
    ")"
   ]
  },
  {
   "cell_type": "code",
   "execution_count": null,
   "metadata": {},
   "outputs": [],
   "source": [
    "trainer.run()"
   ]
  },
  {
   "cell_type": "code",
   "execution_count": 17,
   "metadata": {},
   "outputs": [
    {
     "name": "stderr",
     "output_type": "stream",
     "text": [
      "[WARNING] [12-01 18:25:19] model.py:355 [t:8446122816]: service status unknown, service could be unavailable.\n"
     ]
    },
    {
     "name": "stdout",
     "output_type": "stream",
     "text": [
      "sft 供给增加导致市场价格下降"
     ]
    }
   ],
   "source": [
    "### 使用Model & Service调用模型\n",
    "from qianfan.trainer import Model, Service\n",
    "res = trainer.result\n",
    "problem=\"下文中有哪些因果事件？无取向硅钢广泛应用于铁芯等电机零部件其产量的持续提升导致市场竞争愈发激烈，价格进一步降低，从而有效减少新能源汽车驱动电机行业内企业的成本支出\"\n",
    "sft_svc = res[0][\"service\"]\n",
    "print(\"sft\", svc.exec({\"messages\": [{\"content\": problem, \"role\": \"user\"}]})[\"result\"])"
   ]
  },
  {
   "cell_type": "code",
   "execution_count": 18,
   "metadata": {},
   "outputs": [
    {
     "name": "stderr",
     "output_type": "stream",
     "text": [
      "[WARNING] [12-01 18:25:21] model.py:355 [t:8446122816]: service status unknown, service could be unavailable.\n"
     ]
    },
    {
     "name": "stdout",
     "output_type": "stream",
     "text": [
      "origin: 因果事件：\n",
      "\n",
      "事件类型：应用\n",
      "- 事件触发词：应用于\n",
      "- 事件论元：\n",
      "  \t- 主体：无取向硅钢\n",
      "  \t- 客体：铁芯等电机零部件\n",
      "\n",
      "事件类型：产量提升\n",
      "- 事件触发词：持续提升\n",
      "\n",
      "事件类型：竞争加剧\n",
      "- 事件触发词：竞争愈发激烈\n",
      "- 原因：无取向硅钢产量持续提升\n",
      "\n",
      "事件类型：价格降低\n",
      "- 事件触发词：降低\n",
      "- 原因：市场竞争愈发激烈\n",
      "\n",
      "事件类型：成本减少\n",
      "- 事件触发词：减少\n",
      "- 主体：新能源汽车驱动电机行业内企业\n",
      "- 原因：价格进一步降低\n"
     ]
    }
   ],
   "source": [
    "svc = Service(model=\"ERNIE-Bot-turbo\", service_type=ServiceType.Chat)\n",
    "print(\"origin:\", svc.exec({\"messages\": [{\"content\": problem, \"role\": \"user\"}]})[\"result\"])"
   ]
  },
  {
   "attachments": {},
   "cell_type": "markdown",
   "metadata": {},
   "source": [
    "## EventHandler\n",
    "\n",
    "如果需要在训练过程中监控每个阶段的各个节点的状态，可以通过事件回调函数来实现，通过事件的对应的action_state可以获取当前的action的运行情况以实现对应的业务回调，插入自定义逻辑"
   ]
  },
  {
   "cell_type": "code",
   "execution_count": null,
   "metadata": {},
   "outputs": [],
   "source": [
    "from qianfan.trainer.event import Event, EventHandler\n",
    "\n",
    "testset: Dataset = Dataset.load(data_file=\"./data/fin_cqa_train.jsonl\")\n",
    "# 定义自己的EventHandler，并实现dispatch方法\n",
    "class InferAfterSFT(EventHandler):\n",
    "    target_action: str\n",
    "    def __init__(self, target_action: str) -> None:\n",
    "        super().__init__()\n",
    "        self.target_action = target_action\n",
    "\n",
    "    def dispatch(self, event: Event) -> None:\n",
    "        print(\"receive: <\", event)\n",
    "        if self.target_action == event.action_id and event.action_state == ActionState.Done:\n",
    "            svc = cast(Service, event.data[\"service\"])\n",
    "            print(\"svc\", svc)\n",
    "            for row in testset.list():\n",
    "                msgs = QfMessages()\n",
    "                msgs.append(row[0][0][\"prompt\"], \"user\")\n",
    "                svc.exec({\"messages\":\"msgs\"})\n",
    "                print(\"row infer result\", row)\n",
    "            \n",
    "\n",
    "eh = InferAfterSFT(target_action=trainer.ppls[0].id)\n",
    "trainer.register_event_handler(eh)\n",
    "trainer.run()"
   ]
  }
 ],
 "metadata": {
  "kernelspec": {
   "display_name": "base",
   "language": "python",
   "name": "python3"
  },
  "language_info": {
   "codemirror_mode": {
    "name": "ipython",
    "version": 3
   },
   "file_extension": ".py",
   "mimetype": "text/x-python",
   "name": "python",
   "nbconvert_exporter": "python",
   "pygments_lexer": "ipython3",
   "version": "3.11.5"
  },
  "orig_nbformat": 4,
  "vscode": {
   "interpreter": {
    "hash": "58f7cb64c3a06383b7f18d2a11305edccbad427293a2b4afa7abe8bfc810d4bb"
   }
  }
 },
 "nbformat": 4,
 "nbformat_minor": 2
}
