{
 "cells": [
  {
   "cell_type": "markdown",
   "source": [
    "# function call\n",
    "\n",
    "## 简介\n",
    "\n",
    "function_call，顾名思义，通过给大模型提供 function 的说明描述，以及对应的入参出参 schema，让大模型输出 function 调用策略，结合多轮对话，以最终实现一个复杂的任务。\n",
    "以下将以获取数据库中某类文件的数量为例子，通过调用千帆 Python SDK提供的 ERNIE-Bot 大模型以得到数据库中该语言的文件数量。\n",
    "\n",
    "## 准备\n",
    "\n",
    "本文使用了千帆 Python SDK中的 chat_completion 模块，该模块提供了与千帆对话引擎的交互接口，目前支持function call的模型有ERNIE-Bot与ERNIE-Bot4.0。"
   ],
   "metadata": {
    "collapsed": false
   },
   "id": "a2ef73d1b5366c1d"
  },
  {
   "cell_type": "markdown",
   "source": [
    "首先安装千帆 Python SDK"
   ],
   "metadata": {
    "collapsed": false
   },
   "id": "f37417f96d78b87e"
  },
  {
   "cell_type": "code",
   "outputs": [
    {
     "name": "stdout",
     "output_type": "stream",
     "text": [
      "Requirement already satisfied: qianfan in /Users/guoweiming/opt/anaconda3/lib/python3.9/site-packages (0.2.6)\r\n",
      "Requirement already satisfied: numpy>=1.22.0 in /Users/guoweiming/opt/anaconda3/lib/python3.9/site-packages (from qianfan) (1.26.3)\r\n",
      "Requirement already satisfied: pyarrow>=14.0.1 in /Users/guoweiming/opt/anaconda3/lib/python3.9/site-packages (from qianfan) (14.0.2)\r\n",
      "Requirement already satisfied: typing-extensions>=4.0.0 in /Users/guoweiming/opt/anaconda3/lib/python3.9/site-packages (from qianfan) (4.9.0)\r\n",
      "Requirement already satisfied: tenacity<9.0.0,>=8.2.3 in /Users/guoweiming/opt/anaconda3/lib/python3.9/site-packages (from qianfan) (8.2.3)\r\n",
      "Requirement already satisfied: pydantic-settings>=2.0.3 in /Users/guoweiming/opt/anaconda3/lib/python3.9/site-packages (from qianfan) (2.1.0)\r\n",
      "Requirement already satisfied: bce-python-sdk>=0.8.79 in /Users/guoweiming/opt/anaconda3/lib/python3.9/site-packages (from qianfan) (0.8.99)\r\n",
      "Requirement already satisfied: aiohttp>=3.7.0 in /Users/guoweiming/opt/anaconda3/lib/python3.9/site-packages (from qianfan) (3.9.1)\r\n",
      "Requirement already satisfied: typer>=0.9.0 in /Users/guoweiming/opt/anaconda3/lib/python3.9/site-packages (from qianfan) (0.9.0)\r\n",
      "Requirement already satisfied: requests>=2.24 in /Users/guoweiming/opt/anaconda3/lib/python3.9/site-packages (from qianfan) (2.31.0)\r\n",
      "Requirement already satisfied: rich>=13.0.0 in /Users/guoweiming/opt/anaconda3/lib/python3.9/site-packages (from qianfan) (13.7.0)\r\n",
      "Requirement already satisfied: pydantic>=2 in /Users/guoweiming/opt/anaconda3/lib/python3.9/site-packages (from qianfan) (2.5.3)\r\n",
      "Requirement already satisfied: aiolimiter>=1.1.0 in /Users/guoweiming/opt/anaconda3/lib/python3.9/site-packages (from qianfan) (1.1.0)\r\n",
      "Requirement already satisfied: python-dateutil<3.0.0,>=2.8.2 in /Users/guoweiming/opt/anaconda3/lib/python3.9/site-packages (from qianfan) (2.8.2)\r\n",
      "Requirement already satisfied: aiosignal>=1.1.2 in /Users/guoweiming/opt/anaconda3/lib/python3.9/site-packages (from aiohttp>=3.7.0->qianfan) (1.3.1)\r\n",
      "Requirement already satisfied: frozenlist>=1.1.1 in /Users/guoweiming/opt/anaconda3/lib/python3.9/site-packages (from aiohttp>=3.7.0->qianfan) (1.4.1)\r\n",
      "Requirement already satisfied: multidict<7.0,>=4.5 in /Users/guoweiming/opt/anaconda3/lib/python3.9/site-packages (from aiohttp>=3.7.0->qianfan) (6.0.4)\r\n",
      "Requirement already satisfied: yarl<2.0,>=1.0 in /Users/guoweiming/opt/anaconda3/lib/python3.9/site-packages (from aiohttp>=3.7.0->qianfan) (1.9.4)\r\n",
      "Requirement already satisfied: attrs>=17.3.0 in /Users/guoweiming/opt/anaconda3/lib/python3.9/site-packages (from aiohttp>=3.7.0->qianfan) (21.4.0)\r\n",
      "Requirement already satisfied: async-timeout<5.0,>=4.0 in /Users/guoweiming/opt/anaconda3/lib/python3.9/site-packages (from aiohttp>=3.7.0->qianfan) (4.0.3)\r\n",
      "Requirement already satisfied: six>=1.4.0 in /Users/guoweiming/opt/anaconda3/lib/python3.9/site-packages (from bce-python-sdk>=0.8.79->qianfan) (1.16.0)\r\n",
      "Requirement already satisfied: future>=0.6.0 in /Users/guoweiming/opt/anaconda3/lib/python3.9/site-packages (from bce-python-sdk>=0.8.79->qianfan) (0.18.2)\r\n",
      "Requirement already satisfied: pycryptodome>=3.8.0 in /Users/guoweiming/opt/anaconda3/lib/python3.9/site-packages (from bce-python-sdk>=0.8.79->qianfan) (3.19.1)\r\n",
      "Requirement already satisfied: pydantic-core==2.14.6 in /Users/guoweiming/opt/anaconda3/lib/python3.9/site-packages (from pydantic>=2->qianfan) (2.14.6)\r\n",
      "Requirement already satisfied: annotated-types>=0.4.0 in /Users/guoweiming/opt/anaconda3/lib/python3.9/site-packages (from pydantic>=2->qianfan) (0.6.0)\r\n",
      "Requirement already satisfied: python-dotenv>=0.21.0 in /Users/guoweiming/opt/anaconda3/lib/python3.9/site-packages (from pydantic-settings>=2.0.3->qianfan) (1.0.0)\r\n",
      "Requirement already satisfied: charset-normalizer<4,>=2 in /Users/guoweiming/opt/anaconda3/lib/python3.9/site-packages (from requests>=2.24->qianfan) (2.0.4)\r\n",
      "Requirement already satisfied: certifi>=2017.4.17 in /Users/guoweiming/opt/anaconda3/lib/python3.9/site-packages (from requests>=2.24->qianfan) (2022.9.24)\r\n",
      "Requirement already satisfied: idna<4,>=2.5 in /Users/guoweiming/opt/anaconda3/lib/python3.9/site-packages (from requests>=2.24->qianfan) (3.3)\r\n",
      "Requirement already satisfied: urllib3<3,>=1.21.1 in /Users/guoweiming/opt/anaconda3/lib/python3.9/site-packages (from requests>=2.24->qianfan) (1.26.11)\r\n",
      "Requirement already satisfied: pygments<3.0.0,>=2.13.0 in /Users/guoweiming/opt/anaconda3/lib/python3.9/site-packages (from rich>=13.0.0->qianfan) (2.17.2)\r\n",
      "Requirement already satisfied: markdown-it-py>=2.2.0 in /Users/guoweiming/opt/anaconda3/lib/python3.9/site-packages (from rich>=13.0.0->qianfan) (3.0.0)\r\n",
      "Requirement already satisfied: click<9.0.0,>=7.1.1 in /Users/guoweiming/opt/anaconda3/lib/python3.9/site-packages (from typer>=0.9.0->qianfan) (8.0.4)\r\n",
      "Requirement already satisfied: mdurl~=0.1 in /Users/guoweiming/opt/anaconda3/lib/python3.9/site-packages (from markdown-it-py>=2.2.0->rich>=13.0.0->qianfan) (0.1.2)\r\n"
     ]
    }
   ],
   "source": [
    "!pip install qianfan"
   ],
   "metadata": {
    "collapsed": false,
    "ExecuteTime": {
     "end_time": "2024-01-11T04:31:53.237739Z",
     "start_time": "2024-01-11T04:31:51.122238Z"
    }
   },
   "id": "5779c8b36b65d730",
   "execution_count": 1
  },
  {
   "cell_type": "markdown",
   "source": [
    "如果你已经安装了千帆 Python SDK，我们建议进行一次升级"
   ],
   "metadata": {
    "collapsed": false
   },
   "id": "6be113b751223200"
  },
  {
   "cell_type": "code",
   "outputs": [
    {
     "name": "stdout",
     "output_type": "stream",
     "text": [
      "Requirement already satisfied: qianfan in /Users/guoweiming/opt/anaconda3/lib/python3.9/site-packages (0.2.6)\r\n",
      "Requirement already satisfied: requests>=2.24 in /Users/guoweiming/opt/anaconda3/lib/python3.9/site-packages (from qianfan) (2.31.0)\r\n",
      "Requirement already satisfied: tenacity<9.0.0,>=8.2.3 in /Users/guoweiming/opt/anaconda3/lib/python3.9/site-packages (from qianfan) (8.2.3)\r\n",
      "Requirement already satisfied: aiohttp>=3.7.0 in /Users/guoweiming/opt/anaconda3/lib/python3.9/site-packages (from qianfan) (3.9.1)\r\n",
      "Requirement already satisfied: pydantic>=2 in /Users/guoweiming/opt/anaconda3/lib/python3.9/site-packages (from qianfan) (2.5.3)\r\n",
      "Requirement already satisfied: typing-extensions>=4.0.0 in /Users/guoweiming/opt/anaconda3/lib/python3.9/site-packages (from qianfan) (4.9.0)\r\n",
      "Requirement already satisfied: pydantic-settings>=2.0.3 in /Users/guoweiming/opt/anaconda3/lib/python3.9/site-packages (from qianfan) (2.1.0)\r\n",
      "Requirement already satisfied: python-dateutil<3.0.0,>=2.8.2 in /Users/guoweiming/opt/anaconda3/lib/python3.9/site-packages (from qianfan) (2.8.2)\r\n",
      "Requirement already satisfied: pyarrow>=14.0.1 in /Users/guoweiming/opt/anaconda3/lib/python3.9/site-packages (from qianfan) (14.0.2)\r\n",
      "Requirement already satisfied: numpy>=1.22.0 in /Users/guoweiming/opt/anaconda3/lib/python3.9/site-packages (from qianfan) (1.26.3)\r\n",
      "Requirement already satisfied: bce-python-sdk>=0.8.79 in /Users/guoweiming/opt/anaconda3/lib/python3.9/site-packages (from qianfan) (0.8.99)\r\n",
      "Requirement already satisfied: rich>=13.0.0 in /Users/guoweiming/opt/anaconda3/lib/python3.9/site-packages (from qianfan) (13.7.0)\r\n",
      "Requirement already satisfied: typer>=0.9.0 in /Users/guoweiming/opt/anaconda3/lib/python3.9/site-packages (from qianfan) (0.9.0)\r\n",
      "Requirement already satisfied: aiolimiter>=1.1.0 in /Users/guoweiming/opt/anaconda3/lib/python3.9/site-packages (from qianfan) (1.1.0)\r\n",
      "Requirement already satisfied: attrs>=17.3.0 in /Users/guoweiming/opt/anaconda3/lib/python3.9/site-packages (from aiohttp>=3.7.0->qianfan) (21.4.0)\r\n",
      "Requirement already satisfied: aiosignal>=1.1.2 in /Users/guoweiming/opt/anaconda3/lib/python3.9/site-packages (from aiohttp>=3.7.0->qianfan) (1.3.1)\r\n",
      "Requirement already satisfied: frozenlist>=1.1.1 in /Users/guoweiming/opt/anaconda3/lib/python3.9/site-packages (from aiohttp>=3.7.0->qianfan) (1.4.1)\r\n",
      "Requirement already satisfied: async-timeout<5.0,>=4.0 in /Users/guoweiming/opt/anaconda3/lib/python3.9/site-packages (from aiohttp>=3.7.0->qianfan) (4.0.3)\r\n",
      "Requirement already satisfied: yarl<2.0,>=1.0 in /Users/guoweiming/opt/anaconda3/lib/python3.9/site-packages (from aiohttp>=3.7.0->qianfan) (1.9.4)\r\n",
      "Requirement already satisfied: multidict<7.0,>=4.5 in /Users/guoweiming/opt/anaconda3/lib/python3.9/site-packages (from aiohttp>=3.7.0->qianfan) (6.0.4)\r\n",
      "Requirement already satisfied: pycryptodome>=3.8.0 in /Users/guoweiming/opt/anaconda3/lib/python3.9/site-packages (from bce-python-sdk>=0.8.79->qianfan) (3.19.1)\r\n",
      "Requirement already satisfied: six>=1.4.0 in /Users/guoweiming/opt/anaconda3/lib/python3.9/site-packages (from bce-python-sdk>=0.8.79->qianfan) (1.16.0)\r\n",
      "Requirement already satisfied: future>=0.6.0 in /Users/guoweiming/opt/anaconda3/lib/python3.9/site-packages (from bce-python-sdk>=0.8.79->qianfan) (0.18.2)\r\n",
      "Requirement already satisfied: annotated-types>=0.4.0 in /Users/guoweiming/opt/anaconda3/lib/python3.9/site-packages (from pydantic>=2->qianfan) (0.6.0)\r\n",
      "Requirement already satisfied: pydantic-core==2.14.6 in /Users/guoweiming/opt/anaconda3/lib/python3.9/site-packages (from pydantic>=2->qianfan) (2.14.6)\r\n",
      "Requirement already satisfied: python-dotenv>=0.21.0 in /Users/guoweiming/opt/anaconda3/lib/python3.9/site-packages (from pydantic-settings>=2.0.3->qianfan) (1.0.0)\r\n",
      "Requirement already satisfied: idna<4,>=2.5 in /Users/guoweiming/opt/anaconda3/lib/python3.9/site-packages (from requests>=2.24->qianfan) (3.3)\r\n",
      "Requirement already satisfied: urllib3<3,>=1.21.1 in /Users/guoweiming/opt/anaconda3/lib/python3.9/site-packages (from requests>=2.24->qianfan) (1.26.11)\r\n",
      "Requirement already satisfied: charset-normalizer<4,>=2 in /Users/guoweiming/opt/anaconda3/lib/python3.9/site-packages (from requests>=2.24->qianfan) (2.0.4)\r\n",
      "Requirement already satisfied: certifi>=2017.4.17 in /Users/guoweiming/opt/anaconda3/lib/python3.9/site-packages (from requests>=2.24->qianfan) (2022.9.24)\r\n",
      "Requirement already satisfied: markdown-it-py>=2.2.0 in /Users/guoweiming/opt/anaconda3/lib/python3.9/site-packages (from rich>=13.0.0->qianfan) (3.0.0)\r\n",
      "Requirement already satisfied: pygments<3.0.0,>=2.13.0 in /Users/guoweiming/opt/anaconda3/lib/python3.9/site-packages (from rich>=13.0.0->qianfan) (2.17.2)\r\n",
      "Requirement already satisfied: click<9.0.0,>=7.1.1 in /Users/guoweiming/opt/anaconda3/lib/python3.9/site-packages (from typer>=0.9.0->qianfan) (8.0.4)\r\n",
      "Requirement already satisfied: mdurl~=0.1 in /Users/guoweiming/opt/anaconda3/lib/python3.9/site-packages (from markdown-it-py>=2.2.0->rich>=13.0.0->qianfan) (0.1.2)\r\n"
     ]
    }
   ],
   "source": [
    "!pip install -U qianfan"
   ],
   "metadata": {
    "collapsed": false,
    "ExecuteTime": {
     "end_time": "2024-01-11T04:31:55.477829Z",
     "start_time": "2024-01-11T04:31:53.239479Z"
    }
   },
   "id": "f63d710881b0a4d8",
   "execution_count": 2
  },
  {
   "cell_type": "markdown",
   "source": [
    "初始化我们所需要的凭证"
   ],
   "metadata": {
    "collapsed": false
   },
   "id": "9e26bd0785ed4ddb"
  },
  {
   "cell_type": "code",
   "outputs": [],
   "source": [
    "# 初始化LLM\n",
    "import os\n",
    "\n",
    "# qianfan sdk 鉴权\n",
    "os.environ[\"QIANFAN_AK\"] = \"your_ak\"\n",
    "os.environ[\"QIANFAN_SK\"] = \"your_sk\""
   ],
   "metadata": {
    "collapsed": true,
    "ExecuteTime": {
     "end_time": "2024-01-11T04:31:55.481813Z",
     "start_time": "2024-01-11T04:31:55.477979Z"
    }
   },
   "id": "initial_id",
   "execution_count": 3
  },
  {
   "cell_type": "markdown",
   "source": [
    "自定义一个给chat调用的函数，此处以获取数据库中特定语言撰写的文件数量为例"
   ],
   "metadata": {
    "collapsed": false
   },
   "id": "164bd2b4bea750b3"
  },
  {
   "cell_type": "code",
   "outputs": [],
   "source": [
    "def get_file_num(language: str) -> str:\n",
    "    \"\"\"获取数据库中指定语言的代码文件数量\"\"\"\n",
    "    language_low = language.lower()\n",
    "    language_map = {\n",
    "        \"c/c++\": 35,\n",
    "        \"java\": 10,\n",
    "        \"javascript\": 25,\n",
    "        \"python\": 35,\n",
    "        \"go\": 32,\n",
    "    }\n",
    "    return str(language_map.get(language_low, 0))"
   ],
   "metadata": {
    "collapsed": false,
    "ExecuteTime": {
     "end_time": "2024-01-11T04:31:55.488644Z",
     "start_time": "2024-01-11T04:31:55.485183Z"
    }
   },
   "id": "9af388291ce5434b",
   "execution_count": 4
  },
  {
   "cell_type": "markdown",
   "source": [
    "描述函数调用策略\n",
    "其中，name为函数名称，description为函数描述，properties为入参schema，required为必填参数\n",
    "properties支持json schema格式，具体参考[json schema](https://json-schema.org/learn/getting-started-step-by-step.html\n"
   ],
   "metadata": {
    "collapsed": false
   },
   "id": "598094c5ec2b987c"
  },
  {
   "cell_type": "code",
   "outputs": [],
   "source": [
    "func_list = [{\n",
    "    \"name\": \"get_file_num\",  # 函数名称\n",
    "    \"description\": \"获取内部数据库中以某一编程语言编写的文件数量\",  # 函数描述\n",
    "    \"parameters\":{\n",
    "        \"type\":\"object\",\n",
    "        \"properties\":{  # 参数schema，如果参数为空，设为空字典即可\n",
    "            \"language\":{  # 参数名称\n",
    "                \"type\":\"string\",  # 参数类型\n",
    "                \"description\": \"代码所运用的编程语言，例如：python、c/c++、go、java\"  # 参数描述\n",
    "            }\n",
    "        },\n",
    "        \"required\":[\"language\"]  # 必填参数（无默认值）\n",
    "    }\n",
    "}]"
   ],
   "metadata": {
    "collapsed": false,
    "ExecuteTime": {
     "end_time": "2024-01-11T04:31:55.491824Z",
     "start_time": "2024-01-11T04:31:55.488704Z"
    }
   },
   "id": "e883e0b92ccecade",
   "execution_count": 5
  },
  {
   "cell_type": "markdown",
   "source": [
    "创建 chat_completion 对象,调用 do 方法进行交互"
   ],
   "metadata": {
    "collapsed": false
   },
   "id": "42435501fc3cf5af"
  },
  {
   "cell_type": "code",
   "outputs": [
    {
     "name": "stdout",
     "output_type": "stream",
     "text": []
    }
   ],
   "source": [
    "import qianfan,json\n",
    "\n",
    "chat_comp = qianfan.ChatCompletion(model=\"ERNIE-Bot\")  # 指定模型，目前ERNIE-Bot和ERNIE-Bot4.0支持function call\n",
    "query = \"请帮我查询一下数据库中用go撰写的代码文件数量\"\n",
    "msgs = [{\n",
    "    \"role\": \"user\",\n",
    "    \"content\": query\n",
    "}]\n",
    "resp = chat_comp.do(\n",
    "    messages=msgs,\n",
    "    functions = func_list\n",
    ")\n",
    "print(resp['body']['result'])"
   ],
   "metadata": {
    "collapsed": false,
    "ExecuteTime": {
     "end_time": "2024-01-11T04:31:58.447326Z",
     "start_time": "2024-01-11T04:31:55.492599Z"
    }
   },
   "id": "ff5886e76c5a572f",
   "execution_count": 6
  },
  {
   "cell_type": "markdown",
   "source": [
    "可以发现，此时chat的反馈为null，我们尝试打印返回值"
   ],
   "metadata": {
    "collapsed": false
   },
   "id": "91b0bcba42f3debe"
  },
  {
   "cell_type": "code",
   "outputs": [
    {
     "name": "stdout",
     "output_type": "stream",
     "text": [
      "QfResponse(code=200, headers={'Access-Control-Allow-Headers': 'Content-Type', 'Access-Control-Allow-Origin': '*', 'Appid': '26217442', 'Connection': 'keep-alive', 'Content-Encoding': 'gzip', 'Content-Type': 'application/json; charset=utf-8', 'Date': 'Thu, 11 Jan 2024 04:31:58 GMT', 'P3p': 'CP=\" OTI DSP COR IVA OUR IND COM \"', 'Server': 'Apache', 'Set-Cookie': 'BAIDUID=902FF76DAF722394B7DD3A38D36B64B8:FG=1; expires=Thu, 31-Dec-37 23:55:55 GMT; max-age=2145916555; path=/; domain=.baidu.com; version=1', 'Statement': 'AI-generated', 'Vary': 'Accept-Encoding', 'X-Aipe-Self-Def': 'eb_total_tokens:199,prompt_tokens:164,id:as-uujczinwy6', 'X-Baidu-Request-Id': 'sdk-py-0.2.6-42cHWIuT1CVSs6Lz', 'X-Openapi-Server-Timestamp': '1704947516', 'Content-Length': '361'}, body={'id': 'as-uujczinwy6', 'object': 'chat.completion', 'created': 1704947518, 'result': '', 'is_truncated': False, 'need_clear_history': False, 'function_call': {'name': 'get_file_num', 'thoughts': '用户想要查询数据库中用go撰写的代码文件数量，我可以使用get_file_num工具完成这一需求。', 'arguments': '{\"language\":\"go\"}'}, 'finish_reason': 'function_call', 'usage': {'prompt_tokens': 164, 'completion_tokens': 35, 'total_tokens': 199}}, statistic={'request_latency': 2.354446, 'total_latency': 2.3581280420000006})\n"
     ]
    }
   ],
   "source": [
    "print(resp)"
   ],
   "metadata": {
    "collapsed": false,
    "ExecuteTime": {
     "end_time": "2024-01-11T04:31:58.452799Z",
     "start_time": "2024-01-11T04:31:58.445786Z"
    }
   },
   "id": "9672df59be0cd560",
   "execution_count": 7
  },
  {
   "cell_type": "markdown",
   "source": [
    "从thoughts可见chat确定需要调用函数get_file_num，我们需要将反馈作为function输入来进行二次对话"
   ],
   "metadata": {
    "collapsed": false
   },
   "id": "20eb94c22810a6ea"
  },
  {
   "cell_type": "code",
   "outputs": [
    {
     "name": "stdout",
     "output_type": "stream",
     "text": [
      "根据查询，数据库中用Go撰写的代码文件数量为32个。如果您还有其他问题或需要进一步了解各文件的情况，请随时告诉我。\n"
     ]
    }
   ],
   "source": [
    "if func_call_result := resp.get(\"function_call\"):\n",
    "    # 获取函数名称、入参及返回值\n",
    "    func_name = func_call_result[\"name\"]\n",
    "    language = json.loads(func_call_result[\"arguments\"]).get(\"language\")\n",
    "    func_resp = get_file_num(language)\n",
    "    \n",
    "    # 将函数的入参与返回值组合成json字符串\n",
    "    func_content = json.dumps({\n",
    "        \"language\":language,\n",
    "        \"description\":func_resp\n",
    "    })\n",
    "    \n",
    "    # 创建新的消息\n",
    "    msgs.extend([{\n",
    "        \"role\":\"assistant\",\n",
    "        # \"content\":None,  # function_call非空时，content为空\n",
    "        \"function_call\": func_call_result  # 将函数返回值作为输入\n",
    "    },{\n",
    "        \"role\":\"function\",\n",
    "        \"name\":func_name,\n",
    "        \"content\":func_content\n",
    "    }])\n",
    "    \n",
    "    # 再次调用chat_completion\n",
    "    second_resp = chat_comp.do(\n",
    "        messages=msgs,\n",
    "        functions=func_list\n",
    "    )\n",
    "    \n",
    "    print(second_resp['body']['result'])"
   ],
   "metadata": {
    "collapsed": false,
    "ExecuteTime": {
     "end_time": "2024-01-11T04:32:01.908738Z",
     "start_time": "2024-01-11T04:31:58.453408Z"
    }
   },
   "id": "80a90a0b3061bb21",
   "execution_count": 8
  }
 ],
 "metadata": {
  "kernelspec": {
   "display_name": "Python 3",
   "language": "python",
   "name": "python3"
  },
  "language_info": {
   "codemirror_mode": {
    "name": "ipython",
    "version": 2
   },
   "file_extension": ".py",
   "mimetype": "text/x-python",
   "name": "python",
   "nbconvert_exporter": "python",
   "pygments_lexer": "ipython2",
   "version": "2.7.6"
  }
 },
 "nbformat": 4,
 "nbformat_minor": 5
}
