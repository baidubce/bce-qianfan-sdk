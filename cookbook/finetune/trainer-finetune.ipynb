{
 "cells": [
  {
   "attachments": {},
   "cell_type": "markdown",
   "metadata": {},
   "source": [
    "# Trainer\n",
    "千帆Python SDK 在使用[resource API实现发起训练微调](./console-finetune.ipynb)之外，还提供了Trainer API，可以更方便地实现一体化的训练微调pipeline。同时提供了状态事件回调函数的注册，通过事件分发实现训练流程状态事件的监控。\n",
    "\n",
    "\n",
    "本例将基于qianfan==0.2.1展示通过Dataset加载本地数据集，并上传到千帆平台，基于LLama-2-7b进行fine-tune，直到最终完成服务发布，并最终实现服务调用的完整过程。"
   ]
  },
  {
   "attachments": {},
   "cell_type": "markdown",
   "metadata": {},
   "source": [
    "## 前置准备\n",
    "- 初始化千帆安全认证AK、SK"
   ]
  },
  {
   "cell_type": "code",
   "execution_count": null,
   "metadata": {},
   "outputs": [],
   "source": [
    "import os \n",
    "\n",
    "os.environ[\"QIANFAN_ACCESS_KEY\"] = \"your_ak\"\n",
    "os.environ[\"QIANFAN_SECRET_KEY\"] = \"your_sk\""
   ]
  },
  {
   "cell_type": "markdown",
   "metadata": {},
   "source": [
    "## 数据集加载\n",
    "\n",
    "千帆SDK提供了数据集实现帮助我们可以快速的加载本地的数据集到内存，并通过设定DataSource数据源以保存至本地和千帆平台。"
   ]
  },
  {
   "cell_type": "code",
   "execution_count": null,
   "metadata": {},
   "outputs": [],
   "source": [
    "\n",
    "from qianfan.dataset import Dataset\n",
    "from qianfan.trainer import LLMFinetune\n",
    "\n",
    "# 加载本地数据集\n",
    "ds: Dataset = Dataset.load(data_file=\"./xx.jsonl\")\n",
    "\n",
    "ds.save()"
   ]
  },
  {
   "cell_type": "code",
   "execution_count": null,
   "metadata": {},
   "outputs": [],
   "source": [
    "# 对于需要在训练过程中监控每个阶段的各个节点的用户，可以通过事件回调函数来实现\n",
    "from qianfan.trainer.event import Event, EventHandler\n",
    "from qianfan.trainer.consts import ActionState\n",
    "from qianfan.resources.console import consts as console_consts\n",
    "from qianfan.trainer.configs import TrainConfig\n",
    "from qianfan.trainer.base import Pipeline\n",
    "from qianfan.trainer.model import Model, Service, DeployConfig\n",
    "from typing import cast\n",
    "\n",
    "# 定义自己的EventHandler，并实现dispatch方法\n",
    "class InferAfterSFT(EventHandler):\n",
    "    ppl: Pipeline\n",
    "    def dispatch(self, event: Event) -> None:\n",
    "        print(\"receive:<\", event)\n",
    "        if event.action_state == ActionState.Done:\n",
    "            svc = cast(Service, event.data[\"service\"])\n",
    "            \n",
    "trainer = LLMFinetune(\n",
    "    train_type=\"Llama-2-13b\",\n",
    "    dataset=ds,\n",
    "    train_config=TrainConfig(\n",
    "        epochs=1,\n",
    "        batch_size=1,\n",
    "        learning_rate=0.00002,\n",
    "    ),\n",
    "    deploy_config=DeployConfig(\n",
    "        name=\"fin_llama213b\",\n",
    "        replicas=1,\n",
    "        pool_type=console_consts.DeployPoolType.PrivateResource,\n",
    "    ),\n",
    ")\n",
    "eh = InferAfterSFT(trainer.ppls[0])\n",
    "trainer.register_event_handler(eh)\n",
    "trainer.run()\n",
    "\n"
   ]
  },
  {
   "cell_type": "code",
   "execution_count": null,
   "metadata": {},
   "outputs": [],
   "source": [
    "# 部署模型服务，使用Model，Service调用模型服务\n",
    "from qianfan.trainer import Model, Service\n",
    "from qianfan.trainer.configs import DeployConfig, TrainConfig\n",
    "from qianfan.resources.console import consts as console_consts\n",
    "# 对于自定义需求较强的用户，可以根据不同的模型传入不同的TrainConfig 以指定训练过程中的参数\n",
    "trainer = LLMFinetune(\n",
    "    train_type=\"ChatGLM2-6B\",\n",
    "    dataset=ds,\n",
    "    train_config=TrainConfig(\n",
    "        epochs=1, \n",
    "        batch_size=1, \n",
    "        learning_rate=0.00002, \n",
    "    ),\n",
    "    deploy_config=DeployConfig(\n",
    "        replicas=1,\n",
    "        pool_type=console_consts.DeployPoolType.PrivateResource,\n",
    "    )\n",
    ")\n",
    "trainer.run()\n",
    "\n",
    "res = trainer.result[0][\"\"]"
   ]
  },
  {
   "attachments": {},
   "cell_type": "markdown",
   "metadata": {},
   "source": [
    "## 自定义pipeline\n",
    "\n"
   ]
  },
  {
   "cell_type": "code",
   "execution_count": null,
   "metadata": {},
   "outputs": [],
   "source": []
  }
 ],
 "metadata": {
  "kernelspec": {
   "display_name": "base",
   "language": "python",
   "name": "python3"
  },
  "language_info": {
   "name": "python",
   "version": "3.11.5"
  },
  "orig_nbformat": 4,
  "vscode": {
   "interpreter": {
    "hash": "58f7cb64c3a06383b7f18d2a11305edccbad427293a2b4afa7abe8bfc810d4bb"
   }
  }
 },
 "nbformat": 4,
 "nbformat_minor": 2
}
