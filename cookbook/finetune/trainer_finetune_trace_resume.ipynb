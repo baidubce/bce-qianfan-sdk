{
 "cells": [
  {
   "attachments": {},
   "cell_type": "markdown",
   "metadata": {},
   "source": [
    "# Trainer\n",
    "千帆Python SDK 在使用[trainer 实现训练微调](./trainer_finetune_dataset2deploy.ipynb)的基础上，SDK还提供了灵活的事件回调、以及trainer的可恢复方式"
   ]
  },
  {
   "cell_type": "code",
   "execution_count": null,
   "metadata": {},
   "outputs": [],
   "source": [
    "! pip install \"qianfan>=0.2.2\" -U"
   ]
  },
  {
   "cell_type": "code",
   "execution_count": 1,
   "metadata": {},
   "outputs": [
    {
     "data": {
      "text/plain": [
       "'0.2.2'"
      ]
     },
     "execution_count": 1,
     "metadata": {},
     "output_type": "execute_result"
    }
   ],
   "source": [
    "import qianfan\n",
    "qianfan.__version__"
   ]
  },
  {
   "attachments": {},
   "cell_type": "markdown",
   "metadata": {},
   "source": [
    "## 前置准备\n",
    "- 初始化千帆安全认证AK、SK"
   ]
  },
  {
   "cell_type": "code",
   "execution_count": 2,
   "metadata": {},
   "outputs": [],
   "source": [
    "import os \n",
    "\n",
    "os.environ[\"QIANFAN_ACCESS_KEY\"] = \"your_ak\"\n",
    "os.environ[\"QIANFAN_SECRET_KEY\"] = \"your_sk\""
   ]
  },
  {
   "attachments": {},
   "cell_type": "markdown",
   "metadata": {},
   "source": [
    "#### 导入依赖\n",
    "- `qianfan.trainer.consts` trainer使用中所用到的常量\n",
    "- `qianfan.resources.console.consts` api层面定义的字段常量\n",
    "- `qianfan.trainer.configs` trainer使用所需要的config配置数据类\n",
    "- `qianfan.trainer.LLMFinetune` 大语言模型fine-tune任务Trainer实现\n",
    "- `qianfan.trainer.Service` service类，用于表示平台的模型服务，可以通过trainer.result获取\n",
    "- `qianfan.dataset.Dataset` 千帆dataset类，用于管理千帆平台、本地、第三方数据集的导入导出，数据清洗等操作"
   ]
  },
  {
   "cell_type": "code",
   "execution_count": null,
   "metadata": {},
   "outputs": [],
   "source": [
    "from qianfan.trainer.consts import ActionState, ServiceType\n",
    "from qianfan.resources.console import consts as console_consts\n",
    "from qianfan.trainer.configs import TrainConfig, DeployConfig\n",
    "from qianfan.resources import QfMessages\n",
    "from qianfan.trainer import LLMFinetune, Service\n",
    "from qianfan.dataset import Dataset\n",
    "from typing import cast\n",
    "from qianfan.utils import enable_log\n",
    "import logging\n",
    "\n",
    "enable_log(logging.INFO)"
   ]
  },
  {
   "attachments": {},
   "cell_type": "markdown",
   "metadata": {},
   "source": [
    "## EventHandler\n",
    "\n",
    "如果需要在训练过程中监控每个阶段的各个节点的状态，可以通过事件回调函数来实现，通过事件的对应的action_state可以获取当前的action的运行情况以实现对应的业务回调，插入自定义逻辑"
   ]
  },
  {
   "cell_type": "code",
   "execution_count": null,
   "metadata": {},
   "outputs": [],
   "source": [
    "from qianfan.trainer import Model\n",
    "from qianfan.dataset import Dataset\n",
    "\n",
    "# 首先需要先加载测试数据集，这里以加载平台预置数据集为例子：\n",
    "test_ds = Dataset.load(qianfan_dataset_id=15074, is_download_to_local=False)\n",
    "trainer = LLMFinetune(\n",
    "    train_type=\"ERNIE-Bot-turbo-0725\",\n",
    "    train_config=TrainConfig(\n",
    "        epoch=1,\n",
    "        learning_rate=0.0003,\n",
    "        max_seq_len=4096,\n",
    "        peft_type=\"LoRA\",\n",
    "    ),\n",
    "    dataset=ds,\n",
    ")"
   ]
  },
  {
   "cell_type": "code",
   "execution_count": null,
   "metadata": {},
   "outputs": [],
   "source": [
    "from qianfan.trainer.event import Event, EventHandler\n",
    "\n",
    "testset: Dataset = Dataset.load(data_file=\"./data/fin_cqa_test.jsonl\")\n",
    "# 定义自己的EventHandler，并实现dispatch方法\n",
    "class InferAfterSFT(EventHandler):\n",
    "    target_action: str\n",
    "    def __init__(self, target_action: str) -> None:\n",
    "        super().__init__()\n",
    "        self.target_action = target_action\n",
    "\n",
    "    def dispatch(self, event: Event) -> None:\n",
    "        print(\"receive: <\", event)\n",
    "        if self.target_action == event.action_id and event.action_state == ActionState.Done:\n",
    "            svc = cast(Service, event.data[\"service\"])\n",
    "            print(\"svc\", svc)\n",
    "            for row in testset.list():\n",
    "                msgs = QfMessages()\n",
    "                msgs.append(row[0][0][\"prompt\"], \"user\")\n",
    "                svc.exec({\"messages\":\"msgs\"})\n",
    "                print(\"row infer result\", row)\n",
    "            \n",
    "\n",
    "eh = InferAfterSFT(target_action=trainer.ppls[0].id)\n",
    "trainer.register_event_handler(eh)\n",
    "trainer.run()"
   ]
  },
  {
   "attachments": {},
   "cell_type": "markdown",
   "metadata": {},
   "source": [
    "### 任务恢复\n",
    "\n",
    "针对网络中断，服务不稳定等重试无法覆盖的场景，SDK提供了`resume()`以恢复训练过程，这里以LLMFinetune中断后恢复为例："
   ]
  },
  {
   "cell_type": "code",
   "execution_count": null,
   "metadata": {},
   "outputs": [
    {
     "name": "stderr",
     "output_type": "stream",
     "text": [
      "[DEBUG] [12-07 21:54:22] base.py:222 [t:139789057857344]: action[Pipeline][HFXZowejkt] Preceding\n",
      "[DEBUG] [12-07 21:54:22] base.py:222 [t:139789057857344]: action[LoadDataSetAction][LWOkl2YCun] Preceding\n",
      "[DEBUG] [12-07 21:54:22] actions.py:85 [t:139789057857344]: [load_dataset_action] prepare train-set\n",
      "[INFO] [12-07 21:54:28] data_source.py:1044 [t:139789057857344]: data releasing, keep rolling\n",
      "[INFO] [12-07 21:54:30] data_source.py:1044 [t:139789057857344]: data releasing, keep rolling\n",
      "[INFO] [12-07 21:54:33] data_source.py:1044 [t:139789057857344]: data releasing, keep rolling\n",
      "[INFO] [12-07 21:54:38] data_source.py:1044 [t:139789057857344]: data releasing, keep rolling\n",
      "[INFO] [12-07 21:54:41] data_source.py:1053 [t:139789057857344]: data releasing succeeded\n",
      "[DEBUG] [12-07 21:54:41] actions.py:91 [t:139789057857344]: [load_dataset_action] dataset loaded successfully\n",
      "[DEBUG] [12-07 21:54:41] base.py:226 [t:139789057857344]: action[LoadDataSetAction][LWOkl2YCun] Done\n",
      "[DEBUG] [12-07 21:54:41] base.py:222 [t:139789057857344]: action[TrainAction][F50ICFnguL] Preceding\n",
      "[DEBUG] [12-07 21:54:41] actions.py:309 [t:139789057857344]: [train_action] create fine-tune task: 17304\n",
      "[DEBUG] [12-07 21:54:43] actions.py:334 [t:139789057857344]: [train_action] create fine-tune job_id: 9077\n",
      "[INFO] [12-07 21:54:44] actions.py:352 [t:139789057857344]: [train_action] fine-tune running... current status: RUNNING, check vdl report in https://console.bce.baidu.com/qianfan/visualdl/index?displayToken=eyJydW5JZCI6InJ1bi10MnlzaWQ3NjE1Z3N0Zm11In0=\n",
      "[INFO] [12-07 21:55:14] actions.py:352 [t:139789057857344]: [train_action] fine-tune running... current status: RUNNING, check vdl report in https://console.bce.baidu.com/qianfan/visualdl/index?displayToken=eyJydW5JZCI6InJ1bi10MnlzaWQ3NjE1Z3N0Zm11In0=\n",
      "[INFO] [12-07 21:55:46] actions.py:352 [t:139789057857344]: [train_action] fine-tune running... current status: RUNNING, check vdl report in https://console.bce.baidu.com/qianfan/visualdl/index?displayToken=eyJydW5JZCI6InJ1bi10MnlzaWQ3NjE1Z3N0Zm11In0=\n",
      "[ERROR] [12-07 21:56:17] console_requestor.py:42 [t:139789057857344]: console api request failed with error code: 500002, err msg: auth failed, no access, please check the api doc\n"
     ]
    },
    {
     "ename": "APIError",
     "evalue": "api return error, code: 500002, msg: auth failed, no access",
     "output_type": "error",
     "traceback": [
      "\u001b[0;31m---------------------------------------------------------------------------\u001b[0m\n",
      "\u001b[0;31mAPIError\u001b[0m                                  Traceback (most recent call last)\n",
      "Cell \u001b[0;32mIn[6], line 1\u001b[0m\n",
      "\u001b[0;32m----> 1\u001b[0m trainer\u001b[39m.\u001b[39mrun()\n",
      "\n",
      "File \u001b[0;32m/data/anaconda3/lib/python3.11/site-packages/qianfan/trainer/finetune.py:173\u001b[0m, in \u001b[0;36mLLMFinetune.run\u001b[0;34m(self, **kwargs)\u001b[0m\n",
      "\u001b[1;32m    167\u001b[0m kwargs[\u001b[39m\"\u001b[39m\u001b[39mbackoff_factor\u001b[39m\u001b[39m\"\u001b[39m] \u001b[39m=\u001b[39m kwargs\u001b[39m.\u001b[39mget(\n",
      "\u001b[1;32m    168\u001b[0m     \u001b[39m\"\u001b[39m\u001b[39mbackoff_factor\u001b[39m\u001b[39m\"\u001b[39m, get_config()\u001b[39m.\u001b[39mTRAINER_STATUS_POLLING_BACKOFF_FACTOR\n",
      "\u001b[1;32m    169\u001b[0m )\n",
      "\u001b[1;32m    170\u001b[0m kwargs[\u001b[39m\"\u001b[39m\u001b[39mretry_count\u001b[39m\u001b[39m\"\u001b[39m] \u001b[39m=\u001b[39m kwargs\u001b[39m.\u001b[39mget(\n",
      "\u001b[1;32m    171\u001b[0m     \u001b[39m\"\u001b[39m\u001b[39mretry_count\u001b[39m\u001b[39m\"\u001b[39m, get_config()\u001b[39m.\u001b[39mTRAINER_STATUS_POLLING_RETRY_TIMES\n",
      "\u001b[1;32m    172\u001b[0m )\n",
      "\u001b[0;32m--> 173\u001b[0m \u001b[39mself\u001b[39m\u001b[39m.\u001b[39mresult[\u001b[39m0\u001b[39m] \u001b[39m=\u001b[39m \u001b[39mself\u001b[39m\u001b[39m.\u001b[39mppls[\u001b[39m0\u001b[39m]\u001b[39m.\u001b[39mexec(\u001b[39m*\u001b[39m\u001b[39m*\u001b[39mkwargs)\n",
      "\u001b[1;32m    174\u001b[0m \u001b[39mreturn\u001b[39;00m \u001b[39mself\u001b[39m\n",
      "\n",
      "File \u001b[0;32m/data/anaconda3/lib/python3.11/site-packages/qianfan/trainer/base.py:224\u001b[0m, in \u001b[0;36mwith_event.<locals>.wrapper\u001b[0;34m(self, **kwargs)\u001b[0m\n",
      "\u001b[1;32m    222\u001b[0m log_debug(\u001b[39mf\u001b[39m\u001b[39m\"\u001b[39m\u001b[39maction[\u001b[39m\u001b[39m{\u001b[39;00m\u001b[39mself\u001b[39m\u001b[39m.\u001b[39m\u001b[39m__class__\u001b[39m\u001b[39m.\u001b[39m\u001b[39m__name__\u001b[39m\u001b[39m}\u001b[39;00m\u001b[39m][\u001b[39m\u001b[39m{\u001b[39;00m\u001b[39mself\u001b[39m\u001b[39m.\u001b[39mid\u001b[39m}\u001b[39;00m\u001b[39m] Preceding\u001b[39m\u001b[39m\"\u001b[39m)\n",
      "\u001b[1;32m    223\u001b[0m \u001b[39mself\u001b[39m\u001b[39m.\u001b[39maction_event(ActionState\u001b[39m.\u001b[39mPreceding, \u001b[39m\"\u001b[39m\u001b[39m\"\u001b[39m, {})\n",
      "\u001b[0;32m--> 224\u001b[0m resp \u001b[39m=\u001b[39m func(\u001b[39mself\u001b[39m, \u001b[39m*\u001b[39m\u001b[39m*\u001b[39mkwargs)\n",
      "\u001b[1;32m    225\u001b[0m \u001b[39mself\u001b[39m\u001b[39m.\u001b[39maction_event(ActionState\u001b[39m.\u001b[39mDone, \u001b[39m\"\u001b[39m\u001b[39m\"\u001b[39m, resp)\n",
      "\u001b[1;32m    226\u001b[0m log_debug(\u001b[39mf\u001b[39m\u001b[39m\"\u001b[39m\u001b[39maction[\u001b[39m\u001b[39m{\u001b[39;00m\u001b[39mself\u001b[39m\u001b[39m.\u001b[39m\u001b[39m__class__\u001b[39m\u001b[39m.\u001b[39m\u001b[39m__name__\u001b[39m\u001b[39m}\u001b[39;00m\u001b[39m][\u001b[39m\u001b[39m{\u001b[39;00m\u001b[39mself\u001b[39m\u001b[39m.\u001b[39mid\u001b[39m}\u001b[39;00m\u001b[39m] Done\u001b[39m\u001b[39m\"\u001b[39m)\n",
      "\n",
      "File \u001b[0;32m/data/anaconda3/lib/python3.11/site-packages/qianfan/trainer/base.py:298\u001b[0m, in \u001b[0;36mPipeline.exec\u001b[0;34m(self, input, **kwargs)\u001b[0m\n",
      "\u001b[1;32m    287\u001b[0m \u001b[39m@with_event\u001b[39m\n",
      "\u001b[1;32m    288\u001b[0m \u001b[39mdef\u001b[39;00m \u001b[39mexec\u001b[39m(\n",
      "\u001b[1;32m    289\u001b[0m     \u001b[39mself\u001b[39m, \u001b[39minput\u001b[39m: Optional[Dict[\u001b[39mstr\u001b[39m, Any]] \u001b[39m=\u001b[39m \u001b[39mNone\u001b[39;00m, \u001b[39m*\u001b[39m\u001b[39m*\u001b[39mkwargs: Dict\n",
      "\u001b[1;32m    290\u001b[0m ) \u001b[39m-\u001b[39m\u001b[39m>\u001b[39m Dict[\u001b[39mstr\u001b[39m, Any]:\n",
      "\u001b[1;32m    291\u001b[0m \u001b[39m    \u001b[39m\u001b[39m\"\"\"\u001b[39;00m\n",
      "\u001b[1;32m    292\u001b[0m \u001b[39m    Parameters:\u001b[39;00m\n",
      "\u001b[1;32m    293\u001b[0m \u001b[39m        input: Optional[Dict[str, Any]] input of the pipeline.\u001b[39;00m\n",
      "\u001b[0;32m   (...)\u001b[0m\n",
      "\u001b[1;32m    296\u001b[0m \u001b[39m        Dict[str, Any]: The output of the pipeline.\u001b[39;00m\n",
      "\u001b[1;32m    297\u001b[0m \u001b[39m    \"\"\"\u001b[39;00m\n",
      "\u001b[0;32m--> 298\u001b[0m     \u001b[39mreturn\u001b[39;00m \u001b[39mself\u001b[39m\u001b[39m.\u001b[39mexec_from(\u001b[39minput\u001b[39m, \u001b[39m0\u001b[39m, \u001b[39m*\u001b[39m\u001b[39m*\u001b[39mkwargs)\n",
      "\n",
      "File \u001b[0;32m/data/anaconda3/lib/python3.11/site-packages/qianfan/trainer/base.py:325\u001b[0m, in \u001b[0;36mPipeline.exec_from\u001b[0;34m(self, input, start, **kwargs)\u001b[0m\n",
      "\u001b[1;32m    321\u001b[0m     \u001b[39mself\u001b[39m\u001b[39m.\u001b[39maction_event(\n",
      "\u001b[1;32m    322\u001b[0m         ActionState\u001b[39m.\u001b[39mRunning, \u001b[39m\"\u001b[39m\u001b[39mpipeline running\u001b[39m\u001b[39m\"\u001b[39m, {\u001b[39m\"\u001b[39m\u001b[39maction\u001b[39m\u001b[39m\"\u001b[39m: k}\n",
      "\u001b[1;32m    323\u001b[0m     )\n",
      "\u001b[1;32m    324\u001b[0m \u001b[39mself\u001b[39m\u001b[39m.\u001b[39m_state \u001b[39m=\u001b[39m k\n",
      "\u001b[0;32m--> 325\u001b[0m output \u001b[39m=\u001b[39m \u001b[39mself\u001b[39m\u001b[39m.\u001b[39mactions[k]\u001b[39m.\u001b[39mexec(\u001b[39minput\u001b[39m\u001b[39m=\u001b[39moutput, \u001b[39m*\u001b[39m\u001b[39m*\u001b[39mkwargs)\n",
      "\u001b[1;32m    326\u001b[0m \u001b[39mif\u001b[39;00m output\u001b[39m.\u001b[39mget(\u001b[39m\"\u001b[39m\u001b[39merror\u001b[39m\u001b[39m\"\u001b[39m) \u001b[39mis\u001b[39;00m \u001b[39mnot\u001b[39;00m \u001b[39mNone\u001b[39;00m:\n",
      "\u001b[1;32m    327\u001b[0m     \u001b[39mraise\u001b[39;00m InternalError(cast(\u001b[39mstr\u001b[39m, output\u001b[39m.\u001b[39mget(\u001b[39m\"\u001b[39m\u001b[39merror\u001b[39m\u001b[39m\"\u001b[39m)))\n",
      "\n",
      "File \u001b[0;32m/data/anaconda3/lib/python3.11/site-packages/qianfan/trainer/base.py:224\u001b[0m, in \u001b[0;36mwith_event.<locals>.wrapper\u001b[0;34m(self, **kwargs)\u001b[0m\n",
      "\u001b[1;32m    222\u001b[0m log_debug(\u001b[39mf\u001b[39m\u001b[39m\"\u001b[39m\u001b[39maction[\u001b[39m\u001b[39m{\u001b[39;00m\u001b[39mself\u001b[39m\u001b[39m.\u001b[39m\u001b[39m__class__\u001b[39m\u001b[39m.\u001b[39m\u001b[39m__name__\u001b[39m\u001b[39m}\u001b[39;00m\u001b[39m][\u001b[39m\u001b[39m{\u001b[39;00m\u001b[39mself\u001b[39m\u001b[39m.\u001b[39mid\u001b[39m}\u001b[39;00m\u001b[39m] Preceding\u001b[39m\u001b[39m\"\u001b[39m)\n",
      "\u001b[1;32m    223\u001b[0m \u001b[39mself\u001b[39m\u001b[39m.\u001b[39maction_event(ActionState\u001b[39m.\u001b[39mPreceding, \u001b[39m\"\u001b[39m\u001b[39m\"\u001b[39m, {})\n",
      "\u001b[0;32m--> 224\u001b[0m resp \u001b[39m=\u001b[39m func(\u001b[39mself\u001b[39m, \u001b[39m*\u001b[39m\u001b[39m*\u001b[39mkwargs)\n",
      "\u001b[1;32m    225\u001b[0m \u001b[39mself\u001b[39m\u001b[39m.\u001b[39maction_event(ActionState\u001b[39m.\u001b[39mDone, \u001b[39m\"\u001b[39m\u001b[39m\"\u001b[39m, resp)\n",
      "\u001b[1;32m    226\u001b[0m log_debug(\u001b[39mf\u001b[39m\u001b[39m\"\u001b[39m\u001b[39maction[\u001b[39m\u001b[39m{\u001b[39;00m\u001b[39mself\u001b[39m\u001b[39m.\u001b[39m\u001b[39m__class__\u001b[39m\u001b[39m.\u001b[39m\u001b[39m__name__\u001b[39m\u001b[39m}\u001b[39;00m\u001b[39m][\u001b[39m\u001b[39m{\u001b[39;00m\u001b[39mself\u001b[39m\u001b[39m.\u001b[39mid\u001b[39m}\u001b[39;00m\u001b[39m] Done\u001b[39m\u001b[39m\"\u001b[39m)\n",
      "\n",
      "File \u001b[0;32m/data/anaconda3/lib/python3.11/site-packages/qianfan/trainer/actions.py:290\u001b[0m, in \u001b[0;36mTrainAction.exec\u001b[0;34m(self, input, **kwargs)\u001b[0m\n",
      "\u001b[1;32m    288\u001b[0m \u001b[39mif\u001b[39;00m \u001b[39mself\u001b[39m\u001b[39m.\u001b[39m_input \u001b[39mis\u001b[39;00m \u001b[39mNone\u001b[39;00m:\n",
      "\u001b[1;32m    289\u001b[0m     \u001b[39mself\u001b[39m\u001b[39m.\u001b[39m_input \u001b[39m=\u001b[39m \u001b[39minput\u001b[39m\n",
      "\u001b[0;32m--> 290\u001b[0m \u001b[39mreturn\u001b[39;00m \u001b[39mself\u001b[39m\u001b[39m.\u001b[39m_exec(\u001b[39minput\u001b[39m, \u001b[39m*\u001b[39m\u001b[39m*\u001b[39mkwargs)\n",
      "\n",
      "File \u001b[0;32m/data/anaconda3/lib/python3.11/site-packages/qianfan/trainer/actions.py:337\u001b[0m, in \u001b[0;36mTrainAction._exec\u001b[0;34m(self, input, **kwargs)\u001b[0m\n",
      "\u001b[1;32m    334\u001b[0m log_debug(\u001b[39mf\u001b[39m\u001b[39m\"\u001b[39m\u001b[39m[train_action] create fine-tune job_id: \u001b[39m\u001b[39m{\u001b[39;00m\u001b[39mself\u001b[39m\u001b[39m.\u001b[39mjob_id\u001b[39m}\u001b[39;00m\u001b[39m\"\u001b[39m)\n",
      "\u001b[1;32m    336\u001b[0m \u001b[39m# 获取job状态，是否训练完成\u001b[39;00m\n",
      "\u001b[0;32m--> 337\u001b[0m \u001b[39mself\u001b[39m\u001b[39m.\u001b[39m_wait_model_trained(\u001b[39m*\u001b[39m\u001b[39m*\u001b[39mkwargs)\n",
      "\u001b[1;32m    338\u001b[0m \u001b[39mself\u001b[39m\u001b[39m.\u001b[39mresult \u001b[39m=\u001b[39m {\u001b[39m*\u001b[39m\u001b[39m*\u001b[39m\u001b[39minput\u001b[39m, \u001b[39m\"\u001b[39m\u001b[39mtask_id\u001b[39m\u001b[39m\"\u001b[39m: \u001b[39mself\u001b[39m\u001b[39m.\u001b[39mtask_id, \u001b[39m\"\u001b[39m\u001b[39mjob_id\u001b[39m\u001b[39m\"\u001b[39m: \u001b[39mself\u001b[39m\u001b[39m.\u001b[39mjob_id}\n",
      "\u001b[1;32m    339\u001b[0m \u001b[39massert\u001b[39;00m \u001b[39mself\u001b[39m\u001b[39m.\u001b[39mresult \u001b[39mis\u001b[39;00m \u001b[39mnot\u001b[39;00m \u001b[39mNone\u001b[39;00m\n",
      "\n",
      "File \u001b[0;32m/data/anaconda3/lib/python3.11/site-packages/qianfan/trainer/actions.py:346\u001b[0m, in \u001b[0;36mTrainAction._wait_model_trained\u001b[0;34m(self, **kwargs)\u001b[0m\n",
      "\u001b[1;32m    344\u001b[0m     \u001b[39mraise\u001b[39;00m InvalidArgumentError(\u001b[39m\"\u001b[39m\u001b[39mtask_id and job_id must not be None\u001b[39m\u001b[39m\"\u001b[39m)\n",
      "\u001b[1;32m    345\u001b[0m \u001b[39mwhile\u001b[39;00m \u001b[39mTrue\u001b[39;00m:\n",
      "\u001b[0;32m--> 346\u001b[0m     job_status_resp \u001b[39m=\u001b[39m api\u001b[39m.\u001b[39mFineTune\u001b[39m.\u001b[39mget_job(\n",
      "\u001b[1;32m    347\u001b[0m         task_id\u001b[39m=\u001b[39m\u001b[39mself\u001b[39m\u001b[39m.\u001b[39mtask_id,\n",
      "\u001b[1;32m    348\u001b[0m         job_id\u001b[39m=\u001b[39m\u001b[39mself\u001b[39m\u001b[39m.\u001b[39mjob_id,\n",
      "\u001b[1;32m    349\u001b[0m         \u001b[39m*\u001b[39m\u001b[39m*\u001b[39mkwargs,\n",
      "\u001b[1;32m    350\u001b[0m     )\n",
      "\u001b[1;32m    351\u001b[0m     job_status \u001b[39m=\u001b[39m job_status_resp[\u001b[39m\"\u001b[39m\u001b[39mresult\u001b[39m\u001b[39m\"\u001b[39m][\u001b[39m\"\u001b[39m\u001b[39mtrainStatus\u001b[39m\u001b[39m\"\u001b[39m]\n",
      "\u001b[1;32m    352\u001b[0m     log_info(\n",
      "\u001b[1;32m    353\u001b[0m         \u001b[39mf\u001b[39m\u001b[39m\"\u001b[39m\u001b[39m[train_action] fine-tune running... current status: \u001b[39m\u001b[39m{\u001b[39;00mjob_status\u001b[39m}\u001b[39;00m\u001b[39m,\u001b[39m\u001b[39m\"\u001b[39m\n",
      "\u001b[1;32m    354\u001b[0m         \u001b[39mf\u001b[39m\u001b[39m\"\u001b[39m\u001b[39m check vdl report in \u001b[39m\u001b[39m{\u001b[39;00mjob_status_resp[\u001b[39m'\u001b[39m\u001b[39mresult\u001b[39m\u001b[39m'\u001b[39m][\u001b[39m'\u001b[39m\u001b[39mvdlLink\u001b[39m\u001b[39m'\u001b[39m]\u001b[39m}\u001b[39;00m\u001b[39m\"\u001b[39m\n",
      "\u001b[1;32m    355\u001b[0m     )\n",
      "\n",
      "File \u001b[0;32m/data/anaconda3/lib/python3.11/site-packages/qianfan/resources/console/utils.py:54\u001b[0m, in \u001b[0;36mconsole_api_request.<locals>.inner\u001b[0;34m(*args, **kwargs)\u001b[0m\n",
      "\u001b[1;32m     46\u001b[0m retry_config \u001b[39m=\u001b[39m RetryConfig(\n",
      "\u001b[1;32m     47\u001b[0m     retry_count\u001b[39m=\u001b[39mkwargs\u001b[39m.\u001b[39mget(\u001b[39m\"\u001b[39m\u001b[39mretry_count\u001b[39m\u001b[39m\"\u001b[39m, DefaultValue\u001b[39m.\u001b[39mRetryCount),\n",
      "\u001b[1;32m     48\u001b[0m     timeout\u001b[39m=\u001b[39mkwargs\u001b[39m.\u001b[39mget(\u001b[39m\"\u001b[39m\u001b[39mrequest_timeout\u001b[39m\u001b[39m\"\u001b[39m, DefaultValue\u001b[39m.\u001b[39mRetryTimeout),\n",
      "\u001b[0;32m   (...)\u001b[0m\n",
      "\u001b[1;32m     51\u001b[0m     ),\n",
      "\u001b[1;32m     52\u001b[0m )\n",
      "\u001b[1;32m     53\u001b[0m req \u001b[39m=\u001b[39m func(\u001b[39m*\u001b[39margs, \u001b[39m*\u001b[39m\u001b[39m*\u001b[39mkwargs)\n",
      "\u001b[0;32m---> 54\u001b[0m \u001b[39mreturn\u001b[39;00m ConsoleAPIRequestor()\u001b[39m.\u001b[39m_request_console_api(req, ak, sk, retry_config)\n",
      "\n",
      "File \u001b[0;32m/data/anaconda3/lib/python3.11/site-packages/qianfan/resources/requestor/console_requestor.py:59\u001b[0m, in \u001b[0;36mConsoleAPIRequestor._request_console_api\u001b[0;34m(self, req, ak, sk, retry_config)\u001b[0m\n",
      "\u001b[1;32m     56\u001b[0m     ConsoleAPIRequestor\u001b[39m.\u001b[39m_sign(req, ak, sk)\n",
      "\u001b[1;32m     57\u001b[0m     \u001b[39mreturn\u001b[39;00m \u001b[39mself\u001b[39m\u001b[39m.\u001b[39m_request(req)\n",
      "\u001b[0;32m---> 59\u001b[0m \u001b[39mreturn\u001b[39;00m \u001b[39mself\u001b[39m\u001b[39m.\u001b[39m_with_retry(retry_config, _helper)\n",
      "\n",
      "File \u001b[0;32m/data/anaconda3/lib/python3.11/site-packages/qianfan/resources/requestor/base.py:275\u001b[0m, in \u001b[0;36mBaseAPIRequestor._with_retry\u001b[0;34m(self, config, func, *args)\u001b[0m\n",
      "\u001b[1;32m    273\u001b[0m \u001b[39mwhile\u001b[39;00m retry_count \u001b[39m<\u001b[39m config\u001b[39m.\u001b[39mretry_count \u001b[39m-\u001b[39m \u001b[39m1\u001b[39m:\n",
      "\u001b[1;32m    274\u001b[0m     \u001b[39mtry\u001b[39;00m:\n",
      "\u001b[0;32m--> 275\u001b[0m         \u001b[39mreturn\u001b[39;00m func(\u001b[39m*\u001b[39margs)\n",
      "\u001b[1;32m    276\u001b[0m     \u001b[39mexcept\u001b[39;00m errors\u001b[39m.\u001b[39mAPIError \u001b[39mas\u001b[39;00m e:\n",
      "\u001b[1;32m    277\u001b[0m         \u001b[39mif\u001b[39;00m e\u001b[39m.\u001b[39merror_code \u001b[39min\u001b[39;00m {\n",
      "\u001b[1;32m    278\u001b[0m             APIErrorCode\u001b[39m.\u001b[39mServerHighLoad,\n",
      "\u001b[1;32m    279\u001b[0m             APIErrorCode\u001b[39m.\u001b[39mQPSLimitReached,\n",
      "\u001b[1;32m    280\u001b[0m         }:\n",
      "\n",
      "File \u001b[0;32m/data/anaconda3/lib/python3.11/site-packages/qianfan/resources/requestor/console_requestor.py:57\u001b[0m, in \u001b[0;36mConsoleAPIRequestor._request_console_api.<locals>._helper\u001b[0;34m()\u001b[0m\n",
      "\u001b[1;32m     55\u001b[0m \u001b[39mdef\u001b[39;00m \u001b[39m_helper\u001b[39m() \u001b[39m-\u001b[39m\u001b[39m>\u001b[39m QfResponse:\n",
      "\u001b[1;32m     56\u001b[0m     ConsoleAPIRequestor\u001b[39m.\u001b[39m_sign(req, ak, sk)\n",
      "\u001b[0;32m---> 57\u001b[0m     \u001b[39mreturn\u001b[39;00m \u001b[39mself\u001b[39m\u001b[39m.\u001b[39m_request(req)\n",
      "\n",
      "File \u001b[0;32m/data/anaconda3/lib/python3.11/site-packages/qianfan/resources/requestor/base.py:147\u001b[0m, in \u001b[0;36mBaseAPIRequestor._request\u001b[0;34m(self, request, data_postprocess)\u001b[0m\n",
      "\u001b[1;32m    143\u001b[0m \u001b[39mexcept\u001b[39;00m requests\u001b[39m.\u001b[39mJSONDecodeError:\n",
      "\u001b[1;32m    144\u001b[0m     \u001b[39mraise\u001b[39;00m errors\u001b[39m.\u001b[39mRequestError(\n",
      "\u001b[1;32m    145\u001b[0m         \u001b[39mf\u001b[39m\u001b[39m\"\u001b[39m\u001b[39mGot invalid json response from server, body: \u001b[39m\u001b[39m{\u001b[39;00mresponse\u001b[39m.\u001b[39mcontent\u001b[39m!r}\u001b[39;00m\u001b[39m\"\u001b[39m\n",
      "\u001b[1;32m    146\u001b[0m     )\n",
      "\u001b[0;32m--> 147\u001b[0m \u001b[39mreturn\u001b[39;00m data_postprocess(\u001b[39mself\u001b[39m\u001b[39m.\u001b[39m_parse_response(body, response))\n",
      "\n",
      "File \u001b[0;32m/data/anaconda3/lib/python3.11/site-packages/qianfan/resources/requestor/base.py:240\u001b[0m, in \u001b[0;36mBaseAPIRequestor._parse_response\u001b[0;34m(self, body, resp)\u001b[0m\n",
      "\u001b[1;32m    234\u001b[0m \u001b[39mdef\u001b[39;00m \u001b[39m_parse_response\u001b[39m(\n",
      "\u001b[1;32m    235\u001b[0m     \u001b[39mself\u001b[39m, body: Dict[\u001b[39mstr\u001b[39m, Any], resp: requests\u001b[39m.\u001b[39mResponse\n",
      "\u001b[1;32m    236\u001b[0m ) \u001b[39m-\u001b[39m\u001b[39m>\u001b[39m QfResponse:\n",
      "\u001b[1;32m    237\u001b[0m \u001b[39m    \u001b[39m\u001b[39m\"\"\"\u001b[39;00m\n",
      "\u001b[1;32m    238\u001b[0m \u001b[39m    parse response to QfResponse\u001b[39;00m\n",
      "\u001b[1;32m    239\u001b[0m \u001b[39m    \"\"\"\u001b[39;00m\n",
      "\u001b[0;32m--> 240\u001b[0m     \u001b[39mself\u001b[39m\u001b[39m.\u001b[39m_check_error(body)\n",
      "\u001b[1;32m    241\u001b[0m     qf_response \u001b[39m=\u001b[39m QfResponse(\n",
      "\u001b[1;32m    242\u001b[0m         code\u001b[39m=\u001b[39mresp\u001b[39m.\u001b[39mstatus_code, headers\u001b[39m=\u001b[39m\u001b[39mdict\u001b[39m(resp\u001b[39m.\u001b[39mheaders), body\u001b[39m=\u001b[39mbody\n",
      "\u001b[1;32m    243\u001b[0m     )\n",
      "\u001b[1;32m    244\u001b[0m     \u001b[39mreturn\u001b[39;00m qf_response\n",
      "\n",
      "File \u001b[0;32m/data/anaconda3/lib/python3.11/site-packages/qianfan/resources/requestor/console_requestor.py:46\u001b[0m, in \u001b[0;36mConsoleAPIRequestor._check_error\u001b[0;34m(self, body)\u001b[0m\n",
      "\u001b[1;32m     41\u001b[0m err_msg \u001b[39m=\u001b[39m body\u001b[39m.\u001b[39mget(\u001b[39m\"\u001b[39m\u001b[39merror_msg\u001b[39m\u001b[39m\"\u001b[39m, \u001b[39m\"\u001b[39m\u001b[39mno error message found in response body\u001b[39m\u001b[39m\"\u001b[39m)\n",
      "\u001b[1;32m     42\u001b[0m log_error(\n",
      "\u001b[1;32m     43\u001b[0m     \u001b[39mf\u001b[39m\u001b[39m\"\u001b[39m\u001b[39mconsole api request failed with error code: \u001b[39m\u001b[39m{\u001b[39;00merror_code\u001b[39m}\u001b[39;00m\u001b[39m, err msg:\u001b[39m\u001b[39m\"\u001b[39m\n",
      "\u001b[1;32m     44\u001b[0m     \u001b[39mf\u001b[39m\u001b[39m\"\u001b[39m\u001b[39m \u001b[39m\u001b[39m{\u001b[39;00merr_msg\u001b[39m}\u001b[39;00m\u001b[39m, please check the api doc\u001b[39m\u001b[39m\"\u001b[39m\n",
      "\u001b[1;32m     45\u001b[0m )\n",
      "\u001b[0;32m---> 46\u001b[0m \u001b[39mraise\u001b[39;00m errors\u001b[39m.\u001b[39mAPIError(error_code, err_msg)\n",
      "\n",
      "\u001b[0;31mAPIError\u001b[0m: api return error, code: 500002, msg: auth failed, no access"
     ]
    }
   ],
   "source": [
    "trainer.run()"
   ]
  },
  {
   "cell_type": "code",
   "execution_count": null,
   "metadata": {},
   "outputs": [
    {
     "name": "stderr",
     "output_type": "stream",
     "text": [
      "[DEBUG] [12-07 22:00:58] base.py:222 [t:139789057857344]: action[Pipeline][HFXZowejkt] Preceding\n",
      "[DEBUG] [12-07 22:00:58] base.py:222 [t:139789057857344]: action[TrainAction][F50ICFnguL] Preceding\n",
      "[INFO] [12-07 22:00:58] actions.py:390 [t:139789057857344]: [train_action] resume from created job 17304/9077\n",
      "[INFO] [12-07 22:00:58] actions.py:352 [t:139789057857344]: [train_action] fine-tune running... current status: RUNNING, check vdl report in https://console.bce.baidu.com/qianfan/visualdl/index?displayToken=eyJydW5JZCI6InJ1bi10MnlzaWQ3NjE1Z3N0Zm11In0=\n",
      "[INFO] [12-07 22:01:29] actions.py:352 [t:139789057857344]: [train_action] fine-tune running... current status: RUNNING, check vdl report in https://console.bce.baidu.com/qianfan/visualdl/index?displayToken=eyJydW5JZCI6InJ1bi10MnlzaWQ3NjE1Z3N0Zm11In0=\n",
      "[INFO] [12-07 22:02:00] actions.py:352 [t:139789057857344]: [train_action] fine-tune running... current status: RUNNING, check vdl report in https://console.bce.baidu.com/qianfan/visualdl/index?displayToken=eyJydW5JZCI6InJ1bi10MnlzaWQ3NjE1Z3N0Zm11In0=\n",
      "[INFO] [12-07 22:02:30] actions.py:352 [t:139789057857344]: [train_action] fine-tune running... current status: RUNNING, check vdl report in https://console.bce.baidu.com/qianfan/visualdl/index?displayToken=eyJydW5JZCI6InJ1bi10MnlzaWQ3NjE1Z3N0Zm11In0=\n",
      "[INFO] [12-07 22:03:01] actions.py:352 [t:139789057857344]: [train_action] fine-tune running... current status: RUNNING, check vdl report in https://console.bce.baidu.com/qianfan/visualdl/index?displayToken=eyJydW5JZCI6InJ1bi10MnlzaWQ3NjE1Z3N0Zm11In0=\n",
      "[INFO] [12-07 22:03:31] actions.py:352 [t:139789057857344]: [train_action] fine-tune running... current status: RUNNING, check vdl report in https://console.bce.baidu.com/qianfan/visualdl/index?displayToken=eyJydW5JZCI6InJ1bi10MnlzaWQ3NjE1Z3N0Zm11In0=\n",
      "[INFO] [12-07 22:04:02] actions.py:352 [t:139789057857344]: [train_action] fine-tune running... current status: RUNNING, check vdl report in https://console.bce.baidu.com/qianfan/visualdl/index?displayToken=eyJydW5JZCI6InJ1bi10MnlzaWQ3NjE1Z3N0Zm11In0=\n",
      "[INFO] [12-07 22:04:33] actions.py:352 [t:139789057857344]: [train_action] fine-tune running... current status: RUNNING, check vdl report in https://console.bce.baidu.com/qianfan/visualdl/index?displayToken=eyJydW5JZCI6InJ1bi10MnlzaWQ3NjE1Z3N0Zm11In0=\n",
      "[INFO] [12-07 22:05:04] actions.py:352 [t:139789057857344]: [train_action] fine-tune running... current status: RUNNING, check vdl report in https://console.bce.baidu.com/qianfan/visualdl/index?displayToken=eyJydW5JZCI6InJ1bi10MnlzaWQ3NjE1Z3N0Zm11In0=\n",
      "[INFO] [12-07 22:05:34] actions.py:352 [t:139789057857344]: [train_action] fine-tune running... current status: RUNNING, check vdl report in https://console.bce.baidu.com/qianfan/visualdl/index?displayToken=eyJydW5JZCI6InJ1bi10MnlzaWQ3NjE1Z3N0Zm11In0=\n",
      "[INFO] [12-07 22:06:05] actions.py:352 [t:139789057857344]: [train_action] fine-tune running... current status: RUNNING, check vdl report in https://console.bce.baidu.com/qianfan/visualdl/index?displayToken=eyJydW5JZCI6InJ1bi10MnlzaWQ3NjE1Z3N0Zm11In0=\n",
      "[INFO] [12-07 22:06:35] actions.py:352 [t:139789057857344]: [train_action] fine-tune running... current status: RUNNING, check vdl report in https://console.bce.baidu.com/qianfan/visualdl/index?displayToken=eyJydW5JZCI6InJ1bi10MnlzaWQ3NjE1Z3N0Zm11In0=\n",
      "[INFO] [12-07 22:07:06] actions.py:352 [t:139789057857344]: [train_action] fine-tune running... current status: RUNNING, check vdl report in https://console.bce.baidu.com/qianfan/visualdl/index?displayToken=eyJydW5JZCI6InJ1bi10MnlzaWQ3NjE1Z3N0Zm11In0=\n",
      "[INFO] [12-07 22:07:36] actions.py:352 [t:139789057857344]: [train_action] fine-tune running... current status: RUNNING, check vdl report in https://console.bce.baidu.com/qianfan/visualdl/index?displayToken=eyJydW5JZCI6InJ1bi10MnlzaWQ3NjE1Z3N0Zm11In0=\n",
      "[INFO] [12-07 22:08:07] actions.py:352 [t:139789057857344]: [train_action] fine-tune running... current status: RUNNING, check vdl report in https://console.bce.baidu.com/qianfan/visualdl/index?displayToken=eyJydW5JZCI6InJ1bi10MnlzaWQ3NjE1Z3N0Zm11In0=\n",
      "[INFO] [12-07 22:08:38] actions.py:352 [t:139789057857344]: [train_action] fine-tune running... current status: RUNNING, check vdl report in https://console.bce.baidu.com/qianfan/visualdl/index?displayToken=eyJydW5JZCI6InJ1bi10MnlzaWQ3NjE1Z3N0Zm11In0=\n",
      "[INFO] [12-07 22:09:08] actions.py:352 [t:139789057857344]: [train_action] fine-tune running... current status: RUNNING, check vdl report in https://console.bce.baidu.com/qianfan/visualdl/index?displayToken=eyJydW5JZCI6InJ1bi10MnlzaWQ3NjE1Z3N0Zm11In0=\n",
      "[INFO] [12-07 22:09:39] actions.py:352 [t:139789057857344]: [train_action] fine-tune running... current status: RUNNING, check vdl report in https://console.bce.baidu.com/qianfan/visualdl/index?displayToken=eyJydW5JZCI6InJ1bi10MnlzaWQ3NjE1Z3N0Zm11In0=\n",
      "[INFO] [12-07 22:10:10] actions.py:352 [t:139789057857344]: [train_action] fine-tune running... current status: RUNNING, check vdl report in https://console.bce.baidu.com/qianfan/visualdl/index?displayToken=eyJydW5JZCI6InJ1bi10MnlzaWQ3NjE1Z3N0Zm11In0=\n",
      "[INFO] [12-07 22:10:40] actions.py:352 [t:139789057857344]: [train_action] fine-tune running... current status: RUNNING, check vdl report in https://console.bce.baidu.com/qianfan/visualdl/index?displayToken=eyJydW5JZCI6InJ1bi10MnlzaWQ3NjE1Z3N0Zm11In0=\n",
      "[INFO] [12-07 22:11:11] actions.py:352 [t:139789057857344]: [train_action] fine-tune running... current status: RUNNING, check vdl report in https://console.bce.baidu.com/qianfan/visualdl/index?displayToken=eyJydW5JZCI6InJ1bi10MnlzaWQ3NjE1Z3N0Zm11In0=\n",
      "[INFO] [12-07 22:11:42] actions.py:352 [t:139789057857344]: [train_action] fine-tune running... current status: RUNNING, check vdl report in https://console.bce.baidu.com/qianfan/visualdl/index?displayToken=eyJydW5JZCI6InJ1bi10MnlzaWQ3NjE1Z3N0Zm11In0=\n",
      "[INFO] [12-07 22:12:14] actions.py:352 [t:139789057857344]: [train_action] fine-tune running... current status: RUNNING, check vdl report in https://console.bce.baidu.com/qianfan/visualdl/index?displayToken=eyJydW5JZCI6InJ1bi10MnlzaWQ3NjE1Z3N0Zm11In0=\n",
      "[INFO] [12-07 22:12:44] actions.py:352 [t:139789057857344]: [train_action] fine-tune running... current status: RUNNING, check vdl report in https://console.bce.baidu.com/qianfan/visualdl/index?displayToken=eyJydW5JZCI6InJ1bi10MnlzaWQ3NjE1Z3N0Zm11In0=\n",
      "[INFO] [12-07 22:13:15] actions.py:352 [t:139789057857344]: [train_action] fine-tune running... current status: RUNNING, check vdl report in https://console.bce.baidu.com/qianfan/visualdl/index?displayToken=eyJydW5JZCI6InJ1bi10MnlzaWQ3NjE1Z3N0Zm11In0=\n",
      "[INFO] [12-07 22:13:46] actions.py:352 [t:139789057857344]: [train_action] fine-tune running... current status: RUNNING, check vdl report in https://console.bce.baidu.com/qianfan/visualdl/index?displayToken=eyJydW5JZCI6InJ1bi10MnlzaWQ3NjE1Z3N0Zm11In0=\n",
      "[INFO] [12-07 22:14:16] actions.py:352 [t:139789057857344]: [train_action] fine-tune running... current status: RUNNING, check vdl report in https://console.bce.baidu.com/qianfan/visualdl/index?displayToken=eyJydW5JZCI6InJ1bi10MnlzaWQ3NjE1Z3N0Zm11In0=\n",
      "[INFO] [12-07 22:14:47] actions.py:352 [t:139789057857344]: [train_action] fine-tune running... current status: RUNNING, check vdl report in https://console.bce.baidu.com/qianfan/visualdl/index?displayToken=eyJydW5JZCI6InJ1bi10MnlzaWQ3NjE1Z3N0Zm11In0=\n",
      "[INFO] [12-07 22:15:18] actions.py:352 [t:139789057857344]: [train_action] fine-tune running... current status: RUNNING, check vdl report in https://console.bce.baidu.com/qianfan/visualdl/index?displayToken=eyJydW5JZCI6InJ1bi10MnlzaWQ3NjE1Z3N0Zm11In0=\n",
      "[INFO] [12-07 22:15:49] actions.py:352 [t:139789057857344]: [train_action] fine-tune running... current status: RUNNING, check vdl report in https://console.bce.baidu.com/qianfan/visualdl/index?displayToken=eyJydW5JZCI6InJ1bi10MnlzaWQ3NjE1Z3N0Zm11In0=\n",
      "[INFO] [12-07 22:16:19] actions.py:352 [t:139789057857344]: [train_action] fine-tune running... current status: RUNNING, check vdl report in https://console.bce.baidu.com/qianfan/visualdl/index?displayToken=eyJydW5JZCI6InJ1bi10MnlzaWQ3NjE1Z3N0Zm11In0=\n",
      "[INFO] [12-07 22:16:50] actions.py:352 [t:139789057857344]: [train_action] fine-tune running... current status: RUNNING, check vdl report in https://console.bce.baidu.com/qianfan/visualdl/index?displayToken=eyJydW5JZCI6InJ1bi10MnlzaWQ3NjE1Z3N0Zm11In0=\n",
      "[INFO] [12-07 22:17:20] actions.py:352 [t:139789057857344]: [train_action] fine-tune running... current status: RUNNING, check vdl report in https://console.bce.baidu.com/qianfan/visualdl/index?displayToken=eyJydW5JZCI6InJ1bi10MnlzaWQ3NjE1Z3N0Zm11In0=\n",
      "[INFO] [12-07 22:17:51] actions.py:352 [t:139789057857344]: [train_action] fine-tune running... current status: RUNNING, check vdl report in https://console.bce.baidu.com/qianfan/visualdl/index?displayToken=eyJydW5JZCI6InJ1bi10MnlzaWQ3NjE1Z3N0Zm11In0=\n",
      "[INFO] [12-07 22:18:22] actions.py:352 [t:139789057857344]: [train_action] fine-tune running... current status: RUNNING, check vdl report in https://console.bce.baidu.com/qianfan/visualdl/index?displayToken=eyJydW5JZCI6InJ1bi10MnlzaWQ3NjE1Z3N0Zm11In0=\n",
      "[INFO] [12-07 22:18:52] actions.py:352 [t:139789057857344]: [train_action] fine-tune running... current status: RUNNING, check vdl report in https://console.bce.baidu.com/qianfan/visualdl/index?displayToken=eyJydW5JZCI6InJ1bi10MnlzaWQ3NjE1Z3N0Zm11In0=\n",
      "[INFO] [12-07 22:19:23] actions.py:352 [t:139789057857344]: [train_action] fine-tune running... current status: RUNNING, check vdl report in https://console.bce.baidu.com/qianfan/visualdl/index?displayToken=eyJydW5JZCI6InJ1bi10MnlzaWQ3NjE1Z3N0Zm11In0=\n",
      "[INFO] [12-07 22:19:54] actions.py:352 [t:139789057857344]: [train_action] fine-tune running... current status: RUNNING, check vdl report in https://console.bce.baidu.com/qianfan/visualdl/index?displayToken=eyJydW5JZCI6InJ1bi10MnlzaWQ3NjE1Z3N0Zm11In0=\n",
      "[INFO] [12-07 22:20:24] actions.py:352 [t:139789057857344]: [train_action] fine-tune running... current status: RUNNING, check vdl report in https://console.bce.baidu.com/qianfan/visualdl/index?displayToken=eyJydW5JZCI6InJ1bi10MnlzaWQ3NjE1Z3N0Zm11In0=\n",
      "[INFO] [12-07 22:20:55] actions.py:352 [t:139789057857344]: [train_action] fine-tune running... current status: RUNNING, check vdl report in https://console.bce.baidu.com/qianfan/visualdl/index?displayToken=eyJydW5JZCI6InJ1bi10MnlzaWQ3NjE1Z3N0Zm11In0=\n",
      "[INFO] [12-07 22:21:26] actions.py:352 [t:139789057857344]: [train_action] fine-tune running... current status: RUNNING, check vdl report in https://console.bce.baidu.com/qianfan/visualdl/index?displayToken=eyJydW5JZCI6InJ1bi10MnlzaWQ3NjE1Z3N0Zm11In0=\n",
      "[INFO] [12-07 22:21:57] actions.py:352 [t:139789057857344]: [train_action] fine-tune running... current status: RUNNING, check vdl report in https://console.bce.baidu.com/qianfan/visualdl/index?displayToken=eyJydW5JZCI6InJ1bi10MnlzaWQ3NjE1Z3N0Zm11In0=\n",
      "[INFO] [12-07 22:22:28] actions.py:352 [t:139789057857344]: [train_action] fine-tune running... current status: RUNNING, check vdl report in https://console.bce.baidu.com/qianfan/visualdl/index?displayToken=eyJydW5JZCI6InJ1bi10MnlzaWQ3NjE1Z3N0Zm11In0=\n",
      "[INFO] [12-07 22:22:59] actions.py:352 [t:139789057857344]: [train_action] fine-tune running... current status: RUNNING, check vdl report in https://console.bce.baidu.com/qianfan/visualdl/index?displayToken=eyJydW5JZCI6InJ1bi10MnlzaWQ3NjE1Z3N0Zm11In0=\n",
      "[INFO] [12-07 22:23:29] actions.py:352 [t:139789057857344]: [train_action] fine-tune running... current status: RUNNING, check vdl report in https://console.bce.baidu.com/qianfan/visualdl/index?displayToken=eyJydW5JZCI6InJ1bi10MnlzaWQ3NjE1Z3N0Zm11In0=\n",
      "[INFO] [12-07 22:24:00] actions.py:352 [t:139789057857344]: [train_action] fine-tune running... current status: RUNNING, check vdl report in https://console.bce.baidu.com/qianfan/visualdl/index?displayToken=eyJydW5JZCI6InJ1bi10MnlzaWQ3NjE1Z3N0Zm11In0=\n",
      "[INFO] [12-07 22:24:31] actions.py:352 [t:139789057857344]: [train_action] fine-tune running... current status: RUNNING, check vdl report in https://console.bce.baidu.com/qianfan/visualdl/index?displayToken=eyJydW5JZCI6InJ1bi10MnlzaWQ3NjE1Z3N0Zm11In0=\n",
      "[INFO] [12-07 22:25:01] actions.py:352 [t:139789057857344]: [train_action] fine-tune running... current status: RUNNING, check vdl report in https://console.bce.baidu.com/qianfan/visualdl/index?displayToken=eyJydW5JZCI6InJ1bi10MnlzaWQ3NjE1Z3N0Zm11In0=\n",
      "[INFO] [12-07 22:25:32] actions.py:352 [t:139789057857344]: [train_action] fine-tune running... current status: RUNNING, check vdl report in https://console.bce.baidu.com/qianfan/visualdl/index?displayToken=eyJydW5JZCI6InJ1bi10MnlzaWQ3NjE1Z3N0Zm11In0=\n",
      "[INFO] [12-07 22:26:03] actions.py:352 [t:139789057857344]: [train_action] fine-tune running... current status: RUNNING, check vdl report in https://console.bce.baidu.com/qianfan/visualdl/index?displayToken=eyJydW5JZCI6InJ1bi10MnlzaWQ3NjE1Z3N0Zm11In0=\n",
      "[INFO] [12-07 22:26:33] actions.py:352 [t:139789057857344]: [train_action] fine-tune running... current status: RUNNING, check vdl report in https://console.bce.baidu.com/qianfan/visualdl/index?displayToken=eyJydW5JZCI6InJ1bi10MnlzaWQ3NjE1Z3N0Zm11In0=\n",
      "[INFO] [12-07 22:27:04] actions.py:352 [t:139789057857344]: [train_action] fine-tune running... current status: RUNNING, check vdl report in https://console.bce.baidu.com/qianfan/visualdl/index?displayToken=eyJydW5JZCI6InJ1bi10MnlzaWQ3NjE1Z3N0Zm11In0=\n",
      "[INFO] [12-07 22:27:35] actions.py:352 [t:139789057857344]: [train_action] fine-tune running... current status: RUNNING, check vdl report in https://console.bce.baidu.com/qianfan/visualdl/index?displayToken=eyJydW5JZCI6InJ1bi10MnlzaWQ3NjE1Z3N0Zm11In0=\n",
      "[INFO] [12-07 22:28:05] actions.py:352 [t:139789057857344]: [train_action] fine-tune running... current status: RUNNING, check vdl report in https://console.bce.baidu.com/qianfan/visualdl/index?displayToken=eyJydW5JZCI6InJ1bi10MnlzaWQ3NjE1Z3N0Zm11In0=\n",
      "[INFO] [12-07 22:28:37] actions.py:352 [t:139789057857344]: [train_action] fine-tune running... current status: RUNNING, check vdl report in https://console.bce.baidu.com/qianfan/visualdl/index?displayToken=eyJydW5JZCI6InJ1bi10MnlzaWQ3NjE1Z3N0Zm11In0=\n",
      "[INFO] [12-07 22:29:08] actions.py:352 [t:139789057857344]: [train_action] fine-tune running... current status: RUNNING, check vdl report in https://console.bce.baidu.com/qianfan/visualdl/index?displayToken=eyJydW5JZCI6InJ1bi10MnlzaWQ3NjE1Z3N0Zm11In0=\n",
      "[INFO] [12-07 22:29:39] actions.py:352 [t:139789057857344]: [train_action] fine-tune running... current status: RUNNING, check vdl report in https://console.bce.baidu.com/qianfan/visualdl/index?displayToken=eyJydW5JZCI6InJ1bi10MnlzaWQ3NjE1Z3N0Zm11In0=\n",
      "[INFO] [12-07 22:30:10] actions.py:352 [t:139789057857344]: [train_action] fine-tune running... current status: RUNNING, check vdl report in https://console.bce.baidu.com/qianfan/visualdl/index?displayToken=eyJydW5JZCI6InJ1bi10MnlzaWQ3NjE1Z3N0Zm11In0=\n",
      "[INFO] [12-07 22:30:40] actions.py:352 [t:139789057857344]: [train_action] fine-tune running... current status: RUNNING, check vdl report in https://console.bce.baidu.com/qianfan/visualdl/index?displayToken=eyJydW5JZCI6InJ1bi10MnlzaWQ3NjE1Z3N0Zm11In0=\n",
      "[INFO] [12-07 22:31:11] actions.py:352 [t:139789057857344]: [train_action] fine-tune running... current status: RUNNING, check vdl report in https://console.bce.baidu.com/qianfan/visualdl/index?displayToken=eyJydW5JZCI6InJ1bi10MnlzaWQ3NjE1Z3N0Zm11In0=\n",
      "[INFO] [12-07 22:31:42] actions.py:352 [t:139789057857344]: [train_action] fine-tune running... current status: RUNNING, check vdl report in https://console.bce.baidu.com/qianfan/visualdl/index?displayToken=eyJydW5JZCI6InJ1bi10MnlzaWQ3NjE1Z3N0Zm11In0=\n",
      "[INFO] [12-07 22:32:12] actions.py:352 [t:139789057857344]: [train_action] fine-tune running... current status: RUNNING, check vdl report in https://console.bce.baidu.com/qianfan/visualdl/index?displayToken=eyJydW5JZCI6InJ1bi10MnlzaWQ3NjE1Z3N0Zm11In0=\n",
      "[INFO] [12-07 22:32:43] actions.py:352 [t:139789057857344]: [train_action] fine-tune running... current status: RUNNING, check vdl report in https://console.bce.baidu.com/qianfan/visualdl/index?displayToken=eyJydW5JZCI6InJ1bi10MnlzaWQ3NjE1Z3N0Zm11In0=\n",
      "[INFO] [12-07 22:33:14] actions.py:352 [t:139789057857344]: [train_action] fine-tune running... current status: RUNNING, check vdl report in https://console.bce.baidu.com/qianfan/visualdl/index?displayToken=eyJydW5JZCI6InJ1bi10MnlzaWQ3NjE1Z3N0Zm11In0=\n",
      "[INFO] [12-07 22:33:44] actions.py:352 [t:139789057857344]: [train_action] fine-tune running... current status: RUNNING, check vdl report in https://console.bce.baidu.com/qianfan/visualdl/index?displayToken=eyJydW5JZCI6InJ1bi10MnlzaWQ3NjE1Z3N0Zm11In0=\n",
      "[INFO] [12-07 22:34:15] actions.py:352 [t:139789057857344]: [train_action] fine-tune running... current status: RUNNING, check vdl report in https://console.bce.baidu.com/qianfan/visualdl/index?displayToken=eyJydW5JZCI6InJ1bi10MnlzaWQ3NjE1Z3N0Zm11In0=\n",
      "[INFO] [12-07 22:34:46] actions.py:352 [t:139789057857344]: [train_action] fine-tune running... current status: RUNNING, check vdl report in https://console.bce.baidu.com/qianfan/visualdl/index?displayToken=eyJydW5JZCI6InJ1bi10MnlzaWQ3NjE1Z3N0Zm11In0=\n",
      "[INFO] [12-07 22:35:17] actions.py:352 [t:139789057857344]: [train_action] fine-tune running... current status: RUNNING, check vdl report in https://console.bce.baidu.com/qianfan/visualdl/index?displayToken=eyJydW5JZCI6InJ1bi10MnlzaWQ3NjE1Z3N0Zm11In0=\n",
      "[INFO] [12-07 22:35:48] actions.py:352 [t:139789057857344]: [train_action] fine-tune running... current status: RUNNING, check vdl report in https://console.bce.baidu.com/qianfan/visualdl/index?displayToken=eyJydW5JZCI6InJ1bi10MnlzaWQ3NjE1Z3N0Zm11In0=\n",
      "[INFO] [12-07 22:36:18] actions.py:352 [t:139789057857344]: [train_action] fine-tune running... current status: FINISH, check vdl report in https://console.bce.baidu.com/qianfan/visualdl/index?displayToken=eyJydW5JZCI6InJ1bi10MnlzaWQ3NjE1Z3N0Zm11In0=\n",
      "[INFO] [12-07 22:36:18] actions.py:370 [t:139789057857344]: [train_action] fine-tune job has ended: 9077 with status: FINISH\n",
      "[DEBUG] [12-07 22:36:18] base.py:226 [t:139789057857344]: action[TrainAction][F50ICFnguL] Done\n",
      "[DEBUG] [12-07 22:36:18] base.py:222 [t:139789057857344]: action[ModelPublishAction][YE5tSNDKlJ] Preceding\n",
      "[DEBUG] [12-07 22:36:18] actions.py:460 [t:139789057857344]: [model_publish_action] start model publish\n",
      "[INFO] [12-07 22:36:19] model.py:183 [t:139789057857344]: check train job: 17304/9077 status before publishing model\n"
     ]
    },
    {
     "name": "stderr",
     "output_type": "stream",
     "text": [
      "[INFO] [12-07 22:36:20] model.py:199 [t:139789057857344]: model publishing keep polling, current status FINISH\n",
      "[INFO] [12-07 22:36:20] model.py:233 [t:139789057857344]: model ready to publish\n",
      "[INFO] [12-07 22:36:21] model.py:239 [t:139789057857344]: check model publish status: Creating\n",
      "[INFO] [12-07 22:36:51] model.py:239 [t:139789057857344]: check model publish status: Ready\n",
      "[INFO] [12-07 22:36:51] model.py:241 [t:139789057857344]: model 10248/12701 published successfully\n",
      "[DEBUG] [12-07 22:36:51] actions.py:471 [t:139789057857344]: [model publish] model: 17304_9077 has been published.\n",
      "[DEBUG] [12-07 22:36:51] base.py:226 [t:139789057857344]: action[ModelPublishAction][YE5tSNDKlJ] Done\n",
      "[DEBUG] [12-07 22:36:51] base.py:226 [t:139789057857344]: action[Pipeline][HFXZowejkt] Done\n"
     ]
    },
    {
     "data": {
      "text/plain": [
       "<qianfan.trainer.finetune.LLMFinetune at 0x7f22c4dd0210>"
      ]
     },
     "metadata": {},
     "output_type": "display_data"
    }
   ],
   "source": [
    "trainer.resume()"
   ]
  }
 ],
 "metadata": {
  "kernelspec": {
   "display_name": "base",
   "language": "python",
   "name": "python3"
  },
  "language_info": {
   "codemirror_mode": {
    "name": "ipython",
    "version": 3
   },
   "file_extension": ".py",
   "mimetype": "text/x-python",
   "name": "python",
   "nbconvert_exporter": "python",
   "pygments_lexer": "ipython3",
   "version": "3.11.5"
  },
  "orig_nbformat": 4,
  "vscode": {
   "interpreter": {
    "hash": "58f7cb64c3a06383b7f18d2a11305edccbad427293a2b4afa7abe8bfc810d4bb"
   }
  }
 },
 "nbformat": 4,
 "nbformat_minor": 2
}
