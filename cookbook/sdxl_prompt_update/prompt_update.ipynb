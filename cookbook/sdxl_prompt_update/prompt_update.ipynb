{
 "cells": [
  {
   "cell_type": "markdown",
   "metadata": {},
   "source": [
    "# 针对Stable Diffusion-XL的prompt优化\n",
    "\n",
    "Stable Diffusion-XL是一种基于Transformer的文本生成模型，其结构与GPT-3类似。本文将介绍如何利用prompt优化Stable Diffusion-XL的生成效果。"
   ]
  },
  {
   "cell_type": "code",
   "execution_count": 1,
   "metadata": {},
   "outputs": [],
   "source": [
    "import os\n",
    "\n",
    "# 初始化百度智能云的IAM ak, sk用于bos和千帆平台的鉴权\n",
    "# 大模型平台和Bos同处于百度智能云下，所以可以使用同一个AK，SK来通过权限校验\n",
    "os.environ['QIANFAN_ACCESS_KEY'] = 'your_access_key'\n",
    "os.environ['QIANFAN_SECRET_KEY'] = 'your_secret_key'"
   ]
  },
  {
   "cell_type": "code",
   "execution_count": 2,
   "metadata": {},
   "outputs": [],
   "source": [
    "import qianfan\n",
    "from PIL import Image \n",
    "import io\n",
    "from qianfan.common import Prompt\n",
    "from qianfan import Completion\n"
   ]
  },
  {
   "cell_type": "markdown",
   "metadata": {},
   "source": [
    "## 案例一：蚂蚁上树\n",
    "* 蚂蚁上树在中文中指代的是肉末粉条这一传统菜品，若直译为英文，则可能会造成歧义。\n",
    "* 这里以“蚂蚁上树”为例，来展示我们的prompt优化针对中文歧义词的效果。\n",
    "\n",
    "首先我们先创建一个简单的任务描述prompt:"
   ]
  },
  {
   "cell_type": "code",
   "execution_count": 3,
   "metadata": {},
   "outputs": [],
   "source": [
    "p = Prompt(\"蚂蚁上树\")\n",
    "pt = \"蚂蚁上树\""
   ]
  },
  {
   "cell_type": "markdown",
   "metadata": {},
   "source": [
    "使用优化前的prompt测试效果"
   ]
  },
  {
   "cell_type": "code",
   "execution_count": null,
   "metadata": {},
   "outputs": [],
   "source": [
    "t2i = qianfan.Text2Image()\n",
    "resp = t2i.do(prompt=pt, with_decode=\"base64\")\n",
    "img_data = resp[\"body\"][\"data\"][0][\"image\"]\n",
    "\n",
    "img = Image.open(io.BytesIO(img_data))\n",
    "img.show()"
   ]
  },
  {
   "cell_type": "markdown",
   "metadata": {},
   "source": [
    "![alt text](img/ant_raw.png)"
   ]
  },
  {
   "cell_type": "markdown",
   "metadata": {},
   "source": [
    "接下来，将上述prompt进行优化，提升图片的生成效果:"
   ]
  },
  {
   "cell_type": "code",
   "execution_count": 7,
   "metadata": {},
   "outputs": [],
   "source": [
    "def prompt_update(pt):\n",
    "    mission = \"\"\"\n",
    "    你的任务是将输入prompt进行优化,它应包括关于图像的详细的说明, 以指导人工智能创建精致准确的图像。优化后的prompt应有以下特点:\n",
    "    1.它应将提示翻译成英文，并且在翻译的过程中注意一些语言上的歧义。\n",
    "    2.它具体描述出图像中的更多主体内容，并且给部分需要重点突出的主体内容给予适当的权重\n",
    "    3.它应在最后给出相应的negative prompt，它是一些与图像主题不相关的描述。\n",
    "    4.它的长度不应超过100个词。\n",
    "    5.如果输入的prompt没有明确的清晰度要求，请在输出prompt中默认清晰度为8k。\n",
    "    下面是一些示例：\n",
    "    [示例1]:\n",
    "    输入prompt: “夫妻肺片”。\n",
    "    输出prompt: “夫妻肺片, sliced beef with beef offal, spicy sauce, vibrant colors, photorealistic, food photography, close-up shot, richly textured, appetizing, culinary presentation, (detailed garnish:1.3), high resolution, 8k\n",
    "                Negative prompt: text, logos, watermarks, out of frame, unattractive, discolored, unappetizing”。\n",
    "    [示例2]:\n",
    "    输入prompt: \"一只高贵的柯基犬，素描画风格”。\n",
    "    输出prompt: “Noble Corgi, sketch style, detailed line work, elegant, artistic, black and white, portrait, (intricate details:1.3), high resolution, 8k\n",
    "                Negative prompt: text, logos, watermarks, out of frame, messy, blurry, extra limbs.” \n",
    "    [示例3]:\n",
    "    输入prompt: “一个未来的城市图景，有车，楼，飞机，会飞的物体，人们的交通出行方式多样，生活有很大变化，天很蓝，有很多云彩，有阳光，有树，有草，有花，有很多东西。”\n",
    "    输出prompt: \"futuristic cityscape, (advanced buildings:1.4), (futuristic transportation:1.4), flying vehicles, various transportation modes, significant lifestyle changes, blue sky, many clouds, sunlight, trees, grass, flowers, highly detailed, photorealistic, high clarity, 8k, intricate architectural detailing, bustling city life\n",
    "                Negative prompt: text, logos, watermarks, out of frame, ugly, extra limbs, extra hands, extra feet, extra fingers, bad anatomy。 \"以下是你需要优化的输入prompt: \n",
    "    [示例4]:\n",
    "    输入prompt:\"金发维京女人\"\n",
    "    输出prompt:\" a beautiful fashion blond viking woman, revealing outfit, symmetrical, maximalist, lily frame, art by ilya kuvshinov, rossdraws, sharp focus, art by wlop and artgerm,  extreme detail, detailed drawing, hyper detailed face\n",
    "                Negative prompt: text, logos, watermarks, out of frame, unattractive, discolored, unappetizing, unrealistic, unnatural, unusual, unusual pose, unusual expression, unusual clothing, unusual accessories, unusual makeup, unusual hairstyle, unusual eyewear, unusual makeup, unusual hairstyle, unusual eyewear, unusual makeup, unusual hairstyle, unusual eyewear, unusual makeup, unusual hairstyle, unusual eyewear, unusual makeup, unusual hairstyle, unusual eyewear, unusual makeup, unusual hairstyle, unusual eyewear, unusual makeup, unusual hairstyle, unusual eyewear, unusual makeup, unusual hairstyle, unusual eyewear\"\n",
    "    \"\"\"\n",
    "    input_prompt = mission + pt\n",
    "    p = Prompt(input_prompt)\n",
    "    return p\n",
    "    #print(input_prompt)\n",
    "\n",
    "\n",
    "\n"
   ]
  },
  {
   "cell_type": "code",
   "execution_count": 8,
   "metadata": {},
   "outputs": [
    {
     "name": "stdout",
     "output_type": "stream",
     "text": [
      "An ant climbing a tree, realistic detail, intricate texture, natural lighting, vibrant colors, sharp focus, photorealistic rendering, intricate branches, ants moving dynamically, high resolution, 8k\n",
      "\n",
      "Negative prompt: text, logos, watermarks, out of frame, cartoonish, simplified, abstract, blurred, grainy, low quality, unrealistic lighting, unnatural colors, mutated ants, mutated tree.\n"
     ]
    }
   ],
   "source": [
    "p = prompt_update(pt)\n",
    "\n",
    "comp = Completion(model=\"ERNIE-3.5-8K\")\n",
    "r = comp.do(prompt=p.render()[0])\n",
    "output = r['result']\n",
    "print(output)"
   ]
  },
  {
   "cell_type": "markdown",
   "metadata": {},
   "source": [
    "以下为优化prompt的生成效果展示："
   ]
  },
  {
   "cell_type": "code",
   "execution_count": null,
   "metadata": {},
   "outputs": [],
   "source": [
    "t2i = qianfan.Text2Image()\n",
    "resp = t2i.do(prompt=pt, with_decode=\"base64\")\n",
    "img_data = resp[\"body\"][\"data\"][0][\"image\"]\n",
    "\n",
    "img = Image.open(io.BytesIO(img_data))\n",
    "img.show()"
   ]
  },
  {
   "cell_type": "markdown",
   "metadata": {},
   "source": [
    "![alt text](img/ant_update.png)"
   ]
  },
  {
   "cell_type": "markdown",
   "metadata": {},
   "source": [
    "## 案例二：一只凤凰飞过山\n",
    "* 还有一类prompt，它们在理解上并没有歧义，但是包含的细节极少，无法给到足够的提示，可能会导致生成效果不佳。\n",
    "* 这里我们以一只凤凰飞过山的任务为例，来展示我们的prompt优化针对扩展提示词的效果。\n",
    "\n",
    "首先我们先创建一个简单的任务描述prompt:"
   ]
  },
  {
   "cell_type": "code",
   "execution_count": 95,
   "metadata": {},
   "outputs": [],
   "source": [
    "\n",
    "p = Prompt(\"一只凤凰飞过山\")\n",
    "pt = \"一只凤凰飞过山\""
   ]
  },
  {
   "cell_type": "markdown",
   "metadata": {},
   "source": [
    "使用优化前的prompt测试效果"
   ]
  },
  {
   "cell_type": "code",
   "execution_count": null,
   "metadata": {},
   "outputs": [],
   "source": [
    "t2i = qianfan.Text2Image()\n",
    "resp = t2i.do(prompt=pt, with_decode=\"base64\")\n",
    "img_data = resp[\"body\"][\"data\"][0][\"image\"]\n",
    "\n",
    "img = Image.open(io.BytesIO(img_data))\n",
    "img.show()"
   ]
  },
  {
   "cell_type": "markdown",
   "metadata": {},
   "source": [
    "![alt text](img/pheonix_raw.png)"
   ]
  },
  {
   "cell_type": "markdown",
   "metadata": {},
   "source": [
    "\n",
    "\n",
    "接下来，将上述prompt进行优化，提升图片的生成效果:"
   ]
  },
  {
   "cell_type": "code",
   "execution_count": 98,
   "metadata": {},
   "outputs": [
    {
     "name": "stdout",
     "output_type": "stream",
     "text": [
      "A phoenix soaring over a mountain range, vibrant feathers of red, orange, and gold, fiery trail behind, detailed plumage, mountainous landscape, photorealistic, highly detailed, cinematic lighting, 8k\n",
      "\n",
      "Negative prompt: text, logos, watermarks, out of frame, blurry, discolored, cartoonish, unnatural poses.\n"
     ]
    }
   ],
   "source": [
    "p = prompt_update(pt)\n",
    "comp = Completion(model=\"ERNIE-3.5-8K\")\n",
    "\n",
    "r = comp.do(prompt=p.render()[0])\n",
    "output = r['result']\n",
    "print(output)"
   ]
  },
  {
   "cell_type": "markdown",
   "metadata": {},
   "source": [
    "\n",
    "\n",
    "以下为优化prompt的生成效果展示："
   ]
  },
  {
   "cell_type": "code",
   "execution_count": null,
   "metadata": {},
   "outputs": [],
   "source": [
    "t2i = qianfan.Text2Image()\n",
    "resp = t2i.do(prompt=pt, with_decode=\"base64\")\n",
    "img_data = resp[\"body\"][\"data\"][0][\"image\"]\n",
    "\n",
    "img = Image.open(io.BytesIO(img_data))\n",
    "img.show()"
   ]
  },
  {
   "cell_type": "markdown",
   "metadata": {},
   "source": [
    "![alt text](img/pheonix_up.png)"
   ]
  },
  {
   "cell_type": "markdown",
   "metadata": {},
   "source": [
    "从以上所展示的图片可以看出，整体表现力大大提升。主要表现如下：\n",
    "1. 图片中加入了很多细节元素，比如奔腾的马蹄的运动状态，底面尘土的飞扬。\n",
    "2. 图片的整体色彩有很大提升，不是以单薄的黑白配色为主，加入了黄色的星球。\n",
    "3. 主体在图片中更为突出，使观看者能一眼了解主题状态。"
   ]
  },
  {
   "cell_type": "markdown",
   "metadata": {},
   "source": [
    "## 案例三：长提示词的优化(1)\n",
    "* 在用户提供较长提示词的情景下，提示词中可能会包含过多的主体，导致生成模型无法把握生成图片的主次需求，造成图片主体混乱的情况。因此，我们会对内容丰富的提示词进行主次的权重配比，以保证画面的结构性。\n",
    "* 输入prompt为：一幅画，画中一只狗打扮成厨师，端着一碗食物。\n",
    "\n",
    "\n",
    "首先我们先创建一个简单的任务描述prompt:"
   ]
  },
  {
   "cell_type": "markdown",
   "metadata": {},
   "source": [
    "使用优化前的prompt测试效果"
   ]
  },
  {
   "cell_type": "code",
   "execution_count": 35,
   "metadata": {},
   "outputs": [],
   "source": [
    "p = Prompt(\"一幅画，画中一只狗打扮成厨师，端着一碗食物\")\n",
    "pt = \"一幅画，画中一只狗打扮成厨师，端着一碗食物\""
   ]
  },
  {
   "cell_type": "markdown",
   "metadata": {},
   "source": [
    "使用优化前的prompt测试效果"
   ]
  },
  {
   "cell_type": "code",
   "execution_count": null,
   "metadata": {},
   "outputs": [],
   "source": [
    "t2i = qianfan.Text2Image()\n",
    "resp = t2i.do(prompt=pt, with_decode=\"base64\")\n",
    "img_data = resp[\"body\"][\"data\"][0][\"image\"]\n",
    "\n",
    "img = Image.open(io.BytesIO(img_data))\n",
    "img.show()"
   ]
  },
  {
   "cell_type": "markdown",
   "metadata": {},
   "source": [
    "![alt text](img/dog_raw.png)"
   ]
  },
  {
   "cell_type": "markdown",
   "metadata": {},
   "source": [
    "接下来，将上述prompt进行优化，提升图片的生成效果:"
   ]
  },
  {
   "cell_type": "code",
   "execution_count": 38,
   "metadata": {},
   "outputs": [
    {
     "name": "stdout",
     "output_type": "stream",
     "text": [
      "A painting of a dog dressed as a chef holding a bowl of food, detailed illustration, cartoon style, bright colors, funny expression, realistic dog features, chef's hat and apron, steaming food, cute and charming, hyper realistic, high resolution, 8k\n",
      "\n",
      "Negative prompt: text, logos, watermarks, out of frame, blurry, unrealistic features, unattractive, discolored, unrelated objects, humans, other animals.\n"
     ]
    }
   ],
   "source": [
    "p = prompt_update(pt)\n",
    "comp = Completion(model=\"ERNIE-3.5-8K\")\n",
    "\n",
    "r = comp.do(prompt=p.render()[0])\n",
    "output = r['result']\n",
    "print(output)"
   ]
  },
  {
   "cell_type": "markdown",
   "metadata": {},
   "source": [
    "以下为优化prompt的生成效果展示："
   ]
  },
  {
   "cell_type": "code",
   "execution_count": null,
   "metadata": {},
   "outputs": [],
   "source": [
    "t2i = qianfan.Text2Image()\n",
    "resp = t2i.do(prompt=output, with_decode=\"base64\")\n",
    "img_data = resp[\"body\"][\"data\"][0][\"image\"]\n",
    "\n",
    "img = Image.open(io.BytesIO(img_data))\n",
    "img.show()"
   ]
  },
  {
   "cell_type": "markdown",
   "metadata": {},
   "source": [
    "![alt text](img/dog_up.png)"
   ]
  },
  {
   "cell_type": "markdown",
   "metadata": {},
   "source": [
    "## 案例四：长提示词的优化(2)\n",
    "* 输入prompt为：一条狗，一只猫，耶稣在中间照顾所有的生物，有人，有植物\n",
    "\n",
    "\n",
    "首先我们先创建一个简单的任务描述prompt:"
   ]
  },
  {
   "cell_type": "markdown",
   "metadata": {},
   "source": [
    "使用优化前的prompt测试效果"
   ]
  },
  {
   "cell_type": "code",
   "execution_count": 29,
   "metadata": {},
   "outputs": [],
   "source": [
    "p = Prompt(\"一条狗，一只猫，耶稣在中间照顾所有的生物，有人，有植物\")\n",
    "pt = \"一条狗，一只猫，耶稣在中间照顾所有的生物，有人，有植物\""
   ]
  },
  {
   "cell_type": "markdown",
   "metadata": {},
   "source": [
    "使用优化前的prompt测试效果"
   ]
  },
  {
   "cell_type": "code",
   "execution_count": null,
   "metadata": {},
   "outputs": [],
   "source": [
    "t2i = qianfan.Text2Image()\n",
    "resp = t2i.do(prompt=pt, with_decode=\"base64\")\n",
    "img_data = resp[\"body\"][\"data\"][0][\"image\"]\n",
    "\n",
    "img = Image.open(io.BytesIO(img_data))\n",
    "img.show()"
   ]
  },
  {
   "cell_type": "markdown",
   "metadata": {},
   "source": [
    "接下来，将上述prompt进行优化，提升图片的生成效果:"
   ]
  },
  {
   "cell_type": "code",
   "execution_count": 31,
   "metadata": {},
   "outputs": [
    {
     "name": "stdout",
     "output_type": "stream",
     "text": [
      "a scene depicting a dog, a cat, and Jesus in the middle caring for all creatures, including humans and plants, religious iconography, harmonious coexistence, Jesus's loving gaze, vibrant colors, photorealistic rendering, detailed textures, emotional expression, sense of peace and tranquility, (emphasis on Jesus's role:1.5), high resolution, 8k\n",
      "\n",
      "Negative prompt: text, logos, watermarks, out of frame, cartoony, unrealistic colors, violent or disturbing imagery.\n"
     ]
    }
   ],
   "source": [
    "p = prompt_update(pt)\n",
    "comp = Completion(model=\"ERNIE-3.5-8K\")\n",
    "\n",
    "r = comp.do(prompt=p.render()[0])\n",
    "output = r['result']\n",
    "print(output)"
   ]
  },
  {
   "cell_type": "markdown",
   "metadata": {},
   "source": [
    "以下为优化prompt的生成效果展示："
   ]
  },
  {
   "cell_type": "code",
   "execution_count": null,
   "metadata": {},
   "outputs": [],
   "source": [
    "t2i = qianfan.Text2Image()\n",
    "resp = t2i.do(prompt=output, with_decode=\"base64\")\n",
    "img_data = resp[\"body\"][\"data\"][0][\"image\"]\n",
    "\n",
    "img = Image.open(io.BytesIO(img_data))\n",
    "display(img)"
   ]
  },
  {
   "cell_type": "markdown",
   "metadata": {},
   "source": [
    "![alt text](img/god_up.png)"
   ]
  },
  {
   "cell_type": "markdown",
   "metadata": {},
   "source": [
    "## 效果评估\n",
    "\n",
    "\n"
   ]
  },
  {
   "cell_type": "markdown",
   "metadata": {},
   "source": [
    "根据DiffusionDB的数据集，我们构造了一个简单的中文prompt测试集："
   ]
  },
  {
   "cell_type": "code",
   "execution_count": 11,
   "metadata": {},
   "outputs": [],
   "source": [
    "rawdata = [\n",
    "    \"黄昏谷仓画\", \"绿树成荫，花团锦簇\",\"一只高贵的柯基犬\",\"宫保鸡丁\",\"一个摆满玩具机器人的房间\",\"一座有许多雕像在里面的丛林寺庙\",\"两匹马的黑白照片\",\"一座庞大的宫殿,皇帝坐在正中央,大臣们骑着扫帚在殿内朝拜,有的大臣在汇报工作,整个大殿金碧辉煌\",\"一只可爱的小猫\",\"一座哥特式建筑\",\"一对肝胆相照的兄弟\",\"一只蜗牛\",\n",
    "    \"一个挑灯夜读的高中生,他坐在电脑桌前\",\"咖啡色的天空，绿色的湖，蓝色的草地\",\"神圣的金字塔，门口坐着狮身人面像\",\"两只猫鼬在野外和热气球在一起\",\"一幅描绘白裙少女在雏菊田中翩翩起舞的画作\",\"春天来了，万物复苏\",\"火光冲天的未来飞船\",\"一条狗，一只猫，耶稣在中间照顾所有的生物，有人，有植物\",\"蚂蚁上树\",\"夫妻肺片\",\"一只飞过山的凤凰\",\"机器人大战\",\"虫虫危机\"\n",
    "]"
   ]
  },
  {
   "cell_type": "markdown",
   "metadata": {},
   "source": [
    "定义文生图-保存函数："
   ]
  },
  {
   "cell_type": "code",
   "execution_count": 10,
   "metadata": {},
   "outputs": [],
   "source": [
    "def to_image(data):\n",
    "    count = 0\n",
    "    for pt in rawdata:\n",
    "        #print(count)\n",
    "        t2i = qianfan.Text2Image()\n",
    "        resp = t2i.do(prompt=pt, with_decode=\"base64\")\n",
    "        img_data = resp[\"body\"][\"data\"][0][\"image\"]\n",
    "\n",
    "        img = Image.open(io.BytesIO(img_data))\n",
    "        #display(img)\n",
    "\n",
    "        # 设置保存路径\n",
    "        save_dir = \"your_save_path/raw\"\n",
    "        save_path = os.path.join(save_dir, f\"{count}.png\")\n",
    "\n",
    "        # 确保保存目录存在\n",
    "        if not os.path.exists(save_dir):\n",
    "            os.makedirs(save_dir)\n",
    "\n",
    "        # 保存图片\n",
    "        img.save(save_path)\n",
    "        print(f\"Image {count} saved as {save_path}\")\n",
    "\n",
    "        count += 1"
   ]
  },
  {
   "cell_type": "markdown",
   "metadata": {},
   "source": [
    "首先，将优化前的图片保存到自定义的文件夹中"
   ]
  },
  {
   "cell_type": "code",
   "execution_count": 32,
   "metadata": {},
   "outputs": [
    {
     "name": "stdout",
     "output_type": "stream",
     "text": [
      "Image 0 saved as /Users/jianruitian/Documents/sdk/bce-qianfan-sdk-main/cookbook/prompt_update/aesthetics-score-main/raw/0.png\n",
      "Image 1 saved as /Users/jianruitian/Documents/sdk/bce-qianfan-sdk-main/cookbook/prompt_update/aesthetics-score-main/raw/1.png\n",
      "Image 2 saved as /Users/jianruitian/Documents/sdk/bce-qianfan-sdk-main/cookbook/prompt_update/aesthetics-score-main/raw/2.png\n",
      "Image 3 saved as /Users/jianruitian/Documents/sdk/bce-qianfan-sdk-main/cookbook/prompt_update/aesthetics-score-main/raw/3.png\n",
      "Image 4 saved as /Users/jianruitian/Documents/sdk/bce-qianfan-sdk-main/cookbook/prompt_update/aesthetics-score-main/raw/4.png\n",
      "Image 5 saved as /Users/jianruitian/Documents/sdk/bce-qianfan-sdk-main/cookbook/prompt_update/aesthetics-score-main/raw/5.png\n",
      "Image 6 saved as /Users/jianruitian/Documents/sdk/bce-qianfan-sdk-main/cookbook/prompt_update/aesthetics-score-main/raw/6.png\n",
      "Image 7 saved as /Users/jianruitian/Documents/sdk/bce-qianfan-sdk-main/cookbook/prompt_update/aesthetics-score-main/raw/7.png\n",
      "Image 8 saved as /Users/jianruitian/Documents/sdk/bce-qianfan-sdk-main/cookbook/prompt_update/aesthetics-score-main/raw/8.png\n",
      "Image 9 saved as /Users/jianruitian/Documents/sdk/bce-qianfan-sdk-main/cookbook/prompt_update/aesthetics-score-main/raw/9.png\n",
      "Image 10 saved as /Users/jianruitian/Documents/sdk/bce-qianfan-sdk-main/cookbook/prompt_update/aesthetics-score-main/raw/10.png\n",
      "Image 11 saved as /Users/jianruitian/Documents/sdk/bce-qianfan-sdk-main/cookbook/prompt_update/aesthetics-score-main/raw/11.png\n",
      "Image 12 saved as /Users/jianruitian/Documents/sdk/bce-qianfan-sdk-main/cookbook/prompt_update/aesthetics-score-main/raw/12.png\n",
      "Image 13 saved as /Users/jianruitian/Documents/sdk/bce-qianfan-sdk-main/cookbook/prompt_update/aesthetics-score-main/raw/13.png\n",
      "Image 14 saved as /Users/jianruitian/Documents/sdk/bce-qianfan-sdk-main/cookbook/prompt_update/aesthetics-score-main/raw/14.png\n",
      "Image 15 saved as /Users/jianruitian/Documents/sdk/bce-qianfan-sdk-main/cookbook/prompt_update/aesthetics-score-main/raw/15.png\n",
      "Image 16 saved as /Users/jianruitian/Documents/sdk/bce-qianfan-sdk-main/cookbook/prompt_update/aesthetics-score-main/raw/16.png\n",
      "Image 17 saved as /Users/jianruitian/Documents/sdk/bce-qianfan-sdk-main/cookbook/prompt_update/aesthetics-score-main/raw/17.png\n",
      "Image 18 saved as /Users/jianruitian/Documents/sdk/bce-qianfan-sdk-main/cookbook/prompt_update/aesthetics-score-main/raw/18.png\n",
      "Image 19 saved as /Users/jianruitian/Documents/sdk/bce-qianfan-sdk-main/cookbook/prompt_update/aesthetics-score-main/raw/19.png\n",
      "Image 20 saved as /Users/jianruitian/Documents/sdk/bce-qianfan-sdk-main/cookbook/prompt_update/aesthetics-score-main/raw/20.png\n",
      "Image 21 saved as /Users/jianruitian/Documents/sdk/bce-qianfan-sdk-main/cookbook/prompt_update/aesthetics-score-main/raw/21.png\n",
      "Image 22 saved as /Users/jianruitian/Documents/sdk/bce-qianfan-sdk-main/cookbook/prompt_update/aesthetics-score-main/raw/22.png\n",
      "Image 23 saved as /Users/jianruitian/Documents/sdk/bce-qianfan-sdk-main/cookbook/prompt_update/aesthetics-score-main/raw/23.png\n",
      "Image 24 saved as /Users/jianruitian/Documents/sdk/bce-qianfan-sdk-main/cookbook/prompt_update/aesthetics-score-main/raw/24.png\n"
     ]
    }
   ],
   "source": [
    "to_image(rawdata)"
   ]
  },
  {
   "cell_type": "code",
   "execution_count": 12,
   "metadata": {},
   "outputs": [],
   "source": [
    "mission_prompt = []\n",
    "for pt in rawdata:\n",
    "    p = prompt_update(pt)\n",
    "    mission_prompt.append(p)\n",
    "#print(input_prompt)"
   ]
  },
  {
   "cell_type": "code",
   "execution_count": 14,
   "metadata": {},
   "outputs": [
    {
     "name": "stdout",
     "output_type": "stream",
     "text": [
      "a painting of a rustic barn at dusk, golden hour lighting, soft shadows, warm tones, detailed textures, photorealistic, artistic style, painterly brushstrokes, romantic, peaceful atmosphere, (enhanced details:1.3), high resolution, 8k\n",
      "\n",
      "Negative prompt: text, logos, watermarks, out of frame, modern buildings, cars, technology, bright colors, unnatural lighting, cartoonish, abstract, distorted, ugly, blurry.\n",
      "a lush green forest, blooming flowers, vibrant colors, dense foliage, diverse plant species, sunlit paths, natural lighting, photorealistic, detailed texturing, intricate botanical details, serene atmosphere, peaceful environment, high clarity, 8k\n",
      "\n",
      "Negative prompt: text, logos, watermarks, out of frame, ugly, distorted, artificial, mutated, cartoon, comic, simplified, bad anatomy, mechanical, cgi, matte painting, digital art, illustration, painting\n",
      "A noble Corgi, regal posture, elegant fur, intricate details, art by wlop and rossdraws, hyper realistic, photorealistic, sharp focus, intricate fur texture, highly detailed, intricate facial features, realistic lighting, studio quality photography\n",
      "\n",
      "Negative prompt: text, logos, watermarks, out of frame, messy, blurry, extra limbs, deformed features, cartoon, comics, illustrations, 2D, bad anatomy, mutated, ugly, distorted features, low quality, pixelated.\n",
      "a delicious dish of Kung Pao Chicken, diced chicken breast, dried chili peppers, peanuts, vibrant colors, photorealistic, food photography, close-up shot, richly textured, appetizing, culinary presentation, (detailed garnish:1.3), high resolution, 8k\n",
      "\n",
      "Negative prompt: text, logos, watermarks, out of frame, unattractive, discolored, unappetizing, unrealistic, unnatural lighting, blurry, out of focus.\n",
      "A room filled with toy robots, diverse designs, colorful, detailed, realistic textures, bright lighting, clean and organized, futuristic feel, intricate mechanical details, (robotic diversity:1.3), photorealistic rendering, high clarity, 8k\n",
      "\n",
      "Negative prompt: text, logos, watermarks, out of frame, messy, disorganized, blurry, low quality, pixelated, ugly, realistic humans, real people, real animals, realistic humans, real people, real animals.\n",
      "a jungle temple filled with numerous statues, intricate carvings, lush vegetation, tropical plants, dense foliage, ancient architecture, hidden passageways, natural lighting, realistic textures, hyper realistic detail, photorealistic rendering, high resolution, 8k\n",
      "\n",
      "Negative prompt: text, logos, watermarks, out of frame, modern buildings, artificial structures, unrealistic lighting, cartoony, fuzzy, low quality, low resolution.\n",
      "black and white photograph of two horses, grazing in a meadow, natural lighting, realistic details, soft focus, horse portrait, equine photography, elegant, classic, horse mane and tail, hooves, muscular horses, intricate horse details, highly detailed, photorealistic, high clarity, 8k\n",
      "\n",
      "Negative prompt: text, logos, watermarks, out of frame, color, blurred, messy, discolored, unattractive horses, cartoon, anime, drawing, painting, illustration, unrealistic lighting, artificial lighting, studio background, people, human, objects, manmade structures.\n",
      "A grand palace, the emperor seated at the center, ministers riding broomsticks bowing in the hall, some ministers reporting work, the entire hall resplendent with gold and jade, intricate carvings, vibrant colors, photorealistic rendering, detailed architecture, luxurious interior, ministers in elaborate robes, emperor in imperial attire, realistic lighting, high clarity, 8k\n",
      "\n",
      "Negative prompt: text, logos, watermarks, out of frame, unrealistic lighting, blurry, unattractive, cartoonish, simplified, distorted features, extra limbs, extra hands, extra feet, extra fingers, bad anatomy.\n",
      "A cute kitten, soft fur, round face, big eyes, playing with a ball of yarn, cozy indoor environment, realistic fur texture, photorealistic lighting, highly detailed, sharp focus, cuteness overload, warm colors, comfortable atmosphere, professional photography, (detailed fur:1.3), (cute facial expression:1.4), high resolution, 8k\n",
      "\n",
      "Negative prompt: text, logos, watermarks, out of frame, ugly, discolored, deformed, distorted features, aggressive behavior, uncomfortable environment, blurry, low resolution.\n",
      "Gothic architecture, intricate details, pointed arches, flying buttresses, stained glass windows, intricate carvings, stone facade, rich historical feel, atmospheric lighting, shadows, moody tones, photorealistic rendering, high definition, 8k\n",
      "\n",
      "Negative prompt: text, logos, watermarks, out of frame, cartoonish, simplified, modern buildings, unrealistic lighting, blurry, out of focus.\n",
      "a pair of loyal brothers, side by side,肝胆相照, strong bond, mutual support, emotional connection, realistic details, photorealistic rendering, intricate facial expressions, emotional depth, dynamic posing, high resolution, 8k\n",
      "\n",
      "Negative prompt: text, logos, watermarks, out of frame, cartoon, anime, unrealistic, unnatural poses, blurry, low quality, ugly, discolored, unrelated objects, unattractive expressions, unrealistic lighting, artificial looking.\n",
      "a snail, intricate shell pattern, realistic texture, natural habitat, detailed anatomy, high resolution, 8k, photorealistic rendering, meticulous detailing, intricate shell patterns, realistic snail texture, detailed snail anatomy, vibrant colors, lifelike snail, (shell detail:1.3)\n",
      "\n",
      "Negative prompt: text, logos, watermarks, out of frame, cartoon, comic, drawing, illustration, sketch, simplified, abstract, cartoonish, anime, stylized, 3d, cg, rendered, matte painting, digital art, painting, artwork, cartoon character, graphical user interface, video game graphics, clip art, deformed, mutated, ugly, discolored.\n",
      "a high school student studying late into the night, sitting at a computer desk, intense focus, bright light from the lamp, detailed facial expressions, youthful appearance, realistic skin tones, realistic hair, realistic clothing, realistic lighting, photorealistic, hyper realistic, intricate details, 8k\n",
      "\n",
      "Negative prompt: text, logos, watermarks, out of frame, cartoon, anime, manga, unrealistic lighting, blurry, messy background, unfocused eyes, tired expression, disinterested pose, distorted features, incorrect anatomy, extra limbs.\n",
      "A coffee-colored sky, a verdant lake, and a blue meadow, all three elements harmoniously blended together, creating a surreal and dreamlike landscape. The coffee-colored sky is rich and deep, with hints of brown and cream, while the green lake reflects the sky's hue, creating a calming and serene atmosphere. The blue grass contrasts beautifully with the other two colors, adding a touch of freshness and vitality to the scene. Photorealistic, highly detailed, and with a focus on color harmony and natural elements, this image captures the essence of a magical and enchanting world.\n",
      "\n",
      "Negative prompt: text, logos, watermarks, out of frame, ugly, discolored, artificial, cartoonish, unrealistic lighting, blurry, low resolution, out of focus, grainy, muted colors, distorted perspective, bad anatomy, extra limbs, unnatural poses.\n",
      "a sacred golden pyramid, sphinx sitting at the entrance, detailed carvings, symmetrical design, sun rays shining down, historical atmosphere, photorealistic, hyper realistic, intricate details, high clarity, 8k\n",
      "\n",
      "Negative prompt: text, logos, watermarks, out of frame, blurry, distorted, cartoon, abstract, ugly, discolored, unrealistic lighting, modern objects, modern buildings, people, vehicles, animals, other creatures.\n",
      "Two meerkats in the wild with a hot air balloon, vibrant natural colors, photorealistic, detailed wildlife photography, natural lighting, dynamic pose, harmonious coexistence, (emphasis on animal expressions:1.3), high resolution, 8k\n",
      "\n",
      "Negative prompt: text, logos, watermarks, out of frame, cartoon, simplified, deformed, mutated, unnatural colors, blurry, artificial, studio background, unnatural poses, unrealistic lighting, low quality, ugly.\n",
      "a painting of a young girl in a white dress dancing gracefully in a field of daisies, soft lighting, romantic, ethereal, pastoral scene, painterly style, Impressionism, detailed flowers, soft focus on the girl's face, light streaming through the flowers, (detailed flowers:1.5), (detailed dress:1.3), (detailed hair:1.2), photorealistic, highly detailed, artistic vision, emotional depth, masterpiece painting\n",
      "\n",
      "Negative prompt: text, logos, watermarks, out of frame, blurry, unrealistic, unnatural poses, unnatural expressions, modern clothing, urban elements, technology, mechanical parts, cartoonish, anime, abstract, ugly, deformed, disproportionate, realistic eyes, realistic nose, realistic mouth, realistic ears, realistic hair, realistic skin, realistic hands, realistic feet\n",
      "Springtime scene, blooming flowers, new growth on trees, vibrant colors, butterflies and birds, soft sunlight, peaceful atmosphere, detailed nature, realistic rendering, high definition, 8k\n",
      "\n",
      "Negative prompt: text, logos, watermarks, out of frame, blurry, artificial, distorted, ugly, deformed, unnatural colors, abstract, cartoon, animated, graphics, illustration.\n",
      "a futuristic spacecraft engulfed in fiery flames, intense light and heat radiating from the blaze, intricate detailing of the ship's structure, highly advanced technology visible, fiery orange and red hues dominating the scene, photorealistic rendering, hyper-detailed flames, dynamic lighting effects, (futuristic design:1.5), (intense flames:1.3), high resolution, 8k\n",
      "\n",
      "Negative prompt: text, logos, watermarks, out of frame, ugly, blurry, unrealistic fire effects, unrealistic lighting, unattractive flames, discolored flames, unnatural colors, simple design, cartoonish, unrealistic ship design, unrealistic technology\n",
      "a painting of a dog, a cat, and Jesus in the center caring for all creatures, including humans and plants, religious iconography, biblical scene, detailed rendering, realistic lighting, vibrant colors, emotional depth, Jesus's loving gaze, harmonious coexistence, (emphasis on Jesus's compassion:1.5), (detail in animal fur and plant life:1.3), photorealistic, high resolution, 8k\n",
      "\n",
      "Negative prompt: text, logos, watermarks, out of frame, cartoonish, unrealistic proportions, ugly, discolored, unrelated subjects, modern objects, modern clothing, modern architecture, abstract art, sketchy, bad anatomy, mutated animals, mutated humans, deformed, grotesque, distorted features, unnatural lighting, dark or gloomy scenes\n",
      "an ant climbing on a tree branch, realistic details, intricate texturing, natural lighting, bright colors, sharp focus, detailed branches, photorealistic ants, high resolution, 8k\n",
      "\n",
      "Negative prompt: text, logos, watermarks, out of frame, cartoonish, fuzzy, blurred, low quality, unrealistic lighting, simplified details, ugly, discolored.\n",
      "a delicious dish of夫妻肺片, sliced beef and beef offal, vibrant colors, spicy sauce, photorealistic, food photography, close-up shot, richly textured, appetizing, culinary presentation, (detailed garnish:1.3), high resolution, 8k\n",
      "\n",
      "Negative prompt: text, logos, watermarks, out of frame, unattractive, discolored, unappetizing, unrealistic, cartoon, comic, sketch, painting, drawing, illustration, anime, manga, clip art, pixel art, cartoonish, graphics, vector.\n",
      "a majestic phoenix soaring over a mountain range, vibrant colors, fiery plumage, detailed feathers, photorealistic, mythical creature, powerful wings, sunlit sky, high resolution, 8k\n",
      "\n",
      "Negative prompt: text, logos, watermarks, out of frame, blurry, unrealistic, unnatural, cartoonish, childish, simple line art, poor lighting, bad anatomy, extra limbs, mutated, deformed.\n",
      "Robot warfare, detailed robots, futuristic technology, battle scene, dynamic poses, intense action, realistic lighting, high contrast, intricate mechanical details, photorealistic rendering, 8k resolution,\n",
      "\n",
      "Negative prompt: text, logos, watermarks, out of frame, cartoonish, unrealistic, blurred, low contrast, abstract, simplified, childish, ugly robots, unrealistic technology, boring poses, uninteresting action, flat lighting.\n",
      "\"A vibrant scene from 'A Bug's Life', intricate detailing, realistic insects, anthropomorphic characters, colorful environment, natural lighting, photorealistic rendering, high clarity, 8k\n",
      "\n",
      "Negative prompt: text, logos, watermarks, out of frame, cartoony, simplified, low detail, ugly, mutated, disfigured, distorted, abstract, unrealistic lighting, unrealistic colors\"\n"
     ]
    }
   ],
   "source": [
    "update_prompt = []\n",
    "for i in range(len(mission_prompt)):\n",
    "    #print(i)\n",
    "    p = mission_prompt[i]\n",
    "    comp = Completion(model=\"ERNIE-3.5-8K\")\n",
    "\n",
    "    r = comp.do(prompt=p.render()[0])\n",
    "    \n",
    "    output = r['result']\n",
    "    update_prompt.append(output)\n",
    "    print(output)\n",
    "#print(update_prompt)\n"
   ]
  },
  {
   "cell_type": "code",
   "execution_count": 29,
   "metadata": {},
   "outputs": [
    {
     "name": "stdout",
     "output_type": "stream",
     "text": [
      "Image 0 saved as /Users/jianruitian/Documents/sdk/bce-qianfan-sdk-main/cookbook/prompt_update/aesthetics-score-main/update/0.png\n",
      "Image 1 saved as /Users/jianruitian/Documents/sdk/bce-qianfan-sdk-main/cookbook/prompt_update/aesthetics-score-main/update/1.png\n",
      "Image 2 saved as /Users/jianruitian/Documents/sdk/bce-qianfan-sdk-main/cookbook/prompt_update/aesthetics-score-main/update/2.png\n",
      "Image 3 saved as /Users/jianruitian/Documents/sdk/bce-qianfan-sdk-main/cookbook/prompt_update/aesthetics-score-main/update/3.png\n",
      "Image 4 saved as /Users/jianruitian/Documents/sdk/bce-qianfan-sdk-main/cookbook/prompt_update/aesthetics-score-main/update/4.png\n",
      "Image 5 saved as /Users/jianruitian/Documents/sdk/bce-qianfan-sdk-main/cookbook/prompt_update/aesthetics-score-main/update/5.png\n",
      "Image 6 saved as /Users/jianruitian/Documents/sdk/bce-qianfan-sdk-main/cookbook/prompt_update/aesthetics-score-main/update/6.png\n",
      "Image 7 saved as /Users/jianruitian/Documents/sdk/bce-qianfan-sdk-main/cookbook/prompt_update/aesthetics-score-main/update/7.png\n",
      "Image 8 saved as /Users/jianruitian/Documents/sdk/bce-qianfan-sdk-main/cookbook/prompt_update/aesthetics-score-main/update/8.png\n",
      "Image 9 saved as /Users/jianruitian/Documents/sdk/bce-qianfan-sdk-main/cookbook/prompt_update/aesthetics-score-main/update/9.png\n",
      "Image 10 saved as /Users/jianruitian/Documents/sdk/bce-qianfan-sdk-main/cookbook/prompt_update/aesthetics-score-main/update/10.png\n",
      "Image 11 saved as /Users/jianruitian/Documents/sdk/bce-qianfan-sdk-main/cookbook/prompt_update/aesthetics-score-main/update/11.png\n",
      "Image 12 saved as /Users/jianruitian/Documents/sdk/bce-qianfan-sdk-main/cookbook/prompt_update/aesthetics-score-main/update/12.png\n",
      "Image 13 saved as /Users/jianruitian/Documents/sdk/bce-qianfan-sdk-main/cookbook/prompt_update/aesthetics-score-main/update/13.png\n",
      "Image 14 saved as /Users/jianruitian/Documents/sdk/bce-qianfan-sdk-main/cookbook/prompt_update/aesthetics-score-main/update/14.png\n",
      "Image 15 saved as /Users/jianruitian/Documents/sdk/bce-qianfan-sdk-main/cookbook/prompt_update/aesthetics-score-main/update/15.png\n",
      "Image 16 saved as /Users/jianruitian/Documents/sdk/bce-qianfan-sdk-main/cookbook/prompt_update/aesthetics-score-main/update/16.png\n",
      "Image 17 saved as /Users/jianruitian/Documents/sdk/bce-qianfan-sdk-main/cookbook/prompt_update/aesthetics-score-main/update/17.png\n",
      "Image 18 saved as /Users/jianruitian/Documents/sdk/bce-qianfan-sdk-main/cookbook/prompt_update/aesthetics-score-main/update/18.png\n",
      "Image 19 saved as /Users/jianruitian/Documents/sdk/bce-qianfan-sdk-main/cookbook/prompt_update/aesthetics-score-main/update/19.png\n",
      "Image 20 saved as /Users/jianruitian/Documents/sdk/bce-qianfan-sdk-main/cookbook/prompt_update/aesthetics-score-main/update/20.png\n",
      "Image 21 saved as /Users/jianruitian/Documents/sdk/bce-qianfan-sdk-main/cookbook/prompt_update/aesthetics-score-main/update/21.png\n",
      "Image 22 saved as /Users/jianruitian/Documents/sdk/bce-qianfan-sdk-main/cookbook/prompt_update/aesthetics-score-main/update/22.png\n",
      "Image 23 saved as /Users/jianruitian/Documents/sdk/bce-qianfan-sdk-main/cookbook/prompt_update/aesthetics-score-main/update/23.png\n",
      "Image 24 saved as /Users/jianruitian/Documents/sdk/bce-qianfan-sdk-main/cookbook/prompt_update/aesthetics-score-main/update/24.png\n"
     ]
    }
   ],
   "source": [
    "count = 0\n",
    "for pt in update_prompt:\n",
    "    t2i = qianfan.Text2Image()\n",
    "    resp = t2i.do(prompt=pt, with_decode=\"base64\")\n",
    "    img_data = resp[\"body\"][\"data\"][0][\"image\"]\n",
    "\n",
    "    img = Image.open(io.BytesIO(img_data))\n",
    "    #display(img)\n",
    "\n",
    "    # 设置保存路径\n",
    "    save_dir = \"your_save_path/raw\"\n",
    "    save_path = os.path.join(save_dir, f\"{count}.png\")\n",
    "\n",
    "    # 确保保存目录存在\n",
    "    if not os.path.exists(save_dir):\n",
    "        os.makedirs(save_dir)\n",
    "\n",
    "    # 保存图片\n",
    "    img.save(save_path)\n",
    "    print(f\"Image {count} saved as {save_path}\")\n",
    "\n",
    "    count += 1"
   ]
  },
  {
   "cell_type": "markdown",
   "metadata": {},
   "source": [
    "# 进行美学评分\n",
    "\n",
    "* Aesthetics Score 是一种衡量图像美学素质的数值指标。\n",
    "* 该指标的计算方法是将图像的不同视觉特征（如色彩、形状、线条、纹理、光照、透视、空间分布等）的重要程度进行加权，并将加权结果乘以相应的权重，得到的结果即为图像的美学得分。\n",
    "* 美学得分的范围从 0 到 10，数值越高，图像的视觉效果越好。\n",
    "* 此处，我们引入美学得分来衡量我们的prompt优化效果"
   ]
  },
  {
   "cell_type": "code",
   "execution_count": 15,
   "metadata": {},
   "outputs": [
    {
     "name": "stdout",
     "output_type": "stream",
     "text": [
      "Collecting clip@ git+https://github.com/openai/CLIP.git@a9b1bf5920416aaeaec965c25dd9e8f98c864f16 (from -r requirements.txt (line 1))\n",
      "  Using cached clip-1.0-py3-none-any.whl\n",
      "Requirement already satisfied: numpy in /opt/anaconda3/lib/python3.11/site-packages (from -r requirements.txt (line 2)) (1.26.4)\n",
      "Requirement already satisfied: Pillow in /opt/anaconda3/lib/python3.11/site-packages (from -r requirements.txt (line 3)) (10.2.0)\n",
      "Requirement already satisfied: platformdirs in /opt/anaconda3/lib/python3.11/site-packages (from -r requirements.txt (line 4)) (3.10.0)\n",
      "Requirement already satisfied: requests in /opt/anaconda3/lib/python3.11/site-packages (from -r requirements.txt (line 5)) (2.31.0)\n",
      "Requirement already satisfied: torch in /opt/anaconda3/lib/python3.11/site-packages (from -r requirements.txt (line 6)) (2.3.0)\n",
      "Requirement already satisfied: torchvision in /opt/anaconda3/lib/python3.11/site-packages (from -r requirements.txt (line 7)) (0.18.0)\n",
      "Requirement already satisfied: tqdm in /opt/anaconda3/lib/python3.11/site-packages (from -r requirements.txt (line 8)) (4.65.0)\n",
      "Requirement already satisfied: ftfy in /opt/anaconda3/lib/python3.11/site-packages (from clip@ git+https://github.com/openai/CLIP.git@a9b1bf5920416aaeaec965c25dd9e8f98c864f16->-r requirements.txt (line 1)) (6.2.0)\n",
      "Requirement already satisfied: regex in /opt/anaconda3/lib/python3.11/site-packages (from clip@ git+https://github.com/openai/CLIP.git@a9b1bf5920416aaeaec965c25dd9e8f98c864f16->-r requirements.txt (line 1)) (2023.10.3)\n",
      "Requirement already satisfied: charset-normalizer<4,>=2 in /opt/anaconda3/lib/python3.11/site-packages (from requests->-r requirements.txt (line 5)) (2.0.4)\n",
      "Requirement already satisfied: idna<4,>=2.5 in /opt/anaconda3/lib/python3.11/site-packages (from requests->-r requirements.txt (line 5)) (3.4)\n",
      "Requirement already satisfied: urllib3<3,>=1.21.1 in /opt/anaconda3/lib/python3.11/site-packages (from requests->-r requirements.txt (line 5)) (2.0.7)\n",
      "Requirement already satisfied: certifi>=2017.4.17 in /opt/anaconda3/lib/python3.11/site-packages (from requests->-r requirements.txt (line 5)) (2024.2.2)\n",
      "Requirement already satisfied: filelock in /opt/anaconda3/lib/python3.11/site-packages (from torch->-r requirements.txt (line 6)) (3.13.1)\n",
      "Requirement already satisfied: typing-extensions>=4.8.0 in /opt/anaconda3/lib/python3.11/site-packages (from torch->-r requirements.txt (line 6)) (4.9.0)\n",
      "Requirement already satisfied: sympy in /opt/anaconda3/lib/python3.11/site-packages (from torch->-r requirements.txt (line 6)) (1.12)\n",
      "Requirement already satisfied: networkx in /opt/anaconda3/lib/python3.11/site-packages (from torch->-r requirements.txt (line 6)) (3.1)\n",
      "Requirement already satisfied: jinja2 in /opt/anaconda3/lib/python3.11/site-packages (from torch->-r requirements.txt (line 6)) (3.1.3)\n",
      "Requirement already satisfied: fsspec in /opt/anaconda3/lib/python3.11/site-packages (from torch->-r requirements.txt (line 6)) (2023.10.0)\n",
      "Requirement already satisfied: wcwidth<0.3.0,>=0.2.12 in /opt/anaconda3/lib/python3.11/site-packages (from ftfy->clip@ git+https://github.com/openai/CLIP.git@a9b1bf5920416aaeaec965c25dd9e8f98c864f16->-r requirements.txt (line 1)) (0.2.13)\n",
      "Requirement already satisfied: MarkupSafe>=2.0 in /opt/anaconda3/lib/python3.11/site-packages (from jinja2->torch->-r requirements.txt (line 6)) (2.1.3)\n",
      "Requirement already satisfied: mpmath>=0.19 in /opt/anaconda3/lib/python3.11/site-packages (from sympy->torch->-r requirements.txt (line 6)) (1.3.0)\n"
     ]
    }
   ],
   "source": [
    "!python -m venv venv\n",
    "!pip install -r requirements.txt"
   ]
  },
  {
   "cell_type": "code",
   "execution_count": 16,
   "metadata": {},
   "outputs": [],
   "source": [
    "import ae_score\n",
    "#print(ae_score.result)"
   ]
  },
  {
   "cell_type": "markdown",
   "metadata": {},
   "source": [
    "首先，对未优化的prompt生成的图片进行评测："
   ]
  },
  {
   "cell_type": "code",
   "execution_count": 6,
   "metadata": {},
   "outputs": [
    {
     "name": "stdout",
     "output_type": "stream",
     "text": [
      "Loading sac+logos+ava1-l14-linearMSE\n",
      "Loading CLIP ViT-L/14\n",
      "100%|███████████████████████████████████████████| 25/25 [00:11<00:00,  2.17it/s]16.png 6.8732428550720215\n",
      "7.png 6.865425109863281\n",
      "1.png 6.784933090209961\n",
      "18.png 6.7444000244140625\n",
      "5.png 6.7313947677612305\n",
      "0.png 6.590202331542969\n",
      "12.png 6.5729079246521\n",
      "22.png 6.2540483474731445\n",
      "13.png 6.181968688964844\n",
      "15.png 6.098599433898926\n",
      "6.png 6.046545028686523\n",
      "2.png 6.041029930114746\n",
      "8.png 6.033477783203125\n",
      "19.png 5.950916767120361\n",
      "14.png 5.9338603019714355\n",
      "10.png 5.8986663818359375\n",
      "24.png 5.768111228942871\n",
      "9.png 5.747403144836426\n",
      "17.png 5.718369960784912\n",
      "20.png 5.7173237800598145\n",
      "11.png 5.677421569824219\n",
      "3.png 5.602540016174316\n",
      "21.png 5.555800437927246\n",
      "4.png 5.536472320556641\n",
      "23.png 5.463445663452148\n",
      "average score: 6.095540275573731\n",
      "100%|███████████████████████████████████████████| 25/25 [00:11<00:00,  2.19it/s]\n"
     ]
    }
   ],
   "source": [
    "!python3 ae_score.py raw\n",
    "result_file = \"result.txt\"\n",
    "with open(result_file, \"r\") as file:\n",
    "    result = float(file.read())\n",
    "with open('filename.txt', 'w') as file:\n",
    "    file.truncate()\n",
    "\n",
    "raw_score = result"
   ]
  },
  {
   "cell_type": "markdown",
   "metadata": {},
   "source": [
    "接下来，对已优化的prompt生成的图片进行评测："
   ]
  },
  {
   "cell_type": "code",
   "execution_count": 9,
   "metadata": {},
   "outputs": [
    {
     "name": "stdout",
     "output_type": "stream",
     "text": [
      "Loading sac+logos+ava1-l14-linearMSE\n",
      "Loading CLIP ViT-L/14\n",
      "100%|███████████████████████████████████████████| 25/25 [00:11<00:00,  2.16it/s]17.png 7.243247032165527\n",
      "12.png 7.086347579956055\n",
      "16.png 7.0605878829956055\n",
      "1.png 6.963512897491455\n",
      "0.png 6.95967960357666\n",
      "5.png 6.796309471130371\n",
      "13.png 6.795547008514404\n",
      "22.png 6.794119834899902\n",
      "3.png 6.622880935668945\n",
      "15.png 6.577589988708496\n",
      "2.png 6.4476518630981445\n",
      "7.png 6.444652080535889\n",
      "10.png 6.432063579559326\n",
      "14.png 6.400423049926758\n",
      "20.png 6.357996463775635\n",
      "11.png 6.24599552154541\n",
      "6.png 6.230348587036133\n",
      "23.png 6.177926540374756\n",
      "18.png 6.153735160827637\n",
      "8.png 6.1326518058776855\n",
      "4.png 6.002791404724121\n",
      "19.png 5.911849498748779\n",
      "21.png 5.8678693771362305\n",
      "24.png 5.856161117553711\n",
      "9.png 5.462802886962891\n",
      "average score: 6.440989646911621\n",
      "100%|███████████████████████████████████████████| 25/25 [00:11<00:00,  2.13it/s]\n"
     ]
    }
   ],
   "source": [
    "!python3 ae_score.py update/\n",
    "result_file = \"result.txt\"\n",
    "with open(result_file, \"r\") as file:\n",
    "    result = float(file.read())\n",
    "with open('filename.txt', 'w') as file:\n",
    "    file.truncate()\n",
    "\n",
    "update_score = result"
   ]
  },
  {
   "cell_type": "markdown",
   "metadata": {},
   "source": [
    "* 在总量为20的数据集上进行了美学评分，最终我们的优化提升幅度达到了5.5%。"
   ]
  },
  {
   "cell_type": "code",
   "execution_count": 10,
   "metadata": {},
   "outputs": [
    {
     "data": {
      "image/png": "[encoded data removed]",
      "text/plain": [
       "<Figure size 400x400 with 1 Axes>"
      ]
     },
     "metadata": {},
     "output_type": "display_data"
    }
   ],
   "source": [
    "import matplotlib.pyplot as plt\n",
    "import numpy as np\n",
    "\n",
    "# 创建一个 3x3 的表格\n",
    "fig, ax = plt.subplots(figsize=(4, 4))\n",
    "ax.axis('off')  # 隐藏坐标轴\n",
    "\n",
    "# 设置表格的行列数\n",
    "rows = 1\n",
    "cols = 2\n",
    "\n",
    "# 创建数据\n",
    "data = [[raw_score], [update_score]]\n",
    "\n",
    "# 创建表头\n",
    "row_labels = ['Raw_prompt', 'Update_prompt']\n",
    "col_labels = ['Aesthetic Score']\n",
    "\n",
    "# 绘制表格\n",
    "the_table = ax.table(cellText=data,\n",
    "                    rowLabels=row_labels,\n",
    "                    colLabels=col_labels,\n",
    "                    loc='center',\n",
    "                    cellLoc='center',\n",
    "                    cellColours=[['none'] * 1] * 2)\n",
    "# 添加表格标题\n",
    "ax.set_title('Evaluation Result')\n",
    "\n",
    "# 调整表格大小\n",
    "the_table.auto_set_font_size(False)\n",
    "the_table.set_fontsize(10)\n",
    "the_table.scale(1, 1.5)\n",
    "\n",
    "# 显示图像\n",
    "plt.show()"
   ]
  }
 ],
 "metadata": {
  "kernelspec": {
   "display_name": "py311",
   "language": "python",
   "name": "python3"
  },
  "language_info": {
   "codemirror_mode": {
    "name": "ipython",
    "version": 3
   },
   "file_extension": ".py",
   "mimetype": "text/x-python",
   "name": "python",
   "nbconvert_exporter": "python",
   "pygments_lexer": "ipython3",
   "version": "3.11.7"
  }
 },
 "nbformat": 4,
 "nbformat_minor": 4
}
