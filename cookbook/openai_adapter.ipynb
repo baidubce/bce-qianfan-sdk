{
 "cells": [
  {
   "cell_type": "markdown",
   "metadata": {},
   "source": [
    "# OpenAI 适配器\n",
    "\n",
    "对于部分已经适配 OpenAI 而尚未支持千帆 SDK 的第三库，本文提供了一种方法，可以快速将千帆适配至任意这类库。\n",
    "\n",
    "千帆 SDK CLI 支持启动一个将千帆模拟成 OpenAI 接口的服务，然后让 OpenAI 请求该服务即可完成千帆的接入。"
   ]
  },
  {
   "cell_type": "markdown",
   "metadata": {},
   "source": [
    "具体来说，首先需要在命令行中运行 `qianfan openai` 启动一个模拟服务。\n",
    "\n",
    "可以通过 `-p 8001` 来指定端口，以及 `-d` 来让服务保持在后台运行。"
   ]
  },
  {
   "cell_type": "markdown",
   "metadata": {},
   "source": [
    "当服务启动后，只需要设置两个环境变量，就可以在代码中直接调用支持 OpenAI 的第三方库，这里以 langchain 为例："
   ]
  },
  {
   "cell_type": "code",
   "execution_count": 1,
   "metadata": {},
   "outputs": [],
   "source": [
    "import os\n",
    "\n",
    "os.environ[\"OPENAI_API_KEY\"] = \"any-content\"  # 任意内容，仅为绕过 OpenAI SDK 验证\n",
    "os.environ[\"OPENAI_BASE_URL\"] = \"http://127.0.0.1:8001/v1\"  # 修改为本地 OpenAI API 地址"
   ]
  },
  {
   "cell_type": "code",
   "execution_count": 3,
   "metadata": {},
   "outputs": [
    {
     "data": {
      "text/plain": [
       "'你好，我是百度研发的文心一言。我可以回答你的问题或与你对话。请问你有什么具体的问题或需要帮助吗？'"
      ]
     },
     "execution_count": 3,
     "metadata": {},
     "output_type": "execute_result"
    }
   ],
   "source": [
    "from langchain_openai import OpenAI\n",
    "from langchain_core.messages import HumanMessage, SystemMessage\n",
    "\n",
    "llm = OpenAI()\n",
    "\n",
    "llm.invoke([\n",
    "    HumanMessage(\n",
    "        content=\"你是谁\"\n",
    "    ),\n",
    "])"
   ]
  },
  {
   "cell_type": "markdown",
   "metadata": {},
   "source": [
    "也支持使用 function_call 实现 Agent"
   ]
  },
  {
   "cell_type": "code",
   "execution_count": 2,
   "metadata": {},
   "outputs": [],
   "source": [
    "from langchain import hub\n",
    "from langchain.agents import AgentExecutor, create_openai_tools_agent\n",
    "from langchain_openai import ChatOpenAI\n",
    "from langchain_community.tools import DuckDuckGoSearchRun"
   ]
  },
  {
   "cell_type": "code",
   "execution_count": 3,
   "metadata": {},
   "outputs": [],
   "source": [
    "tools = [DuckDuckGoSearchRun()]\n",
    "prompt = hub.pull(\"hwchase17/openai-tools-agent\")\n",
    "llm = ChatOpenAI(model=\"gpt-3.5-turbo-1106\", temperature=0)\n",
    "\n",
    "# Construct the OpenAI Tools agent\n",
    "agent = create_openai_tools_agent(llm, tools, prompt)"
   ]
  },
  {
   "cell_type": "code",
   "execution_count": 4,
   "metadata": {},
   "outputs": [
    {
     "name": "stdout",
     "output_type": "stream",
     "text": [
      "\n",
      "\n",
      "\u001b[1m> Entering new AgentExecutor chain...\u001b[0m\n",
      "\u001b[32;1m\u001b[1;3m文心千帆是百度推出的一款企业级知识增强大模型，旨在帮助企业实现智能化决策和精细化运营。它基于百度强大的飞桨深度学习平台和文心知识增强大模型，能够为企业提供丰富的语义理解和知识推理能力，帮助企业从海量数据中挖掘出有价值的信息，提升企业的智能化水平。\n",
      "\n",
      "文心千帆提供了多种应用场景，如智能客服、智能推荐、智能问答、智能文本分类等，能够为企业提供全方位的智能化服务。同时，文心千帆还支持定制化开发，企业可以根据自身需求，定制符合自身业务场景的模型，实现更加精细化的运营。\n",
      "\n",
      "总之，文心千帆是一款功能强大、易于使用、灵活定制的企业级知识增强大模型，能够帮助企业实现智能化决策和精细化运营，提升企业的竞争力和创新能力。\u001b[0m\n",
      "\n",
      "\u001b[1m> Finished chain.\u001b[0m\n"
     ]
    },
    {
     "data": {
      "text/plain": [
       "{'input': '文心千帆是什么',\n",
       " 'output': '文心千帆是百度推出的一款企业级知识增强大模型，旨在帮助企业实现智能化决策和精细化运营。它基于百度强大的飞桨深度学习平台和文心知识增强大模型，能够为企业提供丰富的语义理解和知识推理能力，帮助企业从海量数据中挖掘出有价值的信息，提升企业的智能化水平。\\n\\n文心千帆提供了多种应用场景，如智能客服、智能推荐、智能问答、智能文本分类等，能够为企业提供全方位的智能化服务。同时，文心千帆还支持定制化开发，企业可以根据自身需求，定制符合自身业务场景的模型，实现更加精细化的运营。\\n\\n总之，文心千帆是一款功能强大、易于使用、灵活定制的企业级知识增强大模型，能够帮助企业实现智能化决策和精细化运营，提升企业的竞争力和创新能力。'}"
      ]
     },
     "execution_count": 4,
     "metadata": {},
     "output_type": "execute_result"
    }
   ],
   "source": [
    "agent_executor = AgentExecutor(agent=agent, tools=tools, verbose=True)\n",
    "\n",
    "agent_executor.invoke({\"input\": \"文心千帆是什么\"})"
   ]
  },
  {
   "cell_type": "code",
   "execution_count": null,
   "metadata": {},
   "outputs": [],
   "source": []
  }
 ],
 "metadata": {
  "kernelspec": {
   "display_name": "py311",
   "language": "python",
   "name": "python3"
  },
  "language_info": {
   "codemirror_mode": {
    "name": "ipython",
    "version": 3
   },
   "file_extension": ".py",
   "mimetype": "text/x-python",
   "name": "python",
   "nbconvert_exporter": "python",
   "pygments_lexer": "ipython3",
   "version": "3.11.5"
  }
 },
 "nbformat": 4,
 "nbformat_minor": 2
}
