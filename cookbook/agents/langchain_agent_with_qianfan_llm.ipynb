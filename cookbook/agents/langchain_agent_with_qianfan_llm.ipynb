{
 "cells": [
  {
   "attachments": {},
   "cell_type": "markdown",
   "metadata": {},
   "source": [
    "# function call\n",
    "\n",
    "## 简介\n",
    "\n",
    "function_call，顾名思义，通过给大模型提供function的说明描述，以及对应的入参出参schema，让大模型输出function调用策略，结合多轮对话，以最终实现一个复杂的任务。\n",
    "以下将以天气获取为例子，通过qianfan SDK提供的ERNIE-Bot大模型以实现通过大模型得到对应城市的天气情况。\n",
    "\n",
    "## 准备\n",
    "\n",
    "本文使用了Langchain中的的agent以及tool以实现agent的中间步骤传递转移逻辑，所以我们需要安装qianfan SDK和langchain， 本文环境使用的版本如下所示：\n"
   ]
  },
  {
   "cell_type": "code",
   "execution_count": null,
   "metadata": {},
   "outputs": [],
   "source": [
    "!pip install qianfan==0.1.3\n",
    "!pip install langchain==0.0.335"
   ]
  },
  {
   "cell_type": "code",
   "execution_count": 1,
   "metadata": {},
   "outputs": [],
   "source": [
    "# 初始化LLM\n",
    "import os\n",
    "from langchain.chat_models import QianfanChatEndpoint\n",
    "\n",
    "os.environ[\"QIANFAN_AK\"] = \"your_ak\"\n",
    "os.environ[\"QIANFAN_SK\"] = \"your_sk\"\n",
    "llm = QianfanChatEndpoint(model=\"ERNIE-Bot\") # 仅EB支持\n"
   ]
  },
  {
   "attachments": {},
   "cell_type": "markdown",
   "metadata": {},
   "source": [
    "### 构造prompt"
   ]
  },
  {
   "cell_type": "code",
   "execution_count": 2,
   "metadata": {},
   "outputs": [],
   "source": [
    "from langchain.prompts import ChatPromptTemplate, MessagesPlaceholder\n",
    "\n",
    "prompt = ChatPromptTemplate.from_messages([\n",
    "    (\"system\", \"You are very powerful assistant, but bad at get today's temperature of location.\"),\n",
    "    (\"user\", \"{input}\"),\n",
    "    MessagesPlaceholder(variable_name=\"agent_scratchpad\")\n",
    "])"
   ]
  },
  {
   "attachments": {},
   "cell_type": "markdown",
   "metadata": {},
   "source": [
    "### 定义functions\n",
    "\n",
    "这一步需要定义好使用的functions的参数和描述，这会影响到LLm对function_call的回答"
   ]
  },
  {
   "cell_type": "code",
   "execution_count": 3,
   "metadata": {},
   "outputs": [],
   "source": [
    "FUNCTION_SCHEMA_GET_WEATHER = {\n",
    "    \"name\": \"get_current_weather\",\n",
    "    \"description\": \"获得指定地点的天气\",\n",
    "    \"parameters\": {\n",
    "        \"type\": \"object\",\n",
    "        \"properties\": {\n",
    "        \"location\": {\n",
    "            \"type\": \"string\",\n",
    "            \"description\": \"省，市名，例如：河北省，石家庄\"\n",
    "        },\n",
    "        \"unit\": {\n",
    "            \"type\": \"string\",\n",
    "            \"enum\": [\"摄氏度\", \"华氏度\"]\n",
    "        }\n",
    "        },\n",
    "        \"required\": [\"location\"]\n",
    "    }\n",
    "}\n",
    "\n",
    "\n",
    "from langchain.agents import tool\n",
    "\n",
    "@tool\n",
    "def get_current_weather(location: str) -> str:\n",
    "    \"\"\"Returns current temperature of location.\"\"\"\n",
    "    return \"25\"\n",
    "\n",
    "tools = [get_current_weather]"
   ]
  },
  {
   "cell_type": "code",
   "execution_count": 4,
   "metadata": {},
   "outputs": [],
   "source": [
    "llm_with_tools = llm.bind(\n",
    "    functions=[\n",
    "        FUNCTION_SCHEMA_GET_WEATHER,\n",
    "    ]\n",
    ")"
   ]
  },
  {
   "cell_type": "code",
   "execution_count": 7,
   "metadata": {},
   "outputs": [],
   "source": [
    "from langchain.agents.output_parsers import OpenAIFunctionsAgentOutputParser\n",
    "from langchain.agents.format_scratchpad import format_to_openai_functions\n",
    "\n",
    "p = {\n",
    "    \"input\": lambda x: x[\"input\"],\n",
    "    \"agent_scratchpad\": lambda x: format_to_openai_functions(x['intermediate_steps']),\n",
    "} \n",
    "agent = p | prompt | llm_with_tools | OpenAIFunctionsAgentOutputParser()\n"
   ]
  },
  {
   "cell_type": "code",
   "execution_count": 8,
   "metadata": {},
   "outputs": [
    {
     "name": "stderr",
     "output_type": "stream",
     "text": [
      "[WARNING] [09-27 17:22:00] logging.py:92 [t:140650105567040]: This key `system` does not seem to be a parameter that the model `ERNIE-Bot` will accept\n",
      "[WARNING] [09-27 17:22:02] logging.py:92 [t:140650105567040]: This key `system` does not seem to be a parameter that the model `ERNIE-Bot` will accept\n"
     ]
    },
    {
     "name": "stdout",
     "output_type": "stream",
     "text": [
      "get_current_weather {'location': '上海市', 'unit': '摄氏度'}\n",
      "上海市今天的天气是25摄氏度。\n"
     ]
    }
   ],
   "source": [
    "# main loop for functions steps\n",
    "# 由于erniebot本身system对外有一定限制，所以会报warning\n",
    "from langchain.schema.agent import AgentFinish\n",
    "intermediate_steps = []\n",
    "while True:\n",
    "    output = agent.invoke({\n",
    "        \"input\": \"上海市今天天气如何？\",\n",
    "        \"intermediate_steps\": intermediate_steps\n",
    "    })\n",
    "    \n",
    "    if isinstance(output, AgentFinish):\n",
    "        final_result = output.return_values[\"output\"]\n",
    "        break\n",
    "    else:\n",
    "        print(output.tool, output.tool_input)\n",
    "        tool = {\n",
    "            \"get_current_weather\": get_current_weather,\n",
    "        }[output.tool]\n",
    "        observation = tool.run(output.tool_input)\n",
    "        intermediate_steps.append((output, observation))\n",
    "print(final_result)"
   ]
  }
 ],
 "metadata": {
  "kernelspec": {
   "display_name": "base",
   "language": "python",
   "name": "python3"
  },
  "language_info": {
   "codemirror_mode": {
    "name": "ipython",
    "version": 3
   },
   "file_extension": ".py",
   "mimetype": "text/x-python",
   "name": "python",
   "nbconvert_exporter": "python",
   "pygments_lexer": "ipython3",
   "version": "3.11.5"
  },
  "orig_nbformat": 4,
  "vscode": {
   "interpreter": {
    "hash": "58f7cb64c3a06383b7f18d2a11305edccbad427293a2b4afa7abe8bfc810d4bb"
   }
  }
 },
 "nbformat": 4,
 "nbformat_minor": 2
}
