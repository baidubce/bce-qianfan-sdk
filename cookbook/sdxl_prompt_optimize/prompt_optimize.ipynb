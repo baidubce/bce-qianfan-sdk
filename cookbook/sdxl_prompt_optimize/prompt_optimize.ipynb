{
 "cells": [
  {
   "cell_type": "markdown",
   "metadata": {},
   "source": [
    "# 针对Stable Diffusion-XL的prompt优化\n",
    "\n",
    "* Stable Diffusion-XL(以下简称“SD-XL”)是当下最常用的文生图扩散模型。本文将介绍如何利用prompt优化Stable Diffusion-XL的生成效果。\n",
    "* 本篇Cookbook分为两个部分：\n",
    "  * 第一部分通过两个常见的prompt场景案例，带您快速上手我们的优化方法。\n",
    "  * 第二部分通过基于中文应用场景的测试，验证了我们的优化方法的可行性和有效性。"
   ]
  },
  {
   "cell_type": "markdown",
   "metadata": {},
   "source": [
    "## 安装&导入依赖库"
   ]
  },
  {
   "cell_type": "markdown",
   "metadata": {},
   "source": [
    "首先，安装评估部分所需要的所有包"
   ]
  },
  {
   "cell_type": "code",
   "execution_count": null,
   "metadata": {},
   "outputs": [],
   "source": [
    "!pip install -r requirement.txt"
   ]
  },
  {
   "cell_type": "markdown",
   "metadata": {},
   "source": [
    "引入我们需要的所有包，加载Pickscore的模型："
   ]
  },
  {
   "cell_type": "code",
   "execution_count": 42,
   "metadata": {},
   "outputs": [],
   "source": [
    "import os,io,qianfan,torch,statistics\n",
    "import ae_score\n",
    "import matplotlib.pyplot as plt\n",
    "import numpy as np\n",
    "from PIL import Image\n",
    "import seaborn as sns\n",
    "from glob import glob\n",
    "from qianfan.common import Prompt\n",
    "from qianfan import Text2Image,Completion\n",
    "from tools import prompt_update\n",
    "from tools import t2i\n",
    "from tools import generate_and_save\n",
    "from transformers import AutoProcessor, AutoModel\n",
    "from matplotlib.ticker import MaxNLocator\n",
    "\n",
    "\n",
    "# 定义文件路径\n",
    "infer_py_path = 'Pickscore-main/infer.py'\n",
    "raw_folder = 'raw'\n",
    "update_folder = 'update'\n",
    "# 将 infer.py 作为模块导入\n",
    "import sys\n",
    "sys.path.append(os.path.dirname(infer_py_path))\n",
    "from infer import calc_probs"
   ]
  },
  {
   "cell_type": "markdown",
   "metadata": {},
   "source": [
    "在此处输入您的鉴权信息"
   ]
  },
  {
   "cell_type": "code",
   "execution_count": 35,
   "metadata": {},
   "outputs": [],
   "source": [
    "#初始化百度智能云的IAM ak, sk用于bos和千帆平台的鉴权\n",
    "os.environ['QIANFAN_ACCESS_KEY'] = 'your_access_key'\n",
    "os.environ['QIANFAN_SECRET_KEY'] = 'your_secret_key'"
   ]
  },
  {
   "cell_type": "markdown",
   "metadata": {},
   "source": [
    "## 案例一：针对中文特异词汇的优化--夫妻肺片\n",
    "* 夫妻肺片是一道经典的中国小吃，但是对于Stable-Diffusion来说可能是一种动物的器官，我们的prompt优化可以避免这样的错误。\n",
    "* 这里以“夫妻肺片”为例，来展示我们的prompt优化针对中文歧义词的效果。\n",
    "\n",
    "首先我们先创建一个简单的任务描述prompt:"
   ]
  },
  {
   "cell_type": "code",
   "execution_count": 4,
   "metadata": {},
   "outputs": [],
   "source": [
    "pt = \"夫妻肺片\"\n",
    "#将文本转为LLM的prompt格式\n",
    "p = Prompt(pt)"
   ]
  },
  {
   "cell_type": "markdown",
   "metadata": {},
   "source": [
    "使用优化前的prompt测试效果"
   ]
  },
  {
   "cell_type": "code",
   "execution_count": 5,
   "metadata": {},
   "outputs": [],
   "source": [
    "#加载SD-XL并展示生成结果\n",
    "t2i(pt)"
   ]
  },
  {
   "cell_type": "markdown",
   "metadata": {},
   "source": [
    "可以看到，SD-XL对于输入的prompt产生了误解，仅仅理解了字面意思，生成了器官的图片。\n",
    "![alt text](img/lung_raw.png)"
   ]
  },
  {
   "cell_type": "markdown",
   "metadata": {},
   "source": [
    "接下来，将上述prompt进行优化，提升图片的生成效果:"
   ]
  },
  {
   "cell_type": "code",
   "execution_count": 6,
   "metadata": {},
   "outputs": [
    {
     "name": "stdout",
     "output_type": "stream",
     "text": [
      "A plate of Spicy Beef Slices with Beef Offal, drenched in chili oil, loaded with cilantro and peanuts, intricate textures, realistic texture details, bright colors, food photography, high contrast lighting, vibrant colors, appetizing, photorealistic, (detailed texture:1.3), high resolution, 8k, HDR, natural lighting\n",
      "\n",
      "Negative prompt: text, logos, watermarks, out of frame, blurred, low contrast, messy, artificial lighting, discolored.\n"
     ]
    }
   ],
   "source": [
    "#将输入prompt进行优化\n",
    "output = prompt_update(pt)\n"
   ]
  },
  {
   "cell_type": "markdown",
   "metadata": {},
   "source": [
    "以下为优化prompt的生成效果展示："
   ]
  },
  {
   "cell_type": "code",
   "execution_count": 7,
   "metadata": {},
   "outputs": [],
   "source": [
    "#加载SD-XL并展示生成结果\n",
    "t2i(output)"
   ]
  },
  {
   "cell_type": "markdown",
   "metadata": {},
   "source": [
    "在优化了prompt后，生成的图片解决了中英文的语言歧义，符合prompt的原意，而且提升了展示力。"
   ]
  },
  {
   "cell_type": "markdown",
   "metadata": {},
   "source": [
    "![alt text](img/lung_update.png)"
   ]
  },
  {
   "cell_type": "markdown",
   "metadata": {},
   "source": [
    "## 案例二：针对简单提示词的扩写优化--一只高贵的柯基犬\n",
    "* 还有一类prompt，它们在理解上并没有歧义，但是包含的细节极少，无法给到足够的提示，可能会导致生成效果不佳。\n",
    "* 这里我们以\"一只高贵的柯基犬\"的任务为例，来展示我们的prompt优化针对扩展提示词的效果。\n",
    "\n",
    "首先我们先创建一个简单的任务描述prompt:"
   ]
  },
  {
   "cell_type": "code",
   "execution_count": 32,
   "metadata": {},
   "outputs": [],
   "source": [
    "pt = \"一只高贵的柯基犬\"\n",
    "#将文本转为LLM的prompt格式\n",
    "p = Prompt(pt)"
   ]
  },
  {
   "cell_type": "markdown",
   "metadata": {},
   "source": [
    "使用优化前的prompt测试效果"
   ]
  },
  {
   "cell_type": "code",
   "execution_count": 10,
   "metadata": {},
   "outputs": [],
   "source": [
    "#加载SD-XL并展示生成结果\n",
    "t2i(pt)"
   ]
  },
  {
   "cell_type": "markdown",
   "metadata": {},
   "source": [
    "生成的图片大体符合提示词，但是细节缺失较多，整体画面不够生动。"
   ]
  },
  {
   "cell_type": "markdown",
   "metadata": {},
   "source": [
    "![alt text](img/dog_raw.png)"
   ]
  },
  {
   "cell_type": "markdown",
   "metadata": {},
   "source": [
    "\n",
    "\n",
    "接下来，将上述prompt进行优化，提升图片的生成效果:"
   ]
  },
  {
   "cell_type": "code",
   "execution_count": 33,
   "metadata": {},
   "outputs": [
    {
     "name": "stdout",
     "output_type": "stream",
     "text": [
      "a regal Corgi, wearing a fancy collar and bowtie, elegant pose, soft fur, photorealistic, vibrant colors, detailed landscape, studio lighting, highly detailed, realistic shadows, HDR, (detailed fur:1.3), 8k\n",
      "\n",
      "Negative prompt: text, logos, watermarks, out of frame, messy, blurry, mutated, deformed features, cartoon\n"
     ]
    }
   ],
   "source": [
    "#将输入prompt进行优化\n",
    "output = prompt_update(pt)"
   ]
  },
  {
   "cell_type": "markdown",
   "metadata": {},
   "source": [
    "\n",
    "\n",
    "以下为优化prompt的生成效果展示："
   ]
  },
  {
   "cell_type": "code",
   "execution_count": 13,
   "metadata": {},
   "outputs": [],
   "source": [
    "t2i(output)"
   ]
  },
  {
   "cell_type": "markdown",
   "metadata": {},
   "source": [
    "图片的画面整体提升很大，将柯基犬的主体描绘得更加细致，整体构图更加协调，表现力更强。"
   ]
  },
  {
   "cell_type": "markdown",
   "metadata": {},
   "source": [
    "![alt text](img/dog_update.png)"
   ]
  },
  {
   "cell_type": "markdown",
   "metadata": {},
   "source": [
    "## 验证\n",
    "\n",
    "* 为体现本方案的优化能力，在此使用了Pick Score和Aesthetics Score作为评价指标，以此验证可行性。\n",
    "* Pick Score: 衡量了初始的输入prompt和优化后的图片之间的关联度。用此指标来体现我们的优化没有偏出用户的主观意图。\n",
    "* Aesthetics Score: 衡量了优化后的图片的美观度。用此指标来衡量优化后的图片是否符合用户的审美需求。\n",
    "\n"
   ]
  },
  {
   "cell_type": "markdown",
   "metadata": {},
   "source": [
    "### 测试集准备"
   ]
  },
  {
   "cell_type": "markdown",
   "metadata": {},
   "source": [
    "根据DiffusionDB的数据集，我们构造了一个简单的中文prompt列表以供测试："
   ]
  },
  {
   "cell_type": "code",
   "execution_count": 35,
   "metadata": {},
   "outputs": [],
   "source": [
    "#中文prompt用于生成优化前的图片以及aesthestics score打分\n",
    "raw_prompt = [\n",
    "    \"黄昏谷仓画\", \"绿树成荫，花团锦簇\",\"翱翔在山间的凤凰\",\"宫保鸡丁\",\"一个摆满玩具机器人的房间\",\"一座有许多雕像在里面的丛林寺庙\",\"两匹马的黑白照片\",\"一座庞大的宫殿,皇帝坐在正中央,大臣们骑着扫帚在殿内朝拜,有的大臣在汇报工作,整个大殿金碧辉煌\",\"一只可爱的小猫\",\"一座哥特式建筑\",\"一对肝胆相照的兄弟\",\"一只蜗牛\",\n",
    "    \"一个挑灯夜读的高中生,他坐在电脑桌前\",\"咖啡色的天空，绿色的湖，蓝色的草地\",\"神圣的金字塔，门口坐着狮身人面像\",\"两只猫鼬在野外和热气球在一起\",\"一幅描绘白裙少女在雏菊田中翩翩起舞的画作\",\"春天来了，万物复苏\",\"火光冲天的未来飞船\",\"一条狗，一只猫，耶稣在中间照顾所有的生物，有人，有植物\",\"蚂蚁上树\",\"夫妻肺片\",\"一只飞过山的凤凰\",\"机器人大战\",\"虫虫危机\"\n",
    "]\n",
    "#英文prompt用于pickscore打分\n",
    "raw_prompt_eng = [\n",
    "    \"Twilight Barn Painting\", \n",
    "    \"Shady Green Trees and Blooming Flowers\", \n",
    "    \"The phoenix that soars in the mountains\", \n",
    "    \"Kung Pao Chicken\", \n",
    "    \"A Room Filled with Toy Robots\", \n",
    "    \"A Jungle Temple with Many Statues Inside\", \n",
    "    \"Black and White Photo of Two Horses\", \n",
    "    \"A Grand Palace with the Emperor in the Center, Ministers on Brooms Paying Homage, Some Reporting Work, the Entire Hall Gleaming with Gold\", \n",
    "    \"A Cute Kitten\", \n",
    "    \"A Gothic Building\", \n",
    "    \"Two Brothers with Deep Bonds\", \n",
    "    \"A Snail\", \n",
    "    \"A High School Student Studying Late at Night at a Computer Desk\", \n",
    "    \"Coffee-Colored Sky, Green Lake, Blue Grass\", \n",
    "    \"Sacred Pyramid with a Sphinx at the Entrance\", \n",
    "    \"Two Meerkats in the Wild with a Hot Air Balloon\", \n",
    "    \"A Painting of a Girl in a White Dress Dancing in a Daisy Field\", \n",
    "    \"Spring Arrives, Everything Awakens\", \n",
    "    \"A Futuristic Spaceship with Flames Bursting\", \n",
    "    \"A Dog, a Cat, and Jesus Caring for All Creatures, Including People and Plants\", \n",
    "    \"Stir-Fried Noodles with Minced Pork\", \n",
    "    \"Spicy Sliced Beef and Tripe\", \n",
    "    \"A Phoenix Flying Over a Mountain\", \n",
    "    \"Robot Battle\", \n",
    "    \"A Bug's Life\"\n",
    "]\n"
   ]
  },
  {
   "cell_type": "markdown",
   "metadata": {},
   "source": [
    "首先，将优化前的prompt对应图片保存到自定义的文件夹中"
   ]
  },
  {
   "cell_type": "code",
   "execution_count": 20,
   "metadata": {},
   "outputs": [
    {
     "name": "stdout",
     "output_type": "stream",
     "text": [
      "Image 0 saved as raw/0.png\n",
      "Image 1 saved as raw/1.png\n",
      "Image 2 saved as raw/2.png\n",
      "Image 3 saved as raw/3.png\n",
      "Image 4 saved as raw/4.png\n",
      "Image 5 saved as raw/5.png\n",
      "Image 6 saved as raw/6.png\n",
      "Image 7 saved as raw/7.png\n",
      "Image 8 saved as raw/8.png\n",
      "Image 9 saved as raw/9.png\n",
      "Image 10 saved as raw/10.png\n",
      "Image 11 saved as raw/11.png\n",
      "Image 12 saved as raw/12.png\n",
      "Image 13 saved as raw/13.png\n",
      "Image 14 saved as raw/14.png\n",
      "Image 15 saved as raw/15.png\n",
      "Image 16 saved as raw/16.png\n",
      "Image 17 saved as raw/17.png\n",
      "Image 18 saved as raw/18.png\n",
      "Image 19 saved as raw/19.png\n",
      "Image 20 saved as raw/20.png\n",
      "Image 21 saved as raw/21.png\n",
      "Image 22 saved as raw/22.png\n",
      "Image 23 saved as raw/23.png\n",
      "Image 24 saved as raw/24.png\n"
     ]
    }
   ],
   "source": [
    "#将raw_prompt输入到SD-XL,生成图片并保存到当前目录下的raw文件夹\n",
    "generate_and_save(raw_prompt, \"raw\")"
   ]
  },
  {
   "cell_type": "markdown",
   "metadata": {},
   "source": [
    "将输入的prompt进行批量优化"
   ]
  },
  {
   "cell_type": "code",
   "execution_count": 21,
   "metadata": {},
   "outputs": [
    {
     "name": "stdout",
     "output_type": "stream",
     "text": [
      "A rustic barn in a serene valley at dusk, golden hour lighting, warm orange and purple hues, silhouette of trees in the distance, soft light streaming through cracks in the wooden walls, intricate details of weathered wood, (rustic atmosphere: 1.5), photorealistic, highly detailed, trending on artstation, realistic landscape, HDR, natural lighting\n",
      "\n",
      "Negative prompt: text, logos, watermarks, out of frame, modern buildings, unnatural colors, cartoonish, simplified, flat colors, low resolution.\n",
      "A rustic barn in a serene valley at dusk, golden hour lighting, warm orange and purple hues, silhouette of trees in the distance, soft light streaming through cracks in the wooden walls, intricate details of weathered wood, (rustic atmosphere: 1.5), photorealistic, highly detailed, trending on artstation, realistic landscape, HDR, natural lighting\n",
      "\n",
      "Negative prompt: text, logos, watermarks, out of frame, modern buildings, unnatural colors, cartoonish, simplified, flat colors, low resolution.\n",
      "A dense forest with lush green trees creating a cool canopy, bright flowers blooming in clusters, vibrant colors, photorealistic, natural lighting, detailed foliage, intricate patterns, (trees:1.2), (flowers:1.1), high resolution, 8k, HDR, realistic landscape\n",
      "\n",
      "Negative prompt: text, logos, watermarks, out of frame, artificial, blurry, unnatural colors, ugly, messy, unrealistic lighting.\n",
      "A dense forest with lush green trees creating a cool canopy, bright flowers blooming in clusters, vibrant colors, photorealistic, natural lighting, detailed foliage, intricate patterns, (trees:1.2), (flowers:1.1), high resolution, 8k, HDR, realistic landscape\n",
      "\n",
      "Negative prompt: text, logos, watermarks, out of frame, artificial, blurry, unnatural colors, ugly, messy, unrealistic lighting.\n",
      "A noble Corgi, regal posture, lush fur, intricate patterns, elegant collar and leash, indoor setting, soft lighting, photorealistic, (fur details:1.5), (noble features:1.3), highly detailed, professional photography, 8k, HDR, realistic lighting\n",
      "\n",
      "Negative prompt: text, logos, watermarks, out of frame, messy fur, blurry, cartoonish, deformed features, artificial lighting.\n",
      "A noble Corgi, regal posture, lush fur, intricate patterns, elegant collar and leash, indoor setting, soft lighting, photorealistic, (fur details:1.5), (noble features:1.3), highly detailed, professional photography, 8k, HDR, realistic lighting\n",
      "\n",
      "Negative prompt: text, logos, watermarks, out of frame, messy fur, blurry, cartoonish, deformed features, artificial lighting.\n",
      "A delicious dish of Kung Pao Chicken, diced chicken breast, chili peppers, peanuts, and scallions, served on a white plate, vibrant colors, photorealistic, food photography, close-up shot, richly textured, steaming hot, appetizing, culinary presentation, (detailed dish:1.3), high resolution, 8k, HDR, natural lighting\n",
      "\n",
      "Negative prompt: text, logos, watermarks, out of frame, unattractive, discolored, unappetizing, messy, artificial, poorly lit\n",
      "A delicious dish of Kung Pao Chicken, diced chicken breast, chili peppers, peanuts, and scallions, served on a white plate, vibrant colors, photorealistic, food photography, close-up shot, richly textured, steaming hot, appetizing, culinary presentation, (detailed dish:1.3), high resolution, 8k, HDR, natural lighting\n",
      "\n",
      "Negative prompt: text, logos, watermarks, out of frame, unattractive, discolored, unappetizing, messy, artificial, poorly lit\n",
      "A room filled with toy robots, various designs and colors, realistic details, intricate mechanisms, colorful lights, futuristic decor, clean and organized, (robot details:1.5), (room setting:1.2), photorealistic, 8k, high-resolution scan, realistic lighting, HDR\n",
      "\n",
      "Negative prompt: text, logos, watermarks, out of frame, blurry, messy, cartoonish, abstract, pixelated, low resolution.\n",
      "A room filled with toy robots, various designs and colors, realistic details, intricate mechanisms, colorful lights, futuristic decor, clean and organized, (robot details:1.5), (room setting:1.2), photorealistic, 8k, high-resolution scan, realistic lighting, HDR\n",
      "\n",
      "Negative prompt: text, logos, watermarks, out of frame, blurry, messy, cartoonish, abstract, pixelated, low resolution.\n",
      "a jungle temple with intricate carvings and statues, dense foliage, hidden passages, ancient ruins, misty atmosphere, (statues and carvings: 1.5), hyper-detailed, photorealistic, 8k, trending on artstation, concept art, cinematic lighting, HDR, natural lighting\n",
      "\n",
      "Negative prompt: text, logos, watermarks, out of frame, blurry, low-res, cartoony, simplified, unrealistic, digital art, painting\n",
      "a jungle temple with intricate carvings and statues, dense foliage, hidden passages, ancient ruins, misty atmosphere, (statues and carvings: 1.5), hyper-detailed, photorealistic, 8k, trending on artstation, concept art, cinematic lighting, HDR, natural lighting\n",
      "\n",
      "Negative prompt: text, logos, watermarks, out of frame, blurry, low-res, cartoony, simplified, unrealistic, digital art, painting\n",
      "Two horses captured in a black and white photograph, showing their powerful musculature and mane flowing in the wind, dramatic lighting, high contrast, emotional expression, (horse details:1.5), photorealistic, professional photography, black and white film photography, 8k, highly detailed, realistic shadows, HDR\n",
      "\n",
      "Negative prompt: color, text, logos, watermarks, out of frame, blurry, artificial lighting, low resolution, cartoon, illustration.\n",
      "Two horses captured in a black and white photograph, showing their powerful musculature and mane flowing in the wind, dramatic lighting, high contrast, emotional expression, (horse details:1.5), photorealistic, professional photography, black and white film photography, 8k, highly detailed, realistic shadows, HDR\n",
      "\n",
      "Negative prompt: color, text, logos, watermarks, out of frame, blurry, artificial lighting, low resolution, cartoon, illustration.\n",
      "A vast palace, Emperor seated at the center, ministers riding broomsticks bowing in worship, some reporting work, the entire hall resplendent with gold and jewels, intricate carvings, vibrant colors, photorealistic, detailed architecture, realistic lighting, (Emperor's throne:1.5), (sweeping robes:1.2), (detailed faces:1.3), hyper realistic, 8k, HDR, highly detailed\n",
      "\n",
      "Negative prompt: text, logos, watermarks, out of frame, cartoonish, unrealistic lighting, blurry, messy, artificial, poorly lit\n",
      "A vast palace, Emperor seated at the center, ministers riding broomsticks bowing in worship, some reporting work, the entire hall resplendent with gold and jewels, intricate carvings, vibrant colors, photorealistic, detailed architecture, realistic lighting, (Emperor's throne:1.5), (sweeping robes:1.2), (detailed faces:1.3), hyper realistic, 8k, HDR, highly detailed\n",
      "\n",
      "Negative prompt: text, logos, watermarks, out of frame, cartoonish, unrealistic lighting, blurry, messy, artificial, poorly lit\n",
      "A cute kitten, soft fur, big round eyes, small pink nose, sitting upright, looking curiously, cute cartoon style, detailed fur texture, bright colors, photorealistic, highly detailed, professional photography, rich shadow and lighting, (cute expression: 1.5), 8k, HDR, natural lighting\n",
      "\n",
      "Negative prompt: text, logos, watermarks, out of frame, blurred, deformed, dirty, unattractive, discolored, ugly, artificial.\n",
      "A cute kitten, soft fur, big round eyes, small pink nose, sitting upright, looking curiously, cute cartoon style, detailed fur texture, bright colors, photorealistic, highly detailed, professional photography, rich shadow and lighting, (cute expression: 1.5), 8k, HDR, natural lighting\n",
      "\n",
      "Negative prompt: text, logos, watermarks, out of frame, blurred, deformed, dirty, unattractive, discolored, ugly, artificial.\n",
      "Gothic architecture, intricate stone carvings, pointed arches, flying buttresses, stained glass windows, towering spires, intricate rose windows, detailed facade, (architectural details:1.5), realistic lighting, realistic shadows, photorealistic, highly detailed, 8k, HDR, professional photography\n",
      "\n",
      "Negative prompt: cartoon, anime, illustration, text, logos, watermarks, out of frame, blurry, abstract, modern architecture, contemporary design\n",
      "Gothic architecture, intricate stone carvings, pointed arches, flying buttresses, stained glass windows, towering spires, intricate rose windows, detailed facade, (architectural details:1.5), realistic lighting, realistic shadows, photorealistic, highly detailed, 8k, HDR, professional photography\n",
      "\n",
      "Negative prompt: cartoon, anime, illustration, text, logos, watermarks, out of frame, blurry, abstract, modern architecture, contemporary design\n",
      "Two brothers with unwavering loyalty, wearing traditional costumes, standing in a scenic landscape, hand in hand, looking at each other with mutual respect and affection, photorealistic, detailed textures, vibrant colors, natural lighting, emotional depth, (facial expressions:1.5), (costume details:1.3), high resolution, 8k, HDR\n",
      "\n",
      "Negative prompt: text, logos, watermarks, out of frame, cartoonish, unrealistic, unnatural poses, modern clothing, unattractive expressions, blurred faces.\n",
      "Two brothers with unwavering loyalty, wearing traditional costumes, standing in a scenic landscape, hand in hand, looking at each other with mutual respect and affection, photorealistic, detailed textures, vibrant colors, natural lighting, emotional depth, (facial expressions:1.5), (costume details:1.3), high resolution, 8k, HDR\n",
      "\n",
      "Negative prompt: text, logos, watermarks, out of frame, cartoonish, unrealistic, unnatural poses, modern clothing, unattractive expressions, blurred faces.\n",
      "A snail, intricate shell patterns, soft body, realistic texture, natural environment, moist ground, sunlit, vibrant colors, photorealistic, macro photography, detailed snail, highly detailed, realistic snail shell, (shell patterns:1.3), 8k, HDR, natural lighting\n",
      "\n",
      "Negative prompt: text, logos, watermarks, out of frame, artificial, cartoon, abstract, simplified, deformed, blurry\n",
      "A snail, intricate shell patterns, soft body, realistic texture, natural environment, moist ground, sunlit, vibrant colors, photorealistic, macro photography, detailed snail, highly detailed, realistic snail shell, (shell patterns:1.3), 8k, HDR, natural lighting\n",
      "\n",
      "Negative prompt: text, logos, watermarks, out of frame, artificial, cartoon, abstract, simplified, deformed, blurry\n",
      "A high school student studying late into the night, sitting at a computer desk, intense focus, bright desk lamp casting a warm glow, books and notes scattered around, comfortable chair, cluttered yet organized workspace, wearing glasses, expression of determination, (facial expression:1.3), photorealistic lighting, detailed shadows, high-resolution scan, realistic indoor scene, 8k, highly detailed, professional study environment\n",
      "\n",
      "Negative prompt: cartoon, anime, video game, cartoonish, abstract, simplified, text, logos, watermarks, out of frame, messy workspace, unfocused expression\n",
      "A high school student studying late into the night, sitting at a computer desk, intense focus, bright desk lamp casting a warm glow, books and notes scattered around, comfortable chair, cluttered yet organized workspace, wearing glasses, expression of determination, (facial expression:1.3), photorealistic lighting, detailed shadows, high-resolution scan, realistic indoor scene, 8k, highly detailed, professional study environment\n",
      "\n",
      "Negative prompt: cartoon, anime, video game, cartoonish, abstract, simplified, text, logos, watermarks, out of frame, messy workspace, unfocused expression\n",
      "A dreamy landscape with a coffee-colored sky, emerald-green lake, and cobalt-blue meadows, reflecting in the water, photorealistic, vibrant colors, highly detailed, professional landscape photography, natural lighting, soft focus, realistic reflections, (coffee-colored sky: 1.5), (emerald-green lake: 1.3), (cobalt-blue meadows: 1.2), 8k, HDR\n",
      "\n",
      "Negative prompt: text, logos, watermarks, out of frame, blurred, distorted, unnatural colors, artificial lighting, low resolution.\n",
      "A dreamy landscape with a coffee-colored sky, emerald-green lake, and cobalt-blue meadows, reflecting in the water, photorealistic, vibrant colors, highly detailed, professional landscape photography, natural lighting, soft focus, realistic reflections, (coffee-colored sky: 1.5), (emerald-green lake: 1.3), (cobalt-blue meadows: 1.2), 8k, HDR\n",
      "\n",
      "Negative prompt: text, logos, watermarks, out of frame, blurred, distorted, unnatural colors, artificial lighting, low resolution.\n",
      "A majestic golden pyramid, intricate hieroglyphics etched into its surface, standing against a clear blue sky. At the entrance, a sphinx seated, its leonine body and human face carved with precision, gaze fixed ahead. The pyramid and sphinx are bathed in soft light, casting long shadows across the desert floor. (8k, photorealistic, hyper realistic, intricate details, highly detailed, sharp focus, artistic vision, cinematic lighting, HDR)\n",
      "\n",
      "Negative prompt: cartoon, anime, illustration, abstract, painting, low quality, bad art, ugly, distorted, mutated, deformed.\n",
      "A majestic golden pyramid, intricate hieroglyphics etched into its surface, standing against a clear blue sky. At the entrance, a sphinx seated, its leonine body and human face carved with precision, gaze fixed ahead. The pyramid and sphinx are bathed in soft light, casting long shadows across the desert floor. (8k, photorealistic, hyper realistic, intricate details, highly detailed, sharp focus, artistic vision, cinematic lighting, HDR)\n",
      "\n",
      "Negative prompt: cartoon, anime, illustration, abstract, painting, low quality, bad art, ugly, distorted, mutated, deformed.\n",
      "Two meerkats in the wild, interacting with a hot air balloon, vibrant colors, natural lighting, photorealistic, wildlife photography, dynamic poses, intricate details, sharp focus, natural habitat, realistic textures, (meerkats and hot air balloon interaction:1.5), high resolution, 8k, HDR\n",
      "\n",
      "Negative prompt: text, logos, watermarks, out of frame, cartoon, illustration, drawing, unrealistic lighting, blurry, artificial, unnatural poses.\n",
      "Two meerkats in the wild, interacting with a hot air balloon, vibrant colors, natural lighting, photorealistic, wildlife photography, dynamic poses, intricate details, sharp focus, natural habitat, realistic textures, (meerkats and hot air balloon interaction:1.5), high resolution, 8k, HDR\n",
      "\n",
      "Negative prompt: text, logos, watermarks, out of frame, cartoon, illustration, drawing, unrealistic lighting, blurry, artificial, unnatural poses.\n",
      "a young girl in a white dress dancing gracefully in a field of daisies, ethereal and dreamlike, soft lighting, romantic, detailed flowers, delicate dress, (dancing movement:1.5), (daisy field:1.2), art by wlop and rossdraws, intricate linework, hyper realistic, photorealistic rendering, high resolution, 8k, HDR, natural lighting\n",
      "\n",
      "Negative prompt: text, logos, watermarks, out of frame, blurry, disconnected limbs, unrealistic proportions, messy background, low resolution, artificial lighting.\n",
      "a young girl in a white dress dancing gracefully in a field of daisies, ethereal and dreamlike, soft lighting, romantic, detailed flowers, delicate dress, (dancing movement:1.5), (daisy field:1.2), art by wlop and rossdraws, intricate linework, hyper realistic, photorealistic rendering, high resolution, 8k, HDR, natural lighting\n",
      "\n",
      "Negative prompt: text, logos, watermarks, out of frame, blurry, disconnected limbs, unrealistic proportions, messy background, low resolution, artificial lighting.\n",
      "Spring has arrived, everything comes back to life. Vibrant flowers blooming, lush green leaves, butterflies fluttering. Clear blue sky, sun shining brightly. Birds singing joyfully, animals waking up from hibernation. Fields and forests full of new growth, blooming cherry blossoms, peaceful countryside scene. (Spring scenery:1.5), photorealistic, hyper realistic, high resolution, 8k, natural lighting, HDR, realistic rendering, no people\n",
      "Spring has arrived, everything comes back to life. Vibrant flowers blooming, lush green leaves, butterflies fluttering. Clear blue sky, sun shining brightly. Birds singing joyfully, animals waking up from hibernation. Fields and forests full of new growth, blooming cherry blossoms, peaceful countryside scene. (Spring scenery:1.5), photorealistic, hyper realistic, high resolution, 8k, natural lighting, HDR, realistic rendering, no people\n",
      "A futuristic spaceship with blazing flames, intricate mechanical details, neon lights reflecting on the hull, fiery explosions in the background, hyper-realistic, cinematic lighting, intense heat waves distorting the view, (detailed flames:1.5), 8k, highly detailed, photorealistic, trending on artstation, HDR, realistic reflections\n",
      "\n",
      "Negative prompt: text, logos, watermarks, out of frame, cartoon, simplified, low resolution, blurry, artificial lighting, unrealistic colors.\n",
      "A futuristic spaceship with blazing flames, intricate mechanical details, neon lights reflecting on the hull, fiery explosions in the background, hyper-realistic, cinematic lighting, intense heat waves distorting the view, (detailed flames:1.5), 8k, highly detailed, photorealistic, trending on artstation, HDR, realistic reflections\n",
      "\n",
      "Negative prompt: text, logos, watermarks, out of frame, cartoon, simplified, low resolution, blurry, artificial lighting, unrealistic colors.\n",
      "a dog, a cat, Jesus in the middle caring for all creatures, including humans and plants, realistic lighting, intricate details, hyper realistic, photorealistic, digital painting, highly detailed, concept art, trending on artstation, 8k, HD, sharp focus\n",
      "\n",
      "Negative prompt: cartoons, sketches, text, logos, watermarks, out of frame, blurry, low quality, bad art, mutated, ugly, disfigured, distorted features, gross, deformed\n",
      "a dog, a cat, Jesus in the middle caring for all creatures, including humans and plants, realistic lighting, intricate details, hyper realistic, photorealistic, digital painting, highly detailed, concept art, trending on artstation, 8k, HD, sharp focus\n",
      "\n",
      "Negative prompt: cartoons, sketches, text, logos, watermarks, out of frame, blurry, low quality, bad art, mutated, ugly, disfigured, distorted features, gross, deformed\n",
      "Ants climbing trees, sauteed vermicelli with minced pork, rich soy-based sauce, garnished with chopped scallions, bright colors, photorealistic, culinary masterpiece, close-up shot, steaming hot, appetizing aroma, intricate texture details, culinary art, 8k, HDR, realistic lighting, natural environment\n",
      "\n",
      "Negative prompt: text, logos, watermarks, out of frame, blurry, messy, artificial looking, unappetizing colors, poor lighting\n",
      "Ants climbing trees, sauteed vermicelli with minced pork, rich soy-based sauce, garnished with chopped scallions, bright colors, photorealistic, culinary masterpiece, close-up shot, steaming hot, appetizing aroma, intricate texture details, culinary art, 8k, HDR, realistic lighting, natural environment\n",
      "\n",
      "Negative prompt: text, logos, watermarks, out of frame, blurry, messy, artificial looking, unappetizing colors, poor lighting\n",
      "sliced beef with beef offal, red chili oil, spicy and savory, garnished with chopped scallions and chili peppers, realistic texture, photorealistic detail, culinary photography, vibrant colors, (detailed dish:1.3), high resolution, 8k, HDR, natural lighting\n",
      "\n",
      "Negative prompt: text, logos, watermarks, out of frame, unattractive, discolored, unappetizing, messy, artificial, poorly lit\n",
      "sliced beef with beef offal, red chili oil, spicy and savory, garnished with chopped scallions and chili peppers, realistic texture, photorealistic detail, culinary photography, vibrant colors, (detailed dish:1.3), high resolution, 8k, HDR, natural lighting\n",
      "\n",
      "Negative prompt: text, logos, watermarks, out of frame, unattractive, discolored, unappetizing, messy, artificial, poorly lit\n",
      "A magnificent phoenix flying over a mountainous landscape, with glowing, fiery feathers, trailing a trail of fire and ashes, daytime, sunlit sky, detailed feathers, photorealistic, vibrant colors, natural lighting, highly detailed, (flying posture:1.3), professional artwork, 8k, HDR\n",
      "\n",
      "Negative prompt: text, logos, watermarks, out of frame, cartoonish, unrealistic lighting, simple, low quality, blurry, artificial\n",
      "A magnificent phoenix flying over a mountainous landscape, with glowing, fiery feathers, trailing a trail of fire and ashes, daytime, sunlit sky, detailed feathers, photorealistic, vibrant colors, natural lighting, highly detailed, (flying posture:1.3), professional artwork, 8k, HDR\n",
      "\n",
      "Negative prompt: text, logos, watermarks, out of frame, cartoonish, unrealistic lighting, simple, low quality, blurry, artificial\n",
      "A fierce battle between robots, futuristic design, intricate mechanical parts, bright neon colors, explosions and debris flying, dynamic action poses, realistic lighting and shadows, cyberpunk aesthetics, detailed textures and shadows, (robotic details:1.5), high resolution, 8k, photorealistic, HDR\n",
      "\n",
      "Negative prompt: cartoony, comic book, 2D, illustration, low quality, pixelated, out of focus, blurry, text, logos, watermarks, out of frame, unrealistic lighting, simple backgrounds\n",
      "A fierce battle between robots, futuristic design, intricate mechanical parts, bright neon colors, explosions and debris flying, dynamic action poses, realistic lighting and shadows, cyberpunk aesthetics, detailed textures and shadows, (robotic details:1.5), high resolution, 8k, photorealistic, HDR\n",
      "\n",
      "Negative prompt: cartoony, comic book, 2D, illustration, low quality, pixelated, out of focus, blurry, text, logos, watermarks, out of frame, unrealistic lighting, simple backgrounds\n",
      "A realistic scene from the movie A Bug's Life, intricate details of ants and insects, vibrant colors, photorealistic rendering, detailed textures, realistic lighting, cinematic camera angles, highly detailed background, (detailed insects:1.5), 8k, HDR, high-resolution scan, realistic landscape, shadow\n",
      "\n",
      "Negative prompt: cartoony, simplified, low resolution, text, logos, watermarks, out of frame, blurred edges, unfinished, pixelated.\n",
      "A realistic scene from the movie A Bug's Life, intricate details of ants and insects, vibrant colors, photorealistic rendering, detailed textures, realistic lighting, cinematic camera angles, highly detailed background, (detailed insects:1.5), 8k, HDR, high-resolution scan, realistic landscape, shadow\n",
      "\n",
      "Negative prompt: cartoony, simplified, low resolution, text, logos, watermarks, out of frame, blurred edges, unfinished, pixelated.\n"
     ]
    }
   ],
   "source": [
    "#定义一个空列表，用于存储优化后的prompt\n",
    "update_prompt = []\n",
    "#依次遍历每一条rawdata\n",
    "for pt in raw_prompt:\n",
    "    p = prompt_update(pt)\n",
    "    update_prompt.append(p)\n",
    "    print(p)"
   ]
  },
  {
   "cell_type": "code",
   "execution_count": 27,
   "metadata": {},
   "outputs": [
    {
     "name": "stdout",
     "output_type": "stream",
     "text": [
      "Image 0 saved as update/0.png\n",
      "Image 1 saved as update/1.png\n",
      "Image 2 saved as update/2.png\n",
      "Image 3 saved as update/3.png\n",
      "Image 4 saved as update/4.png\n",
      "Image 5 saved as update/5.png\n",
      "Image 6 saved as update/6.png\n",
      "Image 7 saved as update/7.png\n",
      "Image 8 saved as update/8.png\n",
      "Image 9 saved as update/9.png\n",
      "Image 10 saved as update/10.png\n",
      "Image 11 saved as update/11.png\n",
      "Image 12 saved as update/12.png\n",
      "Image 13 saved as update/13.png\n",
      "Image 14 saved as update/14.png\n",
      "Image 15 saved as update/15.png\n",
      "Image 16 saved as update/16.png\n",
      "Image 17 saved as update/17.png\n",
      "Image 18 saved as update/18.png\n",
      "Image 19 saved as update/19.png\n",
      "Image 20 saved as update/20.png\n",
      "Image 21 saved as update/21.png\n",
      "Image 22 saved as update/22.png\n",
      "Image 23 saved as update/23.png\n",
      "Image 24 saved as update/24.png\n"
     ]
    }
   ],
   "source": [
    "#将update_prompt依次输入到SD-XL,生成图片并保存到当前目录下的update文件夹\n",
    "generate_and_save(update_prompt, \"update\")"
   ]
  },
  {
   "cell_type": "markdown",
   "metadata": {},
   "source": [
    "### 通过Aesthetics Score评价优化方案的可行性\n",
    "\n",
    "* Aesthetics Score 是一种衡量图像美学素质的数值指标。\n",
    "* 该指标的计算方法是将图像的不同视觉特征（如色彩、形状、线条、纹理、光照、透视、空间分布等）的重要程度进行加权，并将加权结果乘以相应的权重，得到的结果即为图像的美学得分。\n",
    "* 美学得分的范围从 0 到 10，数值越高，图像的视觉效果越好。"
   ]
  },
  {
   "cell_type": "markdown",
   "metadata": {},
   "source": [
    "首先，将未优化过的初始raw_prompt输入到模型中，得到优化前的分数，作为baseline。"
   ]
  },
  {
   "cell_type": "code",
   "execution_count": 8,
   "metadata": {},
   "outputs": [
    {
     "name": "stdout",
     "output_type": "stream",
     "text": [
      "Loading sac+logos+ava1-l14-linearMSE\n",
      "Loading CLIP ViT-L/14\n"
     ]
    },
    {
     "name": "stderr",
     "output_type": "stream",
     "text": [
      "100%|██████████| 25/25 [00:10<00:00,  2.30it/s]"
     ]
    },
    {
     "name": "stdout",
     "output_type": "stream",
     "text": [
      "16.png 6.841940402984619\n",
      "7.png 6.745919227600098\n",
      "13.png 6.737991809844971\n",
      "2.png 6.645719528198242\n",
      "5.png 6.6044769287109375\n",
      "18.png 6.601787090301514\n",
      "12.png 6.52354621887207\n",
      "15.png 6.317983627319336\n",
      "1.png 6.285238265991211\n",
      "22.png 6.2014336585998535\n",
      "0.png 6.191251277923584\n",
      "19.png 6.138124465942383\n",
      "14.png 6.092841625213623\n",
      "10.png 6.074313640594482\n",
      "23.png 6.055541515350342\n",
      "9.png 5.978781223297119\n",
      "8.png 5.959288597106934\n",
      "3.png 5.864199638366699\n",
      "4.png 5.828464984893799\n",
      "21.png 5.726274490356445\n",
      "17.png 5.555602073669434\n",
      "11.png 5.473254203796387\n",
      "20.png 5.4281768798828125\n",
      "24.png 5.410065650939941\n",
      "6.png 5.213546276092529\n",
      "average score: 6.099830532073975\n",
      "mean: 6.099830532073975 all: [6.841940402984619, 6.745919227600098, 6.737991809844971, 6.645719528198242, 6.6044769287109375, 6.601787090301514, 6.52354621887207, 6.317983627319336, 6.285238265991211, 6.2014336585998535, 6.191251277923584, 6.138124465942383, 6.092841625213623, 6.074313640594482, 6.055541515350342, 5.978781223297119, 5.959288597106934, 5.864199638366699, 5.828464984893799, 5.726274490356445, 5.555602073669434, 5.473254203796387, 5.4281768798828125, 5.410065650939941, 5.213546276092529]\n"
     ]
    },
    {
     "name": "stderr",
     "output_type": "stream",
     "text": [
      "\n"
     ]
    }
   ],
   "source": [
    "# 构造 args 对象，用于传入/raw下的优化前的图片\n",
    "args = ae_score.argparse.Namespace(\n",
    "    image_file_or_dir=\"raw\",# 输入图像文件或文件夹路径\n",
    "    save_csv=False,\n",
    "    model=ae_score.MODEL,\n",
    "    device=None\n",
    ")\n",
    "# 运行 main 函数\n",
    "raw_scores = ae_score.main(args)\n",
    "# 保存所有分数列表和分数期望\n",
    "raw_score = raw_scores[0]\n",
    "all_raws = []\n",
    "for lst in raw_scores[1]:\n",
    "    all_raws.append(lst['score'])"
   ]
  },
  {
   "cell_type": "markdown",
   "metadata": {},
   "source": [
    "接下来，对已优化的prompt生成的图片进行评测："
   ]
  },
  {
   "cell_type": "code",
   "execution_count": 11,
   "metadata": {},
   "outputs": [
    {
     "name": "stdout",
     "output_type": "stream",
     "text": [
      "Loading sac+logos+ava1-l14-linearMSE\n",
      "Loading CLIP ViT-L/14\n"
     ]
    },
    {
     "name": "stderr",
     "output_type": "stream",
     "text": [
      "100%|██████████| 25/25 [00:11<00:00,  2.18it/s]"
     ]
    },
    {
     "name": "stdout",
     "output_type": "stream",
     "text": [
      "1.png 7.056516647338867\n",
      "12.png 7.022249221801758\n",
      "7.png 6.984950065612793\n",
      "19.png 6.964156150817871\n",
      "17.png 6.926566123962402\n",
      "0.png 6.855005264282227\n",
      "16.png 6.853736877441406\n",
      "10.png 6.825506210327148\n",
      "13.png 6.798949718475342\n",
      "22.png 6.68180513381958\n",
      "5.png 6.6625871658325195\n",
      "14.png 6.540289878845215\n",
      "4.png 6.3354339599609375\n",
      "20.png 6.323609352111816\n",
      "2.png 6.278228759765625\n",
      "8.png 6.273447036743164\n",
      "11.png 6.2193193435668945\n",
      "23.png 6.215234756469727\n",
      "3.png 6.162156105041504\n",
      "6.png 6.09523868560791\n",
      "18.png 6.039311408996582\n",
      "9.png 6.030139923095703\n",
      "15.png 6.010545253753662\n",
      "21.png 5.9157257080078125\n",
      "24.png 5.8753461837768555\n",
      "average score: 6.477842197418213\n"
     ]
    },
    {
     "name": "stderr",
     "output_type": "stream",
     "text": [
      "\n"
     ]
    }
   ],
   "source": [
    "# 构造 args 对象，用于传入/update下的优化后的图片\n",
    "args = ae_score.argparse.Namespace(\n",
    "    image_file_or_dir=\"update\",# 输入图像文件或文件夹路径\n",
    "    save_csv=False,\n",
    "    model=ae_score.MODEL,\n",
    "    device=None\n",
    ")\n",
    "# 运行 main 函数\n",
    "update_scores = ae_score.main(args)\n",
    "# 保存所有分数列表和分数期望\n",
    "update_score = update_scores[0]\n",
    "all_updates = []\n",
    "for lst in update_scores[1]:\n",
    "    all_updates.append(lst['score'])"
   ]
  },
  {
   "cell_type": "markdown",
   "metadata": {},
   "source": [
    "* 在总量为25的数据集上进行了Aesthetics score美学评分，最终我们的图片美化效果提升幅度接近6%。\n",
    "* 从raw_prompt和update_prompt的aesthetics score分数对比图可以明显看到，针对每一条prompt的优化均有分数上的提升，且最大提升幅度达到了近13%。"
   ]
  },
  {
   "cell_type": "code",
   "execution_count": 64,
   "metadata": {},
   "outputs": [
    {
     "data": {
      "image/png": "[encoded data removed]",
      "text/plain": [
       "<Figure size 1200x600 with 1 Axes>"
      ]
     },
     "metadata": {},
     "output_type": "display_data"
    },
    {
     "data": {
      "image/png": "[encoded data removed]",
      "text/plain": [
       "<Figure size 800x400 with 1 Axes>"
      ]
     },
     "metadata": {},
     "output_type": "display_data"
    }
   ],
   "source": [
    "raws = np.array(all_raws)\n",
    "updates = np.array(all_updates)\n",
    "\n",
    "# 计算最大值、最小值和中位数\n",
    "max_raw = np.max(raws)\n",
    "min_raw = np.min(raws)\n",
    "median_raw = np.median(raws)\n",
    "\n",
    "max_update = np.max(updates)\n",
    "min_update = np.min(updates)\n",
    "median_update = np.median(updates)\n",
    "\n",
    "raw_scores = all_raws\n",
    "update_scores = all_updates\n",
    "\n",
    "# 计算差值\n",
    "diff_scores = np.array(update_scores) - np.array(raw_scores)\n",
    "\n",
    "# 绘制图表\n",
    "fig, ax = plt.subplots(figsize=(12, 6))\n",
    "\n",
    "# 绘制原始分数和更新后的分数\n",
    "ax.scatter(range(len(raw_scores)), raw_scores, marker='o', s=100, color='tab:blue', label='Raw Score', edgecolor='black', linewidth=1)\n",
    "ax.scatter(range(len(update_scores)), update_scores, marker='o', s=100, color='tab:orange', label='Updated Score', edgecolor='black', linewidth=1)\n",
    "\n",
    "# 添加柱子\n",
    "for i in range(len(raw_prompt)):\n",
    "    height = update_scores[i] - raw_scores[i]\n",
    "    ax.bar(i, height, bottom=raw_scores[i], color='gray', alpha=0.5, width=0.4)\n",
    "    # 在柱子中间显示具体差值\n",
    "    ax.text(i, raw_scores[i] + height/2, f'{height:.1f}', ha='center', va='center', color='black', fontsize=10)\n",
    "\n",
    "# 设置图表标题和轴标签\n",
    "ax.set_title('Raw vs Updated', fontsize=16)\n",
    "ax.set_xlabel('Prompt Index', fontsize=14)\n",
    "ax.set_ylabel('Score', fontsize=14)\n",
    "\n",
    "# 设置X轴刻度标签为序号\n",
    "ax.set_xticks(range(len(raw_prompt)))\n",
    "\n",
    "# 添加图例\n",
    "ax.legend()\n",
    "\n",
    "plt.tight_layout()\n",
    "plt.show()\n",
    "\n",
    "# 创建一个 3x3 的表格\n",
    "fig, ax = plt.subplots(figsize=(8, 4))\n",
    "ax.axis('off')  # 隐藏坐标轴\n",
    "\n",
    "# 设置表格的行列数\n",
    "rows = 2\n",
    "cols = 4\n",
    "\n",
    "# 创建数据\n",
    "data = [[raw_score, max_raw, min_raw,median_raw]   ,\n",
    "        [update_score, max_update, min_update,median_update]]\n",
    "\n",
    "# 创建表头\n",
    "row_labels = ['Raw Prompt', 'Updated Prompt']\n",
    "col_labels = ['Avg Score', 'Max', 'Min','Median']\n",
    "\n",
    "# 绘制表格\n",
    "the_table = ax.table(cellText=data,\n",
    "                     rowLabels=row_labels,\n",
    "                     colLabels=col_labels,\n",
    "                     loc='center',\n",
    "                     cellLoc='center',\n",
    "                     rowColours=['lightgray'] * rows,  # 设置行颜色\n",
    "                     colColours=['lightgray'] * cols,  # 设置列颜色\n",
    "                     cellColours=[['none'] * cols] * rows)  # 设置单元格颜色\n",
    "\n",
    "# 添加表格标题\n",
    "ax.set_title('Aesthestics Score Evaluation Result', fontsize=16, pad=20)\n",
    "\n",
    "# 调整表格大小\n",
    "the_table.auto_set_font_size(False)\n",
    "the_table.set_fontsize(8)\n",
    "the_table.scale(1.5, 2)  # 调整表格大小\n",
    "\n",
    "# 显示图像\n",
    "plt.tight_layout()\n",
    "plt.show()"
   ]
  },
  {
   "cell_type": "markdown",
   "metadata": {},
   "source": [
    "### 通过Pick Score评价优化方案的有效性\n",
    "* Pick score用于评价图像和提示词的相似度，保证生成图片的有效性\n",
    "* 该指标的计算方法是通过对输入提示词的长度、词频、主题相关性和生成效果的综合评估，得出提示词的有效性评分。\n",
    "* Pick Score的得分经过了softmax处理，区间在0-1之间，数值越大，关联程度越高。\n",
    "* 原论文链接：https://arxiv.org/abs/2305.01569\n",
    "* 由于Pick Score模型限制，此处使用的prompt为英文原版prompt。"
   ]
  },
  {
   "cell_type": "code",
   "execution_count": 26,
   "metadata": {},
   "outputs": [
    {
     "name": "stderr",
     "output_type": "stream",
     "text": [
      "`text_config_dict` is provided which will be used to initialize `CLIPTextConfig`. The value `text_config[\"id2label\"]` will be overriden.\n"
     ]
    },
    {
     "name": "stdout",
     "output_type": "stream",
     "text": [
      "Prompt: Twilight Barn Painting, Probabilities: [0.39845356345176697, 0.6015465259552002]\n",
      "Prompt: Shady Green Trees and Blooming Flowers, Probabilities: [0.2977561950683594, 0.7022437453269958]\n",
      "Prompt: A Noble Corgi, Probabilities: [0.16145963966846466, 0.8385403752326965]\n",
      "Prompt: Kung Pao Chicken, Probabilities: [0.2974173426628113, 0.7025826573371887]\n",
      "Prompt: A Room Filled with Toy Robots, Probabilities: [0.32238972187042236, 0.6776102781295776]\n",
      "Prompt: A Jungle Temple with Many Statues Inside, Probabilities: [0.3444701135158539, 0.655529797077179]\n",
      "Prompt: Black and White Photo of Two Horses, Probabilities: [0.783403217792511, 0.21659676730632782]\n",
      "Prompt: A Grand Palace with the Emperor in the Center, Ministers on Brooms Paying Homage, Some Reporting Work, the Entire Hall Gleaming with Gold, Probabilities: [0.4876033365726471, 0.5123966336250305]\n",
      "Prompt: A Cute Kitten, Probabilities: [0.5886120200157166, 0.41138795018196106]\n",
      "Prompt: A Gothic Building, Probabilities: [0.47186294198036194, 0.5281369686126709]\n",
      "Prompt: Two Brothers with Deep Bonds, Probabilities: [0.1856713443994522, 0.814328670501709]\n",
      "Prompt: A Snail, Probabilities: [0.7101601958274841, 0.28983986377716064]\n",
      "Prompt: A High School Student Studying Late at Night at a Computer Desk, Probabilities: [0.48027679324150085, 0.5197231769561768]\n",
      "Prompt: Coffee-Colored Sky, Green Lake, Blue Grass, Probabilities: [0.444215327501297, 0.5557846426963806]\n",
      "Prompt: Sacred Pyramid with a Sphinx at the Entrance, Probabilities: [0.5698661804199219, 0.43013378977775574]\n",
      "Prompt: Two Meerkats in the Wild with a Hot Air Balloon, Probabilities: [0.6993129849433899, 0.3006870150566101]\n",
      "Prompt: A Painting of a Girl in a White Dress Dancing in a Daisy Field, Probabilities: [0.38877981901168823, 0.6112201809883118]\n",
      "Prompt: Spring Arrives, Everything Awakens, Probabilities: [0.2924484610557556, 0.7075515389442444]\n",
      "Prompt: A Futuristic Spaceship with Flames Bursting, Probabilities: [0.32964077591896057, 0.6703592538833618]\n",
      "Prompt: A Dog, a Cat, and Jesus Caring for All Creatures, Including People and Plants, Probabilities: [0.63358074426651, 0.3664192259311676]\n",
      "Prompt: Stir-Fried Noodles with Minced Pork, Probabilities: [0.5302764177322388, 0.46972358226776123]\n",
      "Prompt: Spicy Sliced Beef and Tripe, Probabilities: [0.5834560394287109, 0.41654399037361145]\n",
      "Prompt: A Phoenix Flying Over a Mountain, Probabilities: [0.31403863430023193, 0.6859613656997681]\n",
      "Prompt: Robot Battle, Probabilities: [0.5716444849967957, 0.42835554480552673]\n",
      "Prompt: A Bug's Life, Probabilities: [0.611375629901886, 0.388624370098114]\n"
     ]
    }
   ],
   "source": [
    "# 加载模型和处理器\n",
    "device = \"cpu\"\n",
    "processor_name_or_path = \"laion/CLIP-ViT-H-14-laion2B-s32B-b79K\"\n",
    "model_pretrained_name_or_path = \"yuvalkirstain/PickScore_v1\"\n",
    "\n",
    "processor = AutoProcessor.from_pretrained(processor_name_or_path)\n",
    "model = AutoModel.from_pretrained(model_pretrained_name_or_path).eval().to(device)\n",
    "\n",
    "# 获取原始图像文件路径\n",
    "raw_image_paths = sorted(glob(os.path.join(raw_folder, '*.png')))\n",
    "update_image_paths = sorted(glob(os.path.join(update_folder, '*.png')))\n",
    "\n",
    "pickscore_results = []\n",
    "# 循环计算每个 prompt 的概率\n",
    "for i, prompt in enumerate(raw_prompt_eng):\n",
    "    #raw_image_path = raw_image_paths[i]\n",
    "    image = [Image.open(raw_image_paths[i]),Image.open(update_image_paths[i])]\n",
    "    probs = calc_probs(prompt, image)\n",
    "    pickscore_results.append(probs)\n",
    "    print(f'Prompt: {prompt}, Probabilities: {probs}')"
   ]
  },
  {
   "cell_type": "markdown",
   "metadata": {},
   "source": [
    "* 从上面的分数可以看到，还是有一些prompt在优化后反而在Pick Score上的评分低于原始prompt的评分，这是因为Pick Score模型本身存在一些局限性。下面我们挑出一个最大负例进行分析：\n",
    "* 在输入prompt为“两匹马的黑白照片”这一组图片中，优化前的分数为0.78，优化后的仅有0.22。如下图所示，左边对应原始prompt的生成图片，右边对应优化prompt的生成图片：\n",
    "    * 可以明显看出，左边的图片实际上有很大一部分是无法识别的内容，而右边的显然看上去更加清晰，也更符合用户的预期。因此，模型本身的局限性是会导致对于图片评估的误判的。｜\n"
   ]
  },
  {
   "cell_type": "markdown",
   "metadata": {},
   "source": [
    "<div style=\"display: flex; align-items: center; gap: 20px;\">\n",
    "    <img src=\"img/horse_raw.png\" alt=\"Raw Image\" style=\"width: 50%;\"/>\n",
    "    <img src=\"img/horse_update.png\" alt=\"Updated Image\" style=\"width: 50%;\"/>\n",
    "</div>\n"
   ]
  },
  {
   "cell_type": "code",
   "execution_count": 63,
   "metadata": {},
   "outputs": [
    {
     "data": {
      "image/png": "[encoded data removed]",
      "text/plain": [
       "<Figure size 800x400 with 1 Axes>"
      ]
     },
     "metadata": {},
     "output_type": "display_data"
    }
   ],
   "source": [
    "import statistics\n",
    "\n",
    "results = pickscore_results  # 计算优化有效的结果数量\n",
    "#effective_count = sum(1 for result in results if result[1] > result[0])\n",
    "# 计算优化程度的平均值和中位数\n",
    "improvement_scores = [result[1] - result[0] for result in results if result[1] > result[0]]\n",
    "avg_improvement = statistics.mean(improvement_scores)\n",
    "median_improvement = statistics.median(improvement_scores)\n",
    "standeard_deviation = statistics.stdev(improvement_scores)\n",
    "\n",
    "# 计算优化前的均值\n",
    "before_mean = statistics.mean([result[0] for result in results])\n",
    "# 计算优化后的均值\n",
    "after_mean = statistics.mean([result[1] for result in results])\n",
    "before_median = statistics.median([result[0] for result in results])\n",
    "after_median = statistics.median([result[1] for result in results])\n",
    "before_max = max([result[0] for result in results])\n",
    "after_max = max([result[1] for result in results])\n",
    "before_min = min([result[0] for result in results])\n",
    "after_min = min([result[1] for result in results])\n",
    "# print(f\"优化前的均值: {before_mean}\")\n",
    "# print(f\"优化后的均值: {after_mean}\")\n",
    "# print(f\"优化程度的平均值: {avg_improvement}\")\n",
    "# print(f\"优化程度的中位数: {median_improvement}\")\n",
    "# print(f\"优化程度的标准差: {standeard_deviation}\")\n",
    "fig, ax = plt.subplots(figsize=(8, 4))\n",
    "ax.axis('off')  # 隐藏坐标轴\n",
    "\n",
    "# 设置表格的行列数\n",
    "rows = 2\n",
    "cols = 4\n",
    "\n",
    "# 创建数据\n",
    "data = [[before_mean, before_max, before_min, before_median]   ,\n",
    "        [after_mean, after_max, after_min, after_median]]\n",
    "\n",
    "# 创建表头\n",
    "row_labels = ['Raw Prompt', 'Updated Prompt']\n",
    "col_labels = ['Avg Score', 'Max', 'Min','Median']\n",
    "\n",
    "# 绘制表格\n",
    "the_table = ax.table(cellText=data,\n",
    "                     rowLabels=row_labels,\n",
    "                     colLabels=col_labels,\n",
    "                     loc='center',\n",
    "                     cellLoc='center',\n",
    "                     rowColours=['lightgray'] * rows,  # 设置行颜色\n",
    "                     colColours=['lightgray'] * cols,  # 设置列颜色\n",
    "                     cellColours=[['none'] * cols] * rows)  # 设置单元格颜色\n",
    "\n",
    "# 添加表格标题\n",
    "ax.set_title('Pick Score Evaluation Result', fontsize=16, pad=20)\n",
    "\n",
    "# 调整表格大小\n",
    "the_table.auto_set_font_size(False)\n",
    "the_table.set_fontsize(8)\n",
    "the_table.scale(1.5, 2)  # 调整表格大小\n",
    "\n",
    "# 显示图像\n",
    "plt.tight_layout()\n",
    "plt.show()"
   ]
  },
  {
   "cell_type": "markdown",
   "metadata": {},
   "source": [
    "## 总结\n",
    "* 在Aesthestics Score和Pick Score两个测试模型中，我们的方法均有出色的表现。这表明，轻量化的优化方法也可以有效地提升prompt的质量。"
   ]
  }
 ],
 "metadata": {
  "kernelspec": {
   "display_name": "base",
   "language": "python",
   "name": "python3"
  },
  "language_info": {
   "codemirror_mode": {
    "name": "ipython",
    "version": 3
   },
   "file_extension": ".py",
   "mimetype": "text/x-python",
   "name": "python",
   "nbconvert_exporter": "python",
   "pygments_lexer": "ipython3",
   "version": "3.11.8"
  },
  "vscode": {
   "interpreter": {
    "hash": "58f7cb64c3a06383b7f18d2a11305edccbad427293a2b4afa7abe8bfc810d4bb"
   }
  }
 },
 "nbformat": 4,
 "nbformat_minor": 4
}
