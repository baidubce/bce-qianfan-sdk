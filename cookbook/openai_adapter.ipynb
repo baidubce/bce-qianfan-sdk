{
 "cells": [
  {
   "cell_type": "markdown",
   "metadata": {},
   "source": [
    "# 千帆 OpenAI 适配器\n",
    "\n",
    "对于已经适配 OpenAI 而尚未支持千帆 SDK 的用户，本文提供了一种方法，支持用户0成本从OpenAI迁移到百度文心千帆大模型平台。\n",
    "整体流程包含：\n",
    "1. 在本地使用 qianfan 启动千帆OpenAI适配器\n",
    "2. 编写 OpenAI规范 接口代码，通过调用本地千帆OpenAI适配器，请求千帆大模型平台。"
   ]
  },
  {
   "cell_type": "markdown",
   "metadata": {},
   "source": [
    "# 启动千帆 OpenAI 适配器"
   ]
  },
  {
   "cell_type": "code",
   "execution_count": null,
   "metadata": {},
   "outputs": [
    {
     "name": "stdout",
     "output_type": "stream",
     "text": [
      "\u001b[1mINFO\u001b[0m: `--no-ignore-system` is not set. System messages will be ignored by \n",
      "default since most system messages for openai is not suitable for ERNIE model.\n",
      "\n",
      "OpenAI wrapper server is running at                                             \n",
      "\n",
      "\u001b[1;33m • \u001b[0mhttp://127.0.0.1:8001                                                        \n",
      "\u001b[1;33m • \u001b[0mhttp://172.18.167.145:8001                                                   \n",
      "\n",
      "Remember to set the environment variables:                                      \n",
      "\n",
      "\u001b[40m                                                                                \u001b[0m\n",
      "\u001b[40m \u001b[0m\u001b[97;40m    \u001b[0m\u001b[97;40mexport\u001b[0m\u001b[97;40m \u001b[0m\u001b[97;40mOPENAI_API_KEY\u001b[0m\u001b[91;40m=\u001b[0m\u001b[93;40m'any-content-you-want'\u001b[0m\u001b[40m                              \u001b[0m\u001b[40m \u001b[0m\n",
      "\u001b[40m \u001b[0m\u001b[97;40m    \u001b[0m\u001b[97;40mexport\u001b[0m\u001b[97;40m \u001b[0m\u001b[97;40mOPENAI_BASE_URL\u001b[0m\u001b[91;40m=\u001b[0m\u001b[93;40m'http://172.18.167.145:8001/v1'\u001b[0m\u001b[40m                    \u001b[0m\u001b[40m \u001b[0m\n",
      "\u001b[40m                                                                                \u001b[0m\n",
      "\n"
     ]
    },
    {
     "name": "stderr",
     "output_type": "stream",
     "text": [
      "INFO:     Started server process [40058]\n",
      "INFO:     Waiting for application startup.\n",
      "INFO:     Application startup complete.\n",
      "INFO:     Uvicorn running on http://0.0.0.0:8001 (Press CTRL+C to quit)\n"
     ]
    }
   ],
   "source": [
    "# import nest_asyncio\n",
    "import os\n",
    "import subprocess as sp\n",
    "\n",
    "# 该环境变量用于绕过 OpenAI 对 OpenAI API Key 的检查\n",
    "os.environ[\"OPENAI_API_KEY\"] = \"FAKE_KEY\"\n",
    "# 需要将 OPENAI 的 API 请求重定向到本地的服务\n",
    "os.environ[\"OPENAI_BASE_URL\"] = \"http://127.0.0.1:8001/v1\"  # 修改为本地 OpenAI API 地址\n",
    "\n",
    "# 以下环境变量供千帆 OpenAI Adapter：\n",
    "# 使用安全认证的access_key/secret_key:\n",
    "os.environ[\"QIANFAN_ACCESS_KEY\"] = \"your_access_key\"\n",
    "os.environ[\"QIANFAN_SECRET_KEY\"] = \"your_secret_key\"\n",
    "# 或者应用ak/sk\n",
    "# os.environ[\"QIANFAN_AK\"]=\"your_app_ak\"\n",
    "# os.environ[\"QIANFAN_SK\"]=\"your_app_sk\"\n",
    "\n",
    "# 启动千帆 SDK 的 OpenAI Adapter 服务，用于代理转发指向 OpenAI 的请求，并替换为千帆服务的返回\n",
    "server = sp.Popen(\"qianfan openai -p 8001\", shell=True)\n",
    "# 也可以在终端直接执行qianfan openai -p 8001"
   ]
  },
  {
   "cell_type": "markdown",
   "metadata": {},
   "source": [
    "# 调用ERNIE文心大模型"
   ]
  },
  {
   "cell_type": "code",
   "execution_count": 2,
   "metadata": {},
   "outputs": [
    {
     "name": "stderr",
     "output_type": "stream",
     "text": [
      "[INFO][2024-06-25 14:47:30.943] oauth.py:228 [t:8344509248]: trying to refresh access_token for ak `rRlk1M***`\n",
      "[INFO][2024-06-25 14:47:31.137] oauth.py:243 [t:8344509248]: sucessfully refresh access_token\n"
     ]
    },
    {
     "name": "stdout",
     "output_type": "stream",
     "text": [
      "INFO:     127.0.0.1:55075 - \"POST /v1/chat/completions HTTP/1.1\" 200 OK\n",
      "ChatCompletionMessage(content='炒西红柿鸡蛋是一道家常菜，口感鲜美，营养丰富。以下是制作炒西红柿鸡蛋的基本步骤：\\n\\n所需材料：\\n- 西红柿 2-3个\\n- 鸡蛋 3-4个\\n- 葱 1根\\n- 蒜 2-3瓣\\n- 盐 适量\\n- 白糖 少许（可选）\\n- 生抽 少许（可选）\\n- 食用油 适量\\n\\n步骤：\\n\\n1. **准备材料**：\\n   - 将西红柿洗净，切成小块。\\n   - 鸡蛋打入碗中，加少许盐，搅拌均匀。\\n   - 葱、蒜切碎备用。\\n\\n2. **炒鸡蛋**：\\n   - 热锅凉油，待油温微热时，倒入搅拌好的鸡蛋液。\\n   - 用筷子或铲子轻轻搅拌，使鸡蛋液形成蛋花状，待鸡蛋基本凝固后，盛出备用。\\n\\n3. **炒西红柿**：\\n   - 锅中再倒入适量食用油，烧热后放入葱、蒜碎爆香。\\n   - 加入切好的西红柿块，翻炒至西红柿稍微变软出汁。\\n\\n4. **调味**：\\n   - 根据个人口味，加入适量盐、少许白糖（提鲜）和少许生抽（增色）。\\n   - 翻炒均匀，使西红柿充分吸收调味料。\\n\\n5. **合炒**：\\n   - 将之前炒好的鸡蛋倒入锅中，与西红柿一起翻炒均匀。\\n   - 确保鸡蛋和西红柿充分混合，让鸡蛋吸收西红柿的汤汁。\\n\\n6. **出锅**：\\n   - 翻炒均匀后，即可关火出锅。\\n   - 可以撒上一些葱花作为装饰和提香。\\n\\n注意事项：\\n- 炒鸡蛋时油温不宜过高，以免鸡蛋炒糊。\\n- 西红柿炒至稍微变软出汁即可，不要炒得过烂。\\n- 调味时可根据个人口味调整盐和糖的用量。\\n\\n这样一道色香味俱佳的炒西红柿鸡蛋就做好了，希望您会喜欢！', role='assistant', function_call=None, tool_calls=None)\n"
     ]
    }
   ],
   "source": [
    "from openai import OpenAI\n",
    "\n",
    "client = OpenAI()\n",
    "\n",
    "completion = client.chat.completions.create(\n",
    "    model=\"ERNIE-3.5-8K\",\n",
    "    messages=[{'role': 'system', 'content': 'You are a helpful assistant.'},\n",
    "              {'role': 'user', 'content': '如何做炒西红柿鸡蛋？'}]\n",
    ")\n",
    "print(completion.choices[0].message)"
   ]
  },
  {
   "cell_type": "markdown",
   "metadata": {},
   "source": [
    "# 常用模型清单\n",
    "ERNIE-3.5-8K<br>\n",
    "ERNIE-4.0-8K<br>\n",
    "ERNIE-Speed-8K<br>"
   ]
  },
  {
   "cell_type": "markdown",
   "metadata": {},
   "source": [
    "# 查看完整模型清单"
   ]
  },
  {
   "cell_type": "code",
   "execution_count": 5,
   "metadata": {},
   "outputs": [
    {
     "data": {
      "text/plain": [
       "{'AquilaChat-7B',\n",
       " 'BLOOMZ-7B',\n",
       " 'ChatGLM2-6B-32K',\n",
       " 'ChatLaw',\n",
       " 'EB-turbo-AppBuilder',\n",
       " 'ERNIE 3.5',\n",
       " 'ERNIE Speed',\n",
       " 'ERNIE Speed-AppBuilder',\n",
       " 'ERNIE-3.5-128K',\n",
       " 'ERNIE-3.5-128K（预览版）',\n",
       " 'ERNIE-3.5-8K',\n",
       " 'ERNIE-3.5-8K-0205',\n",
       " 'ERNIE-3.5-8K-0329',\n",
       " 'ERNIE-3.5-8K-0613',\n",
       " 'ERNIE-3.5-8K-Preview',\n",
       " 'ERNIE-3.5-8K-preview',\n",
       " 'ERNIE-3.5-preview',\n",
       " 'ERNIE-4.0-8K',\n",
       " 'ERNIE-4.0-8K-0104',\n",
       " 'ERNIE-4.0-8K-0329',\n",
       " 'ERNIE-4.0-8K-0613',\n",
       " 'ERNIE-4.0-8K-Latest',\n",
       " 'ERNIE-4.0-8K-Preview',\n",
       " 'ERNIE-4.0-8K-Preview-0518',\n",
       " 'ERNIE-4.0-8K-preview',\n",
       " 'ERNIE-4.0-preview',\n",
       " 'ERNIE-Bot',\n",
       " 'ERNIE-Bot-4',\n",
       " 'ERNIE-Bot-turbo',\n",
       " 'ERNIE-Bot-turbo-AI',\n",
       " 'ERNIE-Character-8K',\n",
       " 'ERNIE-Character-Fiction-8K',\n",
       " 'ERNIE-Function-8K',\n",
       " 'ERNIE-Functions-8K',\n",
       " 'ERNIE-Lite-8K',\n",
       " 'ERNIE-Lite-8K-0308',\n",
       " 'ERNIE-Lite-8K-0922',\n",
       " 'ERNIE-Lite-8K-0922（原ERNIE-Bot-turbo-0922）',\n",
       " 'ERNIE-Speed',\n",
       " 'ERNIE-Speed-128K',\n",
       " 'ERNIE-Speed-8K',\n",
       " 'ERNIE-Tiny-8K',\n",
       " 'Gemma-7B-It',\n",
       " 'Gemma-7B-it',\n",
       " 'Llama-2-13B-Chat',\n",
       " 'Llama-2-70B-Chat',\n",
       " 'Llama-2-7B-Chat',\n",
       " 'Meta-Llama-3-70B',\n",
       " 'Meta-Llama-3-8B',\n",
       " 'Mixtral-8x7B-Instruct',\n",
       " 'Qianfan-BLOOMZ-7B-compressed',\n",
       " 'Qianfan-Chinese-Llama-2-13B',\n",
       " 'Qianfan-Chinese-Llama-2-70B',\n",
       " 'Qianfan-Chinese-Llama-2-7B',\n",
       " 'XuanYuan-70B-Chat-4bit',\n",
       " 'Yi-34B-Chat'}"
      ]
     },
     "execution_count": 5,
     "metadata": {},
     "output_type": "execute_result"
    }
   ],
   "source": [
    "from qianfan import ChatCompletion\n",
    "ChatCompletion().models()"
   ]
  }
 ],
 "metadata": {
  "kernelspec": {
   "display_name": "base",
   "language": "python",
   "name": "python3"
  },
  "language_info": {
   "codemirror_mode": {
    "name": "ipython",
    "version": 3
   },
   "file_extension": ".py",
   "mimetype": "text/x-python",
   "name": "python",
   "nbconvert_exporter": "python",
   "pygments_lexer": "ipython3",
   "version": "3.11.8"
  },
  "vscode": {
   "interpreter": {
    "hash": "58f7cb64c3a06383b7f18d2a11305edccbad427293a2b4afa7abe8bfc810d4bb"
   }
  }
 },
 "nbformat": 4,
 "nbformat_minor": 2
}
