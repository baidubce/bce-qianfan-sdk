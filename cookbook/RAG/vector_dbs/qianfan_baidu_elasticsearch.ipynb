{
 "cells": [
  {
   "attachments": {},
   "cell_type": "markdown",
   "metadata": {},
   "source": [
    "# 概述\n",
    "\n",
    "[Baidu ElasticSearch](https://cloud.baidu.com/doc/BES/index.html?from=productToDoc)（以下简称 BES）是一款100%兼容开源的分布式检索分析服务。为结构化/非结构化数据提供低成本、高性能及可靠性的检索、分析平台级产品服务。向量能力方面，支持多种索引类型和相似度距离算法。\n",
    "目前，BES已经和文心一言大模型联合打造方案，也广泛应用于推荐、计算机视觉、智能问答等领域；同时，BES的向量检索和存储的能力也集成进入Langchain。\n",
    "本文主要介绍基于Langchain的框架，结合BES的向量数据库的能力，对接千帆平台的模型管理和应用接入的能力，从而构建一个RAG的知识问答场景。"
   ]
  },
  {
   "attachments": {},
   "cell_type": "markdown",
   "metadata": {},
   "source": [
    "## 准备工作\n",
    "用户需要保证python的版本大于等于3.9，且需要安装langchain，qianfan sdk的包。"
   ]
  },
  {
   "cell_type": "code",
   "execution_count": 1,
   "metadata": {},
   "outputs": [
    {
     "name": "stdout",
     "output_type": "stream",
     "text": [
      "\u001b[31mERROR: Could not find a version that satisfies the requirement langchain==0.332 (from versions: 0.0.1, 0.0.2, 0.0.3, 0.0.4, 0.0.5, 0.0.6, 0.0.7, 0.0.8, 0.0.9, 0.0.10, 0.0.11, 0.0.12, 0.0.13, 0.0.14, 0.0.15, 0.0.16, 0.0.17, 0.0.18, 0.0.19, 0.0.20, 0.0.21, 0.0.22, 0.0.23, 0.0.24, 0.0.25, 0.0.26, 0.0.27, 0.0.28, 0.0.29, 0.0.30, 0.0.31, 0.0.32, 0.0.33, 0.0.34, 0.0.35, 0.0.36, 0.0.37, 0.0.38, 0.0.39, 0.0.40, 0.0.41, 0.0.42, 0.0.43, 0.0.44, 0.0.45, 0.0.46, 0.0.47, 0.0.48, 0.0.49, 0.0.50, 0.0.51, 0.0.52, 0.0.53, 0.0.54, 0.0.55, 0.0.56, 0.0.57, 0.0.58, 0.0.59, 0.0.60, 0.0.61, 0.0.63, 0.0.64, 0.0.65, 0.0.66, 0.0.67, 0.0.68, 0.0.69, 0.0.70, 0.0.71, 0.0.72, 0.0.73, 0.0.74, 0.0.75, 0.0.76, 0.0.77, 0.0.78, 0.0.79, 0.0.80, 0.0.81, 0.0.82, 0.0.83, 0.0.84, 0.0.85, 0.0.86, 0.0.87, 0.0.88, 0.0.89, 0.0.90, 0.0.91, 0.0.92, 0.0.93, 0.0.94, 0.0.95, 0.0.96, 0.0.97, 0.0.98, 0.0.99rc0, 0.0.99, 0.0.100, 0.0.101rc0, 0.0.101, 0.0.102rc0, 0.0.102, 0.0.103, 0.0.104, 0.0.105, 0.0.106, 0.0.107, 0.0.108, 0.0.109, 0.0.110, 0.0.111, 0.0.112, 0.0.113, 0.0.114, 0.0.115, 0.0.116, 0.0.117, 0.0.118, 0.0.119, 0.0.120, 0.0.121, 0.0.122, 0.0.123, 0.0.124, 0.0.125, 0.0.126, 0.0.127, 0.0.128, 0.0.129, 0.0.130, 0.0.131, 0.0.132, 0.0.133, 0.0.134, 0.0.135, 0.0.136, 0.0.137, 0.0.138, 0.0.139, 0.0.140, 0.0.141, 0.0.142, 0.0.143, 0.0.144, 0.0.145, 0.0.146, 0.0.147, 0.0.148, 0.0.149, 0.0.150, 0.0.151, 0.0.152, 0.0.153, 0.0.154, 0.0.155, 0.0.156, 0.0.157, 0.0.158, 0.0.159, 0.0.160, 0.0.161, 0.0.162, 0.0.163, 0.0.164, 0.0.165, 0.0.166, 0.0.167, 0.0.168, 0.0.169, 0.0.170, 0.0.171, 0.0.172, 0.0.173, 0.0.174, 0.0.175, 0.0.176, 0.0.177, 0.0.178, 0.0.179, 0.0.180, 0.0.181, 0.0.182, 0.0.183, 0.0.184, 0.0.185, 0.0.186, 0.0.187, 0.0.188, 0.0.189, 0.0.190, 0.0.191, 0.0.192, 0.0.193, 0.0.194, 0.0.195, 0.0.196, 0.0.197, 0.0.198, 0.0.199, 0.0.200, 0.0.201, 0.0.202, 0.0.203, 0.0.204, 0.0.205, 0.0.206, 0.0.207, 0.0.208, 0.0.209, 0.0.210, 0.0.211, 0.0.212, 0.0.213, 0.0.214, 0.0.215, 0.0.216, 0.0.217, 0.0.218, 0.0.219, 0.0.220, 0.0.221, 0.0.222, 0.0.223, 0.0.224, 0.0.225, 0.0.226, 0.0.227, 0.0.228, 0.0.229, 0.0.230, 0.0.231, 0.0.232, 0.0.233, 0.0.234, 0.0.235, 0.0.236, 0.0.237, 0.0.238, 0.0.239, 0.0.240rc0, 0.0.240rc1, 0.0.240rc4, 0.0.240, 0.0.242, 0.0.243, 0.0.244, 0.0.245, 0.0.246, 0.0.247, 0.0.248, 0.0.249, 0.0.250, 0.0.251, 0.0.252, 0.0.253, 0.0.254, 0.0.255, 0.0.256, 0.0.257, 0.0.258, 0.0.259, 0.0.260, 0.0.261, 0.0.262, 0.0.263, 0.0.264, 0.0.265, 0.0.266, 0.0.267, 0.0.268, 0.0.269, 0.0.270, 0.0.271, 0.0.272, 0.0.273, 0.0.274, 0.0.275, 0.0.276, 0.0.277, 0.0.278, 0.0.279, 0.0.281, 0.0.283, 0.0.284, 0.0.285, 0.0.286, 0.0.287, 0.0.288, 0.0.289, 0.0.290, 0.0.291, 0.0.292, 0.0.293, 0.0.294, 0.0.295, 0.0.296, 0.0.297, 0.0.298, 0.0.299, 0.0.300, 0.0.301, 0.0.302, 0.0.303, 0.0.304, 0.0.305, 0.0.306, 0.0.307, 0.0.308, 0.0.309, 0.0.310, 0.0.311, 0.0.312, 0.0.313, 0.0.314, 0.0.315, 0.0.316, 0.0.317, 0.0.318, 0.0.319, 0.0.320, 0.0.321, 0.0.322, 0.0.323, 0.0.324, 0.0.325, 0.0.326, 0.0.327, 0.0.329, 0.0.330, 0.0.331rc0, 0.0.331rc1, 0.0.331rc2, 0.0.331rc3, 0.0.331, 0.0.332, 0.0.333, 0.0.334, 0.0.335, 0.0.336, 0.0.337, 0.0.338, 0.0.339rc0, 0.0.339rc1, 0.0.339rc2, 0.0.339rc3, 0.0.339, 0.0.340, 0.0.341, 0.0.342, 0.0.343, 0.0.344)\u001b[0m\u001b[31m\n",
      "\u001b[0m\u001b[31mERROR: No matching distribution found for langchain==0.332\u001b[0m\u001b[31m\n",
      "\u001b[0mRequirement already satisfied: elasticsearch==7.11.0 in /Users/zhonghanjun/anaconda3/lib/python3.11/site-packages (7.11.0)\n",
      "Requirement already satisfied: urllib3<2,>=1.21.1 in /Users/zhonghanjun/anaconda3/lib/python3.11/site-packages (from elasticsearch==7.11.0) (1.26.16)\n",
      "Requirement already satisfied: certifi in /Users/zhonghanjun/anaconda3/lib/python3.11/site-packages (from elasticsearch==7.11.0) (2023.7.22)\n",
      "Requirement already satisfied: qianfan in /Users/zhonghanjun/anaconda3/lib/python3.11/site-packages (0.2.1)\n",
      "Requirement already satisfied: aiohttp>=3.7.0 in /Users/zhonghanjun/anaconda3/lib/python3.11/site-packages (from qianfan) (3.8.5)\n",
      "Requirement already satisfied: aiolimiter>=1.1.0 in /Users/zhonghanjun/anaconda3/lib/python3.11/site-packages (from qianfan) (1.1.0)\n",
      "Requirement already satisfied: bce-python-sdk>=0.8.79 in /Users/zhonghanjun/anaconda3/lib/python3.11/site-packages (from qianfan) (0.8.90)\n",
      "Requirement already satisfied: numpy>=1.22.0 in /Users/zhonghanjun/anaconda3/lib/python3.11/site-packages (from qianfan) (1.26.1)\n",
      "Requirement already satisfied: pyarrow>=14.0.1 in /Users/zhonghanjun/anaconda3/lib/python3.11/site-packages (from qianfan) (14.0.1)\n",
      "Requirement already satisfied: pydantic>=2 in /Users/zhonghanjun/anaconda3/lib/python3.11/site-packages (from qianfan) (2.4.2)\n",
      "Requirement already satisfied: pydantic-settings>=2.0.3 in /Users/zhonghanjun/anaconda3/lib/python3.11/site-packages (from qianfan) (2.0.3)\n",
      "Requirement already satisfied: python-dateutil<3.0.0,>=2.8.2 in /Users/zhonghanjun/anaconda3/lib/python3.11/site-packages (from qianfan) (2.8.2)\n",
      "Requirement already satisfied: requests>=2.24 in /Users/zhonghanjun/anaconda3/lib/python3.11/site-packages (from qianfan) (2.31.0)\n",
      "Requirement already satisfied: attrs>=17.3.0 in /Users/zhonghanjun/anaconda3/lib/python3.11/site-packages (from aiohttp>=3.7.0->qianfan) (22.1.0)\n",
      "Requirement already satisfied: charset-normalizer<4.0,>=2.0 in /Users/zhonghanjun/anaconda3/lib/python3.11/site-packages (from aiohttp>=3.7.0->qianfan) (2.0.4)\n",
      "Requirement already satisfied: multidict<7.0,>=4.5 in /Users/zhonghanjun/anaconda3/lib/python3.11/site-packages (from aiohttp>=3.7.0->qianfan) (6.0.2)\n",
      "Requirement already satisfied: async-timeout<5.0,>=4.0.0a3 in /Users/zhonghanjun/anaconda3/lib/python3.11/site-packages (from aiohttp>=3.7.0->qianfan) (4.0.2)\n",
      "Requirement already satisfied: yarl<2.0,>=1.0 in /Users/zhonghanjun/anaconda3/lib/python3.11/site-packages (from aiohttp>=3.7.0->qianfan) (1.8.1)\n",
      "Requirement already satisfied: frozenlist>=1.1.1 in /Users/zhonghanjun/anaconda3/lib/python3.11/site-packages (from aiohttp>=3.7.0->qianfan) (1.3.3)\n",
      "Requirement already satisfied: aiosignal>=1.1.2 in /Users/zhonghanjun/anaconda3/lib/python3.11/site-packages (from aiohttp>=3.7.0->qianfan) (1.2.0)\n",
      "Requirement already satisfied: pycryptodome>=3.8.0 in /Users/zhonghanjun/anaconda3/lib/python3.11/site-packages (from bce-python-sdk>=0.8.79->qianfan) (3.19.0)\n",
      "Requirement already satisfied: future>=0.6.0 in /Users/zhonghanjun/anaconda3/lib/python3.11/site-packages (from bce-python-sdk>=0.8.79->qianfan) (0.18.3)\n",
      "Requirement already satisfied: six>=1.4.0 in /Users/zhonghanjun/anaconda3/lib/python3.11/site-packages (from bce-python-sdk>=0.8.79->qianfan) (1.16.0)\n",
      "Requirement already satisfied: annotated-types>=0.4.0 in /Users/zhonghanjun/anaconda3/lib/python3.11/site-packages (from pydantic>=2->qianfan) (0.6.0)\n",
      "Requirement already satisfied: pydantic-core==2.10.1 in /Users/zhonghanjun/anaconda3/lib/python3.11/site-packages (from pydantic>=2->qianfan) (2.10.1)\n",
      "Requirement already satisfied: typing-extensions>=4.6.1 in /Users/zhonghanjun/anaconda3/lib/python3.11/site-packages (from pydantic>=2->qianfan) (4.8.0)\n",
      "Requirement already satisfied: python-dotenv>=0.21.0 in /Users/zhonghanjun/anaconda3/lib/python3.11/site-packages (from pydantic-settings>=2.0.3->qianfan) (0.21.0)\n",
      "Requirement already satisfied: idna<4,>=2.5 in /Users/zhonghanjun/anaconda3/lib/python3.11/site-packages (from requests>=2.24->qianfan) (3.4)\n",
      "Requirement already satisfied: urllib3<3,>=1.21.1 in /Users/zhonghanjun/anaconda3/lib/python3.11/site-packages (from requests>=2.24->qianfan) (1.26.16)\n",
      "Requirement already satisfied: certifi>=2017.4.17 in /Users/zhonghanjun/anaconda3/lib/python3.11/site-packages (from requests>=2.24->qianfan) (2023.7.22)\n",
      "Requirement already satisfied: pdfplumber in /Users/zhonghanjun/anaconda3/lib/python3.11/site-packages (0.10.3)\n",
      "Requirement already satisfied: pdfminer.six==20221105 in /Users/zhonghanjun/anaconda3/lib/python3.11/site-packages (from pdfplumber) (20221105)\n",
      "Requirement already satisfied: Pillow>=9.1 in /Users/zhonghanjun/anaconda3/lib/python3.11/site-packages (from pdfplumber) (9.4.0)\n",
      "Requirement already satisfied: pypdfium2>=4.18.0 in /Users/zhonghanjun/anaconda3/lib/python3.11/site-packages (from pdfplumber) (4.24.0)\n",
      "Requirement already satisfied: charset-normalizer>=2.0.0 in /Users/zhonghanjun/anaconda3/lib/python3.11/site-packages (from pdfminer.six==20221105->pdfplumber) (2.0.4)\n",
      "Requirement already satisfied: cryptography>=36.0.0 in /Users/zhonghanjun/anaconda3/lib/python3.11/site-packages (from pdfminer.six==20221105->pdfplumber) (41.0.3)\n",
      "Requirement already satisfied: cffi>=1.12 in /Users/zhonghanjun/anaconda3/lib/python3.11/site-packages (from cryptography>=36.0.0->pdfminer.six==20221105->pdfplumber) (1.15.1)\n",
      "Requirement already satisfied: pycparser in /Users/zhonghanjun/anaconda3/lib/python3.11/site-packages (from cffi>=1.12->cryptography>=36.0.0->pdfminer.six==20221105->pdfplumber) (2.21)\n"
     ]
    }
   ],
   "source": [
    "!pip install langchain==0.332\n",
    "!pip install elasticsearch==7.11.0\n",
    "!pip install qianfan \n",
    "!pip install pdfplumber"
   ]
  },
  {
   "attachments": {},
   "cell_type": "markdown",
   "metadata": {},
   "source": [
    "## 系统设置\n",
    "1. 需要在千帆大模型平台创建应用，获得接入的ak、sk\n",
    "2. 在BES的产品界面上创建一个BES集群，详见(https://cloud.baidu.com/doc/BES/s/0jwvyk4tv)"
   ]
  },
  {
   "cell_type": "code",
   "execution_count": 1,
   "metadata": {},
   "outputs": [],
   "source": [
    "import os\n",
    "\n",
    "os.environ['QIANFAN_AK'] = \"your_qianfan_ak\"\n",
    "os.environ['QIANFAN_SK'] = \"your_qianfan_sk\""
   ]
  },
  {
   "attachments": {},
   "cell_type": "markdown",
   "metadata": {},
   "source": [
    "## 开发过程\n",
    "### 文档加载、切分"
   ]
  },
  {
   "cell_type": "code",
   "execution_count": null,
   "metadata": {},
   "outputs": [],
   "source": [
    "from langchain.text_splitter import RecursiveCharacterTextSplitter\n",
    "from langchain.document_loaders import PDFPlumberLoader\n",
    "\n",
    "\n",
    "loader = PDFPlumberLoader(\"/Users/zhonghanjun/pywp/bce-qianfan-sdk/cookbook/RAG/baidu_elasticsearch/example_data/ai-paper.pdf\")\n",
    "documents = loader.load()\n",
    "text_splitter = RecursiveCharacterTextSplitter(chunk_size = 384, chunk_overlap = 0, separators=[\"\\n\\n\", \"\\n\", \" \", \"\", \"。\", \"，\"])\n",
    "all_splits = text_splitter.split_documents(documents)\n",
    "all_splits"
   ]
  },
  {
   "attachments": {},
   "cell_type": "markdown",
   "metadata": {},
   "source": [
    "### 嵌入\n",
    "创建对应的嵌入算法，这里采用千帆大模型平台的 `QianfanEmbeddingsEndpoint` 接口。"
   ]
  },
  {
   "cell_type": "code",
   "execution_count": 16,
   "metadata": {},
   "outputs": [],
   "source": [
    "from langchain.embeddings import QianfanEmbeddingsEndpoint #sdk\n",
    "\n",
    "embeddings = QianfanEmbeddingsEndpoint()\n",
    "# embeddings-v1"
   ]
  },
  {
   "attachments": {},
   "cell_type": "markdown",
   "metadata": {},
   "source": [
    "### 向量检索和存储\n",
    "引入创建的BES集群，用Langchain内部集成的`BESVectorStore`接口创建向量存储对象(详见:[BESVectorStore](https://python.langchain.com/docs/integrations/vectorstores/baiducloud_vector_search))"
   ]
  },
  {
   "cell_type": "code",
   "execution_count": null,
   "metadata": {},
   "outputs": [],
   "source": [
    "from langchain.vectorstores import BESVectorStore\n",
    "\n",
    "bes = BESVectorStore.from_documents(\n",
    "    documents=documents,\n",
    "    embedding=embeddings,\n",
    "    bes_url=\"your bes cluster url\",\n",
    "    index_name=\"your vector index\",\n",
    ")\n",
    "bes.client.indices.refresh(index=\"your vector index\")"
   ]
  },
  {
   "attachments": {},
   "cell_type": "markdown",
   "metadata": {},
   "source": [
    "### 生成QA检索器\n",
    "创建对应 ERNIE-Bot 或者 ERNIE-Bot-turbo 模型的 Langchain Chat Model用于进一步生成QA检索器。model 字段支持使用 `ERNIE-Bot-turbo` 或 `ERNIE-Bot`。这里我们使用 `ERNIE-Bot`"
   ]
  },
  {
   "cell_type": "code",
   "execution_count": null,
   "metadata": {},
   "outputs": [],
   "source": [
    "from langchain.chat_models import QianfanChatEndpoint\n",
    "from langchain.chains import RetrievalQA\n",
    "\n",
    "retriever = bes.as_retriever(search_type=\"similarity_score_threshold\", search_kwargs={'score_threshold': 0.0})\n",
    "qianfan_chat_model = QianfanChatEndpoint(model=\"ERNIE-Bot\")\n",
    "# sdk prompt load from qianfan\n",
    "qa = RetrievalQA.from_chain_type(llm=qianfan_chat_model, chain_type=\"refine\", retriever=retriever, return_source_documents=True)\n",
    "\n",
    "\n",
    "query = input(\"\\n请输入问题: \")\n",
    "res = qa(query)\n",
    "answer, docs = res['result'], res['source_documents']\n",
    "\n",
    "print(\"\\n\\n> 问题:\")\n",
    "print(query)\n",
    "print(\"\\n> 回答:\")\n",
    "print(answer)"
   ]
  },
  {
   "cell_type": "code",
   "execution_count": null,
   "metadata": {},
   "outputs": [],
   "source": [
    "> 问题:\n",
    "2021年12月,DeepMind做了什么?\n",
    "\n",
    "> 回答:\n",
    "根据上下文，2021年12月，DeepMind发布了Gopher模型。该模型具有2800亿参数。经过152个任务的评估，Gopher比当时最先进的语言模型提高了大约81%的性能，特别是在知识密集领域，如事实检测和常识上。\n",
    "因此，正确答案是发布Gopher模型。"
   ]
  }
 ],
 "metadata": {
  "kernelspec": {
   "display_name": "base",
   "language": "python",
   "name": "python3"
  },
  "language_info": {
   "codemirror_mode": {
    "name": "ipython",
    "version": 3
   },
   "file_extension": ".py",
   "mimetype": "text/x-python",
   "name": "python",
   "nbconvert_exporter": "python",
   "pygments_lexer": "ipython3",
   "version": "3.11.5"
  },
  "orig_nbformat": 4,
  "vscode": {
   "interpreter": {
    "hash": "58f7cb64c3a06383b7f18d2a11305edccbad427293a2b4afa7abe8bfc810d4bb"
   }
  }
 },
 "nbformat": 4,
 "nbformat_minor": 2
}
