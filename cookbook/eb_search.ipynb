{
 "cells": [
  {
   "cell_type": "markdown",
   "metadata": {},
   "source": [
    "# ERNIE Bot 搜索能力\n",
    "\n",
    "搜索能力在大模型中扮演着关键的角色，它能够借助搜索引擎，让模型可以获得实时信息，从而更全面地理解问题，做出更准确的预测和决策。\n",
    "\n",
    "现在，ERNIE Bot 和 ERNIE Bot 4.0 都已经支持了搜索能力，这一功能默认开启，无需额外设置模型即可返回更为准确的结果。\n",
    "\n",
    "注意：需要 SDK 版本 >= 0.1.4"
   ]
  },
  {
   "cell_type": "code",
   "execution_count": 1,
   "metadata": {},
   "outputs": [],
   "source": [
    "import os\n",
    "\n",
    "os.environ[\"QIANFAN_AK\"] = \"your_app_ak\"\n",
    "os.environ[\"QIANFAN_SK\"] = \"your_app_sk\"\n"
   ]
  },
  {
   "cell_type": "code",
   "execution_count": 2,
   "metadata": {},
   "outputs": [],
   "source": [
    "import qianfan\n",
    "\n",
    "# 为了更佳的展示效果，这里我们先定义一个展示 Markdown 的函数\n",
    "from IPython.display import Markdown, display\n",
    "\n",
    "def print_md(text):\n",
    "    display(Markdown(text))\n",
    "\n",
    "r = qianfan.ChatCompletion(model=\"ERNIE-Bot-4\").do(messages=[{\n",
    "    \"role\":\"user\",\n",
    "    \"content\": \"林俊杰2023演唱会安排\"\n",
    "}])"
   ]
  },
  {
   "cell_type": "code",
   "execution_count": 3,
   "metadata": {},
   "outputs": [
    {
     "data": {
      "text/markdown": [
       "林俊杰2023年的演唱会安排如下：\n",
       "\n",
       "* 上海站：8月19日、20日\n",
       "* 广州站：9月8日、10日\n",
       "* 北京站：9月23日、24日\n",
       "* 西安站：10月28日、29日\n",
       "* 南京站：11月11日\n",
       "* 武汉站：11月25日、26日\n",
       "* 南宁站：12月9日、10日\n",
       "\n",
       "以上是林俊杰在2023年的部分演唱会安排，具体时间和地点可能因实际情况有所调整。建议关注林俊杰的官方社交媒体或相关票务平台，以获取最新和详细的演唱会信息。"
      ],
      "text/plain": [
       "<IPython.core.display.Markdown object>"
      ]
     },
     "metadata": {},
     "output_type": "display_data"
    }
   ],
   "source": [
    "print_md(r['result'])"
   ]
  },
  {
   "cell_type": "markdown",
   "metadata": {},
   "source": [
    "## 引用"
   ]
  },
  {
   "attachments": {},
   "cell_type": "markdown",
   "metadata": {},
   "source": [
    "为了更好的展现搜索结果的准确性，我们可以开启引用，这样模型的输出会通过角标展示所引用的搜索结果，方便用户寻找相关信息并甄别信息准确性。\n",
    "\n",
    "而开启引用，我们只需要在调用模型时，传入参数 `enable_citation` 即可。"
   ]
  },
  {
   "cell_type": "code",
   "execution_count": 4,
   "metadata": {},
   "outputs": [],
   "source": [
    "r = qianfan.ChatCompletion(model=\"ERNIE-Bot-4\").do(messages=[{\n",
    "    \"role\":\"user\",\n",
    "    \"content\": \"新能源汽车的优势\"\n",
    "}], enable_citation=True)"
   ]
  },
  {
   "attachments": {},
   "cell_type": "markdown",
   "metadata": {},
   "source": [
    "这样我们就可以在模型输出中看到角标，在 `['search_info']['search_results']` 字段中，我们可以拿到每个角标所引用的网址链接、标题等信息。"
   ]
  },
  {
   "cell_type": "code",
   "execution_count": 30,
   "metadata": {},
   "outputs": [
    {
     "data": {
      "text/markdown": [
       "新能源汽车的优势如下^[1][2]^：\n",
       "\n",
       "* **环保**：新能源汽车使用电力或其他清洁能源，显著降低了碳排放，保护了大气环境。\n",
       "* **省钱**：新能源汽车的耗电量低于燃油汽车的耗油量，可以节省费用。\n",
       "* **不限行**：新能源汽车几乎零污染、零排放，不在交通限行范围内。\n",
       "* **效率高**：新能源汽车将电能转化为动能的效率通常超过90%。\n",
       "* **噪音低**：新能源汽车的噪音很小，提高了驾驶的舒适性。\n",
       "* **保养简单**：新能源汽车的保养以检查为主，相对于燃油汽车保养更简单。\n",
       "* **有国家补贴政策**：新能源汽车可以享受购车补贴、减税优惠等。"
      ],
      "text/plain": [
       "<IPython.core.display.Markdown object>"
      ]
     },
     "metadata": {},
     "output_type": "display_data"
    },
    {
     "data": {
      "text/markdown": [
       "[1] [新能源车的优势,看完这篇文章你就知道了](https://baijiahao.baidu.com/s?id=1777609954009780305&wfr=spider&for=pc)"
      ],
      "text/plain": [
       "<IPython.core.display.Markdown object>"
      ]
     },
     "metadata": {},
     "output_type": "display_data"
    },
    {
     "data": {
      "text/markdown": [
       "[2] [新能源汽车的优势和劣势是什么](https://baijiahao.baidu.com/s?id=1752168697396988413&wfr=spider&for=pc)"
      ],
      "text/plain": [
       "<IPython.core.display.Markdown object>"
      ]
     },
     "metadata": {},
     "output_type": "display_data"
    }
   ],
   "source": [
    "print_md(r['result'])\n",
    "\n",
    "# 打印 Markdown 格式的链接\n",
    "for item in r['search_info']['search_results']:\n",
    "    print_md(\"[{}] [{}]({})\".format(item['index'], item['title'], item['url']))"
   ]
  },
  {
   "attachments": {},
   "cell_type": "markdown",
   "metadata": {},
   "source": [
    "## 关闭搜索能力"
   ]
  },
  {
   "attachments": {},
   "cell_type": "markdown",
   "metadata": {},
   "source": [
    "在特殊的场景下，可能会希望关闭模型的搜索功能，可以通过传入参数 `disable_search` 实现。"
   ]
  },
  {
   "cell_type": "code",
   "execution_count": 5,
   "metadata": {},
   "outputs": [],
   "source": [
    "r = qianfan.ChatCompletion(model=\"ERNIE-Bot-4\").do(messages=[{\n",
    "    \"role\":\"user\",\n",
    "    \"content\": \"林俊杰2023演唱会安排\"\n",
    "}], disable_search=True)"
   ]
  },
  {
   "attachments": {},
   "cell_type": "markdown",
   "metadata": {},
   "source": [
    "⚠️注意！此时模型将无法获取实时信息，仅能根据训练数据进行判断，因此涉及实时的最新信息输出结果可能会不准确，请注意甄别！"
   ]
  },
  {
   "cell_type": "markdown",
   "metadata": {},
   "source": []
  },
  {
   "attachments": {},
   "cell_type": "markdown",
   "metadata": {},
   "source": [
    "## ERNIE-Bot-turbo开启搜索："
   ]
  },
  {
   "cell_type": "code",
   "execution_count": 1,
   "metadata": {
    "ExecuteTime": {
     "end_time": "2024-02-23T09:04:27.446671Z",
     "start_time": "2024-02-23T09:04:23.401623Z"
    }
   },
   "outputs": [
    {
     "name": "stderr",
     "output_type": "stream",
     "text": [
      "[INFO] [02-23 17:04:23] openapi_requestor.py:316 [t:8601653888]: requesting llm api endpoint: /chat/eb-instant\n",
      "[INFO] [02-23 17:04:23] oauth.py:207 [t:8601653888]: trying to refresh access_token for ak `rRlk1M***`\n",
      "[INFO] [02-23 17:04:23] oauth.py:220 [t:8601653888]: sucessfully refresh access_token\n"
     ]
    },
    {
     "data": {
      "text/plain": "<IPython.core.display.Markdown object>",
      "text/markdown": "2024年的法定节假日包括以下几天：\n\n1. 元旦：2024年1月1日放假，共1天。\n2. 春节：1月29日至2月4日放假调休，共7天。\n3. 清明节：4月4日放假，共1天。\n4. 劳动节：5月1日放假，共1天。\n5. 端午节：6月25日放假，共1天。\n6. 中秋节：9月19日至9月21日放假调休，共3天。\n7. 国庆节：10月1日至7日放假调休，共7天。\n\n需要注意的是，具体的放假安排可能会根据政府部门的调整而变化，建议查看官方公告以获取准确信息。"
     },
     "metadata": {},
     "output_type": "display_data"
    },
    {
     "ename": "KeyError",
     "evalue": "'tools_info'",
     "output_type": "error",
     "traceback": [
      "\u001B[0;31m---------------------------------------------------------------------------\u001B[0m",
      "\u001B[0;31mKeyError\u001B[0m                                  Traceback (most recent call last)",
      "\u001B[0;32m/var/folders/8c/vcrpfgjx0bq3cdry4vw4tvqm0000gn/T/ipykernel_34671/535700280.py\u001B[0m in \u001B[0;36m<module>\u001B[0;34m\u001B[0m\n\u001B[1;32m     27\u001B[0m \u001B[0;34m\u001B[0m\u001B[0m\n\u001B[1;32m     28\u001B[0m \u001B[0mdisplay\u001B[0m\u001B[0;34m(\u001B[0m\u001B[0mMarkdown\u001B[0m\u001B[0;34m(\u001B[0m\u001B[0mresp\u001B[0m\u001B[0;34m[\u001B[0m\u001B[0;34m\"result\"\u001B[0m\u001B[0;34m]\u001B[0m\u001B[0;34m)\u001B[0m\u001B[0;34m)\u001B[0m\u001B[0;34m\u001B[0m\u001B[0;34m\u001B[0m\u001B[0m\n\u001B[0;32m---> 29\u001B[0;31m \u001B[0mprint\u001B[0m\u001B[0;34m(\u001B[0m\u001B[0;34m\"tools_info:\"\u001B[0m\u001B[0;34m,\u001B[0m \u001B[0mresp\u001B[0m\u001B[0;34m[\u001B[0m\u001B[0;34m\"tools_info\"\u001B[0m\u001B[0;34m]\u001B[0m\u001B[0;34m)\u001B[0m\u001B[0;34m\u001B[0m\u001B[0;34m\u001B[0m\u001B[0m\n\u001B[0m",
      "\u001B[0;32m~/opt/anaconda3/lib/python3.9/site-packages/qianfan/resources/typing.py\u001B[0m in \u001B[0;36m__getitem__\u001B[0;34m(self, item)\u001B[0m\n\u001B[1;32m    176\u001B[0m         \u001B[0;32mif\u001B[0m \u001B[0mitem\u001B[0m \u001B[0;32min\u001B[0m \u001B[0mself\u001B[0m\u001B[0;34m.\u001B[0m\u001B[0mbody\u001B[0m\u001B[0;34m:\u001B[0m\u001B[0;34m\u001B[0m\u001B[0;34m\u001B[0m\u001B[0m\n\u001B[1;32m    177\u001B[0m             \u001B[0;32mreturn\u001B[0m \u001B[0mself\u001B[0m\u001B[0;34m.\u001B[0m\u001B[0mbody\u001B[0m\u001B[0;34m[\u001B[0m\u001B[0mitem\u001B[0m\u001B[0;34m]\u001B[0m\u001B[0;34m\u001B[0m\u001B[0;34m\u001B[0m\u001B[0m\n\u001B[0;32m--> 178\u001B[0;31m         \u001B[0;32mraise\u001B[0m \u001B[0mKeyError\u001B[0m\u001B[0;34m(\u001B[0m\u001B[0mitem\u001B[0m\u001B[0;34m)\u001B[0m\u001B[0;34m\u001B[0m\u001B[0;34m\u001B[0m\u001B[0m\n\u001B[0m\u001B[1;32m    179\u001B[0m \u001B[0;34m\u001B[0m\u001B[0m\n\u001B[1;32m    180\u001B[0m     \u001B[0;32mdef\u001B[0m \u001B[0m__len__\u001B[0m\u001B[0;34m(\u001B[0m\u001B[0mself\u001B[0m\u001B[0;34m)\u001B[0m \u001B[0;34m->\u001B[0m \u001B[0mint\u001B[0m\u001B[0;34m:\u001B[0m\u001B[0;34m\u001B[0m\u001B[0;34m\u001B[0m\u001B[0m\n",
      "\u001B[0;31mKeyError\u001B[0m: 'tools_info'"
     ]
    }
   ],
   "source": [
    "#-# cell_skip\n",
    "from IPython.display import Markdown, display\n",
    "from qianfan import ChatCompletion\n",
    "\n",
    "chat_comp = ChatCompletion()\n",
    "tools = [\n",
    "    {\n",
    "        \"type\": \"tool\",\n",
    "        \"tool\": {\n",
    "            \"name\": \"baidu_search\",\n",
    "            \"baidu_search\": {\n",
    "                \"top_n\": 1\n",
    "            }\n",
    "        }\n",
    "    }\n",
    "]\n",
    "\n",
    "from qianfan import QfMessages\n",
    "msgs = QfMessages()\n",
    "msgs.append(\"2024法定假日列表？\", \"user\")\n",
    "\n",
    "resp = chat_comp.do(msgs, tools=tools, tool_choice={\n",
    "    \"type\": \"tool\",\n",
    "    \"tool\": {\n",
    "        \"name\": \"baidu_search\"\n",
    "    }\n",
    "})\n",
    "\n",
    "display(Markdown(resp[\"result\"]))\n",
    "print(\"tools_info:\", resp[\"tools_info\"])"
   ]
  },
  {
   "cell_type": "code",
   "outputs": [],
   "source": [],
   "metadata": {
    "collapsed": false
   }
  }
 ],
 "metadata": {
  "kernelspec": {
   "display_name": "base",
   "language": "python",
   "name": "python3"
  },
  "language_info": {
   "codemirror_mode": {
    "name": "ipython",
    "version": 3
   },
   "file_extension": ".py",
   "mimetype": "text/x-python",
   "name": "python",
   "nbconvert_exporter": "python",
   "pygments_lexer": "ipython3",
   "version": "3.11.5"
  },
  "orig_nbformat": 4,
  "vscode": {
   "interpreter": {
    "hash": "58f7cb64c3a06383b7f18d2a11305edccbad427293a2b4afa7abe8bfc810d4bb"
   }
  }
 },
 "nbformat": 4,
 "nbformat_minor": 2
}
