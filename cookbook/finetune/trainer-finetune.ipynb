{
 "cells": [
  {
   "attachments": {},
   "cell_type": "markdown",
   "metadata": {},
   "source": [
    "# Trainer\n",
    "千帆Python SDK 在使用[resource API实现发起训练微调](./console-finetune.ipynb)之外，还提供了Trainer API，可以更方便地实现一体化的训练微调pipeline。同时提供了状态事件回调函数的注册，通过事件分发实现训练流程状态事件的监控。\n",
    "\n",
    "\n",
    "本例将基于qianfan==0.2.1展示通过Dataset加载本地数据集，并上传到千帆平台，基于ERNIE-Bot-turbo进行fine-tune，直到最终完成服务发布，并最终实现服务调用的完整过程。"
   ]
  },
  {
   "attachments": {},
   "cell_type": "markdown",
   "metadata": {},
   "source": [
    "## 前置准备\n",
    "- 初始化千帆安全认证AK、SK"
   ]
  },
  {
   "cell_type": "code",
   "execution_count": 1,
   "metadata": {},
   "outputs": [],
   "source": [
    "import os \n",
    "\n",
    "os.environ[\"QIANFAN_ACCESS_KEY\"] = \"your_ak\"\n",
    "os.environ[\"QIANFAN_SECRET_KEY\"] = \"your_sk\""
   ]
  },
  {
   "cell_type": "markdown",
   "metadata": {},
   "source": [
    "## 数据集加载\n",
    "\n",
    "千帆SDK提供了数据集实现帮助我们可以快速的加载本地的数据集到内存，并通过设定DataSource数据源以保存至本地和千帆平台。"
   ]
  },
  {
   "cell_type": "code",
   "execution_count": 3,
   "metadata": {},
   "outputs": [
    {
     "data": {
      "text/plain": [
       "[[{'prompt': '下文中市场价格下降导致市场价格下降事件对应的结果涉及的产品是？在国际奶粉价格下降压力下,国内奶价仍有下降空间',\n",
       "   'response': [['奶']]}],\n",
       " [{'prompt': '下文中市场价格下降导致市场价格下降事件对应的结果涉及的地区是？在国际奶粉价格下降压力下,国内奶价仍有下降空间',\n",
       "   'response': [['国内']]}],\n",
       " [{'prompt': '下文中有哪些因果事件？随着供应缩减，需求回升，高碳铬铁价格企稳回升，预期短期内或仍维持偏强态势，但高碳铬铁产能依然偏向过剩，后期价格弹升空间有限',\n",
       "   'response': [['需求增加导致市场价格提升']]}],\n",
       " [{'prompt': '下文中需求增加导致市场价格提升事件对应的原因涉及的产品是？随着供应缩减，需求回升，高碳铬铁价格企稳回升，预期短期内或仍维持偏强态势，但高碳铬铁产能依然偏向过剩，后期价格弹升空间有限',\n",
       "   'response': [['高碳铬铁']]}],\n",
       " [{'prompt': '下文中需求增加导致市场价格提升事件对应的原因涉及的行业是？随着供应缩减，需求回升，高碳铬铁价格企稳回升，预期短期内或仍维持偏强态势，但高碳铬铁产能依然偏向过剩，后期价格弹升空间有限',\n",
       "   'response': [['我们无法得知，可能需要更多内容说明。']]}],\n",
       " [{'prompt': '下文中需求增加导致市场价格提升事件对应的结果涉及的产品是？随着供应缩减，需求回升，高碳铬铁价格企稳回升，预期短期内或仍维持偏强态势，但高碳铬铁产能依然偏向过剩，后期价格弹升空间有限',\n",
       "   'response': [['高碳铬铁']]}],\n",
       " [{'prompt': '下文中有哪些因果事件？但由于7-ACA市场价格大幅下跌，跌幅超过50%，导致公司相关原料药销售价格随之下跌',\n",
       "   'response': [['市场价格下降导致市场价格下降']]}],\n",
       " [{'prompt': '下文中市场价格下降导致市场价格下降事件对应的原因涉及的产品是？但由于7-ACA市场价格大幅下跌，跌幅超过50%，导致公司相关原料药销售价格随之下跌',\n",
       "   'response': [['7-ACA']]}],\n",
       " [{'prompt': '下文中市场价格下降导致市场价格下降事件对应的结果涉及的产品是？但由于7-ACA市场价格大幅下跌，跌幅超过50%，导致公司相关原料药销售价格随之下跌',\n",
       "   'response': [['原料药']]}],\n",
       " [{'prompt': '下文中市场价格下降导致市场价格下降事件对应的结果涉及的行业是？但由于7-ACA市场价格大幅下跌，跌幅超过50%，导致公司相关原料药销售价格随之下跌',\n",
       "   'response': [['暂不清楚，需要更多信息说明。']]}],\n",
       " [{'prompt': '下文中有哪些因果事件？寒潮导致农产品价格继续攀升', 'response': [['寒潮导致市场价格提升']]}],\n",
       " [{'prompt': '下文中寒潮导致市场价格提升事件对应的结果涉及的产品是？寒潮导致农产品价格继续攀升',\n",
       "   'response': [['农产品']]}],\n",
       " [{'prompt': '下文中有哪些因果事件？而发改委分别在5月10日和6月9日对国内汽柴油价格进行了下调，汽油和柴油零售价格分别累计下调了860和820元/吨，导致石化双雄（尤其是中石化）不仅炼油损逐月扩大、成品油销售受阻并且出现库存跌价',\n",
       "   'response': [['市场价格下降导致销量（消费）减少']]}],\n",
       " [{'prompt': '下文中市场价格下降导致销量（消费）减少事件对应的原因涉及的产品是？而发改委分别在5月10日和6月9日对国内汽柴油价格进行了下调，汽油和柴油零售价格分别累计下调了860和820元/吨，导致石化双雄（尤其是中石化）不仅炼油损逐月扩大、成品油销售受阻并且出现库存跌价',\n",
       "   'response': [['汽油,柴油']]}],\n",
       " [{'prompt': '下文中市场价格下降导致销量（消费）减少事件对应的结果涉及的产品是？而发改委分别在5月10日和6月9日对国内汽柴油价格进行了下调，汽油和柴油零售价格分别累计下调了860和820元/吨，导致石化双雄（尤其是中石化）不仅炼油损逐月扩大、成品油销售受阻并且出现库存跌价',\n",
       "   'response': [['成品油']]}],\n",
       " [{'prompt': '下文中市场价格下降导致销量（消费）减少事件对应的结果涉及的地区是？而发改委分别在5月10日和6月9日对国内汽柴油价格进行了下调，汽油和柴油零售价格分别累计下调了860和820元/吨，导致石化双雄（尤其是中石化）不仅炼油损逐月扩大、成品油销售受阻并且出现库存跌价',\n",
       "   'response': [['从以上文本中我们暂无发现。']]}],\n",
       " [{'prompt': '下文中有哪些因果事件？利润和每股收益大幅下降的主要原因是煤炭价格大幅上涨，导致公司投资的火电企业的煤炭成本大幅增加###但报告期内受煤炭行业去产能改革的影响，公司煤炭前三季度平均采购价格同比上涨44.53%，导致成本涨幅抵消了销售价格的涨幅',\n",
       "   'response': [['市场价格提升导致运营成本提升']]}],\n",
       " [{'prompt': '下文中市场价格提升导致运营成本提升事件对应的原因涉及的产品是？利润和每股收益大幅下降的主要原因是煤炭价格大幅上涨，导致公司投资的火电企业的煤炭成本大幅增加###但报告期内受煤炭行业去产能改革的影响，公司煤炭前三季度平均采购价格同比上涨44.53%，导致成本涨幅抵消了销售价格的涨幅',\n",
       "   'response': [['煤炭']]}],\n",
       " [{'prompt': '下文中市场价格提升导致运营成本提升事件对应的原因涉及的行业是？利润和每股收益大幅下降的主要原因是煤炭价格大幅上涨，导致公司投资的火电企业的煤炭成本大幅增加###但报告期内受煤炭行业去产能改革的影响，公司煤炭前三季度平均采购价格同比上涨44.53%，导致成本涨幅抵消了销售价格的涨幅',\n",
       "   'response': [['以上内容暂无说明。']]}],\n",
       " [{'prompt': '下文中市场价格提升导致运营成本提升事件对应的结果涉及的产品是？利润和每股收益大幅下降的主要原因是煤炭价格大幅上涨，导致公司投资的火电企业的煤炭成本大幅增加###但报告期内受煤炭行业去产能改革的影响，公司煤炭前三季度平均采购价格同比上涨44.53%，导致成本涨幅抵消了销售价格的涨幅',\n",
       "   'response': [['煤炭']]}],\n",
       " [{'prompt': '下文中有哪些因果事件？风险因素:国内外因天气等自然灾害导致用肥量锐减',\n",
       "   'response': [['其他自然灾害导致需求减少']]}],\n",
       " [{'prompt': '下文中其他自然灾害导致需求减少事件对应的原因涉及的产品是？风险因素:国内外因天气等自然灾害导致用肥量锐减',\n",
       "   'response': [['以上内容暂无说明。']]}],\n",
       " [{'prompt': '下文中其他自然灾害导致需求减少事件对应的原因涉及的地区是？风险因素:国内外因天气等自然灾害导致用肥量锐减',\n",
       "   'response': [['国内外']]}],\n",
       " [{'prompt': '下文中其他自然灾害导致需求减少事件对应的结果涉及的产品是？风险因素:国内外因天气等自然灾害导致用肥量锐减',\n",
       "   'response': [['肥']]}],\n",
       " [{'prompt': '下文中有哪些因果事件？东南亚棕榈油减产,原油价格大幅上涨###东南亚棕榈油减产,原油价格大幅上涨###东南亚棕榈油减产，原油价格大幅上涨###东南亚棕榈油减产，原油价格大幅上涨###东南亚棕榈油减产,原油价格大幅上涨###东南亚棕榈油减产，原油价格大幅上涨###东南亚棕榈油减产,原油价格大幅上涨###东南亚棕榈油减产,原油价格大幅上涨###东南亚棕榈油减产,原油价格大幅上涨',\n",
       "   'response': [['供给减少导致市场价格提升']]}],\n",
       " [{'prompt': '下文中供给减少导致市场价格提升事件对应的原因涉及的产品是？东南亚棕榈油减产,原油价格大幅上涨###东南亚棕榈油减产,原油价格大幅上涨###东南亚棕榈油减产，原油价格大幅上涨###东南亚棕榈油减产，原油价格大幅上涨###东南亚棕榈油减产,原油价格大幅上涨###东南亚棕榈油减产，原油价格大幅上涨###东南亚棕榈油减产,原油价格大幅上涨###东南亚棕榈油减产,原油价格大幅上涨###东南亚棕榈油减产,原油价格大幅上涨',\n",
       "   'response': [['棕榈油']]}],\n",
       " [{'prompt': '下文中供给减少导致市场价格提升事件对应的原因涉及的地区是？东南亚棕榈油减产,原油价格大幅上涨###东南亚棕榈油减产,原油价格大幅上涨###东南亚棕榈油减产，原油价格大幅上涨###东南亚棕榈油减产，原油价格大幅上涨###东南亚棕榈油减产,原油价格大幅上涨###东南亚棕榈油减产，原油价格大幅上涨###东南亚棕榈油减产,原油价格大幅上涨###东南亚棕榈油减产,原油价格大幅上涨###东南亚棕榈油减产,原油价格大幅上涨',\n",
       "   'response': [['东南亚']]}],\n",
       " [{'prompt': '下文中供给减少导致市场价格提升事件对应的结果涉及的产品是？东南亚棕榈油减产,原油价格大幅上涨###东南亚棕榈油减产,原油价格大幅上涨###东南亚棕榈油减产，原油价格大幅上涨###东南亚棕榈油减产，原油价格大幅上涨###东南亚棕榈油减产,原油价格大幅上涨###东南亚棕榈油减产，原油价格大幅上涨###东南亚棕榈油减产,原油价格大幅上涨###东南亚棕榈油减产,原油价格大幅上涨###东南亚棕榈油减产,原油价格大幅上涨',\n",
       "   'response': [['原油']]}],\n",
       " [{'prompt': '下文中有哪些因果事件？南美大豆供求宽松对豆类油脂价格利空', 'response': [['供给增加导致负向影响']]}],\n",
       " [{'prompt': '下文中供给增加导致负向影响事件对应的原因涉及的产品是？南美大豆供求宽松对豆类油脂价格利空',\n",
       "   'response': [['大豆']]}],\n",
       " [{'prompt': '下文中供给增加导致负向影响事件对应的原因涉及的地区是？南美大豆供求宽松对豆类油脂价格利空',\n",
       "   'response': [['南美']]}],\n",
       " [{'prompt': '下文中供给增加导致负向影响事件对应的结果涉及的产品是？南美大豆供求宽松对豆类油脂价格利空',\n",
       "   'response': [['豆类油脂']]}]]"
      ]
     },
     "execution_count": 3,
     "metadata": {},
     "output_type": "execute_result"
    }
   ],
   "source": [
    "from qianfan.dataset import Dataset\n",
    "\n",
    "# 加载本地数据集\n",
    "ds: Dataset = Dataset.load(data_file=\"./data/fin_cqa_train.jsonl\")\n",
    "ds.list()"
   ]
  },
  {
   "attachments": {},
   "cell_type": "markdown",
   "metadata": {},
   "source": [
    "从本地数据集上传到BOS"
   ]
  },
  {
   "cell_type": "code",
   "execution_count": 4,
   "metadata": {},
   "outputs": [
    {
     "data": {
      "text/plain": [
       "True"
      ]
     },
     "execution_count": 4,
     "metadata": {},
     "output_type": "execute_result"
    }
   ],
   "source": [
    "# 保存到千帆平台\n",
    "from qianfan.dataset import QianfanDataSource\n",
    "from qianfan.resources.console import consts as console_consts\n",
    "\n",
    "bos_bucket_name = \"bos_bucket\"\n",
    "bos_bucket_file_path = \"/sdk_ds/\"\n",
    "\n",
    "\n",
    "# 创建千帆数据集，并上传保存\n",
    "qianfan_data_source = QianfanDataSource.create_bare_dataset(\n",
    "    name=\"sdk_trainer_ds\",\n",
    "    template_type=console_consts.DataTemplateType.NonSortedConversation,\n",
    "    storage_type=console_consts.DataStorageType.PrivateBos,\n",
    "    storage_id=bos_bucket_name,\n",
    "    storage_path=bos_bucket_file_path,\n",
    ")\n",
    "\n",
    "ds.save(qianfan_data_source, replace_source=True)"
   ]
  },
  {
   "cell_type": "code",
   "execution_count": 2,
   "metadata": {},
   "outputs": [],
   "source": [
    "from qianfan.trainer.consts import ActionState, ServiceType\n",
    "from qianfan.resources.console import consts as console_consts\n",
    "from qianfan.trainer.configs import TrainConfig, DeployConfig\n",
    "from qianfan.resources import QfMessages\n",
    "from qianfan.trainer import LLMFinetune\n",
    "from typing import cast\n",
    "from qianfan.utils import enable_log\n",
    "import logging\n",
    "\n",
    "enable_log(logging.DEBUG)"
   ]
  },
  {
   "attachments": {},
   "cell_type": "markdown",
   "metadata": {},
   "source": [
    "### LLMFinetune 训练\n",
    "`LLMFinetune` 实现了SFT逻辑的trainer，它内部组装了SFT所需要的基本`Pipeline`, 用于串联数据->训练->模型发布->服务调用等步骤"
   ]
  },
  {
   "cell_type": "code",
   "execution_count": 23,
   "metadata": {},
   "outputs": [],
   "source": [
    "\n",
    "trainer = LLMFinetune(\n",
    "    train_type=\"ERNIE-Bot-turbo-0725\",\n",
    "    train_config=TrainConfig(\n",
    "        epoch=1,\n",
    "        learning_rate=0.0003,\n",
    "        max_seq_len=4096,\n",
    "        peft_type=\"LoRA\",\n",
    "    ),\n",
    "    dataset=ds,\n",
    ")"
   ]
  },
  {
   "attachments": {},
   "cell_type": "markdown",
   "metadata": {},
   "source": [
    "### 运行任务\n",
    "同步运行trainer，训练直到模型发布完成"
   ]
  },
  {
   "cell_type": "code",
   "execution_count": 24,
   "metadata": {},
   "outputs": [
    {
     "name": "stderr",
     "output_type": "stream",
     "text": [
      "[DEBUG] [12-05 13:32:21] base.py:208 [t:140605024622400]: action[BKBq28it8V] Preceding\n",
      "[DEBUG] [12-05 13:32:21] base.py:208 [t:140605024622400]: action[7GfdGSwmxr] Preceding\n",
      "[DEBUG] [12-05 13:32:21] actions.py:72 [t:140605024622400]: [load_dataset_action] prepare train-set\n"
     ]
    },
    {
     "name": "stdout",
     "output_type": "stream",
     "text": [
      "==>\n"
     ]
    },
    {
     "name": "stderr",
     "output_type": "stream",
     "text": [
      "[DEBUG] [12-05 13:32:21] actions.py:78 [t:140605024622400]: [load_dataset_action] dataset loaded successfully\n",
      "[DEBUG] [12-05 13:32:21] base.py:212 [t:140605024622400]: action[7GfdGSwmxr] Done\n",
      "[DEBUG] [12-05 13:32:21] base.py:208 [t:140605024622400]: action[cMLoerE1ib] Preceding\n",
      "[DEBUG] [12-05 13:32:22] actions.py:239 [t:140605024622400]: [train_action] create fine-tune task: 17170\n",
      "[DEBUG] [12-05 13:32:24] actions.py:263 [t:140605024622400]: [train_action] create fine-tune job_id: 8805\n",
      "[DEBUG] [12-05 14:08:14] actions.py:275 [t:140605024622400]: [train_action] fine-tune job has ended: 8805 with status: FINISH\n",
      "[DEBUG] [12-05 14:08:14] base.py:212 [t:140605024622400]: action[cMLoerE1ib] Done\n",
      "[DEBUG] [12-05 14:08:14] base.py:208 [t:140605024622400]: action[5m0cdOcBtV] Preceding\n",
      "[DEBUG] [12-05 14:08:16] actions.py:325 [t:140605024622400]: [model_publish_action] model: 17170_8805 has been published.\n",
      "[DEBUG] [12-05 14:08:16] base.py:212 [t:140605024622400]: action[5m0cdOcBtV] Done\n",
      "[DEBUG] [12-05 14:08:16] base.py:212 [t:140605024622400]: action[BKBq28it8V] Done\n"
     ]
    },
    {
     "data": {
      "text/plain": [
       "<qianfan.trainer.finetune.LLMFinetune at 0x7fe0bf3d2490>"
      ]
     },
     "execution_count": 24,
     "metadata": {},
     "output_type": "execute_result"
    }
   ],
   "source": [
    "trainer.run()"
   ]
  },
  {
   "cell_type": "code",
   "execution_count": 35,
   "metadata": {},
   "outputs": [
    {
     "data": {
      "text/plain": [
       "[{'task_id': 17170,\n",
       "  'job_id': 8805,\n",
       "  'model_id': 9954,\n",
       "  'model_version_id': 12344,\n",
       "  'model': <qianfan.trainer.model.Model at 0x7fe0c507f9d0>}]"
      ]
     },
     "execution_count": 35,
     "metadata": {},
     "output_type": "execute_result"
    }
   ],
   "source": [
    "trainer.result"
   ]
  },
  {
   "cell_type": "code",
   "execution_count": null,
   "metadata": {},
   "outputs": [],
   "source": [
    "from qianfan.trainer.model import Model, Service, model_deploy\n",
    "from qianfan.trainer.consts import ServiceType\n",
    "\n",
    "m = trainer.result[0][\"model\"]\n",
    "sft_svc: Service = m.deploy(DeployConfig(\n",
    "    name=\"sdkcqa1\",\n",
    "    endpoint_prefix=\"sdkcqa1\",\n",
    "    replicas=1,\n",
    "    pool_type=2,\n",
    "    service_type=ServiceType.Chat,\n",
    "))\n"
   ]
  },
  {
   "cell_type": "code",
   "execution_count": null,
   "metadata": {},
   "outputs": [
    {
     "name": "stderr",
     "output_type": "stream",
     "text": [
      "[WARNING] [12-01 18:25:19] model.py:355 [t:8446122816]: service status unknown, service could be unavailable.\n"
     ]
    },
    {
     "name": "stdout",
     "output_type": "stream",
     "text": [
      "sft 供给增加导致市场价格下降"
     ]
    }
   ],
   "source": [
    "from qianfan import ChatCompletion\n",
    "### 使用Model & Service调用模型\n",
    "\n",
    "problem=\"下文中有哪些因果事件？无取向硅钢广泛应用于铁芯等电机零部件其产量的持续提升导致市场竞争愈发激烈，价格进一步降低，从而有效减少新能源汽车驱动电机行业内企业的成本支出\"\n",
    "\n",
    "chat_comp: ChatCompletion = sft_svc.get_res()\n",
    "print(\"sft\", chat_comp.do({\"messages\": [{\"content\": problem, \"role\": \"user\"}]})[\"result\"])"
   ]
  },
  {
   "cell_type": "code",
   "execution_count": null,
   "metadata": {},
   "outputs": [
    {
     "name": "stderr",
     "output_type": "stream",
     "text": [
      "[WARNING] [12-01 18:25:21] model.py:355 [t:8446122816]: service status unknown, service could be unavailable.\n"
     ]
    },
    {
     "name": "stdout",
     "output_type": "stream",
     "text": [
      "origin: 因果事件：\n",
      "\n",
      "事件类型：应用\n",
      "- 事件触发词：应用于\n",
      "- 事件论元：\n",
      "  \t- 主体：无取向硅钢\n",
      "  \t- 客体：铁芯等电机零部件\n",
      "\n",
      "事件类型：产量提升\n",
      "- 事件触发词：持续提升\n",
      "\n",
      "事件类型：竞争加剧\n",
      "- 事件触发词：竞争愈发激烈\n",
      "- 原因：无取向硅钢产量持续提升\n",
      "\n",
      "事件类型：价格降低\n",
      "- 事件触发词：降低\n",
      "- 原因：市场竞争愈发激烈\n",
      "\n",
      "事件类型：成本减少\n",
      "- 事件触发词：减少\n",
      "- 主体：新能源汽车驱动电机行业内企业\n",
      "- 原因：价格进一步降低\n"
     ]
    }
   ],
   "source": [
    "svc = ChatCompletion(model=\"ERNIE-Bot-turbo\", service_type=ServiceType.Chat)\n",
    "print(\"origin:\", svc.exec({\"messages\": [{\"content\": problem, \"role\": \"user\"}]})[\"result\"])"
   ]
  },
  {
   "attachments": {},
   "cell_type": "markdown",
   "metadata": {},
   "source": [
    "## EventHandler\n",
    "\n",
    "如果需要在训练过程中监控每个阶段的各个节点的状态，可以通过事件回调函数来实现，通过事件的对应的action_state可以获取当前的action的运行情况以实现对应的业务回调，插入自定义逻辑"
   ]
  },
  {
   "cell_type": "code",
   "execution_count": null,
   "metadata": {},
   "outputs": [],
   "source": [
    "from qianfan.trainer.event import Event, EventHandler\n",
    "\n",
    "testset: Dataset = Dataset.load(data_file=\"./data/fin_cqa_test.jsonl\")\n",
    "# 定义自己的EventHandler，并实现dispatch方法\n",
    "class InferAfterSFT(EventHandler):\n",
    "    target_action: str\n",
    "    def __init__(self, target_action: str) -> None:\n",
    "        super().__init__()\n",
    "        self.target_action = target_action\n",
    "\n",
    "    def dispatch(self, event: Event) -> None:\n",
    "        print(\"receive: <\", event)\n",
    "        if self.target_action == event.action_id and event.action_state == ActionState.Done:\n",
    "            svc = cast(Service, event.data[\"service\"])\n",
    "            print(\"svc\", svc)\n",
    "            for row in testset.list():\n",
    "                msgs = QfMessages()\n",
    "                msgs.append(row[0][0][\"prompt\"], \"user\")\n",
    "                svc.exec({\"messages\":\"msgs\"})\n",
    "                print(\"row infer result\", row)\n",
    "            \n",
    "\n",
    "eh = InferAfterSFT(target_action=trainer.ppls[0].id)\n",
    "trainer.register_event_handler(eh)\n",
    "trainer.run()"
   ]
  }
 ],
 "metadata": {
  "kernelspec": {
   "display_name": "base",
   "language": "python",
   "name": "python3"
  },
  "language_info": {
   "codemirror_mode": {
    "name": "ipython",
    "version": 3
   },
   "file_extension": ".py",
   "mimetype": "text/x-python",
   "name": "python",
   "nbconvert_exporter": "python",
   "pygments_lexer": "ipython3",
   "version": "3.11.4"
  },
  "orig_nbformat": 4,
  "vscode": {
   "interpreter": {
    "hash": "6fa70026b407ae751a5c9e6bd7f7d482379da8ad616f98512780b705c84ee157"
   }
  }
 },
 "nbformat": 4,
 "nbformat_minor": 2
}
