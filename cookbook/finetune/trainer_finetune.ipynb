{
 "cells": [
  {
   "attachments": {},
   "cell_type": "markdown",
   "metadata": {},
   "source": [
    "# Trainer\n",
    "千帆Python SDK 在使用[resource API实现发起训练微调](./console-finetune.ipynb)之外，还提供了Trainer API，可以更方便地实现一体化的训练微调pipeline。同时提供了状态事件回调函数的注册，通过事件分发实现训练流程状态事件的监控。\n",
    "\n",
    "\n",
    "本例将基于qianfan==0.2.2展示通过Dataset加载本地数据集，并上传到千帆平台，基于ERNIE-Bot-turbo进行fine-tune，并使用Model进行批量跑评估数据，直到最终完成服务发布，并最终实现服务调用的完整过程。"
   ]
  },
  {
   "cell_type": "code",
   "execution_count": null,
   "metadata": {},
   "outputs": [],
   "source": [
    "! pip install \"qianfan>=0.2.2\" -U"
   ]
  },
  {
   "cell_type": "code",
   "execution_count": 1,
   "metadata": {},
   "outputs": [
    {
     "data": {
      "text/plain": [
       "'0.2.2'"
      ]
     },
     "execution_count": 1,
     "metadata": {},
     "output_type": "execute_result"
    }
   ],
   "source": [
    "import qianfan\n",
    "qianfan.__version__"
   ]
  },
  {
   "attachments": {},
   "cell_type": "markdown",
   "metadata": {},
   "source": [
    "## 前置准备\n",
    "- 初始化千帆安全认证AK、SK"
   ]
  },
  {
   "cell_type": "code",
   "execution_count": 2,
   "metadata": {},
   "outputs": [],
   "source": [
    "import os \n",
    "\n",
    "os.environ[\"QIANFAN_ACCESS_KEY\"] = \"your_ak\"\n",
    "os.environ[\"QIANFAN_SECRET_KEY\"] = \"your_sk\""
   ]
  },
  {
   "cell_type": "markdown",
   "metadata": {},
   "source": [
    "## 数据集加载\n",
    "\n",
    "千帆SDK提供了数据集实现帮助我们可以快速的加载本地的数据集到内存，并通过设定DataSource数据源以保存至本地和千帆平台。"
   ]
  },
  {
   "cell_type": "code",
   "execution_count": 3,
   "metadata": {},
   "outputs": [
    {
     "data": {
      "text/plain": [
       "[[{'prompt': '下文中市场价格下降导致市场价格下降事件对应的结果涉及的产品是？在国际奶粉价格下降压力下,国内奶价仍有下降空间',\n",
       "   'response': [['奶']]}],\n",
       " [{'prompt': '下文中市场价格下降导致市场价格下降事件对应的结果涉及的地区是？在国际奶粉价格下降压力下,国内奶价仍有下降空间',\n",
       "   'response': [['国内']]}],\n",
       " [{'prompt': '下文中有哪些因果事件？随着供应缩减，需求回升，高碳铬铁价格企稳回升，预期短期内或仍维持偏强态势，但高碳铬铁产能依然偏向过剩，后期价格弹升空间有限',\n",
       "   'response': [['需求增加导致市场价格提升']]}],\n",
       " [{'prompt': '下文中需求增加导致市场价格提升事件对应的原因涉及的产品是？随着供应缩减，需求回升，高碳铬铁价格企稳回升，预期短期内或仍维持偏强态势，但高碳铬铁产能依然偏向过剩，后期价格弹升空间有限',\n",
       "   'response': [['高碳铬铁']]}],\n",
       " [{'prompt': '下文中需求增加导致市场价格提升事件对应的原因涉及的行业是？随着供应缩减，需求回升，高碳铬铁价格企稳回升，预期短期内或仍维持偏强态势，但高碳铬铁产能依然偏向过剩，后期价格弹升空间有限',\n",
       "   'response': [['我们无法得知，可能需要更多内容说明。']]}],\n",
       " [{'prompt': '下文中需求增加导致市场价格提升事件对应的结果涉及的产品是？随着供应缩减，需求回升，高碳铬铁价格企稳回升，预期短期内或仍维持偏强态势，但高碳铬铁产能依然偏向过剩，后期价格弹升空间有限',\n",
       "   'response': [['高碳铬铁']]}],\n",
       " [{'prompt': '下文中有哪些因果事件？但由于7-ACA市场价格大幅下跌，跌幅超过50%，导致公司相关原料药销售价格随之下跌',\n",
       "   'response': [['市场价格下降导致市场价格下降']]}],\n",
       " [{'prompt': '下文中市场价格下降导致市场价格下降事件对应的原因涉及的产品是？但由于7-ACA市场价格大幅下跌，跌幅超过50%，导致公司相关原料药销售价格随之下跌',\n",
       "   'response': [['7-ACA']]}],\n",
       " [{'prompt': '下文中市场价格下降导致市场价格下降事件对应的结果涉及的产品是？但由于7-ACA市场价格大幅下跌，跌幅超过50%，导致公司相关原料药销售价格随之下跌',\n",
       "   'response': [['原料药']]}],\n",
       " [{'prompt': '下文中市场价格下降导致市场价格下降事件对应的结果涉及的行业是？但由于7-ACA市场价格大幅下跌，跌幅超过50%，导致公司相关原料药销售价格随之下跌',\n",
       "   'response': [['暂不清楚，需要更多信息说明。']]}],\n",
       " [{'prompt': '下文中有哪些因果事件？寒潮导致农产品价格继续攀升', 'response': [['寒潮导致市场价格提升']]}],\n",
       " [{'prompt': '下文中寒潮导致市场价格提升事件对应的结果涉及的产品是？寒潮导致农产品价格继续攀升',\n",
       "   'response': [['农产品']]}],\n",
       " [{'prompt': '下文中有哪些因果事件？而发改委分别在5月10日和6月9日对国内汽柴油价格进行了下调，汽油和柴油零售价格分别累计下调了860和820元/吨，导致石化双雄（尤其是中石化）不仅炼油损逐月扩大、成品油销售受阻并且出现库存跌价',\n",
       "   'response': [['市场价格下降导致销量（消费）减少']]}],\n",
       " [{'prompt': '下文中市场价格下降导致销量（消费）减少事件对应的原因涉及的产品是？而发改委分别在5月10日和6月9日对国内汽柴油价格进行了下调，汽油和柴油零售价格分别累计下调了860和820元/吨，导致石化双雄（尤其是中石化）不仅炼油损逐月扩大、成品油销售受阻并且出现库存跌价',\n",
       "   'response': [['汽油,柴油']]}],\n",
       " [{'prompt': '下文中市场价格下降导致销量（消费）减少事件对应的结果涉及的产品是？而发改委分别在5月10日和6月9日对国内汽柴油价格进行了下调，汽油和柴油零售价格分别累计下调了860和820元/吨，导致石化双雄（尤其是中石化）不仅炼油损逐月扩大、成品油销售受阻并且出现库存跌价',\n",
       "   'response': [['成品油']]}],\n",
       " [{'prompt': '下文中市场价格下降导致销量（消费）减少事件对应的结果涉及的地区是？而发改委分别在5月10日和6月9日对国内汽柴油价格进行了下调，汽油和柴油零售价格分别累计下调了860和820元/吨，导致石化双雄（尤其是中石化）不仅炼油损逐月扩大、成品油销售受阻并且出现库存跌价',\n",
       "   'response': [['从以上文本中我们暂无发现。']]}],\n",
       " [{'prompt': '下文中有哪些因果事件？利润和每股收益大幅下降的主要原因是煤炭价格大幅上涨，导致公司投资的火电企业的煤炭成本大幅增加###但报告期内受煤炭行业去产能改革的影响，公司煤炭前三季度平均采购价格同比上涨44.53%，导致成本涨幅抵消了销售价格的涨幅',\n",
       "   'response': [['市场价格提升导致运营成本提升']]}],\n",
       " [{'prompt': '下文中市场价格提升导致运营成本提升事件对应的原因涉及的产品是？利润和每股收益大幅下降的主要原因是煤炭价格大幅上涨，导致公司投资的火电企业的煤炭成本大幅增加###但报告期内受煤炭行业去产能改革的影响，公司煤炭前三季度平均采购价格同比上涨44.53%，导致成本涨幅抵消了销售价格的涨幅',\n",
       "   'response': [['煤炭']]}],\n",
       " [{'prompt': '下文中市场价格提升导致运营成本提升事件对应的原因涉及的行业是？利润和每股收益大幅下降的主要原因是煤炭价格大幅上涨，导致公司投资的火电企业的煤炭成本大幅增加###但报告期内受煤炭行业去产能改革的影响，公司煤炭前三季度平均采购价格同比上涨44.53%，导致成本涨幅抵消了销售价格的涨幅',\n",
       "   'response': [['以上内容暂无说明。']]}],\n",
       " [{'prompt': '下文中市场价格提升导致运营成本提升事件对应的结果涉及的产品是？利润和每股收益大幅下降的主要原因是煤炭价格大幅上涨，导致公司投资的火电企业的煤炭成本大幅增加###但报告期内受煤炭行业去产能改革的影响，公司煤炭前三季度平均采购价格同比上涨44.53%，导致成本涨幅抵消了销售价格的涨幅',\n",
       "   'response': [['煤炭']]}],\n",
       " [{'prompt': '下文中有哪些因果事件？风险因素:国内外因天气等自然灾害导致用肥量锐减',\n",
       "   'response': [['其他自然灾害导致需求减少']]}],\n",
       " [{'prompt': '下文中其他自然灾害导致需求减少事件对应的原因涉及的产品是？风险因素:国内外因天气等自然灾害导致用肥量锐减',\n",
       "   'response': [['以上内容暂无说明。']]}],\n",
       " [{'prompt': '下文中其他自然灾害导致需求减少事件对应的原因涉及的地区是？风险因素:国内外因天气等自然灾害导致用肥量锐减',\n",
       "   'response': [['国内外']]}],\n",
       " [{'prompt': '下文中其他自然灾害导致需求减少事件对应的结果涉及的产品是？风险因素:国内外因天气等自然灾害导致用肥量锐减',\n",
       "   'response': [['肥']]}],\n",
       " [{'prompt': '下文中有哪些因果事件？东南亚棕榈油减产,原油价格大幅上涨###东南亚棕榈油减产,原油价格大幅上涨###东南亚棕榈油减产，原油价格大幅上涨###东南亚棕榈油减产，原油价格大幅上涨###东南亚棕榈油减产,原油价格大幅上涨###东南亚棕榈油减产，原油价格大幅上涨###东南亚棕榈油减产,原油价格大幅上涨###东南亚棕榈油减产,原油价格大幅上涨###东南亚棕榈油减产,原油价格大幅上涨',\n",
       "   'response': [['供给减少导致市场价格提升']]}],\n",
       " [{'prompt': '下文中供给减少导致市场价格提升事件对应的原因涉及的产品是？东南亚棕榈油减产,原油价格大幅上涨###东南亚棕榈油减产,原油价格大幅上涨###东南亚棕榈油减产，原油价格大幅上涨###东南亚棕榈油减产，原油价格大幅上涨###东南亚棕榈油减产,原油价格大幅上涨###东南亚棕榈油减产，原油价格大幅上涨###东南亚棕榈油减产,原油价格大幅上涨###东南亚棕榈油减产,原油价格大幅上涨###东南亚棕榈油减产,原油价格大幅上涨',\n",
       "   'response': [['棕榈油']]}],\n",
       " [{'prompt': '下文中供给减少导致市场价格提升事件对应的原因涉及的地区是？东南亚棕榈油减产,原油价格大幅上涨###东南亚棕榈油减产,原油价格大幅上涨###东南亚棕榈油减产，原油价格大幅上涨###东南亚棕榈油减产，原油价格大幅上涨###东南亚棕榈油减产,原油价格大幅上涨###东南亚棕榈油减产，原油价格大幅上涨###东南亚棕榈油减产,原油价格大幅上涨###东南亚棕榈油减产,原油价格大幅上涨###东南亚棕榈油减产,原油价格大幅上涨',\n",
       "   'response': [['东南亚']]}],\n",
       " [{'prompt': '下文中供给减少导致市场价格提升事件对应的结果涉及的产品是？东南亚棕榈油减产,原油价格大幅上涨###东南亚棕榈油减产,原油价格大幅上涨###东南亚棕榈油减产，原油价格大幅上涨###东南亚棕榈油减产，原油价格大幅上涨###东南亚棕榈油减产,原油价格大幅上涨###东南亚棕榈油减产，原油价格大幅上涨###东南亚棕榈油减产,原油价格大幅上涨###东南亚棕榈油减产,原油价格大幅上涨###东南亚棕榈油减产,原油价格大幅上涨',\n",
       "   'response': [['原油']]}],\n",
       " [{'prompt': '下文中有哪些因果事件？南美大豆供求宽松对豆类油脂价格利空', 'response': [['供给增加导致负向影响']]}],\n",
       " [{'prompt': '下文中供给增加导致负向影响事件对应的原因涉及的产品是？南美大豆供求宽松对豆类油脂价格利空',\n",
       "   'response': [['大豆']]}],\n",
       " [{'prompt': '下文中供给增加导致负向影响事件对应的原因涉及的地区是？南美大豆供求宽松对豆类油脂价格利空',\n",
       "   'response': [['南美']]}],\n",
       " [{'prompt': '下文中供给增加导致负向影响事件对应的结果涉及的产品是？南美大豆供求宽松对豆类油脂价格利空',\n",
       "   'response': [['豆类油脂']]}]]"
      ]
     },
     "execution_count": 3,
     "metadata": {},
     "output_type": "execute_result"
    }
   ],
   "source": [
    "from qianfan.dataset import Dataset\n",
    "\n",
    "# 加载本地数据集\n",
    "ds: Dataset = Dataset.load(data_file=\"./data/fin_cqa_train.jsonl\")\n",
    "ds.list()"
   ]
  },
  {
   "attachments": {},
   "cell_type": "markdown",
   "metadata": {},
   "source": [
    "从本地数据集上传到BOS"
   ]
  },
  {
   "cell_type": "code",
   "execution_count": 4,
   "metadata": {},
   "outputs": [
    {
     "data": {
      "text/plain": [
       "True"
      ]
     },
     "execution_count": 4,
     "metadata": {},
     "output_type": "execute_result"
    }
   ],
   "source": [
    "# 保存到千帆平台\n",
    "from qianfan.dataset import QianfanDataSource\n",
    "from qianfan.resources.console import consts as console_consts\n",
    "\n",
    "bos_bucket_name = \"<bos_bucket>\"\n",
    "bos_bucket_file_path = \"/bos_path/\"\n",
    "\n",
    "\n",
    "# 创建千帆数据集，并上传保存\n",
    "qianfan_data_source = QianfanDataSource.create_bare_dataset(\n",
    "    name=\"sdk_trainer_ds_022h\",\n",
    "    template_type=console_consts.DataTemplateType.NonSortedConversation,\n",
    "    storage_type=console_consts.DataStorageType.PrivateBos,\n",
    "    storage_id=bos_bucket_name,\n",
    "    storage_path=bos_bucket_file_path,\n",
    ")\n",
    "\n",
    "ds.save(qianfan_data_source, replace_source=True)"
   ]
  },
  {
   "cell_type": "code",
   "execution_count": 5,
   "metadata": {},
   "outputs": [],
   "source": [
    "from qianfan.trainer.consts import ActionState, ServiceType\n",
    "from qianfan.resources.console import consts as console_consts\n",
    "from qianfan.trainer.configs import TrainConfig, DeployConfig\n",
    "from qianfan.resources import QfMessages\n",
    "from qianfan.trainer import LLMFinetune\n",
    "from typing import cast\n",
    "from qianfan.utils import enable_log\n",
    "import logging\n",
    "\n",
    "enable_log(logging.DEBUG)"
   ]
  },
  {
   "attachments": {},
   "cell_type": "markdown",
   "metadata": {},
   "source": [
    "### LLMFinetune 训练\n",
    "`LLMFinetune` 实现了SFT逻辑的trainer，它内部组装了SFT所需要的基本`Pipeline`, 用于串联数据->训练->模型发布->服务调用等步骤"
   ]
  },
  {
   "cell_type": "code",
   "execution_count": 6,
   "metadata": {},
   "outputs": [],
   "source": [
    "\n",
    "trainer = LLMFinetune(\n",
    "    train_type=\"ERNIE-Bot-turbo-0725\",\n",
    "    train_config=TrainConfig(\n",
    "        epoch=1,\n",
    "        learning_rate=0.0003,\n",
    "        max_seq_len=4096,\n",
    "        peft_type=\"LoRA\",\n",
    "    ),\n",
    "    dataset=ds,\n",
    ")"
   ]
  },
  {
   "attachments": {},
   "cell_type": "markdown",
   "metadata": {},
   "source": [
    "### 运行任务\n",
    "同步运行trainer，训练直到模型发布完成"
   ]
  },
  {
   "cell_type": "code",
   "execution_count": 7,
   "metadata": {},
   "outputs": [
    {
     "name": "stderr",
     "output_type": "stream",
     "text": [
      "[DEBUG] [12-08 11:40:00] base.py:222 [t:140481718310720]: action[Pipeline][OVQctg0L23] Preceding\n",
      "[DEBUG] [12-08 11:40:00] base.py:222 [t:140481718310720]: action[LoadDataSetAction][JkGPa954jn] Preceding\n",
      "[DEBUG] [12-08 11:40:00] actions.py:85 [t:140481718310720]: [load_dataset_action] prepare train-set\n",
      "[INFO] [12-08 11:40:06] data_source.py:1044 [t:140481718310720]: data releasing, keep rolling\n",
      "[INFO] [12-08 11:40:12] data_source.py:1044 [t:140481718310720]: data releasing, keep rolling\n",
      "[INFO] [12-08 11:40:15] data_source.py:1044 [t:140481718310720]: data releasing, keep rolling\n",
      "[INFO] [12-08 11:40:18] data_source.py:1044 [t:140481718310720]: data releasing, keep rolling\n",
      "[INFO] [12-08 11:40:22] data_source.py:1053 [t:140481718310720]: data releasing succeeded\n",
      "[DEBUG] [12-08 11:40:22] actions.py:91 [t:140481718310720]: [load_dataset_action] dataset loaded successfully\n",
      "[DEBUG] [12-08 11:40:22] base.py:226 [t:140481718310720]: action[LoadDataSetAction][JkGPa954jn] Done\n",
      "[DEBUG] [12-08 11:40:22] base.py:222 [t:140481718310720]: action[TrainAction][QQikiGjjK6] Preceding\n",
      "[DEBUG] [12-08 11:40:22] actions.py:309 [t:140481718310720]: [train_action] create fine-tune task: 17320\n",
      "[DEBUG] [12-08 11:40:24] actions.py:334 [t:140481718310720]: [train_action] create fine-tune job_id: 9098\n",
      "[INFO] [12-08 11:40:25] actions.py:352 [t:140481718310720]: [train_action] fine-tune running... current status: RUNNING, check vdl report in https://console.bce.baidu.com/qianfan/visualdl/index?displayToken=eyJydW5JZCI6InJ1bi1kdjlqYjNnMW13NWkxdWRqIn0=\n",
      "[INFO] [12-08 11:40:56] actions.py:352 [t:140481718310720]: [train_action] fine-tune running... current status: RUNNING, check vdl report in https://console.bce.baidu.com/qianfan/visualdl/index?displayToken=eyJydW5JZCI6InJ1bi1kdjlqYjNnMW13NWkxdWRqIn0=\n",
      "[INFO] [12-08 11:41:26] actions.py:352 [t:140481718310720]: [train_action] fine-tune running... current status: RUNNING, check vdl report in https://console.bce.baidu.com/qianfan/visualdl/index?displayToken=eyJydW5JZCI6InJ1bi1kdjlqYjNnMW13NWkxdWRqIn0=\n",
      "[INFO] [12-08 11:41:57] actions.py:352 [t:140481718310720]: [train_action] fine-tune running... current status: RUNNING, check vdl report in https://console.bce.baidu.com/qianfan/visualdl/index?displayToken=eyJydW5JZCI6InJ1bi1kdjlqYjNnMW13NWkxdWRqIn0=\n",
      "[INFO] [12-08 11:42:28] actions.py:352 [t:140481718310720]: [train_action] fine-tune running... current status: RUNNING, check vdl report in https://console.bce.baidu.com/qianfan/visualdl/index?displayToken=eyJydW5JZCI6InJ1bi1kdjlqYjNnMW13NWkxdWRqIn0=\n",
      "[INFO] [12-08 11:42:58] actions.py:352 [t:140481718310720]: [train_action] fine-tune running... current status: RUNNING, check vdl report in https://console.bce.baidu.com/qianfan/visualdl/index?displayToken=eyJydW5JZCI6InJ1bi1kdjlqYjNnMW13NWkxdWRqIn0=\n",
      "[INFO] [12-08 11:43:29] actions.py:352 [t:140481718310720]: [train_action] fine-tune running... current status: RUNNING, check vdl report in https://console.bce.baidu.com/qianfan/visualdl/index?displayToken=eyJydW5JZCI6InJ1bi1kdjlqYjNnMW13NWkxdWRqIn0=\n",
      "[INFO] [12-08 11:44:00] actions.py:352 [t:140481718310720]: [train_action] fine-tune running... current status: RUNNING, check vdl report in https://console.bce.baidu.com/qianfan/visualdl/index?displayToken=eyJydW5JZCI6InJ1bi1kdjlqYjNnMW13NWkxdWRqIn0=\n",
      "[INFO] [12-08 11:44:31] actions.py:352 [t:140481718310720]: [train_action] fine-tune running... current status: RUNNING, check vdl report in https://console.bce.baidu.com/qianfan/visualdl/index?displayToken=eyJydW5JZCI6InJ1bi1kdjlqYjNnMW13NWkxdWRqIn0=\n",
      "[INFO] [12-08 11:45:02] actions.py:352 [t:140481718310720]: [train_action] fine-tune running... current status: RUNNING, check vdl report in https://console.bce.baidu.com/qianfan/visualdl/index?displayToken=eyJydW5JZCI6InJ1bi1kdjlqYjNnMW13NWkxdWRqIn0=\n",
      "[INFO] [12-08 11:45:32] actions.py:352 [t:140481718310720]: [train_action] fine-tune running... current status: RUNNING, check vdl report in https://console.bce.baidu.com/qianfan/visualdl/index?displayToken=eyJydW5JZCI6InJ1bi1kdjlqYjNnMW13NWkxdWRqIn0=\n",
      "[INFO] [12-08 11:46:03] actions.py:352 [t:140481718310720]: [train_action] fine-tune running... current status: RUNNING, check vdl report in https://console.bce.baidu.com/qianfan/visualdl/index?displayToken=eyJydW5JZCI6InJ1bi1kdjlqYjNnMW13NWkxdWRqIn0=\n",
      "[INFO] [12-08 11:46:34] actions.py:352 [t:140481718310720]: [train_action] fine-tune running... current status: RUNNING, check vdl report in https://console.bce.baidu.com/qianfan/visualdl/index?displayToken=eyJydW5JZCI6InJ1bi1kdjlqYjNnMW13NWkxdWRqIn0=\n",
      "[INFO] [12-08 11:47:04] actions.py:352 [t:140481718310720]: [train_action] fine-tune running... current status: RUNNING, check vdl report in https://console.bce.baidu.com/qianfan/visualdl/index?displayToken=eyJydW5JZCI6InJ1bi1kdjlqYjNnMW13NWkxdWRqIn0=\n",
      "[INFO] [12-08 11:47:35] actions.py:352 [t:140481718310720]: [train_action] fine-tune running... current status: RUNNING, check vdl report in https://console.bce.baidu.com/qianfan/visualdl/index?displayToken=eyJydW5JZCI6InJ1bi1kdjlqYjNnMW13NWkxdWRqIn0=\n",
      "[INFO] [12-08 11:48:06] actions.py:352 [t:140481718310720]: [train_action] fine-tune running... current status: RUNNING, check vdl report in https://console.bce.baidu.com/qianfan/visualdl/index?displayToken=eyJydW5JZCI6InJ1bi1kdjlqYjNnMW13NWkxdWRqIn0=\n",
      "[INFO] [12-08 11:48:36] actions.py:352 [t:140481718310720]: [train_action] fine-tune running... current status: RUNNING, check vdl report in https://console.bce.baidu.com/qianfan/visualdl/index?displayToken=eyJydW5JZCI6InJ1bi1kdjlqYjNnMW13NWkxdWRqIn0=\n",
      "[INFO] [12-08 11:49:07] actions.py:352 [t:140481718310720]: [train_action] fine-tune running... current status: RUNNING, check vdl report in https://console.bce.baidu.com/qianfan/visualdl/index?displayToken=eyJydW5JZCI6InJ1bi1kdjlqYjNnMW13NWkxdWRqIn0=\n",
      "[INFO] [12-08 11:49:38] actions.py:352 [t:140481718310720]: [train_action] fine-tune running... current status: RUNNING, check vdl report in https://console.bce.baidu.com/qianfan/visualdl/index?displayToken=eyJydW5JZCI6InJ1bi1kdjlqYjNnMW13NWkxdWRqIn0=\n",
      "[INFO] [12-08 11:50:08] actions.py:352 [t:140481718310720]: [train_action] fine-tune running... current status: RUNNING, check vdl report in https://console.bce.baidu.com/qianfan/visualdl/index?displayToken=eyJydW5JZCI6InJ1bi1kdjlqYjNnMW13NWkxdWRqIn0=\n",
      "[INFO] [12-08 11:50:41] actions.py:352 [t:140481718310720]: [train_action] fine-tune running... current status: RUNNING, check vdl report in https://console.bce.baidu.com/qianfan/visualdl/index?displayToken=eyJydW5JZCI6InJ1bi1kdjlqYjNnMW13NWkxdWRqIn0=\n",
      "[INFO] [12-08 11:51:12] actions.py:352 [t:140481718310720]: [train_action] fine-tune running... current status: RUNNING, check vdl report in https://console.bce.baidu.com/qianfan/visualdl/index?displayToken=eyJydW5JZCI6InJ1bi1kdjlqYjNnMW13NWkxdWRqIn0=\n",
      "[INFO] [12-08 11:51:42] actions.py:352 [t:140481718310720]: [train_action] fine-tune running... current status: RUNNING, check vdl report in https://console.bce.baidu.com/qianfan/visualdl/index?displayToken=eyJydW5JZCI6InJ1bi1kdjlqYjNnMW13NWkxdWRqIn0=\n",
      "[INFO] [12-08 11:52:13] actions.py:352 [t:140481718310720]: [train_action] fine-tune running... current status: RUNNING, check vdl report in https://console.bce.baidu.com/qianfan/visualdl/index?displayToken=eyJydW5JZCI6InJ1bi1kdjlqYjNnMW13NWkxdWRqIn0=\n",
      "[INFO] [12-08 11:52:44] actions.py:352 [t:140481718310720]: [train_action] fine-tune running... current status: RUNNING, check vdl report in https://console.bce.baidu.com/qianfan/visualdl/index?displayToken=eyJydW5JZCI6InJ1bi1kdjlqYjNnMW13NWkxdWRqIn0=\n",
      "[INFO] [12-08 11:53:15] actions.py:352 [t:140481718310720]: [train_action] fine-tune running... current status: RUNNING, check vdl report in https://console.bce.baidu.com/qianfan/visualdl/index?displayToken=eyJydW5JZCI6InJ1bi1kdjlqYjNnMW13NWkxdWRqIn0=\n",
      "[INFO] [12-08 11:53:46] actions.py:352 [t:140481718310720]: [train_action] fine-tune running... current status: RUNNING, check vdl report in https://console.bce.baidu.com/qianfan/visualdl/index?displayToken=eyJydW5JZCI6InJ1bi1kdjlqYjNnMW13NWkxdWRqIn0=\n",
      "[INFO] [12-08 11:54:17] actions.py:352 [t:140481718310720]: [train_action] fine-tune running... current status: RUNNING, check vdl report in https://console.bce.baidu.com/qianfan/visualdl/index?displayToken=eyJydW5JZCI6InJ1bi1kdjlqYjNnMW13NWkxdWRqIn0=\n",
      "[INFO] [12-08 11:54:48] actions.py:352 [t:140481718310720]: [train_action] fine-tune running... current status: RUNNING, check vdl report in https://console.bce.baidu.com/qianfan/visualdl/index?displayToken=eyJydW5JZCI6InJ1bi1kdjlqYjNnMW13NWkxdWRqIn0=\n",
      "[INFO] [12-08 11:55:18] actions.py:352 [t:140481718310720]: [train_action] fine-tune running... current status: RUNNING, check vdl report in https://console.bce.baidu.com/qianfan/visualdl/index?displayToken=eyJydW5JZCI6InJ1bi1kdjlqYjNnMW13NWkxdWRqIn0=\n",
      "[INFO] [12-08 11:55:49] actions.py:352 [t:140481718310720]: [train_action] fine-tune running... current status: RUNNING, check vdl report in https://console.bce.baidu.com/qianfan/visualdl/index?displayToken=eyJydW5JZCI6InJ1bi1kdjlqYjNnMW13NWkxdWRqIn0=\n",
      "[INFO] [12-08 11:56:20] actions.py:352 [t:140481718310720]: [train_action] fine-tune running... current status: RUNNING, check vdl report in https://console.bce.baidu.com/qianfan/visualdl/index?displayToken=eyJydW5JZCI6InJ1bi1kdjlqYjNnMW13NWkxdWRqIn0=\n",
      "[INFO] [12-08 11:56:50] actions.py:352 [t:140481718310720]: [train_action] fine-tune running... current status: RUNNING, check vdl report in https://console.bce.baidu.com/qianfan/visualdl/index?displayToken=eyJydW5JZCI6InJ1bi1kdjlqYjNnMW13NWkxdWRqIn0=\n",
      "[INFO] [12-08 11:57:21] actions.py:352 [t:140481718310720]: [train_action] fine-tune running... current status: RUNNING, check vdl report in https://console.bce.baidu.com/qianfan/visualdl/index?displayToken=eyJydW5JZCI6InJ1bi1kdjlqYjNnMW13NWkxdWRqIn0=\n",
      "[INFO] [12-08 11:57:51] actions.py:352 [t:140481718310720]: [train_action] fine-tune running... current status: RUNNING, check vdl report in https://console.bce.baidu.com/qianfan/visualdl/index?displayToken=eyJydW5JZCI6InJ1bi1kdjlqYjNnMW13NWkxdWRqIn0=\n",
      "[INFO] [12-08 11:58:22] actions.py:352 [t:140481718310720]: [train_action] fine-tune running... current status: RUNNING, check vdl report in https://console.bce.baidu.com/qianfan/visualdl/index?displayToken=eyJydW5JZCI6InJ1bi1kdjlqYjNnMW13NWkxdWRqIn0=\n",
      "[INFO] [12-08 11:58:53] actions.py:352 [t:140481718310720]: [train_action] fine-tune running... current status: RUNNING, check vdl report in https://console.bce.baidu.com/qianfan/visualdl/index?displayToken=eyJydW5JZCI6InJ1bi1kdjlqYjNnMW13NWkxdWRqIn0=\n",
      "[INFO] [12-08 11:59:23] actions.py:352 [t:140481718310720]: [train_action] fine-tune running... current status: RUNNING, check vdl report in https://console.bce.baidu.com/qianfan/visualdl/index?displayToken=eyJydW5JZCI6InJ1bi1kdjlqYjNnMW13NWkxdWRqIn0=\n",
      "[INFO] [12-08 11:59:55] actions.py:352 [t:140481718310720]: [train_action] fine-tune running... current status: RUNNING, check vdl report in https://console.bce.baidu.com/qianfan/visualdl/index?displayToken=eyJydW5JZCI6InJ1bi1kdjlqYjNnMW13NWkxdWRqIn0=\n",
      "[INFO] [12-08 12:00:25] actions.py:352 [t:140481718310720]: [train_action] fine-tune running... current status: RUNNING, check vdl report in https://console.bce.baidu.com/qianfan/visualdl/index?displayToken=eyJydW5JZCI6InJ1bi1kdjlqYjNnMW13NWkxdWRqIn0=\n",
      "[INFO] [12-08 12:00:57] actions.py:352 [t:140481718310720]: [train_action] fine-tune running... current status: RUNNING, check vdl report in https://console.bce.baidu.com/qianfan/visualdl/index?displayToken=eyJydW5JZCI6InJ1bi1kdjlqYjNnMW13NWkxdWRqIn0=\n",
      "[INFO] [12-08 12:01:28] actions.py:352 [t:140481718310720]: [train_action] fine-tune running... current status: RUNNING, check vdl report in https://console.bce.baidu.com/qianfan/visualdl/index?displayToken=eyJydW5JZCI6InJ1bi1kdjlqYjNnMW13NWkxdWRqIn0=\n",
      "[INFO] [12-08 12:01:58] actions.py:352 [t:140481718310720]: [train_action] fine-tune running... current status: RUNNING, check vdl report in https://console.bce.baidu.com/qianfan/visualdl/index?displayToken=eyJydW5JZCI6InJ1bi1kdjlqYjNnMW13NWkxdWRqIn0=\n",
      "[INFO] [12-08 12:02:29] actions.py:352 [t:140481718310720]: [train_action] fine-tune running... current status: RUNNING, check vdl report in https://console.bce.baidu.com/qianfan/visualdl/index?displayToken=eyJydW5JZCI6InJ1bi1kdjlqYjNnMW13NWkxdWRqIn0=\n",
      "[INFO] [12-08 12:03:00] actions.py:352 [t:140481718310720]: [train_action] fine-tune running... current status: RUNNING, check vdl report in https://console.bce.baidu.com/qianfan/visualdl/index?displayToken=eyJydW5JZCI6InJ1bi1kdjlqYjNnMW13NWkxdWRqIn0=\n",
      "[INFO] [12-08 12:03:30] actions.py:352 [t:140481718310720]: [train_action] fine-tune running... current status: RUNNING, check vdl report in https://console.bce.baidu.com/qianfan/visualdl/index?displayToken=eyJydW5JZCI6InJ1bi1kdjlqYjNnMW13NWkxdWRqIn0=\n",
      "[INFO] [12-08 12:04:01] actions.py:352 [t:140481718310720]: [train_action] fine-tune running... current status: RUNNING, check vdl report in https://console.bce.baidu.com/qianfan/visualdl/index?displayToken=eyJydW5JZCI6InJ1bi1kdjlqYjNnMW13NWkxdWRqIn0=\n",
      "[INFO] [12-08 12:04:32] actions.py:352 [t:140481718310720]: [train_action] fine-tune running... current status: RUNNING, check vdl report in https://console.bce.baidu.com/qianfan/visualdl/index?displayToken=eyJydW5JZCI6InJ1bi1kdjlqYjNnMW13NWkxdWRqIn0=\n",
      "[INFO] [12-08 12:05:02] actions.py:352 [t:140481718310720]: [train_action] fine-tune running... current status: RUNNING, check vdl report in https://console.bce.baidu.com/qianfan/visualdl/index?displayToken=eyJydW5JZCI6InJ1bi1kdjlqYjNnMW13NWkxdWRqIn0=\n",
      "[INFO] [12-08 12:05:33] actions.py:352 [t:140481718310720]: [train_action] fine-tune running... current status: RUNNING, check vdl report in https://console.bce.baidu.com/qianfan/visualdl/index?displayToken=eyJydW5JZCI6InJ1bi1kdjlqYjNnMW13NWkxdWRqIn0=\n",
      "[INFO] [12-08 12:06:04] actions.py:352 [t:140481718310720]: [train_action] fine-tune running... current status: RUNNING, check vdl report in https://console.bce.baidu.com/qianfan/visualdl/index?displayToken=eyJydW5JZCI6InJ1bi1kdjlqYjNnMW13NWkxdWRqIn0=\n",
      "[INFO] [12-08 12:06:35] actions.py:352 [t:140481718310720]: [train_action] fine-tune running... current status: RUNNING, check vdl report in https://console.bce.baidu.com/qianfan/visualdl/index?displayToken=eyJydW5JZCI6InJ1bi1kdjlqYjNnMW13NWkxdWRqIn0=\n",
      "[INFO] [12-08 12:07:06] actions.py:352 [t:140481718310720]: [train_action] fine-tune running... current status: RUNNING, check vdl report in https://console.bce.baidu.com/qianfan/visualdl/index?displayToken=eyJydW5JZCI6InJ1bi1kdjlqYjNnMW13NWkxdWRqIn0=\n",
      "[INFO] [12-08 12:07:37] actions.py:352 [t:140481718310720]: [train_action] fine-tune running... current status: RUNNING, check vdl report in https://console.bce.baidu.com/qianfan/visualdl/index?displayToken=eyJydW5JZCI6InJ1bi1kdjlqYjNnMW13NWkxdWRqIn0=\n",
      "[INFO] [12-08 12:08:08] actions.py:352 [t:140481718310720]: [train_action] fine-tune running... current status: RUNNING, check vdl report in https://console.bce.baidu.com/qianfan/visualdl/index?displayToken=eyJydW5JZCI6InJ1bi1kdjlqYjNnMW13NWkxdWRqIn0=\n",
      "[INFO] [12-08 12:08:38] actions.py:352 [t:140481718310720]: [train_action] fine-tune running... current status: FINISH, check vdl report in https://console.bce.baidu.com/qianfan/visualdl/index?displayToken=eyJydW5JZCI6InJ1bi1kdjlqYjNnMW13NWkxdWRqIn0=\n",
      "[INFO] [12-08 12:08:38] actions.py:370 [t:140481718310720]: [train_action] fine-tune job has ended: 9098 with status: FINISH\n",
      "[DEBUG] [12-08 12:08:38] base.py:226 [t:140481718310720]: action[TrainAction][QQikiGjjK6] Done\n",
      "[DEBUG] [12-08 12:08:38] base.py:222 [t:140481718310720]: action[ModelPublishAction][IEKnbuwibP] Preceding\n",
      "[DEBUG] [12-08 12:08:38] actions.py:460 [t:140481718310720]: [model_publish_action] start model publish\n",
      "[INFO] [12-08 12:08:39] model.py:183 [t:140481718310720]: check train job: 17320/9098 status before publishing model\n",
      "[INFO] [12-08 12:08:39] model.py:198 [t:140481718310720]: model publishing keep polling, current status FINISH\n",
      "[INFO] [12-08 12:08:40] model.py:232 [t:140481718310720]: model ready to publish\n",
      "[INFO] [12-08 12:08:40] model.py:238 [t:140481718310720]: check model publish status: Creating\n",
      "[INFO] [12-08 12:09:11] model.py:238 [t:140481718310720]: check model publish status: Ready\n",
      "[INFO] [12-08 12:09:11] model.py:240 [t:140481718310720]: model 10268/12722 published successfully\n",
      "[DEBUG] [12-08 12:09:11] actions.py:471 [t:140481718310720]: [model publish] model: 17320_9098 has been published.\n",
      "[DEBUG] [12-08 12:09:11] base.py:226 [t:140481718310720]: action[ModelPublishAction][IEKnbuwibP] Done\n",
      "[DEBUG] [12-08 12:09:11] base.py:226 [t:140481718310720]: action[Pipeline][OVQctg0L23] Done\n"
     ]
    },
    {
     "data": {
      "text/plain": [
       "<qianfan.trainer.finetune.LLMFinetune at 0x7fc40aa51850>"
      ]
     },
     "execution_count": 7,
     "metadata": {},
     "output_type": "execute_result"
    }
   ],
   "source": [
    "trainer.run()"
   ]
  },
  {
   "attachments": {},
   "cell_type": "markdown",
   "metadata": {},
   "source": [
    "获取finetune任务输出："
   ]
  },
  {
   "cell_type": "code",
   "execution_count": 8,
   "metadata": {},
   "outputs": [
    {
     "data": {
      "text/plain": [
       "{'task_id': 17320,\n",
       " 'job_id': 9098,\n",
       " 'model_id': 10268,\n",
       " 'model_version_id': 12722,\n",
       " 'model': <qianfan.trainer.model.Model at 0x7fc40ac23ad0>}"
      ]
     },
     "execution_count": 8,
     "metadata": {},
     "output_type": "execute_result"
    }
   ],
   "source": [
    "trainer.output"
   ]
  },
  {
   "attachments": {},
   "cell_type": "markdown",
   "metadata": {},
   "source": [
    "### 运行批量评估推理\n",
    "Model支持模型批量运行评估数据集，并保存到千帆平台"
   ]
  },
  {
   "attachments": {},
   "cell_type": "markdown",
   "metadata": {},
   "source": [
    "调用Fine-tune得到的Model对象的`batch_run_on_qianfan`发起批量任务，这可能会持续数十分钟"
   ]
  },
  {
   "cell_type": "code",
   "execution_count": 17,
   "metadata": {},
   "outputs": [
    {
     "name": "stderr",
     "output_type": "stream",
     "text": [
      "[INFO] [12-08 12:22:22] model.py:295 [t:140481718310720]: start to create evaluation task in model\n",
      "[DEBUG] [12-08 12:22:25] model.py:318 [t:140481718310720]: create evaluation task in model response: {'log_id': '3646090660', 'result': {'evalId': 2419}}\n",
      "[INFO] [12-08 12:22:25] model.py:319 [t:140481718310720]: start to polling status of evaluation task 2419\n",
      "[DEBUG] [12-08 12:22:26] model.py:325 [t:140481718310720]: current evaluation task info: QfResponse(code=200, headers={'Date': 'Fri, 08 Dec 2023 04:22:26 GMT', 'Content-Type': 'application/json; charset=utf-8', 'Content-Length': '858', 'tracecode': '13466531631049976330120812', 'Set-Cookie': 'BAIDUID=395E0EBE86F8CDE862BD8BD0F5B7C8B6:FG=1; expires=Sat, 07-Dec-24 04:22:26 GMT; max-age=31536000; path=/; domain=.baidu.com; version=1', 'P3P': 'CP=\" OTI DSP COR IVA OUR IND COM \"', 'X-Bce-Request-Id': '43b62329-6ff5-465a-ae16-9614afbe3b9e', 'X-Bce-Gateway-Region': 'GZ'}, body={'log_id': '3859990056', 'result': {'evaluationId': 2419, 'name': 'model_run_14x8azdccy', 'description': '', 'state': 'Doing', 'evalUnits': [{'modelVersionId': 12722, 'modelId': 10268, 'modelName': 'm_17320_9098', 'modelVersion': '1', 'modelSource': 'Train', 'state': 'Doing', 'modelVersionDesc': '', 'message': '', 'modelTags': None}], 'datasetId': 39814, 'datasetName': '我的数据集>sdk_trainer_ds_test2>V1', 'computeResourceConf': {'vmType': 1, 'vmNumber': 8, 'computeResourceId': '', 'cpu': 0, 'memory': 0}, 'evalStandardConf': {'evalMode': 'manual', 'resultDatasetId': 39815, 'resultDatasetName': '评估任务_model_run_14x8azdccy_结果集_eeee55', 'resultDatasetProjectType': 20, 'resultDatasetImportStatus': 0, 'resultDatasetReleaseStatus': 0, 'evaluationDimension': [{'dimension': '满意度', 'description': '', 'minScore': 0, 'maxScore': 2}], 'blindEvaluationEnable': False, 'evaluationScenario': ''}}})\n",
      "[INFO] [12-08 12:22:26] model.py:326 [t:140481718310720]: current eval_state: Doing\n",
      "[DEBUG] [12-08 12:22:57] model.py:325 [t:140481718310720]: current evaluation task info: QfResponse(code=200, headers={'Date': 'Fri, 08 Dec 2023 04:22:57 GMT', 'Content-Type': 'application/json; charset=utf-8', 'Content-Length': '858', 'tracecode': '13771201811049976330120812', 'Set-Cookie': 'BAIDUID=475646012F77E38AC5FCE9500096EA15:FG=1; expires=Sat, 07-Dec-24 04:22:57 GMT; max-age=31536000; path=/; domain=.baidu.com; version=1', 'P3P': 'CP=\" OTI DSP COR IVA OUR IND COM \"', 'X-Bce-Request-Id': 'de48d66c-5258-4c78-aed1-e5c90135c909', 'X-Bce-Gateway-Region': 'GZ'}, body={'log_id': '3305735567', 'result': {'evaluationId': 2419, 'name': 'model_run_14x8azdccy', 'description': '', 'state': 'Doing', 'evalUnits': [{'modelVersionId': 12722, 'modelId': 10268, 'modelName': 'm_17320_9098', 'modelVersion': '1', 'modelSource': 'Train', 'state': 'Doing', 'modelVersionDesc': '', 'message': '', 'modelTags': None}], 'datasetId': 39814, 'datasetName': '我的数据集>sdk_trainer_ds_test2>V1', 'computeResourceConf': {'vmType': 1, 'vmNumber': 8, 'computeResourceId': '', 'cpu': 0, 'memory': 0}, 'evalStandardConf': {'evalMode': 'manual', 'resultDatasetId': 39815, 'resultDatasetName': '评估任务_model_run_14x8azdccy_结果集_eeee55', 'resultDatasetProjectType': 20, 'resultDatasetImportStatus': 0, 'resultDatasetReleaseStatus': 0, 'evaluationDimension': [{'dimension': '满意度', 'description': '', 'minScore': 0, 'maxScore': 2}], 'blindEvaluationEnable': False, 'evaluationScenario': ''}}})\n",
      "[INFO] [12-08 12:22:57] model.py:326 [t:140481718310720]: current eval_state: Doing\n",
      "[DEBUG] [12-08 12:23:27] model.py:325 [t:140481718310720]: current evaluation task info: QfResponse(code=200, headers={'Date': 'Fri, 08 Dec 2023 04:23:27 GMT', 'Content-Type': 'application/json; charset=utf-8', 'Content-Length': '858', 'tracecode': '14076657951049976330120812', 'Set-Cookie': 'BAIDUID=AC59F5F596CACB057D9711BF092E4F65:FG=1; expires=Sat, 07-Dec-24 04:23:27 GMT; max-age=31536000; path=/; domain=.baidu.com; version=1', 'P3P': 'CP=\" OTI DSP COR IVA OUR IND COM \"', 'X-Bce-Request-Id': '107f4814-3b6a-418b-a69d-35e8f5d0384d', 'X-Bce-Gateway-Region': 'GZ'}, body={'log_id': '3791788310', 'result': {'evaluationId': 2419, 'name': 'model_run_14x8azdccy', 'description': '', 'state': 'Doing', 'evalUnits': [{'modelVersionId': 12722, 'modelId': 10268, 'modelName': 'm_17320_9098', 'modelVersion': '1', 'modelSource': 'Train', 'state': 'Doing', 'modelVersionDesc': '', 'message': '', 'modelTags': None}], 'datasetId': 39814, 'datasetName': '我的数据集>sdk_trainer_ds_test2>V1', 'computeResourceConf': {'vmType': 1, 'vmNumber': 8, 'computeResourceId': '', 'cpu': 0, 'memory': 0}, 'evalStandardConf': {'evalMode': 'manual', 'resultDatasetId': 39815, 'resultDatasetName': '评估任务_model_run_14x8azdccy_结果集_eeee55', 'resultDatasetProjectType': 20, 'resultDatasetImportStatus': 0, 'resultDatasetReleaseStatus': 0, 'evaluationDimension': [{'dimension': '满意度', 'description': '', 'minScore': 0, 'maxScore': 2}], 'blindEvaluationEnable': False, 'evaluationScenario': ''}}})\n",
      "[INFO] [12-08 12:23:27] model.py:326 [t:140481718310720]: current eval_state: Doing\n",
      "[DEBUG] [12-08 12:23:58] model.py:325 [t:140481718310720]: current evaluation task info: QfResponse(code=200, headers={'Date': 'Fri, 08 Dec 2023 04:23:58 GMT', 'Content-Type': 'application/json; charset=utf-8', 'Content-Length': '858', 'tracecode': '14380861831049976330120812', 'Set-Cookie': 'BAIDUID=7AFE239BCF8E34275507B5977BDEA830:FG=1; expires=Sat, 07-Dec-24 04:23:58 GMT; max-age=31536000; path=/; domain=.baidu.com; version=1', 'P3P': 'CP=\" OTI DSP COR IVA OUR IND COM \"', 'X-Bce-Request-Id': '5bf77e58-aa32-4d53-b541-f30f3697add3', 'X-Bce-Gateway-Region': 'GZ'}, body={'log_id': '4161901518', 'result': {'evaluationId': 2419, 'name': 'model_run_14x8azdccy', 'description': '', 'state': 'Doing', 'evalUnits': [{'modelVersionId': 12722, 'modelId': 10268, 'modelName': 'm_17320_9098', 'modelVersion': '1', 'modelSource': 'Train', 'state': 'Doing', 'modelVersionDesc': '', 'message': '', 'modelTags': None}], 'datasetId': 39814, 'datasetName': '我的数据集>sdk_trainer_ds_test2>V1', 'computeResourceConf': {'vmType': 1, 'vmNumber': 8, 'computeResourceId': '', 'cpu': 0, 'memory': 0}, 'evalStandardConf': {'evalMode': 'manual', 'resultDatasetId': 39815, 'resultDatasetName': '评估任务_model_run_14x8azdccy_结果集_eeee55', 'resultDatasetProjectType': 20, 'resultDatasetImportStatus': 0, 'resultDatasetReleaseStatus': 0, 'evaluationDimension': [{'dimension': '满意度', 'description': '', 'minScore': 0, 'maxScore': 2}], 'blindEvaluationEnable': False, 'evaluationScenario': ''}}})\n",
      "[INFO] [12-08 12:23:58] model.py:326 [t:140481718310720]: current eval_state: Doing\n",
      "[DEBUG] [12-08 12:24:28] model.py:325 [t:140481718310720]: current evaluation task info: QfResponse(code=200, headers={'Date': 'Fri, 08 Dec 2023 04:24:28 GMT', 'Content-Type': 'application/json; charset=utf-8', 'Content-Length': '858', 'tracecode': '14684855091049976330120812', 'Set-Cookie': 'BAIDUID=5697D069623B1BBA877BAAA78BEB8944:FG=1; expires=Sat, 07-Dec-24 04:24:28 GMT; max-age=31536000; path=/; domain=.baidu.com; version=1', 'P3P': 'CP=\" OTI DSP COR IVA OUR IND COM \"', 'X-Bce-Request-Id': '5436bc9e-b4bc-47da-a052-7ebe97740ad6', 'X-Bce-Gateway-Region': 'GZ'}, body={'log_id': '2341216593', 'result': {'evaluationId': 2419, 'name': 'model_run_14x8azdccy', 'description': '', 'state': 'Doing', 'evalUnits': [{'modelVersionId': 12722, 'modelId': 10268, 'modelName': 'm_17320_9098', 'modelVersion': '1', 'modelSource': 'Train', 'state': 'Doing', 'modelVersionDesc': '', 'message': '', 'modelTags': None}], 'datasetId': 39814, 'datasetName': '我的数据集>sdk_trainer_ds_test2>V1', 'computeResourceConf': {'vmType': 1, 'vmNumber': 8, 'computeResourceId': '', 'cpu': 0, 'memory': 0}, 'evalStandardConf': {'evalMode': 'manual', 'resultDatasetId': 39815, 'resultDatasetName': '评估任务_model_run_14x8azdccy_结果集_eeee55', 'resultDatasetProjectType': 20, 'resultDatasetImportStatus': 0, 'resultDatasetReleaseStatus': 0, 'evaluationDimension': [{'dimension': '满意度', 'description': '', 'minScore': 0, 'maxScore': 2}], 'blindEvaluationEnable': False, 'evaluationScenario': ''}}})\n",
      "[INFO] [12-08 12:24:28] model.py:326 [t:140481718310720]: current eval_state: Doing\n",
      "[DEBUG] [12-08 12:24:58] model.py:325 [t:140481718310720]: current evaluation task info: QfResponse(code=200, headers={'Date': 'Fri, 08 Dec 2023 04:24:58 GMT', 'Content-Type': 'application/json; charset=utf-8', 'Content-Length': '858', 'tracecode': '14989211381049976330120812', 'Set-Cookie': 'BAIDUID=E2EE70C9205DC9EEC7FB8EEC3BF33181:FG=1; expires=Sat, 07-Dec-24 04:24:58 GMT; max-age=31536000; path=/; domain=.baidu.com; version=1', 'P3P': 'CP=\" OTI DSP COR IVA OUR IND COM \"', 'X-Bce-Request-Id': '484440de-3c76-4803-a1e6-5b28f5181be6', 'X-Bce-Gateway-Region': 'GZ'}, body={'log_id': '2704480894', 'result': {'evaluationId': 2419, 'name': 'model_run_14x8azdccy', 'description': '', 'state': 'Doing', 'evalUnits': [{'modelVersionId': 12722, 'modelId': 10268, 'modelName': 'm_17320_9098', 'modelVersion': '1', 'modelSource': 'Train', 'state': 'Doing', 'modelVersionDesc': '', 'message': '', 'modelTags': None}], 'datasetId': 39814, 'datasetName': '我的数据集>sdk_trainer_ds_test2>V1', 'computeResourceConf': {'vmType': 1, 'vmNumber': 8, 'computeResourceId': '', 'cpu': 0, 'memory': 0}, 'evalStandardConf': {'evalMode': 'manual', 'resultDatasetId': 39815, 'resultDatasetName': '评估任务_model_run_14x8azdccy_结果集_eeee55', 'resultDatasetProjectType': 20, 'resultDatasetImportStatus': 0, 'resultDatasetReleaseStatus': 0, 'evaluationDimension': [{'dimension': '满意度', 'description': '', 'minScore': 0, 'maxScore': 2}], 'blindEvaluationEnable': False, 'evaluationScenario': ''}}})\n",
      "[INFO] [12-08 12:24:58] model.py:326 [t:140481718310720]: current eval_state: Doing\n",
      "[DEBUG] [12-08 12:25:29] model.py:325 [t:140481718310720]: current evaluation task info: QfResponse(code=200, headers={'Date': 'Fri, 08 Dec 2023 04:25:29 GMT', 'Content-Type': 'application/json; charset=utf-8', 'Content-Length': '858', 'tracecode': '15293819381049976330120812', 'Set-Cookie': 'BAIDUID=185C0C1F8BF15EB35B2BAE429EDD4A12:FG=1; expires=Sat, 07-Dec-24 04:25:29 GMT; max-age=31536000; path=/; domain=.baidu.com; version=1', 'P3P': 'CP=\" OTI DSP COR IVA OUR IND COM \"', 'X-Bce-Request-Id': '608d7329-46f7-4220-bc8d-7900aa3a3bd5', 'X-Bce-Gateway-Region': 'GZ'}, body={'log_id': '3097278276', 'result': {'evaluationId': 2419, 'name': 'model_run_14x8azdccy', 'description': '', 'state': 'Doing', 'evalUnits': [{'modelVersionId': 12722, 'modelId': 10268, 'modelName': 'm_17320_9098', 'modelVersion': '1', 'modelSource': 'Train', 'state': 'Doing', 'modelVersionDesc': '', 'message': '', 'modelTags': None}], 'datasetId': 39814, 'datasetName': '我的数据集>sdk_trainer_ds_test2>V1', 'computeResourceConf': {'vmType': 1, 'vmNumber': 8, 'computeResourceId': '', 'cpu': 0, 'memory': 0}, 'evalStandardConf': {'evalMode': 'manual', 'resultDatasetId': 39815, 'resultDatasetName': '评估任务_model_run_14x8azdccy_结果集_eeee55', 'resultDatasetProjectType': 20, 'resultDatasetImportStatus': 0, 'resultDatasetReleaseStatus': 0, 'evaluationDimension': [{'dimension': '满意度', 'description': '', 'minScore': 0, 'maxScore': 2}], 'blindEvaluationEnable': False, 'evaluationScenario': ''}}})\n",
      "[INFO] [12-08 12:25:29] model.py:326 [t:140481718310720]: current eval_state: Doing\n",
      "[DEBUG] [12-08 12:25:59] model.py:325 [t:140481718310720]: current evaluation task info: QfResponse(code=200, headers={'Date': 'Fri, 08 Dec 2023 04:25:59 GMT', 'Content-Type': 'application/json; charset=utf-8', 'Content-Length': '858', 'tracecode': '15598169901049976330120812', 'Set-Cookie': 'BAIDUID=490502EB2DE95228583B3077A7AA8490:FG=1; expires=Sat, 07-Dec-24 04:25:59 GMT; max-age=31536000; path=/; domain=.baidu.com; version=1', 'P3P': 'CP=\" OTI DSP COR IVA OUR IND COM \"', 'X-Bce-Request-Id': '90967510-d90a-475d-8c09-fcb9f751864c', 'X-Bce-Gateway-Region': 'GZ'}, body={'log_id': '3472704674', 'result': {'evaluationId': 2419, 'name': 'model_run_14x8azdccy', 'description': '', 'state': 'Doing', 'evalUnits': [{'modelVersionId': 12722, 'modelId': 10268, 'modelName': 'm_17320_9098', 'modelVersion': '1', 'modelSource': 'Train', 'state': 'Doing', 'modelVersionDesc': '', 'message': '', 'modelTags': None}], 'datasetId': 39814, 'datasetName': '我的数据集>sdk_trainer_ds_test2>V1', 'computeResourceConf': {'vmType': 1, 'vmNumber': 8, 'computeResourceId': '', 'cpu': 0, 'memory': 0}, 'evalStandardConf': {'evalMode': 'manual', 'resultDatasetId': 39815, 'resultDatasetName': '评估任务_model_run_14x8azdccy_结果集_eeee55', 'resultDatasetProjectType': 20, 'resultDatasetImportStatus': 0, 'resultDatasetReleaseStatus': 0, 'evaluationDimension': [{'dimension': '满意度', 'description': '', 'minScore': 0, 'maxScore': 2}], 'blindEvaluationEnable': False, 'evaluationScenario': ''}}})\n",
      "[INFO] [12-08 12:25:59] model.py:326 [t:140481718310720]: current eval_state: Doing\n",
      "[DEBUG] [12-08 12:26:30] model.py:325 [t:140481718310720]: current evaluation task info: QfResponse(code=200, headers={'Date': 'Fri, 08 Dec 2023 04:26:30 GMT', 'Content-Type': 'application/json; charset=utf-8', 'Content-Length': '858', 'tracecode': '15902016241049976330120812', 'Set-Cookie': 'BAIDUID=22B22778FB275B780A678FE5A2AE3CDE:FG=1; expires=Sat, 07-Dec-24 04:26:30 GMT; max-age=31536000; path=/; domain=.baidu.com; version=1', 'P3P': 'CP=\" OTI DSP COR IVA OUR IND COM \"', 'X-Bce-Request-Id': 'c9acffb0-04a2-440a-9556-c5611a1f36fb', 'X-Bce-Gateway-Region': 'GZ'}, body={'log_id': '3797598846', 'result': {'evaluationId': 2419, 'name': 'model_run_14x8azdccy', 'description': '', 'state': 'Doing', 'evalUnits': [{'modelVersionId': 12722, 'modelId': 10268, 'modelName': 'm_17320_9098', 'modelVersion': '1', 'modelSource': 'Train', 'state': 'Doing', 'modelVersionDesc': '', 'message': '', 'modelTags': None}], 'datasetId': 39814, 'datasetName': '我的数据集>sdk_trainer_ds_test2>V1', 'computeResourceConf': {'vmType': 1, 'vmNumber': 8, 'computeResourceId': '', 'cpu': 0, 'memory': 0}, 'evalStandardConf': {'evalMode': 'manual', 'resultDatasetId': 39815, 'resultDatasetName': '评估任务_model_run_14x8azdccy_结果集_eeee55', 'resultDatasetProjectType': 20, 'resultDatasetImportStatus': 0, 'resultDatasetReleaseStatus': 0, 'evaluationDimension': [{'dimension': '满意度', 'description': '', 'minScore': 0, 'maxScore': 2}], 'blindEvaluationEnable': False, 'evaluationScenario': ''}}})\n",
      "[INFO] [12-08 12:26:30] model.py:326 [t:140481718310720]: current eval_state: Doing\n",
      "[DEBUG] [12-08 12:27:00] model.py:325 [t:140481718310720]: current evaluation task info: QfResponse(code=200, headers={'Date': 'Fri, 08 Dec 2023 04:27:00 GMT', 'Content-Type': 'application/json; charset=utf-8', 'Content-Length': '858', 'tracecode': '16205948761049976330120812', 'Set-Cookie': 'BAIDUID=7F32B89A8CB51A6D5125CEE68253047C:FG=1; expires=Sat, 07-Dec-24 04:27:00 GMT; max-age=31536000; path=/; domain=.baidu.com; version=1', 'P3P': 'CP=\" OTI DSP COR IVA OUR IND COM \"', 'X-Bce-Request-Id': '9f4d38a3-2a04-4c95-9fe5-b52fb4e48430', 'X-Bce-Gateway-Region': 'GZ'}, body={'log_id': '4130368663', 'result': {'evaluationId': 2419, 'name': 'model_run_14x8azdccy', 'description': '', 'state': 'Doing', 'evalUnits': [{'modelVersionId': 12722, 'modelId': 10268, 'modelName': 'm_17320_9098', 'modelVersion': '1', 'modelSource': 'Train', 'state': 'Doing', 'modelVersionDesc': '', 'message': '', 'modelTags': None}], 'datasetId': 39814, 'datasetName': '我的数据集>sdk_trainer_ds_test2>V1', 'computeResourceConf': {'vmType': 1, 'vmNumber': 8, 'computeResourceId': '', 'cpu': 0, 'memory': 0}, 'evalStandardConf': {'evalMode': 'manual', 'resultDatasetId': 39815, 'resultDatasetName': '评估任务_model_run_14x8azdccy_结果集_eeee55', 'resultDatasetProjectType': 20, 'resultDatasetImportStatus': 0, 'resultDatasetReleaseStatus': 0, 'evaluationDimension': [{'dimension': '满意度', 'description': '', 'minScore': 0, 'maxScore': 2}], 'blindEvaluationEnable': False, 'evaluationScenario': ''}}})\n",
      "[INFO] [12-08 12:27:00] model.py:326 [t:140481718310720]: current eval_state: Doing\n",
      "[DEBUG] [12-08 12:27:31] model.py:325 [t:140481718310720]: current evaluation task info: QfResponse(code=200, headers={'Date': 'Fri, 08 Dec 2023 04:27:31 GMT', 'Content-Type': 'application/json; charset=utf-8', 'Content-Length': '858', 'tracecode': '16510064761049976330120812', 'Set-Cookie': 'BAIDUID=E5CD583096BD97C4E3B66E226859026A:FG=1; expires=Sat, 07-Dec-24 04:27:31 GMT; max-age=31536000; path=/; domain=.baidu.com; version=1', 'P3P': 'CP=\" OTI DSP COR IVA OUR IND COM \"', 'X-Bce-Request-Id': '7cf53fd4-515f-495e-9f53-43b82b03a37f', 'X-Bce-Gateway-Region': 'GZ'}, body={'log_id': '2341674415', 'result': {'evaluationId': 2419, 'name': 'model_run_14x8azdccy', 'description': '', 'state': 'Doing', 'evalUnits': [{'modelVersionId': 12722, 'modelId': 10268, 'modelName': 'm_17320_9098', 'modelVersion': '1', 'modelSource': 'Train', 'state': 'Doing', 'modelVersionDesc': '', 'message': '', 'modelTags': None}], 'datasetId': 39814, 'datasetName': '我的数据集>sdk_trainer_ds_test2>V1', 'computeResourceConf': {'vmType': 1, 'vmNumber': 8, 'computeResourceId': '', 'cpu': 0, 'memory': 0}, 'evalStandardConf': {'evalMode': 'manual', 'resultDatasetId': 39815, 'resultDatasetName': '评估任务_model_run_14x8azdccy_结果集_eeee55', 'resultDatasetProjectType': 20, 'resultDatasetImportStatus': 0, 'resultDatasetReleaseStatus': 0, 'evaluationDimension': [{'dimension': '满意度', 'description': '', 'minScore': 0, 'maxScore': 2}], 'blindEvaluationEnable': False, 'evaluationScenario': ''}}})\n",
      "[INFO] [12-08 12:27:31] model.py:326 [t:140481718310720]: current eval_state: Doing\n",
      "[DEBUG] [12-08 12:28:01] model.py:325 [t:140481718310720]: current evaluation task info: QfResponse(code=200, headers={'Date': 'Fri, 08 Dec 2023 04:28:01 GMT', 'Content-Type': 'application/json; charset=utf-8', 'Content-Length': '858', 'tracecode': '16814689191049976330120812', 'Set-Cookie': 'BAIDUID=3ABC036DA8752A0E7CF40F67F5FB35DD:FG=1; expires=Sat, 07-Dec-24 04:28:01 GMT; max-age=31536000; path=/; domain=.baidu.com; version=1', 'P3P': 'CP=\" OTI DSP COR IVA OUR IND COM \"', 'X-Bce-Request-Id': 'f6c670a0-4e76-4d33-af72-20dcd75373e9', 'X-Bce-Gateway-Region': 'GZ'}, body={'log_id': '2711197646', 'result': {'evaluationId': 2419, 'name': 'model_run_14x8azdccy', 'description': '', 'state': 'Doing', 'evalUnits': [{'modelVersionId': 12722, 'modelId': 10268, 'modelName': 'm_17320_9098', 'modelVersion': '1', 'modelSource': 'Train', 'state': 'Doing', 'modelVersionDesc': '', 'message': '', 'modelTags': None}], 'datasetId': 39814, 'datasetName': '我的数据集>sdk_trainer_ds_test2>V1', 'computeResourceConf': {'vmType': 1, 'vmNumber': 8, 'computeResourceId': '', 'cpu': 0, 'memory': 0}, 'evalStandardConf': {'evalMode': 'manual', 'resultDatasetId': 39815, 'resultDatasetName': '评估任务_model_run_14x8azdccy_结果集_eeee55', 'resultDatasetProjectType': 20, 'resultDatasetImportStatus': 0, 'resultDatasetReleaseStatus': 0, 'evaluationDimension': [{'dimension': '满意度', 'description': '', 'minScore': 0, 'maxScore': 2}], 'blindEvaluationEnable': False, 'evaluationScenario': ''}}})\n",
      "[INFO] [12-08 12:28:01] model.py:326 [t:140481718310720]: current eval_state: Doing\n",
      "[DEBUG] [12-08 12:28:31] model.py:325 [t:140481718310720]: current evaluation task info: QfResponse(code=200, headers={'Date': 'Fri, 08 Dec 2023 04:28:31 GMT', 'Content-Type': 'application/json; charset=utf-8', 'Content-Length': '858', 'tracecode': '17119542941049976330120812', 'Set-Cookie': 'BAIDUID=11DAF006650104C3666782BA21602770:FG=1; expires=Sat, 07-Dec-24 04:28:31 GMT; max-age=31536000; path=/; domain=.baidu.com; version=1', 'P3P': 'CP=\" OTI DSP COR IVA OUR IND COM \"', 'X-Bce-Request-Id': 'f41c5a04-6b8c-46eb-a9b6-f9d6b30aff5f', 'X-Bce-Gateway-Region': 'GZ'}, body={'log_id': '3133082618', 'result': {'evaluationId': 2419, 'name': 'model_run_14x8azdccy', 'description': '', 'state': 'Doing', 'evalUnits': [{'modelVersionId': 12722, 'modelId': 10268, 'modelName': 'm_17320_9098', 'modelVersion': '1', 'modelSource': 'Train', 'state': 'Doing', 'modelVersionDesc': '', 'message': '', 'modelTags': None}], 'datasetId': 39814, 'datasetName': '我的数据集>sdk_trainer_ds_test2>V1', 'computeResourceConf': {'vmType': 1, 'vmNumber': 8, 'computeResourceId': '', 'cpu': 0, 'memory': 0}, 'evalStandardConf': {'evalMode': 'manual', 'resultDatasetId': 39815, 'resultDatasetName': '评估任务_model_run_14x8azdccy_结果集_eeee55', 'resultDatasetProjectType': 20, 'resultDatasetImportStatus': 0, 'resultDatasetReleaseStatus': 0, 'evaluationDimension': [{'dimension': '满意度', 'description': '', 'minScore': 0, 'maxScore': 2}], 'blindEvaluationEnable': False, 'evaluationScenario': ''}}})\n",
      "[INFO] [12-08 12:28:31] model.py:326 [t:140481718310720]: current eval_state: Doing\n",
      "[DEBUG] [12-08 12:29:02] model.py:325 [t:140481718310720]: current evaluation task info: QfResponse(code=200, headers={'Date': 'Fri, 08 Dec 2023 04:29:02 GMT', 'Content-Type': 'application/json; charset=utf-8', 'Content-Length': '858', 'tracecode': '17423574121049976330120812', 'Set-Cookie': 'BAIDUID=F2215A7D91DB47CF0DBAD1121C2C58DB:FG=1; expires=Sat, 07-Dec-24 04:29:02 GMT; max-age=31536000; path=/; domain=.baidu.com; version=1', 'P3P': 'CP=\" OTI DSP COR IVA OUR IND COM \"', 'X-Bce-Request-Id': '9f2e076c-c713-4f2d-8f99-eb4ebd981eef', 'X-Bce-Gateway-Region': 'GZ'}, body={'log_id': '3496181523', 'result': {'evaluationId': 2419, 'name': 'model_run_14x8azdccy', 'description': '', 'state': 'Doing', 'evalUnits': [{'modelVersionId': 12722, 'modelId': 10268, 'modelName': 'm_17320_9098', 'modelVersion': '1', 'modelSource': 'Train', 'state': 'Doing', 'modelVersionDesc': '', 'message': '', 'modelTags': None}], 'datasetId': 39814, 'datasetName': '我的数据集>sdk_trainer_ds_test2>V1', 'computeResourceConf': {'vmType': 1, 'vmNumber': 8, 'computeResourceId': '', 'cpu': 0, 'memory': 0}, 'evalStandardConf': {'evalMode': 'manual', 'resultDatasetId': 39815, 'resultDatasetName': '评估任务_model_run_14x8azdccy_结果集_eeee55', 'resultDatasetProjectType': 20, 'resultDatasetImportStatus': 0, 'resultDatasetReleaseStatus': 0, 'evaluationDimension': [{'dimension': '满意度', 'description': '', 'minScore': 0, 'maxScore': 2}], 'blindEvaluationEnable': False, 'evaluationScenario': ''}}})\n",
      "[INFO] [12-08 12:29:02] model.py:326 [t:140481718310720]: current eval_state: Doing\n",
      "[DEBUG] [12-08 12:29:32] model.py:325 [t:140481718310720]: current evaluation task info: QfResponse(code=200, headers={'Date': 'Fri, 08 Dec 2023 04:29:32 GMT', 'Content-Type': 'application/json; charset=utf-8', 'Content-Length': '858', 'tracecode': '17727807051049976330120812', 'Set-Cookie': 'BAIDUID=2DB36CA582F3593DA14905C830BEDF8F:FG=1; expires=Sat, 07-Dec-24 04:29:32 GMT; max-age=31536000; path=/; domain=.baidu.com; version=1', 'P3P': 'CP=\" OTI DSP COR IVA OUR IND COM \"', 'X-Bce-Request-Id': '08fa706f-0f5f-46de-8c2e-8c0d5aad5916', 'X-Bce-Gateway-Region': 'GZ'}, body={'log_id': '3838809313', 'result': {'evaluationId': 2419, 'name': 'model_run_14x8azdccy', 'description': '', 'state': 'Doing', 'evalUnits': [{'modelVersionId': 12722, 'modelId': 10268, 'modelName': 'm_17320_9098', 'modelVersion': '1', 'modelSource': 'Train', 'state': 'Doing', 'modelVersionDesc': '', 'message': '', 'modelTags': None}], 'datasetId': 39814, 'datasetName': '我的数据集>sdk_trainer_ds_test2>V1', 'computeResourceConf': {'vmType': 1, 'vmNumber': 8, 'computeResourceId': '', 'cpu': 0, 'memory': 0}, 'evalStandardConf': {'evalMode': 'manual', 'resultDatasetId': 39815, 'resultDatasetName': '评估任务_model_run_14x8azdccy_结果集_eeee55', 'resultDatasetProjectType': 20, 'resultDatasetImportStatus': 0, 'resultDatasetReleaseStatus': 0, 'evaluationDimension': [{'dimension': '满意度', 'description': '', 'minScore': 0, 'maxScore': 2}], 'blindEvaluationEnable': False, 'evaluationScenario': ''}}})\n",
      "[INFO] [12-08 12:29:32] model.py:326 [t:140481718310720]: current eval_state: Doing\n",
      "[DEBUG] [12-08 12:30:03] model.py:325 [t:140481718310720]: current evaluation task info: QfResponse(code=200, headers={'Date': 'Fri, 08 Dec 2023 04:30:03 GMT', 'Content-Type': 'application/json; charset=utf-8', 'Content-Length': '858', 'tracecode': '18032304101049976330120812', 'Set-Cookie': 'BAIDUID=890091B5E1A3A96AA14DFCA049D74FA0:FG=1; expires=Sat, 07-Dec-24 04:30:03 GMT; max-age=31536000; path=/; domain=.baidu.com; version=1', 'P3P': 'CP=\" OTI DSP COR IVA OUR IND COM \"', 'X-Bce-Request-Id': 'e730477d-5d1b-4011-ae5d-df799c62ffef', 'X-Bce-Gateway-Region': 'GZ'}, body={'log_id': '4209376941', 'result': {'evaluationId': 2419, 'name': 'model_run_14x8azdccy', 'description': '', 'state': 'Doing', 'evalUnits': [{'modelVersionId': 12722, 'modelId': 10268, 'modelName': 'm_17320_9098', 'modelVersion': '1', 'modelSource': 'Train', 'state': 'Doing', 'modelVersionDesc': '', 'message': '', 'modelTags': None}], 'datasetId': 39814, 'datasetName': '我的数据集>sdk_trainer_ds_test2>V1', 'computeResourceConf': {'vmType': 1, 'vmNumber': 8, 'computeResourceId': '', 'cpu': 0, 'memory': 0}, 'evalStandardConf': {'evalMode': 'manual', 'resultDatasetId': 39815, 'resultDatasetName': '评估任务_model_run_14x8azdccy_结果集_eeee55', 'resultDatasetProjectType': 20, 'resultDatasetImportStatus': 0, 'resultDatasetReleaseStatus': 0, 'evaluationDimension': [{'dimension': '满意度', 'description': '', 'minScore': 0, 'maxScore': 2}], 'blindEvaluationEnable': False, 'evaluationScenario': ''}}})\n",
      "[INFO] [12-08 12:30:03] model.py:326 [t:140481718310720]: current eval_state: Doing\n",
      "[DEBUG] [12-08 12:30:33] model.py:325 [t:140481718310720]: current evaluation task info: QfResponse(code=200, headers={'Date': 'Fri, 08 Dec 2023 04:30:33 GMT', 'Content-Type': 'application/json; charset=utf-8', 'Content-Length': '858', 'tracecode': '18336492321049976330120812', 'Set-Cookie': 'BAIDUID=C04A49F52969E511EAE8D6542BABCC10:FG=1; expires=Sat, 07-Dec-24 04:30:33 GMT; max-age=31536000; path=/; domain=.baidu.com; version=1', 'P3P': 'CP=\" OTI DSP COR IVA OUR IND COM \"', 'X-Bce-Request-Id': 'f7360df6-b2d7-4fe4-ba12-c6672fb4c0d1', 'X-Bce-Gateway-Region': 'GZ'}, body={'log_id': '2432235803', 'result': {'evaluationId': 2419, 'name': 'model_run_14x8azdccy', 'description': '', 'state': 'Doing', 'evalUnits': [{'modelVersionId': 12722, 'modelId': 10268, 'modelName': 'm_17320_9098', 'modelVersion': '1', 'modelSource': 'Train', 'state': 'Doing', 'modelVersionDesc': '', 'message': '', 'modelTags': None}], 'datasetId': 39814, 'datasetName': '我的数据集>sdk_trainer_ds_test2>V1', 'computeResourceConf': {'vmType': 1, 'vmNumber': 8, 'computeResourceId': '', 'cpu': 0, 'memory': 0}, 'evalStandardConf': {'evalMode': 'manual', 'resultDatasetId': 39815, 'resultDatasetName': '评估任务_model_run_14x8azdccy_结果集_eeee55', 'resultDatasetProjectType': 20, 'resultDatasetImportStatus': 0, 'resultDatasetReleaseStatus': 0, 'evaluationDimension': [{'dimension': '满意度', 'description': '', 'minScore': 0, 'maxScore': 2}], 'blindEvaluationEnable': False, 'evaluationScenario': ''}}})\n",
      "[INFO] [12-08 12:30:33] model.py:326 [t:140481718310720]: current eval_state: Doing\n",
      "[DEBUG] [12-08 12:31:04] model.py:325 [t:140481718310720]: current evaluation task info: QfResponse(code=200, headers={'Date': 'Fri, 08 Dec 2023 04:31:04 GMT', 'Content-Type': 'application/json; charset=utf-8', 'Content-Length': '858', 'tracecode': '18640853081049976330120812', 'Set-Cookie': 'BAIDUID=0C0CC6A683C4521061877849742549DF:FG=1; expires=Sat, 07-Dec-24 04:31:04 GMT; max-age=31536000; path=/; domain=.baidu.com; version=1', 'P3P': 'CP=\" OTI DSP COR IVA OUR IND COM \"', 'X-Bce-Request-Id': '59af551a-f89f-4fe1-91bb-a6470bee3544', 'X-Bce-Gateway-Region': 'GZ'}, body={'log_id': '2802616447', 'result': {'evaluationId': 2419, 'name': 'model_run_14x8azdccy', 'description': '', 'state': 'Doing', 'evalUnits': [{'modelVersionId': 12722, 'modelId': 10268, 'modelName': 'm_17320_9098', 'modelVersion': '1', 'modelSource': 'Train', 'state': 'Doing', 'modelVersionDesc': '', 'message': '', 'modelTags': None}], 'datasetId': 39814, 'datasetName': '我的数据集>sdk_trainer_ds_test2>V1', 'computeResourceConf': {'vmType': 1, 'vmNumber': 8, 'computeResourceId': '', 'cpu': 0, 'memory': 0}, 'evalStandardConf': {'evalMode': 'manual', 'resultDatasetId': 39815, 'resultDatasetName': '评估任务_model_run_14x8azdccy_结果集_eeee55', 'resultDatasetProjectType': 20, 'resultDatasetImportStatus': 0, 'resultDatasetReleaseStatus': 0, 'evaluationDimension': [{'dimension': '满意度', 'description': '', 'minScore': 0, 'maxScore': 2}], 'blindEvaluationEnable': False, 'evaluationScenario': ''}}})\n",
      "[INFO] [12-08 12:31:04] model.py:326 [t:140481718310720]: current eval_state: Doing\n",
      "[DEBUG] [12-08 12:31:34] model.py:325 [t:140481718310720]: current evaluation task info: QfResponse(code=200, headers={'Date': 'Fri, 08 Dec 2023 04:31:34 GMT', 'Content-Type': 'application/json; charset=utf-8', 'Content-Length': '858', 'tracecode': '18945008881049976330120812', 'Set-Cookie': 'BAIDUID=17AAFF600177E2C7E1B0DCDB1FC9EE1B:FG=1; expires=Sat, 07-Dec-24 04:31:34 GMT; max-age=31536000; path=/; domain=.baidu.com; version=1', 'P3P': 'CP=\" OTI DSP COR IVA OUR IND COM \"', 'X-Bce-Request-Id': '46bbe33e-f1e3-417a-ade9-a510712198d2', 'X-Bce-Gateway-Region': 'GZ'}, body={'log_id': '3137345352', 'result': {'evaluationId': 2419, 'name': 'model_run_14x8azdccy', 'description': '', 'state': 'Doing', 'evalUnits': [{'modelVersionId': 12722, 'modelId': 10268, 'modelName': 'm_17320_9098', 'modelVersion': '1', 'modelSource': 'Train', 'state': 'Doing', 'modelVersionDesc': '', 'message': '', 'modelTags': None}], 'datasetId': 39814, 'datasetName': '我的数据集>sdk_trainer_ds_test2>V1', 'computeResourceConf': {'vmType': 1, 'vmNumber': 8, 'computeResourceId': '', 'cpu': 0, 'memory': 0}, 'evalStandardConf': {'evalMode': 'manual', 'resultDatasetId': 39815, 'resultDatasetName': '评估任务_model_run_14x8azdccy_结果集_eeee55', 'resultDatasetProjectType': 20, 'resultDatasetImportStatus': 0, 'resultDatasetReleaseStatus': 0, 'evaluationDimension': [{'dimension': '满意度', 'description': '', 'minScore': 0, 'maxScore': 2}], 'blindEvaluationEnable': False, 'evaluationScenario': ''}}})\n",
      "[INFO] [12-08 12:31:34] model.py:326 [t:140481718310720]: current eval_state: Doing\n",
      "[DEBUG] [12-08 12:32:05] model.py:325 [t:140481718310720]: current evaluation task info: QfResponse(code=200, headers={'Date': 'Fri, 08 Dec 2023 04:32:04 GMT', 'Content-Type': 'application/json; charset=utf-8', 'Content-Length': '858', 'tracecode': '19249536771049976330120812', 'Set-Cookie': 'BAIDUID=BA01DC8FA41CAC7195AB68794542FE77:FG=1; expires=Sat, 07-Dec-24 04:32:04 GMT; max-age=31536000; path=/; domain=.baidu.com; version=1', 'P3P': 'CP=\" OTI DSP COR IVA OUR IND COM \"', 'X-Bce-Request-Id': '687e4a0a-8805-4694-8f65-cc3d44d22ef9', 'X-Bce-Gateway-Region': 'GZ'}, body={'log_id': '3545718578', 'result': {'evaluationId': 2419, 'name': 'model_run_14x8azdccy', 'description': '', 'state': 'Doing', 'evalUnits': [{'modelVersionId': 12722, 'modelId': 10268, 'modelName': 'm_17320_9098', 'modelVersion': '1', 'modelSource': 'Train', 'state': 'Doing', 'modelVersionDesc': '', 'message': '', 'modelTags': None}], 'datasetId': 39814, 'datasetName': '我的数据集>sdk_trainer_ds_test2>V1', 'computeResourceConf': {'vmType': 1, 'vmNumber': 8, 'computeResourceId': '', 'cpu': 0, 'memory': 0}, 'evalStandardConf': {'evalMode': 'manual', 'resultDatasetId': 39815, 'resultDatasetName': '评估任务_model_run_14x8azdccy_结果集_eeee55', 'resultDatasetProjectType': 20, 'resultDatasetImportStatus': 0, 'resultDatasetReleaseStatus': 0, 'evaluationDimension': [{'dimension': '满意度', 'description': '', 'minScore': 0, 'maxScore': 2}], 'blindEvaluationEnable': False, 'evaluationScenario': ''}}})\n",
      "[INFO] [12-08 12:32:05] model.py:326 [t:140481718310720]: current eval_state: Doing\n",
      "[DEBUG] [12-08 12:32:35] model.py:325 [t:140481718310720]: current evaluation task info: QfResponse(code=200, headers={'Date': 'Fri, 08 Dec 2023 04:32:35 GMT', 'Content-Type': 'application/json; charset=utf-8', 'Content-Length': '858', 'tracecode': '19553870281049976330120812', 'Set-Cookie': 'BAIDUID=F9F7685B9B98479E24BACCF64D39D826:FG=1; expires=Sat, 07-Dec-24 04:32:35 GMT; max-age=31536000; path=/; domain=.baidu.com; version=1', 'P3P': 'CP=\" OTI DSP COR IVA OUR IND COM \"', 'X-Bce-Request-Id': '61ad1e2b-b1fb-46c7-86d9-3acaa9a591c1', 'X-Bce-Gateway-Region': 'GZ'}, body={'log_id': '3908050547', 'result': {'evaluationId': 2419, 'name': 'model_run_14x8azdccy', 'description': '', 'state': 'Doing', 'evalUnits': [{'modelVersionId': 12722, 'modelId': 10268, 'modelName': 'm_17320_9098', 'modelVersion': '1', 'modelSource': 'Train', 'state': 'Doing', 'modelVersionDesc': '', 'message': '', 'modelTags': None}], 'datasetId': 39814, 'datasetName': '我的数据集>sdk_trainer_ds_test2>V1', 'computeResourceConf': {'vmType': 1, 'vmNumber': 8, 'computeResourceId': '', 'cpu': 0, 'memory': 0}, 'evalStandardConf': {'evalMode': 'manual', 'resultDatasetId': 39815, 'resultDatasetName': '评估任务_model_run_14x8azdccy_结果集_eeee55', 'resultDatasetProjectType': 20, 'resultDatasetImportStatus': 0, 'resultDatasetReleaseStatus': 0, 'evaluationDimension': [{'dimension': '满意度', 'description': '', 'minScore': 0, 'maxScore': 2}], 'blindEvaluationEnable': False, 'evaluationScenario': ''}}})\n",
      "[INFO] [12-08 12:32:35] model.py:326 [t:140481718310720]: current eval_state: Doing\n",
      "[DEBUG] [12-08 12:33:05] model.py:325 [t:140481718310720]: current evaluation task info: QfResponse(code=200, headers={'Date': 'Fri, 08 Dec 2023 04:33:05 GMT', 'Content-Type': 'application/json; charset=utf-8', 'Content-Length': '858', 'tracecode': '19858597471049976330120812', 'Set-Cookie': 'BAIDUID=BB3BDD2DECBB054CF69A263396C00A33:FG=1; expires=Sat, 07-Dec-24 04:33:05 GMT; max-age=31536000; path=/; domain=.baidu.com; version=1', 'P3P': 'CP=\" OTI DSP COR IVA OUR IND COM \"', 'X-Bce-Request-Id': '8cf1524f-ecc0-4cd6-a659-e194642ba19c', 'X-Bce-Gateway-Region': 'GZ'}, body={'log_id': '2179282020', 'result': {'evaluationId': 2419, 'name': 'model_run_14x8azdccy', 'description': '', 'state': 'Doing', 'evalUnits': [{'modelVersionId': 12722, 'modelId': 10268, 'modelName': 'm_17320_9098', 'modelVersion': '1', 'modelSource': 'Train', 'state': 'Doing', 'modelVersionDesc': '', 'message': '', 'modelTags': None}], 'datasetId': 39814, 'datasetName': '我的数据集>sdk_trainer_ds_test2>V1', 'computeResourceConf': {'vmType': 1, 'vmNumber': 8, 'computeResourceId': '', 'cpu': 0, 'memory': 0}, 'evalStandardConf': {'evalMode': 'manual', 'resultDatasetId': 39815, 'resultDatasetName': '评估任务_model_run_14x8azdccy_结果集_eeee55', 'resultDatasetProjectType': 20, 'resultDatasetImportStatus': 0, 'resultDatasetReleaseStatus': 0, 'evaluationDimension': [{'dimension': '满意度', 'description': '', 'minScore': 0, 'maxScore': 2}], 'blindEvaluationEnable': False, 'evaluationScenario': ''}}})\n",
      "[INFO] [12-08 12:33:05] model.py:326 [t:140481718310720]: current eval_state: Doing\n",
      "[DEBUG] [12-08 12:33:36] model.py:325 [t:140481718310720]: current evaluation task info: QfResponse(code=200, headers={'Date': 'Fri, 08 Dec 2023 04:33:36 GMT', 'Content-Type': 'application/json; charset=utf-8', 'Content-Length': '858', 'tracecode': '20163240961049976330120812', 'Set-Cookie': 'BAIDUID=0E4FCD6697C9151DFE68048F1161BD86:FG=1; expires=Sat, 07-Dec-24 04:33:36 GMT; max-age=31536000; path=/; domain=.baidu.com; version=1', 'P3P': 'CP=\" OTI DSP COR IVA OUR IND COM \"', 'X-Bce-Request-Id': 'e16e7a94-2555-4f34-9a30-f767d4443f66', 'X-Bce-Gateway-Region': 'GZ'}, body={'log_id': '2577593321', 'result': {'evaluationId': 2419, 'name': 'model_run_14x8azdccy', 'description': '', 'state': 'Doing', 'evalUnits': [{'modelVersionId': 12722, 'modelId': 10268, 'modelName': 'm_17320_9098', 'modelVersion': '1', 'modelSource': 'Train', 'state': 'Doing', 'modelVersionDesc': '', 'message': '', 'modelTags': None}], 'datasetId': 39814, 'datasetName': '我的数据集>sdk_trainer_ds_test2>V1', 'computeResourceConf': {'vmType': 1, 'vmNumber': 8, 'computeResourceId': '', 'cpu': 0, 'memory': 0}, 'evalStandardConf': {'evalMode': 'manual', 'resultDatasetId': 39815, 'resultDatasetName': '评估任务_model_run_14x8azdccy_结果集_eeee55', 'resultDatasetProjectType': 20, 'resultDatasetImportStatus': 0, 'resultDatasetReleaseStatus': 0, 'evaluationDimension': [{'dimension': '满意度', 'description': '', 'minScore': 0, 'maxScore': 2}], 'blindEvaluationEnable': False, 'evaluationScenario': ''}}})\n",
      "[INFO] [12-08 12:33:36] model.py:326 [t:140481718310720]: current eval_state: Doing\n",
      "[DEBUG] [12-08 12:34:06] model.py:325 [t:140481718310720]: current evaluation task info: QfResponse(code=200, headers={'Date': 'Fri, 08 Dec 2023 04:34:06 GMT', 'Content-Type': 'application/json; charset=utf-8', 'Content-Length': '858', 'tracecode': '20467702471049976330120812', 'Set-Cookie': 'BAIDUID=4DD42F1D7AA7CF80A9AADEA37C153CD3:FG=1; expires=Sat, 07-Dec-24 04:34:06 GMT; max-age=31536000; path=/; domain=.baidu.com; version=1', 'P3P': 'CP=\" OTI DSP COR IVA OUR IND COM \"', 'X-Bce-Request-Id': 'aeeff951-b0fd-41f6-8b75-e8b9cda51e8f', 'X-Bce-Gateway-Region': 'GZ'}, body={'log_id': '2921236102', 'result': {'evaluationId': 2419, 'name': 'model_run_14x8azdccy', 'description': '', 'state': 'Doing', 'evalUnits': [{'modelVersionId': 12722, 'modelId': 10268, 'modelName': 'm_17320_9098', 'modelVersion': '1', 'modelSource': 'Train', 'state': 'Doing', 'modelVersionDesc': '', 'message': '', 'modelTags': None}], 'datasetId': 39814, 'datasetName': '我的数据集>sdk_trainer_ds_test2>V1', 'computeResourceConf': {'vmType': 1, 'vmNumber': 8, 'computeResourceId': '', 'cpu': 0, 'memory': 0}, 'evalStandardConf': {'evalMode': 'manual', 'resultDatasetId': 39815, 'resultDatasetName': '评估任务_model_run_14x8azdccy_结果集_eeee55', 'resultDatasetProjectType': 20, 'resultDatasetImportStatus': 0, 'resultDatasetReleaseStatus': 0, 'evaluationDimension': [{'dimension': '满意度', 'description': '', 'minScore': 0, 'maxScore': 2}], 'blindEvaluationEnable': False, 'evaluationScenario': ''}}})\n",
      "[INFO] [12-08 12:34:06] model.py:326 [t:140481718310720]: current eval_state: Doing\n",
      "[DEBUG] [12-08 12:34:37] model.py:325 [t:140481718310720]: current evaluation task info: QfResponse(code=200, headers={'Date': 'Fri, 08 Dec 2023 04:34:37 GMT', 'Content-Type': 'application/json; charset=utf-8', 'Content-Length': '858', 'tracecode': '20772198971049976330120812', 'Set-Cookie': 'BAIDUID=7F4AD6C87EA09CA6C73DC9497A620B1F:FG=1; expires=Sat, 07-Dec-24 04:34:37 GMT; max-age=31536000; path=/; domain=.baidu.com; version=1', 'P3P': 'CP=\" OTI DSP COR IVA OUR IND COM \"', 'X-Bce-Request-Id': 'ac179b00-eab6-4216-9122-87ac0095fb93', 'X-Bce-Gateway-Region': 'GZ'}, body={'log_id': '3334865149', 'result': {'evaluationId': 2419, 'name': 'model_run_14x8azdccy', 'description': '', 'state': 'Doing', 'evalUnits': [{'modelVersionId': 12722, 'modelId': 10268, 'modelName': 'm_17320_9098', 'modelVersion': '1', 'modelSource': 'Train', 'state': 'Doing', 'modelVersionDesc': '', 'message': '', 'modelTags': None}], 'datasetId': 39814, 'datasetName': '我的数据集>sdk_trainer_ds_test2>V1', 'computeResourceConf': {'vmType': 1, 'vmNumber': 8, 'computeResourceId': '', 'cpu': 0, 'memory': 0}, 'evalStandardConf': {'evalMode': 'manual', 'resultDatasetId': 39815, 'resultDatasetName': '评估任务_model_run_14x8azdccy_结果集_eeee55', 'resultDatasetProjectType': 20, 'resultDatasetImportStatus': 0, 'resultDatasetReleaseStatus': 0, 'evaluationDimension': [{'dimension': '满意度', 'description': '', 'minScore': 0, 'maxScore': 2}], 'blindEvaluationEnable': False, 'evaluationScenario': ''}}})\n",
      "[INFO] [12-08 12:34:37] model.py:326 [t:140481718310720]: current eval_state: Doing\n",
      "[DEBUG] [12-08 12:35:07] model.py:325 [t:140481718310720]: current evaluation task info: QfResponse(code=200, headers={'Date': 'Fri, 08 Dec 2023 04:35:07 GMT', 'Content-Type': 'application/json; charset=utf-8', 'Content-Length': '858', 'tracecode': '21076256341049976330120812', 'Set-Cookie': 'BAIDUID=C5C58E9C973100DB72F8C4C7B91D4425:FG=1; expires=Sat, 07-Dec-24 04:35:07 GMT; max-age=31536000; path=/; domain=.baidu.com; version=1', 'P3P': 'CP=\" OTI DSP COR IVA OUR IND COM \"', 'X-Bce-Request-Id': '904736ae-9f89-4441-a21d-187a77722b13', 'X-Bce-Gateway-Region': 'GZ'}, body={'log_id': '3664619496', 'result': {'evaluationId': 2419, 'name': 'model_run_14x8azdccy', 'description': '', 'state': 'Doing', 'evalUnits': [{'modelVersionId': 12722, 'modelId': 10268, 'modelName': 'm_17320_9098', 'modelVersion': '1', 'modelSource': 'Train', 'state': 'Doing', 'modelVersionDesc': '', 'message': '', 'modelTags': None}], 'datasetId': 39814, 'datasetName': '我的数据集>sdk_trainer_ds_test2>V1', 'computeResourceConf': {'vmType': 1, 'vmNumber': 8, 'computeResourceId': '', 'cpu': 0, 'memory': 0}, 'evalStandardConf': {'evalMode': 'manual', 'resultDatasetId': 39815, 'resultDatasetName': '评估任务_model_run_14x8azdccy_结果集_eeee55', 'resultDatasetProjectType': 20, 'resultDatasetImportStatus': 0, 'resultDatasetReleaseStatus': 0, 'evaluationDimension': [{'dimension': '满意度', 'description': '', 'minScore': 0, 'maxScore': 2}], 'blindEvaluationEnable': False, 'evaluationScenario': ''}}})\n",
      "[INFO] [12-08 12:35:07] model.py:326 [t:140481718310720]: current eval_state: Doing\n",
      "[DEBUG] [12-08 12:35:38] model.py:325 [t:140481718310720]: current evaluation task info: QfResponse(code=200, headers={'Date': 'Fri, 08 Dec 2023 04:35:38 GMT', 'Content-Type': 'application/json; charset=utf-8', 'Content-Length': '858', 'tracecode': '21380358571049976330120812', 'Set-Cookie': 'BAIDUID=0BC70195349302D4A059BF29023F7C65:FG=1; expires=Sat, 07-Dec-24 04:35:38 GMT; max-age=31536000; path=/; domain=.baidu.com; version=1', 'P3P': 'CP=\" OTI DSP COR IVA OUR IND COM \"', 'X-Bce-Request-Id': 'aa72ddce-fe15-438d-a7e0-f83c1adc610b', 'X-Bce-Gateway-Region': 'GZ'}, body={'log_id': '4034495413', 'result': {'evaluationId': 2419, 'name': 'model_run_14x8azdccy', 'description': '', 'state': 'Doing', 'evalUnits': [{'modelVersionId': 12722, 'modelId': 10268, 'modelName': 'm_17320_9098', 'modelVersion': '1', 'modelSource': 'Train', 'state': 'Doing', 'modelVersionDesc': '', 'message': '', 'modelTags': None}], 'datasetId': 39814, 'datasetName': '我的数据集>sdk_trainer_ds_test2>V1', 'computeResourceConf': {'vmType': 1, 'vmNumber': 8, 'computeResourceId': '', 'cpu': 0, 'memory': 0}, 'evalStandardConf': {'evalMode': 'manual', 'resultDatasetId': 39815, 'resultDatasetName': '评估任务_model_run_14x8azdccy_结果集_eeee55', 'resultDatasetProjectType': 20, 'resultDatasetImportStatus': 0, 'resultDatasetReleaseStatus': 0, 'evaluationDimension': [{'dimension': '满意度', 'description': '', 'minScore': 0, 'maxScore': 2}], 'blindEvaluationEnable': False, 'evaluationScenario': ''}}})\n",
      "[INFO] [12-08 12:35:38] model.py:326 [t:140481718310720]: current eval_state: Doing\n",
      "[DEBUG] [12-08 12:36:08] model.py:325 [t:140481718310720]: current evaluation task info: QfResponse(code=200, headers={'Date': 'Fri, 08 Dec 2023 04:36:08 GMT', 'Content-Type': 'application/json; charset=utf-8', 'Content-Length': '858', 'tracecode': '21684890381049976330120812', 'Set-Cookie': 'BAIDUID=088A7786CA93C14E2E63ADC21BCB149A:FG=1; expires=Sat, 07-Dec-24 04:36:08 GMT; max-age=31536000; path=/; domain=.baidu.com; version=1', 'P3P': 'CP=\" OTI DSP COR IVA OUR IND COM \"', 'X-Bce-Request-Id': '5857dd85-e251-4363-9cd7-97d5a0492a9f', 'X-Bce-Gateway-Region': 'GZ'}, body={'log_id': '2252129184', 'result': {'evaluationId': 2419, 'name': 'model_run_14x8azdccy', 'description': '', 'state': 'Doing', 'evalUnits': [{'modelVersionId': 12722, 'modelId': 10268, 'modelName': 'm_17320_9098', 'modelVersion': '1', 'modelSource': 'Train', 'state': 'Doing', 'modelVersionDesc': '', 'message': '', 'modelTags': None}], 'datasetId': 39814, 'datasetName': '我的数据集>sdk_trainer_ds_test2>V1', 'computeResourceConf': {'vmType': 1, 'vmNumber': 8, 'computeResourceId': '', 'cpu': 0, 'memory': 0}, 'evalStandardConf': {'evalMode': 'manual', 'resultDatasetId': 39815, 'resultDatasetName': '评估任务_model_run_14x8azdccy_结果集_eeee55', 'resultDatasetProjectType': 20, 'resultDatasetImportStatus': 0, 'resultDatasetReleaseStatus': 0, 'evaluationDimension': [{'dimension': '满意度', 'description': '', 'minScore': 0, 'maxScore': 2}], 'blindEvaluationEnable': False, 'evaluationScenario': ''}}})\n",
      "[INFO] [12-08 12:36:08] model.py:326 [t:140481718310720]: current eval_state: Doing\n",
      "[DEBUG] [12-08 12:36:38] model.py:325 [t:140481718310720]: current evaluation task info: QfResponse(code=200, headers={'Date': 'Fri, 08 Dec 2023 04:36:38 GMT', 'Content-Type': 'application/json; charset=utf-8', 'Content-Length': '858', 'tracecode': '21989243411049976330120812', 'Set-Cookie': 'BAIDUID=A58AF7A88F82059222491AED04FE92E7:FG=1; expires=Sat, 07-Dec-24 04:36:38 GMT; max-age=31536000; path=/; domain=.baidu.com; version=1', 'P3P': 'CP=\" OTI DSP COR IVA OUR IND COM \"', 'X-Bce-Request-Id': '93d7898d-2dd1-448e-9e50-3c726358f676', 'X-Bce-Gateway-Region': 'GZ'}, body={'log_id': '2647402673', 'result': {'evaluationId': 2419, 'name': 'model_run_14x8azdccy', 'description': '', 'state': 'Doing', 'evalUnits': [{'modelVersionId': 12722, 'modelId': 10268, 'modelName': 'm_17320_9098', 'modelVersion': '1', 'modelSource': 'Train', 'state': 'Doing', 'modelVersionDesc': '', 'message': '', 'modelTags': None}], 'datasetId': 39814, 'datasetName': '我的数据集>sdk_trainer_ds_test2>V1', 'computeResourceConf': {'vmType': 1, 'vmNumber': 8, 'computeResourceId': '', 'cpu': 0, 'memory': 0}, 'evalStandardConf': {'evalMode': 'manual', 'resultDatasetId': 39815, 'resultDatasetName': '评估任务_model_run_14x8azdccy_结果集_eeee55', 'resultDatasetProjectType': 20, 'resultDatasetImportStatus': 0, 'resultDatasetReleaseStatus': 0, 'evaluationDimension': [{'dimension': '满意度', 'description': '', 'minScore': 0, 'maxScore': 2}], 'blindEvaluationEnable': False, 'evaluationScenario': ''}}})\n",
      "[INFO] [12-08 12:36:38] model.py:326 [t:140481718310720]: current eval_state: Doing\n",
      "[DEBUG] [12-08 12:37:09] model.py:325 [t:140481718310720]: current evaluation task info: QfResponse(code=200, headers={'Date': 'Fri, 08 Dec 2023 04:37:09 GMT', 'Content-Type': 'application/json; charset=utf-8', 'Content-Length': '858', 'tracecode': '22297225751049976330120812', 'Set-Cookie': 'BAIDUID=55EE1E0F6495CD84F0FCE80B7E127164:FG=1; expires=Sat, 07-Dec-24 04:37:09 GMT; max-age=31536000; path=/; domain=.baidu.com; version=1', 'P3P': 'CP=\" OTI DSP COR IVA OUR IND COM \"', 'X-Bce-Request-Id': '15287d63-f968-46d3-ac82-d04550f5cc3b', 'X-Bce-Gateway-Region': 'GZ'}, body={'log_id': '3010595818', 'result': {'evaluationId': 2419, 'name': 'model_run_14x8azdccy', 'description': '', 'state': 'Doing', 'evalUnits': [{'modelVersionId': 12722, 'modelId': 10268, 'modelName': 'm_17320_9098', 'modelVersion': '1', 'modelSource': 'Train', 'state': 'Doing', 'modelVersionDesc': '', 'message': '', 'modelTags': None}], 'datasetId': 39814, 'datasetName': '我的数据集>sdk_trainer_ds_test2>V1', 'computeResourceConf': {'vmType': 1, 'vmNumber': 8, 'computeResourceId': '', 'cpu': 0, 'memory': 0}, 'evalStandardConf': {'evalMode': 'manual', 'resultDatasetId': 39815, 'resultDatasetName': '评估任务_model_run_14x8azdccy_结果集_eeee55', 'resultDatasetProjectType': 20, 'resultDatasetImportStatus': 0, 'resultDatasetReleaseStatus': 0, 'evaluationDimension': [{'dimension': '满意度', 'description': '', 'minScore': 0, 'maxScore': 2}], 'blindEvaluationEnable': False, 'evaluationScenario': ''}}})\n",
      "[INFO] [12-08 12:37:09] model.py:326 [t:140481718310720]: current eval_state: Doing\n",
      "[DEBUG] [12-08 12:37:40] model.py:325 [t:140481718310720]: current evaluation task info: QfResponse(code=200, headers={'Date': 'Fri, 08 Dec 2023 04:37:40 GMT', 'Content-Type': 'application/json; charset=utf-8', 'Content-Length': '858', 'tracecode': '22605743621049976330120812', 'Set-Cookie': 'BAIDUID=DDBCB102C4037B937277EAB1D0FC9CF2:FG=1; expires=Sat, 07-Dec-24 04:37:40 GMT; max-age=31536000; path=/; domain=.baidu.com; version=1', 'P3P': 'CP=\" OTI DSP COR IVA OUR IND COM \"', 'X-Bce-Request-Id': '1dcb2dc1-4b23-4156-9636-27629706a4ed', 'X-Bce-Gateway-Region': 'GZ'}, body={'log_id': '3749011177', 'result': {'evaluationId': 2419, 'name': 'model_run_14x8azdccy', 'description': '', 'state': 'Doing', 'evalUnits': [{'modelVersionId': 12722, 'modelId': 10268, 'modelName': 'm_17320_9098', 'modelVersion': '1', 'modelSource': 'Train', 'state': 'Doing', 'modelVersionDesc': '', 'message': '', 'modelTags': None}], 'datasetId': 39814, 'datasetName': '我的数据集>sdk_trainer_ds_test2>V1', 'computeResourceConf': {'vmType': 1, 'vmNumber': 8, 'computeResourceId': '', 'cpu': 0, 'memory': 0}, 'evalStandardConf': {'evalMode': 'manual', 'resultDatasetId': 39815, 'resultDatasetName': '评估任务_model_run_14x8azdccy_结果集_eeee55', 'resultDatasetProjectType': 20, 'resultDatasetImportStatus': 0, 'resultDatasetReleaseStatus': 0, 'evaluationDimension': [{'dimension': '满意度', 'description': '', 'minScore': 0, 'maxScore': 2}], 'blindEvaluationEnable': False, 'evaluationScenario': ''}}})\n",
      "[INFO] [12-08 12:37:40] model.py:326 [t:140481718310720]: current eval_state: Doing\n",
      "[DEBUG] [12-08 12:38:12] model.py:325 [t:140481718310720]: current evaluation task info: QfResponse(code=200, headers={'Date': 'Fri, 08 Dec 2023 04:38:12 GMT', 'Content-Type': 'application/json; charset=utf-8', 'Content-Length': '859', 'tracecode': '22924081731049976330120812', 'Set-Cookie': 'BAIDUID=B9317B4ADBC19F18BE1D10BDEADE14B7:FG=1; expires=Sat, 07-Dec-24 04:38:12 GMT; max-age=31536000; path=/; domain=.baidu.com; version=1', 'P3P': 'CP=\" OTI DSP COR IVA OUR IND COM \"', 'X-Bce-Request-Id': 'a2198e44-dfe6-4c11-a780-f5bb57c6fc63', 'X-Bce-Gateway-Region': 'GZ'}, body={'log_id': '2362259261', 'result': {'evaluationId': 2419, 'name': 'model_run_14x8azdccy', 'description': '', 'state': 'Doing', 'evalUnits': [{'modelVersionId': 12722, 'modelId': 10268, 'modelName': 'm_17320_9098', 'modelVersion': '1', 'modelSource': 'Train', 'state': 'Doing', 'modelVersionDesc': '', 'message': '', 'modelTags': None}], 'datasetId': 39814, 'datasetName': '我的数据集>sdk_trainer_ds_test2>V1', 'computeResourceConf': {'vmType': 1, 'vmNumber': 8, 'computeResourceId': '', 'cpu': 0, 'memory': 0}, 'evalStandardConf': {'evalMode': 'manual', 'resultDatasetId': 39815, 'resultDatasetName': '评估任务_model_run_14x8azdccy_结果集_eeee55', 'resultDatasetProjectType': 20, 'resultDatasetImportStatus': -1, 'resultDatasetReleaseStatus': 0, 'evaluationDimension': [{'dimension': '满意度', 'description': '', 'minScore': 0, 'maxScore': 2}], 'blindEvaluationEnable': False, 'evaluationScenario': ''}}})\n",
      "[INFO] [12-08 12:38:12] model.py:326 [t:140481718310720]: current eval_state: Doing\n",
      "[DEBUG] [12-08 12:38:42] model.py:325 [t:140481718310720]: current evaluation task info: QfResponse(code=200, headers={'Date': 'Fri, 08 Dec 2023 04:38:42 GMT', 'Content-Type': 'application/json; charset=utf-8', 'Content-Length': '873', 'tracecode': '23229122391049976330120812', 'Set-Cookie': 'BAIDUID=D376AA1129998CF880D90EE5EA7F09AC:FG=1; expires=Sat, 07-Dec-24 04:38:42 GMT; max-age=31536000; path=/; domain=.baidu.com; version=1', 'P3P': 'CP=\" OTI DSP COR IVA OUR IND COM \"', 'X-Bce-Request-Id': '030fca17-b0d0-491b-ac22-0f90797e8e62', 'X-Bce-Gateway-Region': 'GZ'}, body={'log_id': '4218124587', 'result': {'evaluationId': 2419, 'name': 'model_run_14x8azdccy', 'description': '', 'state': 'DoingWithManualBegin', 'evalUnits': [{'modelVersionId': 12722, 'modelId': 10268, 'modelName': 'm_17320_9098', 'modelVersion': '1', 'modelSource': 'Train', 'state': 'Doing', 'modelVersionDesc': '', 'message': '', 'modelTags': None}], 'datasetId': 39814, 'datasetName': '我的数据集>sdk_trainer_ds_test2>V1', 'computeResourceConf': {'vmType': 1, 'vmNumber': 8, 'computeResourceId': '', 'cpu': 0, 'memory': 0}, 'evalStandardConf': {'evalMode': 'manual', 'resultDatasetId': 39815, 'resultDatasetName': '评估任务_model_run_14x8azdccy_结果集_eeee55', 'resultDatasetProjectType': 20, 'resultDatasetImportStatus': 2, 'resultDatasetReleaseStatus': 0, 'evaluationDimension': [{'dimension': '满意度', 'description': '', 'minScore': 0, 'maxScore': 2}], 'blindEvaluationEnable': False, 'evaluationScenario': ''}}})\n",
      "[INFO] [12-08 12:38:42] model.py:326 [t:140481718310720]: current eval_state: DoingWithManualBegin\n",
      "[INFO] [12-08 12:38:42] model.py:344 [t:140481718310720]: get result dataset id 39815\n",
      "[INFO] [12-08 12:38:42] dataset.py:353 [t:140481718310720]: no data source was provided, construct\n",
      "[INFO] [12-08 12:38:42] dataset.py:255 [t:140481718310720]: construct a qianfan data source from existed id: 39815, with args: {}\n",
      "[INFO] [12-08 12:38:43] data_source.py:1022 [t:140481718310720]: start to fetch dataset cache because is_download_to_local is set\n",
      "[INFO] [12-08 12:38:44] data_source.py:635 [t:140481718310720]: no cache was found, download cache\n",
      "[INFO] [12-08 12:38:44] data_source.py:525 [t:140481718310720]: get dataset info succeeded for dataset id 39815\n",
      "[INFO] [12-08 12:38:44] data_source.py:533 [t:140481718310720]: start to export dataset\n",
      "[INFO] [12-08 12:38:45] data_source.py:537 [t:140481718310720]: create dataset export task successfully\n",
      "[INFO] [12-08 12:38:47] data_source.py:542 [t:140481718310720]: polling export task status\n",
      "[INFO] [12-08 12:38:48] data_source.py:550 [t:140481718310720]: export status: 1, keep polling\n",
      "[INFO] [12-08 12:38:50] data_source.py:542 [t:140481718310720]: polling export task status\n",
      "[INFO] [12-08 12:38:53] data_source.py:550 [t:140481718310720]: export status: 1, keep polling\n",
      "[INFO] [12-08 12:38:55] data_source.py:542 [t:140481718310720]: polling export task status\n",
      "[INFO] [12-08 12:38:55] data_source.py:550 [t:140481718310720]: export status: 1, keep polling\n",
      "[INFO] [12-08 12:38:57] data_source.py:542 [t:140481718310720]: polling export task status\n",
      "[INFO] [12-08 12:38:58] data_source.py:550 [t:140481718310720]: export status: 1, keep polling\n",
      "[INFO] [12-08 12:39:00] data_source.py:542 [t:140481718310720]: polling export task status\n",
      "[INFO] [12-08 12:39:02] data_source.py:550 [t:140481718310720]: export status: 1, keep polling\n",
      "[INFO] [12-08 12:39:04] data_source.py:542 [t:140481718310720]: polling export task status\n",
      "[INFO] [12-08 12:39:05] data_source.py:547 [t:140481718310720]: export succeed\n",
      "[INFO] [12-08 12:39:06] data_source.py:498 [t:140481718310720]: get export records succeeded for dataset id 39815\n",
      "[INFO] [12-08 12:39:06] data_source.py:514 [t:140481718310720]: latest dataset with time2023-12-08 12:39:02 for dataset id 12100\n",
      "[INFO] [12-08 12:39:06] data_source.py:563 [t:140481718310720]: start to download dataset zip from url https://bj.bcebos.com/easydata-upload/export_local/%E8%AF%84%E4%BC%B0%E4%BB%BB%E5%8A%A1_model_run_14x8azdccy_%E7%BB%93%E6%9E%9C%E9%9B%86_eeee55V1_20231208_123845.zip?authorization=bce-auth-v1%2F50c8bb753dcb4e1d8646bb1ffefd3503%2F2023-12-08T04%3A39%3A06Z%2F3600%2Fhost%2F5f6453dd8ccc7b239fd8487518b2356773c10e53e8437becef2549b8cbf15643\n",
      "[INFO] [12-08 12:39:06] data_source.py:582 [t:140481718310720]: download dataset zip to .qianfan_dataset_cache/32768/39815/1/bin.zip succeeded\n",
      "[INFO] [12-08 12:39:06] data_source.py:610 [t:140481718310720]: unzip dataset to path .qianfan_dataset_cache/32768/39815/1/content successfully\n",
      "[INFO] [12-08 12:39:06] data_source.py:614 [t:140481718310720]: write dataset info to path .qianfan_dataset_cache/32768/39815/1/info.json successfully\n",
      "[DEBUG] [12-08 12:39:08] dataset.py:119 [t:140481718310720]: content (type: FormatType.Jsonl) fetched from data source: \n",
      "[{\"source_entity_id\": \"9bd590018798b24ca3da4025b232543cb7c132d747b779a716c4e7315464ed66\", \"model_response\": [{\"model_version_id\": 12722, \"tag\": \"m_17320_9098>V1\", \"content\": \"结果涉及的地区是石化双雄（尤其是中石化）的炼油损逐月扩大、成品油销售受阻并且出现库存跌价。\"}], \"response\": [[\"从以上文本中我们暂无发现。\"]], \"prompt\": \"下文中市场价格下降导致销量（消费）减少事件对应的结果涉及的地区是？而发改委分别在5月10日和6月9日对国内汽柴油价格进行了下调，汽油和柴油零售价格分别累计下调了860和820元/吨，导致石化双雄（尤其是中石化）不仅炼油损逐月扩大、成品油销售受阻并且出现库存跌价\"}]\n",
      "[{\"source_entity_id\": \"3bff9181682936b0de808580d0d29b6f72f5227e8a9441eff73ee709bcd16322\", \"model_response\": [{\"model_version_id\": 12722, \"tag\": \"m_17320_9098>V1\", \"content\": \"无法推理出具体涉及的地区。\"}], \"response\": [[\"国内\"]], \"prompt\": \"下文中市场价格下降导致市场价格下降事件对应的结果涉及的地区是？在国际奶粉价格下降压力下,国内奶价仍有下降空间\"}]\n",
      "[{\"source_entity_id\": \"fc6708f44bc7e66fe802857a16c4ad947a1593161187a89ecd5054176914c505\", \"model_response\": [{\"model_version_id\": 12722, \"tag\": \"m_17320_9098>V1\", \"content\": \"因果事件：\\n- 原因：寒潮\\n- 结果：农产品价格继续攀升\"}], \"response\": [[\"寒潮导致市场价格提升\"]], \"prompt\": \"下文中有哪些因果事件？寒潮导致农产品价格继续攀升\"}]\n",
      "[{\"source_entity_id\": \"2d469d3fb6dea6e5ca6a1c7c0e91dceee6f918b495e22bedd1b496fc3f92147f\", \"model_response\": [{\"model_version_id\": 12722, \"tag\": \"m_17320_9098>V1\", \"content\": \"下文中需求增加导致市场价格提升事件对应的结果涉及的产品是高碳铬铁。\"}], \"response\": [[\"高碳铬铁\"]], \"prompt\": \"下文中需求增加导致市场价格提升事件对应的结果涉及的产品是？随着供应缩减，需求回升，高碳铬铁价格企稳回升，预期短期内或仍维持偏强态势，但高碳铬铁产能依然偏向过剩，后期价格弹升空间有限\"}]\n",
      "[{\"source_entity_id\": \"b7e4ea8632312142d853344214d34256d20a10d9fb890a81417a2ea9d2e70f04\", \"model_response\": [{\"model_version_id\": 12722, \"tag\": \"m_17320_9098>V1\", \"content\": \"根据上下文，需求增加导致市场价格上涨的事件涉及的产品是高碳铬铁。\"}], \"response\": [[\"高碳铬铁\"]], \"prompt\": \"下文中需求增加导致市场价格提升事件对应的原因涉及的产品是？随着供应缩减，需求回升，高碳铬铁价格企稳回升，预期短期内或仍维持偏强态势，但高碳铬铁产能依然偏向过剩，后期价格弹升空间有限\"}]\n",
      "[{\"source_entity_id\": \"6a3944e075cab0d524d9e7aac4e81048209e82c0fd68f5f43619d1f6b3820ffc\", \"model_response\": [{\"model_version_id\": 12722, \"tag\": \"m_17320_9098>V1\", \"content\": \"- 产品：煤炭\\n- 原因：煤炭价格大幅上涨\"}], \"response\": [[\"煤炭\"]], \"prompt\": \"下文中市场价格提升导致运营成本提升事件对应的原因涉及的产品是？利润和每股收益大幅下降的主要原因是煤炭价格大幅上涨，导致公司投资的火电企业的煤炭成本大幅增加###但报告期内受煤炭行业去产能改革的影响，公司煤炭前三季度平均采购价格同比上涨44.53%，导致成本涨幅抵消了销售价格的涨幅\"}]\n",
      "[{\"source_entity_id\": \"b8367703571f8e60b84c4cea5b27c82a212d3c58fb934f77588489641d7ec154\", \"model_response\": [{\"model_version_id\": 12722, \"tag\": \"m_17320_9098>V1\", \"content\": \"因果事件：\\n- 供求宽松：南美大豆供求宽松\\n- 价格：豆类油脂价格\\n\\n因此，因果事件可以表示为：南美大豆供求宽松对豆类油脂价格利空。\"}], \"response\": [[\"供给增加导致负向影响\"]], \"prompt\": \"下文中有哪些因果事件？南美大豆供求宽松对豆类油脂价格利空\"}]\n",
      "[{\"source_entity_id\": \"85b555f4d1b9562609c46dfbd99bf23d4b5a7993d3729de8e36b0d0b471367b4\", \"model_response\": [{\"model_version_id\": 12722, \"tag\": \"m_17320_9098>V1\", \"content\": \"- 产品：煤炭\\n- 利润和每股收益大幅下降的主要原因是：煤炭价格大幅上涨，导致公司投资的火电企业的煤炭成本大幅增加\"}], \"response\": [[\"煤炭\"]], \"prompt\": \"下文中市场价格提升导致运营成本提升事件对应的结果涉及的产品是？利润和每股收益大幅下降的主要原因是煤炭价格大幅上涨，导致公司投资的火电企业的煤炭成本大幅增加###但报告期内受煤炭行业去产能改革的影响，公司煤炭前三季度平均采购价格同比上涨44.53%，导致成本涨幅抵消了销售价格的涨幅\"}]\n",
      "[{\"source_entity_id\": \"4c22af1fc07c5fd051860c35c6cdd140a314a6657c3f223dc53e381acbb84d8b\", \"model_response\": [{\"model_version_id\": 12722, \"tag\": \"m_17320_9098>V1\", \"content\": \"下文中供给减少导致市场价格提升事件对应的结果涉及的产品是：\\n\\n* 原油价格大幅上涨\"}], \"response\": [[\"原油\"]], \"prompt\": \"下文中供给减少导致市场价格提升事件对应的结果涉及的产品是？东南亚棕榈油减产,原油价格大幅上涨###东南亚棕榈油减产,原油价格大幅上涨###东南亚棕榈油减产，原油价格大幅上涨###东南亚棕榈油减产，原油价格大幅上涨###东南亚棕榈油减产,原油价格大幅上涨###东南亚棕榈油减产，原油价格大幅上涨###东南亚棕榈油减产,原油价格大幅上涨###东南亚棕榈油减产,原油价格大幅上涨###东南亚棕榈油减产,原油价格大幅上涨\"}]\n",
      "[{\"source_entity_id\": \"5dc926ffd2c45cfad798c4a713ec55f471b107be9ff7a62dd1d234a62d8db11f\", \"model_response\": [{\"model_version_id\": 12722, \"tag\": \"m_17320_9098>V1\", \"content\": \"根据上下文描述，市场价格下降导致销量（消费）减少事件对应的原因涉及的产品是汽柴油。发改委在5月10日和6月9日对国内汽柴油价格进行了下调，导致石化双雄（尤其是中石化）不仅炼油损逐月扩大、成品油销售受阻并且出现库存跌价。因此，可以得出结论：汽柴油是导致市场价格下降导致销量（消费）减少事件对应的原因涉及的产品。\"}], \"response\": [[\"汽油,柴油\"]], \"prompt\": \"下文中市场价格下降导致销量（消费）减少事件对应的原因涉及的产品是？而发改委分别在5月10日和6月9日对国内汽柴油价格进行了下调，汽油和柴油零售价格分别累计下调了860和820元/吨，导致石化双雄（尤其是中石化）不仅炼油损逐月扩大、成品油销售受阻并且出现库存跌价\"}]\n",
      "[{\"source_entity_id\": \"32cc806d693c3e1990faa6062012387fc52d717e0bce757315ce9d780e2cfadc\", \"model_response\": [{\"model_version_id\": 12722, \"tag\": \"m_17320_9098>V1\", \"content\": \"- 产品：7-ACA\"}], \"response\": [[\"原料药\"]], \"prompt\": \"下文中市场价格下降导致市场价格下降事件对应的结果涉及的产品是？但由于7-ACA市场价格大幅下跌，跌幅超过50%，导致公司相关原料药销售价格随之下跌\"}]\n",
      "[{\"source_entity_id\": \"8c056bc81f6b5899a4144d155f9dfcb3d28e0807f966a2593f70f85dd7eaf989\", \"model_response\": [{\"model_version_id\": 12722, \"tag\": \"m_17320_9098>V1\", \"content\": \"南美大豆供求宽松对豆类油脂价格利空，这是因为南美大豆供应增加，导致全球大豆供应过剩，从而对豆类油脂价格产生负面影响。\"}], \"response\": [[\"南美\"]], \"prompt\": \"下文中供给增加导致负向影响事件对应的原因涉及的地区是？南美大豆供求宽松对豆类油脂价格利空\"}]\n",
      "[{\"source_entity_id\": \"40ad7274cca92e2b1fcec6c0c865d91be73258095251bbff36d831c550ff11d7\", \"model_response\": [{\"model_version_id\": 12722, \"tag\": \"m_17320_9098>V1\", \"content\": \"由于7-ACA市场价格大幅下跌，跌幅超过50%，导致公司相关原料药销售价格随之下跌。\"}], \"response\": [[\"暂不清楚，需要更多信息说明。\"]], \"prompt\": \"下文中市场价格下降导致市场价格下降事件对应的结果涉及的行业是？但由于7-ACA市场价格大幅下跌，跌幅超过50%，导致公司相关原料药销售价格随之下跌\"}]\n",
      "[{\"source_entity_id\": \"f63445156574736f818d80a217fffde44adc43b5732a11e68c0e92b5a75bcb37\", \"model_response\": [{\"model_version_id\": 12722, \"tag\": \"m_17320_9098>V1\", \"content\": \"东南亚棕榈油减产是导致原油价格大幅上涨的原因，因此涉及的地区是东南亚。\"}], \"response\": [[\"东南亚\"]], \"prompt\": \"下文中供给减少导致市场价格提升事件对应的原因涉及的地区是？东南亚棕榈油减产,原油价格大幅上涨###东南亚棕榈油减产,原油价格大幅上涨###东南亚棕榈油减产，原油价格大幅上涨###东南亚棕榈油减产，原油价格大幅上涨###东南亚棕榈油减产,原油价格大幅上涨###东南亚棕榈油减产，原油价格大幅上涨###东南亚棕榈油减产,原油价格大幅上涨###东南亚棕榈油减产,原油价格大幅上涨###东南亚棕榈油减产,原油价格大幅上涨\"}]\n",
      "[{\"source_entity_id\": \"659d72887b4d42de1fe10139572394aae52a956e2854c21d532e2bf0548b7d0c\", \"model_response\": [{\"model_version_id\": 12722, \"tag\": \"m_17320_9098>V1\", \"content\": \"风险因素：国内外因天气等自然灾害导致用肥量锐减。\\n\\n- 产品：肥料\"}], \"response\": [[\"肥\"]], \"prompt\": \"下文中其他自然灾害导致需求减少事件对应的结果涉及的产品是？风险因素:国内外因天气等自然灾害导致用肥量锐减\"}]\n",
      "[{\"source_entity_id\": \"95144fa1294e47937ceec5cf04d8d3bcdac8665dc9cbdc50f330ce622518e52b\", \"model_response\": [{\"model_version_id\": 12722, \"tag\": \"m_17320_9098>V1\", \"content\": \"产品：农产品\"}], \"response\": [[\"农产品\"]], \"prompt\": \"下文中寒潮导致市场价格提升事件对应的结果涉及的产品是？寒潮导致农产品价格继续攀升\"}]\n",
      "[{\"source_entity_id\": \"f06935306bce59d7f29e3c403161c5a72042b360b6d6f5dcdca0818f9e27840d\", \"model_response\": [{\"model_version_id\": 12722, \"tag\": \"m_17320_9098>V1\", \"content\": \"因果事件：\\n- 供应缩减：高碳铬铁价格企稳回升\\n- 需求回升：高碳铬铁价格企稳回升\\n- 高碳铬铁价格企稳回升：供应缩减、需求回升\\n- 产能过剩：高碳铬铁价格弹升空间有限\"}], \"response\": [[\"需求增加导致市场价格提升\"]], \"prompt\": \"下文中有哪些因果事件？随着供应缩减，需求回升，高碳铬铁价格企稳回升，预期短期内或仍维持偏强态势，但高碳铬铁产能依然偏向过剩，后期价格弹升空间有限\"}]\n",
      "[{\"source_entity_id\": \"18c81d2877b2609f8a5e7eb152703672839c4c1a5d85b6cbee95d2420cfc585f\", \"model_response\": [{\"model_version_id\": 12722, \"tag\": \"m_17320_9098>V1\", \"content\": \"产品：7-ACA。\"}], \"response\": [[\"7-ACA\"]], \"prompt\": \"下文中市场价格下降导致市场价格下降事件对应的原因涉及的产品是？但由于7-ACA市场价格大幅下跌，跌幅超过50%，导致公司相关原料药销售价格随之下跌\"}]\n",
      "[{\"source_entity_id\": \"ad33ea7a54d4f5ed394aa4e7051be4f0c0b650df44bd22e43948e1ffe64abe8e\", \"model_response\": [{\"model_version_id\": 12722, \"tag\": \"m_17320_9098>V1\", \"content\": \"因果事件：\\n- 原因：7-ACA市场价格大幅下跌\\n- 结果：公司相关原料药销售价格随之下跌\"}], \"response\": [[\"市场价格下降导致市场价格下降\"]], \"prompt\": \"下文中有哪些因果事件？但由于7-ACA市场价格大幅下跌，跌幅超过50%，导致公司相关原料药销售价格随之下跌\"}]\n",
      "[{\"source_entity_id\": \"acc26b5155cd9fbf88f7cd1a83cb325bf18669f6702d656143655d8b18501b9c\", \"model_response\": [{\"model_version_id\": 12722, \"tag\": \"m_17320_9098>V1\", \"content\": \"因果事件：\\n- 东南亚棕榈油减产：原油价格大幅上涨\"}], \"response\": [[\"供给减少导致市场价格提升\"]], \"prompt\": \"下文中有哪些因果事件？东南亚棕榈油减产,原油价格大幅上涨###东南亚棕榈油减产,原油价格大幅上涨###东南亚棕榈油减产，原油价格大幅上涨###东南亚棕榈油减产，原油价格大幅上涨###东南亚棕榈油减产,原油价格大幅上涨###东南亚棕榈油减产，原油价格大幅上涨###东南亚棕榈油减产,原油价格大幅上涨###东南亚棕榈油减产,原油价格大幅上涨###东南亚棕榈油减产,原油价格大幅上涨\"}]\n",
      "[{\"source_entity_id\": \"bcc35e9bacacdb6541591af21b36650c1f60efbe6f7fbe076c793ab5d5479fcc\", \"model_response\": [{\"model_version_id\": 12722, \"tag\": \"m_17320_9098>V1\", \"content\": \"因果事件：\\n- 因果事件：煤炭价格大幅上涨\\n\\t- 原因：利润和每股收益大幅下降\\n\\t- 原因：公司投资的火电企业的煤炭成本大幅增加\\n- 因果事件：煤炭行业去产能改革\\n\\t- 原因：公司煤炭前三季度平均采购价格同比上涨44.53%\\n\\t- 原因：成本涨幅抵消了销售价格的涨幅\"}], \"response\": [[\"市场价格提升导致运营成本提升\"]], \"prompt\": \"下文中有哪些因果事件？利润和每股收益大幅下降的主要原因是煤炭价格大幅上涨，导致公司投资的火电企业的煤炭成本大幅增加###但报告期内受煤炭行业去产能改革的影响，公司煤炭前三季度平均采购价格同比上涨44.53%，导致成本涨幅抵消了销售价格的涨幅\"}]\n",
      "[{\"source_entity_id\": \"43d24d918e75bde32dcc9e6e4c00cc549242950404c744c790b7f39669be3bd3\", \"model_response\": [{\"model_version_id\": 12722, \"tag\": \"m_17320_9098>V1\", \"content\": \"没有因果事件可以返回。\"}], \"response\": [[\"其他自然灾害导致需求减少\"]], \"prompt\": \"下文中有哪些因果事件？风险因素:国内外因天气等自然灾害导致用肥量锐减\"}]\n",
      "[{\"source_entity_id\": \"6b641a4720836a260300bbe745401d30084ff355ad2ff50cf261fed0de9e3622\", \"model_response\": [{\"model_version_id\": 12722, \"tag\": \"m_17320_9098>V1\", \"content\": \"豆类油脂产品。\"}], \"response\": [[\"大豆\"]], \"prompt\": \"下文中供给增加导致负向影响事件对应的原因涉及的产品是？南美大豆供求宽松对豆类油脂价格利空\"}]\n",
      "[{\"source_entity_id\": \"72c11bbe986dfed3313553920252e25623de875247c6c639573c75acaf6fbf6a\", \"model_response\": [{\"model_version_id\": 12722, \"tag\": \"m_17320_9098>V1\", \"content\": \"豆类油脂产品。\\n\\n题干中提到南美大豆供求宽松对豆类油脂价格产生负向影响，因此可以推断出该事件涉及的产品是豆类油脂产品。\"}], \"response\": [[\"豆类油脂\"]], \"prompt\": \"下文中供给增加导致负向影响事件对应的结果涉及的产品是？南美大豆供求宽松对豆类油脂价格利空\"}]\n",
      "[{\"source_entity_id\": \"a7fc56ddd546dc70bcf3692a5d2ae71eecb30a5bd244d7f0164e46423a00decc\", \"model_response\": [{\"model_version_id\": 12722, \"tag\": \"m_17320_9098>V1\", \"content\": \"根据上文描述，煤炭价格大幅上涨是导致公司投资的火电企业的煤炭成本大幅增加的原因，因此涉及的行业是煤炭行业。\"}], \"response\": [[\"以上内容暂无说明。\"]], \"prompt\": \"下文中市场价格提升导致运营成本提升事件对应的原因涉及的行业是？利润和每股收益大幅下降的主要原因是煤炭价格大幅上涨，导致公司投资的火电企业的煤炭成本大幅增加###但报告期内受煤炭行业去产能改革的影响，公司煤炭前三季度平均采购价格同比上涨44.53%，导致成本涨幅抵消了销售价格的涨幅\"}]\n",
      "[{\"source_entity_id\": \"0b73b52d54e57a1f876bfcc2546bda42271f97966f57363c2f7315056d0a19d9\", \"model_response\": [{\"model_version_id\": 12722, \"tag\": \"m_17320_9098>V1\", \"content\": \"- 产品：奶粉\"}], \"response\": [[\"奶\"]], \"prompt\": \"下文中市场价格下降导致市场价格下降事件对应的结果涉及的产品是？在国际奶粉价格下降压力下,国内奶价仍有下降空间\"}]\n",
      "[{\"source_entity_id\": \"a814c1dcd1efb99fb6b93bdcaf256d3b6772165bdff45bb9001b239aa63f7828\", \"model_response\": [{\"model_version_id\": 12722, \"tag\": \"m_17320_9098>V1\", \"content\": \"结果：\\n- 产品：成品油\\n\\n事件：\\n- 发生时间：5月10日、6月9日\\n- 降价主体：发改委\\n- 降价对象：国内汽柴油价格\\n- 降价幅度：860元/吨、820元/吨\\n- 影响：石化双雄（尤其是中石化）不仅炼油损逐月扩大、成品油销售受阻并且出现库存跌价\"}], \"response\": [[\"成品油\"]], \"prompt\": \"下文中市场价格下降导致销量（消费）减少事件对应的结果涉及的产品是？而发改委分别在5月10日和6月9日对国内汽柴油价格进行了下调，汽油和柴油零售价格分别累计下调了860和820元/吨，导致石化双雄（尤其是中石化）不仅炼油损逐月扩大、成品油销售受阻并且出现库存跌价\"}]\n",
      "[{\"source_entity_id\": \"2b725fe7379b039ca9b1056a0dbf8eca674762afcc1ba42bf2068b7488aec94f\", \"model_response\": [{\"model_version_id\": 12722, \"tag\": \"m_17320_9098>V1\", \"content\": \"根据所提供的信息，事件的原因涉及产品是“棕榈油”。\"}], \"response\": [[\"棕榈油\"]], \"prompt\": \"下文中供给减少导致市场价格提升事件对应的原因涉及的产品是？东南亚棕榈油减产,原油价格大幅上涨###东南亚棕榈油减产,原油价格大幅上涨###东南亚棕榈油减产，原油价格大幅上涨###东南亚棕榈油减产，原油价格大幅上涨###东南亚棕榈油减产,原油价格大幅上涨###东南亚棕榈油减产，原油价格大幅上涨###东南亚棕榈油减产,原油价格大幅上涨###东南亚棕榈油减产,原油价格大幅上涨###东南亚棕榈油减产,原油价格大幅上涨\"}]\n",
      "[{\"source_entity_id\": \"06afea01907cf40a7ec72e53bf0a35f7763ad388ca6c5a1eacf20c3d28212879\", \"model_response\": [{\"model_version_id\": 12722, \"tag\": \"m_17320_9098>V1\", \"content\": \"很抱歉，文中没有提及下文中其他自然灾害导致需求减少事件对应的原因涉及的地区是。\"}], \"response\": [[\"国内外\"]], \"prompt\": \"下文中其他自然灾害导致需求减少事件对应的原因涉及的地区是？风险因素:国内外因天气等自然灾害导致用肥量锐减\"}]\n",
      "[{\"source_entity_id\": \"0efd232c1731a2ab98212612164103a6ba9d3c55a8032abf849a79f1478bd18a\", \"model_response\": [{\"model_version_id\": 12722, \"tag\": \"m_17320_9098>V1\", \"content\": \"很抱歉，文中没有提及下文中其他自然灾害导致需求减少事件对应的原因涉及的产品。\"}], \"response\": [[\"以上内容暂无说明。\"]], \"prompt\": \"下文中其他自然灾害导致需求减少事件对应的原因涉及的产品是？风险因素:国内外因天气等自然灾害导致用肥量锐减\"}]\n",
      "[{\"source_entity_id\": \"dfdca634a8cfdfa1053174c25cebd2800165e3956f52df492f423d17623c4149\", \"model_response\": [{\"model_version_id\": 12722, \"tag\": \"m_17320_9098>V1\", \"content\": \"因果事件：\\n- 原因：发改委分别在5月10日和6月9日对国内汽柴油价格进行了下调\\n- 结果：汽油和柴油零售价格分别累计下调了860和820元/吨，导致石化双雄（尤其是中石化）不仅炼油损逐月扩大、成品油销售受阻并且出现库存跌价\"}], \"response\": [[\"市场价格下降导致销量（消费）减少\"]], \"prompt\": \"下文中有哪些因果事件？而发改委分别在5月10日和6月9日对国内汽柴油价格进行了下调，汽油和柴油零售价格分别累计下调了860和820元/吨，导致石化双雄（尤其是中石化）不仅炼油损逐月扩大、成品油销售受阻并且出现库存跌价\"}]\n",
      "[{\"source_entity_id\": \"e90befb7ed6735ec6a196beee7bfbe160ce044e7de04cb8c540aae7583657ea0\", \"model_response\": [{\"model_version_id\": 12722, \"tag\": \"m_17320_9098>V1\", \"content\": \"根据提供的信息，需求回升是导致高碳铬铁价格企稳回升的原因。因此，可以推断出该事件涉及的行业是钢铁行业。\"}], \"response\": [[\"我们无法得知，可能需要更多内容说明。\"]], \"prompt\": \"下文中需求增加导致市场价格提升事件对应的原因涉及的行业是？随着供应缩减，需求回升，高碳铬铁价格企稳回升，预期短期内或仍维持偏强态势，但高碳铬铁产能依然偏向过剩，后期价格弹升空间有限\"}]\n",
      "\n"
     ]
    }
   ],
   "source": [
    "from qianfan.trainer import Model\n",
    "from qianfan.dataset import Dataset\n",
    "\n",
    "# 首先需要先加载测试数据集，这里以加载平台预置数据集为例子：\n",
    "test_ds = Dataset.load(qianfan_dataset_id=15074, is_download_to_local=False)\n",
    "\n",
    "# 从训练结果中获取模型对象\n",
    "m: Model = trainer.output[\"model\"]\n",
    "\n",
    "# 运行批量任务获取结果数据集\n",
    "result_ds: Dataset = m.batch_run_on_qianfan(test_ds)"
   ]
  },
  {
   "attachments": {},
   "cell_type": "markdown",
   "metadata": {},
   "source": [
    "通过这种方式运行完成后，可以直接在本地拿到一份批量运行的结果，我们可以通过dataset.list查看其中的部分数据："
   ]
  },
  {
   "cell_type": "code",
   "execution_count": null,
   "metadata": {},
   "outputs": [
    {
     "data": {
      "text/plain": [
       "[[{'model_response': [{'content': '下文中需求增加导致市场价格提升事件对应的结果涉及的产品是高碳铬铁。',\n",
       "     'model_version_id': 12722,\n",
       "     'tag': 'm_17320_9098>V1'}],\n",
       "   'prompt': '下文中需求增加导致市场价格提升事件对应的结果涉及的产品是？随着供应缩减，需求回升，高碳铬铁价格企稳回升，预期短期内或仍维持偏强态势，但高碳铬铁产能依然偏向过剩，后期价格弹升空间有限',\n",
       "   'response': [['高碳铬铁']],\n",
       "   'source_entity_id': '2d469d3fb6dea6e5ca6a1c7c0e91dceee6f918b495e22bedd1b496fc3f92147f'}],\n",
       " [{'model_response': [{'content': '根据上下文，需求增加导致市场价格上涨的事件涉及的产品是高碳铬铁。',\n",
       "     'model_version_id': 12722,\n",
       "     'tag': 'm_17320_9098>V1'}],\n",
       "   'prompt': '下文中需求增加导致市场价格提升事件对应的原因涉及的产品是？随着供应缩减，需求回升，高碳铬铁价格企稳回升，预期短期内或仍维持偏强态势，但高碳铬铁产能依然偏向过剩，后期价格弹升空间有限',\n",
       "   'response': [['高碳铬铁']],\n",
       "   'source_entity_id': 'b7e4ea8632312142d853344214d34256d20a10d9fb890a81417a2ea9d2e70f04'}],\n",
       " [{'model_response': [{'content': '- 产品：煤炭\\n- 原因：煤炭价格大幅上涨',\n",
       "     'model_version_id': 12722,\n",
       "     'tag': 'm_17320_9098>V1'}],\n",
       "   'prompt': '下文中市场价格提升导致运营成本提升事件对应的原因涉及的产品是？利润和每股收益大幅下降的主要原因是煤炭价格大幅上涨，导致公司投资的火电企业的煤炭成本大幅增加###但报告期内受煤炭行业去产能改革的影响，公司煤炭前三季度平均采购价格同比上涨44.53%，导致成本涨幅抵消了销售价格的涨幅',\n",
       "   'response': [['煤炭']],\n",
       "   'source_entity_id': '6a3944e075cab0d524d9e7aac4e81048209e82c0fd68f5f43619d1f6b3820ffc'}]]"
      ]
     },
     "metadata": {},
     "output_type": "display_data"
    }
   ],
   "source": [
    "result_ds.list([i for i in range(3,6)])"
   ]
  },
  {
   "attachments": {},
   "cell_type": "markdown",
   "metadata": {},
   "source": [
    "在完成模型的批量运行后，我们可以对模型有一个简单的体感评估，如果效果不错，我们可以选择发布成服务以最终应用生产："
   ]
  },
  {
   "cell_type": "code",
   "execution_count": 18,
   "metadata": {},
   "outputs": [
    {
     "name": "stderr",
     "output_type": "stream",
     "text": [
      "[INFO] [12-08 12:40:10] model.py:497 [t:140481718310720]: ready to deploy service with model 10268/12722\n",
      "[INFO] [12-08 12:40:18] model.py:529 [t:140481718310720]: please check web console `https://console.bce.baidu.com/qianfan/ais/console/onlineService`,for service  deployment payment.\n",
      "[INFO] [12-08 12:40:52] model.py:529 [t:140481718310720]: please check web console `https://console.bce.baidu.com/qianfan/ais/console/onlineService`,for service  deployment payment.\n",
      "[INFO] [12-08 12:41:22] model.py:529 [t:140481718310720]: please check web console `https://console.bce.baidu.com/qianfan/ais/console/onlineService`,for service  deployment payment.\n",
      "[INFO] [12-08 12:41:53] model.py:529 [t:140481718310720]: please check web console `https://console.bce.baidu.com/qianfan/ais/console/onlineService`,for service  deployment payment.\n",
      "[INFO] [12-08 12:42:24] model.py:529 [t:140481718310720]: please check web console `https://console.bce.baidu.com/qianfan/ais/console/onlineService`,for service  deployment payment.\n",
      "[INFO] [12-08 12:42:54] model.py:529 [t:140481718310720]: please check web console `https://console.bce.baidu.com/qianfan/ais/console/onlineService`,for service  deployment payment.\n",
      "[INFO] [12-08 12:43:25] model.py:529 [t:140481718310720]: please check web console `https://console.bce.baidu.com/qianfan/ais/console/onlineService`,for service  deployment payment.\n",
      "[INFO] [12-08 12:43:55] model.py:529 [t:140481718310720]: please check web console `https://console.bce.baidu.com/qianfan/ais/console/onlineService`,for service  deployment payment.\n",
      "[INFO] [12-08 12:44:26] model.py:529 [t:140481718310720]: please check web console `https://console.bce.baidu.com/qianfan/ais/console/onlineService`,for service  deployment payment.\n",
      "[INFO] [12-08 12:44:57] model.py:529 [t:140481718310720]: please check web console `https://console.bce.baidu.com/qianfan/ais/console/onlineService`,for service  deployment payment.\n",
      "[INFO] [12-08 12:45:27] model.py:529 [t:140481718310720]: please check web console `https://console.bce.baidu.com/qianfan/ais/console/onlineService`,for service  deployment payment.\n",
      "[INFO] [12-08 12:45:58] model.py:529 [t:140481718310720]: please check web console `https://console.bce.baidu.com/qianfan/ais/console/onlineService`,for service  deployment payment.\n",
      "[INFO] [12-08 12:46:28] model.py:529 [t:140481718310720]: please check web console `https://console.bce.baidu.com/qianfan/ais/console/onlineService`,for service  deployment payment.\n",
      "[INFO] [12-08 12:47:01] model.py:529 [t:140481718310720]: please check web console `https://console.bce.baidu.com/qianfan/ais/console/onlineService`,for service  deployment payment.\n",
      "[INFO] [12-08 12:47:32] model.py:529 [t:140481718310720]: please check web console `https://console.bce.baidu.com/qianfan/ais/console/onlineService`,for service  deployment payment.\n",
      "[INFO] [12-08 12:48:02] model.py:529 [t:140481718310720]: please check web console `https://console.bce.baidu.com/qianfan/ais/console/onlineService`,for service  deployment payment.\n",
      "[INFO] [12-08 12:48:33] model.py:529 [t:140481718310720]: please check web console `https://console.bce.baidu.com/qianfan/ais/console/onlineService`,for service  deployment payment.\n",
      "[INFO] [12-08 12:49:04] model.py:529 [t:140481718310720]: please check web console `https://console.bce.baidu.com/qianfan/ais/console/onlineService`,for service  deployment payment.\n",
      "[INFO] [12-08 12:49:34] model.py:529 [t:140481718310720]: please check web console `https://console.bce.baidu.com/qianfan/ais/console/onlineService`,for service  deployment payment.\n",
      "[INFO] [12-08 12:50:05] model.py:529 [t:140481718310720]: please check web console `https://console.bce.baidu.com/qianfan/ais/console/onlineService`,for service  deployment payment.\n",
      "[INFO] [12-08 12:50:36] model.py:529 [t:140481718310720]: please check web console `https://console.bce.baidu.com/qianfan/ais/console/onlineService`,for service  deployment payment.\n",
      "[INFO] [12-08 12:51:06] model.py:529 [t:140481718310720]: please check web console `https://console.bce.baidu.com/qianfan/ais/console/onlineService`,for service  deployment payment.\n",
      "[INFO] [12-08 12:51:37] model.py:529 [t:140481718310720]: please check web console `https://console.bce.baidu.com/qianfan/ais/console/onlineService`,for service  deployment payment.\n",
      "[INFO] [12-08 12:52:07] model.py:529 [t:140481718310720]: please check web console `https://console.bce.baidu.com/qianfan/ais/console/onlineService`,for service  deployment payment.\n",
      "[INFO] [12-08 12:52:38] model.py:529 [t:140481718310720]: please check web console `https://console.bce.baidu.com/qianfan/ais/console/onlineService`,for service  deployment payment.\n",
      "[INFO] [12-08 12:53:09] model.py:529 [t:140481718310720]: please check web console `https://console.bce.baidu.com/qianfan/ais/console/onlineService`,for service  deployment payment.\n",
      "[INFO] [12-08 12:53:40] model.py:529 [t:140481718310720]: please check web console `https://console.bce.baidu.com/qianfan/ais/console/onlineService`,for service  deployment payment.\n",
      "[INFO] [12-08 12:54:12] model.py:529 [t:140481718310720]: please check web console `https://console.bce.baidu.com/qianfan/ais/console/onlineService`,for service  deployment payment.\n",
      "[INFO] [12-08 12:54:42] model.py:529 [t:140481718310720]: please check web console `https://console.bce.baidu.com/qianfan/ais/console/onlineService`,for service  deployment payment.\n",
      "[INFO] [12-08 12:55:13] model.py:529 [t:140481718310720]: please check web console `https://console.bce.baidu.com/qianfan/ais/console/onlineService`,for service  deployment payment.\n",
      "[INFO] [12-08 12:55:43] model.py:529 [t:140481718310720]: please check web console `https://console.bce.baidu.com/qianfan/ais/console/onlineService`,for service  deployment payment.\n",
      "[INFO] [12-08 12:56:14] model.py:529 [t:140481718310720]: please check web console `https://console.bce.baidu.com/qianfan/ais/console/onlineService`,for service  deployment payment.\n",
      "[INFO] [12-08 12:56:45] model.py:529 [t:140481718310720]: please check web console `https://console.bce.baidu.com/qianfan/ais/console/onlineService`,for service  deployment payment.\n",
      "[INFO] [12-08 12:57:15] model.py:529 [t:140481718310720]: please check web console `https://console.bce.baidu.com/qianfan/ais/console/onlineService`,for service  deployment payment.\n",
      "[INFO] [12-08 12:57:46] model.py:529 [t:140481718310720]: please check web console `https://console.bce.baidu.com/qianfan/ais/console/onlineService`,for service  deployment payment.\n",
      "[INFO] [12-08 12:58:16] model.py:529 [t:140481718310720]: please check web console `https://console.bce.baidu.com/qianfan/ais/console/onlineService`,for service  deployment payment.\n",
      "[INFO] [12-08 12:58:47] model.py:529 [t:140481718310720]: please check web console `https://console.bce.baidu.com/qianfan/ais/console/onlineService`,for service  deployment payment.\n",
      "[INFO] [12-08 12:59:18] model.py:529 [t:140481718310720]: please check web console `https://console.bce.baidu.com/qianfan/ais/console/onlineService`,for service  deployment payment.\n",
      "[INFO] [12-08 12:59:48] model.py:529 [t:140481718310720]: please check web console `https://console.bce.baidu.com/qianfan/ais/console/onlineService`,for service  deployment payment.\n",
      "[INFO] [12-08 13:00:19] model.py:529 [t:140481718310720]: please check web console `https://console.bce.baidu.com/qianfan/ais/console/onlineService`,for service  deployment payment.\n",
      "[INFO] [12-08 13:00:51] model.py:529 [t:140481718310720]: please check web console `https://console.bce.baidu.com/qianfan/ais/console/onlineService`,for service  deployment payment.\n",
      "[INFO] [12-08 13:01:22] model.py:529 [t:140481718310720]: please check web console `https://console.bce.baidu.com/qianfan/ais/console/onlineService`,for service  deployment payment.\n",
      "[INFO] [12-08 13:01:52] model.py:529 [t:140481718310720]: please check web console `https://console.bce.baidu.com/qianfan/ais/console/onlineService`,for service  deployment payment.\n",
      "[INFO] [12-08 13:02:23] model.py:529 [t:140481718310720]: please check web console `https://console.bce.baidu.com/qianfan/ais/console/onlineService`,for service  deployment payment.\n",
      "[INFO] [12-08 13:02:53] model.py:529 [t:140481718310720]: please check web console `https://console.bce.baidu.com/qianfan/ais/console/onlineService`,for service  deployment payment.\n",
      "[INFO] [12-08 13:03:24] model.py:529 [t:140481718310720]: please check web console `https://console.bce.baidu.com/qianfan/ais/console/onlineService`,for service  deployment payment.\n",
      "[INFO] [12-08 13:03:54] model.py:529 [t:140481718310720]: please check web console `https://console.bce.baidu.com/qianfan/ais/console/onlineService`,for service  deployment payment.\n",
      "[INFO] [12-08 13:04:25] model.py:529 [t:140481718310720]: please check web console `https://console.bce.baidu.com/qianfan/ais/console/onlineService`,for service  deployment payment.\n",
      "[INFO] [12-08 13:04:56] model.py:529 [t:140481718310720]: please check web console `https://console.bce.baidu.com/qianfan/ais/console/onlineService`,for service  deployment payment.\n",
      "[INFO] [12-08 13:05:27] model.py:529 [t:140481718310720]: please check web console `https://console.bce.baidu.com/qianfan/ais/console/onlineService`,for service  deployment payment.\n",
      "[INFO] [12-08 13:05:57] model.py:529 [t:140481718310720]: please check web console `https://console.bce.baidu.com/qianfan/ais/console/onlineService`,for service  deployment payment.\n",
      "[INFO] [12-08 13:06:28] model.py:529 [t:140481718310720]: please check web console `https://console.bce.baidu.com/qianfan/ais/console/onlineService`,for service  deployment payment.\n",
      "[INFO] [12-08 13:06:58] model.py:529 [t:140481718310720]: please check web console `https://console.bce.baidu.com/qianfan/ais/console/onlineService`,for service  deployment payment.\n",
      "[INFO] [12-08 13:07:30] model.py:529 [t:140481718310720]: please check web console `https://console.bce.baidu.com/qianfan/ais/console/onlineService`,for service  deployment payment.\n",
      "[INFO] [12-08 13:08:01] model.py:529 [t:140481718310720]: please check web console `https://console.bce.baidu.com/qianfan/ais/console/onlineService`,for service  deployment payment.\n",
      "[INFO] [12-08 13:08:33] model.py:529 [t:140481718310720]: please check web console `https://console.bce.baidu.com/qianfan/ais/console/onlineService`,for service  deployment payment.\n",
      "[INFO] [12-08 13:09:04] model.py:529 [t:140481718310720]: please check web console `https://console.bce.baidu.com/qianfan/ais/console/onlineService`,for service  deployment payment.\n",
      "[INFO] [12-08 13:09:35] model.py:529 [t:140481718310720]: please check web console `https://console.bce.baidu.com/qianfan/ais/console/onlineService`,for service  deployment payment.\n",
      "[INFO] [12-08 13:10:07] model.py:529 [t:140481718310720]: please check web console `https://console.bce.baidu.com/qianfan/ais/console/onlineService`,for service  deployment payment.\n",
      "[INFO] [12-08 13:10:38] model.py:529 [t:140481718310720]: please check web console `https://console.bce.baidu.com/qianfan/ais/console/onlineService`,for service  deployment payment.\n",
      "[INFO] [12-08 13:11:11] model.py:529 [t:140481718310720]: please check web console `https://console.bce.baidu.com/qianfan/ais/console/onlineService`,for service  deployment payment.\n",
      "[INFO] [12-08 13:11:43] model.py:529 [t:140481718310720]: please check web console `https://console.bce.baidu.com/qianfan/ais/console/onlineService`,for service  deployment payment.\n",
      "[INFO] [12-08 13:12:14] model.py:529 [t:140481718310720]: please check web console `https://console.bce.baidu.com/qianfan/ais/console/onlineService`,for service  deployment payment.\n",
      "[INFO] [12-08 13:12:46] model.py:529 [t:140481718310720]: please check web console `https://console.bce.baidu.com/qianfan/ais/console/onlineService`,for service  deployment payment.\n",
      "[INFO] [12-08 13:13:17] model.py:529 [t:140481718310720]: please check web console `https://console.bce.baidu.com/qianfan/ais/console/onlineService`,for service  deployment payment.\n",
      "[INFO] [12-08 13:13:48] model.py:529 [t:140481718310720]: please check web console `https://console.bce.baidu.com/qianfan/ais/console/onlineService`,for service  deployment payment.\n",
      "[INFO] [12-08 13:14:20] model.py:529 [t:140481718310720]: please check web console `https://console.bce.baidu.com/qianfan/ais/console/onlineService`,for service  deployment payment.\n",
      "[INFO] [12-08 13:14:52] model.py:529 [t:140481718310720]: please check web console `https://console.bce.baidu.com/qianfan/ais/console/onlineService`,for service  deployment payment.\n",
      "[INFO] [12-08 13:15:24] model.py:529 [t:140481718310720]: please check web console `https://console.bce.baidu.com/qianfan/ais/console/onlineService`,for service  deployment payment.\n",
      "[INFO] [12-08 13:15:55] model.py:529 [t:140481718310720]: please check web console `https://console.bce.baidu.com/qianfan/ais/console/onlineService`,for service  deployment payment.\n",
      "[INFO] [12-08 13:16:26] model.py:529 [t:140481718310720]: please check web console `https://console.bce.baidu.com/qianfan/ais/console/onlineService`,for service  deployment payment.\n",
      "[INFO] [12-08 13:16:58] model.py:529 [t:140481718310720]: please check web console `https://console.bce.baidu.com/qianfan/ais/console/onlineService`,for service  deployment payment.\n",
      "[INFO] [12-08 13:17:29] model.py:529 [t:140481718310720]: please check web console `https://console.bce.baidu.com/qianfan/ais/console/onlineService`,for service  deployment payment.\n",
      "[INFO] [12-08 13:18:02] model.py:529 [t:140481718310720]: please check web console `https://console.bce.baidu.com/qianfan/ais/console/onlineService`,for service  deployment payment.\n",
      "[INFO] [12-08 13:18:34] model.py:529 [t:140481718310720]: please check web console `https://console.bce.baidu.com/qianfan/ais/console/onlineService`,for service  deployment payment.\n",
      "[INFO] [12-08 13:19:05] model.py:529 [t:140481718310720]: please check web console `https://console.bce.baidu.com/qianfan/ais/console/onlineService`,for service  deployment payment.\n",
      "[INFO] [12-08 13:19:36] model.py:529 [t:140481718310720]: please check web console `https://console.bce.baidu.com/qianfan/ais/console/onlineService`,for service  deployment payment.\n",
      "[INFO] [12-08 13:20:08] model.py:529 [t:140481718310720]: please check web console `https://console.bce.baidu.com/qianfan/ais/console/onlineService`,for service  deployment payment.\n",
      "[INFO] [12-08 13:20:39] model.py:529 [t:140481718310720]: please check web console `https://console.bce.baidu.com/qianfan/ais/console/onlineService`,for service  deployment payment.\n",
      "[INFO] [12-08 13:21:12] model.py:529 [t:140481718310720]: please check web console `https://console.bce.baidu.com/qianfan/ais/console/onlineService`,for service  deployment payment.\n",
      "[INFO] [12-08 13:21:43] model.py:529 [t:140481718310720]: please check web console `https://console.bce.baidu.com/qianfan/ais/console/onlineService`,for service  deployment payment.\n",
      "[INFO] [12-08 13:22:14] model.py:529 [t:140481718310720]: please check web console `https://console.bce.baidu.com/qianfan/ais/console/onlineService`,for service  deployment payment.\n",
      "[INFO] [12-08 13:22:46] model.py:529 [t:140481718310720]: please check web console `https://console.bce.baidu.com/qianfan/ais/console/onlineService`,for service  deployment payment.\n",
      "[INFO] [12-08 13:23:17] model.py:529 [t:140481718310720]: please check web console `https://console.bce.baidu.com/qianfan/ais/console/onlineService`,for service  deployment payment.\n",
      "[INFO] [12-08 13:23:49] model.py:529 [t:140481718310720]: please check web console `https://console.bce.baidu.com/qianfan/ais/console/onlineService`,for service  deployment payment.\n",
      "[INFO] [12-08 13:24:21] model.py:529 [t:140481718310720]: please check web console `https://console.bce.baidu.com/qianfan/ais/console/onlineService`,for service  deployment payment.\n",
      "[INFO] [12-08 13:24:53] model.py:529 [t:140481718310720]: please check web console `https://console.bce.baidu.com/qianfan/ais/console/onlineService`,for service  deployment payment.\n",
      "[INFO] [12-08 13:25:24] model.py:529 [t:140481718310720]: please check web console `https://console.bce.baidu.com/qianfan/ais/console/onlineService`,for service  deployment payment.\n",
      "[INFO] [12-08 13:25:55] model.py:529 [t:140481718310720]: please check web console `https://console.bce.baidu.com/qianfan/ais/console/onlineService`,for service  deployment payment.\n",
      "[INFO] [12-08 13:26:27] model.py:529 [t:140481718310720]: please check web console `https://console.bce.baidu.com/qianfan/ais/console/onlineService`,for service  deployment payment.\n",
      "[INFO] [12-08 13:26:58] model.py:529 [t:140481718310720]: please check web console `https://console.bce.baidu.com/qianfan/ais/console/onlineService`,for service  deployment payment.\n",
      "[INFO] [12-08 13:27:29] model.py:529 [t:140481718310720]: please check web console `https://console.bce.baidu.com/qianfan/ais/console/onlineService`,for service  deployment payment.\n",
      "[INFO] [12-08 13:28:03] model.py:536 [t:140481718310720]: service 5093 has been deployed in `/ex1ndqpo_sdkcqa1` \n"
     ]
    }
   ],
   "source": [
    "from qianfan.trainer.model import Model, Service, model_deploy\n",
    "from qianfan.trainer.consts import ServiceType\n",
    "from qianfan.resources.console.consts import DeployPoolType\n",
    "\n",
    "sft_svc: Service = m.deploy(DeployConfig(\n",
    "    name=\"sdkcqasvc\",\n",
    "    endpoint_prefix=\"sdkcqa1\",\n",
    "    replicas=1, # 副本数， 与qps强绑定\n",
    "    pool_type=DeployPoolType.PrivateResource, # 私有资源池\n",
    "    service_type=ServiceType.Chat,\n",
    "))\n"
   ]
  },
  {
   "attachments": {},
   "cell_type": "markdown",
   "metadata": {},
   "source": [
    "使用Finetune之后的模型服务和原始的预置模型服务调用："
   ]
  },
  {
   "cell_type": "code",
   "execution_count": 26,
   "metadata": {},
   "outputs": [
    {
     "name": "stderr",
     "output_type": "stream",
     "text": [
      "[INFO] [12-08 13:30:55] openapi_requestor.py:134 [t:140481718310720]: requesting llm api endpoint: /chat/ex1ndqpo_sdkcqa1\n"
     ]
    },
    {
     "data": {
      "text/plain": [
       "'因果事件如下：\\n- 因果事件：无取向硅钢产量的持续提升导致市场竞争愈发激烈，价格进一步降低，从而有效减少新能源汽车驱动电机行业内企业的成本支出'"
      ]
     },
     "execution_count": 26,
     "metadata": {},
     "output_type": "execute_result"
    }
   ],
   "source": [
    "from qianfan import ChatCompletion\n",
    "### 使用Model & Service调用模型\n",
    "\n",
    "problem=\"下文中有哪些因果事件？无取向硅钢广泛应用于铁芯等电机零部件其产量的持续提升导致市场竞争愈发激烈，价格进一步降低，从而有效减少新能源汽车驱动电机行业内企业的成本支出\"\n",
    "\n",
    "#获取服务对象，即ChatCompletion等类型的对象\n",
    "chat_comp: ChatCompletion = sft_svc.get_res()\n",
    "sft_chat_resp = chat_comp.do(messages=[{\"content\": problem, \"role\": \"user\"}])\n",
    "sft_chat_resp[\"result\"]"
   ]
  },
  {
   "cell_type": "code",
   "execution_count": 28,
   "metadata": {},
   "outputs": [
    {
     "name": "stderr",
     "output_type": "stream",
     "text": [
      "[INFO] [12-08 13:31:55] openapi_requestor.py:134 [t:140481718310720]: requesting llm api endpoint: /chat/eb-instant\n"
     ]
    },
    {
     "data": {
      "text/plain": [
       "'因果事件如下：\\n\\n事件类型：应用\\n- 事件触发词：应用于\\n- 事件论元：\\n  \\t- 主体：无取向硅钢\\n  \\t- 客体：铁芯等电机零部件\\n\\n事件类型：提升\\n- 事件触发词：提升\\n- 事件论元：\\n  \\t- 主体：无取向硅钢的产量\\n  \\t- 结果：持续持续提升\\n\\n事件类型：降低\\n- 事件触发词：降低\\n- 事件论元：\\n  \\t- 主体：无取向硅钢的价格\\n  \\t- 原因：无取向硅钢的产量持续提升\\n\\n事件类型：减少\\n- 事件触发词：减少\\n- 事件论元：\\n  \\t- 主体：新能源汽车驱动电机行业内企业的成本支出\\n  \\t- 原因：无取向硅钢的价格进一步降低\\n  \\t- 影响：有效减少新能源汽车驱动电机行业内企业的成本支出\\n  \\t- 结论：与降低价格的因素有因果关系'"
      ]
     },
     "execution_count": 28,
     "metadata": {},
     "output_type": "execute_result"
    }
   ],
   "source": [
    "svc = ChatCompletion(model=\"ERNIE-Bot-turbo\")\n",
    "\n",
    "chat_resp = svc.do(messages=[{\"content\": problem, \"role\": \"user\"}])\n",
    "chat_resp[\"result\"]"
   ]
  },
  {
   "attachments": {},
   "cell_type": "markdown",
   "metadata": {},
   "source": [
    "## EventHandler\n",
    "\n",
    "如果需要在训练过程中监控每个阶段的各个节点的状态，可以通过事件回调函数来实现，通过事件的对应的action_state可以获取当前的action的运行情况以实现对应的业务回调，插入自定义逻辑"
   ]
  },
  {
   "cell_type": "code",
   "execution_count": null,
   "metadata": {},
   "outputs": [],
   "source": [
    "from qianfan.trainer.event import Event, EventHandler\n",
    "\n",
    "testset: Dataset = Dataset.load(data_file=\"./data/fin_cqa_test.jsonl\")\n",
    "# 定义自己的EventHandler，并实现dispatch方法\n",
    "class InferAfterSFT(EventHandler):\n",
    "    target_action: str\n",
    "    def __init__(self, target_action: str) -> None:\n",
    "        super().__init__()\n",
    "        self.target_action = target_action\n",
    "\n",
    "    def dispatch(self, event: Event) -> None:\n",
    "        print(\"receive: <\", event)\n",
    "        if self.target_action == event.action_id and event.action_state == ActionState.Done:\n",
    "            svc = cast(Service, event.data[\"service\"])\n",
    "            print(\"svc\", svc)\n",
    "            for row in testset.list():\n",
    "                msgs = QfMessages()\n",
    "                msgs.append(row[0][0][\"prompt\"], \"user\")\n",
    "                svc.exec({\"messages\":\"msgs\"})\n",
    "                print(\"row infer result\", row)\n",
    "            \n",
    "\n",
    "eh = InferAfterSFT(target_action=trainer.ppls[0].id)\n",
    "trainer.register_event_handler(eh)\n",
    "trainer.run()"
   ]
  },
  {
   "attachments": {},
   "cell_type": "markdown",
   "metadata": {},
   "source": [
    "### 任务恢复\n",
    "\n",
    "针对网络中断，服务不稳定等重试无法覆盖的场景，SDK提供了`resume()`以恢复训练过程，这里以LLMFinetune中断后恢复为例："
   ]
  },
  {
   "cell_type": "code",
   "execution_count": null,
   "metadata": {},
   "outputs": [
    {
     "name": "stderr",
     "output_type": "stream",
     "text": [
      "[DEBUG] [12-07 21:54:22] base.py:222 [t:139789057857344]: action[Pipeline][HFXZowejkt] Preceding\n",
      "[DEBUG] [12-07 21:54:22] base.py:222 [t:139789057857344]: action[LoadDataSetAction][LWOkl2YCun] Preceding\n",
      "[DEBUG] [12-07 21:54:22] actions.py:85 [t:139789057857344]: [load_dataset_action] prepare train-set\n",
      "[INFO] [12-07 21:54:28] data_source.py:1044 [t:139789057857344]: data releasing, keep rolling\n",
      "[INFO] [12-07 21:54:30] data_source.py:1044 [t:139789057857344]: data releasing, keep rolling\n",
      "[INFO] [12-07 21:54:33] data_source.py:1044 [t:139789057857344]: data releasing, keep rolling\n",
      "[INFO] [12-07 21:54:38] data_source.py:1044 [t:139789057857344]: data releasing, keep rolling\n",
      "[INFO] [12-07 21:54:41] data_source.py:1053 [t:139789057857344]: data releasing succeeded\n",
      "[DEBUG] [12-07 21:54:41] actions.py:91 [t:139789057857344]: [load_dataset_action] dataset loaded successfully\n",
      "[DEBUG] [12-07 21:54:41] base.py:226 [t:139789057857344]: action[LoadDataSetAction][LWOkl2YCun] Done\n",
      "[DEBUG] [12-07 21:54:41] base.py:222 [t:139789057857344]: action[TrainAction][F50ICFnguL] Preceding\n",
      "[DEBUG] [12-07 21:54:41] actions.py:309 [t:139789057857344]: [train_action] create fine-tune task: 17304\n",
      "[DEBUG] [12-07 21:54:43] actions.py:334 [t:139789057857344]: [train_action] create fine-tune job_id: 9077\n",
      "[INFO] [12-07 21:54:44] actions.py:352 [t:139789057857344]: [train_action] fine-tune running... current status: RUNNING, check vdl report in https://console.bce.baidu.com/qianfan/visualdl/index?displayToken=eyJydW5JZCI6InJ1bi10MnlzaWQ3NjE1Z3N0Zm11In0=\n",
      "[INFO] [12-07 21:55:14] actions.py:352 [t:139789057857344]: [train_action] fine-tune running... current status: RUNNING, check vdl report in https://console.bce.baidu.com/qianfan/visualdl/index?displayToken=eyJydW5JZCI6InJ1bi10MnlzaWQ3NjE1Z3N0Zm11In0=\n",
      "[INFO] [12-07 21:55:46] actions.py:352 [t:139789057857344]: [train_action] fine-tune running... current status: RUNNING, check vdl report in https://console.bce.baidu.com/qianfan/visualdl/index?displayToken=eyJydW5JZCI6InJ1bi10MnlzaWQ3NjE1Z3N0Zm11In0=\n",
      "[ERROR] [12-07 21:56:17] console_requestor.py:42 [t:139789057857344]: console api request failed with error code: 500002, err msg: auth failed, no access, please check the api doc\n"
     ]
    },
    {
     "ename": "APIError",
     "evalue": "api return error, code: 500002, msg: auth failed, no access",
     "output_type": "error",
     "traceback": [
      "\u001b[0;31m---------------------------------------------------------------------------\u001b[0m\n",
      "\u001b[0;31mAPIError\u001b[0m                                  Traceback (most recent call last)\n",
      "Cell \u001b[0;32mIn[6], line 1\u001b[0m\n",
      "\u001b[0;32m----> 1\u001b[0m trainer\u001b[39m.\u001b[39mrun()\n",
      "\n",
      "File \u001b[0;32m/data/anaconda3/lib/python3.11/site-packages/qianfan/trainer/finetune.py:173\u001b[0m, in \u001b[0;36mLLMFinetune.run\u001b[0;34m(self, **kwargs)\u001b[0m\n",
      "\u001b[1;32m    167\u001b[0m kwargs[\u001b[39m\"\u001b[39m\u001b[39mbackoff_factor\u001b[39m\u001b[39m\"\u001b[39m] \u001b[39m=\u001b[39m kwargs\u001b[39m.\u001b[39mget(\n",
      "\u001b[1;32m    168\u001b[0m     \u001b[39m\"\u001b[39m\u001b[39mbackoff_factor\u001b[39m\u001b[39m\"\u001b[39m, get_config()\u001b[39m.\u001b[39mTRAINER_STATUS_POLLING_BACKOFF_FACTOR\n",
      "\u001b[1;32m    169\u001b[0m )\n",
      "\u001b[1;32m    170\u001b[0m kwargs[\u001b[39m\"\u001b[39m\u001b[39mretry_count\u001b[39m\u001b[39m\"\u001b[39m] \u001b[39m=\u001b[39m kwargs\u001b[39m.\u001b[39mget(\n",
      "\u001b[1;32m    171\u001b[0m     \u001b[39m\"\u001b[39m\u001b[39mretry_count\u001b[39m\u001b[39m\"\u001b[39m, get_config()\u001b[39m.\u001b[39mTRAINER_STATUS_POLLING_RETRY_TIMES\n",
      "\u001b[1;32m    172\u001b[0m )\n",
      "\u001b[0;32m--> 173\u001b[0m \u001b[39mself\u001b[39m\u001b[39m.\u001b[39mresult[\u001b[39m0\u001b[39m] \u001b[39m=\u001b[39m \u001b[39mself\u001b[39m\u001b[39m.\u001b[39mppls[\u001b[39m0\u001b[39m]\u001b[39m.\u001b[39mexec(\u001b[39m*\u001b[39m\u001b[39m*\u001b[39mkwargs)\n",
      "\u001b[1;32m    174\u001b[0m \u001b[39mreturn\u001b[39;00m \u001b[39mself\u001b[39m\n",
      "\n",
      "File \u001b[0;32m/data/anaconda3/lib/python3.11/site-packages/qianfan/trainer/base.py:224\u001b[0m, in \u001b[0;36mwith_event.<locals>.wrapper\u001b[0;34m(self, **kwargs)\u001b[0m\n",
      "\u001b[1;32m    222\u001b[0m log_debug(\u001b[39mf\u001b[39m\u001b[39m\"\u001b[39m\u001b[39maction[\u001b[39m\u001b[39m{\u001b[39;00m\u001b[39mself\u001b[39m\u001b[39m.\u001b[39m\u001b[39m__class__\u001b[39m\u001b[39m.\u001b[39m\u001b[39m__name__\u001b[39m\u001b[39m}\u001b[39;00m\u001b[39m][\u001b[39m\u001b[39m{\u001b[39;00m\u001b[39mself\u001b[39m\u001b[39m.\u001b[39mid\u001b[39m}\u001b[39;00m\u001b[39m] Preceding\u001b[39m\u001b[39m\"\u001b[39m)\n",
      "\u001b[1;32m    223\u001b[0m \u001b[39mself\u001b[39m\u001b[39m.\u001b[39maction_event(ActionState\u001b[39m.\u001b[39mPreceding, \u001b[39m\"\u001b[39m\u001b[39m\"\u001b[39m, {})\n",
      "\u001b[0;32m--> 224\u001b[0m resp \u001b[39m=\u001b[39m func(\u001b[39mself\u001b[39m, \u001b[39m*\u001b[39m\u001b[39m*\u001b[39mkwargs)\n",
      "\u001b[1;32m    225\u001b[0m \u001b[39mself\u001b[39m\u001b[39m.\u001b[39maction_event(ActionState\u001b[39m.\u001b[39mDone, \u001b[39m\"\u001b[39m\u001b[39m\"\u001b[39m, resp)\n",
      "\u001b[1;32m    226\u001b[0m log_debug(\u001b[39mf\u001b[39m\u001b[39m\"\u001b[39m\u001b[39maction[\u001b[39m\u001b[39m{\u001b[39;00m\u001b[39mself\u001b[39m\u001b[39m.\u001b[39m\u001b[39m__class__\u001b[39m\u001b[39m.\u001b[39m\u001b[39m__name__\u001b[39m\u001b[39m}\u001b[39;00m\u001b[39m][\u001b[39m\u001b[39m{\u001b[39;00m\u001b[39mself\u001b[39m\u001b[39m.\u001b[39mid\u001b[39m}\u001b[39;00m\u001b[39m] Done\u001b[39m\u001b[39m\"\u001b[39m)\n",
      "\n",
      "File \u001b[0;32m/data/anaconda3/lib/python3.11/site-packages/qianfan/trainer/base.py:298\u001b[0m, in \u001b[0;36mPipeline.exec\u001b[0;34m(self, input, **kwargs)\u001b[0m\n",
      "\u001b[1;32m    287\u001b[0m \u001b[39m@with_event\u001b[39m\n",
      "\u001b[1;32m    288\u001b[0m \u001b[39mdef\u001b[39;00m \u001b[39mexec\u001b[39m(\n",
      "\u001b[1;32m    289\u001b[0m     \u001b[39mself\u001b[39m, \u001b[39minput\u001b[39m: Optional[Dict[\u001b[39mstr\u001b[39m, Any]] \u001b[39m=\u001b[39m \u001b[39mNone\u001b[39;00m, \u001b[39m*\u001b[39m\u001b[39m*\u001b[39mkwargs: Dict\n",
      "\u001b[1;32m    290\u001b[0m ) \u001b[39m-\u001b[39m\u001b[39m>\u001b[39m Dict[\u001b[39mstr\u001b[39m, Any]:\n",
      "\u001b[1;32m    291\u001b[0m \u001b[39m    \u001b[39m\u001b[39m\"\"\"\u001b[39;00m\n",
      "\u001b[1;32m    292\u001b[0m \u001b[39m    Parameters:\u001b[39;00m\n",
      "\u001b[1;32m    293\u001b[0m \u001b[39m        input: Optional[Dict[str, Any]] input of the pipeline.\u001b[39;00m\n",
      "\u001b[0;32m   (...)\u001b[0m\n",
      "\u001b[1;32m    296\u001b[0m \u001b[39m        Dict[str, Any]: The output of the pipeline.\u001b[39;00m\n",
      "\u001b[1;32m    297\u001b[0m \u001b[39m    \"\"\"\u001b[39;00m\n",
      "\u001b[0;32m--> 298\u001b[0m     \u001b[39mreturn\u001b[39;00m \u001b[39mself\u001b[39m\u001b[39m.\u001b[39mexec_from(\u001b[39minput\u001b[39m, \u001b[39m0\u001b[39m, \u001b[39m*\u001b[39m\u001b[39m*\u001b[39mkwargs)\n",
      "\n",
      "File \u001b[0;32m/data/anaconda3/lib/python3.11/site-packages/qianfan/trainer/base.py:325\u001b[0m, in \u001b[0;36mPipeline.exec_from\u001b[0;34m(self, input, start, **kwargs)\u001b[0m\n",
      "\u001b[1;32m    321\u001b[0m     \u001b[39mself\u001b[39m\u001b[39m.\u001b[39maction_event(\n",
      "\u001b[1;32m    322\u001b[0m         ActionState\u001b[39m.\u001b[39mRunning, \u001b[39m\"\u001b[39m\u001b[39mpipeline running\u001b[39m\u001b[39m\"\u001b[39m, {\u001b[39m\"\u001b[39m\u001b[39maction\u001b[39m\u001b[39m\"\u001b[39m: k}\n",
      "\u001b[1;32m    323\u001b[0m     )\n",
      "\u001b[1;32m    324\u001b[0m \u001b[39mself\u001b[39m\u001b[39m.\u001b[39m_state \u001b[39m=\u001b[39m k\n",
      "\u001b[0;32m--> 325\u001b[0m output \u001b[39m=\u001b[39m \u001b[39mself\u001b[39m\u001b[39m.\u001b[39mactions[k]\u001b[39m.\u001b[39mexec(\u001b[39minput\u001b[39m\u001b[39m=\u001b[39moutput, \u001b[39m*\u001b[39m\u001b[39m*\u001b[39mkwargs)\n",
      "\u001b[1;32m    326\u001b[0m \u001b[39mif\u001b[39;00m output\u001b[39m.\u001b[39mget(\u001b[39m\"\u001b[39m\u001b[39merror\u001b[39m\u001b[39m\"\u001b[39m) \u001b[39mis\u001b[39;00m \u001b[39mnot\u001b[39;00m \u001b[39mNone\u001b[39;00m:\n",
      "\u001b[1;32m    327\u001b[0m     \u001b[39mraise\u001b[39;00m InternalError(cast(\u001b[39mstr\u001b[39m, output\u001b[39m.\u001b[39mget(\u001b[39m\"\u001b[39m\u001b[39merror\u001b[39m\u001b[39m\"\u001b[39m)))\n",
      "\n",
      "File \u001b[0;32m/data/anaconda3/lib/python3.11/site-packages/qianfan/trainer/base.py:224\u001b[0m, in \u001b[0;36mwith_event.<locals>.wrapper\u001b[0;34m(self, **kwargs)\u001b[0m\n",
      "\u001b[1;32m    222\u001b[0m log_debug(\u001b[39mf\u001b[39m\u001b[39m\"\u001b[39m\u001b[39maction[\u001b[39m\u001b[39m{\u001b[39;00m\u001b[39mself\u001b[39m\u001b[39m.\u001b[39m\u001b[39m__class__\u001b[39m\u001b[39m.\u001b[39m\u001b[39m__name__\u001b[39m\u001b[39m}\u001b[39;00m\u001b[39m][\u001b[39m\u001b[39m{\u001b[39;00m\u001b[39mself\u001b[39m\u001b[39m.\u001b[39mid\u001b[39m}\u001b[39;00m\u001b[39m] Preceding\u001b[39m\u001b[39m\"\u001b[39m)\n",
      "\u001b[1;32m    223\u001b[0m \u001b[39mself\u001b[39m\u001b[39m.\u001b[39maction_event(ActionState\u001b[39m.\u001b[39mPreceding, \u001b[39m\"\u001b[39m\u001b[39m\"\u001b[39m, {})\n",
      "\u001b[0;32m--> 224\u001b[0m resp \u001b[39m=\u001b[39m func(\u001b[39mself\u001b[39m, \u001b[39m*\u001b[39m\u001b[39m*\u001b[39mkwargs)\n",
      "\u001b[1;32m    225\u001b[0m \u001b[39mself\u001b[39m\u001b[39m.\u001b[39maction_event(ActionState\u001b[39m.\u001b[39mDone, \u001b[39m\"\u001b[39m\u001b[39m\"\u001b[39m, resp)\n",
      "\u001b[1;32m    226\u001b[0m log_debug(\u001b[39mf\u001b[39m\u001b[39m\"\u001b[39m\u001b[39maction[\u001b[39m\u001b[39m{\u001b[39;00m\u001b[39mself\u001b[39m\u001b[39m.\u001b[39m\u001b[39m__class__\u001b[39m\u001b[39m.\u001b[39m\u001b[39m__name__\u001b[39m\u001b[39m}\u001b[39;00m\u001b[39m][\u001b[39m\u001b[39m{\u001b[39;00m\u001b[39mself\u001b[39m\u001b[39m.\u001b[39mid\u001b[39m}\u001b[39;00m\u001b[39m] Done\u001b[39m\u001b[39m\"\u001b[39m)\n",
      "\n",
      "File \u001b[0;32m/data/anaconda3/lib/python3.11/site-packages/qianfan/trainer/actions.py:290\u001b[0m, in \u001b[0;36mTrainAction.exec\u001b[0;34m(self, input, **kwargs)\u001b[0m\n",
      "\u001b[1;32m    288\u001b[0m \u001b[39mif\u001b[39;00m \u001b[39mself\u001b[39m\u001b[39m.\u001b[39m_input \u001b[39mis\u001b[39;00m \u001b[39mNone\u001b[39;00m:\n",
      "\u001b[1;32m    289\u001b[0m     \u001b[39mself\u001b[39m\u001b[39m.\u001b[39m_input \u001b[39m=\u001b[39m \u001b[39minput\u001b[39m\n",
      "\u001b[0;32m--> 290\u001b[0m \u001b[39mreturn\u001b[39;00m \u001b[39mself\u001b[39m\u001b[39m.\u001b[39m_exec(\u001b[39minput\u001b[39m, \u001b[39m*\u001b[39m\u001b[39m*\u001b[39mkwargs)\n",
      "\n",
      "File \u001b[0;32m/data/anaconda3/lib/python3.11/site-packages/qianfan/trainer/actions.py:337\u001b[0m, in \u001b[0;36mTrainAction._exec\u001b[0;34m(self, input, **kwargs)\u001b[0m\n",
      "\u001b[1;32m    334\u001b[0m log_debug(\u001b[39mf\u001b[39m\u001b[39m\"\u001b[39m\u001b[39m[train_action] create fine-tune job_id: \u001b[39m\u001b[39m{\u001b[39;00m\u001b[39mself\u001b[39m\u001b[39m.\u001b[39mjob_id\u001b[39m}\u001b[39;00m\u001b[39m\"\u001b[39m)\n",
      "\u001b[1;32m    336\u001b[0m \u001b[39m# 获取job状态，是否训练完成\u001b[39;00m\n",
      "\u001b[0;32m--> 337\u001b[0m \u001b[39mself\u001b[39m\u001b[39m.\u001b[39m_wait_model_trained(\u001b[39m*\u001b[39m\u001b[39m*\u001b[39mkwargs)\n",
      "\u001b[1;32m    338\u001b[0m \u001b[39mself\u001b[39m\u001b[39m.\u001b[39mresult \u001b[39m=\u001b[39m {\u001b[39m*\u001b[39m\u001b[39m*\u001b[39m\u001b[39minput\u001b[39m, \u001b[39m\"\u001b[39m\u001b[39mtask_id\u001b[39m\u001b[39m\"\u001b[39m: \u001b[39mself\u001b[39m\u001b[39m.\u001b[39mtask_id, \u001b[39m\"\u001b[39m\u001b[39mjob_id\u001b[39m\u001b[39m\"\u001b[39m: \u001b[39mself\u001b[39m\u001b[39m.\u001b[39mjob_id}\n",
      "\u001b[1;32m    339\u001b[0m \u001b[39massert\u001b[39;00m \u001b[39mself\u001b[39m\u001b[39m.\u001b[39mresult \u001b[39mis\u001b[39;00m \u001b[39mnot\u001b[39;00m \u001b[39mNone\u001b[39;00m\n",
      "\n",
      "File \u001b[0;32m/data/anaconda3/lib/python3.11/site-packages/qianfan/trainer/actions.py:346\u001b[0m, in \u001b[0;36mTrainAction._wait_model_trained\u001b[0;34m(self, **kwargs)\u001b[0m\n",
      "\u001b[1;32m    344\u001b[0m     \u001b[39mraise\u001b[39;00m InvalidArgumentError(\u001b[39m\"\u001b[39m\u001b[39mtask_id and job_id must not be None\u001b[39m\u001b[39m\"\u001b[39m)\n",
      "\u001b[1;32m    345\u001b[0m \u001b[39mwhile\u001b[39;00m \u001b[39mTrue\u001b[39;00m:\n",
      "\u001b[0;32m--> 346\u001b[0m     job_status_resp \u001b[39m=\u001b[39m api\u001b[39m.\u001b[39mFineTune\u001b[39m.\u001b[39mget_job(\n",
      "\u001b[1;32m    347\u001b[0m         task_id\u001b[39m=\u001b[39m\u001b[39mself\u001b[39m\u001b[39m.\u001b[39mtask_id,\n",
      "\u001b[1;32m    348\u001b[0m         job_id\u001b[39m=\u001b[39m\u001b[39mself\u001b[39m\u001b[39m.\u001b[39mjob_id,\n",
      "\u001b[1;32m    349\u001b[0m         \u001b[39m*\u001b[39m\u001b[39m*\u001b[39mkwargs,\n",
      "\u001b[1;32m    350\u001b[0m     )\n",
      "\u001b[1;32m    351\u001b[0m     job_status \u001b[39m=\u001b[39m job_status_resp[\u001b[39m\"\u001b[39m\u001b[39mresult\u001b[39m\u001b[39m\"\u001b[39m][\u001b[39m\"\u001b[39m\u001b[39mtrainStatus\u001b[39m\u001b[39m\"\u001b[39m]\n",
      "\u001b[1;32m    352\u001b[0m     log_info(\n",
      "\u001b[1;32m    353\u001b[0m         \u001b[39mf\u001b[39m\u001b[39m\"\u001b[39m\u001b[39m[train_action] fine-tune running... current status: \u001b[39m\u001b[39m{\u001b[39;00mjob_status\u001b[39m}\u001b[39;00m\u001b[39m,\u001b[39m\u001b[39m\"\u001b[39m\n",
      "\u001b[1;32m    354\u001b[0m         \u001b[39mf\u001b[39m\u001b[39m\"\u001b[39m\u001b[39m check vdl report in \u001b[39m\u001b[39m{\u001b[39;00mjob_status_resp[\u001b[39m'\u001b[39m\u001b[39mresult\u001b[39m\u001b[39m'\u001b[39m][\u001b[39m'\u001b[39m\u001b[39mvdlLink\u001b[39m\u001b[39m'\u001b[39m]\u001b[39m}\u001b[39;00m\u001b[39m\"\u001b[39m\n",
      "\u001b[1;32m    355\u001b[0m     )\n",
      "\n",
      "File \u001b[0;32m/data/anaconda3/lib/python3.11/site-packages/qianfan/resources/console/utils.py:54\u001b[0m, in \u001b[0;36mconsole_api_request.<locals>.inner\u001b[0;34m(*args, **kwargs)\u001b[0m\n",
      "\u001b[1;32m     46\u001b[0m retry_config \u001b[39m=\u001b[39m RetryConfig(\n",
      "\u001b[1;32m     47\u001b[0m     retry_count\u001b[39m=\u001b[39mkwargs\u001b[39m.\u001b[39mget(\u001b[39m\"\u001b[39m\u001b[39mretry_count\u001b[39m\u001b[39m\"\u001b[39m, DefaultValue\u001b[39m.\u001b[39mRetryCount),\n",
      "\u001b[1;32m     48\u001b[0m     timeout\u001b[39m=\u001b[39mkwargs\u001b[39m.\u001b[39mget(\u001b[39m\"\u001b[39m\u001b[39mrequest_timeout\u001b[39m\u001b[39m\"\u001b[39m, DefaultValue\u001b[39m.\u001b[39mRetryTimeout),\n",
      "\u001b[0;32m   (...)\u001b[0m\n",
      "\u001b[1;32m     51\u001b[0m     ),\n",
      "\u001b[1;32m     52\u001b[0m )\n",
      "\u001b[1;32m     53\u001b[0m req \u001b[39m=\u001b[39m func(\u001b[39m*\u001b[39margs, \u001b[39m*\u001b[39m\u001b[39m*\u001b[39mkwargs)\n",
      "\u001b[0;32m---> 54\u001b[0m \u001b[39mreturn\u001b[39;00m ConsoleAPIRequestor()\u001b[39m.\u001b[39m_request_console_api(req, ak, sk, retry_config)\n",
      "\n",
      "File \u001b[0;32m/data/anaconda3/lib/python3.11/site-packages/qianfan/resources/requestor/console_requestor.py:59\u001b[0m, in \u001b[0;36mConsoleAPIRequestor._request_console_api\u001b[0;34m(self, req, ak, sk, retry_config)\u001b[0m\n",
      "\u001b[1;32m     56\u001b[0m     ConsoleAPIRequestor\u001b[39m.\u001b[39m_sign(req, ak, sk)\n",
      "\u001b[1;32m     57\u001b[0m     \u001b[39mreturn\u001b[39;00m \u001b[39mself\u001b[39m\u001b[39m.\u001b[39m_request(req)\n",
      "\u001b[0;32m---> 59\u001b[0m \u001b[39mreturn\u001b[39;00m \u001b[39mself\u001b[39m\u001b[39m.\u001b[39m_with_retry(retry_config, _helper)\n",
      "\n",
      "File \u001b[0;32m/data/anaconda3/lib/python3.11/site-packages/qianfan/resources/requestor/base.py:275\u001b[0m, in \u001b[0;36mBaseAPIRequestor._with_retry\u001b[0;34m(self, config, func, *args)\u001b[0m\n",
      "\u001b[1;32m    273\u001b[0m \u001b[39mwhile\u001b[39;00m retry_count \u001b[39m<\u001b[39m config\u001b[39m.\u001b[39mretry_count \u001b[39m-\u001b[39m \u001b[39m1\u001b[39m:\n",
      "\u001b[1;32m    274\u001b[0m     \u001b[39mtry\u001b[39;00m:\n",
      "\u001b[0;32m--> 275\u001b[0m         \u001b[39mreturn\u001b[39;00m func(\u001b[39m*\u001b[39margs)\n",
      "\u001b[1;32m    276\u001b[0m     \u001b[39mexcept\u001b[39;00m errors\u001b[39m.\u001b[39mAPIError \u001b[39mas\u001b[39;00m e:\n",
      "\u001b[1;32m    277\u001b[0m         \u001b[39mif\u001b[39;00m e\u001b[39m.\u001b[39merror_code \u001b[39min\u001b[39;00m {\n",
      "\u001b[1;32m    278\u001b[0m             APIErrorCode\u001b[39m.\u001b[39mServerHighLoad,\n",
      "\u001b[1;32m    279\u001b[0m             APIErrorCode\u001b[39m.\u001b[39mQPSLimitReached,\n",
      "\u001b[1;32m    280\u001b[0m         }:\n",
      "\n",
      "File \u001b[0;32m/data/anaconda3/lib/python3.11/site-packages/qianfan/resources/requestor/console_requestor.py:57\u001b[0m, in \u001b[0;36mConsoleAPIRequestor._request_console_api.<locals>._helper\u001b[0;34m()\u001b[0m\n",
      "\u001b[1;32m     55\u001b[0m \u001b[39mdef\u001b[39;00m \u001b[39m_helper\u001b[39m() \u001b[39m-\u001b[39m\u001b[39m>\u001b[39m QfResponse:\n",
      "\u001b[1;32m     56\u001b[0m     ConsoleAPIRequestor\u001b[39m.\u001b[39m_sign(req, ak, sk)\n",
      "\u001b[0;32m---> 57\u001b[0m     \u001b[39mreturn\u001b[39;00m \u001b[39mself\u001b[39m\u001b[39m.\u001b[39m_request(req)\n",
      "\n",
      "File \u001b[0;32m/data/anaconda3/lib/python3.11/site-packages/qianfan/resources/requestor/base.py:147\u001b[0m, in \u001b[0;36mBaseAPIRequestor._request\u001b[0;34m(self, request, data_postprocess)\u001b[0m\n",
      "\u001b[1;32m    143\u001b[0m \u001b[39mexcept\u001b[39;00m requests\u001b[39m.\u001b[39mJSONDecodeError:\n",
      "\u001b[1;32m    144\u001b[0m     \u001b[39mraise\u001b[39;00m errors\u001b[39m.\u001b[39mRequestError(\n",
      "\u001b[1;32m    145\u001b[0m         \u001b[39mf\u001b[39m\u001b[39m\"\u001b[39m\u001b[39mGot invalid json response from server, body: \u001b[39m\u001b[39m{\u001b[39;00mresponse\u001b[39m.\u001b[39mcontent\u001b[39m!r}\u001b[39;00m\u001b[39m\"\u001b[39m\n",
      "\u001b[1;32m    146\u001b[0m     )\n",
      "\u001b[0;32m--> 147\u001b[0m \u001b[39mreturn\u001b[39;00m data_postprocess(\u001b[39mself\u001b[39m\u001b[39m.\u001b[39m_parse_response(body, response))\n",
      "\n",
      "File \u001b[0;32m/data/anaconda3/lib/python3.11/site-packages/qianfan/resources/requestor/base.py:240\u001b[0m, in \u001b[0;36mBaseAPIRequestor._parse_response\u001b[0;34m(self, body, resp)\u001b[0m\n",
      "\u001b[1;32m    234\u001b[0m \u001b[39mdef\u001b[39;00m \u001b[39m_parse_response\u001b[39m(\n",
      "\u001b[1;32m    235\u001b[0m     \u001b[39mself\u001b[39m, body: Dict[\u001b[39mstr\u001b[39m, Any], resp: requests\u001b[39m.\u001b[39mResponse\n",
      "\u001b[1;32m    236\u001b[0m ) \u001b[39m-\u001b[39m\u001b[39m>\u001b[39m QfResponse:\n",
      "\u001b[1;32m    237\u001b[0m \u001b[39m    \u001b[39m\u001b[39m\"\"\"\u001b[39;00m\n",
      "\u001b[1;32m    238\u001b[0m \u001b[39m    parse response to QfResponse\u001b[39;00m\n",
      "\u001b[1;32m    239\u001b[0m \u001b[39m    \"\"\"\u001b[39;00m\n",
      "\u001b[0;32m--> 240\u001b[0m     \u001b[39mself\u001b[39m\u001b[39m.\u001b[39m_check_error(body)\n",
      "\u001b[1;32m    241\u001b[0m     qf_response \u001b[39m=\u001b[39m QfResponse(\n",
      "\u001b[1;32m    242\u001b[0m         code\u001b[39m=\u001b[39mresp\u001b[39m.\u001b[39mstatus_code, headers\u001b[39m=\u001b[39m\u001b[39mdict\u001b[39m(resp\u001b[39m.\u001b[39mheaders), body\u001b[39m=\u001b[39mbody\n",
      "\u001b[1;32m    243\u001b[0m     )\n",
      "\u001b[1;32m    244\u001b[0m     \u001b[39mreturn\u001b[39;00m qf_response\n",
      "\n",
      "File \u001b[0;32m/data/anaconda3/lib/python3.11/site-packages/qianfan/resources/requestor/console_requestor.py:46\u001b[0m, in \u001b[0;36mConsoleAPIRequestor._check_error\u001b[0;34m(self, body)\u001b[0m\n",
      "\u001b[1;32m     41\u001b[0m err_msg \u001b[39m=\u001b[39m body\u001b[39m.\u001b[39mget(\u001b[39m\"\u001b[39m\u001b[39merror_msg\u001b[39m\u001b[39m\"\u001b[39m, \u001b[39m\"\u001b[39m\u001b[39mno error message found in response body\u001b[39m\u001b[39m\"\u001b[39m)\n",
      "\u001b[1;32m     42\u001b[0m log_error(\n",
      "\u001b[1;32m     43\u001b[0m     \u001b[39mf\u001b[39m\u001b[39m\"\u001b[39m\u001b[39mconsole api request failed with error code: \u001b[39m\u001b[39m{\u001b[39;00merror_code\u001b[39m}\u001b[39;00m\u001b[39m, err msg:\u001b[39m\u001b[39m\"\u001b[39m\n",
      "\u001b[1;32m     44\u001b[0m     \u001b[39mf\u001b[39m\u001b[39m\"\u001b[39m\u001b[39m \u001b[39m\u001b[39m{\u001b[39;00merr_msg\u001b[39m}\u001b[39;00m\u001b[39m, please check the api doc\u001b[39m\u001b[39m\"\u001b[39m\n",
      "\u001b[1;32m     45\u001b[0m )\n",
      "\u001b[0;32m---> 46\u001b[0m \u001b[39mraise\u001b[39;00m errors\u001b[39m.\u001b[39mAPIError(error_code, err_msg)\n",
      "\n",
      "\u001b[0;31mAPIError\u001b[0m: api return error, code: 500002, msg: auth failed, no access"
     ]
    }
   ],
   "source": [
    "trainer.run()"
   ]
  },
  {
   "cell_type": "code",
   "execution_count": null,
   "metadata": {},
   "outputs": [
    {
     "name": "stderr",
     "output_type": "stream",
     "text": [
      "[DEBUG] [12-07 22:00:58] base.py:222 [t:139789057857344]: action[Pipeline][HFXZowejkt] Preceding\n",
      "[DEBUG] [12-07 22:00:58] base.py:222 [t:139789057857344]: action[TrainAction][F50ICFnguL] Preceding\n",
      "[INFO] [12-07 22:00:58] actions.py:390 [t:139789057857344]: [train_action] resume from created job 17304/9077\n",
      "[INFO] [12-07 22:00:58] actions.py:352 [t:139789057857344]: [train_action] fine-tune running... current status: RUNNING, check vdl report in https://console.bce.baidu.com/qianfan/visualdl/index?displayToken=eyJydW5JZCI6InJ1bi10MnlzaWQ3NjE1Z3N0Zm11In0=\n",
      "[INFO] [12-07 22:01:29] actions.py:352 [t:139789057857344]: [train_action] fine-tune running... current status: RUNNING, check vdl report in https://console.bce.baidu.com/qianfan/visualdl/index?displayToken=eyJydW5JZCI6InJ1bi10MnlzaWQ3NjE1Z3N0Zm11In0=\n",
      "[INFO] [12-07 22:02:00] actions.py:352 [t:139789057857344]: [train_action] fine-tune running... current status: RUNNING, check vdl report in https://console.bce.baidu.com/qianfan/visualdl/index?displayToken=eyJydW5JZCI6InJ1bi10MnlzaWQ3NjE1Z3N0Zm11In0=\n",
      "[INFO] [12-07 22:02:30] actions.py:352 [t:139789057857344]: [train_action] fine-tune running... current status: RUNNING, check vdl report in https://console.bce.baidu.com/qianfan/visualdl/index?displayToken=eyJydW5JZCI6InJ1bi10MnlzaWQ3NjE1Z3N0Zm11In0=\n",
      "[INFO] [12-07 22:03:01] actions.py:352 [t:139789057857344]: [train_action] fine-tune running... current status: RUNNING, check vdl report in https://console.bce.baidu.com/qianfan/visualdl/index?displayToken=eyJydW5JZCI6InJ1bi10MnlzaWQ3NjE1Z3N0Zm11In0=\n",
      "[INFO] [12-07 22:03:31] actions.py:352 [t:139789057857344]: [train_action] fine-tune running... current status: RUNNING, check vdl report in https://console.bce.baidu.com/qianfan/visualdl/index?displayToken=eyJydW5JZCI6InJ1bi10MnlzaWQ3NjE1Z3N0Zm11In0=\n",
      "[INFO] [12-07 22:04:02] actions.py:352 [t:139789057857344]: [train_action] fine-tune running... current status: RUNNING, check vdl report in https://console.bce.baidu.com/qianfan/visualdl/index?displayToken=eyJydW5JZCI6InJ1bi10MnlzaWQ3NjE1Z3N0Zm11In0=\n",
      "[INFO] [12-07 22:04:33] actions.py:352 [t:139789057857344]: [train_action] fine-tune running... current status: RUNNING, check vdl report in https://console.bce.baidu.com/qianfan/visualdl/index?displayToken=eyJydW5JZCI6InJ1bi10MnlzaWQ3NjE1Z3N0Zm11In0=\n",
      "[INFO] [12-07 22:05:04] actions.py:352 [t:139789057857344]: [train_action] fine-tune running... current status: RUNNING, check vdl report in https://console.bce.baidu.com/qianfan/visualdl/index?displayToken=eyJydW5JZCI6InJ1bi10MnlzaWQ3NjE1Z3N0Zm11In0=\n",
      "[INFO] [12-07 22:05:34] actions.py:352 [t:139789057857344]: [train_action] fine-tune running... current status: RUNNING, check vdl report in https://console.bce.baidu.com/qianfan/visualdl/index?displayToken=eyJydW5JZCI6InJ1bi10MnlzaWQ3NjE1Z3N0Zm11In0=\n",
      "[INFO] [12-07 22:06:05] actions.py:352 [t:139789057857344]: [train_action] fine-tune running... current status: RUNNING, check vdl report in https://console.bce.baidu.com/qianfan/visualdl/index?displayToken=eyJydW5JZCI6InJ1bi10MnlzaWQ3NjE1Z3N0Zm11In0=\n",
      "[INFO] [12-07 22:06:35] actions.py:352 [t:139789057857344]: [train_action] fine-tune running... current status: RUNNING, check vdl report in https://console.bce.baidu.com/qianfan/visualdl/index?displayToken=eyJydW5JZCI6InJ1bi10MnlzaWQ3NjE1Z3N0Zm11In0=\n",
      "[INFO] [12-07 22:07:06] actions.py:352 [t:139789057857344]: [train_action] fine-tune running... current status: RUNNING, check vdl report in https://console.bce.baidu.com/qianfan/visualdl/index?displayToken=eyJydW5JZCI6InJ1bi10MnlzaWQ3NjE1Z3N0Zm11In0=\n",
      "[INFO] [12-07 22:07:36] actions.py:352 [t:139789057857344]: [train_action] fine-tune running... current status: RUNNING, check vdl report in https://console.bce.baidu.com/qianfan/visualdl/index?displayToken=eyJydW5JZCI6InJ1bi10MnlzaWQ3NjE1Z3N0Zm11In0=\n",
      "[INFO] [12-07 22:08:07] actions.py:352 [t:139789057857344]: [train_action] fine-tune running... current status: RUNNING, check vdl report in https://console.bce.baidu.com/qianfan/visualdl/index?displayToken=eyJydW5JZCI6InJ1bi10MnlzaWQ3NjE1Z3N0Zm11In0=\n",
      "[INFO] [12-07 22:08:38] actions.py:352 [t:139789057857344]: [train_action] fine-tune running... current status: RUNNING, check vdl report in https://console.bce.baidu.com/qianfan/visualdl/index?displayToken=eyJydW5JZCI6InJ1bi10MnlzaWQ3NjE1Z3N0Zm11In0=\n",
      "[INFO] [12-07 22:09:08] actions.py:352 [t:139789057857344]: [train_action] fine-tune running... current status: RUNNING, check vdl report in https://console.bce.baidu.com/qianfan/visualdl/index?displayToken=eyJydW5JZCI6InJ1bi10MnlzaWQ3NjE1Z3N0Zm11In0=\n",
      "[INFO] [12-07 22:09:39] actions.py:352 [t:139789057857344]: [train_action] fine-tune running... current status: RUNNING, check vdl report in https://console.bce.baidu.com/qianfan/visualdl/index?displayToken=eyJydW5JZCI6InJ1bi10MnlzaWQ3NjE1Z3N0Zm11In0=\n",
      "[INFO] [12-07 22:10:10] actions.py:352 [t:139789057857344]: [train_action] fine-tune running... current status: RUNNING, check vdl report in https://console.bce.baidu.com/qianfan/visualdl/index?displayToken=eyJydW5JZCI6InJ1bi10MnlzaWQ3NjE1Z3N0Zm11In0=\n",
      "[INFO] [12-07 22:10:40] actions.py:352 [t:139789057857344]: [train_action] fine-tune running... current status: RUNNING, check vdl report in https://console.bce.baidu.com/qianfan/visualdl/index?displayToken=eyJydW5JZCI6InJ1bi10MnlzaWQ3NjE1Z3N0Zm11In0=\n",
      "[INFO] [12-07 22:11:11] actions.py:352 [t:139789057857344]: [train_action] fine-tune running... current status: RUNNING, check vdl report in https://console.bce.baidu.com/qianfan/visualdl/index?displayToken=eyJydW5JZCI6InJ1bi10MnlzaWQ3NjE1Z3N0Zm11In0=\n",
      "[INFO] [12-07 22:11:42] actions.py:352 [t:139789057857344]: [train_action] fine-tune running... current status: RUNNING, check vdl report in https://console.bce.baidu.com/qianfan/visualdl/index?displayToken=eyJydW5JZCI6InJ1bi10MnlzaWQ3NjE1Z3N0Zm11In0=\n",
      "[INFO] [12-07 22:12:14] actions.py:352 [t:139789057857344]: [train_action] fine-tune running... current status: RUNNING, check vdl report in https://console.bce.baidu.com/qianfan/visualdl/index?displayToken=eyJydW5JZCI6InJ1bi10MnlzaWQ3NjE1Z3N0Zm11In0=\n",
      "[INFO] [12-07 22:12:44] actions.py:352 [t:139789057857344]: [train_action] fine-tune running... current status: RUNNING, check vdl report in https://console.bce.baidu.com/qianfan/visualdl/index?displayToken=eyJydW5JZCI6InJ1bi10MnlzaWQ3NjE1Z3N0Zm11In0=\n",
      "[INFO] [12-07 22:13:15] actions.py:352 [t:139789057857344]: [train_action] fine-tune running... current status: RUNNING, check vdl report in https://console.bce.baidu.com/qianfan/visualdl/index?displayToken=eyJydW5JZCI6InJ1bi10MnlzaWQ3NjE1Z3N0Zm11In0=\n",
      "[INFO] [12-07 22:13:46] actions.py:352 [t:139789057857344]: [train_action] fine-tune running... current status: RUNNING, check vdl report in https://console.bce.baidu.com/qianfan/visualdl/index?displayToken=eyJydW5JZCI6InJ1bi10MnlzaWQ3NjE1Z3N0Zm11In0=\n",
      "[INFO] [12-07 22:14:16] actions.py:352 [t:139789057857344]: [train_action] fine-tune running... current status: RUNNING, check vdl report in https://console.bce.baidu.com/qianfan/visualdl/index?displayToken=eyJydW5JZCI6InJ1bi10MnlzaWQ3NjE1Z3N0Zm11In0=\n",
      "[INFO] [12-07 22:14:47] actions.py:352 [t:139789057857344]: [train_action] fine-tune running... current status: RUNNING, check vdl report in https://console.bce.baidu.com/qianfan/visualdl/index?displayToken=eyJydW5JZCI6InJ1bi10MnlzaWQ3NjE1Z3N0Zm11In0=\n",
      "[INFO] [12-07 22:15:18] actions.py:352 [t:139789057857344]: [train_action] fine-tune running... current status: RUNNING, check vdl report in https://console.bce.baidu.com/qianfan/visualdl/index?displayToken=eyJydW5JZCI6InJ1bi10MnlzaWQ3NjE1Z3N0Zm11In0=\n",
      "[INFO] [12-07 22:15:49] actions.py:352 [t:139789057857344]: [train_action] fine-tune running... current status: RUNNING, check vdl report in https://console.bce.baidu.com/qianfan/visualdl/index?displayToken=eyJydW5JZCI6InJ1bi10MnlzaWQ3NjE1Z3N0Zm11In0=\n",
      "[INFO] [12-07 22:16:19] actions.py:352 [t:139789057857344]: [train_action] fine-tune running... current status: RUNNING, check vdl report in https://console.bce.baidu.com/qianfan/visualdl/index?displayToken=eyJydW5JZCI6InJ1bi10MnlzaWQ3NjE1Z3N0Zm11In0=\n",
      "[INFO] [12-07 22:16:50] actions.py:352 [t:139789057857344]: [train_action] fine-tune running... current status: RUNNING, check vdl report in https://console.bce.baidu.com/qianfan/visualdl/index?displayToken=eyJydW5JZCI6InJ1bi10MnlzaWQ3NjE1Z3N0Zm11In0=\n",
      "[INFO] [12-07 22:17:20] actions.py:352 [t:139789057857344]: [train_action] fine-tune running... current status: RUNNING, check vdl report in https://console.bce.baidu.com/qianfan/visualdl/index?displayToken=eyJydW5JZCI6InJ1bi10MnlzaWQ3NjE1Z3N0Zm11In0=\n",
      "[INFO] [12-07 22:17:51] actions.py:352 [t:139789057857344]: [train_action] fine-tune running... current status: RUNNING, check vdl report in https://console.bce.baidu.com/qianfan/visualdl/index?displayToken=eyJydW5JZCI6InJ1bi10MnlzaWQ3NjE1Z3N0Zm11In0=\n",
      "[INFO] [12-07 22:18:22] actions.py:352 [t:139789057857344]: [train_action] fine-tune running... current status: RUNNING, check vdl report in https://console.bce.baidu.com/qianfan/visualdl/index?displayToken=eyJydW5JZCI6InJ1bi10MnlzaWQ3NjE1Z3N0Zm11In0=\n",
      "[INFO] [12-07 22:18:52] actions.py:352 [t:139789057857344]: [train_action] fine-tune running... current status: RUNNING, check vdl report in https://console.bce.baidu.com/qianfan/visualdl/index?displayToken=eyJydW5JZCI6InJ1bi10MnlzaWQ3NjE1Z3N0Zm11In0=\n",
      "[INFO] [12-07 22:19:23] actions.py:352 [t:139789057857344]: [train_action] fine-tune running... current status: RUNNING, check vdl report in https://console.bce.baidu.com/qianfan/visualdl/index?displayToken=eyJydW5JZCI6InJ1bi10MnlzaWQ3NjE1Z3N0Zm11In0=\n",
      "[INFO] [12-07 22:19:54] actions.py:352 [t:139789057857344]: [train_action] fine-tune running... current status: RUNNING, check vdl report in https://console.bce.baidu.com/qianfan/visualdl/index?displayToken=eyJydW5JZCI6InJ1bi10MnlzaWQ3NjE1Z3N0Zm11In0=\n",
      "[INFO] [12-07 22:20:24] actions.py:352 [t:139789057857344]: [train_action] fine-tune running... current status: RUNNING, check vdl report in https://console.bce.baidu.com/qianfan/visualdl/index?displayToken=eyJydW5JZCI6InJ1bi10MnlzaWQ3NjE1Z3N0Zm11In0=\n",
      "[INFO] [12-07 22:20:55] actions.py:352 [t:139789057857344]: [train_action] fine-tune running... current status: RUNNING, check vdl report in https://console.bce.baidu.com/qianfan/visualdl/index?displayToken=eyJydW5JZCI6InJ1bi10MnlzaWQ3NjE1Z3N0Zm11In0=\n",
      "[INFO] [12-07 22:21:26] actions.py:352 [t:139789057857344]: [train_action] fine-tune running... current status: RUNNING, check vdl report in https://console.bce.baidu.com/qianfan/visualdl/index?displayToken=eyJydW5JZCI6InJ1bi10MnlzaWQ3NjE1Z3N0Zm11In0=\n",
      "[INFO] [12-07 22:21:57] actions.py:352 [t:139789057857344]: [train_action] fine-tune running... current status: RUNNING, check vdl report in https://console.bce.baidu.com/qianfan/visualdl/index?displayToken=eyJydW5JZCI6InJ1bi10MnlzaWQ3NjE1Z3N0Zm11In0=\n",
      "[INFO] [12-07 22:22:28] actions.py:352 [t:139789057857344]: [train_action] fine-tune running... current status: RUNNING, check vdl report in https://console.bce.baidu.com/qianfan/visualdl/index?displayToken=eyJydW5JZCI6InJ1bi10MnlzaWQ3NjE1Z3N0Zm11In0=\n",
      "[INFO] [12-07 22:22:59] actions.py:352 [t:139789057857344]: [train_action] fine-tune running... current status: RUNNING, check vdl report in https://console.bce.baidu.com/qianfan/visualdl/index?displayToken=eyJydW5JZCI6InJ1bi10MnlzaWQ3NjE1Z3N0Zm11In0=\n",
      "[INFO] [12-07 22:23:29] actions.py:352 [t:139789057857344]: [train_action] fine-tune running... current status: RUNNING, check vdl report in https://console.bce.baidu.com/qianfan/visualdl/index?displayToken=eyJydW5JZCI6InJ1bi10MnlzaWQ3NjE1Z3N0Zm11In0=\n",
      "[INFO] [12-07 22:24:00] actions.py:352 [t:139789057857344]: [train_action] fine-tune running... current status: RUNNING, check vdl report in https://console.bce.baidu.com/qianfan/visualdl/index?displayToken=eyJydW5JZCI6InJ1bi10MnlzaWQ3NjE1Z3N0Zm11In0=\n",
      "[INFO] [12-07 22:24:31] actions.py:352 [t:139789057857344]: [train_action] fine-tune running... current status: RUNNING, check vdl report in https://console.bce.baidu.com/qianfan/visualdl/index?displayToken=eyJydW5JZCI6InJ1bi10MnlzaWQ3NjE1Z3N0Zm11In0=\n",
      "[INFO] [12-07 22:25:01] actions.py:352 [t:139789057857344]: [train_action] fine-tune running... current status: RUNNING, check vdl report in https://console.bce.baidu.com/qianfan/visualdl/index?displayToken=eyJydW5JZCI6InJ1bi10MnlzaWQ3NjE1Z3N0Zm11In0=\n",
      "[INFO] [12-07 22:25:32] actions.py:352 [t:139789057857344]: [train_action] fine-tune running... current status: RUNNING, check vdl report in https://console.bce.baidu.com/qianfan/visualdl/index?displayToken=eyJydW5JZCI6InJ1bi10MnlzaWQ3NjE1Z3N0Zm11In0=\n",
      "[INFO] [12-07 22:26:03] actions.py:352 [t:139789057857344]: [train_action] fine-tune running... current status: RUNNING, check vdl report in https://console.bce.baidu.com/qianfan/visualdl/index?displayToken=eyJydW5JZCI6InJ1bi10MnlzaWQ3NjE1Z3N0Zm11In0=\n",
      "[INFO] [12-07 22:26:33] actions.py:352 [t:139789057857344]: [train_action] fine-tune running... current status: RUNNING, check vdl report in https://console.bce.baidu.com/qianfan/visualdl/index?displayToken=eyJydW5JZCI6InJ1bi10MnlzaWQ3NjE1Z3N0Zm11In0=\n",
      "[INFO] [12-07 22:27:04] actions.py:352 [t:139789057857344]: [train_action] fine-tune running... current status: RUNNING, check vdl report in https://console.bce.baidu.com/qianfan/visualdl/index?displayToken=eyJydW5JZCI6InJ1bi10MnlzaWQ3NjE1Z3N0Zm11In0=\n",
      "[INFO] [12-07 22:27:35] actions.py:352 [t:139789057857344]: [train_action] fine-tune running... current status: RUNNING, check vdl report in https://console.bce.baidu.com/qianfan/visualdl/index?displayToken=eyJydW5JZCI6InJ1bi10MnlzaWQ3NjE1Z3N0Zm11In0=\n",
      "[INFO] [12-07 22:28:05] actions.py:352 [t:139789057857344]: [train_action] fine-tune running... current status: RUNNING, check vdl report in https://console.bce.baidu.com/qianfan/visualdl/index?displayToken=eyJydW5JZCI6InJ1bi10MnlzaWQ3NjE1Z3N0Zm11In0=\n",
      "[INFO] [12-07 22:28:37] actions.py:352 [t:139789057857344]: [train_action] fine-tune running... current status: RUNNING, check vdl report in https://console.bce.baidu.com/qianfan/visualdl/index?displayToken=eyJydW5JZCI6InJ1bi10MnlzaWQ3NjE1Z3N0Zm11In0=\n",
      "[INFO] [12-07 22:29:08] actions.py:352 [t:139789057857344]: [train_action] fine-tune running... current status: RUNNING, check vdl report in https://console.bce.baidu.com/qianfan/visualdl/index?displayToken=eyJydW5JZCI6InJ1bi10MnlzaWQ3NjE1Z3N0Zm11In0=\n",
      "[INFO] [12-07 22:29:39] actions.py:352 [t:139789057857344]: [train_action] fine-tune running... current status: RUNNING, check vdl report in https://console.bce.baidu.com/qianfan/visualdl/index?displayToken=eyJydW5JZCI6InJ1bi10MnlzaWQ3NjE1Z3N0Zm11In0=\n",
      "[INFO] [12-07 22:30:10] actions.py:352 [t:139789057857344]: [train_action] fine-tune running... current status: RUNNING, check vdl report in https://console.bce.baidu.com/qianfan/visualdl/index?displayToken=eyJydW5JZCI6InJ1bi10MnlzaWQ3NjE1Z3N0Zm11In0=\n",
      "[INFO] [12-07 22:30:40] actions.py:352 [t:139789057857344]: [train_action] fine-tune running... current status: RUNNING, check vdl report in https://console.bce.baidu.com/qianfan/visualdl/index?displayToken=eyJydW5JZCI6InJ1bi10MnlzaWQ3NjE1Z3N0Zm11In0=\n",
      "[INFO] [12-07 22:31:11] actions.py:352 [t:139789057857344]: [train_action] fine-tune running... current status: RUNNING, check vdl report in https://console.bce.baidu.com/qianfan/visualdl/index?displayToken=eyJydW5JZCI6InJ1bi10MnlzaWQ3NjE1Z3N0Zm11In0=\n",
      "[INFO] [12-07 22:31:42] actions.py:352 [t:139789057857344]: [train_action] fine-tune running... current status: RUNNING, check vdl report in https://console.bce.baidu.com/qianfan/visualdl/index?displayToken=eyJydW5JZCI6InJ1bi10MnlzaWQ3NjE1Z3N0Zm11In0=\n",
      "[INFO] [12-07 22:32:12] actions.py:352 [t:139789057857344]: [train_action] fine-tune running... current status: RUNNING, check vdl report in https://console.bce.baidu.com/qianfan/visualdl/index?displayToken=eyJydW5JZCI6InJ1bi10MnlzaWQ3NjE1Z3N0Zm11In0=\n",
      "[INFO] [12-07 22:32:43] actions.py:352 [t:139789057857344]: [train_action] fine-tune running... current status: RUNNING, check vdl report in https://console.bce.baidu.com/qianfan/visualdl/index?displayToken=eyJydW5JZCI6InJ1bi10MnlzaWQ3NjE1Z3N0Zm11In0=\n",
      "[INFO] [12-07 22:33:14] actions.py:352 [t:139789057857344]: [train_action] fine-tune running... current status: RUNNING, check vdl report in https://console.bce.baidu.com/qianfan/visualdl/index?displayToken=eyJydW5JZCI6InJ1bi10MnlzaWQ3NjE1Z3N0Zm11In0=\n",
      "[INFO] [12-07 22:33:44] actions.py:352 [t:139789057857344]: [train_action] fine-tune running... current status: RUNNING, check vdl report in https://console.bce.baidu.com/qianfan/visualdl/index?displayToken=eyJydW5JZCI6InJ1bi10MnlzaWQ3NjE1Z3N0Zm11In0=\n",
      "[INFO] [12-07 22:34:15] actions.py:352 [t:139789057857344]: [train_action] fine-tune running... current status: RUNNING, check vdl report in https://console.bce.baidu.com/qianfan/visualdl/index?displayToken=eyJydW5JZCI6InJ1bi10MnlzaWQ3NjE1Z3N0Zm11In0=\n",
      "[INFO] [12-07 22:34:46] actions.py:352 [t:139789057857344]: [train_action] fine-tune running... current status: RUNNING, check vdl report in https://console.bce.baidu.com/qianfan/visualdl/index?displayToken=eyJydW5JZCI6InJ1bi10MnlzaWQ3NjE1Z3N0Zm11In0=\n",
      "[INFO] [12-07 22:35:17] actions.py:352 [t:139789057857344]: [train_action] fine-tune running... current status: RUNNING, check vdl report in https://console.bce.baidu.com/qianfan/visualdl/index?displayToken=eyJydW5JZCI6InJ1bi10MnlzaWQ3NjE1Z3N0Zm11In0=\n",
      "[INFO] [12-07 22:35:48] actions.py:352 [t:139789057857344]: [train_action] fine-tune running... current status: RUNNING, check vdl report in https://console.bce.baidu.com/qianfan/visualdl/index?displayToken=eyJydW5JZCI6InJ1bi10MnlzaWQ3NjE1Z3N0Zm11In0=\n",
      "[INFO] [12-07 22:36:18] actions.py:352 [t:139789057857344]: [train_action] fine-tune running... current status: FINISH, check vdl report in https://console.bce.baidu.com/qianfan/visualdl/index?displayToken=eyJydW5JZCI6InJ1bi10MnlzaWQ3NjE1Z3N0Zm11In0=\n",
      "[INFO] [12-07 22:36:18] actions.py:370 [t:139789057857344]: [train_action] fine-tune job has ended: 9077 with status: FINISH\n",
      "[DEBUG] [12-07 22:36:18] base.py:226 [t:139789057857344]: action[TrainAction][F50ICFnguL] Done\n",
      "[DEBUG] [12-07 22:36:18] base.py:222 [t:139789057857344]: action[ModelPublishAction][YE5tSNDKlJ] Preceding\n",
      "[DEBUG] [12-07 22:36:18] actions.py:460 [t:139789057857344]: [model_publish_action] start model publish\n",
      "[INFO] [12-07 22:36:19] model.py:183 [t:139789057857344]: check train job: 17304/9077 status before publishing model\n"
     ]
    },
    {
     "name": "stderr",
     "output_type": "stream",
     "text": [
      "[INFO] [12-07 22:36:20] model.py:199 [t:139789057857344]: model publishing keep polling, current status FINISH\n",
      "[INFO] [12-07 22:36:20] model.py:233 [t:139789057857344]: model ready to publish\n",
      "[INFO] [12-07 22:36:21] model.py:239 [t:139789057857344]: check model publish status: Creating\n",
      "[INFO] [12-07 22:36:51] model.py:239 [t:139789057857344]: check model publish status: Ready\n",
      "[INFO] [12-07 22:36:51] model.py:241 [t:139789057857344]: model 10248/12701 published successfully\n",
      "[DEBUG] [12-07 22:36:51] actions.py:471 [t:139789057857344]: [model publish] model: 17304_9077 has been published.\n",
      "[DEBUG] [12-07 22:36:51] base.py:226 [t:139789057857344]: action[ModelPublishAction][YE5tSNDKlJ] Done\n",
      "[DEBUG] [12-07 22:36:51] base.py:226 [t:139789057857344]: action[Pipeline][HFXZowejkt] Done\n"
     ]
    },
    {
     "data": {
      "text/plain": [
       "<qianfan.trainer.finetune.LLMFinetune at 0x7f22c4dd0210>"
      ]
     },
     "metadata": {},
     "output_type": "display_data"
    }
   ],
   "source": [
    "trainer.resume()"
   ]
  }
 ],
 "metadata": {
  "kernelspec": {
   "display_name": "base",
   "language": "python",
   "name": "python3"
  },
  "language_info": {
   "codemirror_mode": {
    "name": "ipython",
    "version": 3
   },
   "file_extension": ".py",
   "mimetype": "text/x-python",
   "name": "python",
   "nbconvert_exporter": "python",
   "pygments_lexer": "ipython3",
   "version": "3.11.5"
  },
  "orig_nbformat": 4,
  "vscode": {
   "interpreter": {
    "hash": "58f7cb64c3a06383b7f18d2a11305edccbad427293a2b4afa7abe8bfc810d4bb"
   }
  }
 },
 "nbformat": 4,
 "nbformat_minor": 2
}
