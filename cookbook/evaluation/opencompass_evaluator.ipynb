{
 "cells": [
  {
   "cell_type": "markdown",
   "metadata": {},
   "source": [
    "# 在千帆 Python SDK 使用 OpenCompass 提供的评估器\n",
    "\n",
    "OpenCompass是由上海人工智能实验室开源的大模型评测平台。它涵盖了学科、语言、知识、理解、推理等五大评测维度，能够全面评估大模型的能力。OpenCompass作为一个评测工具，对于研究和开发大模型的人员来说，是非常有价值的资源。通过使用OpenCompass，用户可以更准确地了解他们的大模型在各项任务上的表现，从而进行针对性的优化和改进。\n",
    "\n",
    "千帆 Python SDK 中内置的评估模块，支持用户使用 OpenCompass 提供的评估器，对模型的推理结果进行评估。\n",
    "\n",
    "# 前置准备\n",
    "\n",
    "首先，需要安装千帆 Python SDK"
   ]
  },
  {
   "cell_type": "code",
   "execution_count": 1,
   "metadata": {
    "vscode": {
     "languageId": "shellscript"
    }
   },
   "outputs": [
    {
     "name": "stdout",
     "output_type": "stream",
     "text": [
      
     ]
    }
   ],
   "source": [
    "pip install -U qianfan"
   ]
  },
  {
   "cell_type": "markdown",
   "metadata": {},
   "source": [
    "然后再安装 OpenCompass。这部分的教程可以参考 OpenCompass 所提供的[官方文档](https://opencompass.org.cn/doc)，或者直接使用以下命令在 Python 中安装："
   ]
  },
  {
   "cell_type": "code",
   "execution_count": 2,
   "metadata": {
    "vscode": {
     "languageId": "shellscript"
    }
   },
   "outputs": [
    {
     "name": "stdout",
     "output_type": "stream",
     "text": [
      
     ]
    }
   ],
   "source": [
    "pip install opencompass"
   ]
  },
  {
   "cell_type": "markdown",
   "metadata": {},
   "source": [
    "# 正文\n",
    "\n",
    "为了在千帆 Python SDK 的评估模块中使用来自 OpenCompass 的评估器，用户需要使用 `qianfan.evaluation.opencompass_evaluator` 中提供的 `OpenCompassLocalEvaluator` 类，将 OpenCompass 评估器包装为千帆 Python SDK 的评估器。\n",
    "\n",
    "OpenCompass 所有可以使用的评估器都存放在 `opencompass.openicl.icl_evaluator` 模块下。其中，仅有，仅包含了 `predictions` 与 `references` 两个参数的 `score` 函数的评估器可用于千帆 Python SDK 提供的 `OpenCompassLocalEvaluator` 类。这部分符合条件的评估器包括：\n",
    "\n",
    "+ opencompass.openicl.icl_evaluator.icl_agent_evaluator.PassRateEvaluator\n",
    "+ opencompass.openicl.icl_evaluator.icl_circular_evaluator.CircularEvaluator\n",
    "+ opencompass.openicl.icl_evaluator.icl_em_evaluator.EMEvaluator\n",
    "+ opencompass.openicl.icl_evaluator.icl_hf_evaluator.AccEvaluator\n",
    "+ opencompass.openicl.icl_evaluator.icl_hf_evaluator.RougeEvaluator\n",
    "+ opencompass.openicl.icl_evaluator.icl_hf_evaluator.BleuEvaluator\n",
    "+ opencompass.openicl.icl_evaluator.icl_hf_evaluator.BleuFloresEvaluator\n",
    "+ opencompass.openicl.icl_evaluator.icl_hf_evaluator.MccEvaluator\n",
    "+ opencompass.openicl.icl_evaluator.icl_hf_evaluator.SquadEvaluator\n",
    "+ opencompass.openicl.icl_evaluator.icl_jieba_rouge_evaluator.JiebaRougeEvaluator\n",
    "+ opencompass.openicl.icl_evaluator.icl_toxic_evaluator.ToxicEvaluator\n",
    "\n",
    "在本教程编写时，用户应可以直接使用上面列表所列的评估器。\n",
    "\n",
    "下面我们演示如何使用其中的 `PassRateEvaluator` 评估器，`BleuEvaluator` 评估器和 `JiebaRougeEvaluator` 评估器来进行一次评估。\n",
    "\n",
    "## 导入数据集\n",
    "\n",
    "在评估之前，我们需要先导入数据集。本教程准备了一份专门用于评估的数据集，存放在 `data_file/eval_dataset.csv` 中"
   ]
  },
  {
   "cell_type": "code",
   "execution_count": 3,
   "metadata": {},
   "outputs": [
    {
     "name": "stderr",
     "output_type": "stream",
     "text": [
      "[INFO] [03-20 15:57:10] dataset.py:389 [t:8094817088]: no data source was provided, construct\n",
      "[INFO] [03-20 15:57:10] dataset.py:257 [t:8094817088]: construct a file data source from path: data_file/eval_dataset.csv, with args: {'eval_input_column': 'input_prompt', 'eval_llm_output_column': 'llm_output', 'reference_column': 'expected_output'}\n",
      "[INFO] [03-20 15:57:10] file.py:260 [t:8094817088]: use format type FormatType.Csv\n",
      "[INFO] [03-20 15:57:10] utils.py:140 [t:8094817088]: has got a memory-mapped table\n",
      "[INFO] [03-20 15:57:10] dataset.py:883 [t:8094817088]: list local dataset data by 0\n"
     ]
    },
    {
     "name": "stdout",
     "output_type": "stream",
     "text": [
      "{'prompt': '地球的自转周期是多久？', 'input_prompt': '地球的自转周期是多久？', 'llm_output': '地球的自转周期约为**23小时56分4秒**。', 'expected_output': '大约24小时', 'request_complete_latency': '0.0003000829999564303'}\n"
     ]
    }
   ],
   "source": [
    "from qianfan.dataset import Dataset\n",
    "\n",
    "ds = Dataset.load(data_file=\"data_file/eval_dataset.csv\", eval_input_column=\"input_prompt\", eval_llm_output_column=\"llm_output\", reference_column=\"expected_output\")\n",
    "\n",
    "print(ds.list(0))"
   ]
  },
  {
   "cell_type": "markdown",
   "metadata": {},
   "source": [
    "# 创建评估器及评估器对象\n",
    "\n",
    "然后，我们创建评估器对象。"
   ]
  },
  {
   "cell_type": "code",
   "execution_count": 4,
   "metadata": {},
   "outputs": [
    {
     "name": "stderr",
     "output_type": "stream",
     "text": [

     ]
    }
   ],
   "source": [
    "from opencompass.openicl.icl_evaluator import PassRateEvaluator, JiebaRougeEvaluator, BleuEvaluator\n",
    "from qianfan.evaluation import EvaluationManager\n",
    "from qianfan.evaluation.opencompass_evaluator import OpenCompassLocalEvaluator\n",
    "\n",
    "evaluator_list = [\n",
    "    OpenCompassLocalEvaluator(open_compass_evaluator=JiebaRougeEvaluator()),\n",
    "    OpenCompassLocalEvaluator(open_compass_evaluator=PassRateEvaluator()),\n",
    "    OpenCompassLocalEvaluator(open_compass_evaluator=BleuEvaluator()),\n",
    "]\n",
    "\n",
    "em = EvaluationManager(local_evaluators=evaluator_list)"
   ]
  },
  {
   "cell_type": "markdown",
   "metadata": {},
   "source": [
    "# 开始评估以及保存结果\n",
    "\n",
    "我们只需要调用 `EvaluationManager` 的 `eval_only` 函数，即可完成一次评估，并且将评估结果保存到本地的文件中"
   ]
  },
  {
   "cell_type": "code",
   "execution_count": 5,
   "metadata": {},
   "outputs": [
    {
     "name": "stderr",
     "output_type": "stream",
     "text": [
      "[INFO] [03-20 15:57:13] dataset.py:883 [t:8094817088]: list local dataset data by 0\n",
      "Building prefix dict from the default dictionary ...\n",
      "Loading model from cache /var/folders/3g/cvyfl_zn12df2m4_1tj7mhdw0000gn/T/jieba.cache\n",
      "Loading model cost 0.282 seconds.\n",
      "Prefix dict has been built successfully.\n",
      "[INFO] [03-20 15:58:11] dataset.py:462 [t:8094817088]: no destination data source was provided, construct\n",
      "[INFO] [03-20 15:58:11] dataset.py:257 [t:8094817088]: construct a file data source from path: eval_result.json, with args: {}\n",
      "[INFO] [03-20 15:58:11] file.py:260 [t:8094817088]: use format type FormatType.Json\n",
      "[INFO] [03-20 15:58:11] dataset.py:883 [t:8094817088]: list local dataset data by slice(0, 9999, None)\n"
     ]
    },
    {
     "data": {
      "text/plain": [
       "<qianfan.dataset.dataset.Dataset at 0x1584f7160>"
      ]
     },
     "execution_count": 5,
     "metadata": {},
     "output_type": "execute_result"
    }
   ],
   "source": [
    "result_ds = em.eval_only(ds).result_dataset\n",
    "\n",
    "result_ds.save(data_file=\"eval_result.json\")"
   ]
  }
 ],
 "metadata": {
  "kernelspec": {
   "display_name": "bce-qianfan-sdk-new",
   "language": "python",
   "name": "python3"
  },
  "language_info": {
   "codemirror_mode": {
    "name": "ipython",
    "version": 3
   },
   "file_extension": ".py",
   "mimetype": "text/x-python",
   "name": "python",
   "nbconvert_exporter": "python",
   "pygments_lexer": "ipython3",
   "version": "3.10.13"
  }
 },
 "nbformat": 4,
 "nbformat_minor": 2
}
