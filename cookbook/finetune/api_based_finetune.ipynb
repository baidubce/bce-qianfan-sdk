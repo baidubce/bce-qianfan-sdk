{
 "cells": [
  {
   "attachments": {},
   "cell_type": "markdown",
   "metadata": {},
   "source": [
    "### 前言\n",
    "\n",
    "本篇主要介绍end-to-end的LLMops流程中的数据->SFT微调->发布->推理流程，使用的SDK版本为0.1.3。建议提前熟悉预测服务相关SDK功能作为前置知识。"
   ]
  },
  {
   "cell_type": "code",
   "execution_count": null,
   "metadata": {},
   "outputs": [],
   "source": [
    "# 初始化百度智能云的IAM ak, sk用于bos和千帆平台的鉴权\n",
    "bce_ak = \"your_iam_ak\"\n",
    "bce_sk = \"your_iam_sk\""
   ]
  },
  {
   "attachments": {},
   "cell_type": "markdown",
   "metadata": {},
   "source": [
    "本文使用的千帆版本\n",
    "```\n",
    "qianfan>=0.1.3\n",
    "```"
   ]
  },
  {
   "attachments": {},
   "cell_type": "markdown",
   "metadata": {},
   "source": [
    "## 数据上传\n",
    "\n",
    "在进行SFT微调训练前，我们需要准备我们的训练数据；不同的训练任务需要准备不同类型的数据集，具体来说，对于LLM SFT训练任务，需要准备的是`已标注的、非排序的对话数据集`\n",
    "推荐使用的数据格式为`jsonl`，即每一行文本都包含了一个json字符串，此json需要包含prompt，response两个字段，以下是一个示例，[下载](https://console.bce.baidu.com/api/qianfan/canghai/entity/static/sample-text-dialog-unsort-annotated.jsonl)：\n",
    "```\n",
    "[{\"prompt\" : \"你好\", \"response\": [[\"你需要什么帮助\"]]}]\n",
    "```\n",
    "每一行表示一组数据，每组数据中的prompt和response加起来之和字符数不超过8000Token（包括中英文、数字、符号等），超出部分将被截断。\n",
    "\n",
    "### Bos\n",
    "\n",
    "Bos是百度智能云提供的对象存储云服务，可以高效的存取数据。本篇教程基于Bos，实现本地的数据集到千帆平台数据集的导入："
   ]
  },
  {
   "cell_type": "code",
   "execution_count": null,
   "metadata": {},
   "outputs": [],
   "source": [
    "# 首先我们需要安装bce-python-sdk\n",
    "!pip install bce-python-sdk"
   ]
  },
  {
   "cell_type": "code",
   "execution_count": null,
   "metadata": {},
   "outputs": [
    {
     "data": {
      "text/plain": [
       "{metadata:{date:u'Thu, 09 Nov 2023 10:50:57 GMT',content_length:u'0',connection:u'keep-alive',content_md5:u'kbo1u82WYdCFGVLAbeqXbQ==',etag:u'91ba35bbcd9661d0851952c06dea976d',server:u'BceBos',bce_content_crc_32:u'86170999',bce_debug_id:u'JUrX2nUmpvcbaRPRMsY+uS3KUFDB1YjYIbZ9aaJtEgw16FpXFpCwVQG7+iVDt2rD4dVWAh+SmNZzCEUXGOXHiQ==',bce_flow_control_type:u'-1',bce_is_transition:u'false',bce_request_id:u'b65583f2-c7fb-4fa6-ad52-c07569270120'}}"
      ]
     },
     "metadata": {},
     "output_type": "display_data"
    }
   ],
   "source": [
    "from baidubce.bce_client_configuration import BceClientConfiguration\n",
    "from baidubce.auth.bce_credentials import BceCredentials\n",
    "from baidubce.services.bos.bos_client import BosClient\n",
    "\n",
    "# 初始化bos配置\n",
    "BosEndpoint = \"bj.bcebos.com\"\n",
    "bucket_name = \"your_bucketname\"\n",
    "\n",
    "bos_config = BceClientConfiguration(credentials=BceCredentials(bce_ak, bce_sk), endpoint=BosEndpoint)\n",
    "\n",
    "file_name = \"./data/sample-text-dialog-unsort-annotated.jsonl\"\n",
    "key = \"/dataset/dialog01/sample-text-dialog-unsort-annotated.jsonl\"\n",
    "prefix = \"/dataset/dialog01/\"\n",
    "\n",
    "bos_client = BosClient(bos_config)\n",
    "bos_client.put_object_from_file(bucket_name, key, file_name)"
   ]
  },
  {
   "attachments": {},
   "cell_type": "markdown",
   "metadata": {},
   "source": [
    "## 大模型平台鉴权介绍：\n",
    "\n",
    "大模型平台和Bos同处于百度智能云下，所以可以使用同一个AK，SK来通过权限校验："
   ]
  },
  {
   "cell_type": "code",
   "execution_count": null,
   "metadata": {},
   "outputs": [],
   "source": [
    "import os\n",
    "os.environ[\"QIANFAN_ACCESS_KEY\"] = bce_ak\n",
    "os.environ[\"QIANFAN_SECRET_KEY\"] = bce_sk"
   ]
  },
  {
   "attachments": {},
   "cell_type": "markdown",
   "metadata": {},
   "source": [
    "## 数据导入\n",
    "\n",
    "在完成了以上从本地到bos的上传过程后，我们就开始着手创建数据集并导入之前上传到bos的数据"
   ]
  },
  {
   "cell_type": "code",
   "execution_count": null,
   "metadata": {},
   "outputs": [
    {
     "data": {
      "text/plain": [
       "QfResponse(code=200, headers={'Content-Length': '1110', 'Content-Type': 'application/json; charset=utf-8', 'Date': 'Thu, 09 Nov 2023 08:41:06 GMT', 'X-Bce-Gateway-Region': 'BJ', 'X-Bce-Request-Id': '8aef6c3b-8630-49db-823d-55a0115203d5'}, body={'log_id': 'qnxrdigwje6aiyyf', 'result': {'id': 32518, 'groupId': 26707, 'groupName': 'hi_sft_ds', 'displayName': '', 'createFrom': 0, 'bmlDatasetId': 'ds-nu54erbqtvfpgpr9', 'isBmlLocking': 0, 'easyDLProId': 0, 'versionId': 1, 'userId': 1493592, 'projectId': '', 'organizationId': '', 'visibility': 'Project', 'productId': 3, 'dataType': 4, 'projectType': 20, 'templateType': 2001, 'scene': 0, 'remark': '', 'storageType': 'usrBos', 'storageInfo': {'storageId': 'qianfanhj', 'storagePath': '/qianfanhj/dataset/dialog01/_system_/dataset/ds-nu54erbqtvfpgpr9/texts', 'storageName': 'qianfanhj', 'rawStoragePath': '/dataset/dialog01/', 'region': 'bj'}, 'importStatus': -1, 'importProgress': 0, 'importScheduledJobId': 0, 'importJobId': 0, 'exportStatus': -1, 'releaseStatus': 0, 'publishPublicStatus': '', 'publishPublicErrCode': 0, 'statsJobId': 0, 'statisticStatus': 0, 'statisticProgress': 0, 'ShouldHide': 0, 'status': 0, 'isUnique': 0, 'isConfirm': 0, 'publishStatus': 0, 'errCode': None, 'hasTitle': 0, 'displayFeatures': '', 'latestDeltaIndex': 0, 'adversarialStatus': 0, 'createTime': '2023-11-09T16:41:06.600928653+08:00', 'modifyTime': '2023-11-09T16:41:06.600940755+08:00'}, 'status': 200, 'success': True})"
      ]
     },
     "metadata": {},
     "output_type": "display_data"
    }
   ],
   "source": [
    "from qianfan.resources import Data\n",
    "from qianfan.resources.console.consts import DataSetType, DataProjectType, DataTemplateType, DataStorageType\n",
    "\n",
    "# 创建数据集\n",
    "ds = Data.create_bare_dataset(name=\"hi_sft_ds\", \n",
    "                         data_set_type=DataSetType.TextOnly,\n",
    "                         project_type=DataProjectType.Conversation,\n",
    "                         template_type=DataTemplateType.NonSortedConversation,\n",
    "                         storage_type=DataStorageType.PrivateBos,\n",
    "                         storage_id=bucket_name,\n",
    "                         storage_path=prefix)\n",
    "ds\n"
   ]
  },
  {
   "cell_type": "code",
   "execution_count": null,
   "metadata": {},
   "outputs": [],
   "source": [
    "# 使用bos进行数据导入\n",
    "from qianfan.resources.console.consts import DataSourceType\n",
    "\n",
    "ds_id=ds[\"result\"][\"id\"]\n",
    "import_resp = Data.create_data_import_task(dataset_id=ds_id,\n",
    "                             is_annotated=True,\n",
    "                             import_source=DataSourceType.PrivateBos,\n",
    "                             file_url=\"bos:/{}{}\".format(bucket_name, key))"
   ]
  },
  {
   "cell_type": "code",
   "execution_count": null,
   "metadata": {},
   "outputs": [],
   "source": [
    "# 获取数据集详情\n",
    "ds_info = Data.get_dataset_info(ds_id)"
   ]
  },
  {
   "attachments": {},
   "cell_type": "markdown",
   "metadata": {},
   "source": [
    "### 监听导入状态\n",
    "\n",
    "由于数据集导入是一个耗时任务，所以我们需要等待其完成才能进行下一步的动作，这里我们通过轮询的方式简单的监听任务状态直到数据完成导入成功。"
   ]
  },
  {
   "cell_type": "code",
   "execution_count": null,
   "metadata": {},
   "outputs": [],
   "source": [
    "import time\n",
    "from qianfan.resources.console.consts import DataImportStatus\n",
    "while True:\n",
    "    # 获取数据集详情\n",
    "    ds_info = Data.get_dataset_info(ds_id)\n",
    "    import_status = ds_info[\"result\"][\"versionInfo\"][\"importStatus\"]\n",
    "    if import_status == DataImportStatus.Finished.value:\n",
    "        print(\"dataset import finish, ready to release\")\n",
    "        break\n",
    "    print(\"current_import_status\", import_status)\n",
    "    time.sleep(10)"
   ]
  },
  {
   "attachments": {},
   "cell_type": "markdown",
   "metadata": {},
   "source": [
    "## 发布数据集\n",
    "\n",
    "恭喜你到达了进行SFT训练的最后一步，我们已经完成了数据集的准备，现在需要发布数据集。\n",
    "> Note：\n",
    "> 发布数据集后后无法再进行数据集的处理，导入或者修改！\n"
   ]
  },
  {
   "cell_type": "code",
   "execution_count": null,
   "metadata": {},
   "outputs": [
    {
     "name": "stdout",
     "output_type": "stream",
     "text": [
      "current_release_status 1\n",
      "current_release_status 1\n",
      "current_release_status 1\n",
      "current_release_status 1\n",
      "dataset release finish, ready to train\n"
     ]
    }
   ],
   "source": [
    "from qianfan.resources.console.consts import DataReleaseStatus\n",
    "\n",
    "# 发布 并监听数据集发布状态\n",
    "resp = Data.release_dataset(ds_id)\n",
    "\n",
    "while True:\n",
    "    # 获取数据集详情\n",
    "    ds_info = Data.get_dataset_info(ds_id)\n",
    "    release_status = ds_info[\"result\"][\"versionInfo\"][\"releaseStatus\"]\n",
    "    if release_status == DataReleaseStatus.Finished.value:\n",
    "        print(\"dataset release finish, ready to train\")\n",
    "        break\n",
    "    print(\"current_release_status\", release_status)\n",
    "    time.sleep(10)"
   ]
  },
  {
   "cell_type": "markdown",
   "metadata": {},
   "source": [
    "至此，数据部分的准备已经完成！我们话不多说赶紧开始LLM的Finetune："
   ]
  },
  {
   "attachments": {},
   "cell_type": "markdown",
   "metadata": {},
   "source": [
    "## Finetune\n",
    "\n",
    "目前千帆平台支持如下 SFT 相关操作：\n",
    "* 创建训练任务\n",
    "* 创建任务运行\n",
    "* 获取任务运行详情\n",
    "* 停止任务运行\n",
    "\n",
    "### 创建SFT任务\n",
    "\n",
    "创建训练任务需要提供任务名称`name`和任务描述`description`，返回结果在`result`字段中，具体字段与API 文档一致。"
   ]
  },
  {
   "cell_type": "code",
   "execution_count": 76,
   "metadata": {},
   "outputs": [
    {
     "data": {
      "text/plain": [
       "12765"
      ]
     },
     "execution_count": 76,
     "metadata": {},
     "output_type": "execute_result"
    }
   ],
   "source": [
    "from qianfan.resources import FineTune\n",
    "# 创建任务\n",
    "resp = FineTune.create_task(\n",
    "    name=\"test_sdk_taskqf02\",\n",
    "    description=\"for_eb_turbo1\",\n",
    "    base_train_type=\"ERNIE-Bot-turbo\",\n",
    "    train_type=\"ERNIE-Bot-turbo-0725\",\n",
    ")\n",
    "\n",
    "# 获取任务ID\n",
    "task_id = resp[\"result\"][\"id\"]\n",
    "task_id\n"
   ]
  },
  {
   "attachments": {},
   "cell_type": "markdown",
   "metadata": {},
   "source": [
    "### 创建任务运行\n",
    "\n",
    "创建任务运行需要提供该次训练的详细配置，例如模型版本（`trainType`）、数据集(`trainset`)等等，且不同模型的参数配置存在差异，具体参数可以参见API 文档。"
   ]
  },
  {
   "cell_type": "code",
   "execution_count": 78,
   "metadata": {},
   "outputs": [
    {
     "name": "stdout",
     "output_type": "stream",
     "text": [
      "req QfRequest(method='POST', url='/wenxinworkshop/finetune/createJob', query={}, headers={}, json_body={'taskId': 12765, 'baseTrainType': 'ERNIE-Bot-turbo', 'trainType': 'ERNIE-Bot-turbo-0725', 'trainMode': 'SFT', 'peftType': 'ALL', 'trainConfig': {'epoch': 1, 'learningRate': 2e-05, 'maxSeqLen': 4096}, 'trainset': [{'type': 1, 'id': 32518}], 'trainsetRate': 20}, retry_config=RetryConfig(retry_count=1, timeout=10, backoff_factor=0))\n"
     ]
    },
    {
     "data": {
      "text/plain": [
       "QfResponse(code=200, headers={'Date': 'Thu, 26 Oct 2023 13:31:41 GMT', 'Content-Type': 'application/json; charset=utf-8', 'Content-Length': '44', 'tracecode': '19019750232240896522102621', 'Set-Cookie': 'BAIDUID=0B433E6AA0AFEBDFCF36F5793E67C65F:FG=1; expires=Fri, 25-Oct-24 13:31:41 GMT; max-age=31536000; path=/; domain=.baidu.com; version=1', 'P3P': 'CP=\" OTI DSP COR IVA OUR IND COM \"', 'X-Bce-Request-Id': 'fbd3a655-aa8b-4668-bbdf-6c03d67296e8', 'X-Bce-Gateway-Region': 'GZ'}, body={'log_id': '3667353750', 'result': {'id': 6515}}, image=None)"
      ]
     },
     "execution_count": 78,
     "metadata": {},
     "output_type": "execute_result"
    }
   ],
   "source": [
    "# 创建任务运行，具体参数可以参见 API 文档\n",
    "create_job_resp = FineTune.create_job({\n",
    "    \"taskId\": task_id,\n",
    "    \"baseTrainType\": \"ERNIE-Bot-turbo\",\n",
    "    \"trainType\": \"ERNIE-Bot-turbo-0725\",\n",
    "    \"trainMode\": \"SFT\",\n",
    "    \"peftType\": \"LoRA\",\n",
    "    \"trainConfig\": {\n",
    "        \"epoch\": 1,\n",
    "        \"learningRate\": 0.00002,\n",
    "        \"batchSize\": 4,\n",
    "        \"maxSeqLen\": 4096\n",
    "    },\n",
    "    \"trainset\": [\n",
    "        {\n",
    "            \"type\": 1,\n",
    "            \"id\": ds_id\n",
    "        }\n",
    "    ],\n",
    "    \"trainsetRate\": 20\n",
    "})\n",
    "create_job_resp\n",
    "\n"
   ]
  },
  {
   "attachments": {},
   "cell_type": "markdown",
   "metadata": {},
   "source": [
    "这一步会监听训练`进度`，同时也观察训练任务状态，根据训练的模型大小，方法等的不同，需要一定的时间才能进行下一步模型发布。"
   ]
  },
  {
   "cell_type": "code",
   "execution_count": 79,
   "metadata": {},
   "outputs": [
    {
     "name": "stdout",
     "output_type": "stream",
     "text": [
      "job status: RUNNING\n",
      "job status: RUNNING\n",
      "job status: RUNNING\n",
      "job status: RUNNING\n",
      "job status: RUNNING\n",
      "job status: RUNNING\n",
      "job status: RUNNING\n",
      "job status: RUNNING\n",
      "job status: RUNNING\n",
      "job status: RUNNING\n",
      "job status: RUNNING\n",
      "job status: RUNNING\n",
      "job status: RUNNING\n",
      "job status: RUNNING\n",
      "job status: RUNNING\n",
      "job status: RUNNING\n",
      "job status: RUNNING\n",
      "job status: RUNNING\n",
      "job status: RUNNING\n",
      "job status: RUNNING\n",
      "job status: RUNNING\n",
      "job status: RUNNING\n",
      "job status: RUNNING\n",
      "job status: RUNNING\n",
      "job status: RUNNING\n",
      "job status: RUNNING\n",
      "job status: RUNNING\n",
      "job status: RUNNING\n",
      "job status: RUNNING\n",
      "job status: RUNNING\n",
      "job status: RUNNING\n",
      "job status: RUNNING\n",
      "job status: RUNNING\n",
      "job status: RUNNING\n",
      "job status: RUNNING\n",
      "job status: RUNNING\n",
      "job status: RUNNING\n",
      "job status: RUNNING\n",
      "job status: RUNNING\n",
      "job status: RUNNING\n",
      "job status: RUNNING\n",
      "job status: RUNNING\n",
      "job status: RUNNING\n",
      "job status: RUNNING\n",
      "job status: FINISH\n"
     ]
    }
   ],
   "source": [
    "import time\n",
    "\n",
    "job_id = create_job_resp[\"result\"][\"id\"]\n",
    "while True:\n",
    "    job_status_resp = FineTune.get_job(task_id=task_id, job_id=job_id)\n",
    "    job_status = job_status_resp[\"result\"][\"trainStatus\"]\n",
    "    print(\"job status:\", job_status)\n",
    "    if job_status != 'RUNNING':\n",
    "        break\n",
    "    time.sleep(60)"
   ]
  },
  {
   "attachments": {},
   "cell_type": "markdown",
   "metadata": {},
   "source": [
    "### 发布模型\n",
    "\n",
    "发布新模型需要指定task_id和iterationsId（job_id）；\n",
    "如果是希望进行同个模型的多次迭代更新"
   ]
  },
  {
   "cell_type": "code",
   "execution_count": 80,
   "metadata": {},
   "outputs": [
    {
     "name": "stdout",
     "output_type": "stream",
     "text": [
      "model_id: 7531\n",
      "model_version 1\n"
     ]
    }
   ],
   "source": [
    "from qianfan.resources import Model\n",
    "\n",
    "sft_task_publish_resp = Model.publish(is_new=True, model_name=\"test_sdk_ebt1\", version_meta={\n",
    "    \"taskId\": task_id, \"iterationId\": job_id\n",
    "})\n",
    "# 获取model_id and version\n",
    "model_id = sft_task_publish_resp[\"result\"][\"modelId\"]\n",
    "model_version = sft_task_publish_resp[\"result\"][\"version\"]\n",
    "print(\"model_id:\", model_id)\n",
    "print(\"model_version\", model_version)"
   ]
  },
  {
   "cell_type": "code",
   "execution_count": 81,
   "metadata": {},
   "outputs": [
    {
     "name": "stdout",
     "output_type": "stream",
     "text": [
      "model_version_id 9314\n"
     ]
    }
   ],
   "source": [
    "# 获取模型版本信息：\n",
    "model_version_list = Model.list(model_id=model_id)\n",
    "model_version_id: int = 0 \n",
    "for m in model_version_list[\"result\"][\"modelVersionList\"]:\n",
    "    if m[\"modelId\"] == model_id and m[\"version\"] == model_version:\n",
    "        model_version_id = m[\"modelVersionId\"]\n",
    "if model_version_id == 0:\n",
    "    raise ValueError(\"not model version\")\n",
    "print(\"model_version_id\", model_version_id)"
   ]
  },
  {
   "attachments": {},
   "cell_type": "markdown",
   "metadata": {},
   "source": [
    "### 监听模型版本详情状态\n",
    "模型任务在训练FINISH之后，需要等待模型版本状态为READY，模型才算完全发布到模型仓库中，这一步也可以在web控制台中的我的模型/详情中看到。\n",
    "这一步会进行模型发布，保存到我的模型仓库中，根据模型的大小，可能需要等待若干分钟之后才能进行下一步模型服务部署。\n",
    "![my_model](img/my_model.jpg)"
   ]
  },
  {
   "cell_type": "code",
   "execution_count": 5,
   "metadata": {},
   "outputs": [
    {
     "name": "stdout",
     "output_type": "stream",
     "text": [
      "current model_version_state: Ready\n"
     ]
    }
   ],
   "source": [
    "# 获取模型版本详情\n",
    "# 模型版本状态有三种：Creating, Ready, Failed\n",
    "while True:\n",
    "    model_detail_info = Model.detail(model_version_id=model_version_id)\n",
    "    model_version_state = model_detail_info[\"result\"][\"state\"]\n",
    "    print(\"current model_version_state:\", model_version_state)\n",
    "    if model_version_state != \"Creating\":\n",
    "        break\n",
    "    time.sleep(60)\n"
   ]
  },
  {
   "cell_type": "markdown",
   "metadata": {},
   "source": [
    "### 模型评估\n",
    "\n",
    "用户可以在创建模型服务之前，先使用平台提供的模型评估功能对训练好的模型进行评估。\n",
    "我们以[金融新闻摘要数据集](https://console.bce.baidu.com/qianfan/data/dataset/15067/detail)作为我们评估使用的数据集"
   ]
  },
  {
   "cell_type": "code",
   "execution_count": null,
   "metadata": {},
   "outputs": [],
   "source": [
    "eval_create_response = Model.create_evaluation_task(\n",
    "    name=\"fin_news_test\",\n",
    "    version_info=[\n",
    "        {\n",
    "            \"modelId\": model_id,\n",
    "            \"modelVersionId\": model_version_id,\n",
    "        },\n",
    "    ],\n",
    "    dataset_id=15067,\n",
    "    eval_config={\n",
    "        \"evalMode\": \"rule\",\n",
    "        \"scoreModes\": [\n",
    "            \"similarity\",\n",
    "            \"accuracy\",\n",
    "        ],\n",
    "    },\n",
    "    dataset_name=\"FinCUGE_FinNA\",\n",
    ").body\n",
    "\n",
    "eval_task_id = eval_create_response[\"result\"][\"evalId\"]\n",
    "print(\"eval_task_id\", eval_task_id)"
   ]
  },
  {
   "cell_type": "markdown",
   "metadata": {},
   "source": [
    "由于评估也是一项非常耗时的任务，因此我们同样需要监听任务状态，直到评估完成。"
   ]
  },
  {
   "cell_type": "code",
   "execution_count": null,
   "metadata": {},
   "outputs": [],
   "source": [
    "# 缓冲，等待任务真正开始运行\n",
    "time.sleep(5)\n",
    "\n",
    "while True:\n",
    "    eval_info = Model.get_evaluation_info(eval_task_id)\n",
    "    eval_state = eval_info[\"result\"][\"state\"]\n",
    "    print(\"current eval_state:\", eval_state)\n",
    "    if eval_state != \"Doing\":\n",
    "        break\n",
    "    time.sleep(60)"
   ]
  },
  {
   "cell_type": "code",
   "execution_count": null,
   "metadata": {},
   "outputs": [],
   "source": [
    "eval_result = Model.get_evaluation_result(eval_task_id)\n",
    "print(eval_result[\"result\"])"
   ]
  },
  {
   "cell_type": "markdown",
   "metadata": {},
   "source": [
    "评估完成后的详细评估报告目前仅支持在[网页](https://console.bce.baidu.com/qianfan/modelcenter/model/eval/list)查看"
   ]
  },
  {
   "attachments": {},
   "cell_type": "markdown",
   "metadata": {},
   "source": [
    "### 创建模型服务\n",
    "\n",
    "这一步用于创建一个在线服务，获取到service Id"
   ]
  },
  {
   "cell_type": "code",
   "execution_count": 84,
   "metadata": {},
   "outputs": [
    {
     "name": "stdout",
     "output_type": "stream",
     "text": [
      "req QfRequest(method='POST', url='/wenxinworkshop/service/apply', query={}, headers={}, json_body={'modelId': 7531, 'iterationId': 9314, 'name': 'testsebqf1', 'uri': 'sdkqf1', 'replicas': 1, 'poolType': 2}, retry_config=RetryConfig(retry_count=1, timeout=10, backoff_factor=0))\n"
     ]
    }
   ],
   "source": [
    "from qianfan.resources import Service\n",
    "g = Service.create(\n",
    "    model_id = model_id, \n",
    "    iteration_id = model_version_id, \n",
    "    name=\"testsebqf1\", \n",
    "    uri=\"sdkqf1\",\n",
    "    replicas=1, \n",
    "    pool_type=2\n",
    ")\n"
   ]
  },
  {
   "cell_type": "code",
   "execution_count": 85,
   "metadata": {},
   "outputs": [
    {
     "data": {
      "text/plain": [
       "3813"
      ]
     },
     "execution_count": 85,
     "metadata": {},
     "output_type": "execute_result"
    }
   ],
   "source": [
    "svc_id = g[\"result\"][\"serviceId\"]\n",
    "svc_id"
   ]
  },
  {
   "attachments": {},
   "cell_type": "markdown",
   "metadata": {},
   "source": [
    "### 部署模型服务\n",
    "\n",
    "这一步由于需要涉及到资源的服务逻辑，所以目前需要在web上操作付费，完成付费之后即可使用模型推理服务。\n",
    "![deploy_pay](img/deploy_pay.jpg)"
   ]
  },
  {
   "cell_type": "code",
   "execution_count": 86,
   "metadata": {},
   "outputs": [
    {
     "name": "stdout",
     "output_type": "stream",
     "text": [
      "svc deploy status: New\n",
      "svc deploy status: New\n",
      "svc deploy status: New\n",
      "svc deploy status: New\n",
      "svc deploy status: New\n",
      "svc deploy status: New\n",
      "svc deploy status: Deploying\n",
      "svc deploy status: Deploying\n",
      "svc deploy status: Deploying\n",
      "svc deploy status: Deploying\n",
      "svc deploy status: Deploying\n",
      "svc deploy status: Deploying\n",
      "svc deploy status: Deploying\n",
      "svc deploy status: Deploying\n",
      "svc deploy status: Deploying\n",
      "svc deploy status: Deploying\n",
      "svc deploy status: Deploying\n",
      "svc deploy status: Deploying\n",
      "svc deploy status: Deploying\n",
      "svc deploy status: Deploying\n",
      "svc deploy status: Deploying\n",
      "svc deploy status: Deploying\n",
      "svc deploy status: Deploying\n",
      "svc deploy status: Deploying\n",
      "svc deploy status: Deploying\n",
      "svc deploy status: Deploying\n",
      "svc deploy status: Deploying\n",
      "svc deploy status: Deploying\n",
      "svc deploy status: Deploying\n",
      "svc deploy status: Deploying\n",
      "svc deploy status: Deploying\n",
      "svc deploy status: Deploying\n",
      "svc deploy status: Deploying\n",
      "svc deploy status: Deploying\n",
      "svc deploy status: Deploying\n",
      "svc deploy status: Deploying\n",
      "svc deploy status: Done\n",
      "sft_model_endpoint: xxxx"
     ]
    }
   ],
   "source": [
    "# 资源付费完成后，serviceStatus会变成Deploying，查看模型服务状态, 直到serviceStatus变成部署完成，得到model_endpoint\n",
    "# 这一步涉及到资源调度，需要等待5-20分钟不等\n",
    "while True:\n",
    "    resp = Service.get(id = svc_id)\n",
    "    svc_status = resp[\"result\"][\"serviceStatus\"]\n",
    "    print(\"svc deploy status:\", svc_status)\n",
    "    if svc_status in [\"Done\", \"\"]:\n",
    "        sft_model_endpoint=resp[\"result\"][\"uri\"]\n",
    "        break\n",
    "    time.sleep(30)\n",
    "print(\"sft_model_endpoint:\", sft_model_endpoint)"
   ]
  },
  {
   "attachments": {},
   "cell_type": "markdown",
   "metadata": {},
   "source": [
    "### 访问SFT模型服务\n",
    "\n",
    "在访问服务之前，首先需要配置预测服务应用的AK/SK，可以从控制台中的应用接入里获取：\n",
    "\n",
    "![app_ak_sk](img/app_ak_sk.jpg)"
   ]
  },
  {
   "cell_type": "code",
   "execution_count": 33,
   "metadata": {},
   "outputs": [],
   "source": [
    "# 预测服务的\n",
    "os.environ[\"QIANFAN_AK\"] = \"your_app_ak\"\n",
    "os.environ[\"QIANFAN_SK\"] = \"your_app_sk\""
   ]
  },
  {
   "cell_type": "code",
   "execution_count": 39,
   "metadata": {},
   "outputs": [
    {
     "data": {
      "text/plain": [
       "QfResponse(code=200, headers={'Access-Control-Allow-Headers': 'Content-Type', 'Access-Control-Allow-Origin': '*', 'Appid': '26217442', 'Connection': 'keep-alive', 'Content-Encoding': 'gzip', 'Content-Type': 'application/json; charset=utf-8', 'Date': 'Thu, 26 Oct 2023 12:12:32 GMT', 'P3p': 'CP=\" OTI DSP COR IVA OUR IND COM \"', 'Server': 'Apache', 'Set-Cookie': 'BAIDUID=7FBBE2E6B5D83AB3C6A3B5F2ABB8E430:FG=1; expires=Thu, 31-Dec-37 23:55:55 GMT; max-age=2145916555; path=/; domain=.baidu.com; version=1', 'Statement': 'AI-generated', 'Vary': 'Accept-Encoding', 'X-Aipe-Self-Def': 'eb_total_tokens:17-id:as-j0ker4w7ar', 'X-Baidu-Request-Id': '9a143024d69419cb6e8ab8bb2d751b8e1000130', 'X-Openapi-Server-Timestamp': '1698322351', 'Content-Length': '222'}, body={'id': 'as-j0ker4w7ar', 'object': 'chat.completion', 'created': 1698322352, 'result': '我是文心一言，是百度研发的。', 'is_truncated': False, 'need_clear_history': False, 'usage': {'prompt_tokens': 5, 'completion_tokens': 12, 'total_tokens': 17}}, image=None)"
      ]
     },
     "execution_count": 39,
     "metadata": {},
     "output_type": "execute_result"
    }
   ],
   "source": [
    "import qianfan\n",
    "chat_comp = qianfan.ChatCompletion(endpoint=sft_model_endpoint)\n",
    "msgs = qianfan.Messages()\n",
    "msgs.append(message=\"你好，你是谁？\", role=qianfan.QfRole.User)\n",
    "chat_resp = chat_comp.do(messages=msgs)\n",
    "chat_resp\n"
   ]
  },
  {
   "attachments": {},
   "cell_type": "markdown",
   "metadata": {},
   "source": [
    "### 总结\n",
    "至此，你已经通过SFT训练成功的微调出自己的大语言模型，SFT是一个很好的手段，用于针对于特定场景下的语料进行模型特化，以增强模型在某方面的能力，非常适合对于垂直领域内的应用。除了SFT之外，千帆平台还提供了RLHF功能，SDK也将在将来持续跟进LLMOps能力。"
   ]
  }
 ],
 "metadata": {
  "kernelspec": {
   "display_name": "base",
   "language": "python",
   "name": "python3"
  },
  "language_info": {
   "codemirror_mode": {
    "name": "ipython",
    "version": 3
   },
   "file_extension": ".py",
   "mimetype": "text/x-python",
   "name": "python",
   "nbconvert_exporter": "python",
   "pygments_lexer": "ipython3",
   "version": "3.11.5"
  },
  "orig_nbformat": 4,
  "vscode": {
   "interpreter": {
    "hash": "58f7cb64c3a06383b7f18d2a11305edccbad427293a2b4afa7abe8bfc810d4bb"
   }
  }
 },
 "nbformat": 4,
 "nbformat_minor": 2
}
