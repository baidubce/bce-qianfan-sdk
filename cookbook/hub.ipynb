{
 "cells": [
  {
   "attachments": {},
   "cell_type": "markdown",
   "metadata": {},
   "source": [
    "# 千帆 Hub"
   ]
  },
  {
   "cell_type": "code",
   "execution_count": 1,
   "metadata": {},
   "outputs": [],
   "source": [
    "from qianfan.components import hub, Prompt"
   ]
  },
  {
   "attachments": {},
   "cell_type": "markdown",
   "metadata": {},
   "source": [
    "## 保存 & 加载"
   ]
  },
  {
   "cell_type": "code",
   "execution_count": 2,
   "metadata": {},
   "outputs": [
    {
     "data": {
      "text/plain": [
       "('请推荐三套漂亮的适合通勤的女衣着搭配', None)"
      ]
     },
     "execution_count": 2,
     "metadata": {},
     "output_type": "execute_result"
    }
   ],
   "source": [
    "# 基本的保存和加载\n",
    "\n",
    "p = Prompt(name = \"穿搭灵感\")\n",
    "# 不指定时会将序列化后内容直接返回\n",
    "s = hub.save(p)\n",
    "\n",
    "# 通过 json_str 就可以重新加载\n",
    "restored_p = hub.load(json_str = s)\n",
    "restored_p.render(style=\"漂亮的\", gender=\"女\")"
   ]
  },
  {
   "cell_type": "code",
   "execution_count": 3,
   "metadata": {},
   "outputs": [
    {
     "data": {
      "text/plain": [
       "('请推荐三套漂亮的适合通勤的女衣着搭配', None)"
      ]
     },
     "execution_count": 3,
     "metadata": {},
     "output_type": "execute_result"
    }
   ],
   "source": [
    "# 基于文件的保存与加载\n",
    "f = \"./prompt_file\"\n",
    "\n",
    "p = Prompt(name = \"穿搭灵感\")\n",
    "# 也可以 save 时通过 path 指定保存的路径\n",
    "hub.save(p, path=f)\n",
    "\n",
    "# 之后 load 时直接通过 path 加载即可\n",
    "restored_p = hub.load(path=f)\n",
    "restored_p.render(style=\"漂亮的\", gender=\"女\")"
   ]
  },
  {
   "cell_type": "code",
   "execution_count": null,
   "metadata": {},
   "outputs": [],
   "source": []
  }
 ],
 "metadata": {
  "kernelspec": {
   "display_name": "py311",
   "language": "python",
   "name": "python3"
  },
  "language_info": {
   "codemirror_mode": {
    "name": "ipython",
    "version": 3
   },
   "file_extension": ".py",
   "mimetype": "text/x-python",
   "name": "python",
   "nbconvert_exporter": "python",
   "pygments_lexer": "ipython3",
   "version": "3.11.5"
  },
  "orig_nbformat": 4,
  "vscode": {
   "interpreter": {
    "hash": "f553a591cb5da27fa30e85168a93942a1a24c8d6748197473adb125e5473a5db"
   }
  }
 },
 "nbformat": 4,
 "nbformat_minor": 2
}
