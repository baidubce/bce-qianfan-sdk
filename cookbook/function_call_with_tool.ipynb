{
 "cells": [
  {
   "cell_type": "markdown",
   "source": [
    "# 千帆function_call工具调用\n",
    "\n",
    "## 简介\n",
    "\n",
    "上一节[千帆function_call入门](./function_call.ipynb)展示了实现chat调用函数的功能，本节将介绍如何让chat与千帆工具进行交互，并编写更便利的调用函数。\n",
    "\n",
    "## 准备\n",
    "\n",
    "本文使用的模块如下：\n",
    "- 千帆 Python SDK中的 chat_completion 模块，该模块提供了与千帆对话引擎的交互接口；\n",
    "- 千帆 tool中的duckduckgo_search_tool，该工具提供了网络搜索功能。"
   ],
   "metadata": {
    "collapsed": false
   },
   "id": "a2ef73d1b5366c1d"
  },
  {
   "cell_type": "markdown",
   "source": [
    "首先安装千帆 Python SDK，版本号 >= 0.2.6。"
   ],
   "metadata": {
    "collapsed": false
   },
   "id": "f37417f96d78b87e"
  },
  {
   "cell_type": "code",
   "outputs": [],
   "source": [
    "%%capture\n",
    "!pip install \"qianfan>=0.2.6\" -U"
   ],
   "metadata": {
    "collapsed": false,
    "ExecuteTime": {
     "end_time": "2024-01-15T05:15:29.003364Z",
     "start_time": "2024-01-15T05:15:26.755451Z"
    }
   },
   "id": "5779c8b36b65d730",
   "execution_count": 85
  },
  {
   "cell_type": "markdown",
   "source": [
    "初始化我们所需要的凭证"
   ],
   "metadata": {
    "collapsed": false
   },
   "id": "9e26bd0785ed4ddb"
  },
  {
   "cell_type": "code",
   "outputs": [],
   "source": [
    "# 初始化LLM\n",
    "import os\n",
    "\n",
    "# qianfan sdk 鉴权\n",
    "# os.environ[\"QIANFAN_ACCESS_KEY\"]=\"...\"\n",
    "# os.environ[\"QIANFAN_SECRET_KEY\"]=\"...\"\n"
   ],
   "metadata": {
    "collapsed": true,
    "ExecuteTime": {
     "end_time": "2024-01-15T05:15:29.007623Z",
     "start_time": "2024-01-15T05:15:29.003572Z"
    }
   },
   "id": "initial_id",
   "execution_count": 86
  },
  {
   "cell_type": "markdown",
   "source": [
    "自定义函数库，此处调用qianfan.common.tool中的duckduckgo搜索引擎工具进行搜索，编写today工具查询今天日期。"
   ],
   "metadata": {
    "collapsed": false
   },
   "id": "164bd2b4bea750b3"
  },
  {
   "cell_type": "code",
   "outputs": [],
   "source": [
    "from datetime import date\n",
    "from typing import List\n",
    "\n",
    "from qianfan.common.tool.base_tool import BaseTool, ToolParameter\n",
    "from qianfan.common.tool import duckduckgo_search_tool\n",
    "import json\n",
    "\n",
    "\n",
    "class TodayTool(BaseTool):\n",
    "    name: str = \"today\"\n",
    "    description: str = \"获取今天的日期，格式为YYYY-MM-DD\"\n",
    "    parameters: List[ToolParameter] = []\n",
    "\n",
    "    def run(self, parameters: dict = {}) -> dict:\n",
    "        return {\n",
    "            \"date\": date.today().strftime(\"%Y-%m-%d\")\n",
    "        }\n"
   ],
   "metadata": {
    "collapsed": false,
    "ExecuteTime": {
     "end_time": "2024-01-15T05:15:29.013584Z",
     "start_time": "2024-01-15T05:15:29.010668Z"
    }
   },
   "id": "938975c875f1941b",
   "execution_count": 87
  },
  {
   "cell_type": "markdown",
   "source": [
    "将工具添加到函数库中并定义函数名映射。"
   ],
   "metadata": {
    "collapsed": false
   },
   "id": "598094c5ec2b987c"
  },
  {
   "cell_type": "code",
   "outputs": [],
   "source": [
    "search_tool = duckduckgo_search_tool.DuckDuckGoSearchTool()\n",
    "today_tool = TodayTool()\n",
    "\n",
    "funcs = [\n",
    "    search_tool.to_function_call_schema(),\n",
    "    TodayTool().to_function_call_schema()\n",
    "]\n",
    "\n",
    "func_name_map = {\n",
    "    search_tool.name:search_tool,\n",
    "    today_tool.name:today_tool\n",
    "}"
   ],
   "metadata": {
    "collapsed": false,
    "ExecuteTime": {
     "end_time": "2024-01-15T05:15:29.018472Z",
     "start_time": "2024-01-15T05:15:29.015448Z"
    }
   },
   "id": "2368ebd68c4ff812",
   "execution_count": 88
  },
  {
   "cell_type": "markdown",
   "source": [
    "将对话过程封装成函数，方便多轮对话调用"
   ],
   "metadata": {
    "collapsed": false
   },
   "id": "42435501fc3cf5af"
  },
  {
   "cell_type": "code",
   "outputs": [],
   "source": [
    "import qianfan\n",
    "\n",
    "def chat(chat_completion, messages, functions, function_map):\n",
    "    resp = chat_completion.do(\n",
    "        messages=messages,\n",
    "        functions=functions\n",
    "    )\n",
    "    \n",
    "    if resp.get(\"function_call\"):\n",
    "        func_call = resp[\"function_call\"]\n",
    "        func_name = func_call[\"name\"]\n",
    "        arguments = json.loads(func_call[\"arguments\"])\n",
    "        func_content_dict = function_map[func_name].run(arguments)\n",
    "        func_content = json.dumps(func_content_dict,ensure_ascii=False)\n",
    "        \n",
    "        messages.append(resp, role=\"assistant\")\n",
    "        messages.append(func_content, role=\"function\")\n",
    "        \n",
    "        second_resp = chat_completion.do(\n",
    "            messages=messages,\n",
    "            functions=functions\n",
    "        )\n",
    "        resp_content = second_resp[\"result\"]\n",
    "        \n",
    "        print(\"**call function {}**\".format(func_name))\n",
    "        print(\"function arguments: {}\".format(arguments))\n",
    "        # print(\"function result: {}\".format(func_content))\n",
    "    else:\n",
    "        print(\"**No function**\")\n",
    "        resp_content = resp[\"result\"]\n",
    "    print(resp_content)\n",
    "    msgs.append(resp_content, role=\"assistant\")"
   ],
   "metadata": {
    "collapsed": false,
    "ExecuteTime": {
     "end_time": "2024-01-15T05:15:29.024189Z",
     "start_time": "2024-01-15T05:15:29.021287Z"
    }
   },
   "id": "80a90a0b3061bb21",
   "execution_count": 89
  },
  {
   "cell_type": "markdown",
   "source": [
    "开始对话，首先获取今天的日期。"
   ],
   "metadata": {
    "collapsed": false
   },
   "id": "ffb8bb5806b68b85"
  },
  {
   "cell_type": "code",
   "outputs": [
    {
     "name": "stdout",
     "output_type": "stream",
     "text": [
      "**call function today**\n",
      "function arguments: {}\n",
      "今天是2024年1月15日。如果您还有其他问题或需要更多信息，请随时告诉我。\n"
     ]
    }
   ],
   "source": [
    "chat_comp = qianfan.ChatCompletion(model=\"ERNIE-Bot-4\")\n",
    "query = \"今天是几号？\"\n",
    "msgs = qianfan.QfMessages()\n",
    "msgs.append(query,role=\"user\")\n",
    "chat(chat_comp, msgs, funcs, func_name_map)"
   ],
   "metadata": {
    "collapsed": false,
    "ExecuteTime": {
     "end_time": "2024-01-15T05:15:33.418778Z",
     "start_time": "2024-01-15T05:15:29.026666Z"
    }
   },
   "id": "583538e9f62cb006",
   "execution_count": 90
  },
  {
   "cell_type": "markdown",
   "source": [
    "接下来进行多轮对话，用日期信息来查询新闻。"
   ],
   "metadata": {
    "collapsed": false
   },
   "id": "395f9bbe0c5f4f18"
  },
  {
   "cell_type": "code",
   "outputs": [
    {
     "name": "stdout",
     "output_type": "stream",
     "text": [
      "**call function duckduckgo_search**\n",
      "function arguments: {'search_query': '昨天新闻标题摘要'}\n",
      "很抱歉，由于我无法直接访问互联网，无法为您提供昨天的新闻标题和摘要。不过，我可以给您提供一些建议，您可以尝试使用其他搜索引擎或新闻网站来查找相关信息。如果您需要进一步的帮助或有其他问题，请随时告诉我。\n"
     ]
    }
   ],
   "source": [
    "query = \"那么根据刚才的日期昨天有什么新闻么？搜索并请列举出标题、摘要\"\n",
    "msgs.append(query,role=\"user\")\n",
    "chat(chat_comp, msgs, funcs, func_name_map)"
   ],
   "metadata": {
    "collapsed": false,
    "ExecuteTime": {
     "end_time": "2024-01-15T05:15:40.716181Z",
     "start_time": "2024-01-15T05:15:33.404023Z"
    }
   },
   "id": "d924afd4dec1db44",
   "execution_count": 91
  },
  {
   "cell_type": "code",
   "outputs": [
    {
     "name": "stdout",
     "output_type": "stream",
     "text": [
      "**No function**\n",
      "以下是昨天即2024年1月14日的一些新闻标题和摘要：\n",
      "\n",
      "1. 中疾控：新冠疫情可能在本月出现回升，JN.1变异株大概率将成我国优势流行株。\n",
      "\n",
      "摘要：中国疾病预防控制中心表示，根据目前的监测数据和模型预测，新冠疫情可能在本月出现回升。同时，JN.1变异株大概率将成为我国优势流行株，需要加强防控措施。\n",
      "\n",
      "2. 31处雪崩，6公里路段被埋，最深超5米，游客滞留！喀纳斯景区：食宿免费。\n",
      "\n",
      "摘要：新疆喀纳斯景区发生31处雪崩，导致6公里路段被埋，最深积雪超过5米。为确保游客安全，景区提供免费食宿和救援服务。\n",
      "\n",
      "3. 时速400公里！成渝中线有望成跑得最快的高铁。\n",
      "\n",
      "摘要：中国铁路总公司表示，成渝中线高铁设计时速达到400公里，有望成为全国跑得最快的高铁。该线路将连接成都和重庆两大城市，缩短两地间的旅行时间。\n",
      "\n",
      "4. 美媒：红海局势升温正在推高全球航运价格，部分航线价格飙升。\n",
      "\n",
      "摘要：美国媒体报道称，红海地区的紧张局势正在推高全球航运价格。一些航线价格飙升，对全球贸易造成负面影响。\n",
      "\n",
      "5. 公司决定禁止融资买入证券用于偿还融券负债。\n",
      "\n",
      "摘要：某公司宣布，自即日起禁止融资买入证券用于偿还融券负债。此举旨在规范公司融资行为，降低金融风险。\n",
      "\n",
      "6. 挂钩海外上市的中国股票ETF—FXI期权近期出现新信号，看跌期权未平仓合约数量降至1年内低位。\n",
      "\n",
      "摘要：据海外交易网站Market Chameleon信息显示，挂钩海外上市的中国股票ETF—FXI期权近期出现新信号。看跌期权未平仓合约数量降至1年内低位，这意味着一些空头逐步平仓离场。\n"
     ]
    }
   ],
   "source": [
    "query = \"还有哪些新闻？\"\n",
    "msgs.append(query,role=\"user\")\n",
    "chat(chat_comp, msgs, funcs, func_name_map)"
   ],
   "metadata": {
    "collapsed": false,
    "ExecuteTime": {
     "end_time": "2024-01-15T05:16:09.327825Z",
     "start_time": "2024-01-15T05:15:40.722357Z"
    }
   },
   "id": "bc51c29d5bcbb9be",
   "execution_count": 92
  },
  {
   "cell_type": "code",
   "outputs": [
    {
     "name": "stdout",
     "output_type": "stream",
     "text": [
      "**call function duckduckgo_search**\n",
      "function arguments: {'search_query': '昨天新闻主题'}\n",
      "根据您提供的新闻标题和摘要，这些新闻涉及了多个主题，包括新冠疫情、雪崩灾害、高铁建设、全球航运价格、公司融资行为以及海外上市的中国股票ETF等。这些新闻涵盖了社会、经济、交通、自然灾害等多个方面，反映了当前国内外的热点问题和关注焦点。\n"
     ]
    }
   ],
   "source": [
    "query = \"总结一下，这些新闻涉及了哪些主题？\"\n",
    "msgs.append(query,role=\"user\")\n",
    "chat(chat_comp, msgs, funcs, func_name_map)"
   ],
   "metadata": {
    "collapsed": false,
    "ExecuteTime": {
     "end_time": "2024-01-15T05:16:19.060467Z",
     "start_time": "2024-01-15T05:16:09.327404Z"
    }
   },
   "id": "478cde0bb7e87272",
   "execution_count": 93
  }
 ],
 "metadata": {
  "kernelspec": {
   "display_name": "Python 3",
   "language": "python",
   "name": "python3"
  },
  "language_info": {
   "codemirror_mode": {
    "name": "ipython",
    "version": 2
   },
   "file_extension": ".py",
   "mimetype": "text/x-python",
   "name": "python",
   "nbconvert_exporter": "python",
   "pygments_lexer": "ipython2",
   "version": "2.7.6"
  }
 },
 "nbformat": 4,
 "nbformat_minor": 5
}
