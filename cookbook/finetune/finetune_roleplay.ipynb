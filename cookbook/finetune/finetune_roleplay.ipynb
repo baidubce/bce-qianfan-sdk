{
 "cells": [
  {
   "cell_type": "markdown",
   "metadata": {},
   "source": [
    "# 微调模型实现角色扮演对话\n",
    "本文将演示如何通过模型微调，满足生成小说人物风格对话的功能。\n",
    "\n",
    "本文数据集来自[CharacterEval: A Chinese Benchmark for Role-Playing Conversational Agent Evaluation](https://github.com/morecry/CharacterEval?tab=readme-ov-file)。处理后的数据集已经上传至千帆平台作为预置数据集，可以直接使用。\n",
    "\n",
    "本例将基于qianfan==0.3.7展示原始数据处理，加载微调数据集并上传到千帆平台，基于ERNIE-Speed进行fine-tune，多模型比对进行模型评估。"
   ]
  },
  {
   "cell_type": "code",
   "execution_count": 95,
   "metadata": {
    "ExecuteTime": {
     "end_time": "2024-04-11T02:09:56.944073Z",
     "start_time": "2024-04-11T02:09:37.874613Z"
    }
   },
   "outputs": [
    {
     "name": "stdout",
     "output_type": "stream",
     "text": [
      "Requirement already satisfied: qianfan>=0.3.7 in /Users/guoweiming/opt/anaconda3/lib/python3.9/site-packages (from qianfan[dataset_base]>=0.3.7) (0.3.7.1)\r\n",
      "Requirement already satisfied: aiohttp>=3.7.0 in /Users/guoweiming/opt/anaconda3/lib/python3.9/site-packages (from qianfan>=0.3.7->qianfan[dataset_base]>=0.3.7) (3.9.3)\r\n",
      "Requirement already satisfied: aiolimiter>=1.1.0 in /Users/guoweiming/opt/anaconda3/lib/python3.9/site-packages (from qianfan>=0.3.7->qianfan[dataset_base]>=0.3.7) (1.1.0)\r\n",
      "Requirement already satisfied: bce-python-sdk>=0.8.79 in /Users/guoweiming/opt/anaconda3/lib/python3.9/site-packages (from qianfan>=0.3.7->qianfan[dataset_base]>=0.3.7) (0.9.6)\r\n",
      "Requirement already satisfied: diskcache<6.0.0,>=5.6.3 in /Users/guoweiming/opt/anaconda3/lib/python3.9/site-packages (from qianfan>=0.3.7->qianfan[dataset_base]>=0.3.7) (5.6.3)\r\n",
      "Requirement already satisfied: multiprocess in /Users/guoweiming/opt/anaconda3/lib/python3.9/site-packages (from qianfan>=0.3.7->qianfan[dataset_base]>=0.3.7) (0.70.16)\r\n",
      "Requirement already satisfied: prompt-toolkit>=3.0.38 in /Users/guoweiming/opt/anaconda3/lib/python3.9/site-packages (from qianfan>=0.3.7->qianfan[dataset_base]>=0.3.7) (3.0.43)\r\n",
      "Requirement already satisfied: pydantic in /Users/guoweiming/opt/anaconda3/lib/python3.9/site-packages (from qianfan>=0.3.7->qianfan[dataset_base]>=0.3.7) (2.6.4)\r\n",
      "Requirement already satisfied: python-dotenv>=1.0 in /Users/guoweiming/opt/anaconda3/lib/python3.9/site-packages (from qianfan>=0.3.7->qianfan[dataset_base]>=0.3.7) (1.0.1)\r\n",
      "Requirement already satisfied: pyyaml<7.0.0,>=6.0.1 in /Users/guoweiming/opt/anaconda3/lib/python3.9/site-packages (from qianfan>=0.3.7->qianfan[dataset_base]>=0.3.7) (6.0.1)\r\n",
      "Requirement already satisfied: requests>=2.24 in /Users/guoweiming/opt/anaconda3/lib/python3.9/site-packages (from qianfan>=0.3.7->qianfan[dataset_base]>=0.3.7) (2.31.0)\r\n",
      "Requirement already satisfied: rich>=13.0.0 in /Users/guoweiming/opt/anaconda3/lib/python3.9/site-packages (from qianfan>=0.3.7->qianfan[dataset_base]>=0.3.7) (13.7.1)\r\n",
      "Requirement already satisfied: tenacity<9.0.0,>=8.2.3 in /Users/guoweiming/opt/anaconda3/lib/python3.9/site-packages (from qianfan>=0.3.7->qianfan[dataset_base]>=0.3.7) (8.2.3)\r\n",
      "Requirement already satisfied: typer>=0.9.0 in /Users/guoweiming/opt/anaconda3/lib/python3.9/site-packages (from qianfan>=0.3.7->qianfan[dataset_base]>=0.3.7) (0.11.0)\r\n",
      "Requirement already satisfied: typing-extensions>=4.0.0 in /Users/guoweiming/opt/anaconda3/lib/python3.9/site-packages (from qianfan>=0.3.7->qianfan[dataset_base]>=0.3.7) (4.10.0)\r\n",
      "Requirement already satisfied: clevercsv in /Users/guoweiming/opt/anaconda3/lib/python3.9/site-packages (from qianfan[dataset_base]>=0.3.7) (0.8.2)\r\n",
      "Requirement already satisfied: ijson in /Users/guoweiming/opt/anaconda3/lib/python3.9/site-packages (from qianfan[dataset_base]>=0.3.7) (3.2.3)\r\n",
      "Requirement already satisfied: numpy>=1.22.0 in /Users/guoweiming/opt/anaconda3/lib/python3.9/site-packages (from qianfan[dataset_base]>=0.3.7) (1.26.4)\r\n",
      "Requirement already satisfied: pyarrow>=14.0.1 in /Users/guoweiming/opt/anaconda3/lib/python3.9/site-packages (from qianfan[dataset_base]>=0.3.7) (15.0.2)\r\n",
      "Requirement already satisfied: python-dateutil<3.0.0,>=2.8.2 in /Users/guoweiming/opt/anaconda3/lib/python3.9/site-packages (from qianfan[dataset_base]>=0.3.7) (2.9.0.post0)\r\n",
      "Requirement already satisfied: aiosignal>=1.1.2 in /Users/guoweiming/opt/anaconda3/lib/python3.9/site-packages (from aiohttp>=3.7.0->qianfan>=0.3.7->qianfan[dataset_base]>=0.3.7) (1.3.1)\r\n",
      "Requirement already satisfied: attrs>=17.3.0 in /Users/guoweiming/opt/anaconda3/lib/python3.9/site-packages (from aiohttp>=3.7.0->qianfan>=0.3.7->qianfan[dataset_base]>=0.3.7) (23.2.0)\r\n",
      "Requirement already satisfied: frozenlist>=1.1.1 in /Users/guoweiming/opt/anaconda3/lib/python3.9/site-packages (from aiohttp>=3.7.0->qianfan>=0.3.7->qianfan[dataset_base]>=0.3.7) (1.4.1)\r\n",
      "Requirement already satisfied: multidict<7.0,>=4.5 in /Users/guoweiming/opt/anaconda3/lib/python3.9/site-packages (from aiohttp>=3.7.0->qianfan>=0.3.7->qianfan[dataset_base]>=0.3.7) (6.0.5)\r\n",
      "Requirement already satisfied: yarl<2.0,>=1.0 in /Users/guoweiming/opt/anaconda3/lib/python3.9/site-packages (from aiohttp>=3.7.0->qianfan>=0.3.7->qianfan[dataset_base]>=0.3.7) (1.9.4)\r\n",
      "Requirement already satisfied: async-timeout<5.0,>=4.0 in /Users/guoweiming/opt/anaconda3/lib/python3.9/site-packages (from aiohttp>=3.7.0->qianfan>=0.3.7->qianfan[dataset_base]>=0.3.7) (4.0.3)\r\n",
      "Requirement already satisfied: pycryptodome>=3.8.0 in /Users/guoweiming/opt/anaconda3/lib/python3.9/site-packages (from bce-python-sdk>=0.8.79->qianfan>=0.3.7->qianfan[dataset_base]>=0.3.7) (3.20.0)\r\n",
      "Requirement already satisfied: future>=0.6.0 in /Users/guoweiming/opt/anaconda3/lib/python3.9/site-packages (from bce-python-sdk>=0.8.79->qianfan>=0.3.7->qianfan[dataset_base]>=0.3.7) (1.0.0)\r\n",
      "Requirement already satisfied: six>=1.4.0 in /Users/guoweiming/opt/anaconda3/lib/python3.9/site-packages (from bce-python-sdk>=0.8.79->qianfan>=0.3.7->qianfan[dataset_base]>=0.3.7) (1.16.0)\r\n",
      "Requirement already satisfied: wcwidth in /Users/guoweiming/opt/anaconda3/lib/python3.9/site-packages (from prompt-toolkit>=3.0.38->qianfan>=0.3.7->qianfan[dataset_base]>=0.3.7) (0.2.13)\r\n",
      "Requirement already satisfied: charset-normalizer<4,>=2 in /Users/guoweiming/opt/anaconda3/lib/python3.9/site-packages (from requests>=2.24->qianfan>=0.3.7->qianfan[dataset_base]>=0.3.7) (3.3.2)\r\n",
      "Requirement already satisfied: idna<4,>=2.5 in /Users/guoweiming/opt/anaconda3/lib/python3.9/site-packages (from requests>=2.24->qianfan>=0.3.7->qianfan[dataset_base]>=0.3.7) (3.6)\r\n",
      "Requirement already satisfied: urllib3<3,>=1.21.1 in /Users/guoweiming/opt/anaconda3/lib/python3.9/site-packages (from requests>=2.24->qianfan>=0.3.7->qianfan[dataset_base]>=0.3.7) (2.2.1)\r\n",
      "Requirement already satisfied: certifi>=2017.4.17 in /Users/guoweiming/opt/anaconda3/lib/python3.9/site-packages (from requests>=2.24->qianfan>=0.3.7->qianfan[dataset_base]>=0.3.7) (2024.2.2)\r\n",
      "Requirement already satisfied: markdown-it-py>=2.2.0 in /Users/guoweiming/opt/anaconda3/lib/python3.9/site-packages (from rich>=13.0.0->qianfan>=0.3.7->qianfan[dataset_base]>=0.3.7) (3.0.0)\r\n",
      "Requirement already satisfied: pygments<3.0.0,>=2.13.0 in /Users/guoweiming/opt/anaconda3/lib/python3.9/site-packages (from rich>=13.0.0->qianfan>=0.3.7->qianfan[dataset_base]>=0.3.7) (2.17.2)\r\n",
      "Requirement already satisfied: click>=8.0.0 in /Users/guoweiming/opt/anaconda3/lib/python3.9/site-packages (from typer>=0.9.0->qianfan>=0.3.7->qianfan[dataset_base]>=0.3.7) (8.1.7)\r\n",
      "Requirement already satisfied: chardet>=3.0 in /Users/guoweiming/opt/anaconda3/lib/python3.9/site-packages (from clevercsv->qianfan[dataset_base]>=0.3.7) (5.2.0)\r\n",
      "Requirement already satisfied: regex>=2018.11 in /Users/guoweiming/opt/anaconda3/lib/python3.9/site-packages (from clevercsv->qianfan[dataset_base]>=0.3.7) (2023.12.25)\r\n",
      "Requirement already satisfied: packaging>=23.0 in /Users/guoweiming/opt/anaconda3/lib/python3.9/site-packages (from clevercsv->qianfan[dataset_base]>=0.3.7) (24.0)\r\n",
      "Requirement already satisfied: dill>=0.3.8 in /Users/guoweiming/opt/anaconda3/lib/python3.9/site-packages (from multiprocess->qianfan>=0.3.7->qianfan[dataset_base]>=0.3.7) (0.3.8)\r\n",
      "Requirement already satisfied: annotated-types>=0.4.0 in /Users/guoweiming/opt/anaconda3/lib/python3.9/site-packages (from pydantic->qianfan>=0.3.7->qianfan[dataset_base]>=0.3.7) (0.6.0)\r\n",
      "Requirement already satisfied: pydantic-core==2.16.3 in /Users/guoweiming/opt/anaconda3/lib/python3.9/site-packages (from pydantic->qianfan>=0.3.7->qianfan[dataset_base]>=0.3.7) (2.16.3)\r\n",
      "Requirement already satisfied: mdurl~=0.1 in /Users/guoweiming/opt/anaconda3/lib/python3.9/site-packages (from markdown-it-py>=2.2.0->rich>=13.0.0->qianfan>=0.3.7->qianfan[dataset_base]>=0.3.7) (0.1.2)\r\n",
      "Requirement already satisfied: pandas in /Users/guoweiming/opt/anaconda3/lib/python3.9/site-packages (2.2.1)\r\n",
      "Collecting pandas\r\n",
      "  Downloading pandas-2.2.2-cp39-cp39-macosx_10_9_x86_64.whl.metadata (19 kB)\r\n",
      "Requirement already satisfied: numpy>=1.22.4 in /Users/guoweiming/opt/anaconda3/lib/python3.9/site-packages (from pandas) (1.26.4)\r\n",
      "Requirement already satisfied: python-dateutil>=2.8.2 in /Users/guoweiming/opt/anaconda3/lib/python3.9/site-packages (from pandas) (2.9.0.post0)\r\n",
      "Requirement already satisfied: pytz>=2020.1 in /Users/guoweiming/opt/anaconda3/lib/python3.9/site-packages (from pandas) (2022.1)\r\n",
      "Requirement already satisfied: tzdata>=2022.7 in /Users/guoweiming/opt/anaconda3/lib/python3.9/site-packages (from pandas) (2024.1)\r\n",
      "Requirement already satisfied: six>=1.5 in /Users/guoweiming/opt/anaconda3/lib/python3.9/site-packages (from python-dateutil>=2.8.2->pandas) (1.16.0)\r\n",
      "Downloading pandas-2.2.2-cp39-cp39-macosx_10_9_x86_64.whl (12.6 MB)\r\n",
      "\u001B[2K   \u001B[90m━━━━━━━━━━━━━━━━━━━━━━━━━━━━━━━━━━━━━━━━\u001B[0m \u001B[32m12.6/12.6 MB\u001B[0m \u001B[31m1.4 MB/s\u001B[0m eta \u001B[36m0:00:00\u001B[0m00:01\u001B[0m00:01\u001B[0m\r\n",
      "\u001B[?25hInstalling collected packages: pandas\r\n",
      "  Attempting uninstall: pandas\r\n",
      "    Found existing installation: pandas 2.2.1\r\n",
      "    Uninstalling pandas-2.2.1:\r\n",
      "      Successfully uninstalled pandas-2.2.1\r\n",
      "\u001B[31mERROR: pip's dependency resolver does not currently take into account all the packages that are installed. This behaviour is the source of the following dependency conflicts.\r\n",
      "datasets 2.16.1 requires dill<0.3.8,>=0.3.0, but you have dill 0.3.8 which is incompatible.\r\n",
      "datasets 2.16.1 requires fsspec[http]<=2023.10.0,>=2023.1.0, but you have fsspec 2024.2.0 which is incompatible.\r\n",
      "opencompass 0.2.1 requires numpy==1.23.4, but you have numpy 1.26.4 which is incompatible.\r\n",
      "opencompass 0.2.1 requires pandas<2.0.0, but you have pandas 2.2.2 which is incompatible.\r\n",
      "opencompass 0.2.1 requires tqdm==4.64.1, but you have tqdm 4.66.2 which is incompatible.\u001B[0m\u001B[31m\r\n",
      "\u001B[0mSuccessfully installed pandas-2.2.2\r\n"
     ]
    }
   ],
   "source": [
    "! pip install \"qianfan[dataset_base]>=0.3.7\" -U\n",
    "! pip install pandas -U"
   ]
  },
  {
   "cell_type": "code",
   "execution_count": 562,
   "metadata": {
    "ExecuteTime": {
     "end_time": "2024-04-12T04:32:13.850362Z",
     "start_time": "2024-04-12T04:32:13.820561Z"
    }
   },
   "outputs": [
    {
     "name": "stdout",
     "output_type": "stream",
     "text": [
      "0.3.7.1\n"
     ]
    }
   ],
   "source": [
    "import qianfan\n",
    "print(qianfan.__version__)"
   ]
  },
  {
   "cell_type": "markdown",
   "metadata": {},
   "source": [
    "## 前置准备\n",
    "- 初始化千帆安全认证AK、SK"
   ]
  },
  {
   "cell_type": "code",
   "execution_count": 563,
   "metadata": {
    "ExecuteTime": {
     "end_time": "2024-04-12T04:32:16.232688Z",
     "start_time": "2024-04-12T04:32:16.217847Z"
    }
   },
   "outputs": [],
   "source": [
    "import os\n",
    "\n",
    "# os.environ[\"QIANFAN_ACCESS_KEY\"] = \"your_ak\"\n",
    "# os.environ[\"QIANFAN_SECRET_KEY\"] = \"your_sk\"\n",
    "os.environ[\"QIANFAN_QPS_LIMIT\"] = \"1\"\n",
    "os.environ['QIANFAN_LLM_API_RETRY_COUNT'] = \"3\""
   ]
  },
  {
   "cell_type": "code",
   "execution_count": 564,
   "metadata": {
    "ExecuteTime": {
     "end_time": "2024-04-12T04:32:16.825487Z",
     "start_time": "2024-04-12T04:32:16.789879Z"
    }
   },
   "outputs": [],
   "source": [
    "from qianfan.utils import enable_log\n",
    "import logging\n",
    "\n",
    "enable_log(logging.INFO)"
   ]
  },
  {
   "cell_type": "markdown",
   "source": [
    "## 数据集处理与分析\n",
    "\n",
    "首先读取一下人物基础信息，并统计角色分布数量"
   ],
   "metadata": {
    "collapsed": false
   }
  },
  {
   "cell_type": "code",
   "outputs": [],
   "source": [
    "import json\n",
    "profiles = {}\n",
    "with open(\"./data/character_profiles.json\", \"r\") as f: # 加载人物档案\n",
    "    profiles_json = json.load(f)\n",
    "    profiles.update({name: str(json_dict) for name, json_dict in profiles_json.items()})\n",
    "    \n",
    "role_cnt = {}\n",
    "role_dialogs = {}\n",
    "with open(\"./data/character_dialogs.json\", \"r\") as f:  # 统计对话角色分布，\n",
    "    dialogs = json.load(f)\n",
    "    for dialog in dialogs:\n",
    "        role = dialog['role']\n",
    "        role_cnt[role] = role_cnt.get(role, 0) + 1\n",
    "        role_dialogs[role] = role_dialogs.get(role, []) + [dialog['id']]"
   ],
   "metadata": {
    "collapsed": false,
    "ExecuteTime": {
     "end_time": "2024-04-12T04:32:19.812891Z",
     "start_time": "2024-04-12T04:32:19.771491Z"
    }
   },
   "execution_count": 565
  },
  {
   "cell_type": "markdown",
   "source": [
    "对统计的数据进行分析"
   ],
   "metadata": {
    "collapsed": false
   }
  },
  {
   "cell_type": "code",
   "outputs": [],
   "source": [
    "import pandas as pd\n",
    "import matplotlib as plt\n",
    "from pprint import pprint\n",
    "\n",
    "plt.rcParams['font.sans-serif'] = ['SimHei'] # 中文显示\n",
    "plt.rcParams['font.sans-serif'] = ['Arial Unicode MS'] # macOS下中文显示\n",
    "\n",
    "df = pd.read_json(\"./data/character_dialogs.json\").set_index('id').sort_index()\n",
    "df['context'] = df['context'].apply(lambda x: len(x.split(\"\\n\")))\n",
    "df.rename(columns={'context': 'dialog_len'}, inplace=True)"
   ],
   "metadata": {
    "collapsed": false,
    "ExecuteTime": {
     "end_time": "2024-04-12T06:43:42.666685Z",
     "start_time": "2024-04-12T06:43:42.602619Z"
    }
   },
   "execution_count": 733
  },
  {
   "cell_type": "code",
   "outputs": [
    {
     "data": {
      "text/plain": "      role novel_name  dialog_len\nid                               \n3      佟湘玉       武林外传           7\n4      佟湘玉       武林外传           9\n7      佟湘玉       武林外传          15\n9      佟湘玉       武林外传          19\n15     佟湘玉       武林外传           8\n...    ...        ...         ...\n11368   宋焰     我的人间烟火           3\n11369   宋焰     我的人间烟火           5\n11371   宋焰     我的人间烟火           9\n11372  关宏峰       白夜追凶           1\n11373  关宏峰       白夜追凶           3\n\n[4564 rows x 3 columns]",
      "text/html": "<div>\n<style scoped>\n    .dataframe tbody tr th:only-of-type {\n        vertical-align: middle;\n    }\n\n    .dataframe tbody tr th {\n        vertical-align: top;\n    }\n\n    .dataframe thead th {\n        text-align: right;\n    }\n</style>\n<table border=\"1\" class=\"dataframe\">\n  <thead>\n    <tr style=\"text-align: right;\">\n      <th></th>\n      <th>role</th>\n      <th>novel_name</th>\n      <th>dialog_len</th>\n    </tr>\n    <tr>\n      <th>id</th>\n      <th></th>\n      <th></th>\n      <th></th>\n    </tr>\n  </thead>\n  <tbody>\n    <tr>\n      <th>3</th>\n      <td>佟湘玉</td>\n      <td>武林外传</td>\n      <td>7</td>\n    </tr>\n    <tr>\n      <th>4</th>\n      <td>佟湘玉</td>\n      <td>武林外传</td>\n      <td>9</td>\n    </tr>\n    <tr>\n      <th>7</th>\n      <td>佟湘玉</td>\n      <td>武林外传</td>\n      <td>15</td>\n    </tr>\n    <tr>\n      <th>9</th>\n      <td>佟湘玉</td>\n      <td>武林外传</td>\n      <td>19</td>\n    </tr>\n    <tr>\n      <th>15</th>\n      <td>佟湘玉</td>\n      <td>武林外传</td>\n      <td>8</td>\n    </tr>\n    <tr>\n      <th>...</th>\n      <td>...</td>\n      <td>...</td>\n      <td>...</td>\n    </tr>\n    <tr>\n      <th>11368</th>\n      <td>宋焰</td>\n      <td>我的人间烟火</td>\n      <td>3</td>\n    </tr>\n    <tr>\n      <th>11369</th>\n      <td>宋焰</td>\n      <td>我的人间烟火</td>\n      <td>5</td>\n    </tr>\n    <tr>\n      <th>11371</th>\n      <td>宋焰</td>\n      <td>我的人间烟火</td>\n      <td>9</td>\n    </tr>\n    <tr>\n      <th>11372</th>\n      <td>关宏峰</td>\n      <td>白夜追凶</td>\n      <td>1</td>\n    </tr>\n    <tr>\n      <th>11373</th>\n      <td>关宏峰</td>\n      <td>白夜追凶</td>\n      <td>3</td>\n    </tr>\n  </tbody>\n</table>\n<p>4564 rows × 3 columns</p>\n</div>"
     },
     "execution_count": 744,
     "metadata": {},
     "output_type": "execute_result"
    }
   ],
   "source": [
    "df"
   ],
   "metadata": {
    "collapsed": false,
    "ExecuteTime": {
     "end_time": "2024-04-12T06:44:22.490594Z",
     "start_time": "2024-04-12T06:44:22.466915Z"
    }
   },
   "execution_count": 744
  },
  {
   "cell_type": "code",
   "outputs": [
    {
     "data": {
      "text/plain": "             count      mean       std  min  25%  50%  75%   max\ndialog_len  4564.0  6.868317  6.031655  1.0  3.0  5.0  9.0  50.0",
      "text/html": "<div>\n<style scoped>\n    .dataframe tbody tr th:only-of-type {\n        vertical-align: middle;\n    }\n\n    .dataframe tbody tr th {\n        vertical-align: top;\n    }\n\n    .dataframe thead th {\n        text-align: right;\n    }\n</style>\n<table border=\"1\" class=\"dataframe\">\n  <thead>\n    <tr style=\"text-align: right;\">\n      <th></th>\n      <th>count</th>\n      <th>mean</th>\n      <th>std</th>\n      <th>min</th>\n      <th>25%</th>\n      <th>50%</th>\n      <th>75%</th>\n      <th>max</th>\n    </tr>\n  </thead>\n  <tbody>\n    <tr>\n      <th>dialog_len</th>\n      <td>4564.0</td>\n      <td>6.868317</td>\n      <td>6.031655</td>\n      <td>1.0</td>\n      <td>3.0</td>\n      <td>5.0</td>\n      <td>9.0</td>\n      <td>50.0</td>\n    </tr>\n  </tbody>\n</table>\n</div>"
     },
     "execution_count": 765,
     "metadata": {},
     "output_type": "execute_result"
    }
   ],
   "source": [
    "df.describe().T"
   ],
   "metadata": {
    "collapsed": false,
    "ExecuteTime": {
     "end_time": "2024-04-12T07:15:17.023241Z",
     "start_time": "2024-04-12T07:15:16.963540Z"
    }
   },
   "execution_count": 765
  },
  {
   "cell_type": "code",
   "outputs": [
    {
     "data": {
      "text/plain": "novel_name 武林外传           爱情公寓      武林外传 天涯明月刀 西游记 雪中悍刀行 武林外传  ... 去有风的地方 小时代  \\\nrole        佟湘玉  白展堂  郭芙蓉  曾小贤  吕子乔  吕秀才   傅红雪 孙悟空   徐凤年  祝无双  ...    谢之遥  林萧   \ncount       110  104  103  102  102   98    97  97    97   96  ...     17  16   \n\nnovel_name 暗恋-橘生淮南 仙剑奇侠传三 后宫甄嬛传 仙剑奇侠传三  斗破苍穹 小时代        \nrole           盛淮南     长卿    华妃     紫萱 美杜莎女王 唐宛如 顾源 南湘  \ncount           15     14    14     13    11   5  5  3  \n\n[1 rows x 77 columns]",
      "text/html": "<div>\n<style scoped>\n    .dataframe tbody tr th:only-of-type {\n        vertical-align: middle;\n    }\n\n    .dataframe tbody tr th {\n        vertical-align: top;\n    }\n\n    .dataframe thead tr th {\n        text-align: left;\n    }\n</style>\n<table border=\"1\" class=\"dataframe\">\n  <thead>\n    <tr>\n      <th>novel_name</th>\n      <th colspan=\"3\" halign=\"left\">武林外传</th>\n      <th colspan=\"2\" halign=\"left\">爱情公寓</th>\n      <th>武林外传</th>\n      <th>天涯明月刀</th>\n      <th>西游记</th>\n      <th>雪中悍刀行</th>\n      <th>武林外传</th>\n      <th>...</th>\n      <th>去有风的地方</th>\n      <th>小时代</th>\n      <th>暗恋-橘生淮南</th>\n      <th>仙剑奇侠传三</th>\n      <th>后宫甄嬛传</th>\n      <th>仙剑奇侠传三</th>\n      <th>斗破苍穹</th>\n      <th colspan=\"3\" halign=\"left\">小时代</th>\n    </tr>\n    <tr>\n      <th>role</th>\n      <th>佟湘玉</th>\n      <th>白展堂</th>\n      <th>郭芙蓉</th>\n      <th>曾小贤</th>\n      <th>吕子乔</th>\n      <th>吕秀才</th>\n      <th>傅红雪</th>\n      <th>孙悟空</th>\n      <th>徐凤年</th>\n      <th>祝无双</th>\n      <th>...</th>\n      <th>谢之遥</th>\n      <th>林萧</th>\n      <th>盛淮南</th>\n      <th>长卿</th>\n      <th>华妃</th>\n      <th>紫萱</th>\n      <th>美杜莎女王</th>\n      <th>唐宛如</th>\n      <th>顾源</th>\n      <th>南湘</th>\n    </tr>\n  </thead>\n  <tbody>\n    <tr>\n      <th>count</th>\n      <td>110</td>\n      <td>104</td>\n      <td>103</td>\n      <td>102</td>\n      <td>102</td>\n      <td>98</td>\n      <td>97</td>\n      <td>97</td>\n      <td>97</td>\n      <td>96</td>\n      <td>...</td>\n      <td>17</td>\n      <td>16</td>\n      <td>15</td>\n      <td>14</td>\n      <td>14</td>\n      <td>13</td>\n      <td>11</td>\n      <td>5</td>\n      <td>5</td>\n      <td>3</td>\n    </tr>\n  </tbody>\n</table>\n<p>1 rows × 77 columns</p>\n</div>"
     },
     "execution_count": 764,
     "metadata": {},
     "output_type": "execute_result"
    }
   ],
   "source": [
    "pd.DataFrame(df.value_counts(subset=['novel_name','role'])).T"
   ],
   "metadata": {
    "collapsed": false,
    "ExecuteTime": {
     "end_time": "2024-04-12T06:52:16.803382Z",
     "start_time": "2024-04-12T06:52:16.721681Z"
    }
   },
   "execution_count": 764
  },
  {
   "cell_type": "markdown",
   "source": [
    "从表格中可见，数据集中总共有4564段对话，平均每个对话长度约7句;数据集中总共有77名角色;75%以上的对话集在3句以上，25%在9句以上。"
   ],
   "metadata": {
    "collapsed": false
   }
  },
  {
   "cell_type": "code",
   "outputs": [
    {
     "data": {
      "text/plain": "<AxesSubplot:xlabel='role'>"
     },
     "execution_count": 742,
     "metadata": {},
     "output_type": "execute_result"
    },
    {
     "data": {
      "text/plain": "<Figure size 1400x400 with 1 Axes>",
      "image/png": "[encoded data removed]"
     },
     "metadata": {},
     "output_type": "display_data"
    }
   ],
   "source": [
    "df.groupby('role').agg(count=('dialog_len', 'count')).sort_values(by='count', ascending=False).plot(kind='bar', figsize=(14, 4))"
   ],
   "metadata": {
    "collapsed": false,
    "ExecuteTime": {
     "end_time": "2024-04-12T06:44:12.685135Z",
     "start_time": "2024-04-12T06:44:12.311272Z"
    }
   },
   "execution_count": 742
  },
  {
   "cell_type": "code",
   "outputs": [
    {
     "data": {
      "text/plain": "array([[<AxesSubplot:title={'center':'dialog_len'}>]], dtype=object)"
     },
     "execution_count": 753,
     "metadata": {},
     "output_type": "execute_result"
    },
    {
     "data": {
      "text/plain": "<Figure size 1400x400 with 1 Axes>",
      "image/png": "[encoded data removed]"
     },
     "metadata": {},
     "output_type": "display_data"
    }
   ],
   "source": [
    "# 绘制对话长度直方图\n",
    "df.hist(column='dialog_len', bins=range(1, df.dialog_len.max()+1), figsize=(14, 4))"
   ],
   "metadata": {
    "collapsed": false,
    "ExecuteTime": {
     "end_time": "2024-04-12T06:46:44.119882Z",
     "start_time": "2024-04-12T06:46:43.926777Z"
    }
   },
   "execution_count": 753
  },
  {
   "cell_type": "markdown",
   "source": [],
   "metadata": {
    "collapsed": false
   }
  },
  {
   "cell_type": "markdown",
   "source": [
    "从统计图中可见，数据集角色分布不均匀，对话长度不均匀，因此需要采用系统抽样方法划分评估集"
   ],
   "metadata": {
    "collapsed": false
   }
  },
  {
   "cell_type": "code",
   "outputs": [],
   "source": [
    "eval_id_lst = []\n",
    "sample_dict = {  # 抽取9个角色，每个角色的对话抽取数量如下\n",
    "    \"白展堂\":5,\n",
    "    \"朱朝阳\" : 5,\n",
    "    \"高启强\": 5,\n",
    "    \"龙葵\": 5,\n",
    "    \"李云龙\": 5,\n",
    "    \"美杜莎女王\": 11,\n",
    "    \"顾源\": 5,\n",
    "    \"唐宛如\": 5,\n",
    "    \"南湘\": 3,\n",
    "}\n",
    "for role, count in sample_dict.items():\n",
    "    eval_id_lst.extend(role_dialogs[role][:count])"
   ],
   "metadata": {
    "collapsed": false,
    "ExecuteTime": {
     "end_time": "2024-04-11T02:09:57.633834Z",
     "start_time": "2024-04-11T02:09:57.541688Z"
    }
   },
   "execution_count": 103
  },
  {
   "cell_type": "markdown",
   "source": [
    "封装函数将json数据集处理为datasets的格式"
   ],
   "metadata": {
    "collapsed": false
   }
  },
  {
   "cell_type": "code",
   "outputs": [],
   "source": [
    "def get_prompts(dialog):  # 数据处理具体实现\n",
    "    global profiles\n",
    "    role = dialog[\"role\"]\n",
    "    system_prompt = f\"{profiles[role]}\\n现在请你扮演一个角色扮演专家。请你根据上述信息扮演{role}进行对话。\"\n",
    "    dialog_prompts, dialog_responses = [], []\n",
    "    dialog_contexts = dialog[\"context\"].split(\"\\n\")\n",
    "    \n",
    "    for dialog_context in dialog_contexts:\n",
    "        # 扮演角色设置为response，其他设置为prompt\n",
    "        if dialog_context.startswith(role):\n",
    "            dialog_responses.append(dialog_context)\n",
    "        else:\n",
    "            dialog_prompts.append(dialog_context)\n",
    "            \n",
    "    # 插入系统prompt\n",
    "    dialog_prompts.insert(0, system_prompt)\n",
    "    dialog_responses.insert(0, f'好的！现在我来扮演{role}。')\n",
    "    # 如果第一句是扮演的角色，将其作为系统response的开头，使prompts不少于responses\n",
    "    if dialog_contexts[0].startswith(role):\n",
    "        dialog_responses[0] += f'我首先发话{dialog_contexts[0].replace(role, \"\")}'\n",
    "        dialog_responses.pop(1)\n",
    "        \n",
    "    if len(dialog_prompts) > len(dialog_responses):\n",
    "        # 有时候对话列表长度是奇数，这里不做操作，zip时会删除多出来的提问\n",
    "        pass\n",
    "    \n",
    "    return [{\n",
    "        \"prompt\": prompt,\n",
    "        \"response\": [[response]],\n",
    "        \"_group\": dialog[\"id\"]}\n",
    "        for prompt, response in zip(dialog_prompts, dialog_responses)]"
   ],
   "metadata": {
    "collapsed": false,
    "ExecuteTime": {
     "end_time": "2024-04-11T02:09:57.637128Z",
     "start_time": "2024-04-11T02:09:57.548458Z"
    }
   },
   "execution_count": 104
  },
  {
   "cell_type": "code",
   "outputs": [],
   "source": [
    "sft_train = []\n",
    "sft_eval = []\n",
    "with open(\"./data/character_dialogs.json\", \"r\") as f:\n",
    "    dialogs = json.load(f)\n",
    "    for dialog in dialogs:  # 获取对话列表\n",
    "        if dialog[\"id\"] in eval_id_lst:\n",
    "            sft_eval.extend(get_prompts(dialog))\n",
    "        else:\n",
    "            sft_train.extend(get_prompts(dialog))  # 追加对话列表到py_obj中"
   ],
   "metadata": {
    "collapsed": false,
    "ExecuteTime": {
     "end_time": "2024-04-11T02:09:57.771542Z",
     "start_time": "2024-04-11T02:09:57.569310Z"
    }
   },
   "execution_count": 105
  },
  {
   "cell_type": "code",
   "outputs": [
    {
     "name": "stderr",
     "output_type": "stream",
     "text": [
      "[INFO] [04-11 10:09:57] utils.py:376 [t:8638464640]: start to write arrow table to /Users/guoweiming/.qianfan_cache/dataset/.mapper_cache/Users/guoweiming/PycharmProjects/bce-qianfan-sdk/cookbook/finetune/default_path_6ed005f1-a531-4857-bbbb-ab496d380b55.arrow\n",
      "[INFO] [04-11 10:09:57] utils.py:388 [t:8638464640]: writing succeeded\n",
      "[INFO] [04-11 10:09:57] utils.py:262 [t:8638464640]: start to get memory_map from /Users/guoweiming/.qianfan_cache/dataset/.mapper_cache/Users/guoweiming/PycharmProjects/bce-qianfan-sdk/cookbook/finetune/default_path_6ed005f1-a531-4857-bbbb-ab496d380b55.arrow\n",
      "[INFO] [04-11 10:09:57] utils.py:376 [t:8638464640]: start to write arrow table to /Users/guoweiming/.qianfan_cache/dataset/.mapper_cache/Users/guoweiming/PycharmProjects/bce-qianfan-sdk/cookbook/finetune/default_path_ab9eb445-98cb-4161-b385-8eaace562a35.arrow\n",
      "[INFO] [04-11 10:09:57] utils.py:388 [t:8638464640]: writing succeeded\n",
      "[INFO] [04-11 10:09:57] utils.py:262 [t:8638464640]: start to get memory_map from /Users/guoweiming/.qianfan_cache/dataset/.mapper_cache/Users/guoweiming/PycharmProjects/bce-qianfan-sdk/cookbook/finetune/default_path_ab9eb445-98cb-4161-b385-8eaace562a35.arrow\n"
     ]
    },
    {
     "data": {
      "text/plain": "True"
     },
     "execution_count": 106,
     "metadata": {},
     "output_type": "execute_result"
    }
   ],
   "source": [
    "from qianfan.dataset import Dataset\n",
    "\n",
    "train_ds = Dataset.create_from_pyobj(sft_train)\n",
    "eval_ds = Dataset.create_from_pyobj(sft_eval)\n",
    "train_ds.pack()\n",
    "eval_ds.pack()"
   ],
   "metadata": {
    "collapsed": false,
    "ExecuteTime": {
     "end_time": "2024-04-11T02:09:57.995476Z",
     "start_time": "2024-04-11T02:09:57.684613Z"
    }
   },
   "execution_count": 106
  },
  {
   "cell_type": "markdown",
   "source": [
    "将数据集保存到本地"
   ],
   "metadata": {
    "collapsed": false
   }
  },
  {
   "cell_type": "code",
   "outputs": [
    {
     "name": "stderr",
     "output_type": "stream",
     "text": [
      "[INFO] [04-11 10:09:57] dataset.py:462 [t:8638464640]: no destination data source was provided, construct\n",
      "[INFO] [04-11 10:09:57] dataset.py:257 [t:8638464640]: construct a file data source from path: ./data/sft_train.jsonl, with args: {}\n",
      "[INFO] [04-11 10:09:57] file.py:280 [t:8638464640]: use format type FormatType.Jsonl\n",
      "[INFO] [04-11 10:09:58] dataset.py:462 [t:8638464640]: no destination data source was provided, construct\n",
      "[INFO] [04-11 10:09:58] dataset.py:257 [t:8638464640]: construct a file data source from path: ./data/sft_eval.jsonl, with args: {}\n",
      "[INFO] [04-11 10:09:58] file.py:280 [t:8638464640]: use format type FormatType.Jsonl\n"
     ]
    },
    {
     "data": {
      "text/plain": "<qianfan.dataset.dataset.Dataset at 0x7f82fdb663d0>"
     },
     "execution_count": 107,
     "metadata": {},
     "output_type": "execute_result"
    }
   ],
   "source": [
    "train_ds.save(data_file=\"./data/sft_train.jsonl\")\n",
    "eval_ds.save(data_file=\"./data/sft_eval.jsonl\")"
   ],
   "metadata": {
    "collapsed": false,
    "ExecuteTime": {
     "end_time": "2024-04-11T02:09:58.132715Z",
     "start_time": "2024-04-11T02:09:57.932596Z"
    }
   },
   "execution_count": 107
  },
  {
   "cell_type": "markdown",
   "metadata": {},
   "source": [
    "## 数据集加载\n",
    "\n",
    "千帆SDK提供了数据集实现帮助我们可以快速的加载本地的数据集到内存，并通过设定DataSource数据源以保存至本地和千帆平台。"
   ]
  },
  {
   "cell_type": "code",
   "execution_count": 94,
   "metadata": {
    "ExecuteTime": {
     "end_time": "2024-04-11T02:09:35.087571Z",
     "start_time": "2024-04-11T02:09:34.999095Z"
    }
   },
   "outputs": [
    {
     "name": "stderr",
     "output_type": "stream",
     "text": [
      "[INFO] [04-11 10:09:34] dataset.py:389 [t:8638464640]: no data source was provided, construct\n",
      "[INFO] [04-11 10:09:34] dataset.py:257 [t:8638464640]: construct a file data source from path: ./data/sft_train.jsonl, with args: {}\n",
      "[INFO] [04-11 10:09:34] file.py:280 [t:8638464640]: use format type FormatType.Jsonl\n",
      "[INFO] [04-11 10:09:35] utils.py:262 [t:8638464640]: start to get memory_map from /Users/guoweiming/.qianfan_cache/dataset/Users/guoweiming/PycharmProjects/bce-qianfan-sdk/cookbook/finetune/data/sft_train.arrow\n",
      "[INFO] [04-11 10:09:35] utils.py:237 [t:8638464640]: has got a memory-mapped table\n",
      "[INFO] [04-11 10:09:35] dataset.py:883 [t:8638464640]: list local dataset data by 5\n"
     ]
    },
    {
     "data": {
      "text/plain": "[{'prompt': \"{'姓名': '佟湘玉', '性别': '女', '年龄': '二十七', '绰号': '千手观音', '身份': '同福客栈掌柜，龙门镖局千金', '历史': '出生于陕西汉中的龙门镖局，是镖局老板的独生女。因不满父亲安排的婚事，一怒之下离家出走，来到关中开设了同福客栈。', '特长': '擅长使用暗器，具有迷人的媚眼。', '性格': '自私、贪财、虚荣、好面子，同时也追求享受。', '志向': '希望将同福客栈发展成连锁企业，赚取大量财富，并通过买选票成为武林第一美女。', '人物经历': '佟湘玉是龙门镖局镖头的女儿，原本下嫁衡山派掌门，却在途中成了寡妇。之后，她肩负起照顾小姑子的责任，同时经营同福客栈，努力扶助周围的人。在江湖中，她以智慧和勇气面对各种挑战，追求与白展堂的爱情。', '名言': ['物美价廉的秀才啊……', '我不是黄蓉，我不会武功，我没有靖哥哥和完美的爱情……', '秋风送爽，百花争艳……', '感情归感情，生意归生意。', '美滴很！美滴很！', '生可忍熟不可忍，展堂……', '额姓佟，佟湘玉的玉。', '额跟你拼了！', '关门，放小郭。', '回来！还米有付钱捏！']}\\n现在请你扮演一个角色扮演专家。请你根据上述信息扮演佟湘玉进行对话。\",\n  'response': [['好的！现在我来扮演佟湘玉。我首先发话：（抬头）无双']]},\n {'prompt': '祝无双：嗯。', 'response': [['佟湘玉：你是额滴好姐妹吗。']]},\n {'prompt': '祝无双：嗯，当然是啊，你在我心里，比亲姐姐还要亲呢。',\n  'response': [['佟湘玉：那就行了，这封信你拿回去吧。（给她信）']]},\n {'prompt': '祝无双：（拿过来看）什么呀？',\n  'response': [['佟湘玉：额滴一些真心话，拿回去慢慢看。（无双表情很异常）咋了这是，无双（把信拿回去）']]},\n {'prompt': '祝无双：没没没，没事，我指是太激动了（夺过信）这是我人生中收到的第一封信。',\n  'response': [['佟湘玉：不会吧。']]},\n {'prompt': '祝无双：（吸着鼻子）我从小没有爹没有娘，也没有什么朋友，师兄又太懒，他连张便条都没有写过给我。湘玉姐。',\n  'response': [['佟湘玉：哎。']]},\n {'prompt': '祝无双：我以后就叫你湘玉姐好不好。', 'response': [['佟湘玉：好好好，你爱咋叫就咋叫。']]},\n {'prompt': '祝无双：你不是我，你不会明白。这封信，是我人生中收到的第一封信。它意味着，我从此不再孤单，还意味着，在这个世上，还有人会珍惜我重视我，把我，把我当成自己人。',\n  'response': [['<empty>']]}]"
     },
     "execution_count": 94,
     "metadata": {},
     "output_type": "execute_result"
    }
   ],
   "source": [
    "from qianfan.dataset import Dataset\n",
    "\n",
    "# 加载本地数据集\n",
    "ds: Dataset = Dataset.load(data_file=\"./data/sft_train.jsonl\")\n",
    "ds.list(5)"
   ]
  },
  {
   "cell_type": "markdown",
   "metadata": {},
   "source": [
    "从本地数据集上传到BOS"
   ]
  },
  {
   "cell_type": "code",
   "execution_count": null,
   "metadata": {
    "collapsed": false,
    "ExecuteTime": {
     "start_time": "2024-04-10T09:35:17.651957Z"
    }
   },
   "outputs": [],
   "source": [
    "# 保存到千帆平台\n",
    "from qianfan.dataset.data_source import QianfanDataSource\n",
    "from qianfan.resources.console import consts as console_consts\n",
    "\n",
    "bos_bucket_name = \"your_bucket_name\"\n",
    "bos_bucket_file_path = \"/sft_ds/\""
   ]
  },
  {
   "cell_type": "code",
   "outputs": [
    {
     "name": "stderr",
     "output_type": "stream",
     "text": [
      "[INFO] [04-08 13:21:40] schema.py:36 [t:8640914048]: unpack dataset before validating\n",
      "[INFO] [04-08 13:21:40] dataset.py:883 [t:8640914048]: list local dataset data by 0\n",
      "[INFO] [04-08 13:21:40] utils.py:376 [t:8640914048]: start to write arrow table to /Users/guoweiming/.qianfan_cache/dataset/.mapper_cache/Users/guoweiming/PycharmProjects/bce-qianfan-sdk/cookbook/finetune/data/sft_train_db4bc353-132d-4d53-b709-3c1e855601f3.arrow\n",
      "[INFO] [04-08 13:21:40] utils.py:388 [t:8640914048]: writing succeeded\n",
      "[INFO] [04-08 13:21:40] utils.py:262 [t:8640914048]: start to get memory_map from /Users/guoweiming/.qianfan_cache/dataset/.mapper_cache/Users/guoweiming/PycharmProjects/bce-qianfan-sdk/cookbook/finetune/data/sft_train_db4bc353-132d-4d53-b709-3c1e855601f3.arrow\n",
      "[INFO] [04-08 13:21:40] schema.py:39 [t:8640914048]: pack dataset after validation\n",
      "[INFO] [04-08 13:21:41] utils.py:376 [t:8640914048]: start to write arrow table to /Users/guoweiming/.qianfan_cache/dataset/.mapper_cache/Users/guoweiming/PycharmProjects/bce-qianfan-sdk/cookbook/finetune/data/sft_train_a8925c29-1a3c-406f-a15a-4d4bd25a362d.arrow\n",
      "[INFO] [04-08 13:21:41] utils.py:388 [t:8640914048]: writing succeeded\n",
      "[INFO] [04-08 13:21:41] utils.py:262 [t:8640914048]: start to get memory_map from /Users/guoweiming/.qianfan_cache/dataset/.mapper_cache/Users/guoweiming/PycharmProjects/bce-qianfan-sdk/cookbook/finetune/data/sft_train_a8925c29-1a3c-406f-a15a-4d4bd25a362d.arrow\n",
      "[INFO] [04-08 13:21:41] dataset.py:883 [t:8640914048]: list local dataset data by slice(0, 9999, None)\n",
      "[INFO] [04-08 13:21:41] baidu_qianfan.py:241 [t:8640914048]: start to upload data to user BOS\n",
      "[INFO] [04-08 13:21:41] baidu_qianfan.py:250 [t:8640914048]: upload dataset file /Users/guoweiming/.qianfan_cache/dataset/.qianfan_download_cache/dg-0p63kgq68yycs5np/ds-bp6nj3tmxjmpzuxu/1/data_3248a112-fcb5-4d50-b645-ee20c7cd990d.jsonl to /sft_ds/data_3248a112-fcb5-4d50-b645-ee20c7cd990d.jsonl\n",
      "[INFO] [04-08 13:21:42] baidu_qianfan.py:253 [t:8640914048]: uploading data to user BOS finished\n",
      "[INFO] [04-08 13:21:44] utils.py:483 [t:8640914048]: successfully create importing task\n",
      "[INFO] [04-08 13:21:46] utils.py:486 [t:8640914048]: polling import task status\n",
      "[INFO] [04-08 13:21:46] utils.py:493 [t:8640914048]: import status: 1, keep polling\n",
      "[INFO] [04-08 13:21:48] utils.py:486 [t:8640914048]: polling import task status\n",
      "[INFO] [04-08 13:21:49] utils.py:493 [t:8640914048]: import status: 1, keep polling\n",
      "[INFO] [04-08 13:21:51] utils.py:486 [t:8640914048]: polling import task status\n",
      "[INFO] [04-08 13:21:52] utils.py:493 [t:8640914048]: import status: 1, keep polling\n",
      "[INFO] [04-08 13:21:54] utils.py:486 [t:8640914048]: polling import task status\n",
      "[INFO] [04-08 13:21:55] utils.py:493 [t:8640914048]: import status: 1, keep polling\n",
      "[INFO] [04-08 13:21:57] utils.py:486 [t:8640914048]: polling import task status\n",
      "[INFO] [04-08 13:21:58] utils.py:493 [t:8640914048]: import status: 1, keep polling\n",
      "[INFO] [04-08 13:22:00] utils.py:486 [t:8640914048]: polling import task status\n",
      "[INFO] [04-08 13:22:01] utils.py:493 [t:8640914048]: import status: 1, keep polling\n",
      "[INFO] [04-08 13:22:03] utils.py:486 [t:8640914048]: polling import task status\n",
      "[INFO] [04-08 13:22:04] utils.py:493 [t:8640914048]: import status: 1, keep polling\n",
      "[INFO] [04-08 13:22:06] utils.py:486 [t:8640914048]: polling import task status\n",
      "[INFO] [04-08 13:22:06] utils.py:493 [t:8640914048]: import status: 1, keep polling\n",
      "[INFO] [04-08 13:22:08] utils.py:486 [t:8640914048]: polling import task status\n",
      "[INFO] [04-08 13:22:09] utils.py:493 [t:8640914048]: import status: 1, keep polling\n",
      "[INFO] [04-08 13:22:11] utils.py:486 [t:8640914048]: polling import task status\n",
      "[INFO] [04-08 13:22:12] utils.py:493 [t:8640914048]: import status: 1, keep polling\n",
      "[INFO] [04-08 13:22:14] utils.py:486 [t:8640914048]: polling import task status\n",
      "[INFO] [04-08 13:22:15] utils.py:493 [t:8640914048]: import status: 1, keep polling\n",
      "[INFO] [04-08 13:22:17] utils.py:486 [t:8640914048]: polling import task status\n",
      "[INFO] [04-08 13:22:18] utils.py:496 [t:8640914048]: import succeed\n"
     ]
    }
   ],
   "source": [
    "# 创建千帆数据集，并上传保存\n",
    "qianfan_data_source = QianfanDataSource.create_bare_dataset(\n",
    "    name=\"random_sft_train\",\n",
    "    template_type=console_consts.DataTemplateType.SortedConversation,\n",
    "    storage_type=console_consts.DataStorageType.PrivateBos,\n",
    "    storage_id=bos_bucket_name,\n",
    "    storage_path=bos_bucket_file_path,\n",
    ")\n",
    "\n",
    "ds = ds.save(qianfan_data_source)"
   ],
   "metadata": {
    "ExecuteTime": {
     "end_time": "2024-04-08T05:22:18.070528Z",
     "start_time": "2024-04-08T05:21:40.827873Z"
    }
   },
   "execution_count": 116
  },
  {
   "cell_type": "markdown",
   "source": [
    "上传平台后，可以在平台对数据集进行更进一步的数据分析"
   ],
   "metadata": {
    "collapsed": false
   }
  },
  {
   "cell_type": "markdown",
   "source": [
    "![质量检测](./img/data_analysis.png)"
   ],
   "metadata": {
    "collapsed": false
   }
  },
  {
   "cell_type": "markdown",
   "metadata": {},
   "source": [
    "### LLMFinetune 训练\n",
    "`LLMFinetune` 实现了SFT逻辑的trainer，它内部组装了SFT所需要的基本`Pipeline`, 用于串联数据->训练->模型发布->服务调用等步骤"
   ]
  },
  {
   "cell_type": "code",
   "execution_count": 119,
   "metadata": {
    "ExecuteTime": {
     "end_time": "2024-04-08T05:26:27.129369Z",
     "start_time": "2024-04-08T05:26:26.309355Z"
    }
   },
   "outputs": [],
   "source": [
    "from qianfan.trainer import LLMFinetune\n",
    "from qianfan.trainer.configs import TrainConfig\n",
    "from qianfan.trainer.consts import PeftType\n",
    "\n",
    "trainer = LLMFinetune(\n",
    "    train_type=\"ERNIE-Speed\",\n",
    "    train_config=TrainConfig(\n",
    "        epoch=3,\n",
    "        learning_rate=3e-5,\n",
    "        max_seq_len=4096,\n",
    "        peft_type=PeftType.ALL,\n",
    "    ),\n",
    "    dataset=ds,\n",
    ")"
   ]
  },
  {
   "cell_type": "markdown",
   "metadata": {},
   "source": [
    "### 运行任务\n",
    "同步运行trainer，训练直到模型发布完成"
   ]
  },
  {
   "cell_type": "code",
   "execution_count": 120,
   "metadata": {
    "ExecuteTime": {
     "end_time": "2024-04-08T06:03:10.192859Z",
     "start_time": "2024-04-08T05:26:29.271227Z"
    }
   },
   "outputs": [
    {
     "name": "stderr",
     "output_type": "stream",
     "text": [
      "[INFO] [04-08 13:26:29] persist.py:58 [t:8640914048]: save to /Users/guoweiming/.qianfan_cache/file_tmp/pipeline/OQIc93cMWG\n",
      "[INFO] [04-08 13:26:34] utils.py:682 [t:8640914048]: data releasing, keep polling\n",
      "[INFO] [04-08 13:26:37] utils.py:682 [t:8640914048]: data releasing, keep polling\n",
      "[INFO] [04-08 13:26:39] utils.py:682 [t:8640914048]: data releasing, keep polling\n",
      "[INFO] [04-08 13:26:42] utils.py:682 [t:8640914048]: data releasing, keep polling\n",
      "[INFO] [04-08 13:26:45] utils.py:682 [t:8640914048]: data releasing, keep polling\n",
      "[INFO] [04-08 13:26:48] utils.py:682 [t:8640914048]: data releasing, keep polling\n",
      "[INFO] [04-08 13:26:51] utils.py:682 [t:8640914048]: data releasing, keep polling\n",
      "[INFO] [04-08 13:26:53] utils.py:682 [t:8640914048]: data releasing, keep polling\n",
      "[INFO] [04-08 13:26:56] utils.py:682 [t:8640914048]: data releasing, keep polling\n",
      "[INFO] [04-08 13:26:59] utils.py:682 [t:8640914048]: data releasing, keep polling\n",
      "[INFO] [04-08 13:27:02] utils.py:689 [t:8640914048]: data releasing succeeded\n",
      "[INFO] [04-08 13:27:02] persist.py:58 [t:8640914048]: save to /Users/guoweiming/.qianfan_cache/file_tmp/pipeline/OQIc93cMWG\n",
      "[INFO] [04-08 13:27:05] actions.py:610 [t:8640914048]: [train_action] training ... job_name:ERNIE_Speed_ROOHL current status: Running, 1% check train task log in https://console.bce.baidu.com/qianfan/train/sft/job-srm6dvkk4exw/task-xv0k9g6tzaj7/detail/traininglog\n",
      "[INFO] [04-08 13:27:36] actions.py:610 [t:8640914048]: [train_action] training ... job_name:ERNIE_Speed_ROOHL current status: Running, 1% check train task log in https://console.bce.baidu.com/qianfan/train/sft/job-srm6dvkk4exw/task-xv0k9g6tzaj7/detail/traininglog\n",
      "[INFO] [04-08 13:28:07] actions.py:610 [t:8640914048]: [train_action] training ... job_name:ERNIE_Speed_ROOHL current status: Running, 34% check train task log in https://console.bce.baidu.com/qianfan/train/sft/job-srm6dvkk4exw/task-xv0k9g6tzaj7/detail/traininglog\n",
      "[INFO] [04-08 13:28:38] actions.py:610 [t:8640914048]: [train_action] training ... job_name:ERNIE_Speed_ROOHL current status: Running, 34% check train task log in https://console.bce.baidu.com/qianfan/train/sft/job-srm6dvkk4exw/task-xv0k9g6tzaj7/detail/traininglog\n",
      "[INFO] [04-08 13:29:09] actions.py:610 [t:8640914048]: [train_action] training ... job_name:ERNIE_Speed_ROOHL current status: Running, 34% check train task log in https://console.bce.baidu.com/qianfan/train/sft/job-srm6dvkk4exw/task-xv0k9g6tzaj7/detail/traininglog\n",
      "[INFO] [04-08 13:29:40] actions.py:610 [t:8640914048]: [train_action] training ... job_name:ERNIE_Speed_ROOHL current status: Running, 34% check train task log in https://console.bce.baidu.com/qianfan/train/sft/job-srm6dvkk4exw/task-xv0k9g6tzaj7/detail/traininglog\n",
      "[INFO] [04-08 13:30:11] actions.py:610 [t:8640914048]: [train_action] training ... job_name:ERNIE_Speed_ROOHL current status: Running, 34% check train task log in https://console.bce.baidu.com/qianfan/train/sft/job-srm6dvkk4exw/task-xv0k9g6tzaj7/detail/traininglog\n",
      "[INFO] [04-08 13:30:42] actions.py:610 [t:8640914048]: [train_action] training ... job_name:ERNIE_Speed_ROOHL current status: Running, 34% check train task log in https://console.bce.baidu.com/qianfan/train/sft/job-srm6dvkk4exw/task-xv0k9g6tzaj7/detail/traininglog\n",
      "[INFO] [04-08 13:31:13] actions.py:610 [t:8640914048]: [train_action] training ... job_name:ERNIE_Speed_ROOHL current status: Running, 34% check train task log in https://console.bce.baidu.com/qianfan/train/sft/job-srm6dvkk4exw/task-xv0k9g6tzaj7/detail/traininglog\n",
      "[INFO] [04-08 13:31:43] actions.py:610 [t:8640914048]: [train_action] training ... job_name:ERNIE_Speed_ROOHL current status: Running, 35% check train task log in https://console.bce.baidu.com/qianfan/train/sft/job-srm6dvkk4exw/task-xv0k9g6tzaj7/detail/traininglog\n",
      "[INFO] [04-08 13:32:14] actions.py:610 [t:8640914048]: [train_action] training ... job_name:ERNIE_Speed_ROOHL current status: Running, 36% check train task log in https://console.bce.baidu.com/qianfan/train/sft/job-srm6dvkk4exw/task-xv0k9g6tzaj7/detail/traininglog\n",
      "[INFO] [04-08 13:32:45] actions.py:610 [t:8640914048]: [train_action] training ... job_name:ERNIE_Speed_ROOHL current status: Running, 38% check train task log in https://console.bce.baidu.com/qianfan/train/sft/job-srm6dvkk4exw/task-xv0k9g6tzaj7/detail/traininglog\n",
      "[INFO] [04-08 13:33:16] actions.py:610 [t:8640914048]: [train_action] training ... job_name:ERNIE_Speed_ROOHL current status: Running, 39% check train task log in https://console.bce.baidu.com/qianfan/train/sft/job-srm6dvkk4exw/task-xv0k9g6tzaj7/detail/traininglog\n",
      "[INFO] [04-08 13:33:47] actions.py:610 [t:8640914048]: [train_action] training ... job_name:ERNIE_Speed_ROOHL current status: Running, 40% check train task log in https://console.bce.baidu.com/qianfan/train/sft/job-srm6dvkk4exw/task-xv0k9g6tzaj7/detail/traininglog\n",
      "[INFO] [04-08 13:34:18] actions.py:610 [t:8640914048]: [train_action] training ... job_name:ERNIE_Speed_ROOHL current status: Running, 42% check train task log in https://console.bce.baidu.com/qianfan/train/sft/job-srm6dvkk4exw/task-xv0k9g6tzaj7/detail/traininglog\n",
      "[INFO] [04-08 13:34:49] actions.py:610 [t:8640914048]: [train_action] training ... job_name:ERNIE_Speed_ROOHL current status: Running, 44% check train task log in https://console.bce.baidu.com/qianfan/train/sft/job-srm6dvkk4exw/task-xv0k9g6tzaj7/detail/traininglog\n",
      "[INFO] [04-08 13:35:20] actions.py:610 [t:8640914048]: [train_action] training ... job_name:ERNIE_Speed_ROOHL current status: Running, 45% check train task log in https://console.bce.baidu.com/qianfan/train/sft/job-srm6dvkk4exw/task-xv0k9g6tzaj7/detail/traininglog\n",
      "[INFO] [04-08 13:35:51] actions.py:610 [t:8640914048]: [train_action] training ... job_name:ERNIE_Speed_ROOHL current status: Running, 47% check train task log in https://console.bce.baidu.com/qianfan/train/sft/job-srm6dvkk4exw/task-xv0k9g6tzaj7/detail/traininglog\n",
      "[INFO] [04-08 13:36:22] actions.py:610 [t:8640914048]: [train_action] training ... job_name:ERNIE_Speed_ROOHL current status: Running, 48% check train task log in https://console.bce.baidu.com/qianfan/train/sft/job-srm6dvkk4exw/task-xv0k9g6tzaj7/detail/traininglog\n",
      "[INFO] [04-08 13:36:52] actions.py:610 [t:8640914048]: [train_action] training ... job_name:ERNIE_Speed_ROOHL current status: Running, 50% check train task log in https://console.bce.baidu.com/qianfan/train/sft/job-srm6dvkk4exw/task-xv0k9g6tzaj7/detail/traininglog\n",
      "[INFO] [04-08 13:36:52] actions.py:617 [t:8640914048]:  check vdl report in https://console.bce.baidu.com/qianfan/visualdl/index?displayToken=eyJydW5JZCI6InJ1bi1rZ3R2MzNxNjk3OWlraXFtIn0=\n",
      "[INFO] [04-08 13:37:23] actions.py:610 [t:8640914048]: [train_action] training ... job_name:ERNIE_Speed_ROOHL current status: Running, 50% check train task log in https://console.bce.baidu.com/qianfan/train/sft/job-srm6dvkk4exw/task-xv0k9g6tzaj7/detail/traininglog\n",
      "[INFO] [04-08 13:37:23] actions.py:617 [t:8640914048]:  check vdl report in https://console.bce.baidu.com/qianfan/visualdl/index?displayToken=eyJydW5JZCI6InJ1bi1rZ3R2MzNxNjk3OWlraXFtIn0=\n",
      "[INFO] [04-08 13:37:54] actions.py:610 [t:8640914048]: [train_action] training ... job_name:ERNIE_Speed_ROOHL current status: Running, 53% check train task log in https://console.bce.baidu.com/qianfan/train/sft/job-srm6dvkk4exw/task-xv0k9g6tzaj7/detail/traininglog\n",
      "[INFO] [04-08 13:37:54] actions.py:617 [t:8640914048]:  check vdl report in https://console.bce.baidu.com/qianfan/visualdl/index?displayToken=eyJydW5JZCI6InJ1bi1rZ3R2MzNxNjk3OWlraXFtIn0=\n",
      "[INFO] [04-08 13:38:25] actions.py:610 [t:8640914048]: [train_action] training ... job_name:ERNIE_Speed_ROOHL current status: Running, 54% check train task log in https://console.bce.baidu.com/qianfan/train/sft/job-srm6dvkk4exw/task-xv0k9g6tzaj7/detail/traininglog\n",
      "[INFO] [04-08 13:38:25] actions.py:617 [t:8640914048]:  check vdl report in https://console.bce.baidu.com/qianfan/visualdl/index?displayToken=eyJydW5JZCI6InJ1bi1rZ3R2MzNxNjk3OWlraXFtIn0=\n",
      "[INFO] [04-08 13:38:56] actions.py:610 [t:8640914048]: [train_action] training ... job_name:ERNIE_Speed_ROOHL current status: Running, 56% check train task log in https://console.bce.baidu.com/qianfan/train/sft/job-srm6dvkk4exw/task-xv0k9g6tzaj7/detail/traininglog\n",
      "[INFO] [04-08 13:38:56] actions.py:617 [t:8640914048]:  check vdl report in https://console.bce.baidu.com/qianfan/visualdl/index?displayToken=eyJydW5JZCI6InJ1bi1rZ3R2MzNxNjk3OWlraXFtIn0=\n",
      "[INFO] [04-08 13:39:27] actions.py:610 [t:8640914048]: [train_action] training ... job_name:ERNIE_Speed_ROOHL current status: Running, 57% check train task log in https://console.bce.baidu.com/qianfan/train/sft/job-srm6dvkk4exw/task-xv0k9g6tzaj7/detail/traininglog\n",
      "[INFO] [04-08 13:39:27] actions.py:617 [t:8640914048]:  check vdl report in https://console.bce.baidu.com/qianfan/visualdl/index?displayToken=eyJydW5JZCI6InJ1bi1rZ3R2MzNxNjk3OWlraXFtIn0=\n",
      "[INFO] [04-08 13:39:58] actions.py:610 [t:8640914048]: [train_action] training ... job_name:ERNIE_Speed_ROOHL current status: Running, 59% check train task log in https://console.bce.baidu.com/qianfan/train/sft/job-srm6dvkk4exw/task-xv0k9g6tzaj7/detail/traininglog\n",
      "[INFO] [04-08 13:39:58] actions.py:617 [t:8640914048]:  check vdl report in https://console.bce.baidu.com/qianfan/visualdl/index?displayToken=eyJydW5JZCI6InJ1bi1rZ3R2MzNxNjk3OWlraXFtIn0=\n",
      "[INFO] [04-08 13:40:29] actions.py:610 [t:8640914048]: [train_action] training ... job_name:ERNIE_Speed_ROOHL current status: Running, 60% check train task log in https://console.bce.baidu.com/qianfan/train/sft/job-srm6dvkk4exw/task-xv0k9g6tzaj7/detail/traininglog\n",
      "[INFO] [04-08 13:40:29] actions.py:617 [t:8640914048]:  check vdl report in https://console.bce.baidu.com/qianfan/visualdl/index?displayToken=eyJydW5JZCI6InJ1bi1rZ3R2MzNxNjk3OWlraXFtIn0=\n",
      "[INFO] [04-08 13:40:59] actions.py:610 [t:8640914048]: [train_action] training ... job_name:ERNIE_Speed_ROOHL current status: Running, 61% check train task log in https://console.bce.baidu.com/qianfan/train/sft/job-srm6dvkk4exw/task-xv0k9g6tzaj7/detail/traininglog\n",
      "[INFO] [04-08 13:40:59] actions.py:617 [t:8640914048]:  check vdl report in https://console.bce.baidu.com/qianfan/visualdl/index?displayToken=eyJydW5JZCI6InJ1bi1rZ3R2MzNxNjk3OWlraXFtIn0=\n",
      "[INFO] [04-08 13:41:30] actions.py:610 [t:8640914048]: [train_action] training ... job_name:ERNIE_Speed_ROOHL current status: Running, 62% check train task log in https://console.bce.baidu.com/qianfan/train/sft/job-srm6dvkk4exw/task-xv0k9g6tzaj7/detail/traininglog\n",
      "[INFO] [04-08 13:41:30] actions.py:617 [t:8640914048]:  check vdl report in https://console.bce.baidu.com/qianfan/visualdl/index?displayToken=eyJydW5JZCI6InJ1bi1rZ3R2MzNxNjk3OWlraXFtIn0=\n",
      "[INFO] [04-08 13:42:01] actions.py:610 [t:8640914048]: [train_action] training ... job_name:ERNIE_Speed_ROOHL current status: Running, 64% check train task log in https://console.bce.baidu.com/qianfan/train/sft/job-srm6dvkk4exw/task-xv0k9g6tzaj7/detail/traininglog\n",
      "[INFO] [04-08 13:42:01] actions.py:617 [t:8640914048]:  check vdl report in https://console.bce.baidu.com/qianfan/visualdl/index?displayToken=eyJydW5JZCI6InJ1bi1rZ3R2MzNxNjk3OWlraXFtIn0=\n",
      "[INFO] [04-08 13:42:32] actions.py:610 [t:8640914048]: [train_action] training ... job_name:ERNIE_Speed_ROOHL current status: Running, 65% check train task log in https://console.bce.baidu.com/qianfan/train/sft/job-srm6dvkk4exw/task-xv0k9g6tzaj7/detail/traininglog\n",
      "[INFO] [04-08 13:42:32] actions.py:617 [t:8640914048]:  check vdl report in https://console.bce.baidu.com/qianfan/visualdl/index?displayToken=eyJydW5JZCI6InJ1bi1rZ3R2MzNxNjk3OWlraXFtIn0=\n",
      "[INFO] [04-08 13:43:03] actions.py:610 [t:8640914048]: [train_action] training ... job_name:ERNIE_Speed_ROOHL current status: Running, 65% check train task log in https://console.bce.baidu.com/qianfan/train/sft/job-srm6dvkk4exw/task-xv0k9g6tzaj7/detail/traininglog\n",
      "[INFO] [04-08 13:43:03] actions.py:617 [t:8640914048]:  check vdl report in https://console.bce.baidu.com/qianfan/visualdl/index?displayToken=eyJydW5JZCI6InJ1bi1rZ3R2MzNxNjk3OWlraXFtIn0=\n",
      "[INFO] [04-08 13:43:34] actions.py:610 [t:8640914048]: [train_action] training ... job_name:ERNIE_Speed_ROOHL current status: Running, 65% check train task log in https://console.bce.baidu.com/qianfan/train/sft/job-srm6dvkk4exw/task-xv0k9g6tzaj7/detail/traininglog\n",
      "[INFO] [04-08 13:43:34] actions.py:617 [t:8640914048]:  check vdl report in https://console.bce.baidu.com/qianfan/visualdl/index?displayToken=eyJydW5JZCI6InJ1bi1rZ3R2MzNxNjk3OWlraXFtIn0=\n",
      "[INFO] [04-08 13:44:05] actions.py:610 [t:8640914048]: [train_action] training ... job_name:ERNIE_Speed_ROOHL current status: Running, 65% check train task log in https://console.bce.baidu.com/qianfan/train/sft/job-srm6dvkk4exw/task-xv0k9g6tzaj7/detail/traininglog\n",
      "[INFO] [04-08 13:44:05] actions.py:617 [t:8640914048]:  check vdl report in https://console.bce.baidu.com/qianfan/visualdl/index?displayToken=eyJydW5JZCI6InJ1bi1rZ3R2MzNxNjk3OWlraXFtIn0=\n",
      "[INFO] [04-08 13:44:36] actions.py:610 [t:8640914048]: [train_action] training ... job_name:ERNIE_Speed_ROOHL current status: Running, 65% check train task log in https://console.bce.baidu.com/qianfan/train/sft/job-srm6dvkk4exw/task-xv0k9g6tzaj7/detail/traininglog\n",
      "[INFO] [04-08 13:44:36] actions.py:617 [t:8640914048]:  check vdl report in https://console.bce.baidu.com/qianfan/visualdl/index?displayToken=eyJydW5JZCI6InJ1bi1rZ3R2MzNxNjk3OWlraXFtIn0=\n",
      "[INFO] [04-08 13:45:06] actions.py:610 [t:8640914048]: [train_action] training ... job_name:ERNIE_Speed_ROOHL current status: Running, 65% check train task log in https://console.bce.baidu.com/qianfan/train/sft/job-srm6dvkk4exw/task-xv0k9g6tzaj7/detail/traininglog\n",
      "[INFO] [04-08 13:45:06] actions.py:617 [t:8640914048]:  check vdl report in https://console.bce.baidu.com/qianfan/visualdl/index?displayToken=eyJydW5JZCI6InJ1bi1rZ3R2MzNxNjk3OWlraXFtIn0=\n",
      "[INFO] [04-08 13:45:37] actions.py:610 [t:8640914048]: [train_action] training ... job_name:ERNIE_Speed_ROOHL current status: Running, 65% check train task log in https://console.bce.baidu.com/qianfan/train/sft/job-srm6dvkk4exw/task-xv0k9g6tzaj7/detail/traininglog\n",
      "[INFO] [04-08 13:45:37] actions.py:617 [t:8640914048]:  check vdl report in https://console.bce.baidu.com/qianfan/visualdl/index?displayToken=eyJydW5JZCI6InJ1bi1rZ3R2MzNxNjk3OWlraXFtIn0=\n",
      "[INFO] [04-08 13:46:08] actions.py:610 [t:8640914048]: [train_action] training ... job_name:ERNIE_Speed_ROOHL current status: Running, 65% check train task log in https://console.bce.baidu.com/qianfan/train/sft/job-srm6dvkk4exw/task-xv0k9g6tzaj7/detail/traininglog\n",
      "[INFO] [04-08 13:46:08] actions.py:617 [t:8640914048]:  check vdl report in https://console.bce.baidu.com/qianfan/visualdl/index?displayToken=eyJydW5JZCI6InJ1bi1rZ3R2MzNxNjk3OWlraXFtIn0=\n",
      "[INFO] [04-08 13:46:39] actions.py:610 [t:8640914048]: [train_action] training ... job_name:ERNIE_Speed_ROOHL current status: Running, 65% check train task log in https://console.bce.baidu.com/qianfan/train/sft/job-srm6dvkk4exw/task-xv0k9g6tzaj7/detail/traininglog\n",
      "[INFO] [04-08 13:46:39] actions.py:617 [t:8640914048]:  check vdl report in https://console.bce.baidu.com/qianfan/visualdl/index?displayToken=eyJydW5JZCI6InJ1bi1rZ3R2MzNxNjk3OWlraXFtIn0=\n",
      "[INFO] [04-08 13:47:10] actions.py:610 [t:8640914048]: [train_action] training ... job_name:ERNIE_Speed_ROOHL current status: Running, 65% check train task log in https://console.bce.baidu.com/qianfan/train/sft/job-srm6dvkk4exw/task-xv0k9g6tzaj7/detail/traininglog\n",
      "[INFO] [04-08 13:47:10] actions.py:617 [t:8640914048]:  check vdl report in https://console.bce.baidu.com/qianfan/visualdl/index?displayToken=eyJydW5JZCI6InJ1bi1rZ3R2MzNxNjk3OWlraXFtIn0=\n",
      "[INFO] [04-08 13:47:41] actions.py:610 [t:8640914048]: [train_action] training ... job_name:ERNIE_Speed_ROOHL current status: Running, 65% check train task log in https://console.bce.baidu.com/qianfan/train/sft/job-srm6dvkk4exw/task-xv0k9g6tzaj7/detail/traininglog\n",
      "[INFO] [04-08 13:47:41] actions.py:617 [t:8640914048]:  check vdl report in https://console.bce.baidu.com/qianfan/visualdl/index?displayToken=eyJydW5JZCI6InJ1bi1rZ3R2MzNxNjk3OWlraXFtIn0=\n",
      "[INFO] [04-08 13:48:12] actions.py:610 [t:8640914048]: [train_action] training ... job_name:ERNIE_Speed_ROOHL current status: Running, 65% check train task log in https://console.bce.baidu.com/qianfan/train/sft/job-srm6dvkk4exw/task-xv0k9g6tzaj7/detail/traininglog\n",
      "[INFO] [04-08 13:48:12] actions.py:617 [t:8640914048]:  check vdl report in https://console.bce.baidu.com/qianfan/visualdl/index?displayToken=eyJydW5JZCI6InJ1bi1rZ3R2MzNxNjk3OWlraXFtIn0=\n",
      "[INFO] [04-08 13:48:43] actions.py:610 [t:8640914048]: [train_action] training ... job_name:ERNIE_Speed_ROOHL current status: Running, 65% check train task log in https://console.bce.baidu.com/qianfan/train/sft/job-srm6dvkk4exw/task-xv0k9g6tzaj7/detail/traininglog\n",
      "[INFO] [04-08 13:48:43] actions.py:617 [t:8640914048]:  check vdl report in https://console.bce.baidu.com/qianfan/visualdl/index?displayToken=eyJydW5JZCI6InJ1bi1rZ3R2MzNxNjk3OWlraXFtIn0=\n",
      "[INFO] [04-08 13:49:13] actions.py:610 [t:8640914048]: [train_action] training ... job_name:ERNIE_Speed_ROOHL current status: Running, 65% check train task log in https://console.bce.baidu.com/qianfan/train/sft/job-srm6dvkk4exw/task-xv0k9g6tzaj7/detail/traininglog\n",
      "[INFO] [04-08 13:49:13] actions.py:617 [t:8640914048]:  check vdl report in https://console.bce.baidu.com/qianfan/visualdl/index?displayToken=eyJydW5JZCI6InJ1bi1rZ3R2MzNxNjk3OWlraXFtIn0=\n",
      "[INFO] [04-08 13:49:44] actions.py:610 [t:8640914048]: [train_action] training ... job_name:ERNIE_Speed_ROOHL current status: Running, 65% check train task log in https://console.bce.baidu.com/qianfan/train/sft/job-srm6dvkk4exw/task-xv0k9g6tzaj7/detail/traininglog\n",
      "[INFO] [04-08 13:49:44] actions.py:617 [t:8640914048]:  check vdl report in https://console.bce.baidu.com/qianfan/visualdl/index?displayToken=eyJydW5JZCI6InJ1bi1rZ3R2MzNxNjk3OWlraXFtIn0=\n",
      "[INFO] [04-08 13:50:15] actions.py:610 [t:8640914048]: [train_action] training ... job_name:ERNIE_Speed_ROOHL current status: Running, 65% check train task log in https://console.bce.baidu.com/qianfan/train/sft/job-srm6dvkk4exw/task-xv0k9g6tzaj7/detail/traininglog\n",
      "[INFO] [04-08 13:50:15] actions.py:617 [t:8640914048]:  check vdl report in https://console.bce.baidu.com/qianfan/visualdl/index?displayToken=eyJydW5JZCI6InJ1bi1rZ3R2MzNxNjk3OWlraXFtIn0=\n",
      "[INFO] [04-08 13:50:46] actions.py:610 [t:8640914048]: [train_action] training ... job_name:ERNIE_Speed_ROOHL current status: Running, 65% check train task log in https://console.bce.baidu.com/qianfan/train/sft/job-srm6dvkk4exw/task-xv0k9g6tzaj7/detail/traininglog\n",
      "[INFO] [04-08 13:50:46] actions.py:617 [t:8640914048]:  check vdl report in https://console.bce.baidu.com/qianfan/visualdl/index?displayToken=eyJydW5JZCI6InJ1bi1rZ3R2MzNxNjk3OWlraXFtIn0=\n",
      "[INFO] [04-08 13:51:17] actions.py:610 [t:8640914048]: [train_action] training ... job_name:ERNIE_Speed_ROOHL current status: Running, 65% check train task log in https://console.bce.baidu.com/qianfan/train/sft/job-srm6dvkk4exw/task-xv0k9g6tzaj7/detail/traininglog\n",
      "[INFO] [04-08 13:51:17] actions.py:617 [t:8640914048]:  check vdl report in https://console.bce.baidu.com/qianfan/visualdl/index?displayToken=eyJydW5JZCI6InJ1bi1rZ3R2MzNxNjk3OWlraXFtIn0=\n",
      "[INFO] [04-08 13:51:48] actions.py:610 [t:8640914048]: [train_action] training ... job_name:ERNIE_Speed_ROOHL current status: Running, 65% check train task log in https://console.bce.baidu.com/qianfan/train/sft/job-srm6dvkk4exw/task-xv0k9g6tzaj7/detail/traininglog\n",
      "[INFO] [04-08 13:51:48] actions.py:617 [t:8640914048]:  check vdl report in https://console.bce.baidu.com/qianfan/visualdl/index?displayToken=eyJydW5JZCI6InJ1bi1rZ3R2MzNxNjk3OWlraXFtIn0=\n",
      "[INFO] [04-08 13:52:19] actions.py:610 [t:8640914048]: [train_action] training ... job_name:ERNIE_Speed_ROOHL current status: Running, 65% check train task log in https://console.bce.baidu.com/qianfan/train/sft/job-srm6dvkk4exw/task-xv0k9g6tzaj7/detail/traininglog\n",
      "[INFO] [04-08 13:52:19] actions.py:617 [t:8640914048]:  check vdl report in https://console.bce.baidu.com/qianfan/visualdl/index?displayToken=eyJydW5JZCI6InJ1bi1rZ3R2MzNxNjk3OWlraXFtIn0=\n",
      "[INFO] [04-08 13:52:50] actions.py:610 [t:8640914048]: [train_action] training ... job_name:ERNIE_Speed_ROOHL current status: Running, 65% check train task log in https://console.bce.baidu.com/qianfan/train/sft/job-srm6dvkk4exw/task-xv0k9g6tzaj7/detail/traininglog\n",
      "[INFO] [04-08 13:52:50] actions.py:617 [t:8640914048]:  check vdl report in https://console.bce.baidu.com/qianfan/visualdl/index?displayToken=eyJydW5JZCI6InJ1bi1rZ3R2MzNxNjk3OWlraXFtIn0=\n",
      "[INFO] [04-08 13:53:20] actions.py:610 [t:8640914048]: [train_action] training ... job_name:ERNIE_Speed_ROOHL current status: Running, 65% check train task log in https://console.bce.baidu.com/qianfan/train/sft/job-srm6dvkk4exw/task-xv0k9g6tzaj7/detail/traininglog\n",
      "[INFO] [04-08 13:53:20] actions.py:617 [t:8640914048]:  check vdl report in https://console.bce.baidu.com/qianfan/visualdl/index?displayToken=eyJydW5JZCI6InJ1bi1rZ3R2MzNxNjk3OWlraXFtIn0=\n",
      "[INFO] [04-08 13:53:51] actions.py:610 [t:8640914048]: [train_action] training ... job_name:ERNIE_Speed_ROOHL current status: Running, 65% check train task log in https://console.bce.baidu.com/qianfan/train/sft/job-srm6dvkk4exw/task-xv0k9g6tzaj7/detail/traininglog\n",
      "[INFO] [04-08 13:53:51] actions.py:617 [t:8640914048]:  check vdl report in https://console.bce.baidu.com/qianfan/visualdl/index?displayToken=eyJydW5JZCI6InJ1bi1rZ3R2MzNxNjk3OWlraXFtIn0=\n",
      "[INFO] [04-08 13:54:22] actions.py:610 [t:8640914048]: [train_action] training ... job_name:ERNIE_Speed_ROOHL current status: Running, 65% check train task log in https://console.bce.baidu.com/qianfan/train/sft/job-srm6dvkk4exw/task-xv0k9g6tzaj7/detail/traininglog\n",
      "[INFO] [04-08 13:54:22] actions.py:617 [t:8640914048]:  check vdl report in https://console.bce.baidu.com/qianfan/visualdl/index?displayToken=eyJydW5JZCI6InJ1bi1rZ3R2MzNxNjk3OWlraXFtIn0=\n",
      "[INFO] [04-08 13:54:53] actions.py:610 [t:8640914048]: [train_action] training ... job_name:ERNIE_Speed_ROOHL current status: Running, 65% check train task log in https://console.bce.baidu.com/qianfan/train/sft/job-srm6dvkk4exw/task-xv0k9g6tzaj7/detail/traininglog\n",
      "[INFO] [04-08 13:54:53] actions.py:617 [t:8640914048]:  check vdl report in https://console.bce.baidu.com/qianfan/visualdl/index?displayToken=eyJydW5JZCI6InJ1bi1rZ3R2MzNxNjk3OWlraXFtIn0=\n",
      "[INFO] [04-08 13:55:24] actions.py:610 [t:8640914048]: [train_action] training ... job_name:ERNIE_Speed_ROOHL current status: Running, 65% check train task log in https://console.bce.baidu.com/qianfan/train/sft/job-srm6dvkk4exw/task-xv0k9g6tzaj7/detail/traininglog\n",
      "[INFO] [04-08 13:55:24] actions.py:617 [t:8640914048]:  check vdl report in https://console.bce.baidu.com/qianfan/visualdl/index?displayToken=eyJydW5JZCI6InJ1bi1rZ3R2MzNxNjk3OWlraXFtIn0=\n",
      "[INFO] [04-08 13:55:55] actions.py:610 [t:8640914048]: [train_action] training ... job_name:ERNIE_Speed_ROOHL current status: Running, 65% check train task log in https://console.bce.baidu.com/qianfan/train/sft/job-srm6dvkk4exw/task-xv0k9g6tzaj7/detail/traininglog\n",
      "[INFO] [04-08 13:55:55] actions.py:617 [t:8640914048]:  check vdl report in https://console.bce.baidu.com/qianfan/visualdl/index?displayToken=eyJydW5JZCI6InJ1bi1rZ3R2MzNxNjk3OWlraXFtIn0=\n",
      "[INFO] [04-08 13:56:26] actions.py:610 [t:8640914048]: [train_action] training ... job_name:ERNIE_Speed_ROOHL current status: Running, 65% check train task log in https://console.bce.baidu.com/qianfan/train/sft/job-srm6dvkk4exw/task-xv0k9g6tzaj7/detail/traininglog\n",
      "[INFO] [04-08 13:56:26] actions.py:617 [t:8640914048]:  check vdl report in https://console.bce.baidu.com/qianfan/visualdl/index?displayToken=eyJydW5JZCI6InJ1bi1rZ3R2MzNxNjk3OWlraXFtIn0=\n",
      "[INFO] [04-08 13:56:57] actions.py:610 [t:8640914048]: [train_action] training ... job_name:ERNIE_Speed_ROOHL current status: Running, 65% check train task log in https://console.bce.baidu.com/qianfan/train/sft/job-srm6dvkk4exw/task-xv0k9g6tzaj7/detail/traininglog\n",
      "[INFO] [04-08 13:56:57] actions.py:617 [t:8640914048]:  check vdl report in https://console.bce.baidu.com/qianfan/visualdl/index?displayToken=eyJydW5JZCI6InJ1bi1rZ3R2MzNxNjk3OWlraXFtIn0=\n",
      "[INFO] [04-08 13:57:27] actions.py:610 [t:8640914048]: [train_action] training ... job_name:ERNIE_Speed_ROOHL current status: Running, 65% check train task log in https://console.bce.baidu.com/qianfan/train/sft/job-srm6dvkk4exw/task-xv0k9g6tzaj7/detail/traininglog\n",
      "[INFO] [04-08 13:57:27] actions.py:617 [t:8640914048]:  check vdl report in https://console.bce.baidu.com/qianfan/visualdl/index?displayToken=eyJydW5JZCI6InJ1bi1rZ3R2MzNxNjk3OWlraXFtIn0=\n",
      "[INFO] [04-08 13:57:58] actions.py:610 [t:8640914048]: [train_action] training ... job_name:ERNIE_Speed_ROOHL current status: Running, 65% check train task log in https://console.bce.baidu.com/qianfan/train/sft/job-srm6dvkk4exw/task-xv0k9g6tzaj7/detail/traininglog\n",
      "[INFO] [04-08 13:57:58] actions.py:617 [t:8640914048]:  check vdl report in https://console.bce.baidu.com/qianfan/visualdl/index?displayToken=eyJydW5JZCI6InJ1bi1rZ3R2MzNxNjk3OWlraXFtIn0=\n",
      "[INFO] [04-08 13:58:29] actions.py:610 [t:8640914048]: [train_action] training ... job_name:ERNIE_Speed_ROOHL current status: Running, 65% check train task log in https://console.bce.baidu.com/qianfan/train/sft/job-srm6dvkk4exw/task-xv0k9g6tzaj7/detail/traininglog\n",
      "[INFO] [04-08 13:58:29] actions.py:617 [t:8640914048]:  check vdl report in https://console.bce.baidu.com/qianfan/visualdl/index?displayToken=eyJydW5JZCI6InJ1bi1rZ3R2MzNxNjk3OWlraXFtIn0=\n",
      "[INFO] [04-08 13:59:00] actions.py:610 [t:8640914048]: [train_action] training ... job_name:ERNIE_Speed_ROOHL current status: Running, 65% check train task log in https://console.bce.baidu.com/qianfan/train/sft/job-srm6dvkk4exw/task-xv0k9g6tzaj7/detail/traininglog\n",
      "[INFO] [04-08 13:59:00] actions.py:617 [t:8640914048]:  check vdl report in https://console.bce.baidu.com/qianfan/visualdl/index?displayToken=eyJydW5JZCI6InJ1bi1rZ3R2MzNxNjk3OWlraXFtIn0=\n",
      "[INFO] [04-08 13:59:31] actions.py:610 [t:8640914048]: [train_action] training ... job_name:ERNIE_Speed_ROOHL current status: Running, 65% check train task log in https://console.bce.baidu.com/qianfan/train/sft/job-srm6dvkk4exw/task-xv0k9g6tzaj7/detail/traininglog\n",
      "[INFO] [04-08 13:59:31] actions.py:617 [t:8640914048]:  check vdl report in https://console.bce.baidu.com/qianfan/visualdl/index?displayToken=eyJydW5JZCI6InJ1bi1rZ3R2MzNxNjk3OWlraXFtIn0=\n",
      "[INFO] [04-08 14:00:02] actions.py:610 [t:8640914048]: [train_action] training ... job_name:ERNIE_Speed_ROOHL current status: Running, 65% check train task log in https://console.bce.baidu.com/qianfan/train/sft/job-srm6dvkk4exw/task-xv0k9g6tzaj7/detail/traininglog\n",
      "[INFO] [04-08 14:00:02] actions.py:617 [t:8640914048]:  check vdl report in https://console.bce.baidu.com/qianfan/visualdl/index?displayToken=eyJydW5JZCI6InJ1bi1rZ3R2MzNxNjk3OWlraXFtIn0=\n",
      "[INFO] [04-08 14:00:33] actions.py:610 [t:8640914048]: [train_action] training ... job_name:ERNIE_Speed_ROOHL current status: Running, 99% check train task log in https://console.bce.baidu.com/qianfan/train/sft/job-srm6dvkk4exw/task-xv0k9g6tzaj7/detail/traininglog\n",
      "[INFO] [04-08 14:00:33] actions.py:617 [t:8640914048]:  check vdl report in https://console.bce.baidu.com/qianfan/visualdl/index?displayToken=eyJydW5JZCI6InJ1bi1rZ3R2MzNxNjk3OWlraXFtIn0=\n",
      "[INFO] [04-08 14:01:04] actions.py:610 [t:8640914048]: [train_action] training ... job_name:ERNIE_Speed_ROOHL current status: Running, 99% check train task log in https://console.bce.baidu.com/qianfan/train/sft/job-srm6dvkk4exw/task-xv0k9g6tzaj7/detail/traininglog\n",
      "[INFO] [04-08 14:01:04] actions.py:617 [t:8640914048]:  check vdl report in https://console.bce.baidu.com/qianfan/visualdl/index?displayToken=eyJydW5JZCI6InJ1bi1rZ3R2MzNxNjk3OWlraXFtIn0=\n",
      "[INFO] [04-08 14:01:34] actions.py:610 [t:8640914048]: [train_action] training ... job_name:ERNIE_Speed_ROOHL current status: Running, 99% check train task log in https://console.bce.baidu.com/qianfan/train/sft/job-srm6dvkk4exw/task-xv0k9g6tzaj7/detail/traininglog\n",
      "[INFO] [04-08 14:01:34] actions.py:617 [t:8640914048]:  check vdl report in https://console.bce.baidu.com/qianfan/visualdl/index?displayToken=eyJydW5JZCI6InJ1bi1rZ3R2MzNxNjk3OWlraXFtIn0=\n",
      "[INFO] [04-08 14:02:05] actions.py:610 [t:8640914048]: [train_action] training ... job_name:ERNIE_Speed_ROOHL current status: Running, 99% check train task log in https://console.bce.baidu.com/qianfan/train/sft/job-srm6dvkk4exw/task-xv0k9g6tzaj7/detail/traininglog\n",
      "[INFO] [04-08 14:02:05] actions.py:617 [t:8640914048]:  check vdl report in https://console.bce.baidu.com/qianfan/visualdl/index?displayToken=eyJydW5JZCI6InJ1bi1rZ3R2MzNxNjk3OWlraXFtIn0=\n",
      "[INFO] [04-08 14:02:36] actions.py:587 [t:8640914048]: [train_action] training task metrics: {'BLEU-4': '15.49%', 'ROUGE-1': '15.85%', 'ROUGE-2': '15.44%', 'ROUGE-L': '15.76%'}\n",
      "[INFO] [04-08 14:02:36] actions.py:626 [t:8640914048]: [train_action] training job has ended: job-srm6dvkk4exw/task-xv0k9g6tzaj7 with status: Done\n",
      "[INFO] [04-08 14:02:36] persist.py:58 [t:8640914048]: save to /Users/guoweiming/.qianfan_cache/file_tmp/pipeline/OQIc93cMWG\n",
      "[INFO] [04-08 14:02:36] model.py:217 [t:8640914048]: check train job: task-xv0k9g6tzaj7/job-srm6dvkk4exw status before publishing model\n",
      "[INFO] [04-08 14:02:37] model.py:230 [t:8640914048]: model publishing keep polling, current status Done\n",
      "[INFO] [04-08 14:02:38] model.py:262 [t:8640914048]: publishing train task: job-srm6dvkk4exw/task-xv0k9g6tzaj7 to model: am-0tx2sd7e9vh7/amv-r7pw72npaipe\n",
      "[INFO] [04-08 14:03:10] model.py:287 [t:8640914048]: model am-0tx2sd7e9vh7/amv-r7pw72npaipe published successfully\n",
      "[INFO] [04-08 14:03:10] model.py:267 [t:8640914048]: publish successfully to model: am-0tx2sd7e9vh7/amv-r7pw72npaipe\n",
      "[INFO] [04-08 14:03:10] persist.py:58 [t:8640914048]: save to /Users/guoweiming/.qianfan_cache/file_tmp/pipeline/OQIc93cMWG\n"
     ]
    },
    {
     "data": {
      "text/plain": "<qianfan.trainer.finetune.Finetune at 0x7fbebc44e4c0>"
     },
     "execution_count": 120,
     "metadata": {},
     "output_type": "execute_result"
    }
   ],
   "source": [
    "trainer.run()"
   ]
  },
  {
   "cell_type": "markdown",
   "metadata": {},
   "source": [
    "获取finetune任务输出："
   ]
  },
  {
   "cell_type": "code",
   "execution_count": 131,
   "metadata": {
    "ExecuteTime": {
     "end_time": "2024-04-08T06:34:21.136088Z",
     "start_time": "2024-04-08T06:34:21.088586Z"
    }
   },
   "outputs": [
    {
     "data": {
      "text/plain": "{'datasets': {'sourceType': 'Platform',\n  'versions': [{'versionId': 'ds-bp6nj3tmxjmpzuxu'}],\n  'splitRatio': 20},\n 'task_id': 'task-xv0k9g6tzaj7',\n 'job_id': 'job-srm6dvkk4exw',\n 'metrics': {'BLEU-4': '15.49%',\n  'ROUGE-1': '15.85%',\n  'ROUGE-2': '15.44%',\n  'ROUGE-L': '15.76%'},\n 'model_id': 'am-0tx2sd7e9vh7',\n 'model_version_id': 'amv-r7pw72npaipe',\n 'model': <qianfan.model.model.Model at 0x7fbebc435a00>}"
     },
     "execution_count": 131,
     "metadata": {},
     "output_type": "execute_result"
    }
   ],
   "source": [
    "trainer.output"
   ]
  },
  {
   "cell_type": "code",
   "execution_count": 122,
   "metadata": {
    "ExecuteTime": {
     "end_time": "2024-04-08T06:03:10.245392Z",
     "start_time": "2024-04-08T06:03:10.181172Z"
    }
   },
   "outputs": [],
   "source": [
    "from qianfan.model import Model\n",
    "\n",
    "# 从训练结果中获取模型对象\n",
    "sft_speed: Model = trainer.output[\"model\"]"
   ]
  },
  {
   "cell_type": "code",
   "outputs": [],
   "source": [
    "#-# cell_skip\n",
    "from qianfan.model import Service, DeployConfig\n",
    "from qianfan.model.consts import ServiceType\n",
    "from qianfan.resources.console.consts import DeployPoolType\n",
    "\n",
    "# 将模型部署为服务，才能进行多轮对话的批量推理\n",
    "sft_speed_svc: Service = sft_speed.deploy(DeployConfig(\n",
    "    name=\"random_roleplay_svc\",\n",
    "    endpoint_prefix=\"roleplay\",\n",
    "    replicas=1, # 副本数， 与qps强绑定\n",
    "    pool_type=DeployPoolType.PrivateResource, # 私有资源池\n",
    "    service_type=ServiceType.Chat,\n",
    "))"
   ],
   "metadata": {
    "collapsed": false
   }
  },
  {
   "cell_type": "markdown",
   "metadata": {},
   "source": [
    "## 微调结果评估\n",
    "得到微调模型后，封装本地评估器来评估微调的效果"
   ]
  },
  {
   "cell_type": "code",
   "outputs": [],
   "source": [
    "from qianfan.evaluation.evaluator import LocalEvaluator\n",
    "from qianfan import ChatCompletion\n",
    "from qianfan.common.prompt.prompt import Prompt\n",
    "from qianfan.utils.pydantic import Field\n",
    "\n",
    "from typing import Optional, Union, Any, Dict, List\n",
    "import re\n",
    "import json\n",
    "\n",
    "class RolePlayLocalJudgeEvaluator(LocalEvaluator):\n",
    "    model: Optional[ChatCompletion] = Field(default=None, description=\"model object\")\n",
    "    eval_prompt: Prompt = Field(\n",
    "        default=Prompt(\n",
    "            template=\"\"\"你需要扮演一个裁判的角色，对一段角色扮演的对话内容进行打分，你需要考虑这段文本中的角色沉浸度和对话文本的通畅程度。你可以根据以下规则来进行打分，你可以阐述你对打分标准的理解后再给出分数：\n",
    "                \"4\":完全可以扮演提问中的角色进行对话，回答完全符合角色口吻和身份，文本流畅语句通顺\n",
    "                \"3\":扮演了提问中正确的角色，回答完全符合角色口吻和身份，但文本不流畅或字数不满足要求\n",
    "                \"2\":扮演了提问中正确的角色，但是部分语句不符合角色口吻和身份，文本流畅语句通顺\n",
    "                \"1\":能够以角色的口吻和身份进行一部分对话，和角色设定有一定偏差，回答内容不流畅，或不满足文本字数要求\n",
    "                \"0\":扮演了错误的角色，没有扮演正确的角色，角色设定和提问设定差异极大，完全不满意\n",
    "                你的回答需要以json代码格式输出：\n",
    "                ```json\n",
    "                {\"modelA\": {\"justification\": \"此处阐述对打分标准的理解\", \"score\": \"此处填写打分结果\"}}\n",
    "                ```\n",
    "\n",
    "                现在你可以开始回答了：\n",
    "                问题：{{input}}\n",
    "                ---\n",
    "                标准回答：{{expect}}\n",
    "                ---\n",
    "                modelA回答：{{output}}\n",
    "                ---\"\"\",\n",
    "            identifier=\"{{}}\",\n",
    "        ),\n",
    "        description=\"evaluation prompt\",\n",
    "    )\n",
    "\n",
    "    class Config:\n",
    "        arbitrary_types_allowed = True\n",
    "\n",
    "    def evaluate(\n",
    "        self, input: Union[str, List[Dict[str, Any]]], reference: str, output: str\n",
    "    ) -> Dict[str, Any]:\n",
    "        if isinstance(input, str):\n",
    "            raise ValueError(\"input should be a list of dict\")  # 只处理多轮对话\n",
    "        score = 0\n",
    "        try:\n",
    "            # 渲染评估用的 prompt，传入输入、模型输出和参考答案\n",
    "            p, _ = self.eval_prompt.render(\n",
    "                **{\n",
    "                    \"input\": \"\\n\".join([i[\"content\"] for i in input]),\n",
    "                    \"output\": output,  ## 模型输出，这里为多轮对话时，output 为最后一轮的模型输出\n",
    "                    \"expect\": reference,  ## 多轮对话时，reference 为最后一个对话的参考答案\n",
    "                }\n",
    "            )\n",
    "            # 请求模型进行评估\n",
    "            r = self.model.do(messages=[{\"role\": \"user\", \"content\": p}])\n",
    "            content = r[\"result\"]\n",
    "            # 提取出 json 格式的评估结果\n",
    "            regex = re.compile(\"\\`\\`\\`json(.*)\\`\\`\\`\", re.MULTILINE | re.DOTALL)\n",
    "\n",
    "            u = regex.findall(content)\n",
    "\n",
    "            if len(u) == 0:\n",
    "                score = 0\n",
    "            else:\n",
    "                score = float(json.loads(u[0])[\"modelA\"][\"score\"])\n",
    "        except Exception as e:\n",
    "            score = 0\n",
    "        # 返回评估结果，这里字段需与后续推荐配置时设定的评估字段一致\n",
    "        return {\"score\": score}"
   ],
   "metadata": {
    "collapsed": false,
    "ExecuteTime": {
     "end_time": "2024-04-10T09:35:55.701502Z",
     "start_time": "2024-04-10T09:35:55.574497Z"
    }
   },
   "execution_count": 61
  },
  {
   "cell_type": "markdown",
   "metadata": {},
   "source": [
    "读取测试集"
   ]
  },
  {
   "cell_type": "code",
   "execution_count": 108,
   "metadata": {
    "ExecuteTime": {
     "end_time": "2024-04-11T02:09:58.133906Z",
     "start_time": "2024-04-11T02:09:58.079528Z"
    }
   },
   "outputs": [
    {
     "name": "stderr",
     "output_type": "stream",
     "text": [
      "[INFO] [04-11 10:09:58] dataset.py:389 [t:8638464640]: no data source was provided, construct\n",
      "[INFO] [04-11 10:09:58] dataset.py:257 [t:8638464640]: construct a file data source from path: data/sft_eval.jsonl, with args: {'input_columns': ['prompt'], 'reference_column': 'response'}\n",
      "[INFO] [04-11 10:09:58] file.py:280 [t:8638464640]: use format type FormatType.Jsonl\n",
      "[INFO] [04-11 10:09:58] utils.py:331 [t:8638464640]: need create cached arrow file for /Users/guoweiming/PycharmProjects/bce-qianfan-sdk/cookbook/finetune/data/sft_eval.jsonl\n",
      "[INFO] [04-11 10:09:58] utils.py:376 [t:8638464640]: start to write arrow table to /Users/guoweiming/.qianfan_cache/dataset/Users/guoweiming/PycharmProjects/bce-qianfan-sdk/cookbook/finetune/data/sft_eval.arrow\n",
      "[INFO] [04-11 10:09:58] utils.py:388 [t:8638464640]: writing succeeded\n",
      "[INFO] [04-11 10:09:58] utils.py:262 [t:8638464640]: start to get memory_map from /Users/guoweiming/.qianfan_cache/dataset/Users/guoweiming/PycharmProjects/bce-qianfan-sdk/cookbook/finetune/data/sft_eval.arrow\n",
      "[INFO] [04-11 10:09:58] utils.py:237 [t:8638464640]: has got a memory-mapped table\n",
      "[INFO] [04-11 10:09:58] dataset.py:883 [t:8638464640]: list local dataset data by 0\n",
      "[INFO] [04-11 10:09:58] utils.py:376 [t:8638464640]: start to write arrow table to /Users/guoweiming/.qianfan_cache/dataset/.mapper_cache/Users/guoweiming/PycharmProjects/bce-qianfan-sdk/cookbook/finetune/data/sft_eval_262bf11b-5316-453d-9c92-d977055b343e.arrow\n",
      "[INFO] [04-11 10:09:58] utils.py:388 [t:8638464640]: writing succeeded\n",
      "[INFO] [04-11 10:09:58] utils.py:262 [t:8638464640]: start to get memory_map from /Users/guoweiming/.qianfan_cache/dataset/.mapper_cache/Users/guoweiming/PycharmProjects/bce-qianfan-sdk/cookbook/finetune/data/sft_eval_262bf11b-5316-453d-9c92-d977055b343e.arrow\n"
     ]
    }
   ],
   "source": [
    "from qianfan.dataset import Dataset, QianfanDataSource\n",
    "from qianfan.resources.console import consts as console_consts\n",
    "\n",
    "test_ds = Dataset.load(data_file=\"data/sft_eval.jsonl\", organize_data_as_group=True, input_columns=[\"prompt\"], reference_column=\"response\")"
   ]
  },
  {
   "cell_type": "markdown",
   "metadata": {},
   "source": [
    "构建千帆自动评估器，这里使用自定义评估和规则评估，具体参见[how_to_use_evaluation](https://github.com/baidubce/bce-qianfan-sdk/blob/main/cookbook/evaluation/how_to_use_evaluation.ipynb)"
   ]
  },
  {
   "cell_type": "code",
   "outputs": [],
   "source": [
    "role_metric: str=\"\"\"\n",
    "4:完全可以扮演提问中的角色进行对话，回答完全符合角色口吻和身份，文本流畅语句通顺\n",
    "3:扮演了提问中正确的角色，回答完全符合角色口吻和身份\n",
    "2:扮演了提问中正确的角色，但是部分语句不符合角色口吻和身份，文本流畅语句通顺\n",
    "1:能够以角色的口吻和身份进行一部分对话，和角色设定有一定偏差，回答内容不流畅或不满足文本字数要求\n",
    "0:扮演了错误的角色，角色设定和提问设定差异极大，完全不满意\n",
    "\"\"\""
   ],
   "metadata": {
    "collapsed": false,
    "ExecuteTime": {
     "end_time": "2024-04-11T02:10:03.792633Z",
     "start_time": "2024-04-11T02:10:03.760794Z"
    }
   },
   "execution_count": 109
  },
  {
   "cell_type": "code",
   "execution_count": 110,
   "metadata": {
    "ExecuteTime": {
     "end_time": "2024-04-11T02:10:04.388184Z",
     "start_time": "2024-04-11T02:10:04.332251Z"
    }
   },
   "outputs": [
    {
     "name": "stderr",
     "output_type": "stream",
     "text": [
      "[WARNING] [04-11 10:10:04] model.py:379 [t:8638464640]: service type should be specified before exec\n",
      "[WARNING] [04-11 10:10:04] model.py:379 [t:8638464640]: service type should be specified before exec\n"
     ]
    }
   ],
   "source": [
    "from qianfan import ChatCompletion\n",
    "from qianfan.model import Service\n",
    "\n",
    "base_speed_svc: Service = Service(model=\"ERNIE-Speed\")  # 预置Speed服务\n",
    "base_eb4_svc: Service = Service(model=\"ERNIE-Bot-4\")  # 预置EB4服务\n",
    "\n",
    "local_evaluators = [\n",
    "    RolePlayLocalJudgeEvaluator(model=ChatCompletion(model=\"ERNIE-Bot-4\")),\n",
    "]"
   ]
  },
  {
   "cell_type": "markdown",
   "metadata": {},
   "source": [
    "开始评估，使用预置Speed模型进行对照测试"
   ]
  },
  {
   "cell_type": "code",
   "outputs": [
    {
     "name": "stderr",
     "output_type": "stream",
     "text": [
      "[INFO] [04-11 10:10:06] evaluation_manager.py:471 [t:8638464640]: start to inference in batch during evaluation\n",
      "[INFO] [04-11 10:10:06] utils.py:376 [t:13155549184]: start to write arrow table to /Users/guoweiming/.qianfan_cache/dataset/.mapper_cache/Users/guoweiming/PycharmProjects/bce-qianfan-sdk/cookbook/finetune/data/sft_eval_097b9d83-2dc9-44ad-a2b3-166df300b3f1.arrow\n",
      "[INFO] [04-11 10:10:06] utils.py:388 [t:13155549184]: writing succeeded\n",
      "[INFO] [04-11 10:10:06] utils.py:262 [t:13155549184]: start to get memory_map from /Users/guoweiming/.qianfan_cache/dataset/.mapper_cache/Users/guoweiming/PycharmProjects/bce-qianfan-sdk/cookbook/finetune/data/sft_eval_097b9d83-2dc9-44ad-a2b3-166df300b3f1.arrow\n",
      "[INFO] [04-11 10:10:06] dataset.py:883 [t:13155549184]: list local dataset data by None\n",
      "[INFO] [04-11 10:10:06] openapi_requestor.py:336 [t:13172338688]: requesting llm api endpoint: /chat/ernie_speed\n",
      "[INFO] [04-11 10:10:06] openapi_requestor.py:336 [t:13205917696]: requesting llm api endpoint: /chat/ernie_speed\n",
      "[INFO] [04-11 10:10:06] openapi_requestor.py:336 [t:13256286208]: requesting llm api endpoint: /chat/ernie_speed\n",
      "[INFO] [04-11 10:10:06] openapi_requestor.py:336 [t:13222707200]: requesting llm api endpoint: /chat/ernie_speed\n",
      "[INFO] [04-11 10:10:06] openapi_requestor.py:336 [t:13306654720]: requesting llm api endpoint: /chat/ernie_speed\n",
      "[INFO] [04-11 10:10:06] openapi_requestor.py:336 [t:13189128192]: requesting llm api endpoint: /chat/ernie_speed\n",
      "[INFO] [04-11 10:10:06] openapi_requestor.py:336 [t:13340233728]: requesting llm api endpoint: /chat/ernie_speed\n",
      "[INFO] [04-11 10:10:06] openapi_requestor.py:336 [t:13289865216]: requesting llm api endpoint: /chat/ernie_speed\n",
      "[INFO] [04-11 10:10:06] openapi_requestor.py:336 [t:13390602240]: requesting llm api endpoint: /chat/ernie_speed\n",
      "[INFO] [04-11 10:10:06] openapi_requestor.py:336 [t:13357023232]: requesting llm api endpoint: /chat/ernie_speed\n",
      "[INFO] [04-11 10:10:06] openapi_requestor.py:336 [t:13373812736]: requesting llm api endpoint: /chat/ernie_speed\n",
      "[INFO] [04-11 10:10:06] openapi_requestor.py:336 [t:13323444224]: requesting llm api endpoint: /chat/ernie_speed\n",
      "[INFO] [04-11 10:10:06] openapi_requestor.py:336 [t:13273075712]: requesting llm api endpoint: /chat/ernie_speed\n",
      "[INFO] [04-11 10:10:06] openapi_requestor.py:336 [t:13239496704]: requesting llm api endpoint: /chat/ernie_speed\n",
      "[INFO] [04-11 10:10:06] openapi_requestor.py:336 [t:13407391744]: requesting llm api endpoint: /chat/ernie_speed\n",
      "[INFO] [04-11 10:10:06] openapi_requestor.py:336 [t:13457760256]: requesting llm api endpoint: /chat/ernie_speed\n",
      "[INFO] [04-11 10:10:06] openapi_requestor.py:336 [t:13474549760]: requesting llm api endpoint: /chat/ernie_speed\n",
      "[INFO] [04-11 10:10:06] openapi_requestor.py:336 [t:13424181248]: requesting llm api endpoint: /chat/ernie_speed\n",
      "[INFO] [04-11 10:10:06] openapi_requestor.py:336 [t:13491339264]: requesting llm api endpoint: /chat/ernie_speed\n",
      "[INFO] [04-11 10:10:06] openapi_requestor.py:336 [t:13440970752]: requesting llm api endpoint: /chat/ernie_speed\n",
      "[INFO] [04-11 10:10:06] openapi_requestor.py:336 [t:13508128768]: requesting llm api endpoint: /chat/ernie_speed\n",
      "[INFO] [04-11 10:10:06] openapi_requestor.py:336 [t:13541707776]: requesting llm api endpoint: /chat/ernie_speed\n",
      "[INFO] [04-11 10:10:06] openapi_requestor.py:336 [t:13524918272]: requesting llm api endpoint: /chat/ernie_speed\n",
      "[INFO] [04-11 10:10:06] openapi_requestor.py:336 [t:13592076288]: requesting llm api endpoint: /chat/ernie_speed\n",
      "[INFO] [04-11 10:10:06] openapi_requestor.py:336 [t:13575286784]: requesting llm api endpoint: /chat/ernie_speed\n",
      "[INFO] [04-11 10:10:06] openapi_requestor.py:336 [t:13558497280]: requesting llm api endpoint: /chat/ernie_speed\n",
      "[INFO] [04-11 10:10:06] openapi_requestor.py:336 [t:13743181824]: requesting llm api endpoint: /chat/ernie_speed\n",
      "[INFO] [04-11 10:10:06] openapi_requestor.py:336 [t:13608865792]: requesting llm api endpoint: /chat/ernie_speed\n",
      "[INFO] [04-11 10:10:06] openapi_requestor.py:336 [t:13659234304]: requesting llm api endpoint: /chat/ernie_speed\n",
      "[INFO] [04-11 10:10:06] openapi_requestor.py:336 [t:13726392320]: requesting llm api endpoint: /chat/ernie_speed\n",
      "[INFO] [04-11 10:10:06] openapi_requestor.py:336 [t:13692813312]: requesting llm api endpoint: /chat/ernie_speed\n",
      "[INFO] [04-11 10:10:06] openapi_requestor.py:336 [t:13642444800]: requesting llm api endpoint: /chat/ernie_speed\n",
      "[INFO] [04-11 10:10:06] openapi_requestor.py:336 [t:13625655296]: requesting llm api endpoint: /chat/ernie_speed\n",
      "[INFO] [04-11 10:10:06] openapi_requestor.py:336 [t:13676023808]: requesting llm api endpoint: /chat/ernie_speed\n",
      "[INFO] [04-11 10:10:06] openapi_requestor.py:336 [t:13759971328]: requesting llm api endpoint: /chat/ernie_speed\n",
      "[INFO] [04-11 10:10:06] openapi_requestor.py:336 [t:13793550336]: requesting llm api endpoint: /chat/ernie_speed\n",
      "[INFO] [04-11 10:10:06] openapi_requestor.py:336 [t:13810339840]: requesting llm api endpoint: /chat/ernie_speed\n",
      "[INFO] [04-11 10:10:06] openapi_requestor.py:336 [t:13944655872]: requesting llm api endpoint: /chat/ernie_speed\n",
      "[INFO] [04-11 10:10:06] openapi_requestor.py:336 [t:13709602816]: requesting llm api endpoint: /chat/ernie_speed\n",
      "[INFO] [04-11 10:10:06] openapi_requestor.py:336 [t:13827129344]: requesting llm api endpoint: /chat/ernie_speed\n",
      "[INFO] [04-11 10:10:06] openapi_requestor.py:336 [t:13877497856]: requesting llm api endpoint: /chat/ernie_speed\n",
      "[INFO] [04-11 10:10:06] openapi_requestor.py:336 [t:13843918848]: requesting llm api endpoint: /chat/ernie_speed\n",
      "[INFO] [04-11 10:10:06] openapi_requestor.py:336 [t:13776760832]: requesting llm api endpoint: /chat/ernie_speed\n",
      "[INFO] [04-11 10:10:06] openapi_requestor.py:336 [t:13911076864]: requesting llm api endpoint: /chat/ernie_speed\n",
      "[INFO] [04-11 10:10:06] openapi_requestor.py:336 [t:13927866368]: requesting llm api endpoint: /chat/ernie_speed\n",
      "[INFO] [04-11 10:10:06] openapi_requestor.py:336 [t:13978234880]: requesting llm api endpoint: /chat/ernie_speed\n",
      "[INFO] [04-11 10:10:06] openapi_requestor.py:336 [t:13860708352]: requesting llm api endpoint: /chat/ernie_speed\n",
      "[INFO] [04-11 10:10:06] openapi_requestor.py:336 [t:13961445376]: requesting llm api endpoint: /chat/ernie_speed\n",
      "[INFO] [04-11 10:10:06] openapi_requestor.py:336 [t:13894287360]: requesting llm api endpoint: /chat/ernie_speed\n",
      "[INFO] [04-11 10:10:28] base.py:92 [t:13676023808]: All tasks finished, exeutor will be shutdown\n",
      "[INFO] [04-11 10:10:28] evaluation_manager.py:495 [t:8638464640]: start to evaluate llm 0\n",
      "[INFO] [04-11 10:10:28] openapi_requestor.py:336 [t:13172338688]: requesting llm api endpoint: /chat/completions_pro\n",
      "[INFO] [04-11 10:10:28] openapi_requestor.py:336 [t:13189128192]: requesting llm api endpoint: /chat/completions_pro\n",
      "[INFO] [04-11 10:10:28] openapi_requestor.py:336 [t:13205917696]: requesting llm api endpoint: /chat/completions_pro\n",
      "[INFO] [04-11 10:10:28] openapi_requestor.py:336 [t:13155549184]: requesting llm api endpoint: /chat/completions_pro\n",
      "[INFO] [04-11 10:10:28] openapi_requestor.py:336 [t:13239496704]: requesting llm api endpoint: /chat/completions_pro\n",
      "[INFO] [04-11 10:10:28] openapi_requestor.py:336 [t:13222707200]: requesting llm api endpoint: /chat/completions_pro\n",
      "[INFO] [04-11 10:10:28] openapi_requestor.py:336 [t:13256286208]: requesting llm api endpoint: /chat/completions_pro\n",
      "[INFO] [04-11 10:10:37] openapi_requestor.py:336 [t:13189128192]: requesting llm api endpoint: /chat/completions_pro\n",
      "[INFO] [04-11 10:10:40] openapi_requestor.py:336 [t:13205917696]: requesting llm api endpoint: /chat/completions_pro\n",
      "[INFO] [04-11 10:10:41] openapi_requestor.py:336 [t:13172338688]: requesting llm api endpoint: /chat/completions_pro\n",
      "[INFO] [04-11 10:10:41] openapi_requestor.py:336 [t:13155549184]: requesting llm api endpoint: /chat/completions_pro\n",
      "[INFO] [04-11 10:10:41] openapi_requestor.py:336 [t:13239496704]: requesting llm api endpoint: /chat/completions_pro\n",
      "[INFO] [04-11 10:10:42] openapi_requestor.py:336 [t:13256286208]: requesting llm api endpoint: /chat/completions_pro\n",
      "[INFO] [04-11 10:10:42] openapi_requestor.py:336 [t:13222707200]: requesting llm api endpoint: /chat/completions_pro\n",
      "[INFO] [04-11 10:10:52] openapi_requestor.py:336 [t:13172338688]: requesting llm api endpoint: /chat/completions_pro\n",
      "[INFO] [04-11 10:10:53] openapi_requestor.py:336 [t:13189128192]: requesting llm api endpoint: /chat/completions_pro\n",
      "[INFO] [04-11 10:10:54] openapi_requestor.py:336 [t:13205917696]: requesting llm api endpoint: /chat/completions_pro\n",
      "[INFO] [04-11 10:10:54] openapi_requestor.py:336 [t:13256286208]: requesting llm api endpoint: /chat/completions_pro\n",
      "[INFO] [04-11 10:10:55] openapi_requestor.py:336 [t:13155549184]: requesting llm api endpoint: /chat/completions_pro\n",
      "[INFO] [04-11 10:10:55] openapi_requestor.py:336 [t:13239496704]: requesting llm api endpoint: /chat/completions_pro\n",
      "[INFO] [04-11 10:10:57] openapi_requestor.py:336 [t:13222707200]: requesting llm api endpoint: /chat/completions_pro\n",
      "[INFO] [04-11 10:11:03] openapi_requestor.py:336 [t:13172338688]: requesting llm api endpoint: /chat/completions_pro\n",
      "[INFO] [04-11 10:11:04] openapi_requestor.py:336 [t:13205917696]: requesting llm api endpoint: /chat/completions_pro\n",
      "[INFO] [04-11 10:11:05] openapi_requestor.py:336 [t:13256286208]: requesting llm api endpoint: /chat/completions_pro\n",
      "[INFO] [04-11 10:11:07] openapi_requestor.py:336 [t:13239496704]: requesting llm api endpoint: /chat/completions_pro\n",
      "[INFO] [04-11 10:11:09] openapi_requestor.py:336 [t:13155549184]: requesting llm api endpoint: /chat/completions_pro\n",
      "[INFO] [04-11 10:11:10] openapi_requestor.py:336 [t:13189128192]: requesting llm api endpoint: /chat/completions_pro\n",
      "[INFO] [04-11 10:11:12] openapi_requestor.py:336 [t:13256286208]: requesting llm api endpoint: /chat/completions_pro\n",
      "[INFO] [04-11 10:11:13] openapi_requestor.py:336 [t:13172338688]: requesting llm api endpoint: /chat/completions_pro\n",
      "[INFO] [04-11 10:11:15] openapi_requestor.py:336 [t:13205917696]: requesting llm api endpoint: /chat/completions_pro\n",
      "[INFO] [04-11 10:11:17] openapi_requestor.py:336 [t:13222707200]: requesting llm api endpoint: /chat/completions_pro\n",
      "[INFO] [04-11 10:11:18] openapi_requestor.py:336 [t:13239496704]: requesting llm api endpoint: /chat/completions_pro\n",
      "[INFO] [04-11 10:11:21] openapi_requestor.py:336 [t:13189128192]: requesting llm api endpoint: /chat/completions_pro\n",
      "[INFO] [04-11 10:11:23] openapi_requestor.py:336 [t:13256286208]: requesting llm api endpoint: /chat/completions_pro\n",
      "[INFO] [04-11 10:11:23] openapi_requestor.py:336 [t:13172338688]: requesting llm api endpoint: /chat/completions_pro\n",
      "[INFO] [04-11 10:11:26] openapi_requestor.py:336 [t:13205917696]: requesting llm api endpoint: /chat/completions_pro\n",
      "[INFO] [04-11 10:11:29] openapi_requestor.py:336 [t:13239496704]: requesting llm api endpoint: /chat/completions_pro\n",
      "[INFO] [04-11 10:11:30] openapi_requestor.py:336 [t:13222707200]: requesting llm api endpoint: /chat/completions_pro\n",
      "[INFO] [04-11 10:11:30] openapi_requestor.py:336 [t:13189128192]: requesting llm api endpoint: /chat/completions_pro\n",
      "[INFO] [04-11 10:11:31] openapi_requestor.py:336 [t:13155549184]: requesting llm api endpoint: /chat/completions_pro\n",
      "[INFO] [04-11 10:11:35] openapi_requestor.py:336 [t:13256286208]: requesting llm api endpoint: /chat/completions_pro\n",
      "[INFO] [04-11 10:11:38] openapi_requestor.py:336 [t:13205917696]: requesting llm api endpoint: /chat/completions_pro\n",
      "[INFO] [04-11 10:11:39] openapi_requestor.py:336 [t:13172338688]: requesting llm api endpoint: /chat/completions_pro\n",
      "[INFO] [04-11 10:11:40] openapi_requestor.py:336 [t:13239496704]: requesting llm api endpoint: /chat/completions_pro\n",
      "[INFO] [04-11 10:11:40] openapi_requestor.py:336 [t:13155549184]: requesting llm api endpoint: /chat/completions_pro\n",
      "[INFO] [04-11 10:11:46] openapi_requestor.py:336 [t:13189128192]: requesting llm api endpoint: /chat/completions_pro\n",
      "[INFO] [04-11 10:11:46] openapi_requestor.py:336 [t:13222707200]: requesting llm api endpoint: /chat/completions_pro\n",
      "[INFO] [04-11 10:11:48] openapi_requestor.py:336 [t:13155549184]: requesting llm api endpoint: /chat/completions_pro\n",
      "[INFO] [04-11 10:11:59] openapi_requestor.py:336 [t:13222707200]: requesting llm api endpoint: /chat/completions_pro\n",
      "[INFO] [04-11 10:12:10] evaluation_manager.py:523 [t:8638464640]: start to merge evaluation result dataset\n",
      "[INFO] [04-11 10:12:10] evaluation_manager.py:471 [t:8638464640]: start to inference in batch during evaluation\n",
      "[INFO] [04-11 10:12:10] utils.py:376 [t:13155549184]: start to write arrow table to /Users/guoweiming/.qianfan_cache/dataset/.mapper_cache/Users/guoweiming/PycharmProjects/bce-qianfan-sdk/cookbook/finetune/data/sft_eval_088f5aa3-1cdc-403d-b2fa-9c7d8dde2918.arrow\n",
      "[INFO] [04-11 10:12:10] utils.py:388 [t:13155549184]: writing succeeded\n",
      "[INFO] [04-11 10:12:10] utils.py:262 [t:13155549184]: start to get memory_map from /Users/guoweiming/.qianfan_cache/dataset/.mapper_cache/Users/guoweiming/PycharmProjects/bce-qianfan-sdk/cookbook/finetune/data/sft_eval_088f5aa3-1cdc-403d-b2fa-9c7d8dde2918.arrow\n",
      "[INFO] [04-11 10:12:10] dataset.py:883 [t:13155549184]: list local dataset data by None\n",
      "[INFO] [04-11 10:12:11] openapi_requestor.py:336 [t:13172338688]: requesting llm api endpoint: /chat/completions_pro\n",
      "[INFO] [04-11 10:12:11] openapi_requestor.py:336 [t:13189128192]: requesting llm api endpoint: /chat/completions_pro\n",
      "[INFO] [04-11 10:12:11] openapi_requestor.py:336 [t:13239496704]: requesting llm api endpoint: /chat/completions_pro\n",
      "[INFO] [04-11 10:12:11] openapi_requestor.py:336 [t:13205917696]: requesting llm api endpoint: /chat/completions_pro\n",
      "[INFO] [04-11 10:12:11] openapi_requestor.py:336 [t:13289865216]: requesting llm api endpoint: /chat/completions_pro\n",
      "[INFO] [04-11 10:12:11] openapi_requestor.py:336 [t:13273075712]: requesting llm api endpoint: /chat/completions_pro\n",
      "[INFO] [04-11 10:12:11] openapi_requestor.py:336 [t:13306654720]: requesting llm api endpoint: /chat/completions_pro\n",
      "[INFO] [04-11 10:12:11] openapi_requestor.py:336 [t:13222707200]: requesting llm api endpoint: /chat/completions_pro\n",
      "[INFO] [04-11 10:12:11] openapi_requestor.py:336 [t:13256286208]: requesting llm api endpoint: /chat/completions_pro\n",
      "[INFO] [04-11 10:12:11] openapi_requestor.py:336 [t:13323444224]: requesting llm api endpoint: /chat/completions_pro\n",
      "[INFO] [04-11 10:12:11] openapi_requestor.py:336 [t:13340233728]: requesting llm api endpoint: /chat/completions_pro\n",
      "[INFO] [04-11 10:12:11] openapi_requestor.py:336 [t:13373812736]: requesting llm api endpoint: /chat/completions_pro\n",
      "[INFO] [04-11 10:12:11] openapi_requestor.py:336 [t:13424181248]: requesting llm api endpoint: /chat/completions_pro\n",
      "[INFO] [04-11 10:12:11] openapi_requestor.py:336 [t:13390602240]: requesting llm api endpoint: /chat/completions_pro\n",
      "[INFO] [04-11 10:12:11] openapi_requestor.py:336 [t:13357023232]: requesting llm api endpoint: /chat/completions_pro\n",
      "[INFO] [04-11 10:12:11] openapi_requestor.py:336 [t:13407391744]: requesting llm api endpoint: /chat/completions_pro\n",
      "[INFO] [04-11 10:12:11] openapi_requestor.py:336 [t:13457760256]: requesting llm api endpoint: /chat/completions_pro\n",
      "[INFO] [04-11 10:12:11] openapi_requestor.py:336 [t:13440970752]: requesting llm api endpoint: /chat/completions_pro\n",
      "[INFO] [04-11 10:12:11] openapi_requestor.py:336 [t:13474549760]: requesting llm api endpoint: /chat/completions_pro\n",
      "[INFO] [04-11 10:12:11] openapi_requestor.py:336 [t:13491339264]: requesting llm api endpoint: /chat/completions_pro\n",
      "[INFO] [04-11 10:12:11] openapi_requestor.py:336 [t:13508128768]: requesting llm api endpoint: /chat/completions_pro\n",
      "[INFO] [04-11 10:12:11] openapi_requestor.py:336 [t:13524918272]: requesting llm api endpoint: /chat/completions_pro\n",
      "[INFO] [04-11 10:12:11] openapi_requestor.py:336 [t:13541707776]: requesting llm api endpoint: /chat/completions_pro\n",
      "[INFO] [04-11 10:12:11] openapi_requestor.py:336 [t:13659234304]: requesting llm api endpoint: /chat/completions_pro\n",
      "[INFO] [04-11 10:12:11] openapi_requestor.py:336 [t:13592076288]: requesting llm api endpoint: /chat/completions_pro\n",
      "[INFO] [04-11 10:12:11] openapi_requestor.py:336 [t:13575286784]: requesting llm api endpoint: /chat/completions_pro\n",
      "[INFO] [04-11 10:12:11] openapi_requestor.py:336 [t:13558497280]: requesting llm api endpoint: /chat/completions_pro\n",
      "[INFO] [04-11 10:12:11] openapi_requestor.py:336 [t:13676023808]: requesting llm api endpoint: /chat/completions_pro\n",
      "[INFO] [04-11 10:12:11] openapi_requestor.py:336 [t:13642444800]: requesting llm api endpoint: /chat/completions_pro\n",
      "[INFO] [04-11 10:12:11] openapi_requestor.py:336 [t:13625655296]: requesting llm api endpoint: /chat/completions_pro\n",
      "[INFO] [04-11 10:12:11] openapi_requestor.py:336 [t:13608865792]: requesting llm api endpoint: /chat/completions_pro\n",
      "[INFO] [04-11 10:12:11] openapi_requestor.py:336 [t:13692813312]: requesting llm api endpoint: /chat/completions_pro\n",
      "[INFO] [04-11 10:12:11] openapi_requestor.py:336 [t:13759971328]: requesting llm api endpoint: /chat/completions_pro\n",
      "[INFO] [04-11 10:12:11] openapi_requestor.py:336 [t:13726392320]: requesting llm api endpoint: /chat/completions_pro\n",
      "[INFO] [04-11 10:12:11] openapi_requestor.py:336 [t:13709602816]: requesting llm api endpoint: /chat/completions_pro\n",
      "[INFO] [04-11 10:12:11] openapi_requestor.py:336 [t:13810339840]: requesting llm api endpoint: /chat/completions_pro\n",
      "[INFO] [04-11 10:12:11] openapi_requestor.py:336 [t:13877497856]: requesting llm api endpoint: /chat/completions_pro\n",
      "[INFO] [04-11 10:12:11] openapi_requestor.py:336 [t:13843918848]: requesting llm api endpoint: /chat/completions_pro\n",
      "[INFO] [04-11 10:12:11] openapi_requestor.py:336 [t:13860708352]: requesting llm api endpoint: /chat/completions_pro\n",
      "[INFO] [04-11 10:12:11] openapi_requestor.py:336 [t:13776760832]: requesting llm api endpoint: /chat/completions_pro\n",
      "[INFO] [04-11 10:12:11] openapi_requestor.py:336 [t:13927866368]: requesting llm api endpoint: /chat/completions_pro\n",
      "[INFO] [04-11 10:12:11] openapi_requestor.py:336 [t:13743181824]: requesting llm api endpoint: /chat/completions_pro\n",
      "[INFO] [04-11 10:12:11] openapi_requestor.py:336 [t:13894287360]: requesting llm api endpoint: /chat/completions_pro\n",
      "[INFO] [04-11 10:12:11] openapi_requestor.py:336 [t:13793550336]: requesting llm api endpoint: /chat/completions_pro\n",
      "[INFO] [04-11 10:12:11] openapi_requestor.py:336 [t:13827129344]: requesting llm api endpoint: /chat/completions_pro\n",
      "[INFO] [04-11 10:12:11] openapi_requestor.py:336 [t:13944655872]: requesting llm api endpoint: /chat/completions_pro\n",
      "[INFO] [04-11 10:12:11] openapi_requestor.py:336 [t:13911076864]: requesting llm api endpoint: /chat/completions_pro\n",
      "[INFO] [04-11 10:12:11] openapi_requestor.py:336 [t:13978234880]: requesting llm api endpoint: /chat/completions_pro\n",
      "[INFO] [04-11 10:12:11] openapi_requestor.py:336 [t:13961445376]: requesting llm api endpoint: /chat/completions_pro\n",
      "[ERROR] [04-11 10:13:24] base.py:342 [t:13810339840]: request exception: HTTPSConnectionPool(host='aip.baidubce.com', port=443): Read timed out. (read timeout=60), retrying...\n",
      "[INFO] [04-11 10:13:56] base.py:92 [t:13810339840]: All tasks finished, exeutor will be shutdown\n",
      "[INFO] [04-11 10:13:56] evaluation_manager.py:495 [t:8638464640]: start to evaluate llm 0\n",
      "[INFO] [04-11 10:13:56] openapi_requestor.py:336 [t:13205917696]: requesting llm api endpoint: /chat/completions_pro\n",
      "[INFO] [04-11 10:13:56] openapi_requestor.py:336 [t:13155549184]: requesting llm api endpoint: /chat/completions_pro\n",
      "[INFO] [04-11 10:13:56] openapi_requestor.py:336 [t:13239496704]: requesting llm api endpoint: /chat/completions_pro\n",
      "[INFO] [04-11 10:13:56] openapi_requestor.py:336 [t:13222707200]: requesting llm api endpoint: /chat/completions_pro\n",
      "[INFO] [04-11 10:13:56] openapi_requestor.py:336 [t:13306654720]: requesting llm api endpoint: /chat/completions_pro\n",
      "[INFO] [04-11 10:13:56] openapi_requestor.py:336 [t:13323444224]: requesting llm api endpoint: /chat/completions_pro\n",
      "[INFO] [04-11 10:13:56] openapi_requestor.py:336 [t:13273075712]: requesting llm api endpoint: /chat/completions_pro\n",
      "[INFO] [04-11 10:14:06] openapi_requestor.py:336 [t:13205917696]: requesting llm api endpoint: /chat/completions_pro\n",
      "[INFO] [04-11 10:14:08] openapi_requestor.py:336 [t:13239496704]: requesting llm api endpoint: /chat/completions_pro\n",
      "[INFO] [04-11 10:14:09] openapi_requestor.py:336 [t:13222707200]: requesting llm api endpoint: /chat/completions_pro\n",
      "[INFO] [04-11 10:14:09] openapi_requestor.py:336 [t:13273075712]: requesting llm api endpoint: /chat/completions_pro\n",
      "[INFO] [04-11 10:14:10] openapi_requestor.py:336 [t:13155549184]: requesting llm api endpoint: /chat/completions_pro\n",
      "[INFO] [04-11 10:14:11] openapi_requestor.py:336 [t:13323444224]: requesting llm api endpoint: /chat/completions_pro\n",
      "[INFO] [04-11 10:14:13] openapi_requestor.py:336 [t:13306654720]: requesting llm api endpoint: /chat/completions_pro\n",
      "[INFO] [04-11 10:14:18] openapi_requestor.py:336 [t:13155549184]: requesting llm api endpoint: /chat/completions_pro\n",
      "[INFO] [04-11 10:14:20] openapi_requestor.py:336 [t:13239496704]: requesting llm api endpoint: /chat/completions_pro\n",
      "[INFO] [04-11 10:14:21] openapi_requestor.py:336 [t:13205917696]: requesting llm api endpoint: /chat/completions_pro\n",
      "[INFO] [04-11 10:14:22] openapi_requestor.py:336 [t:13222707200]: requesting llm api endpoint: /chat/completions_pro\n",
      "[INFO] [04-11 10:14:22] openapi_requestor.py:336 [t:13273075712]: requesting llm api endpoint: /chat/completions_pro\n",
      "[INFO] [04-11 10:14:25] openapi_requestor.py:336 [t:13306654720]: requesting llm api endpoint: /chat/completions_pro\n",
      "[INFO] [04-11 10:14:26] openapi_requestor.py:336 [t:13323444224]: requesting llm api endpoint: /chat/completions_pro\n",
      "[INFO] [04-11 10:14:27] openapi_requestor.py:336 [t:13155549184]: requesting llm api endpoint: /chat/completions_pro\n",
      "[INFO] [04-11 10:14:31] openapi_requestor.py:336 [t:13222707200]: requesting llm api endpoint: /chat/completions_pro\n",
      "[INFO] [04-11 10:14:31] openapi_requestor.py:336 [t:13239496704]: requesting llm api endpoint: /chat/completions_pro\n",
      "[INFO] [04-11 10:14:31] openapi_requestor.py:336 [t:13205917696]: requesting llm api endpoint: /chat/completions_pro\n",
      "[INFO] [04-11 10:14:32] openapi_requestor.py:336 [t:13155549184]: requesting llm api endpoint: /chat/completions_pro\n",
      "[INFO] [04-11 10:14:35] openapi_requestor.py:336 [t:13306654720]: requesting llm api endpoint: /chat/completions_pro\n",
      "[INFO] [04-11 10:14:39] openapi_requestor.py:336 [t:13222707200]: requesting llm api endpoint: /chat/completions_pro\n",
      "[INFO] [04-11 10:14:39] openapi_requestor.py:336 [t:13273075712]: requesting llm api endpoint: /chat/completions_pro\n",
      "[INFO] [04-11 10:14:40] openapi_requestor.py:336 [t:13205917696]: requesting llm api endpoint: /chat/completions_pro\n",
      "[INFO] [04-11 10:14:41] openapi_requestor.py:336 [t:13323444224]: requesting llm api endpoint: /chat/completions_pro\n",
      "[INFO] [04-11 10:14:42] openapi_requestor.py:336 [t:13155549184]: requesting llm api endpoint: /chat/completions_pro\n",
      "[INFO] [04-11 10:14:45] openapi_requestor.py:336 [t:13239496704]: requesting llm api endpoint: /chat/completions_pro\n",
      "[INFO] [04-11 10:14:48] openapi_requestor.py:336 [t:13323444224]: requesting llm api endpoint: /chat/completions_pro\n",
      "[INFO] [04-11 10:14:48] openapi_requestor.py:336 [t:13306654720]: requesting llm api endpoint: /chat/completions_pro\n",
      "[INFO] [04-11 10:14:50] openapi_requestor.py:336 [t:13205917696]: requesting llm api endpoint: /chat/completions_pro\n",
      "[INFO] [04-11 10:14:51] openapi_requestor.py:336 [t:13155549184]: requesting llm api endpoint: /chat/completions_pro\n",
      "[INFO] [04-11 10:14:53] openapi_requestor.py:336 [t:13273075712]: requesting llm api endpoint: /chat/completions_pro\n",
      "[INFO] [04-11 10:14:55] openapi_requestor.py:336 [t:13239496704]: requesting llm api endpoint: /chat/completions_pro\n",
      "[INFO] [04-11 10:14:59] openapi_requestor.py:336 [t:13222707200]: requesting llm api endpoint: /chat/completions_pro\n",
      "[INFO] [04-11 10:15:02] openapi_requestor.py:336 [t:13323444224]: requesting llm api endpoint: /chat/completions_pro\n",
      "[INFO] [04-11 10:15:03] openapi_requestor.py:336 [t:13239496704]: requesting llm api endpoint: /chat/completions_pro\n",
      "[INFO] [04-11 10:15:03] openapi_requestor.py:336 [t:13306654720]: requesting llm api endpoint: /chat/completions_pro\n",
      "[INFO] [04-11 10:15:03] openapi_requestor.py:336 [t:13273075712]: requesting llm api endpoint: /chat/completions_pro\n",
      "[INFO] [04-11 10:15:04] openapi_requestor.py:336 [t:13205917696]: requesting llm api endpoint: /chat/completions_pro\n",
      "[INFO] [04-11 10:15:08] openapi_requestor.py:336 [t:13222707200]: requesting llm api endpoint: /chat/completions_pro\n",
      "[INFO] [04-11 10:15:16] openapi_requestor.py:336 [t:13323444224]: requesting llm api endpoint: /chat/completions_pro\n",
      "[INFO] [04-11 10:15:17] openapi_requestor.py:336 [t:13306654720]: requesting llm api endpoint: /chat/completions_pro\n",
      "[INFO] [04-11 10:15:18] openapi_requestor.py:336 [t:13273075712]: requesting llm api endpoint: /chat/completions_pro\n",
      "[INFO] [04-11 10:15:32] evaluation_manager.py:523 [t:8638464640]: start to merge evaluation result dataset\n"
     ]
    }
   ],
   "source": [
    "from qianfan.evaluation import EvaluationManager\n",
    "\n",
    "em = EvaluationManager(local_evaluators=local_evaluators)\n",
    "\n",
    "results = []\n",
    "# results.append(em.eval([sft_speed], test_ds))\n",
    "results.append(em.eval([base_speed_svc], test_ds))\n",
    "results.append(em.eval([base_eb4_svc], test_ds))"
   ],
   "metadata": {
    "ExecuteTime": {
     "end_time": "2024-04-11T02:15:32.954436Z",
     "start_time": "2024-04-11T02:10:06.525982Z"
    }
   },
   "execution_count": 112
  },
  {
   "cell_type": "code",
   "execution_count": 116,
   "metadata": {
    "ExecuteTime": {
     "end_time": "2024-04-11T02:16:55.488076Z",
     "start_time": "2024-04-11T02:16:55.451290Z"
    }
   },
   "outputs": [
    {
     "name": "stderr",
     "output_type": "stream",
     "text": [
      "[INFO] [04-11 10:16:55] dataset.py:462 [t:8638464640]: no destination data source was provided, construct\n",
      "[INFO] [04-11 10:16:55] dataset.py:257 [t:8638464640]: construct a file data source from path: ./result/dataset_base_Speed.jsonl, with args: {}\n",
      "[INFO] [04-11 10:16:55] file.py:280 [t:8638464640]: use format type FormatType.Jsonl\n",
      "[INFO] [04-11 10:16:55] dataset.py:462 [t:8638464640]: no destination data source was provided, construct\n",
      "[INFO] [04-11 10:16:55] dataset.py:257 [t:8638464640]: construct a file data source from path: ./result/dataset_base_EB4.jsonl, with args: {}\n",
      "[INFO] [04-11 10:16:55] file.py:280 [t:8638464640]: use format type FormatType.Jsonl\n"
     ]
    }
   ],
   "source": [
    "# labels = [\"finetune_Speed\", \"base_Speed\", \"base_EB4\"]\n",
    "labels = [\"base_Speed\", \"base_EB4\"]\n",
    "\n",
    "os.makedirs(\"./result\", exist_ok=True)\n",
    "for label, result in zip(labels, results):\n",
    "    eval_ds = result.result_dataset\n",
    "    local_path = f'./result/dataset_{label}.jsonl'\n",
    "    eval_ds.save(data_file=local_path)"
   ]
  },
  {
   "cell_type": "code",
   "outputs": [],
   "source": [
    "import pandas as pd\n",
    "\n",
    "def process_datasets(ds: Dataset):\n",
    "    # ds_name = ds.list(0)['llm_tag'].split('_')[-1]\n",
    "    \n",
    "    ds.col_delete('input_chats')\n",
    "    ds.col_delete('expected_output')\n",
    "    ds.col_delete('llm_output')\n",
    "    ds.col_renames(['llm', 'score'])\n",
    "    \n",
    "    # ds.col_renames([ds_name])\n",
    "\n",
    "    return pd.DataFrame(ds.to_pylist())\n",
    "\n",
    "def get_GSB(x: pd.Series):\n",
    "    GSB = {'G': len(x[x>0]), 'S': len(x[x==0]), 'B': len(x[x<0])}\n",
    "    return ':'.join(map(str,GSB.values()))"
   ],
   "metadata": {
    "collapsed": false,
    "ExecuteTime": {
     "end_time": "2024-04-12T04:28:52.588501Z",
     "start_time": "2024-04-12T04:28:52.574287Z"
    }
   },
   "execution_count": 554
  },
  {
   "cell_type": "code",
   "outputs": [
    {
     "name": "stderr",
     "output_type": "stream",
     "text": [
      "[INFO] [04-12 15:28:35] dataset.py:389 [t:8638464640]: no data source was provided, construct\n",
      "[INFO] [04-12 15:28:35] dataset.py:257 [t:8638464640]: construct a file data source from path: ./result/dataset_base_Speed.jsonl, with args: {}\n",
      "[INFO] [04-12 15:28:35] file.py:280 [t:8638464640]: use format type FormatType.Jsonl\n",
      "[INFO] [04-12 15:28:35] utils.py:262 [t:8638464640]: start to get memory_map from /Users/guoweiming/.qianfan_cache/dataset/Users/guoweiming/PycharmProjects/bce-qianfan-sdk/cookbook/finetune/result/dataset_base_Speed.arrow\n",
      "[INFO] [04-12 15:28:35] utils.py:237 [t:8638464640]: has got a memory-mapped table\n",
      "[INFO] [04-12 15:28:35] dataset.py:389 [t:8638464640]: no data source was provided, construct\n",
      "[INFO] [04-12 15:28:35] dataset.py:257 [t:8638464640]: construct a file data source from path: ./result/dataset_base_EB4.jsonl, with args: {}\n",
      "[INFO] [04-12 15:28:35] file.py:280 [t:8638464640]: use format type FormatType.Jsonl\n",
      "[INFO] [04-12 15:28:35] utils.py:262 [t:8638464640]: start to get memory_map from /Users/guoweiming/.qianfan_cache/dataset/Users/guoweiming/PycharmProjects/bce-qianfan-sdk/cookbook/finetune/result/dataset_base_EB4.arrow\n",
      "[INFO] [04-12 15:28:35] utils.py:237 [t:8638464640]: has got a memory-mapped table\n"
     ]
    },
    {
     "data": {
      "text/plain": "llm        ERNIE-Bot-4  ERNIE-Speed\ncount        49.000000    49.000000\nstd           1.065859     1.211832\nmean          2.775510     2.102041\nmin           0.000000     0.000000\nmax           4.000000     4.000000\nmean ~80%     2.461538     1.615385",
      "text/html": "<div>\n<style scoped>\n    .dataframe tbody tr th:only-of-type {\n        vertical-align: middle;\n    }\n\n    .dataframe tbody tr th {\n        vertical-align: top;\n    }\n\n    .dataframe thead th {\n        text-align: right;\n    }\n</style>\n<table border=\"1\" class=\"dataframe\">\n  <thead>\n    <tr style=\"text-align: right;\">\n      <th>llm</th>\n      <th>ERNIE-Bot-4</th>\n      <th>ERNIE-Speed</th>\n    </tr>\n  </thead>\n  <tbody>\n    <tr>\n      <th>count</th>\n      <td>49.000000</td>\n      <td>49.000000</td>\n    </tr>\n    <tr>\n      <th>std</th>\n      <td>1.065859</td>\n      <td>1.211832</td>\n    </tr>\n    <tr>\n      <th>mean</th>\n      <td>2.775510</td>\n      <td>2.102041</td>\n    </tr>\n    <tr>\n      <th>min</th>\n      <td>0.000000</td>\n      <td>0.000000</td>\n    </tr>\n    <tr>\n      <th>max</th>\n      <td>4.000000</td>\n      <td>4.000000</td>\n    </tr>\n    <tr>\n      <th>mean ~80%</th>\n      <td>2.461538</td>\n      <td>1.615385</td>\n    </tr>\n  </tbody>\n</table>\n</div>"
     },
     "execution_count": 794,
     "metadata": {},
     "output_type": "execute_result"
    }
   ],
   "source": [
    "def get_percent(x: pd.Series):\n",
    "    sorted = x.sort_values(ascending=True)\n",
    "    # 取后80%\n",
    "    return sorted.iloc[:int(len(sorted)*0.8)].mean()\n",
    "\n",
    "dfs = [process_datasets(Dataset.load(data_file=f'./result/dataset_{label}.jsonl')) for label in labels]\n",
    "# 笛卡尔积\n",
    "compare_df = pd.concat(dfs, axis=0)\n",
    "compare_df['llm'] = compare_df['llm'].apply(lambda x:x.split('_')[-1])\n",
    "group_df = compare_df.groupby('llm').agg({'score':['count','std','mean','min','max',get_percent]}).T.droplevel(0).rename(index={'get_percent':'mean ~80%'})\n",
    "group_df"
   ],
   "metadata": {
    "collapsed": false,
    "ExecuteTime": {
     "end_time": "2024-04-12T07:28:35.379352Z",
     "start_time": "2024-04-12T07:28:35.311410Z"
    }
   },
   "execution_count": 794
  },
  {
   "cell_type": "code",
   "outputs": [
    {
     "data": {
      "text/plain": "array([<AxesSubplot:title={'center':'ERNIE-Bot-4'}>,\n       <AxesSubplot:title={'center':'ERNIE-Speed'}>], dtype=object)"
     },
     "execution_count": 766,
     "metadata": {},
     "output_type": "execute_result"
    },
    {
     "data": {
      "text/plain": "<Figure size 640x480 with 2 Axes>",
      "image/png": "[encoded data removed]"
     },
     "metadata": {},
     "output_type": "display_data"
    }
   ],
   "source": [
    "compare_df.hist(by=compare_df['llm'], grid=True, alpha=0.8, bins=5)"
   ],
   "metadata": {
    "collapsed": false,
    "ExecuteTime": {
     "end_time": "2024-04-12T07:17:01.051428Z",
     "start_time": "2024-04-12T07:17:00.914176Z"
    }
   },
   "execution_count": 766
  },
  {
   "cell_type": "code",
   "outputs": [],
   "source": [
    "compare_df = compare_df.merge(compare_df, left_index=True, right_index=True)\n",
    "\n",
    "# 计算G:S:B\n",
    "compare_df['score'] = compare_df['score_x']-compare_df['score_y']\n",
    "compare_df = compare_df.drop(['score_x','score_y'],axis=1)\n",
    "\n",
    "# 逆透视处理，获得G:S:B邻接矩阵\n",
    "compare_df = compare_df.groupby(['llm_x','llm_y']).agg({'score':get_GSB}).rename(columns={'score':'G:S:B'})\n",
    "compare_df = compare_df.reset_index()\n",
    "compare_df = compare_df.pivot(index='llm_y',columns='llm_x', values='G:S:B')"
   ],
   "metadata": {
    "collapsed": false,
    "ExecuteTime": {
     "end_time": "2024-04-12T04:28:52.835568Z",
     "start_time": "2024-04-12T04:28:52.791723Z"
    }
   },
   "execution_count": 557
  },
  {
   "cell_type": "code",
   "outputs": [
    {
     "data": {
      "text/plain": "llm_x       ERNIE-Bot-4 ERNIE-Speed\nllm_y                              \nERNIE-Bot-4      0:49:0     8:16:25\nERNIE-Speed     25:16:8      0:49:0",
      "text/html": "<div>\n<style scoped>\n    .dataframe tbody tr th:only-of-type {\n        vertical-align: middle;\n    }\n\n    .dataframe tbody tr th {\n        vertical-align: top;\n    }\n\n    .dataframe thead th {\n        text-align: right;\n    }\n</style>\n<table border=\"1\" class=\"dataframe\">\n  <thead>\n    <tr style=\"text-align: right;\">\n      <th>llm_x</th>\n      <th>ERNIE-Bot-4</th>\n      <th>ERNIE-Speed</th>\n    </tr>\n    <tr>\n      <th>llm_y</th>\n      <th></th>\n      <th></th>\n    </tr>\n  </thead>\n  <tbody>\n    <tr>\n      <th>ERNIE-Bot-4</th>\n      <td>0:49:0</td>\n      <td>8:16:25</td>\n    </tr>\n    <tr>\n      <th>ERNIE-Speed</th>\n      <td>25:16:8</td>\n      <td>0:49:0</td>\n    </tr>\n  </tbody>\n</table>\n</div>"
     },
     "execution_count": 558,
     "metadata": {},
     "output_type": "execute_result"
    }
   ],
   "source": [
    "compare_df"
   ],
   "metadata": {
    "collapsed": false,
    "ExecuteTime": {
     "end_time": "2024-04-12T04:28:52.836490Z",
     "start_time": "2024-04-12T04:28:52.815896Z"
    }
   },
   "execution_count": 558
  },
  {
   "cell_type": "markdown",
   "metadata": {},
   "source": [
    "从结果可见，微调后的Speed效果有了很大提升，在准确率、相似度指标上都有优势。"
   ]
  }
 ],
 "metadata": {
  "celltoolbar": "Tags",
  "kernelspec": {
   "display_name": "Python 3 (ipykernel)",
   "language": "python",
   "name": "python3"
  },
  "language_info": {
   "codemirror_mode": {
    "name": "ipython",
    "version": 3
   },
   "file_extension": ".py",
   "mimetype": "text/x-python",
   "name": "python",
   "nbconvert_exporter": "python",
   "pygments_lexer": "ipython3",
   "version": "3.9.13"
  },
  "vscode": {
   "interpreter": {
    "hash": "58f7cb64c3a06383b7f18d2a11305edccbad427293a2b4afa7abe8bfc810d4bb"
   }
  }
 },
 "nbformat": 4,
 "nbformat_minor": 2
}
