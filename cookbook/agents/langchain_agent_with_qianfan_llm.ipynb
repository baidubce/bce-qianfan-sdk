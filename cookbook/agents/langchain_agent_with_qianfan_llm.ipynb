{
 "cells": [
  {
   "attachments": {},
   "cell_type": "markdown",
   "metadata": {},
   "source": [
    "# Agent\n",
    "\n",
    "## 用例\n",
    " \n",
    "本例为使用千帆平台在Langchain中的实现即`QianfanChatEndpoint`实现一个简单的agent样例。该例子基于`ERNIE-Bot`模型提供的function_call能力，结合Langchain tools的封装来实现。\n"
   ]
  },
  {
   "cell_type": "code",
   "execution_count": 1,
   "metadata": {},
   "outputs": [],
   "source": [
    "# 初始化LLM\n",
    "import os\n",
    "from langchain.chat_models import QianfanChatEndpoint\n",
    "\n",
    "os.environ[\"QIANFAN_AK\"] = \"your_ak\"\n",
    "os.environ[\"QIANFAN_SK\"] = \"your_sk\"\n",
    "llm = QianfanChatEndpoint(model=\"ERNIE-Bot\") # 仅EB支持\n"
   ]
  },
  {
   "attachments": {},
   "cell_type": "markdown",
   "metadata": {},
   "source": [
    "### 构造prompt"
   ]
  },
  {
   "cell_type": "code",
   "execution_count": 2,
   "metadata": {},
   "outputs": [],
   "source": [
    "from langchain.prompts import ChatPromptTemplate, MessagesPlaceholder\n",
    "\n",
    "prompt = ChatPromptTemplate.from_messages([\n",
    "    (\"system\", \"You are very powerful assistant, but bad at get today's temperature of location.\"),\n",
    "    (\"user\", \"{input}\"),\n",
    "    MessagesPlaceholder(variable_name=\"agent_scratchpad\")\n",
    "])"
   ]
  },
  {
   "attachments": {},
   "cell_type": "markdown",
   "metadata": {},
   "source": [
    "### 定义functions\n",
    "\n",
    "这一步需要定义好使用的functions的参数和描述，这会影响到LLm对function_call的回答"
   ]
  },
  {
   "cell_type": "code",
   "execution_count": 3,
   "metadata": {},
   "outputs": [],
   "source": [
    "FUNCTION_SCHEMA_GET_WEATHER = {\n",
    "    \"name\": \"get_current_weather\",\n",
    "    \"description\": \"获得指定地点的天气\",\n",
    "    \"parameters\": {\n",
    "        \"type\": \"object\",\n",
    "        \"properties\": {\n",
    "        \"location\": {\n",
    "            \"type\": \"string\",\n",
    "            \"description\": \"省，市名，例如：河北省，石家庄\"\n",
    "        },\n",
    "        \"unit\": {\n",
    "            \"type\": \"string\",\n",
    "            \"enum\": [\"摄氏度\", \"华氏度\"]\n",
    "        }\n",
    "        },\n",
    "        \"required\": [\"location\"]\n",
    "    }\n",
    "}\n",
    "\n",
    "\n",
    "from langchain.agents import tool\n",
    "\n",
    "@tool\n",
    "def get_current_weather(location: str) -> str:\n",
    "    \"\"\"Returns current temperature of location.\"\"\"\n",
    "    return \"25\"\n",
    "\n",
    "tools = [get_current_weather]"
   ]
  },
  {
   "cell_type": "code",
   "execution_count": 4,
   "metadata": {},
   "outputs": [],
   "source": [
    "llm_with_tools = llm.bind(\n",
    "    functions=[\n",
    "        FUNCTION_SCHEMA_GET_WEATHER,\n",
    "    ]\n",
    ")"
   ]
  },
  {
   "cell_type": "code",
   "execution_count": 7,
   "metadata": {},
   "outputs": [],
   "source": [
    "from langchain.agents.output_parsers import OpenAIFunctionsAgentOutputParser\n",
    "from langchain.agents.format_scratchpad import format_to_openai_functions\n",
    "\n",
    "p = {\n",
    "    \"input\": lambda x: x[\"input\"],\n",
    "    \"agent_scratchpad\": lambda x: format_to_openai_functions(x['intermediate_steps']),\n",
    "} \n",
    "agent = p | prompt | llm_with_tools | OpenAIFunctionsAgentOutputParser()\n"
   ]
  },
  {
   "cell_type": "code",
   "execution_count": 8,
   "metadata": {},
   "outputs": [
    {
     "name": "stderr",
     "output_type": "stream",
     "text": [
      "[WARNING] [09-27 17:22:00] logging.py:92 [t:140650105567040]: This key `system` does not seem to be a parameter that the model `ERNIE-Bot` will accept\n",
      "[WARNING] [09-27 17:22:02] logging.py:92 [t:140650105567040]: This key `system` does not seem to be a parameter that the model `ERNIE-Bot` will accept\n"
     ]
    },
    {
     "name": "stdout",
     "output_type": "stream",
     "text": [
      "get_current_weather {'location': '上海市', 'unit': '摄氏度'}\n",
      "上海市今天的天气是25摄氏度。\n"
     ]
    }
   ],
   "source": [
    "# main loop for functions steps\n",
    "# 由于erniebot本身system对外有一定限制，所以会报warning\n",
    "from langchain.schema.agent import AgentFinish\n",
    "intermediate_steps = []\n",
    "while True:\n",
    "    output = agent.invoke({\n",
    "        \"input\": \"上海市今天天气如何？\",\n",
    "        \"intermediate_steps\": intermediate_steps\n",
    "    })\n",
    "    \n",
    "    if isinstance(output, AgentFinish):\n",
    "        final_result = output.return_values[\"output\"]\n",
    "        break\n",
    "    else:\n",
    "        print(output.tool, output.tool_input)\n",
    "        tool = {\n",
    "            \"get_current_weather\": get_current_weather,\n",
    "        }[output.tool]\n",
    "        observation = tool.run(output.tool_input)\n",
    "        intermediate_steps.append((output, observation))\n",
    "print(final_result)"
   ]
  }
 ],
 "metadata": {
  "kernelspec": {
   "display_name": "base",
   "language": "python",
   "name": "python3"
  },
  "language_info": {
   "codemirror_mode": {
    "name": "ipython",
    "version": 3
   },
   "file_extension": ".py",
   "mimetype": "text/x-python",
   "name": "python",
   "nbconvert_exporter": "python",
   "pygments_lexer": "ipython3",
   "version": "3.11.4"
  },
  "orig_nbformat": 4,
  "vscode": {
   "interpreter": {
    "hash": "6fa70026b407ae751a5c9e6bd7f7d482379da8ad616f98512780b705c84ee157"
   }
  }
 },
 "nbformat": 4,
 "nbformat_minor": 2
}
