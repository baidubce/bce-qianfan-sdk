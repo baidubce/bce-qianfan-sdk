{
 "cells": [
  {
   "cell_type": "markdown",
   "id": "39fd1948-b5c3-48c4-b10e-2ae7e8c83334",
   "metadata": {},
   "source": [
    "# Langgraph 搭配千帆 Adpater 使用\n",
    "\n",
    "LangGraph 是由 LangChain Inc. 所推出的一款大模型应用编排框架。它在集成了来自 LangChain 的功能的同时，还提供了通过代码构建有向无环图（DAG），将多个智能体（Agent）或工具（Tool）节点链接在一起，在之间传递数据状态并且最终得出用户期望的输出结果的能力。LangGraph 官方提供了数种使用 LangGraph 来构建应用的样例，下文将介绍如何将这些样例与千帆 Adpater 结合使用，以实现现有 LangGraph 与 ERNIE 系列大模型的无缝对接。\n",
    "\n",
    "# 准备工作\n",
    "\n",
    "需要安装最新版本的 LangGraph 和 LangChain，并安装千帆 Adpater 版本的额外依赖组。"
   ]
  },
  {
   "cell_type": "code",
   "execution_count": 1,
   "id": "0d7b6dcc-c985-46e2-8457-7e6b0298b950",
   "metadata": {},
   "outputs": [],
   "source": [
    "!pip install -U langchain langchain-community langchain_openai langgraph duckduckgo \"qianfan[openai]\"\n",
    "!qianfan --version"
   ]
  },
  {
   "cell_type": "markdown",
   "id": "9392084c",
   "metadata": {},
   "source": [
    "接下来将演示如何使用 LangGraph 构建一个多智能体合作的 Demo\n",
    "\n",
    "# 0. 设置\n",
    "\n",
    "在开始之前，我们需要设置一些运行时必须的环境变量"
   ]
  },
  {
   "cell_type": "code",
   "execution_count": 2,
   "id": "743c19df-6da9-4d1e-b2d2-ea40080b9fdc",
   "metadata": {},
   "outputs": [],
   "source": [
    "import os\n",
    "\n",
    "# 由于 langchain-openai 的运行逻辑强校验 OPENAI_API_KEY 的存在，因此需要提前设置好\n",
    "# 值可以随便设置\n",
    "os.environ['OPENAI_API_KEY'] = 'any-content-you-want'\n",
    "\n",
    "# 这里需要设置为千帆 Adapter 运行时的地址\n",
    "os.environ['OPENAI_BASE_URL'] = 'http://localhost:8001/v1'"
   ]
  },
  {
   "cell_type": "markdown",
   "id": "04b8d488",
   "metadata": {},
   "source": [
    "并且在一个独立的终端中使用 `qianfan openai` 来启动一个 Adapter。这个 Adpater 会将所有请求向 OpenAI 的 API 转换为对千帆平台的请求，并且将回包转换为 OpenAI 的回包格式。实现在现有 OpenAI 生态中快速切换到千帆能力上的功能"
   ]
  },
  {
   "cell_type": "markdown",
   "id": "5e4344a7-21df-4d54-90d2-9d19b3416ffb",
   "metadata": {},
   "source": [
    "# 1. 创建 Agent\n",
    "\n",
    "LangGraph 中的节点可以是多种类型，例如一个被构造为智能体的 Chain。下面我们定义了一个工具函数，用于帮助我们快速构建一个支持传入 tools 和 system 字段作为请求参数的简易 Agent"
   ]
  },
  {
   "cell_type": "code",
   "execution_count": 3,
   "id": "4325a10e-38dc-4a98-9004-e1525eaba377",
   "metadata": {},
   "outputs": [],
   "source": [
    "from langchain_core.messages import (\n",
    "    BaseMessage,\n",
    "    HumanMessage,\n",
    "    ToolMessage,\n",
    ")\n",
    "from langchain_core.prompts import ChatPromptTemplate, MessagesPlaceholder\n",
    "\n",
    "from langgraph.graph import END, StateGraph, START\n",
    "\n",
    "\n",
    "def create_agent(llm, tools, system_message: str):\n",
    "    \"\"\"Create an agent.\"\"\"\n",
    "    prompt = ChatPromptTemplate.from_messages(\n",
    "        [\n",
    "            (\n",
    "                \"system\",\n",
    "                \"You are a helpful AI assistant, collaborating with other assistants.\"\n",
    "                \" Use the provided tools to progress towards answering the question.\"\n",
    "                \" If you are unable to fully answer, that's OK, another assistant with different tools \"\n",
    "                \" will help where you left off. Execute what you can to make progress.\"\n",
    "                \" If you or any of the other assistants have the final answer or deliverable,\"\n",
    "                \" prefix your response with FINAL ANSWER so the team knows to stop.\"\n",
    "                \" You have access to the following tools: {tool_names}.\\n{system_message}\",\n",
    "            ),\n",
    "            MessagesPlaceholder(variable_name=\"messages\"),\n",
    "        ]\n",
    "    )\n",
    "    prompt = prompt.partial(system_message=system_message)\n",
    "    prompt = prompt.partial(tool_names=\", \".join([tool.name for tool in tools]))\n",
    "    return prompt | llm.bind_functions(tools)"
   ]
  },
  {
   "cell_type": "markdown",
   "id": "b4b40de2-5dd4-4d5b-882e-577210723ff4",
   "metadata": {},
   "source": [
    "# 2. 定义工具\n",
    "\n",
    "Agent 的构造除了要使用大模型，还需要传入其可以使用的工具。下面我们就定义了一个用于执行 Python 脚本的解释器工具，和用于获取 mock 数据的搜索工具"
   ]
  },
  {
   "cell_type": "code",
   "execution_count": 4,
   "id": "ca076f3b-a729-4ca9-8f91-05c2ba58d610",
   "metadata": {},
   "outputs": [],
   "source": [
    "from typing import Annotated\n",
    "\n",
    "from langchain_core.tools import tool\n",
    "from langchain_experimental.utilities import PythonREPL\n",
    "\n",
    "repl = PythonREPL()\n",
    "\n",
    "\n",
    "@tool\n",
    "def python_repl(\n",
    "    code: Annotated[str, \"The python code to execute to generate your chart.\"],\n",
    "):\n",
    "    \"\"\"Use this to execute python code. If you want to see the output of a value,\n",
    "    you should print it out with `print(...)`. This is visible to the user.\"\"\"\n",
    "    try:\n",
    "        result = repl.run(code)\n",
    "    except BaseException as e:\n",
    "        return f\"Failed to execute. Error: {repr(e)}\"\n",
    "    result_str = f\"Successfully executed:\\n```python\\n{code}\\n```\\nStdout: {result}\"\n",
    "    return (\n",
    "        result_str + \"\\n\\nIf you have completed all tasks, respond with FINAL ANSWER.\"\n",
    "    )\n",
    "\n",
    "@tool\n",
    "def duckduckgo_search(\n",
    "    query: Annotated[str, \"搜索关键词\"],\n",
    "):\n",
    "    \"\"\"使用该工具来搜索 DuckDuckGo 上的内容.\"\"\"\n",
    "    return \"\"\"{\n",
    "  \"GDP_USA_2010_2020\": {\n",
    "    \"2010\": 14964.4,\n",
    "    \"2011\": 15518.9,\n",
    "    \"2012\": 16197.0,\n",
    "    \"2013\": 16784.9,\n",
    "    \"2014\": 17527.3,\n",
    "    \"2015\": 18224.8,\n",
    "    \"2016\": 18745.1,\n",
    "    \"2017\": 19519.4,\n",
    "    \"2018\": 20611.9,\n",
    "    \"2019\": 21433.2,\n",
    "    \"2020\": 20936.6\n",
    "  }\n",
    "}\"\"\""
   ]
  },
  {
   "cell_type": "markdown",
   "id": "f1b54c0c-0b09-408b-abc5-86308929afb6",
   "metadata": {},
   "source": [
    "# 3. 创建 Graph\n",
    "\n",
    "现在我们有了工具的定义，以及构建 Agent 的工具函数，接下来我们就可以着手来构建 LangGraph 的 Graph。Graph 中的每个节点代表一个 Agent，每个节点之间的边代表两个 Agent 之间的通信。Graph 的作用是描述 Agent 之间的通信，从而帮助我们构建 Agent 之间的交互。\n",
    "\n",
    "## 3.1 定义状态\n",
    "\n",
    "我们首先需要定义 Graph 的状态。这个状态包含了一个消息列表，以及一个用来追踪最近发送消息节点的 Key"
   ]
  },
  {
   "cell_type": "code",
   "execution_count": 5,
   "id": "290c91d4-f6f4-443c-8181-233d39102974",
   "metadata": {},
   "outputs": [],
   "source": [
    "import operator\n",
    "from typing import Annotated, Sequence, TypedDict\n",
    "\n",
    "from langchain_openai import ChatOpenAI\n",
    "\n",
    "\n",
    "# This defines the object that is passed between each node\n",
    "# in the graph. We will create different nodes for each agent and tool\n",
    "class AgentState(TypedDict):\n",
    "    messages: Annotated[Sequence[BaseMessage], operator.add]\n",
    "    sender: str"
   ]
  },
  {
   "cell_type": "markdown",
   "id": "911a283e-ea04-40c1-b792-f9e5f7d81203",
   "metadata": {},
   "source": [
    "## 3.2 定义 Agent 节点\n",
    "\n",
    "在定义了状态之后，我们接下来就需要定义用于构建 Graph 的节点了。首先是 Agent 节点"
   ]
  },
  {
   "cell_type": "code",
   "execution_count": 6,
   "id": "71b790ca-9cef-4b22-b469-4b1d5d8424d6",
   "metadata": {},
   "outputs": [],
   "source": [
    "import functools\n",
    "import re\n",
    "\n",
    "from langchain_core.messages import AIMessage\n",
    "\n",
    "\n",
    "# Helper function to create a node for a given agent\n",
    "def agent_node(state, agent, name):\n",
    "    messages = state[\"messages\"]\n",
    "    last_message = messages[-1]\n",
    "\n",
    "    if isinstance(last_message, AIMessage):\n",
    "        messages.append(HumanMessage(content=\"Please continue your thinking\"))\n",
    "        state[\"messages\"] = messages\n",
    "\n",
    "    result = agent.invoke(state)\n",
    "    # We convert the agent output into a format that is suitable to append to the global state\n",
    "    if isinstance(result, ToolMessage):\n",
    "        pass\n",
    "    else:\n",
    "        result = AIMessage(**result.dict(exclude={\"type\", \"name\"}), name=name)\n",
    "    return {\n",
    "        \"messages\": [result],\n",
    "        # Since we have a strict workflow, we can\n",
    "        # track the sender so we know who to pass to next.\n",
    "        \"sender\": name,\n",
    "    }\n",
    "\n",
    "def extract_markdown_code_blocks(text):\n",
    "    code_block_pattern = re.compile(r'```python(.*?)```', re.DOTALL)\n",
    "\n",
    "    code_blocks = code_block_pattern.findall(text)\n",
    "    \n",
    "    return code_blocks\n",
    "\n",
    "\n",
    "# Helper function to create a code node for a given agent\n",
    "def code_agent_node(state, agent, name):\n",
    "    messages = state[\"messages\"]\n",
    "    last_message = messages[-1]\n",
    "\n",
    "    if isinstance(last_message, AIMessage):\n",
    "        messages.append(HumanMessage(content=\"Please continue your thinking\"))\n",
    "        state[\"messages\"] = messages\n",
    "\n",
    "    result = agent.invoke(state)\n",
    "    # We convert the agent output into a format that is suitable to append to the global state\n",
    "    \n",
    "    from langchain_core.messages import ToolCall\n",
    "\n",
    "    code_blocks = extract_markdown_code_blocks(result.content)\n",
    "    if code_blocks:\n",
    "        code_block = code_blocks[0]\n",
    "        result = AIMessage(content=\"\", tool_calls=[ToolCall(name=\"python_repl\", args={\"code\": code_block}, id=\"python_repl\")])\n",
    "    \n",
    "    if isinstance(result, ToolMessage):\n",
    "        pass\n",
    "    else:\n",
    "        result = AIMessage(**result.dict(exclude={\"type\", \"name\"}), name=name)\n",
    "    return {\n",
    "        \"messages\": [result],\n",
    "        # Since we have a strict workflow, we can\n",
    "        # track the sender so we know who to pass to next.\n",
    "        \"sender\": name,\n",
    "    }\n",
    "\n",
    "llm = ChatOpenAI(model=\"ERNIE-Functions-8K\")\n",
    "llm_code_gen = ChatOpenAI(model=\"ERNIE-4.0-8K\")\n",
    "\n",
    "# Research agent and node\n",
    "research_agent = create_agent(\n",
    "    llm,\n",
    "    [duckduckgo_search],\n",
    "    system_message=\"You should provide accurate data for the chart_generator to use.\",\n",
    ")\n",
    "research_node = functools.partial(agent_node, agent=research_agent, name=\"Researcher\")\n",
    "\n",
    "# chart_generator\n",
    "chart_agent = create_agent(\n",
    "    llm_code_gen,\n",
    "    [python_repl],\n",
    "    system_message=\"Any charts you display will be visible by the user.\",\n",
    ")\n",
    "chart_node = functools.partial(code_agent_node, agent=chart_agent, name=\"chart_generator\")"
   ]
  },
  {
   "cell_type": "markdown",
   "id": "71c7f1b2-24a3-4340-bcb2-feb22e344fb6",
   "metadata": {},
   "source": [
    "## 3.3 定义工具节点\n",
    "\n",
    "除了决策用的 Agent 节点之外，我们还需要定义一个工具节点，来运行从 Agent 节点传递的调用信息"
   ]
  },
  {
   "cell_type": "code",
   "execution_count": 7,
   "id": "d9a79c76-5c7c-42f6-91cf-635bc8305804",
   "metadata": {},
   "outputs": [],
   "source": [
    "from langgraph.prebuilt import ToolNode\n",
    "\n",
    "tools = [duckduckgo_search, python_repl]\n",
    "tool_node = ToolNode(tools)"
   ]
  },
  {
   "cell_type": "markdown",
   "id": "bcb30498-dbc4-4b20-980f-da08ebc9da56",
   "metadata": {},
   "source": [
    "## 3.4 定义边\n",
    "\n",
    "不同节点之间需要用边来链接，LangGraph 支持根据节点输出的状态，依据一定条件来构造边的行为。"
   ]
  },
  {
   "cell_type": "code",
   "execution_count": 8,
   "id": "4f4b4d37-e8a3-4abb-8d42-eaea26016f35",
   "metadata": {},
   "outputs": [],
   "source": [
    "# Either agent can decide to end\n",
    "from typing import Literal\n",
    "\n",
    "\n",
    "def router(state) -> Literal[\"call_tool\", \"__end__\", \"continue\"]:\n",
    "    # This is the router\n",
    "    messages = state[\"messages\"]\n",
    "    last_message = messages[-1]\n",
    "    if last_message.tool_calls:\n",
    "        # The previous agent is invoking a tool\n",
    "        return \"call_tool\"\n",
    "    if \"FINAL ANSWER\" in last_message.content:\n",
    "        # Any agent decided the work is done\n",
    "        return \"__end__\"\n",
    "    \n",
    "    return \"continue\""
   ]
  },
  {
   "cell_type": "markdown",
   "id": "e9359c34-e191-43a2-a3d4-f2dea636dfd2",
   "metadata": {},
   "source": [
    "## 3.5 定义图\n",
    "\n",
    "在构造完上述组件之后，我们接下来可以将它们组合在一起构造为 Graph。"
   ]
  },
  {
   "cell_type": "code",
   "execution_count": 9,
   "id": "4dce3901-6ad5-4df5-8528-6e865cf96cb0",
   "metadata": {},
   "outputs": [],
   "source": [
    "workflow = StateGraph(AgentState)\n",
    "\n",
    "workflow.add_node(\"Researcher\", research_node)\n",
    "workflow.add_node(\"chart_generator\", chart_node)\n",
    "workflow.add_node(\"call_tool\", tool_node)\n",
    "\n",
    "workflow.add_conditional_edges(\n",
    "    \"Researcher\",\n",
    "    router,\n",
    "    {\"continue\": \"chart_generator\", \"call_tool\": \"call_tool\", \"__end__\": END},\n",
    ")\n",
    "workflow.add_conditional_edges(\n",
    "    \"chart_generator\",\n",
    "    router,\n",
    "    {\"continue\": \"Researcher\", \"call_tool\": \"call_tool\", \"__end__\": END},\n",
    ")\n",
    "\n",
    "workflow.add_conditional_edges(\n",
    "    \"call_tool\",\n",
    "    # Each agent node updates the 'sender' field\n",
    "    # the tool calling node does not, meaning\n",
    "    # this edge will route back to the original agent\n",
    "    # who invoked the tool\n",
    "    lambda x: x[\"sender\"],\n",
    "    {\n",
    "        \"Researcher\": \"Researcher\",\n",
    "        \"chart_generator\": \"chart_generator\",\n",
    "    },\n",
    ")\n",
    "workflow.add_edge(START, \"Researcher\")\n",
    "graph = workflow.compile()"
   ]
  },
  {
   "cell_type": "code",
   "execution_count": 10,
   "id": "97f8e0eb",
   "metadata": {},
   "outputs": [
    {
     "data": {
      "image/jpeg": "[encoded data removed]",
      "text/plain": [
       "<IPython.core.display.Image object>"
      ]
     },
     "metadata": {},
     "output_type": "display_data"
    }
   ],
   "source": [
    "from IPython.display import Image, display\n",
    "\n",
    "try:\n",
    "    display(Image(graph.get_graph(xray=True).draw_mermaid_png()))\n",
    "except Exception:\n",
    "    # This requires some extra dependencies and is optional\n",
    "    pass"
   ]
  },
  {
   "cell_type": "markdown",
   "id": "8c9447e7-9ab6-43eb-8ae6-9b52f8ba8425",
   "metadata": {},
   "source": [
    "# 4. 运行\n",
    "\n",
    "接下来我们就可以运行了"
   ]
  },
  {
   "cell_type": "code",
   "execution_count": 11,
   "id": "176a99b0-b457-45cf-8901-90facaa852da",
   "metadata": {},
   "outputs": [
    {
     "name": "stdout",
     "output_type": "stream",
     "text": [
      "{'Researcher': {'messages': [AIMessage(content='', additional_kwargs={'function_call': {'arguments': '{\"query\": \"US GDP between 2010 and 2020\"}', 'name': 'duckduckgo_search'}, 'tool_calls': [{'id': 'duckduckgo_search', 'function': {'arguments': '{\"query\": \"US GDP between 2010 and 2020\"}', 'name': 'duckduckgo_search'}, 'type': 'function'}], 'refusal': None}, response_metadata={'token_usage': {'completion_tokens': 30, 'prompt_tokens': 236, 'total_tokens': 266}, 'model_name': 'ERNIE-Functions-8K', 'system_fingerprint': 'fp_?', 'finish_reason': 'tool_calls', 'logprobs': None}, name='Researcher', id='run-54cfe4a0-3104-4656-899e-3d750d026c10-0', tool_calls=[{'name': 'duckduckgo_search', 'args': {'query': 'US GDP between 2010 and 2020'}, 'id': 'duckduckgo_search', 'type': 'tool_call'}], usage_metadata={'input_tokens': 236, 'output_tokens': 30, 'total_tokens': 266})], 'sender': 'Researcher'}}\n",
      "----\n",
      "{'call_tool': {'messages': [ToolMessage(content='{\\n  \"GDP_USA_2010_2020\": {\\n    \"2010\": 14964.4,\\n    \"2011\": 15518.9,\\n    \"2012\": 16197.0,\\n    \"2013\": 16784.9,\\n    \"2014\": 17527.3,\\n    \"2015\": 18224.8,\\n    \"2016\": 18745.1,\\n    \"2017\": 19519.4,\\n    \"2018\": 20611.9,\\n    \"2019\": 21433.2,\\n    \"2020\": 20936.6\\n  }\\n}', name='duckduckgo_search', tool_call_id='duckduckgo_search')]}}\n",
      "----\n",
      "{'Researcher': {'messages': [AIMessage(content='I have found the GDP of the US between 2010 and 2020. Here are the values:\\n\\n- 2010: $14,964.4 billion\\n- 2011: $15,518.9 billion\\n- 2012: $16,197.0 billion\\n- 2013: $16,784.9 billion\\n- 2014: $17,527.3 billion\\n- 2015: $18,224.8 billion\\n- 2016: $18,745.1 billion\\n- 2017: $19,519.4 billion\\n- 2018: $20,611.9 billion\\n- 2019: $21,433.2 billion\\n- 2020: $20,936.6 billion\\n\\nNow, I will draw a line graph of these values.', additional_kwargs={'refusal': None}, response_metadata={'token_usage': {'completion_tokens': 239, 'prompt_tokens': 483, 'total_tokens': 722}, 'model_name': 'ERNIE-Functions-8K', 'system_fingerprint': 'fp_?', 'finish_reason': 'normal', 'logprobs': None}, name='Researcher', id='run-247e853f-9adf-47f5-9613-b8b039f19a56-0', usage_metadata={'input_tokens': 483, 'output_tokens': 239, 'total_tokens': 722})], 'sender': 'Researcher'}}\n",
      "----\n"
     ]
    },
    {
     "name": "stderr",
     "output_type": "stream",
     "text": [
      "Python REPL can execute arbitrary code. Use with caution.\n"
     ]
    },
    {
     "name": "stdout",
     "output_type": "stream",
     "text": [
      "{'chart_generator': {'messages': [AIMessage(content='', name='chart_generator', tool_calls=[{'name': 'python_repl', 'args': {'code': \"\\nimport matplotlib.pyplot as plt\\n\\n# GDP data for the US from 2010 to 2020 (in billions of USD)\\nyears = list(range(2010, 2021))\\ngdp_values = [14964.4, 15518.9, 16197.0, 16784.9, 17527.3, 18224.8, 18745.1, 19519.4, 20611.9, 21433.2, 20936.6]\\n\\n# Create a line graph\\nplt.plot(years, gdp_values, marker='o')\\n\\n# Add titles and labels\\nplt.title('US GDP from 2010 to 2020')\\nplt.xlabel('Year')\\nplt.ylabel('GDP (in billions of USD)')\\nplt.grid(True)\\nplt.show()\\n\"}, 'id': 'python_repl', 'type': 'tool_call'}])], 'sender': 'chart_generator'}}\n",
      "----\n"
     ]
    },
    {
     "data": {
      "image/png": "[encoded data removed]",
      "text/plain": [
       "<Figure size 640x480 with 1 Axes>"
      ]
     },
     "metadata": {},
     "output_type": "display_data"
    },
    {
     "name": "stdout",
     "output_type": "stream",
     "text": [
      "{'call_tool': {'messages': [ToolMessage(content=\"Successfully executed:\\n```python\\n\\nimport matplotlib.pyplot as plt\\n\\n# GDP data for the US from 2010 to 2020 (in billions of USD)\\nyears = list(range(2010, 2021))\\ngdp_values = [14964.4, 15518.9, 16197.0, 16784.9, 17527.3, 18224.8, 18745.1, 19519.4, 20611.9, 21433.2, 20936.6]\\n\\n# Create a line graph\\nplt.plot(years, gdp_values, marker='o')\\n\\n# Add titles and labels\\nplt.title('US GDP from 2010 to 2020')\\nplt.xlabel('Year')\\nplt.ylabel('GDP (in billions of USD)')\\nplt.grid(True)\\nplt.show()\\n\\n```\\nStdout: \\n\\nIf you have completed all tasks, respond with FINAL ANSWER.\", name='python_repl', tool_call_id='python_repl')]}}\n",
      "----\n",
      "{'chart_generator': {'messages': [AIMessage(content='I have created a line graph showing the US GDP from 2010 to 2020. The graph displays the trend of the GDP over this period, clearly indicating the changes from year to year. If you would like to see the graph, please let me know and I can provide it to you.\\n\\nFINAL ANSWER.', additional_kwargs={'refusal': None}, response_metadata={'token_usage': {'completion_tokens': 71, 'prompt_tokens': 855, 'total_tokens': 926}, 'model_name': 'ERNIE-4.0-8K', 'system_fingerprint': 'fp_?', 'finish_reason': 'normal', 'logprobs': None}, name='chart_generator', id='run-f493f77c-8228-4359-a12f-c39daa6fbe42-0', usage_metadata={'input_tokens': 855, 'output_tokens': 71, 'total_tokens': 926})], 'sender': 'chart_generator'}}\n",
      "----\n"
     ]
    }
   ],
   "source": [
    "events = graph.stream(\n",
    "    {\n",
    "        \"messages\": [\n",
    "            HumanMessage(\n",
    "                content=\"Fetch the US's GDP between 2010 and 2020,\"\n",
    "                \" then draw a line graph of it.\"\n",
    "                \" Once you code it up, finish.\"\n",
    "            )\n",
    "        ],\n",
    "    },\n",
    "    # Maximum number of steps to take in the graph\n",
    "    {\"recursion_limit\": 150},\n",
    ")\n",
    "for s in events:\n",
    "    print(s)\n",
    "    print(\"----\")"
   ]
  }
 ],
 "metadata": {
  "kernelspec": {
   "display_name": "Python 3 (ipykernel)",
   "language": "python",
   "name": "python3"
  },
  "language_info": {
   "codemirror_mode": {
    "name": "ipython",
    "version": 3
   },
   "file_extension": ".py",
   "mimetype": "text/x-python",
   "name": "python",
   "nbconvert_exporter": "python",
   "pygments_lexer": "ipython3",
   "version": "3.10.13"
  }
 },
 "nbformat": 4,
 "nbformat_minor": 5
}
