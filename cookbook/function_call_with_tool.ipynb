{
 "cells": [
  {
   "cell_type": "markdown",
   "source": [
    "# 千帆function_call工具调用\n",
    "\n",
    "## 简介\n",
    "\n",
    "上一节[千帆function_call入门](./agents/langchain_agent_with_qianfan_llm.ipynb)展示了实现chat调用函数的功能，本节将介绍如何让chat与千帆工具进行交互，并编写更便利的调用函数。\n",
    "\n",
    "## 准备\n",
    "\n",
    "本文使用的模块如下：\n",
    "- 千帆 Python SDK中的 chat_completion 模块，该模块提供了与千帆对话引擎的交互接口；\n",
    "- 千帆 tool中的duckduckgo_search_tool，该工具提供了网络搜索功能。"
   ],
   "metadata": {
    "collapsed": false
   },
   "id": "a2ef73d1b5366c1d"
  },
  {
   "cell_type": "markdown",
   "source": [
    "首先安装千帆 Python SDK，版本号 >= 0.2.6。"
   ],
   "metadata": {
    "collapsed": false
   },
   "id": "f37417f96d78b87e"
  },
  {
   "cell_type": "code",
   "outputs": [],
   "source": [
    "%%capture\n",
    "!pip install \"qianfan>=0.2.6\" -U"
   ],
   "metadata": {
    "collapsed": false,
    "ExecuteTime": {
     "end_time": "2024-01-12T03:15:28.702403Z",
     "start_time": "2024-01-12T03:15:26.169060Z"
    }
   },
   "id": "5779c8b36b65d730",
   "execution_count": 252
  },
  {
   "cell_type": "markdown",
   "source": [
    "初始化我们所需要的凭证"
   ],
   "metadata": {
    "collapsed": false
   },
   "id": "9e26bd0785ed4ddb"
  },
  {
   "cell_type": "code",
   "outputs": [],
   "source": [
    "# 初始化LLM\n",
    "import os\n",
    "\n",
    "# qianfan sdk 鉴权\n",
    "os.environ[\"QIANFAN_AK\"] = \"your_ak\"\n",
    "os.environ[\"QIANFAN_SK\"] = \"your_sk\""
   ],
   "metadata": {
    "collapsed": true,
    "ExecuteTime": {
     "end_time": "2024-01-12T03:15:28.708058Z",
     "start_time": "2024-01-12T03:15:28.703429Z"
    }
   },
   "id": "initial_id",
   "execution_count": 253
  },
  {
   "cell_type": "markdown",
   "source": [
    "自定义函数库，此处调用qianfan.common.tool中的duckduckgo搜索引擎工具进行搜索，编写today函数查询今天日期。\n",
    "同时，编写warp_json装饰器，将函数返回值转化为json格式；编写word_count函数防止返回值超过字数限制。"
   ],
   "metadata": {
    "collapsed": false
   },
   "id": "164bd2b4bea750b3"
  },
  {
   "cell_type": "code",
   "outputs": [],
   "source": [
    "from qianfan.common.tool import duckduckgo_search_tool\n",
    "from datetime import date\n",
    "import json\n",
    "\n",
    "search_engine = None\n",
    "def warp_json(func):\n",
    "    def wrapper(*args, **kwargs):\n",
    "        return json.dumps({\n",
    "            \"return\":func(*args, **kwargs)\n",
    "        },\n",
    "            ensure_ascii=False\n",
    "        )\n",
    "    return wrapper\n",
    "\n",
    "def word_count(text: dict[str,str]) -> int:\n",
    "    count=0\n",
    "    for key, value in text.items():\n",
    "        count += len(value)\n",
    "    return count\n",
    "\n",
    "@warp_json\n",
    "def search(search_query: str) -> str:\n",
    "    global search_engine\n",
    "    if search_engine is None:\n",
    "        search_engine = duckduckgo_search_tool.DuckDuckGoSearchTool()\n",
    "    search_result = search_engine.run({\"search_query\":search_query})\n",
    "    return_result = []\n",
    "    count = 0\n",
    "    for i, result_count in enumerate(map(word_count, search_result)):\n",
    "        if count + result_count > 3000:\n",
    "            break\n",
    "        count += result_count\n",
    "        return_result.append(search_result[i])\n",
    "    # return json.dumps({\"return\":return_result}, ensure_ascii=False)\n",
    "    return return_result\n",
    "\n",
    "@warp_json\n",
    "def today()->str:\n",
    "    current_date = date.today().strftime(\"%Y-%m-%d\")\n",
    "    # return json.dumps({\"return\":current_date})\n",
    "    return current_date\n",
    "    "
   ],
   "metadata": {
    "collapsed": false,
    "ExecuteTime": {
     "end_time": "2024-01-12T03:15:28.717363Z",
     "start_time": "2024-01-12T03:15:28.713500Z"
    }
   },
   "id": "9af388291ce5434b",
   "execution_count": 254
  },
  {
   "cell_type": "markdown",
   "source": [
    "描述函数调用策略\n",
    "其中，name为函数名称，description为函数描述，properties为入参schema，required为必填参数\n",
    "properties支持json schema格式，具体参考[json schema](https://json-schema.org/learn/getting-started-step-by-step.html\n"
   ],
   "metadata": {
    "collapsed": false
   },
   "id": "598094c5ec2b987c"
  },
  {
   "cell_type": "code",
   "outputs": [],
   "source": [
    "funcs = [{\n",
    "    \"name\": \"search\",  # 函数名称\n",
    "    \"description\": \"在网络上搜索信息，返回一个列表，列表元素为字典，字典有两个字段，分别为title：标题，content：搜索内容，有时会有第三个字段url：搜索指向的网页url。如果有url字段，请以超链接返回\",  # 函数描述\n",
    "    \"parameters\":{\n",
    "        \"type\":\"object\",\n",
    "        \"properties\":{  # 参数schema，如果参数为空，为空字典即可\n",
    "            \"search_query\":{  # 参数名称\n",
    "                \"type\":\"string\",  # 参数类型\n",
    "                \"description\": \"搜索内容\"  # 参数描述\n",
    "            }\n",
    "        },\n",
    "        \"required\":[\"search_query\"]  # 必填参数（无默认值）\n",
    "    }\n",
    "},{\n",
    "    \"name\": \"today\",\n",
    "    \"description\": \"获取今天的日期，格式为YYYY-MM-DD\",\n",
    "    \"parameters\":{\n",
    "        \"type\":\"object\",\n",
    "        \"properties\":{},\n",
    "        \"required\":[]\n",
    "    }\n",
    "}]"
   ],
   "metadata": {
    "collapsed": false,
    "ExecuteTime": {
     "end_time": "2024-01-12T03:15:28.723311Z",
     "start_time": "2024-01-12T03:15:28.719529Z"
    }
   },
   "id": "2368ebd68c4ff812",
   "execution_count": 255
  },
  {
   "cell_type": "markdown",
   "source": [
    "定义函数名映射，方便function_call调用"
   ],
   "metadata": {
    "collapsed": false
   },
   "id": "855e2d5625f87733"
  },
  {
   "cell_type": "code",
   "outputs": [],
   "source": [
    "func_name_map = {\n",
    "    \"search\":search,\n",
    "    \"today\":today\n",
    "}"
   ],
   "metadata": {
    "collapsed": false,
    "ExecuteTime": {
     "end_time": "2024-01-12T03:15:28.729478Z",
     "start_time": "2024-01-12T03:15:28.722980Z"
    }
   },
   "id": "c9c8786007e577de",
   "execution_count": 256
  },
  {
   "cell_type": "markdown",
   "source": [
    "将对话过程封装成函数，方便多轮对话调用"
   ],
   "metadata": {
    "collapsed": false
   },
   "id": "42435501fc3cf5af"
  },
  {
   "cell_type": "code",
   "outputs": [],
   "source": [
    "import qianfan\n",
    "\n",
    "def chat(chat_completion, messages, functions, function_map):\n",
    "    resp = chat_completion.do(\n",
    "        messages=messages,\n",
    "        functions = functions\n",
    "    )\n",
    "    \n",
    "    if resp.get(\"function_call\"):\n",
    "        print(\"**call function**\")\n",
    "        \n",
    "        func_call = resp[\"function_call\"]\n",
    "        func_name = func_call[\"name\"]\n",
    "        arguments = json.loads(func_call[\"arguments\"])\n",
    "        func_content = function_map[func_name](**arguments)\n",
    "        \n",
    "        messages.append(resp, role=\"assistant\")\n",
    "        messages.append(func_content, role=\"function\")\n",
    "        \n",
    "        second_resp = chat_completion.do(\n",
    "            messages=messages,\n",
    "            functions=functions\n",
    "        )\n",
    "        resp_content = second_resp[\"result\"]\n",
    "    else:\n",
    "        print(\"**No function**\")\n",
    "        resp_content = resp[\"result\"]\n",
    "    print(resp_content)\n",
    "    msgs.append(resp_content, role=\"assistant\")"
   ],
   "metadata": {
    "collapsed": false,
    "ExecuteTime": {
     "end_time": "2024-01-12T03:15:28.729666Z",
     "start_time": "2024-01-12T03:15:28.727544Z"
    }
   },
   "id": "80a90a0b3061bb21",
   "execution_count": 257
  },
  {
   "cell_type": "markdown",
   "source": [
    "开始对话，首先获取今天的日期。"
   ],
   "metadata": {
    "collapsed": false
   },
   "id": "ffb8bb5806b68b85"
  },
  {
   "cell_type": "code",
   "outputs": [
    {
     "name": "stdout",
     "output_type": "stream",
     "text": [
      "**call function**\n",
      "今天是2024年1月12日。如果您还有其他问题或需要更多信息，请随时告诉我。\n"
     ]
    }
   ],
   "source": [
    "chat_comp = qianfan.ChatCompletion(model=\"ERNIE-Bot-4\")\n",
    "query = \"今天几号？\"\n",
    "msgs = qianfan.Messages()\n",
    "msgs.append(query,role=\"user\")\n",
    "chat(chat_comp, msgs,funcs, func_name_map)"
   ],
   "metadata": {
    "collapsed": false,
    "ExecuteTime": {
     "end_time": "2024-01-12T03:16:18.059680Z",
     "start_time": "2024-01-12T03:16:13.146382Z"
    }
   },
   "id": "852cc39d790cb26d",
   "execution_count": 259
  },
  {
   "cell_type": "markdown",
   "source": [
    "接下来进行多轮对话，用日期信息来查询新闻。"
   ],
   "metadata": {
    "collapsed": false
   },
   "id": "395f9bbe0c5f4f18"
  },
  {
   "cell_type": "code",
   "outputs": [
    {
     "name": "stdout",
     "output_type": "stream",
     "text": [
      "**call function**\n",
      "根据您的要求，以下是2024年1月12日的部分新闻列表：\n",
      "\n",
      "1. 标题：China's consumer prices stuck in decline, factory-gate deflation ...\n",
      "摘要：1月12日，路透社报道，中国的消费者价格在12月份连续第三个月下降，而工厂出厂价格也下降，凸显了经济放缓的压力。\n",
      "2. 标题：从数字看发展 | 新一轮财税改革目标重点在哪？\n",
      "摘要：第一财经报道，中央提出谋划新一轮财税体制改革后，财税改革再次受到关注。本文将从数字角度解读新一轮财税改革的目标和重点。\n",
      "3. 标题：春运首日火车票今日开抢 规则有变!\n",
      "摘要：中国新闻网报道，2024年春运自1月26日开始至3月5日结束，共计40天。春运首日（1月26日）的火车票将于1月12日开售。今年的候补购票功能、车票改签范围均有所调整。同时，铁路12306手机客户端推出了购票需求预填和火车票起售提醒订阅两项新功能，旅客购票将更加方便快捷。\n",
      "\n",
      "以上是部分新闻的标题、摘要和日期。如果您需要查看更多新闻，请随时告诉我。\n"
     ]
    }
   ],
   "source": [
    "query = \"那么根据刚才的日期，今天有什么新闻么？请列举出标题、摘要并标注日期\"\n",
    "msgs.append(query,role=\"user\")\n",
    "chat(chat_comp, msgs,funcs, func_name_map)"
   ],
   "metadata": {
    "collapsed": false,
    "ExecuteTime": {
     "end_time": "2024-01-12T03:16:41.471199Z",
     "start_time": "2024-01-12T03:16:19.010572Z"
    }
   },
   "id": "d924afd4dec1db44",
   "execution_count": 260
  },
  {
   "cell_type": "code",
   "outputs": [
    {
     "name": "stdout",
     "output_type": "stream",
     "text": [
      "**call function**\n",
      "除了之前提到的新闻，还有一些其他国际新闻，包括“欧洲整合之父”、欧盟委员会前主席雅克·德洛尔去世、美国之音中文网的即时新闻报道以及纽约时报中文网的国际纵览等。这些新闻涵盖了国际政治、文化、娱乐等多个方面。如果您需要查看更多新闻，请随时告诉我。\n"
     ]
    }
   ],
   "source": [
    "query = \"还有哪些新闻？\"\n",
    "msgs.append(query,role=\"user\")\n",
    "chat(chat_comp, msgs,funcs, func_name_map)"
   ],
   "metadata": {
    "collapsed": false,
    "ExecuteTime": {
     "end_time": "2024-01-12T03:17:29.297135Z",
     "start_time": "2024-01-12T03:17:18.957638Z"
    }
   },
   "id": "bc51c29d5bcbb9be",
   "execution_count": 262
  },
  {
   "cell_type": "code",
   "outputs": [
    {
     "name": "stdout",
     "output_type": "stream",
     "text": [
      "**call function**\n",
      "根据您提供的新闻，这些新闻涉及了多个主题，包括国内、国际、经济、社会、法治、文娱、科技、生活、军事等各个领域。具体来说，这些新闻涵盖了政治、经济、文化、娱乐、科技等多个方面，其中涉及的主题包括中国经济、财税改革、春运、外交关系、天气、科技等。此外，还有一些新闻涉及国际政治、文化、娱乐等多个方面，包括“欧洲整合之父”、欧盟委员会前主席雅克·德洛尔去世、美国之音中文网的即时新闻报道以及纽约时报中文网的国际纵览等。这些新闻主题多样，内容丰富，可以让读者了解到各个领域的最新动态和趋势。\n"
     ]
    }
   ],
   "source": [
    "query = \"总结一下，这些新闻涉及了哪些主题？\"\n",
    "msgs.append(query,role=\"user\")\n",
    "chat(chat_comp, msgs,funcs, func_name_map)"
   ],
   "metadata": {
    "collapsed": false,
    "ExecuteTime": {
     "end_time": "2024-01-12T03:18:51.282365Z",
     "start_time": "2024-01-12T03:18:35.131729Z"
    }
   },
   "id": "478cde0bb7e87272",
   "execution_count": 264
  }
 ],
 "metadata": {
  "kernelspec": {
   "display_name": "Python 3",
   "language": "python",
   "name": "python3"
  },
  "language_info": {
   "codemirror_mode": {
    "name": "ipython",
    "version": 2
   },
   "file_extension": ".py",
   "mimetype": "text/x-python",
   "name": "python",
   "nbconvert_exporter": "python",
   "pygments_lexer": "ipython2",
   "version": "2.7.6"
  }
 },
 "nbformat": 4,
 "nbformat_minor": 5
}
