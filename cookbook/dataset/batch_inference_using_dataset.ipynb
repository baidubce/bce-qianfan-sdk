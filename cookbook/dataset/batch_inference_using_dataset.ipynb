{
 "cells": [
  {
   "cell_type": "markdown",
   "metadata": {},
   "source": [
    "# 如何使用千帆 Python SDK 搭配预置大模型服务进行批量推理\n",
    "\n",
    "在 0.2.5 版本中，千帆 Python SDK 增加了对批量推理的支持，使用该功能需要视情况开通千帆的模型服务，确保您的账号可以调用您想进行批量推理的服务。\n",
    "\n",
    "# 准备工作\n",
    "\n",
    "在开始之前，请确保你的千帆 Python SDK 已经升级到了 0.2.5 及以上版本。"
   ]
  },
  {
   "cell_type": "code",
   "execution_count": null,
   "metadata": {
    "vscode": {
     "languageId": "shellscript"
    }
   },
   "outputs": [],
   "source": [
    "pip install -U \"qianfan>=0.2.5\""
   ]
  },
  {
   "cell_type": "markdown",
   "metadata": {},
   "source": [
    "并且在环境变量中设置好 Access Key 与 Secret Key"
   ]
  },
  {
   "cell_type": "code",
   "execution_count": 1,
   "metadata": {},
   "outputs": [],
   "source": [
    "import logging\n",
    "import os\n",
    "\n",
    "from qianfan.utils import enable_log\n",
    "\n",
    "os.environ['QIANFAN_ACCESS_KEY'] = 'your_access_key'\n",
    "os.environ['QIANFAN_SECRET_KEY'] = 'your_secret_key'\n",
    "os.environ[\"QIANFAN_QPS_LIMIT\"] = \"5\"\n",
    "os.environ['QIANFAN_LLM_API_RETRY_COUNT'] = \"3\"\n",
    "\n",
    "# 选择打印出来的日志等级，目前打印出 info 级别\n",
    "enable_log(logging.INFO)"
   ]
  },
  {
   "cell_type": "markdown",
   "metadata": {},
   "source": [
    "# 正文\n",
    "\n",
    "为了开始批量推理，我们首先需要获取到用于做批量推理输入的数据集文件，并且指定用做推理输入的列名"
   ]
  },
  {
   "cell_type": "code",
   "execution_count": 2,
   "metadata": {},
   "outputs": [
    {
     "name": "stderr",
     "output_type": "stream",
     "text": [
      "[INFO] [12-26 14:34:27] dataset.py:451 [t:8120441664]: no data source was provided, construct\n",
      "[INFO] [12-26 14:34:27] dataset.py:329 [t:8120441664]: construct a file data source from path: data_file/qa_pair.csv, with args: {'input_columns': ['prompt']}\n",
      "[INFO] [12-26 14:34:27] data_source.py:266 [t:8120441664]: use format type FormatType.Csv\n",
      "[INFO] [12-26 14:34:27] dataset.py:973 [t:8120441664]: list local dataset data by 0\n"
     ]
    },
    {
     "name": "stdout",
     "output_type": "stream",
     "text": [
      "{'prompt': '地球的自转周期是多久？', 'response': '大约24小时'}\n"
     ]
    }
   ],
   "source": [
    "from qianfan.dataset import Dataset\n",
    "\n",
    "dataset_file_path = \"data_file/qa_pair.csv\"\n",
    "dataset_input_column_list = [\"prompt\"]\n",
    "\n",
    "ds = Dataset.load(data_file=dataset_file_path, input_columns=dataset_input_column_list)\n",
    "\n",
    "# 如果用户需要使用对话类数据集进行批量推理，还需要指定应用列\n",
    "# reference_column = \"column3\"\n",
    "# ds = Dataset.load(data_file=dataset_file_path, input_columns=dataset_input_column_list, reference_column=reference_column)\n",
    "\n",
    "# 预览数据格式\n",
    "print(ds.list(0))"
   ]
  },
  {
   "cell_type": "markdown",
   "metadata": {},
   "source": [
    "在导入之后，用户可以根据自己的需求，传入不同的参数来使用不同的方式进行推理"
   ]
  },
  {
   "cell_type": "code",
   "execution_count": 3,
   "metadata": {},
   "outputs": [],
   "source": [
    "# 用户可以设置 service_model 为自己想要的模型名，来直接对数据进行批量推理，以 EB 4 为例\n",
    "result = ds.test_using_llm(service_model=\"ERNIE-Bot-4\")\n",
    "\n",
    "# 用户还可以设置 service_endpoint 来使用预置或自己的服务。\n",
    "result = ds.test_using_llm(service_endpoint=\"/chat/completions_pro\")\n",
    "\n",
    "# 如果是使用对话类数据集进行批量推理，需要设置 is_chat_service=True\n",
    "result = ds.test_using_llm(service_model=\"ERNIE-Bot-4\", is_chat_service=True)"
   ]
  },
  {
   "cell_type": "markdown",
   "metadata": {},
   "source": [
    "如果用户有异步请求的需求，还可以使用 `atest_using_llm` 来进行异步批量推理"
   ]
  },
  {
   "cell_type": "code",
   "execution_count": 3,
   "metadata": {},
   "outputs": [
    {
     "name": "stdout",
     "output_type": "stream",
     "text": [
      "Requirement already satisfied: nest_asyncio in /Users/pengyiyang/miniconda3/envs/bce-qianfan-sdk/lib/python3.10/site-packages (1.5.8)\n"
     ]
    },
    {
     "name": "stderr",
     "output_type": "stream",
     "text": [
      "[INFO] [12-26 14:34:33] openapi_requestor.py:165 [t:8120441664]: async requesting llm api endpoint: /chat/eb-instant\n",
      "[INFO] [12-26 14:34:33] openapi_requestor.py:165 [t:8120441664]: async requesting llm api endpoint: /chat/eb-instant\n",
      "[INFO] [12-26 14:34:33] openapi_requestor.py:165 [t:8120441664]: async requesting llm api endpoint: /chat/eb-instant\n",
      "[INFO] [12-26 14:34:33] openapi_requestor.py:165 [t:8120441664]: async requesting llm api endpoint: /chat/eb-instant\n",
      "[INFO] [12-26 14:34:33] openapi_requestor.py:165 [t:8120441664]: async requesting llm api endpoint: /chat/eb-instant\n",
      "[INFO] [12-26 14:34:33] openapi_requestor.py:165 [t:8120441664]: async requesting llm api endpoint: /chat/eb-instant\n",
      "[INFO] [12-26 14:34:33] openapi_requestor.py:165 [t:8120441664]: async requesting llm api endpoint: /chat/eb-instant\n",
      "[INFO] [12-26 14:34:33] openapi_requestor.py:165 [t:8120441664]: async requesting llm api endpoint: /chat/eb-instant\n",
      "[INFO] [12-26 14:34:33] openapi_requestor.py:165 [t:8120441664]: async requesting llm api endpoint: /chat/eb-instant\n",
      "[INFO] [12-26 14:34:33] openapi_requestor.py:165 [t:8120441664]: async requesting llm api endpoint: /chat/eb-instant\n",
      "[INFO] [12-26 14:34:33] openapi_requestor.py:165 [t:8120441664]: async requesting llm api endpoint: /chat/eb-instant\n",
      "[INFO] [12-26 14:34:33] openapi_requestor.py:165 [t:8120441664]: async requesting llm api endpoint: /chat/eb-instant\n",
      "[INFO] [12-26 14:34:33] openapi_requestor.py:165 [t:8120441664]: async requesting llm api endpoint: /chat/eb-instant\n",
      "[INFO] [12-26 14:34:33] openapi_requestor.py:165 [t:8120441664]: async requesting llm api endpoint: /chat/eb-instant\n",
      "[INFO] [12-26 14:34:33] openapi_requestor.py:165 [t:8120441664]: async requesting llm api endpoint: /chat/eb-instant\n",
      "[INFO] [12-26 14:34:33] openapi_requestor.py:165 [t:8120441664]: async requesting llm api endpoint: /chat/eb-instant\n",
      "[INFO] [12-26 14:34:33] openapi_requestor.py:165 [t:8120441664]: async requesting llm api endpoint: /chat/eb-instant\n",
      "[INFO] [12-26 14:34:33] openapi_requestor.py:165 [t:8120441664]: async requesting llm api endpoint: /chat/eb-instant\n",
      "[INFO] [12-26 14:34:33] openapi_requestor.py:165 [t:8120441664]: async requesting llm api endpoint: /chat/eb-instant\n",
      "[INFO] [12-26 14:34:33] openapi_requestor.py:165 [t:8120441664]: async requesting llm api endpoint: /chat/eb-instant\n",
      "[INFO] [12-26 14:34:33] openapi_requestor.py:165 [t:8120441664]: async requesting llm api endpoint: /chat/eb-instant\n",
      "[INFO] [12-26 14:34:33] openapi_requestor.py:165 [t:8120441664]: async requesting llm api endpoint: /chat/eb-instant\n",
      "[INFO] [12-26 14:34:33] openapi_requestor.py:165 [t:8120441664]: async requesting llm api endpoint: /chat/eb-instant\n",
      "[INFO] [12-26 14:34:33] openapi_requestor.py:165 [t:8120441664]: async requesting llm api endpoint: /chat/eb-instant\n",
      "[INFO] [12-26 14:34:33] openapi_requestor.py:165 [t:8120441664]: async requesting llm api endpoint: /chat/eb-instant\n",
      "[INFO] [12-26 14:34:33] openapi_requestor.py:165 [t:8120441664]: async requesting llm api endpoint: /chat/eb-instant\n",
      "[INFO] [12-26 14:34:33] openapi_requestor.py:165 [t:8120441664]: async requesting llm api endpoint: /chat/eb-instant\n",
      "[INFO] [12-26 14:34:33] openapi_requestor.py:165 [t:8120441664]: async requesting llm api endpoint: /chat/eb-instant\n"
     ]
    },
    {
     "name": "stdout",
     "output_type": "stream",
     "text": [
      "Note: you may need to restart the kernel to use updated packages.\n"
     ]
    },
    {
     "name": "stderr",
     "output_type": "stream",
     "text": [
      "[INFO] [12-26 14:34:33] openapi_requestor.py:165 [t:8120441664]: async requesting llm api endpoint: /chat/eb-instant\n",
      "[INFO] [12-26 14:34:33] openapi_requestor.py:165 [t:8120441664]: async requesting llm api endpoint: /chat/eb-instant\n",
      "[INFO] [12-26 14:34:33] openapi_requestor.py:165 [t:8120441664]: async requesting llm api endpoint: /chat/eb-instant\n",
      "[INFO] [12-26 14:34:33] openapi_requestor.py:165 [t:8120441664]: async requesting llm api endpoint: /chat/eb-instant\n",
      "[INFO] [12-26 14:34:33] openapi_requestor.py:165 [t:8120441664]: async requesting llm api endpoint: /chat/eb-instant\n",
      "[INFO] [12-26 14:34:33] openapi_requestor.py:165 [t:8120441664]: async requesting llm api endpoint: /chat/eb-instant\n",
      "[INFO] [12-26 14:34:33] openapi_requestor.py:165 [t:8120441664]: async requesting llm api endpoint: /chat/eb-instant\n",
      "[INFO] [12-26 14:34:33] openapi_requestor.py:165 [t:8120441664]: async requesting llm api endpoint: /chat/eb-instant\n",
      "[INFO] [12-26 14:34:33] openapi_requestor.py:165 [t:8120441664]: async requesting llm api endpoint: /chat/eb-instant\n",
      "[INFO] [12-26 14:34:33] openapi_requestor.py:165 [t:8120441664]: async requesting llm api endpoint: /chat/eb-instant\n",
      "[INFO] [12-26 14:34:33] openapi_requestor.py:165 [t:8120441664]: async requesting llm api endpoint: /chat/eb-instant\n",
      "[INFO] [12-26 14:34:33] openapi_requestor.py:165 [t:8120441664]: async requesting llm api endpoint: /chat/eb-instant\n",
      "[INFO] [12-26 14:34:33] openapi_requestor.py:165 [t:8120441664]: async requesting llm api endpoint: /chat/eb-instant\n",
      "[INFO] [12-26 14:34:33] openapi_requestor.py:165 [t:8120441664]: async requesting llm api endpoint: /chat/eb-instant\n",
      "[INFO] [12-26 14:34:33] openapi_requestor.py:165 [t:8120441664]: async requesting llm api endpoint: /chat/eb-instant\n",
      "[INFO] [12-26 14:34:33] openapi_requestor.py:165 [t:8120441664]: async requesting llm api endpoint: /chat/eb-instant\n",
      "[INFO] [12-26 14:34:33] openapi_requestor.py:165 [t:8120441664]: async requesting llm api endpoint: /chat/eb-instant\n",
      "[INFO] [12-26 14:34:33] openapi_requestor.py:165 [t:8120441664]: async requesting llm api endpoint: /chat/eb-instant\n",
      "[INFO] [12-26 14:34:33] openapi_requestor.py:165 [t:8120441664]: async requesting llm api endpoint: /chat/eb-instant\n",
      "[INFO] [12-26 14:34:33] openapi_requestor.py:165 [t:8120441664]: async requesting llm api endpoint: /chat/eb-instant\n",
      "[INFO] [12-26 14:34:33] openapi_requestor.py:165 [t:8120441664]: async requesting llm api endpoint: /chat/eb-instant\n",
      "[INFO] [12-26 14:34:33] openapi_requestor.py:165 [t:8120441664]: async requesting llm api endpoint: /chat/eb-instant\n",
      "[INFO] [12-26 14:34:33] openapi_requestor.py:165 [t:8120441664]: async requesting llm api endpoint: /chat/eb-instant\n",
      "[INFO] [12-26 14:34:33] openapi_requestor.py:165 [t:8120441664]: async requesting llm api endpoint: /chat/eb-instant\n",
      "[INFO] [12-26 14:34:33] openapi_requestor.py:165 [t:8120441664]: async requesting llm api endpoint: /chat/eb-instant\n",
      "[INFO] [12-26 14:34:33] openapi_requestor.py:165 [t:8120441664]: async requesting llm api endpoint: /chat/eb-instant\n",
      "[INFO] [12-26 14:34:33] openapi_requestor.py:165 [t:8120441664]: async requesting llm api endpoint: /chat/eb-instant\n",
      "[INFO] [12-26 14:34:33] openapi_requestor.py:165 [t:8120441664]: async requesting llm api endpoint: /chat/eb-instant\n",
      "[INFO] [12-26 14:34:33] openapi_requestor.py:165 [t:8120441664]: async requesting llm api endpoint: /chat/eb-instant\n",
      "[INFO] [12-26 14:34:33] openapi_requestor.py:165 [t:8120441664]: async requesting llm api endpoint: /chat/eb-instant\n",
      "[INFO] [12-26 14:34:33] openapi_requestor.py:165 [t:8120441664]: async requesting llm api endpoint: /chat/eb-instant\n",
      "[INFO] [12-26 14:34:33] openapi_requestor.py:165 [t:8120441664]: async requesting llm api endpoint: /chat/eb-instant\n",
      "[INFO] [12-26 14:34:33] openapi_requestor.py:165 [t:8120441664]: async requesting llm api endpoint: /chat/eb-instant\n",
      "[INFO] [12-26 14:34:33] openapi_requestor.py:165 [t:8120441664]: async requesting llm api endpoint: /chat/eb-instant\n",
      "[INFO] [12-26 14:34:33] openapi_requestor.py:165 [t:8120441664]: async requesting llm api endpoint: /chat/eb-instant\n",
      "[INFO] [12-26 14:34:33] openapi_requestor.py:165 [t:8120441664]: async requesting llm api endpoint: /chat/eb-instant\n",
      "[INFO] [12-26 14:34:33] openapi_requestor.py:165 [t:8120441664]: async requesting llm api endpoint: /chat/eb-instant\n",
      "[INFO] [12-26 14:34:33] openapi_requestor.py:165 [t:8120441664]: async requesting llm api endpoint: /chat/eb-instant\n",
      "[INFO] [12-26 14:34:33] openapi_requestor.py:165 [t:8120441664]: async requesting llm api endpoint: /chat/eb-instant\n",
      "[INFO] [12-26 14:34:33] openapi_requestor.py:165 [t:8120441664]: async requesting llm api endpoint: /chat/eb-instant\n",
      "[INFO] [12-26 14:34:33] openapi_requestor.py:165 [t:8120441664]: async requesting llm api endpoint: /chat/eb-instant\n",
      "[INFO] [12-26 14:34:33] openapi_requestor.py:165 [t:8120441664]: async requesting llm api endpoint: /chat/eb-instant\n",
      "[INFO] [12-26 14:34:33] openapi_requestor.py:165 [t:8120441664]: async requesting llm api endpoint: /chat/eb-instant\n",
      "[INFO] [12-26 14:34:33] openapi_requestor.py:165 [t:8120441664]: async requesting llm api endpoint: /chat/eb-instant\n",
      "[INFO] [12-26 14:34:33] openapi_requestor.py:165 [t:8120441664]: async requesting llm api endpoint: /chat/eb-instant\n",
      "[INFO] [12-26 14:34:33] openapi_requestor.py:165 [t:8120441664]: async requesting llm api endpoint: /chat/eb-instant\n",
      "[INFO] [12-26 14:34:33] openapi_requestor.py:165 [t:8120441664]: async requesting llm api endpoint: /chat/eb-instant\n",
      "[INFO] [12-26 14:34:33] openapi_requestor.py:165 [t:8120441664]: async requesting llm api endpoint: /chat/eb-instant\n",
      "[INFO] [12-26 14:34:33] openapi_requestor.py:165 [t:8120441664]: async requesting llm api endpoint: /chat/eb-instant\n",
      "[INFO] [12-26 14:34:33] openapi_requestor.py:165 [t:8120441664]: async requesting llm api endpoint: /chat/eb-instant\n",
      "[INFO] [12-26 14:34:33] openapi_requestor.py:165 [t:8120441664]: async requesting llm api endpoint: /chat/eb-instant\n",
      "[INFO] [12-26 14:34:33] openapi_requestor.py:165 [t:8120441664]: async requesting llm api endpoint: /chat/eb-instant\n",
      "[INFO] [12-26 14:34:33] openapi_requestor.py:165 [t:8120441664]: async requesting llm api endpoint: /chat/eb-instant\n",
      "[INFO] [12-26 14:34:33] openapi_requestor.py:165 [t:8120441664]: async requesting llm api endpoint: /chat/eb-instant\n",
      "[INFO] [12-26 14:34:33] openapi_requestor.py:165 [t:8120441664]: async requesting llm api endpoint: /chat/eb-instant\n",
      "[INFO] [12-26 14:34:33] openapi_requestor.py:165 [t:8120441664]: async requesting llm api endpoint: /chat/eb-instant\n",
      "[INFO] [12-26 14:34:33] openapi_requestor.py:165 [t:8120441664]: async requesting llm api endpoint: /chat/eb-instant\n",
      "[INFO] [12-26 14:34:33] openapi_requestor.py:165 [t:8120441664]: async requesting llm api endpoint: /chat/eb-instant\n",
      "[INFO] [12-26 14:34:33] oauth.py:301 [t:8120441664]: no appid provided, using the latest one which id is 44352275\n",
      "[INFO] [12-26 14:34:33] oauth.py:230 [t:8120441664]: trying to refresh access_token for ak `BWMBe7***`\n",
      "[INFO] [12-26 14:34:33] oauth.py:301 [t:8120441664]: no appid provided, using the latest one which id is 44352275\n",
      "[INFO] [12-26 14:34:33] oauth.py:301 [t:8120441664]: no appid provided, using the latest one which id is 44352275\n",
      "[INFO] [12-26 14:34:33] oauth.py:301 [t:8120441664]: no appid provided, using the latest one which id is 44352275\n",
      "[INFO] [12-26 14:34:33] oauth.py:301 [t:8120441664]: no appid provided, using the latest one which id is 44352275\n",
      "[INFO] [12-26 14:34:33] oauth.py:301 [t:8120441664]: no appid provided, using the latest one which id is 44352275\n",
      "[INFO] [12-26 14:34:33] oauth.py:301 [t:8120441664]: no appid provided, using the latest one which id is 44352275\n",
      "[INFO] [12-26 14:34:33] oauth.py:301 [t:8120441664]: no appid provided, using the latest one which id is 44352275\n",
      "[INFO] [12-26 14:34:33] oauth.py:301 [t:8120441664]: no appid provided, using the latest one which id is 44352275\n",
      "[INFO] [12-26 14:34:33] oauth.py:301 [t:8120441664]: no appid provided, using the latest one which id is 44352275\n",
      "[INFO] [12-26 14:34:33] oauth.py:301 [t:8120441664]: no appid provided, using the latest one which id is 44352275\n",
      "[INFO] [12-26 14:34:33] oauth.py:301 [t:8120441664]: no appid provided, using the latest one which id is 44352275\n",
      "[INFO] [12-26 14:34:33] oauth.py:301 [t:8120441664]: no appid provided, using the latest one which id is 44352275\n",
      "[INFO] [12-26 14:34:33] oauth.py:301 [t:8120441664]: no appid provided, using the latest one which id is 44352275\n",
      "[INFO] [12-26 14:34:33] oauth.py:301 [t:8120441664]: no appid provided, using the latest one which id is 44352275\n",
      "[INFO] [12-26 14:34:33] oauth.py:301 [t:8120441664]: no appid provided, using the latest one which id is 44352275\n",
      "[INFO] [12-26 14:34:33] oauth.py:301 [t:8120441664]: no appid provided, using the latest one which id is 44352275\n",
      "[INFO] [12-26 14:34:33] oauth.py:301 [t:8120441664]: no appid provided, using the latest one which id is 44352275\n",
      "[INFO] [12-26 14:34:33] oauth.py:301 [t:8120441664]: no appid provided, using the latest one which id is 44352275\n",
      "[INFO] [12-26 14:34:33] oauth.py:301 [t:8120441664]: no appid provided, using the latest one which id is 44352275\n",
      "[INFO] [12-26 14:34:33] oauth.py:301 [t:8120441664]: no appid provided, using the latest one which id is 44352275\n",
      "[INFO] [12-26 14:34:33] oauth.py:301 [t:8120441664]: no appid provided, using the latest one which id is 44352275\n",
      "[INFO] [12-26 14:34:33] oauth.py:301 [t:8120441664]: no appid provided, using the latest one which id is 44352275\n",
      "[INFO] [12-26 14:34:33] oauth.py:301 [t:8120441664]: no appid provided, using the latest one which id is 44352275\n",
      "[INFO] [12-26 14:34:33] oauth.py:301 [t:8120441664]: no appid provided, using the latest one which id is 44352275\n",
      "[INFO] [12-26 14:34:33] oauth.py:301 [t:8120441664]: no appid provided, using the latest one which id is 44352275\n",
      "[INFO] [12-26 14:34:33] oauth.py:301 [t:8120441664]: no appid provided, using the latest one which id is 44352275\n",
      "[INFO] [12-26 14:34:33] oauth.py:301 [t:8120441664]: no appid provided, using the latest one which id is 44352275\n",
      "[INFO] [12-26 14:34:33] oauth.py:301 [t:8120441664]: no appid provided, using the latest one which id is 44352275\n",
      "[INFO] [12-26 14:34:33] oauth.py:301 [t:8120441664]: no appid provided, using the latest one which id is 44352275\n",
      "[INFO] [12-26 14:34:33] oauth.py:301 [t:8120441664]: no appid provided, using the latest one which id is 44352275\n",
      "[INFO] [12-26 14:34:33] oauth.py:301 [t:8120441664]: no appid provided, using the latest one which id is 44352275\n",
      "[INFO] [12-26 14:34:33] oauth.py:301 [t:8120441664]: no appid provided, using the latest one which id is 44352275\n",
      "[INFO] [12-26 14:34:33] oauth.py:301 [t:8120441664]: no appid provided, using the latest one which id is 44352275\n",
      "[INFO] [12-26 14:34:33] oauth.py:301 [t:8120441664]: no appid provided, using the latest one which id is 44352275\n",
      "[INFO] [12-26 14:34:33] oauth.py:301 [t:8120441664]: no appid provided, using the latest one which id is 44352275\n",
      "[INFO] [12-26 14:34:33] oauth.py:301 [t:8120441664]: no appid provided, using the latest one which id is 44352275\n",
      "[INFO] [12-26 14:34:33] oauth.py:301 [t:8120441664]: no appid provided, using the latest one which id is 44352275\n",
      "[INFO] [12-26 14:34:33] oauth.py:301 [t:8120441664]: no appid provided, using the latest one which id is 44352275\n",
      "[INFO] [12-26 14:34:33] oauth.py:301 [t:8120441664]: no appid provided, using the latest one which id is 44352275\n",
      "[INFO] [12-26 14:34:33] oauth.py:301 [t:8120441664]: no appid provided, using the latest one which id is 44352275\n",
      "[INFO] [12-26 14:34:33] oauth.py:301 [t:8120441664]: no appid provided, using the latest one which id is 44352275\n",
      "[INFO] [12-26 14:34:33] oauth.py:301 [t:8120441664]: no appid provided, using the latest one which id is 44352275\n",
      "[INFO] [12-26 14:34:33] oauth.py:301 [t:8120441664]: no appid provided, using the latest one which id is 44352275\n",
      "[INFO] [12-26 14:34:33] oauth.py:301 [t:8120441664]: no appid provided, using the latest one which id is 44352275\n",
      "[INFO] [12-26 14:34:33] oauth.py:301 [t:8120441664]: no appid provided, using the latest one which id is 44352275\n",
      "[INFO] [12-26 14:34:33] oauth.py:301 [t:8120441664]: no appid provided, using the latest one which id is 44352275\n",
      "[INFO] [12-26 14:34:33] oauth.py:301 [t:8120441664]: no appid provided, using the latest one which id is 44352275\n",
      "[INFO] [12-26 14:34:33] oauth.py:301 [t:8120441664]: no appid provided, using the latest one which id is 44352275\n",
      "[INFO] [12-26 14:34:33] oauth.py:301 [t:8120441664]: no appid provided, using the latest one which id is 44352275\n",
      "[INFO] [12-26 14:34:33] oauth.py:301 [t:8120441664]: no appid provided, using the latest one which id is 44352275\n",
      "[INFO] [12-26 14:34:33] oauth.py:301 [t:8120441664]: no appid provided, using the latest one which id is 44352275\n",
      "[INFO] [12-26 14:34:33] oauth.py:301 [t:8120441664]: no appid provided, using the latest one which id is 44352275\n",
      "[INFO] [12-26 14:34:33] oauth.py:301 [t:8120441664]: no appid provided, using the latest one which id is 44352275\n",
      "[INFO] [12-26 14:34:33] oauth.py:301 [t:8120441664]: no appid provided, using the latest one which id is 44352275\n",
      "[INFO] [12-26 14:34:33] oauth.py:301 [t:8120441664]: no appid provided, using the latest one which id is 44352275\n",
      "[INFO] [12-26 14:34:33] oauth.py:301 [t:8120441664]: no appid provided, using the latest one which id is 44352275\n",
      "[INFO] [12-26 14:34:33] oauth.py:301 [t:8120441664]: no appid provided, using the latest one which id is 44352275\n",
      "[INFO] [12-26 14:34:33] oauth.py:301 [t:8120441664]: no appid provided, using the latest one which id is 44352275\n",
      "[INFO] [12-26 14:34:33] oauth.py:301 [t:8120441664]: no appid provided, using the latest one which id is 44352275\n",
      "[INFO] [12-26 14:34:33] oauth.py:244 [t:8120441664]: sucessfully refresh access_token for ak `BWMBe7***`\n",
      "[INFO] [12-26 14:34:33] oauth.py:301 [t:8120441664]: no appid provided, using the latest one which id is 44352275\n",
      "[INFO] [12-26 14:34:33] oauth.py:301 [t:8120441664]: no appid provided, using the latest one which id is 44352275\n",
      "[INFO] [12-26 14:34:33] oauth.py:301 [t:8120441664]: no appid provided, using the latest one which id is 44352275\n",
      "[INFO] [12-26 14:34:33] oauth.py:301 [t:8120441664]: no appid provided, using the latest one which id is 44352275\n",
      "[INFO] [12-26 14:34:33] oauth.py:301 [t:8120441664]: no appid provided, using the latest one which id is 44352275\n",
      "[INFO] [12-26 14:34:33] oauth.py:301 [t:8120441664]: no appid provided, using the latest one which id is 44352275\n",
      "[INFO] [12-26 14:34:33] oauth.py:301 [t:8120441664]: no appid provided, using the latest one which id is 44352275\n",
      "[INFO] [12-26 14:34:33] oauth.py:301 [t:8120441664]: no appid provided, using the latest one which id is 44352275\n",
      "[INFO] [12-26 14:34:33] oauth.py:301 [t:8120441664]: no appid provided, using the latest one which id is 44352275\n",
      "[INFO] [12-26 14:34:33] oauth.py:301 [t:8120441664]: no appid provided, using the latest one which id is 44352275\n",
      "[INFO] [12-26 14:34:33] oauth.py:301 [t:8120441664]: no appid provided, using the latest one which id is 44352275\n",
      "[INFO] [12-26 14:34:33] oauth.py:301 [t:8120441664]: no appid provided, using the latest one which id is 44352275\n",
      "[INFO] [12-26 14:34:33] oauth.py:301 [t:8120441664]: no appid provided, using the latest one which id is 44352275\n",
      "[INFO] [12-26 14:34:33] oauth.py:301 [t:8120441664]: no appid provided, using the latest one which id is 44352275\n",
      "[INFO] [12-26 14:34:33] oauth.py:301 [t:8120441664]: no appid provided, using the latest one which id is 44352275\n",
      "[INFO] [12-26 14:34:33] oauth.py:301 [t:8120441664]: no appid provided, using the latest one which id is 44352275\n",
      "[INFO] [12-26 14:34:33] oauth.py:301 [t:8120441664]: no appid provided, using the latest one which id is 44352275\n",
      "[INFO] [12-26 14:34:33] oauth.py:301 [t:8120441664]: no appid provided, using the latest one which id is 44352275\n",
      "[INFO] [12-26 14:34:33] oauth.py:301 [t:8120441664]: no appid provided, using the latest one which id is 44352275\n",
      "[INFO] [12-26 14:34:33] oauth.py:301 [t:8120441664]: no appid provided, using the latest one which id is 44352275\n",
      "[INFO] [12-26 14:34:33] oauth.py:301 [t:8120441664]: no appid provided, using the latest one which id is 44352275\n",
      "[INFO] [12-26 14:34:33] oauth.py:301 [t:8120441664]: no appid provided, using the latest one which id is 44352275\n",
      "[INFO] [12-26 14:34:33] oauth.py:301 [t:8120441664]: no appid provided, using the latest one which id is 44352275\n",
      "[INFO] [12-26 14:34:33] oauth.py:301 [t:8120441664]: no appid provided, using the latest one which id is 44352275\n",
      "[INFO] [12-26 14:34:34] oauth.py:301 [t:8120441664]: no appid provided, using the latest one which id is 44352275\n",
      "[INFO] [12-26 14:34:34] oauth.py:301 [t:8120441664]: no appid provided, using the latest one which id is 44352275\n",
      "[ERROR] [12-26 14:34:34] openapi_requestor.py:110 [t:8120441664]: api request failed with error code: 18, err msg: Open api qps request limit reached, please check https://cloud.baidu.com/doc/WENXINWORKSHOP/s/tlmyncueh\n",
      "[WARNING] [12-26 14:34:34] base.py:424 [t:8120441664]: got error code 18 from server, retrying... count: 0\n",
      "[ERROR] [12-26 14:34:34] openapi_requestor.py:110 [t:8120441664]: api request failed with error code: 18, err msg: Open api qps request limit reached, please check https://cloud.baidu.com/doc/WENXINWORKSHOP/s/tlmyncueh\n",
      "[WARNING] [12-26 14:34:34] base.py:424 [t:8120441664]: got error code 18 from server, retrying... count: 0\n",
      "[ERROR] [12-26 14:34:34] openapi_requestor.py:110 [t:8120441664]: api request failed with error code: 18, err msg: Open api qps request limit reached, please check https://cloud.baidu.com/doc/WENXINWORKSHOP/s/tlmyncueh\n",
      "[WARNING] [12-26 14:34:34] base.py:424 [t:8120441664]: got error code 18 from server, retrying... count: 0\n",
      "[ERROR] [12-26 14:34:34] openapi_requestor.py:110 [t:8120441664]: api request failed with error code: 18, err msg: Open api qps request limit reached, please check https://cloud.baidu.com/doc/WENXINWORKSHOP/s/tlmyncueh\n",
      "[WARNING] [12-26 14:34:34] base.py:424 [t:8120441664]: got error code 18 from server, retrying... count: 0\n",
      "[ERROR] [12-26 14:34:46] openapi_requestor.py:110 [t:8120441664]: api request failed with error code: 18, err msg: Open api qps request limit reached, please check https://cloud.baidu.com/doc/WENXINWORKSHOP/s/tlmyncueh\n",
      "[WARNING] [12-26 14:34:46] base.py:424 [t:8120441664]: got error code 18 from server, retrying... count: 0\n",
      "[INFO] [12-26 14:34:54] dataset.py:1701 [t:8120441664]: 数据 0 的第 1 片回包请求响应时延: 9.91669949144125e-05, 传输完成时延: 0.4361692911479622\n",
      "[INFO] [12-26 14:34:54] dataset.py:1701 [t:8120441664]: 数据 1 的第 1 片回包请求响应时延: 0.00023029185831546783, 传输完成时延: 13.562330374959856\n",
      "[INFO] [12-26 14:34:54] dataset.py:1701 [t:8120441664]: 数据 2 的第 1 片回包请求响应时延: 0.0001822090707719326, 传输完成时延: 3.2577857091091573\n",
      "[INFO] [12-26 14:34:54] dataset.py:1701 [t:8120441664]: 数据 3 的第 1 片回包请求响应时延: 6.087496876716614e-05, 传输完成时延: 3.044143709121272\n",
      "[INFO] [12-26 14:34:54] dataset.py:1701 [t:8120441664]: 数据 4 的第 1 片回包请求响应时延: 0.000212125014513731, 传输完成时延: 6.462688042083755\n",
      "[INFO] [12-26 14:34:54] dataset.py:1701 [t:8120441664]: 数据 5 的第 1 片回包请求响应时延: 9.037507697939873e-05, 传输完成时延: 17.96569495811127\n",
      "[INFO] [12-26 14:34:54] dataset.py:1701 [t:8120441664]: 数据 6 的第 1 片回包请求响应时延: 9.608292020857334e-05, 传输完成时延: 1.5345318329054862\n",
      "[INFO] [12-26 14:34:54] dataset.py:1701 [t:8120441664]: 数据 7 的第 1 片回包请求响应时延: 0.0001805000938475132, 传输完成时延: 11.2599307091441\n",
      "[INFO] [12-26 14:34:54] dataset.py:1701 [t:8120441664]: 数据 8 的第 1 片回包请求响应时延: 0.000124374870210886, 传输完成时延: 9.617378416936845\n",
      "[INFO] [12-26 14:34:54] dataset.py:1701 [t:8120441664]: 数据 9 的第 1 片回包请求响应时延: 0.00027716602198779583, 传输完成时延: 17.02750320895575\n",
      "[INFO] [12-26 14:34:54] dataset.py:1701 [t:8120441664]: 数据 10 的第 1 片回包请求响应时延: 0.00019141682423651218, 传输完成时延: 1.4084208749700338\n",
      "[INFO] [12-26 14:34:54] dataset.py:1701 [t:8120441664]: 数据 11 的第 1 片回包请求响应时延: 0.00021766708232462406, 传输完成时延: 13.772446250077337\n",
      "[INFO] [12-26 14:34:54] dataset.py:1701 [t:8120441664]: 数据 12 的第 1 片回包请求响应时延: 0.00010100007057189941, 传输完成时延: 4.0809381660074\n",
      "[INFO] [12-26 14:34:54] dataset.py:1701 [t:8120441664]: 数据 13 的第 1 片回包请求响应时延: 0.00014937506057322025, 传输完成时延: 13.38427250017412\n",
      "[INFO] [12-26 14:34:54] dataset.py:1701 [t:8120441664]: 数据 14 的第 1 片回包请求响应时延: 9.195809252560139e-05, 传输完成时延: 15.08111112494953\n",
      "[INFO] [12-26 14:34:54] dataset.py:1701 [t:8120441664]: 数据 15 的第 1 片回包请求响应时延: 9.766686707735062e-05, 传输完成时延: 6.732011415995657\n",
      "[INFO] [12-26 14:34:54] dataset.py:1701 [t:8120441664]: 数据 16 的第 1 片回包请求响应时延: 4.337495192885399e-05, 传输完成时延: 6.044348082970828\n",
      "[INFO] [12-26 14:34:54] dataset.py:1701 [t:8120441664]: 数据 17 的第 1 片回包请求响应时延: 0.0002174580004066229, 传输完成时延: 14.257962542120367\n",
      "[INFO] [12-26 14:34:54] dataset.py:1701 [t:8120441664]: 数据 18 的第 1 片回包请求响应时延: 0.0005506670568138361, 传输完成时延: 5.014207749860361\n",
      "[INFO] [12-26 14:34:54] dataset.py:1701 [t:8120441664]: 数据 19 的第 1 片回包请求响应时延: 0.00021900003775954247, 传输完成时延: 16.790142458863556\n",
      "[INFO] [12-26 14:34:54] dataset.py:1701 [t:8120441664]: 数据 20 的第 1 片回包请求响应时延: 0.00013729184865951538, 传输完成时延: 11.54624329204671\n",
      "[INFO] [12-26 14:34:54] dataset.py:1701 [t:8120441664]: 数据 21 的第 1 片回包请求响应时延: 0.0002012921031564474, 传输完成时延: 2.7028473331592977\n",
      "[INFO] [12-26 14:34:54] dataset.py:1701 [t:8120441664]: 数据 22 的第 1 片回包请求响应时延: 0.00024916697293519974, 传输完成时延: 17.779967457987368\n",
      "[INFO] [12-26 14:34:54] dataset.py:1701 [t:8120441664]: 数据 23 的第 1 片回包请求响应时延: 0.00015258393250405788, 传输完成时延: 1.6021012079436332\n",
      "[INFO] [12-26 14:34:54] dataset.py:1701 [t:8120441664]: 数据 24 的第 1 片回包请求响应时延: 0.0002265418879687786, 传输完成时延: 3.7688526250422\n",
      "[INFO] [12-26 14:34:54] dataset.py:1701 [t:8120441664]: 数据 25 的第 1 片回包请求响应时延: 0.0001652499195188284, 传输完成时延: 17.888612792128697\n",
      "[INFO] [12-26 14:34:54] dataset.py:1701 [t:8120441664]: 数据 26 的第 1 片回包请求响应时延: 0.0002323330845683813, 传输完成时延: 2.4081481248140335\n",
      "[INFO] [12-26 14:34:54] dataset.py:1701 [t:8120441664]: 数据 27 的第 1 片回包请求响应时延: 0.00016958406195044518, 传输完成时延: 18.44272620906122\n",
      "[INFO] [12-26 14:34:54] dataset.py:1701 [t:8120441664]: 数据 28 的第 1 片回包请求响应时延: 0.00014483300037682056, 传输完成时延: 15.42698054201901\n",
      "[INFO] [12-26 14:34:54] dataset.py:1701 [t:8120441664]: 数据 29 的第 1 片回包请求响应时延: 7.612491026520729e-05, 传输完成时延: 1.231050250120461\n",
      "[INFO] [12-26 14:34:54] dataset.py:1701 [t:8120441664]: 数据 30 的第 1 片回包请求响应时延: 6.183399818837643e-05, 传输完成时延: 9.625307583017275\n",
      "[INFO] [12-26 14:34:54] dataset.py:1701 [t:8120441664]: 数据 31 的第 1 片回包请求响应时延: 0.00011616712436079979, 传输完成时延: 4.094993165927008\n",
      "[INFO] [12-26 14:34:54] dataset.py:1701 [t:8120441664]: 数据 32 的第 1 片回包请求响应时延: 0.00018983311019837856, 传输完成时延: 5.233883083099499\n",
      "[INFO] [12-26 14:34:54] dataset.py:1701 [t:8120441664]: 数据 33 的第 1 片回包请求响应时延: 0.00015724985860288143, 传输完成时延: 7.552518415963277\n",
      "[INFO] [12-26 14:34:54] dataset.py:1701 [t:8120441664]: 数据 34 的第 1 片回包请求响应时延: 0.00015262491069734097, 传输完成时延: 6.161027333931997\n",
      "[INFO] [12-26 14:34:54] dataset.py:1701 [t:8120441664]: 数据 35 的第 1 片回包请求响应时延: 0.00010516704060137272, 传输完成时延: 9.624755625147372\n",
      "[INFO] [12-26 14:34:54] dataset.py:1701 [t:8120441664]: 数据 36 的第 1 片回包请求响应时延: 0.00015070918016135693, 传输完成时延: 14.057984250131994\n",
      "[INFO] [12-26 14:34:54] dataset.py:1701 [t:8120441664]: 数据 37 的第 1 片回包请求响应时延: 0.00030754110775887966, 传输完成时延: 7.006263750139624\n",
      "[INFO] [12-26 14:34:54] dataset.py:1701 [t:8120441664]: 数据 38 的第 1 片回包请求响应时延: 0.0002348748967051506, 传输完成时延: 4.695738459005952\n",
      "[INFO] [12-26 14:34:54] dataset.py:1701 [t:8120441664]: 数据 39 的第 1 片回包请求响应时延: 0.00015104212798178196, 传输完成时延: 12.560483541805297\n",
      "[INFO] [12-26 14:34:54] dataset.py:1701 [t:8120441664]: 数据 40 的第 1 片回包请求响应时延: 5.941605195403099e-05, 传输完成时延: 15.110301333013922\n",
      "[INFO] [12-26 14:34:54] dataset.py:1701 [t:8120441664]: 数据 41 的第 1 片回包请求响应时延: 0.0002359999343752861, 传输完成时延: 16.668715792009607\n",
      "[INFO] [12-26 14:34:54] dataset.py:1701 [t:8120441664]: 数据 42 的第 1 片回包请求响应时延: 0.00011183391325175762, 传输完成时延: 7.621081541990861\n",
      "[INFO] [12-26 14:34:54] dataset.py:1701 [t:8120441664]: 数据 43 的第 1 片回包请求响应时延: 0.00010037492029368877, 传输完成时延: 10.876424416899681\n",
      "[INFO] [12-26 14:34:54] dataset.py:1701 [t:8120441664]: 数据 44 的第 1 片回包请求响应时延: 9.945896454155445e-05, 传输完成时延: 9.244093832792714\n",
      "[INFO] [12-26 14:34:54] dataset.py:1701 [t:8120441664]: 数据 45 的第 1 片回包请求响应时延: 0.0005737920291721821, 传输完成时延: 12.409634459065273\n",
      "[INFO] [12-26 14:34:54] dataset.py:1701 [t:8120441664]: 数据 46 的第 1 片回包请求响应时延: 0.00010912492871284485, 传输完成时延: 6.27830308303237\n",
      "[INFO] [12-26 14:34:54] dataset.py:1701 [t:8120441664]: 数据 47 的第 1 片回包请求响应时延: 0.0001657919492572546, 传输完成时延: 5.84002795885317\n",
      "[INFO] [12-26 14:34:54] dataset.py:1701 [t:8120441664]: 数据 48 的第 1 片回包请求响应时延: 9.612506255507469e-05, 传输完成时延: 8.757093333173543\n",
      "[INFO] [12-26 14:34:54] dataset.py:1701 [t:8120441664]: 数据 49 的第 1 片回包请求响应时延: 0.00016129203140735626, 传输完成时延: 18.377021124819294\n",
      "[INFO] [12-26 14:34:54] dataset.py:1701 [t:8120441664]: 数据 50 的第 1 片回包请求响应时延: 0.0002345831599086523, 传输完成时延: 13.18480695784092\n",
      "[INFO] [12-26 14:34:54] dataset.py:1701 [t:8120441664]: 数据 51 的第 1 片回包请求响应时延: 0.0001538340002298355, 传输完成时延: 7.514169542118907\n",
      "[INFO] [12-26 14:34:54] dataset.py:1701 [t:8120441664]: 数据 52 的第 1 片回包请求响应时延: 0.0001559578813612461, 传输完成时延: 15.129992125090212\n",
      "[INFO] [12-26 14:34:54] dataset.py:1701 [t:8120441664]: 数据 53 的第 1 片回包请求响应时延: 0.0001790828537195921, 传输完成时延: 16.82620899984613\n",
      "[INFO] [12-26 14:34:54] dataset.py:1701 [t:8120441664]: 数据 54 的第 1 片回包请求响应时延: 8.050003089010715e-05, 传输完成时延: 8.717674875166267\n",
      "[INFO] [12-26 14:34:54] dataset.py:1701 [t:8120441664]: 数据 55 的第 1 片回包请求响应时延: 0.00021658302284777164, 传输完成时延: 14.968403583858162\n",
      "[INFO] [12-26 14:34:54] dataset.py:1701 [t:8120441664]: 数据 56 的第 1 片回包请求响应时延: 0.00018400000408291817, 传输完成时延: 12.881917499937117\n",
      "[INFO] [12-26 14:34:54] dataset.py:1701 [t:8120441664]: 数据 57 的第 1 片回包请求响应时延: 0.00014804210513830185, 传输完成时延: 7.2754291670862585\n",
      "[INFO] [12-26 14:34:54] dataset.py:1701 [t:8120441664]: 数据 58 的第 1 片回包请求响应时延: 0.00025637494400143623, 传输完成时延: 0.8645364588592201\n",
      "[INFO] [12-26 14:34:54] dataset.py:1701 [t:8120441664]: 数据 59 的第 1 片回包请求响应时延: 0.00010895892046391964, 传输完成时延: 8.992438541958109\n",
      "[INFO] [12-26 14:34:54] dataset.py:1701 [t:8120441664]: 数据 60 的第 1 片回包请求响应时延: 0.0002785839606076479, 传输完成时延: 12.780613125069067\n",
      "[INFO] [12-26 14:34:54] dataset.py:1701 [t:8120441664]: 数据 61 的第 1 片回包请求响应时延: 0.0002348329871892929, 传输完成时延: 12.55254629207775\n",
      "[INFO] [12-26 14:34:54] dataset.py:1701 [t:8120441664]: 数据 62 的第 1 片回包请求响应时延: 0.00027183303609490395, 传输完成时延: 6.987949332920834\n",
      "[INFO] [12-26 14:34:54] dataset.py:1701 [t:8120441664]: 数据 63 的第 1 片回包请求响应时延: 0.0002946250606328249, 传输完成时延: 9.742287250002846\n",
      "[INFO] [12-26 14:34:54] dataset.py:1701 [t:8120441664]: 数据 64 的第 1 片回包请求响应时延: 0.0001487499102950096, 传输完成时延: 20.973076042020693\n",
      "[INFO] [12-26 14:34:54] dataset.py:1701 [t:8120441664]: 数据 65 的第 1 片回包请求响应时延: 0.0002338751219213009, 传输完成时延: 5.578192416811362\n",
      "[INFO] [12-26 14:34:54] dataset.py:1701 [t:8120441664]: 数据 66 的第 1 片回包请求响应时延: 0.0001752499956637621, 传输完成时延: 17.036143124802038\n",
      "[INFO] [12-26 14:34:54] dataset.py:1701 [t:8120441664]: 数据 67 的第 1 片回包请求响应时延: 7.333303801715374e-05, 传输完成时延: 3.088283999823034\n",
      "[INFO] [12-26 14:34:54] dataset.py:1701 [t:8120441664]: 数据 68 的第 1 片回包请求响应时延: 0.00021425005979835987, 传输完成时延: 11.216906207846478\n",
      "[INFO] [12-26 14:34:54] dataset.py:1701 [t:8120441664]: 数据 69 的第 1 片回包请求响应时延: 0.000171333784237504, 传输完成时延: 14.13872450008057\n",
      "[INFO] [12-26 14:34:54] dataset.py:1701 [t:8120441664]: 数据 70 的第 1 片回包请求响应时延: 0.0001682080328464508, 传输完成时延: 16.02978099999018\n",
      "[INFO] [12-26 14:34:54] dataset.py:1701 [t:8120441664]: 数据 71 的第 1 片回包请求响应时延: 0.00022933399304747581, 传输完成时延: 18.18830620800145\n",
      "[INFO] [12-26 14:34:54] dataset.py:1701 [t:8120441664]: 数据 72 的第 1 片回包请求响应时延: 0.0001812500413507223, 传输完成时延: 11.544364209054038\n",
      "[INFO] [12-26 14:34:54] dataset.py:1701 [t:8120441664]: 数据 73 的第 1 片回包请求响应时延: 0.00014925003051757812, 传输完成时延: 7.3352779999841005\n",
      "[INFO] [12-26 14:34:54] dataset.py:1701 [t:8120441664]: 数据 74 的第 1 片回包请求响应时延: 0.00022395816631615162, 传输完成时延: 12.315069500124082\n",
      "[INFO] [12-26 14:34:54] dataset.py:1701 [t:8120441664]: 数据 75 的第 1 片回包请求响应时延: 0.0002524580340832472, 传输完成时延: 11.943211582954973\n",
      "[INFO] [12-26 14:34:54] dataset.py:1701 [t:8120441664]: 数据 76 的第 1 片回包请求响应时延: 0.00015754206106066704, 传输完成时延: 20.286526583135128\n",
      "[INFO] [12-26 14:34:54] dataset.py:1701 [t:8120441664]: 数据 77 的第 1 片回包请求响应时延: 0.0028433750849217176, 传输完成时延: 8.151763750007376\n",
      "[INFO] [12-26 14:34:54] dataset.py:1701 [t:8120441664]: 数据 78 的第 1 片回包请求响应时延: 6.24998938292265e-05, 传输完成时延: 20.127325542038307\n",
      "[INFO] [12-26 14:34:54] dataset.py:1701 [t:8120441664]: 数据 79 的第 1 片回包请求响应时延: 0.00017341598868370056, 传输完成时延: 5.660947999916971\n",
      "[INFO] [12-26 14:34:54] dataset.py:1701 [t:8120441664]: 数据 80 的第 1 片回包请求响应时延: 0.00018366705626249313, 传输完成时延: 13.18093533301726\n",
      "[INFO] [12-26 14:34:54] dataset.py:1701 [t:8120441664]: 数据 81 的第 1 片回包请求响应时延: 0.0003766249865293503, 传输完成时延: 7.076771792024374\n",
      "[INFO] [12-26 14:34:54] dataset.py:1701 [t:8120441664]: 数据 82 的第 1 片回包请求响应时延: 0.00020150002092123032, 传输完成时延: 10.124220749828964\n",
      "[INFO] [12-26 14:34:54] dataset.py:1701 [t:8120441664]: 数据 83 的第 1 片回包请求响应时延: 0.00017608399502933025, 传输完成时延: 11.421311415964738\n",
      "[INFO] [12-26 14:34:54] dataset.py:1701 [t:8120441664]: 数据 84 的第 1 片回包请求响应时延: 0.00012091686949133873, 传输完成时延: 15.55511554190889\n",
      "[INFO] [12-26 14:34:54] dataset.py:1701 [t:8120441664]: 数据 85 的第 1 片回包请求响应时延: 0.00026520900428295135, 传输完成时延: 13.580984957981855\n"
     ]
    }
   ],
   "source": [
    "%pip install nest_asyncio\n",
    "import asyncio\n",
    "import nest_asyncio\n",
    "\n",
    "nest_asyncio.apply()\n",
    "\n",
    "result = asyncio.run(ds.atest_using_llm(service_endpoint=\"/chat/completions_pro\"))"
   ]
  },
  {
   "cell_type": "markdown",
   "metadata": {},
   "source": [
    "拿到的 `result` 对象也是一个 `Dataset` 对象，可以继续使用千帆 Python SDK 进行后续处理，或者直接保存到本地。"
   ]
  },
  {
   "cell_type": "code",
   "execution_count": 4,
   "metadata": {},
   "outputs": [
    {
     "name": "stderr",
     "output_type": "stream",
     "text": [
      "[INFO] [12-26 14:35:43] dataset.py:973 [t:8120441664]: list local dataset data by 0\n",
      "[INFO] [12-26 14:35:43] dataset.py:517 [t:8120441664]: no destination data source was provided, construct\n",
      "[INFO] [12-26 14:35:43] dataset.py:329 [t:8120441664]: construct a file data source from path: output_file.csv, with args: {'is_download_to_local': False}\n",
      "[INFO] [12-26 14:35:43] data_source.py:266 [t:8120441664]: use format type FormatType.Csv\n",
      "[INFO] [12-26 14:35:43] dataset.py:231 [t:8120441664]: export as format: FormatType.Csv\n"
     ]
    },
    {
     "name": "stdout",
     "output_type": "stream",
     "text": [
      "{'prompt': '地球的自转周期是多久？', 'input_prompt': '地球的自转周期是多久？', 'llm_output': '地球的自转周期是**23小时56分**。'}\n"
     ]
    },
    {
     "data": {
      "text/plain": [
       "True"
      ]
     },
     "execution_count": 4,
     "metadata": {},
     "output_type": "execute_result"
    }
   ],
   "source": [
    "print(result.list(0))\n",
    "      \n",
    "dataset_save_file_path = \"output_file.csv\"\n",
    "\n",
    "result.save(data_file=dataset_save_file_path)"
   ]
  },
  {
   "cell_type": "markdown",
   "metadata": {},
   "source": [
    "# 进阶能力\n",
    "\n",
    "在调用 `test_using_llm` 时，用户还可以传入一些额外参数来支持额外的功能，比如设置 Prompt 模板，设置人设字段，或者传入大模型调用时的超参数\n",
    "\n",
    "当进行的是非对话类推理时，用户可以传入 `prompt_template` 参数来传递一个 Prompt 模板。`prompt_template` 是一个千帆 Python SDK 的 `Prompt` 对象，用户可以通过设置 `Prompt` 对象的 `template` 成员来自定义被用于推理的模板，模板渲染出来的内容将会被作为最终输入提交给大模型。以示例数据集为例，我们可以这么指定一个模板："
   ]
  },
  {
   "cell_type": "code",
   "execution_count": null,
   "metadata": {},
   "outputs": [],
   "source": [
    "from qianfan.common import Prompt\n",
    "\n",
    "prompt = Prompt(template=\"请你就以下问题进行回答: {prompt}\")\n",
    "\n",
    "# 传递给函数\n",
    "result = ds.test_using_llm(service_model=\"ERNIE-Bot-4\", prompt_template=prompt)"
   ]
  },
  {
   "cell_type": "markdown",
   "metadata": {},
   "source": [
    "除此之外，用户还可以传入 `system_prompt` 参数来指定对话中大模型需要遵守的人设"
   ]
  },
  {
   "cell_type": "code",
   "execution_count": null,
   "metadata": {},
   "outputs": [],
   "source": [
    "result = ds.test_using_llm(service_model=\"ERNIE-Bot-4\", system_prompt=\"人设 prompt\")"
   ]
  },
  {
   "cell_type": "markdown",
   "metadata": {},
   "source": [
    "用户在进行批量推理时，还可以直接在 test_using_llm 中传入模型支持的超参数，例如我们可以这么设置模型的 `temperature` :"
   ]
  },
  {
   "cell_type": "code",
   "execution_count": null,
   "metadata": {},
   "outputs": [],
   "source": [
    "result = ds.test_using_llm(service_model=\"ERNIE-Bot-4\", system_prompt=\"人设 prompt\", temperature=0.1)"
   ]
  }
 ],
 "metadata": {
  "kernelspec": {
   "display_name": "bce-qianfan-sdk",
   "language": "python",
   "name": "python3"
  },
  "language_info": {
   "codemirror_mode": {
    "name": "ipython",
    "version": 3
   },
   "file_extension": ".py",
   "mimetype": "text/x-python",
   "name": "python",
   "nbconvert_exporter": "python",
   "pygments_lexer": "ipython3",
   "version": "3.10.13"
  }
 },
 "nbformat": 4,
 "nbformat_minor": 2
}
